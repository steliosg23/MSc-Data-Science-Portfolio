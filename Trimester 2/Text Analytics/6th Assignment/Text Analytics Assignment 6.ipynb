{
 "cells": [
  {
   "cell_type": "markdown",
   "metadata": {
    "id": "NsrfvyxuRE5b"
   },
   "source": [
    "# Exercise: Fine-Tuning a Pre-trained BERT Model for Sentiment Classification\n",
    "\n",
    "1. **Fine-tuning a Pre-trained BERT Model**  \n",
    "   Repeat Exercise 2 of Part 5 (sentiment classifier), by fine-tuning a pre-trained BERT model.\n",
    "   - Tune the hyper-parameters (e.g., sizes of any task-specific layers on top of BERT, number of BERT encoder blocks to keep frozen) on the development subset of your dataset.\n",
    "   - Monitor the performance of your models on the development subset during training to decide how many epochs to use.\n",
    "   - If the texts of your experiments exceed BERT’s maximum length limit, you may want to truncate them at the maximum allowed length of BERT or use a BERT-like model that can handle longer texts (e.g., Longformer).\n",
    "\n",
    "2. **Experimental Results**  \n",
    "   - Include experimental results of a baseline majority classifier, as well as experimental results of your best classifiers from Exercise 15 of Part 2, Exercise 9 of Part 3, Exercise 1 of Part 4, Exercise 2 of Part 5, now treated as additional baselines.\n",
    "   - Otherwise, the contents of your report should be as in Exercise 2 of Part 5, but now with information and results for the experiments of this exercise.\n",
    "\n",
    "3. **Optional Bonus: Test Set Results**  \n",
    "   - You may optionally include (for extra bonus) indicative experimental results on a small subset of the test set (e.g., 10 test examples) obtained by prompting an LLM (e.g., Chat-GPT), using appropriate instructions and possibly including few-shot examples (demonstrators).\n"
   ]
  },
  {
   "cell_type": "markdown",
   "metadata": {
    "id": "7FC-i7VoaJGH"
   },
   "source": [
    "## Import Libraries"
   ]
  },
  {
   "cell_type": "code",
   "execution_count": null,
   "metadata": {
    "colab": {
     "base_uri": "https://localhost:8080/"
    },
    "id": "_l55A3lyKZ_c",
    "outputId": "af171ffd-687d-4b1b-9ba6-a9c61d9c12e1"
   },
   "outputs": [
    {
     "name": "stdout",
     "output_type": "stream",
     "text": [
      "Mounted at /content/drive\n"
     ]
    }
   ],
   "source": [
    "from google.colab import drive\n",
    "drive.mount('/content/drive',force_remount=True)\n"
   ]
  },
  {
   "cell_type": "code",
   "execution_count": null,
   "metadata": {
    "id": "Iej1r6NkaOIX"
   },
   "outputs": [],
   "source": [
    "import torch\n",
    "import torch.nn as nn\n",
    "import torch.optim as optim\n",
    "import re\n",
    "import gensim.downloader as api\n",
    "import matplotlib.pyplot as plt\n",
    "import numpy as np\n",
    "from torch.utils.data import DataLoader, Dataset\n",
    "from sklearn.feature_extraction.text import CountVectorizer\n",
    "from sklearn.metrics import accuracy_score, precision_score, recall_score, f1_score\n",
    "from sklearn.model_selection import train_test_split\n"
   ]
  },
  {
   "cell_type": "markdown",
   "metadata": {
    "id": "Qa7iPVGNaOum"
   },
   "source": [
    "## Assert whether ``PyTorch`` can use an available GPU card"
   ]
  },
  {
   "cell_type": "markdown",
   "metadata": {
    "id": "bONYe662ceUO"
   },
   "source": [
    "## Creating a Dataset\n",
    "\n",
    "We will use the ``Dataset`` class from ``PyTorch`` to handle the text data. We will pad the text sequences with $0$ to a pre-defined length (the average number of tokens in the training split)."
   ]
  },
  {
   "cell_type": "code",
   "execution_count": null,
   "metadata": {
    "colab": {
     "base_uri": "https://localhost:8080/"
    },
    "id": "WXbOMn8RZCvE",
    "outputId": "ed2fc979-909d-4b6d-d093-59d00950f4a0"
   },
   "outputs": [
    {
     "name": "stdout",
     "output_type": "stream",
     "text": [
      "Using device: cuda\n"
     ]
    },
    {
     "data": {
      "text/plain": [
       "True"
      ]
     },
     "execution_count": 4,
     "metadata": {},
     "output_type": "execute_result"
    }
   ],
   "source": [
    "import torch\n",
    "import torch.nn as nn\n",
    "import torch.optim as optim\n",
    "import numpy as np\n",
    "import pandas as pd\n",
    "import re\n",
    "from sklearn.model_selection import train_test_split\n",
    "from sklearn.metrics import precision_recall_curve, auc, classification_report\n",
    "from sklearn.dummy import DummyClassifier\n",
    "from sklearn.linear_model import LogisticRegression\n",
    "from sklearn.feature_extraction.text import TfidfVectorizer\n",
    "from torch.utils.data import DataLoader, TensorDataset\n",
    "import gensim.downloader as api\n",
    "import matplotlib.pyplot as plt\n",
    "import re\n",
    "import nltk\n",
    "from nltk.tokenize import word_tokenize\n",
    "from tqdm import tqdm\n",
    "\n",
    "# Check if CUDA is available\n",
    "device = torch.device(\"cuda\" if torch.cuda.is_available() else \"cpu\")\n",
    "print(f\"Using device: {device}\")\n",
    "\n",
    "# Download necessary NLTK data\n",
    "nltk.download('punkt')\n",
    "nltk.download('punkt_tab')"
   ]
  },
  {
   "cell_type": "code",
   "execution_count": null,
   "metadata": {
    "id": "8OzajIu8qum4"
   },
   "outputs": [],
   "source": [
    "df_fake = pd.read_csv(\"/content/drive/MyDrive/Colab Notebooks/Text Analytics Assignment 2/Dataset/Fake.csv\")\n",
    "df_true = pd.read_csv(\"/content/drive/MyDrive/Colab Notebooks/Text Analytics Assignment 2/Dataset/True.csv\")\n"
   ]
  },
  {
   "cell_type": "code",
   "execution_count": null,
   "metadata": {
    "id": "6tZbMTxUroZY"
   },
   "outputs": [],
   "source": [
    "df_fake[\"label\"] = 1\n",
    "df_true[\"label\"] = 0"
   ]
  },
  {
   "cell_type": "code",
   "execution_count": null,
   "metadata": {
    "colab": {
     "base_uri": "https://localhost:8080/",
     "height": 363
    },
    "id": "RvGM3WIqsB9Y",
    "outputId": "f314b9ce-22f0-4ab6-f50f-4e050beb0ac2"
   },
   "outputs": [
    {
     "data": {
      "application/vnd.google.colaboratory.intrinsic+json": {
       "summary": "{\n  \"name\": \"df_merge\",\n  \"rows\": 44898,\n  \"fields\": [\n    {\n      \"column\": \"title\",\n      \"properties\": {\n        \"dtype\": \"string\",\n        \"num_unique_values\": 38729,\n        \"samples\": [\n          \"Supreme Court Justice Ginsburg 'regrets' Trump criticisms\",\n          \" DOZENS Of GOP Foreign Policy Experts Pledge To Stop Trump From Winning Nomination\",\n          \" REPORT: Trump Laughed After Woman Was Grabbed \\u2018By The P*ssy\\u2019 On Apprentice Set\"\n        ],\n        \"semantic_type\": \"\",\n        \"description\": \"\"\n      }\n    },\n    {\n      \"column\": \"text\",\n      \"properties\": {\n        \"dtype\": \"string\",\n        \"num_unique_values\": 38646,\n        \"samples\": [\n          \" (This September 29 has been corrected to fix date of election in paragraph 3) NAIROBI (Reuters) - A Kenyan government watchdog said on Friday it was investigating whether police had assaulted students during protests this week at the University of Nairobi over the detention of an opposition lawmaker.   Police fired tear gas on Thursday at the protesting students. Video footage posted on social media later in the day showed uniformed officers outside dormitories and inside classrooms using batons to hit people who did not appear to be involved in the campus protests.  It was the latest crackdown by police on protests since an Aug. 8 presidential election that was later annulled by the Supreme Court. A re-run of the vote has been set for Oct. 26. The Independent Police Oversight Authority (IPOA)  this morning noted from social media reports of an incident in which members of the National Police Service allegedly stormed the University of Nairobi and assaulted students at the institution,  the authority said on its Twitter feed.  It requested that any member of the public come forward to provide information to aid the investigation.  The students had been protesting against the re-arrest of a lawmaker, Paul Ongili Owino, on Wednesday, shortly after he was released on bail on charges of subversion for calling President Uhuru Kenyatta a  son of a dog  at a campaign rally. Kenya is a key Western ally in a region often roiled by violence. Preparations for the re-run of the election are being closely monitored for signs of instability, after at least 28 people were killed in unrest following the Aug. 8 vote. The IPOA watchdog was created in 2011, after police came under severe criticism for the number of protesters killed during demonstrations against disputed elections in 2007. The violence then killed around 1,2000 people. But local and international rights groups say the institution is struggling to fulfill its mandate to investigate allegations of police brutality in a country rife with reports from civilians of extrajudicial killings by security forces.  The IPOA has secured two convictions of police officers in the four years it has been operational. The watchdog pledged last month to fast-track investigations into high-profile deaths such as that of a baby allegedly killed by police in the violence after the election. [L4N1L34FC] But people familiar with the status of these investigations say the police are not cooperating with them, and that senior officials in the police force and the interior ministry insist officers killed only thieves and thugs. \",\n          \"WASHINGTON/CAIRO (Reuters) - Five Iraqi passengers and one Yemeni were barred from boarding an EgyptAir flight from Cairo to New York on Saturday after President Donald Trump halted the entry of citizens from seven Muslim-majority countries, sources at Cairo airport said. The passengers, arriving in transit to Cairo airport, were stopped and re-directed to flights headed for their home countries despite holding valid visas, the sources said.  Trump on Friday put a four-month hold on allowing refugees into the United States and temporarily barred travelers from Syria and six other Muslim-majority countries, saying the moves would help protect Americans from terrorist attacks. He said his most sweeping use of his presidential powers since taking office a week ago, barring travelers from the seven nations for at least 90 days, would give his administration time to develop more stringent screening procedures for refugees, immigrants and visitors. \\u201cI\\u2019m establishing new vetting measures to keep radical Islamic terrorists out of the United States of America. Don\\u2019t want them here,\\u201d Trump said earlier on Friday at the Pentagon. \\u201cWe only want to admit those into our country who will support our country and love deeply our people,\\u201d he said. The bans, though temporary, took effect immediately, causing havoc and confusion for would-be travelers with passports from Iran, Iraq, Libya, Somalia, Sudan, Syria and Yemen. Besides Cairo it was not immediately clear whether other  airports of countries listed by Trump had swiftly implemented the ban. Arab officials of the listed countries would not comment on the matter. The order seeks to prioritize refugees fleeing religious persecution, a move Trump separately said was aimed at helping Christians in Syria. That led some legal experts to question whether the order was constitutional. One group said it would announce a court challenge on Monday. The Council on American-Islamic Relations said the order targets Muslims because of their faith, contravening the U.S. Constitutional right to freedom of religion. \\u201cPresident Trump has cloaked what is a discriminatory ban against nationals of Muslim countries under the banner of national security,\\u201d said Greg Chen of the American Immigration Lawyers Association.  Trump has long pledged to take this kind of action, making it a prominent feature of his campaign for the Nov. 8 election. But people who work with Muslim immigrants and refugees were scrambling to determine the scope of the order. Even legal permanent residents - people with \\u201cgreen cards\\u201d allowing them to live and work in the United States - were being advised to consult immigration lawyers before traveling outside the country, or trying to return, according to Muslim Advocates, a civil rights group in Washington.  On Friday evening, Abed Ayoub of the American-Arab Anti-Discrimination Committee said he had fielded about 100 queries from people anxious about the order, which he said he believed could affect traveling green card holders, students, people coming to the United States for medical care and others. \\u201cIt\\u2019s chaos,\\u201d Ayoub said. During his campaign, Trump tapped into American fears about Islamic State militants and the flood of migrants into Europe from Syria\\u2019s civil war, saying refugees could be a \\u201cTrojan horse\\u201d that allowed attackers to enter the United States. In December 2015, he called for a ban on all Muslims entering the United States, drawing fire for suggesting a religious test for immigrants that critics said would violate the U.S. Constitution. His idea later evolved into a proposal for \\u201cextreme vetting.\\u201d  Trump\\u2019s order also suspends the Syrian refugee program until further notice, and will eventually give priority to minority religious groups fleeing persecution.  Trump said in an interview with the Christian Broadcasting Network that the exception would help Syrian Christians fleeing the civil war there. Legal experts were divided on whether this order would be constitutional. \\u201cIf they are thinking about an exception for Christians, in almost any other legal context discriminating in favor of one religion and against another religion could violate the constitution,\\u201d said Stephen Legomsky, a former chief counsel at U.S. Citizenship and Immigration Services in the Obama administration. But Peter Spiro, a professor at Temple University Beasley School of Law, said Trump\\u2019s action would likely be constitutional because the president and Congress are allowed considerable deference when it comes to asylum decisions. \\u201cIt\\u2019s a completely plausible prioritization, to the extent this group is actually being persecuted,\\u201d Spiro said. The order may also affect special refugee programs for Iraqis who worked for the U.S. government as translators after the 2003 invasion of Iraq. It is already affecting refugees and their families, said Jen Smyers of the Church World Service, a Protestant faith-based group that works with migrants. Smyers said she spoke to an Iraqi mother whose twin daughters remain in Iraq due to processing delays. \\u201cThose two 18-year-old daughters won\\u2019t be able to join their mother in the U.S.,\\u201d she said. Democrats on Friday were quick to condemn Trump\\u2019s order as un-American, saying it would tarnish the reputation of the United States as a land that welcomes immigrants. \\u201cToday\\u2019s executive order from President Trump is more about extreme xenophobia than extreme vetting,\\u201d said Democratic Senator Edward Markey in a statement. Some Republicans praised the move. Representative Bob Goodlatte, chairman of the House of Representatives Judiciary Committee, said Islamic State has threatened to use the U.S. immigration system, making it important to do more screening. \\u201cI am pleased that President Trump is using the tools granted to him by Congress and the power granted by the Constitution to help keep America safe and ensure we know who is entering the United States,\\u201d Goodlatte said in a statement. Without naming Trump, Iranian President Hassan Rouhani said on Saturday it was no time to build walls between nations and criticized steps towards cancelling world trade agreements. Trump on Wednesday ordered the construction of a U.S.-Mexican border wall, a major promise during his election campaign, as part of a package of measures to curb illegal immigration. \\u201cToday is not the time to erect walls between nations. They have forgotten that the Berlin wall fell years ago,\\u201d Rouhani said in a speech carried live on Iranian state television. He made no direct reference to Trump\\u2019s order regarding refugees and travelers from the seven mainly Muslim states. Rouhani, a pragmatist elected in 2013, thawed Iran\\u2019s relations with world powers after years of confrontation and engineered its 2015 deal with them under which it curbed its nuclear program in exchange for relief from sanctions. Rouhani said earlier this month that Trump could not unilaterally cancel the nuclear deal and that talk of renegotiating it was \\u201cmeaningless\\u201d. France and Germany voiced disquiet on Saturday over Trump\\u2019s new restrictions on immigration. \\u201cWelcoming refugees who flee war and oppression is part of our duty,\\u201d French Foreign Minister Jean-Marc Ayrault said at a joint news conference with German counterpart Sigmar Gabriel. \\u201cThe United States is a country where Christian traditions have an important meaning. Loving your neighbor is a major Christian value, and that includes helping people,\\u201d said  Gabriel. \\u201cI think that is what unites us in the West, and I think that is what we want to make clear to the Americans.\\u201d \",\n          \"PRISTINA (Reuters) - Kosovo s center-right coalition led by the Democratic Party of Kosovo signed a deal on Monday with the small New Alliance for Kosovo party to form a government, ending nearly three months of political deadlock after an election on June 11.      Finally Kosovo has started to move ... we had some big delays and our institutions now will be formed,  said Ramush Haradinaj, from the center-right coalition of parties made up of former guerrillas who fought the 1998-99 war against Serb forces. Under the deal, the parties along with ethnic minorities will secure 63 seats in the 120-seat parliament.  President Hashim Thaci is expected to give Haradinaj a mandate to form the government within days. A source who asked not to be named told Reuters the parliament session to elect the parliament speaker would be held this week. Haradinaj, who twice stood trial before the United Nations war crimes court for war crimes and was acquitted, briefly held the post of prime minister in 2005.  The smaller New Alliance for Kosovo party is led by Behgjet Pacolli, who is dubbed by media the richest Kosovar.  Pacolli, who also holds a Swiss passport, won many contracts from the Russian government to rebuild state buildings in Moscow in the  90s but a decade ago he moved his business from Moscow to Kazakhstan.  It is unclear what post Pacolli will hold in the new government.  The new government will have to tackle unemployment running at 30 percent and improve relations with Kosovo s neighbors, especially Serbia, a precondition for both countries to move forward in the European Union accession process. It must also reform health and education and the tax administration system as well as include representatives of some 120,000 Kosovo Serbs who do not recognize independence. Kosovo declared independence from Serbia in 2008, almost a decade after NATO air strikes drove out Serbian forces accused of expelling and killing ethnic Albanian civilians in a two-year counter-insurgency.  \"\n        ],\n        \"semantic_type\": \"\",\n        \"description\": \"\"\n      }\n    },\n    {\n      \"column\": \"subject\",\n      \"properties\": {\n        \"dtype\": \"category\",\n        \"num_unique_values\": 8,\n        \"samples\": [\n          \"politics\",\n          \"Middle-east\",\n          \"News\"\n        ],\n        \"semantic_type\": \"\",\n        \"description\": \"\"\n      }\n    },\n    {\n      \"column\": \"date\",\n      \"properties\": {\n        \"dtype\": \"category\",\n        \"num_unique_values\": 2397,\n        \"samples\": [\n          \"October 6, 2016\",\n          \"June 10, 2017\",\n          \"Sep 13, 2015\"\n        ],\n        \"semantic_type\": \"\",\n        \"description\": \"\"\n      }\n    },\n    {\n      \"column\": \"label\",\n      \"properties\": {\n        \"dtype\": \"number\",\n        \"std\": 0,\n        \"min\": 0,\n        \"max\": 1,\n        \"num_unique_values\": 2,\n        \"samples\": [\n          0,\n          1\n        ],\n        \"semantic_type\": \"\",\n        \"description\": \"\"\n      }\n    }\n  ]\n}",
       "type": "dataframe",
       "variable_name": "df_merge"
      },
      "text/html": [
       "\n",
       "  <div id=\"df-233810e0-cdfc-4d69-934b-f7959b14b190\" class=\"colab-df-container\">\n",
       "    <div>\n",
       "<style scoped>\n",
       "    .dataframe tbody tr th:only-of-type {\n",
       "        vertical-align: middle;\n",
       "    }\n",
       "\n",
       "    .dataframe tbody tr th {\n",
       "        vertical-align: top;\n",
       "    }\n",
       "\n",
       "    .dataframe thead th {\n",
       "        text-align: right;\n",
       "    }\n",
       "</style>\n",
       "<table border=\"1\" class=\"dataframe\">\n",
       "  <thead>\n",
       "    <tr style=\"text-align: right;\">\n",
       "      <th></th>\n",
       "      <th>title</th>\n",
       "      <th>text</th>\n",
       "      <th>subject</th>\n",
       "      <th>date</th>\n",
       "      <th>label</th>\n",
       "    </tr>\n",
       "  </thead>\n",
       "  <tbody>\n",
       "    <tr>\n",
       "      <th>0</th>\n",
       "      <td>Donald Trump Sends Out Embarrassing New Year’...</td>\n",
       "      <td>Donald Trump just couldn t wish all Americans ...</td>\n",
       "      <td>News</td>\n",
       "      <td>December 31, 2017</td>\n",
       "      <td>1</td>\n",
       "    </tr>\n",
       "    <tr>\n",
       "      <th>1</th>\n",
       "      <td>Drunk Bragging Trump Staffer Started Russian ...</td>\n",
       "      <td>House Intelligence Committee Chairman Devin Nu...</td>\n",
       "      <td>News</td>\n",
       "      <td>December 31, 2017</td>\n",
       "      <td>1</td>\n",
       "    </tr>\n",
       "    <tr>\n",
       "      <th>2</th>\n",
       "      <td>Sheriff David Clarke Becomes An Internet Joke...</td>\n",
       "      <td>On Friday, it was revealed that former Milwauk...</td>\n",
       "      <td>News</td>\n",
       "      <td>December 30, 2017</td>\n",
       "      <td>1</td>\n",
       "    </tr>\n",
       "    <tr>\n",
       "      <th>3</th>\n",
       "      <td>Trump Is So Obsessed He Even Has Obama’s Name...</td>\n",
       "      <td>On Christmas day, Donald Trump announced that ...</td>\n",
       "      <td>News</td>\n",
       "      <td>December 29, 2017</td>\n",
       "      <td>1</td>\n",
       "    </tr>\n",
       "    <tr>\n",
       "      <th>4</th>\n",
       "      <td>Pope Francis Just Called Out Donald Trump Dur...</td>\n",
       "      <td>Pope Francis used his annual Christmas Day mes...</td>\n",
       "      <td>News</td>\n",
       "      <td>December 25, 2017</td>\n",
       "      <td>1</td>\n",
       "    </tr>\n",
       "    <tr>\n",
       "      <th>5</th>\n",
       "      <td>Racist Alabama Cops Brutalize Black Boy While...</td>\n",
       "      <td>The number of cases of cops brutalizing and ki...</td>\n",
       "      <td>News</td>\n",
       "      <td>December 25, 2017</td>\n",
       "      <td>1</td>\n",
       "    </tr>\n",
       "    <tr>\n",
       "      <th>6</th>\n",
       "      <td>Fresh Off The Golf Course, Trump Lashes Out A...</td>\n",
       "      <td>Donald Trump spent a good portion of his day a...</td>\n",
       "      <td>News</td>\n",
       "      <td>December 23, 2017</td>\n",
       "      <td>1</td>\n",
       "    </tr>\n",
       "    <tr>\n",
       "      <th>7</th>\n",
       "      <td>Trump Said Some INSANELY Racist Stuff Inside ...</td>\n",
       "      <td>In the wake of yet another court decision that...</td>\n",
       "      <td>News</td>\n",
       "      <td>December 23, 2017</td>\n",
       "      <td>1</td>\n",
       "    </tr>\n",
       "    <tr>\n",
       "      <th>8</th>\n",
       "      <td>Former CIA Director Slams Trump Over UN Bully...</td>\n",
       "      <td>Many people have raised the alarm regarding th...</td>\n",
       "      <td>News</td>\n",
       "      <td>December 22, 2017</td>\n",
       "      <td>1</td>\n",
       "    </tr>\n",
       "    <tr>\n",
       "      <th>9</th>\n",
       "      <td>WATCH: Brand-New Pro-Trump Ad Features So Muc...</td>\n",
       "      <td>Just when you might have thought we d get a br...</td>\n",
       "      <td>News</td>\n",
       "      <td>December 21, 2017</td>\n",
       "      <td>1</td>\n",
       "    </tr>\n",
       "  </tbody>\n",
       "</table>\n",
       "</div>\n",
       "    <div class=\"colab-df-buttons\">\n",
       "\n",
       "  <div class=\"colab-df-container\">\n",
       "    <button class=\"colab-df-convert\" onclick=\"convertToInteractive('df-233810e0-cdfc-4d69-934b-f7959b14b190')\"\n",
       "            title=\"Convert this dataframe to an interactive table.\"\n",
       "            style=\"display:none;\">\n",
       "\n",
       "  <svg xmlns=\"http://www.w3.org/2000/svg\" height=\"24px\" viewBox=\"0 -960 960 960\">\n",
       "    <path d=\"M120-120v-720h720v720H120Zm60-500h600v-160H180v160Zm220 220h160v-160H400v160Zm0 220h160v-160H400v160ZM180-400h160v-160H180v160Zm440 0h160v-160H620v160ZM180-180h160v-160H180v160Zm440 0h160v-160H620v160Z\"/>\n",
       "  </svg>\n",
       "    </button>\n",
       "\n",
       "  <style>\n",
       "    .colab-df-container {\n",
       "      display:flex;\n",
       "      gap: 12px;\n",
       "    }\n",
       "\n",
       "    .colab-df-convert {\n",
       "      background-color: #E8F0FE;\n",
       "      border: none;\n",
       "      border-radius: 50%;\n",
       "      cursor: pointer;\n",
       "      display: none;\n",
       "      fill: #1967D2;\n",
       "      height: 32px;\n",
       "      padding: 0 0 0 0;\n",
       "      width: 32px;\n",
       "    }\n",
       "\n",
       "    .colab-df-convert:hover {\n",
       "      background-color: #E2EBFA;\n",
       "      box-shadow: 0px 1px 2px rgba(60, 64, 67, 0.3), 0px 1px 3px 1px rgba(60, 64, 67, 0.15);\n",
       "      fill: #174EA6;\n",
       "    }\n",
       "\n",
       "    .colab-df-buttons div {\n",
       "      margin-bottom: 4px;\n",
       "    }\n",
       "\n",
       "    [theme=dark] .colab-df-convert {\n",
       "      background-color: #3B4455;\n",
       "      fill: #D2E3FC;\n",
       "    }\n",
       "\n",
       "    [theme=dark] .colab-df-convert:hover {\n",
       "      background-color: #434B5C;\n",
       "      box-shadow: 0px 1px 3px 1px rgba(0, 0, 0, 0.15);\n",
       "      filter: drop-shadow(0px 1px 2px rgba(0, 0, 0, 0.3));\n",
       "      fill: #FFFFFF;\n",
       "    }\n",
       "  </style>\n",
       "\n",
       "    <script>\n",
       "      const buttonEl =\n",
       "        document.querySelector('#df-233810e0-cdfc-4d69-934b-f7959b14b190 button.colab-df-convert');\n",
       "      buttonEl.style.display =\n",
       "        google.colab.kernel.accessAllowed ? 'block' : 'none';\n",
       "\n",
       "      async function convertToInteractive(key) {\n",
       "        const element = document.querySelector('#df-233810e0-cdfc-4d69-934b-f7959b14b190');\n",
       "        const dataTable =\n",
       "          await google.colab.kernel.invokeFunction('convertToInteractive',\n",
       "                                                    [key], {});\n",
       "        if (!dataTable) return;\n",
       "\n",
       "        const docLinkHtml = 'Like what you see? Visit the ' +\n",
       "          '<a target=\"_blank\" href=https://colab.research.google.com/notebooks/data_table.ipynb>data table notebook</a>'\n",
       "          + ' to learn more about interactive tables.';\n",
       "        element.innerHTML = '';\n",
       "        dataTable['output_type'] = 'display_data';\n",
       "        await google.colab.output.renderOutput(dataTable, element);\n",
       "        const docLink = document.createElement('div');\n",
       "        docLink.innerHTML = docLinkHtml;\n",
       "        element.appendChild(docLink);\n",
       "      }\n",
       "    </script>\n",
       "  </div>\n",
       "\n",
       "\n",
       "<div id=\"df-debbba8e-11a6-4bd3-936e-5f1b5261b3b5\">\n",
       "  <button class=\"colab-df-quickchart\" onclick=\"quickchart('df-debbba8e-11a6-4bd3-936e-5f1b5261b3b5')\"\n",
       "            title=\"Suggest charts\"\n",
       "            style=\"display:none;\">\n",
       "\n",
       "<svg xmlns=\"http://www.w3.org/2000/svg\" height=\"24px\"viewBox=\"0 0 24 24\"\n",
       "     width=\"24px\">\n",
       "    <g>\n",
       "        <path d=\"M19 3H5c-1.1 0-2 .9-2 2v14c0 1.1.9 2 2 2h14c1.1 0 2-.9 2-2V5c0-1.1-.9-2-2-2zM9 17H7v-7h2v7zm4 0h-2V7h2v10zm4 0h-2v-4h2v4z\"/>\n",
       "    </g>\n",
       "</svg>\n",
       "  </button>\n",
       "\n",
       "<style>\n",
       "  .colab-df-quickchart {\n",
       "      --bg-color: #E8F0FE;\n",
       "      --fill-color: #1967D2;\n",
       "      --hover-bg-color: #E2EBFA;\n",
       "      --hover-fill-color: #174EA6;\n",
       "      --disabled-fill-color: #AAA;\n",
       "      --disabled-bg-color: #DDD;\n",
       "  }\n",
       "\n",
       "  [theme=dark] .colab-df-quickchart {\n",
       "      --bg-color: #3B4455;\n",
       "      --fill-color: #D2E3FC;\n",
       "      --hover-bg-color: #434B5C;\n",
       "      --hover-fill-color: #FFFFFF;\n",
       "      --disabled-bg-color: #3B4455;\n",
       "      --disabled-fill-color: #666;\n",
       "  }\n",
       "\n",
       "  .colab-df-quickchart {\n",
       "    background-color: var(--bg-color);\n",
       "    border: none;\n",
       "    border-radius: 50%;\n",
       "    cursor: pointer;\n",
       "    display: none;\n",
       "    fill: var(--fill-color);\n",
       "    height: 32px;\n",
       "    padding: 0;\n",
       "    width: 32px;\n",
       "  }\n",
       "\n",
       "  .colab-df-quickchart:hover {\n",
       "    background-color: var(--hover-bg-color);\n",
       "    box-shadow: 0 1px 2px rgba(60, 64, 67, 0.3), 0 1px 3px 1px rgba(60, 64, 67, 0.15);\n",
       "    fill: var(--button-hover-fill-color);\n",
       "  }\n",
       "\n",
       "  .colab-df-quickchart-complete:disabled,\n",
       "  .colab-df-quickchart-complete:disabled:hover {\n",
       "    background-color: var(--disabled-bg-color);\n",
       "    fill: var(--disabled-fill-color);\n",
       "    box-shadow: none;\n",
       "  }\n",
       "\n",
       "  .colab-df-spinner {\n",
       "    border: 2px solid var(--fill-color);\n",
       "    border-color: transparent;\n",
       "    border-bottom-color: var(--fill-color);\n",
       "    animation:\n",
       "      spin 1s steps(1) infinite;\n",
       "  }\n",
       "\n",
       "  @keyframes spin {\n",
       "    0% {\n",
       "      border-color: transparent;\n",
       "      border-bottom-color: var(--fill-color);\n",
       "      border-left-color: var(--fill-color);\n",
       "    }\n",
       "    20% {\n",
       "      border-color: transparent;\n",
       "      border-left-color: var(--fill-color);\n",
       "      border-top-color: var(--fill-color);\n",
       "    }\n",
       "    30% {\n",
       "      border-color: transparent;\n",
       "      border-left-color: var(--fill-color);\n",
       "      border-top-color: var(--fill-color);\n",
       "      border-right-color: var(--fill-color);\n",
       "    }\n",
       "    40% {\n",
       "      border-color: transparent;\n",
       "      border-right-color: var(--fill-color);\n",
       "      border-top-color: var(--fill-color);\n",
       "    }\n",
       "    60% {\n",
       "      border-color: transparent;\n",
       "      border-right-color: var(--fill-color);\n",
       "    }\n",
       "    80% {\n",
       "      border-color: transparent;\n",
       "      border-right-color: var(--fill-color);\n",
       "      border-bottom-color: var(--fill-color);\n",
       "    }\n",
       "    90% {\n",
       "      border-color: transparent;\n",
       "      border-bottom-color: var(--fill-color);\n",
       "    }\n",
       "  }\n",
       "</style>\n",
       "\n",
       "  <script>\n",
       "    async function quickchart(key) {\n",
       "      const quickchartButtonEl =\n",
       "        document.querySelector('#' + key + ' button');\n",
       "      quickchartButtonEl.disabled = true;  // To prevent multiple clicks.\n",
       "      quickchartButtonEl.classList.add('colab-df-spinner');\n",
       "      try {\n",
       "        const charts = await google.colab.kernel.invokeFunction(\n",
       "            'suggestCharts', [key], {});\n",
       "      } catch (error) {\n",
       "        console.error('Error during call to suggestCharts:', error);\n",
       "      }\n",
       "      quickchartButtonEl.classList.remove('colab-df-spinner');\n",
       "      quickchartButtonEl.classList.add('colab-df-quickchart-complete');\n",
       "    }\n",
       "    (() => {\n",
       "      let quickchartButtonEl =\n",
       "        document.querySelector('#df-debbba8e-11a6-4bd3-936e-5f1b5261b3b5 button');\n",
       "      quickchartButtonEl.style.display =\n",
       "        google.colab.kernel.accessAllowed ? 'block' : 'none';\n",
       "    })();\n",
       "  </script>\n",
       "</div>\n",
       "\n",
       "    </div>\n",
       "  </div>\n"
      ],
      "text/plain": [
       "                                               title  \\\n",
       "0   Donald Trump Sends Out Embarrassing New Year’...   \n",
       "1   Drunk Bragging Trump Staffer Started Russian ...   \n",
       "2   Sheriff David Clarke Becomes An Internet Joke...   \n",
       "3   Trump Is So Obsessed He Even Has Obama’s Name...   \n",
       "4   Pope Francis Just Called Out Donald Trump Dur...   \n",
       "5   Racist Alabama Cops Brutalize Black Boy While...   \n",
       "6   Fresh Off The Golf Course, Trump Lashes Out A...   \n",
       "7   Trump Said Some INSANELY Racist Stuff Inside ...   \n",
       "8   Former CIA Director Slams Trump Over UN Bully...   \n",
       "9   WATCH: Brand-New Pro-Trump Ad Features So Muc...   \n",
       "\n",
       "                                                text subject  \\\n",
       "0  Donald Trump just couldn t wish all Americans ...    News   \n",
       "1  House Intelligence Committee Chairman Devin Nu...    News   \n",
       "2  On Friday, it was revealed that former Milwauk...    News   \n",
       "3  On Christmas day, Donald Trump announced that ...    News   \n",
       "4  Pope Francis used his annual Christmas Day mes...    News   \n",
       "5  The number of cases of cops brutalizing and ki...    News   \n",
       "6  Donald Trump spent a good portion of his day a...    News   \n",
       "7  In the wake of yet another court decision that...    News   \n",
       "8  Many people have raised the alarm regarding th...    News   \n",
       "9  Just when you might have thought we d get a br...    News   \n",
       "\n",
       "                date  label  \n",
       "0  December 31, 2017      1  \n",
       "1  December 31, 2017      1  \n",
       "2  December 30, 2017      1  \n",
       "3  December 29, 2017      1  \n",
       "4  December 25, 2017      1  \n",
       "5  December 25, 2017      1  \n",
       "6  December 23, 2017      1  \n",
       "7  December 23, 2017      1  \n",
       "8  December 22, 2017      1  \n",
       "9  December 21, 2017      1  "
      ]
     },
     "execution_count": 7,
     "metadata": {},
     "output_type": "execute_result"
    }
   ],
   "source": [
    "df_merge = pd.concat([df_fake, df_true], axis =0 )\n",
    "df_merge.head(10)"
   ]
  },
  {
   "cell_type": "code",
   "execution_count": null,
   "metadata": {
    "id": "fqVFQbxovR11"
   },
   "outputs": [],
   "source": [
    "# Preprocessing function\n",
    "def preprocess_text(text):\n",
    "    text = text.lower()  # Convert to lowercase\n",
    "    text = re.sub(r'\\d+', '', text)  # Remove numbers\n",
    "    text = re.sub(r'[^\\w\\s]', '', text)  # Remove punctuation\n",
    "    tokens = word_tokenize(text)  # Tokenize text\n",
    "    return ' '.join(tokens)\n"
   ]
  },
  {
   "cell_type": "code",
   "execution_count": null,
   "metadata": {
    "colab": {
     "base_uri": "https://localhost:8080/",
     "height": 206
    },
    "id": "1yDORu7EsEoB",
    "outputId": "e2cec595-0fba-46b3-e2f9-46c077e734b1"
   },
   "outputs": [
    {
     "data": {
      "application/vnd.google.colaboratory.intrinsic+json": {
       "summary": "{\n  \"name\": \"df\",\n  \"rows\": 44898,\n  \"fields\": [\n    {\n      \"column\": \"text\",\n      \"properties\": {\n        \"dtype\": \"string\",\n        \"num_unique_values\": 38618,\n        \"samples\": [\n          \"this is not some small obscure community college disallowing our law enforcement to attend a school sponsored event in favor of protecting lawbreakers is a big deal this school with over students has managed to marginalize these brave men and women who put their lives on the line every day to protect and defend our bordersus customs and border protection cbp has reversed its decision to participate in a career fair at the university of californiairvine in response to a petition signed by hundreds of studentsaccording to the new university student newspaper cbp s withdrawal represents an unexpected victory for student activists whose claims that the border patrol s involvement in the fall career fair this thursday would be insensitive to undocumented students had previously failed to convince the university to rescind the agency s invitation organizations like the us customs and border patrol are the organizations that are tasked with various roles including targeting undocumented communities which is against the nature of our campus s values for welcoming communities regarding their background associated students of uc irvine asuci president parshan khosravi wrote in an email to the career center sunday night this message right now is saying that undocumented students are not welcome he asserted adding that s the type of message that i do not want to see as someone who is a student on this campus as someone who is a student leader on this campus and as someone who believes in sic the values of our campus are inclusivity and a safe space the next day monday morning student amy yu and another individual visited the career center in person to voice their concerns directly to administrators despite their warnings that undocumented students might experience trauma and discomfort from such close proximity to law enforcement though the center refused to disinvite cbp explaining that the purpose of the fair is to provide job opportunities for all students we care about and value all students we have a diverse student body made up of individuals with many wonderful talents and personal values career center director suzanne helbig told new university to serve all students we bring employers to campus and let students use their own judgement to decide which ones fit their skills interests and values undeterred by the career center s response yu proceeded to create a changeorg petition in the hope of effecting cbp s removal by appealing to a higher authority we as students from uc irvine are demanding that the cbp be removed as participants sic for the upcoming fall career fair the petition states the undocumented community is directly affected by deportation and detention policies that are carried out by border patrol and having border patrol agents on campus is a blatant disregard to undocumented students safety and wellbeing prior to being closed amidst declarations of victory wednesday the petition had garnered signatures in roughly two days which was apparently enough for cbp to decide that participating in the jobs fair was not worth enduring a potentially hostile reception from ucirvine students as of this morning us customs border patrol has decided not to attend the campus career fair on thursday oct ucirvine senior director of communications cathy lawhon told the college fix wednesday however the agency will continue to utilize uci s career center online job postings system to list available positions for those students interested in working with cbp while undocumented students may rejoice though others are less thrilled about losing the chance to engage with the largest law enforcement agency in the world i feel that these efforts are an attempt to politicize a jobs fair that is supposed to help college students find much needed work once they graduate uc irvine s college republicans president rob petrosyan told the college fix if you don t approve of us customs don t apply to work for them it s that simple via campus reform\",\n          \"if jeff sessions really cares about the law and the constitution he ll read his own words about perjury and resign in disgraceduring his confirmation hearing to become donald trump s attorney general sessions took a very clear question from senator al franken and answered it with a very clear answersessions was asked if he had any communication with russian officials during the campaign i have been called a surrogate at a time or two in that campaign and i did not have communications with the russians sessions respondedand as we now know that was a complete and total lie that was told under oathin other words sessions perjured himself in front of congressso far sessions has refused to resign and that makes him a hypocrite considering what he once said about bill clinton in after republicans failed to impeach the former presidentaccording to the new york times here is what sessions had to say after the acquittalit has been proven beyond a reasonable doubt and to a moral certainty that president william jefferson clinton perjured himself before a federal grand jury and has persisted in a continuous pattern of lying and obstructing justice the chief lawenforcement officer of the land whose oath of office calls on him to preserve protect and defend the constitution crossed the line and failed to defend and protect the law and in fact attacked the law and the rights of a fellow citizen under our constitution equal justice requires that he forfeit his office for these reasons i felt compelled to vote to convict and remove the president from office it is crucial to our system of justice that we demand the truth i fear that an acquittal of this president will weaken the legal system by providing an option for those who consider being less than truthful in court whereas the handling of the case against president nixon clearly strengthened the nation s respect for law justice and truth the clinton impeachment may unfortunately have the opposite resultnow the man who called for equal justice and said we demand the truth just got caught committing perjury and he is refusing to forfeit his officehaving an extramarital affair is not against the law but republicans decided to go on a political witch hunt for it back in the s even though several of those lawmakers who voted to impeach clinton were themselves caught cheating on their spousescolluding with the russians during a critical election on behalf of the republican candidate and lying about it under oath is far worse than anything bill clinton ever didby all rights sessions should be impeached from office but republicans are only interested in impeaching officials if it helps their agenda they are hypocrites and the whole lot of them do not deserve to hold office in this countryit s time for jeff sessions to look at himself in the mirror and decide if equal justice and the truth are as important to him now as he claimed it was then because if not he should not be the attorney generalfeatured image via chip somodevillagetty images\",\n          \"on thursday night cnn s guns in america town hall meeting on gun violence attracted the attendance of several gun legislation opponents but strangely enough the most outspoken progun group wasn t there to counter president barack obama on his executive action host anderson cooper said that the national rifle association nra had definitely been invited but chose not to attend proving that it was all talk and no action the gun advocacy group had declined the opportunity to participate in the live qa session with the president and basically forfeited their right to complain about the issues going forward nra spokesman andrew arulanandam said the reason the association declined was because the meeting was just a public relations spectacle orchestrated by the white house however that didn t stop the nra from whining and giving their opinion during the town hall meeting anyway as the organization watched obama talk about tightening background checks and closing loopholes for gun sales the nra decided to livetweet the event a choice it would immediately regretnra twitternra twitternra twitteras guns in america went on the nra made up for its lack of physical presence by filling its twitter feed with criticisms of obama and shared several equally ridiculous posts from gun rights advocates thankfully not everyone on twitter is as thickheaded and came to obama s rescue to set the nra straighttwittertwittersome even chose to remind the association to shut the fck up since it couldn t be bothered to confront obama in persontwitterobama also took some time out of the town hall to blast the nra for backing out of the discussion and expressed his disappointment in an organization that has been so vocal against gun legislation he said part of the reason i welcomed this opportunity by cnn to have a good discussion debate about it is because our position is consistently mischaracterized there s a reason why the nra is not here they re just down the street and since this is the main reason they exist you d think they d be prepared to have a debate with the presidenti m happy to meet with them i m happy to talk to them but the conversation has to be based on facts and truth and what we re actually proposing not some you know imaginary fiction in which obama s trying to take away your guns featured image courtesy of joe crimmings via flickr\"\n        ],\n        \"semantic_type\": \"\",\n        \"description\": \"\"\n      }\n    },\n    {\n      \"column\": \"label\",\n      \"properties\": {\n        \"dtype\": \"number\",\n        \"std\": 0,\n        \"min\": 0,\n        \"max\": 1,\n        \"num_unique_values\": 2,\n        \"samples\": [\n          0,\n          1\n        ],\n        \"semantic_type\": \"\",\n        \"description\": \"\"\n      }\n    }\n  ]\n}",
       "type": "dataframe",
       "variable_name": "df"
      },
      "text/html": [
       "\n",
       "  <div id=\"df-e2458494-85ce-4be3-b3cf-8591a130b30b\" class=\"colab-df-container\">\n",
       "    <div>\n",
       "<style scoped>\n",
       "    .dataframe tbody tr th:only-of-type {\n",
       "        vertical-align: middle;\n",
       "    }\n",
       "\n",
       "    .dataframe tbody tr th {\n",
       "        vertical-align: top;\n",
       "    }\n",
       "\n",
       "    .dataframe thead th {\n",
       "        text-align: right;\n",
       "    }\n",
       "</style>\n",
       "<table border=\"1\" class=\"dataframe\">\n",
       "  <thead>\n",
       "    <tr style=\"text-align: right;\">\n",
       "      <th></th>\n",
       "      <th>text</th>\n",
       "      <th>label</th>\n",
       "    </tr>\n",
       "  </thead>\n",
       "  <tbody>\n",
       "    <tr>\n",
       "      <th>0</th>\n",
       "      <td>donald trump just couldn t wish all americans ...</td>\n",
       "      <td>1</td>\n",
       "    </tr>\n",
       "    <tr>\n",
       "      <th>1</th>\n",
       "      <td>house intelligence committee chairman devin nu...</td>\n",
       "      <td>1</td>\n",
       "    </tr>\n",
       "    <tr>\n",
       "      <th>2</th>\n",
       "      <td>on friday it was revealed that former milwauke...</td>\n",
       "      <td>1</td>\n",
       "    </tr>\n",
       "    <tr>\n",
       "      <th>3</th>\n",
       "      <td>on christmas day donald trump announced that h...</td>\n",
       "      <td>1</td>\n",
       "    </tr>\n",
       "    <tr>\n",
       "      <th>4</th>\n",
       "      <td>pope francis used his annual christmas day mes...</td>\n",
       "      <td>1</td>\n",
       "    </tr>\n",
       "  </tbody>\n",
       "</table>\n",
       "</div>\n",
       "    <div class=\"colab-df-buttons\">\n",
       "\n",
       "  <div class=\"colab-df-container\">\n",
       "    <button class=\"colab-df-convert\" onclick=\"convertToInteractive('df-e2458494-85ce-4be3-b3cf-8591a130b30b')\"\n",
       "            title=\"Convert this dataframe to an interactive table.\"\n",
       "            style=\"display:none;\">\n",
       "\n",
       "  <svg xmlns=\"http://www.w3.org/2000/svg\" height=\"24px\" viewBox=\"0 -960 960 960\">\n",
       "    <path d=\"M120-120v-720h720v720H120Zm60-500h600v-160H180v160Zm220 220h160v-160H400v160Zm0 220h160v-160H400v160ZM180-400h160v-160H180v160Zm440 0h160v-160H620v160ZM180-180h160v-160H180v160Zm440 0h160v-160H620v160Z\"/>\n",
       "  </svg>\n",
       "    </button>\n",
       "\n",
       "  <style>\n",
       "    .colab-df-container {\n",
       "      display:flex;\n",
       "      gap: 12px;\n",
       "    }\n",
       "\n",
       "    .colab-df-convert {\n",
       "      background-color: #E8F0FE;\n",
       "      border: none;\n",
       "      border-radius: 50%;\n",
       "      cursor: pointer;\n",
       "      display: none;\n",
       "      fill: #1967D2;\n",
       "      height: 32px;\n",
       "      padding: 0 0 0 0;\n",
       "      width: 32px;\n",
       "    }\n",
       "\n",
       "    .colab-df-convert:hover {\n",
       "      background-color: #E2EBFA;\n",
       "      box-shadow: 0px 1px 2px rgba(60, 64, 67, 0.3), 0px 1px 3px 1px rgba(60, 64, 67, 0.15);\n",
       "      fill: #174EA6;\n",
       "    }\n",
       "\n",
       "    .colab-df-buttons div {\n",
       "      margin-bottom: 4px;\n",
       "    }\n",
       "\n",
       "    [theme=dark] .colab-df-convert {\n",
       "      background-color: #3B4455;\n",
       "      fill: #D2E3FC;\n",
       "    }\n",
       "\n",
       "    [theme=dark] .colab-df-convert:hover {\n",
       "      background-color: #434B5C;\n",
       "      box-shadow: 0px 1px 3px 1px rgba(0, 0, 0, 0.15);\n",
       "      filter: drop-shadow(0px 1px 2px rgba(0, 0, 0, 0.3));\n",
       "      fill: #FFFFFF;\n",
       "    }\n",
       "  </style>\n",
       "\n",
       "    <script>\n",
       "      const buttonEl =\n",
       "        document.querySelector('#df-e2458494-85ce-4be3-b3cf-8591a130b30b button.colab-df-convert');\n",
       "      buttonEl.style.display =\n",
       "        google.colab.kernel.accessAllowed ? 'block' : 'none';\n",
       "\n",
       "      async function convertToInteractive(key) {\n",
       "        const element = document.querySelector('#df-e2458494-85ce-4be3-b3cf-8591a130b30b');\n",
       "        const dataTable =\n",
       "          await google.colab.kernel.invokeFunction('convertToInteractive',\n",
       "                                                    [key], {});\n",
       "        if (!dataTable) return;\n",
       "\n",
       "        const docLinkHtml = 'Like what you see? Visit the ' +\n",
       "          '<a target=\"_blank\" href=https://colab.research.google.com/notebooks/data_table.ipynb>data table notebook</a>'\n",
       "          + ' to learn more about interactive tables.';\n",
       "        element.innerHTML = '';\n",
       "        dataTable['output_type'] = 'display_data';\n",
       "        await google.colab.output.renderOutput(dataTable, element);\n",
       "        const docLink = document.createElement('div');\n",
       "        docLink.innerHTML = docLinkHtml;\n",
       "        element.appendChild(docLink);\n",
       "      }\n",
       "    </script>\n",
       "  </div>\n",
       "\n",
       "\n",
       "<div id=\"df-bf30f646-74f9-45fd-adae-779d55df1867\">\n",
       "  <button class=\"colab-df-quickchart\" onclick=\"quickchart('df-bf30f646-74f9-45fd-adae-779d55df1867')\"\n",
       "            title=\"Suggest charts\"\n",
       "            style=\"display:none;\">\n",
       "\n",
       "<svg xmlns=\"http://www.w3.org/2000/svg\" height=\"24px\"viewBox=\"0 0 24 24\"\n",
       "     width=\"24px\">\n",
       "    <g>\n",
       "        <path d=\"M19 3H5c-1.1 0-2 .9-2 2v14c0 1.1.9 2 2 2h14c1.1 0 2-.9 2-2V5c0-1.1-.9-2-2-2zM9 17H7v-7h2v7zm4 0h-2V7h2v10zm4 0h-2v-4h2v4z\"/>\n",
       "    </g>\n",
       "</svg>\n",
       "  </button>\n",
       "\n",
       "<style>\n",
       "  .colab-df-quickchart {\n",
       "      --bg-color: #E8F0FE;\n",
       "      --fill-color: #1967D2;\n",
       "      --hover-bg-color: #E2EBFA;\n",
       "      --hover-fill-color: #174EA6;\n",
       "      --disabled-fill-color: #AAA;\n",
       "      --disabled-bg-color: #DDD;\n",
       "  }\n",
       "\n",
       "  [theme=dark] .colab-df-quickchart {\n",
       "      --bg-color: #3B4455;\n",
       "      --fill-color: #D2E3FC;\n",
       "      --hover-bg-color: #434B5C;\n",
       "      --hover-fill-color: #FFFFFF;\n",
       "      --disabled-bg-color: #3B4455;\n",
       "      --disabled-fill-color: #666;\n",
       "  }\n",
       "\n",
       "  .colab-df-quickchart {\n",
       "    background-color: var(--bg-color);\n",
       "    border: none;\n",
       "    border-radius: 50%;\n",
       "    cursor: pointer;\n",
       "    display: none;\n",
       "    fill: var(--fill-color);\n",
       "    height: 32px;\n",
       "    padding: 0;\n",
       "    width: 32px;\n",
       "  }\n",
       "\n",
       "  .colab-df-quickchart:hover {\n",
       "    background-color: var(--hover-bg-color);\n",
       "    box-shadow: 0 1px 2px rgba(60, 64, 67, 0.3), 0 1px 3px 1px rgba(60, 64, 67, 0.15);\n",
       "    fill: var(--button-hover-fill-color);\n",
       "  }\n",
       "\n",
       "  .colab-df-quickchart-complete:disabled,\n",
       "  .colab-df-quickchart-complete:disabled:hover {\n",
       "    background-color: var(--disabled-bg-color);\n",
       "    fill: var(--disabled-fill-color);\n",
       "    box-shadow: none;\n",
       "  }\n",
       "\n",
       "  .colab-df-spinner {\n",
       "    border: 2px solid var(--fill-color);\n",
       "    border-color: transparent;\n",
       "    border-bottom-color: var(--fill-color);\n",
       "    animation:\n",
       "      spin 1s steps(1) infinite;\n",
       "  }\n",
       "\n",
       "  @keyframes spin {\n",
       "    0% {\n",
       "      border-color: transparent;\n",
       "      border-bottom-color: var(--fill-color);\n",
       "      border-left-color: var(--fill-color);\n",
       "    }\n",
       "    20% {\n",
       "      border-color: transparent;\n",
       "      border-left-color: var(--fill-color);\n",
       "      border-top-color: var(--fill-color);\n",
       "    }\n",
       "    30% {\n",
       "      border-color: transparent;\n",
       "      border-left-color: var(--fill-color);\n",
       "      border-top-color: var(--fill-color);\n",
       "      border-right-color: var(--fill-color);\n",
       "    }\n",
       "    40% {\n",
       "      border-color: transparent;\n",
       "      border-right-color: var(--fill-color);\n",
       "      border-top-color: var(--fill-color);\n",
       "    }\n",
       "    60% {\n",
       "      border-color: transparent;\n",
       "      border-right-color: var(--fill-color);\n",
       "    }\n",
       "    80% {\n",
       "      border-color: transparent;\n",
       "      border-right-color: var(--fill-color);\n",
       "      border-bottom-color: var(--fill-color);\n",
       "    }\n",
       "    90% {\n",
       "      border-color: transparent;\n",
       "      border-bottom-color: var(--fill-color);\n",
       "    }\n",
       "  }\n",
       "</style>\n",
       "\n",
       "  <script>\n",
       "    async function quickchart(key) {\n",
       "      const quickchartButtonEl =\n",
       "        document.querySelector('#' + key + ' button');\n",
       "      quickchartButtonEl.disabled = true;  // To prevent multiple clicks.\n",
       "      quickchartButtonEl.classList.add('colab-df-spinner');\n",
       "      try {\n",
       "        const charts = await google.colab.kernel.invokeFunction(\n",
       "            'suggestCharts', [key], {});\n",
       "      } catch (error) {\n",
       "        console.error('Error during call to suggestCharts:', error);\n",
       "      }\n",
       "      quickchartButtonEl.classList.remove('colab-df-spinner');\n",
       "      quickchartButtonEl.classList.add('colab-df-quickchart-complete');\n",
       "    }\n",
       "    (() => {\n",
       "      let quickchartButtonEl =\n",
       "        document.querySelector('#df-bf30f646-74f9-45fd-adae-779d55df1867 button');\n",
       "      quickchartButtonEl.style.display =\n",
       "        google.colab.kernel.accessAllowed ? 'block' : 'none';\n",
       "    })();\n",
       "  </script>\n",
       "</div>\n",
       "\n",
       "    </div>\n",
       "  </div>\n"
      ],
      "text/plain": [
       "                                                text  label\n",
       "0  donald trump just couldn t wish all americans ...      1\n",
       "1  house intelligence committee chairman devin nu...      1\n",
       "2  on friday it was revealed that former milwauke...      1\n",
       "3  on christmas day donald trump announced that h...      1\n",
       "4  pope francis used his annual christmas day mes...      1"
      ]
     },
     "execution_count": 9,
     "metadata": {},
     "output_type": "execute_result"
    }
   ],
   "source": [
    "#Removing columns which are not required¶\n",
    "df = df_merge.drop([\"title\", \"subject\",\"date\"], axis = 1)\n",
    "df[\"text\"] = df[\"text\"].apply(lambda x: preprocess_text(x))\n",
    "\n",
    "df.reset_index(inplace = True)\n",
    "df.drop([\"index\"], axis = 1, inplace = True)\n",
    "df.head()"
   ]
  },
  {
   "cell_type": "code",
   "execution_count": null,
   "metadata": {
    "colab": {
     "base_uri": "https://localhost:8080/"
    },
    "id": "Dilx8pTCx4Vq",
    "outputId": "0b9ffe3b-4b20-48c5-e7fc-db2109805de4"
   },
   "outputs": [
    {
     "data": {
      "text/plain": [
       "DatasetDict({\n",
       "    train: Dataset({\n",
       "        features: ['text', 'label', '__index_level_0__'],\n",
       "        num_rows: 35918\n",
       "    })\n",
       "    val: Dataset({\n",
       "        features: ['text', 'label', '__index_level_0__'],\n",
       "        num_rows: 4490\n",
       "    })\n",
       "    test: Dataset({\n",
       "        features: ['text', 'label', '__index_level_0__'],\n",
       "        num_rows: 4490\n",
       "    })\n",
       "})"
      ]
     },
     "execution_count": 12,
     "metadata": {},
     "output_type": "execute_result"
    }
   ],
   "source": [
    "from datasets import Dataset, DatasetDict\n",
    "from sklearn.model_selection import train_test_split\n",
    "import pandas as pd\n",
    "\n",
    "train_df, temp_df = train_test_split(df, test_size=0.2, random_state=42)\n",
    "dev_df, test_df = train_test_split(temp_df, test_size=0.5, random_state=42)\n",
    "\n",
    "train_dataset = Dataset.from_pandas(train_df)\n",
    "dev_dataset = Dataset.from_pandas(dev_df)\n",
    "test_dataset = Dataset.from_pandas(test_df)\n",
    "\n",
    "dataset = DatasetDict({\n",
    "    'train': train_dataset,\n",
    "    'val': dev_dataset,\n",
    "    'test': test_dataset\n",
    "})\n",
    "\n",
    "dataset"
   ]
  },
  {
   "cell_type": "markdown",
   "metadata": {
    "id": "WDG_KM4Ac173"
   },
   "source": [
    "## Define the model\n",
    "\n",
    "We will create a model class and parameterize our neural network with several choices"
   ]
  },
  {
   "cell_type": "code",
   "execution_count": null,
   "metadata": {
    "colab": {
     "base_uri": "https://localhost:8080/",
     "height": 1000,
     "referenced_widgets": [
      "a274b3e7a9d24f128fc2d455c89b50aa",
      "5096cbd3e3354c6b83716d087b8b4bd6",
      "0bfc4e6cbded4e858f3985344f6488b2",
      "84a8bf353ab449fc8e27774c5b6448b7",
      "08a98ffede6e4b878e84df9102e035b3",
      "59d3ee055b5d4a06b477d4f0d62fa82f",
      "0603bb20821e427580155431c8100f13",
      "3b4c601a4f3e46b7b0b3e16efb051839",
      "c87783fb393f4786b9e9c457f979e69e",
      "84201a3eca9b4b0c80c6108f8c6de232",
      "003cd0b510e742e9832cf30cc07f6e75",
      "ccee207c0818427abd349234f3436e8f",
      "fa2aa036113343d78bfa15861077ae7d",
      "df998dff659e4f73aca679463eca4683",
      "9c9cbe7abb5a4765989a9a78a9f46bda",
      "844bdeab8639433bbc496a975ca10aca",
      "95ec4c9fb072429eb64b931c4c90bdf7",
      "657e9cd2150247caaf1415911b80abf7",
      "dffd375e8f49460888e1797d230f61c5",
      "b3c8145f6c1d485ea22f91f691128229",
      "b59456e93f4d4fb7b0cfd3047f1e9b69",
      "49b32be56a40464592dd5fef9abe8c0f",
      "168f215822074393b301cdafca0a0dcf",
      "0549b6aea6814378bbe0a056ccb19b22",
      "30967d3e08614bb2870a538494847998",
      "d0228b82c585411b87887697b49eca41",
      "eb1ea5b29ac044edb364068a1eed37d8",
      "13b120a907a64328a20d3ac2f024396f",
      "50c8575b9f824333b55b67a926ec87a3",
      "79e8c9d350ab4d3f95eddf7081d8a5d0",
      "f96e1029b695473298edec641c8c45d1",
      "5de466891dd346cd855ad3562b25c158",
      "f841686e55204d1d95970fff9b1fb901",
      "9487e8c74f154fb8ae4bc4e7cd7710c5",
      "fea8e84da84a471dbbd8706cd11f03eb",
      "ef76e92c7b6f430aa0c517d890f88c4f",
      "530db5daa7d74622a92a1263fc74c909",
      "5e72e3070b1d49eaafe6c5665e353f5b",
      "ac5cad6979e940cf8927c80af22fb1ed",
      "4a09a591c2de4bb094ccc16c7357d762",
      "b8ca5ceab0914c059f38b8b4decece3d",
      "47f43bd06de2479888be43e48e8a66c9",
      "7f72a481ce724bdfaab8bf5b77cb814e",
      "b5f20180ab55424d8ff6a6512236522f",
      "1b4ed50528494faeb2916fd5f13c4eb4",
      "583338a754384368aa168e7b937e141c",
      "5ccf54339d1843d5b34787b740d122d7",
      "7163013b46504054bde9555e2e557f64",
      "3330adb956f148408b5c573a37da0e7c",
      "476333fa262446a9ab6a0172b51603d5",
      "f6a88a5730d94c50b9c3e325d0879c15",
      "55af06e6c0454df097774e269f2b6f73",
      "9cc66ecb5be94858b43d467f568c3a27",
      "d0d77c8fbaf44318af3f978508a4de8a",
      "413d6edbb0ec4f6daea4ba7f4cfb50c6",
      "3d39cef654c34e6b9274d333ebeb3922",
      "9c61e0959b62469f9f757889a159e7c0",
      "0849bbd8f1194d72a1a736f23e1b89af",
      "f73f6d6965d24499946b17ce8fb0aa58",
      "a857699420cb4117b49ee7e0cd146dd6",
      "4469eae26b3545fb819f9e1348edcc3a",
      "d7bddf8840be49d7b6691b220cabb464",
      "f2e5e28c5bc34861bd4efcc46919d343",
      "3058942c660346049283e2bbbb7d51cd",
      "e8495cc1901940b68f3dfa5fb0d00b2d",
      "3fff6757aa1e4a4bb88533a6cbac8781",
      "5caf03823dcc44b5a68654ac9cdb6edb",
      "0cbac031c547441c9103065938bbb25e",
      "f3f0b101ca48458398539a00c0e30948",
      "f3d21205c8514b438ef11fc976c3f2ac",
      "a26ae4af18e54ed7b43c46fbd6f5fd77",
      "31a917b7ffe74d31bc04bafe07f46632",
      "4b1bc6956c514b338d27f4f5e9db41ae",
      "9bdfed0e309c47d7b89952343f5a576c",
      "db74640984f94b82b4ac55cc9be11dff",
      "6e8ec90c8f634996b444b5b4fb7318be",
      "3a84524f729442b299a1be3c8afcdb1e",
      "caa52cef2b964ca3b7907adcc9ba9df8",
      "8d72fc5771c84099bed4eeca5690141d",
      "4672a59a724b4de297ece73e25a4dedf",
      "21df51ef73db420e871a94da6be5917d",
      "ad3a0a1c046241df8c80fed55e25df05",
      "da5560a9256e40d386818f0193139b6a",
      "6ec197983fb74e19be52db9da66629e4",
      "b5f8ee3135854b838c5780e76f7d86f5",
      "76f3d3181d1d4098a098d6928afcbb0c",
      "804d021dda424de781ea781ea93a6d5a",
      "f49c58aecbbe4e48a3635baa670ba71a",
      "24c6ca7f015f43d79c6b961774707fe4",
      "3bee94529f26440d984325c61c1380e1",
      "cd6b2f01b7244a499ddf52f153fb9c27",
      "98380566c0bf4371aa46dc5c508fcc98",
      "19be1719bd8b4ed38d652e36d695d0bd",
      "752d5d08f34a499fbf7a35369bf6f992",
      "fb8255ee8b3e4423966c339b324e443d",
      "b468cccc89f540cea32e3d7550630346",
      "c5af6cb73da24cefa42a9624f275bfca",
      "5b50bf3f136f46779b37941332b2368d",
      "185f723a885548a3bbefef16d52efdc8",
      "4d94346ec6054e7aa947b0b7c00a3dbb",
      "07467f816bb547f68745924033a4c7d6",
      "b034eaa9c7514d1aaf55f3fb5b1b94cf",
      "e054411ea736482e9bac7041e690bd91",
      "7c796273086944299808cdfa4af21151",
      "0f3d8516831d469fb69305a351daa886",
      "0f57554c6a304df991a07fbcf7f11bd7",
      "83c99cf092f34c1cb43e1fecec0755f1",
      "4dc2757a2f4f47698c4f6791128a41ec",
      "fbe222c95a7a4b9f95f277ea761b6abc",
      "e2c00a4e209e468db559dcd7d49e5aa4",
      "09651f547f20475fbc303c3fadb28024",
      "3f903e8567414c11a67fc29b2fc25318",
      "f366c3928da543018891bf3d5a894eff",
      "f72806e5724a44b9b997cde359399727",
      "b48a6ff0a66c46978e90f75dac1b4955",
      "cdfc7047b3864a71b2023a51005ec29f",
      "d0c9b5026e81447eb63e030236962a8a",
      "2def760d799540ceae94f895026d9c8a",
      "7e6e74a542b54ba79ff407cce2cf85a9",
      "5df9021d2382418590e78e7b690ae1c3",
      "45a282bbcf4d4df0a9b9be3044f7c4f1",
      "901453777c374d6ba40c9ed5427409f8",
      "2d9b9eeca0af421a9c1b26c306985406",
      "2f0fbb92c6f348e8a94375962c3a611a",
      "fb3671626ef94ccbb14dd504b2e11cf2",
      "2b99e06fddc44bc98c7ce551e0c42948",
      "4f40bf0112e544b5a4284ada0e493c61",
      "c15ae699db52416682b843e37106edfb",
      "73825a566fe34651942b40d409a8ea00",
      "04bcaf1e5502407383a54212904b8620",
      "c0eeee2cba01421fa74a53e11590c7bc",
      "0c56bfe2ce7b492aa15ea80efe0e4deb",
      "30e8cf0e933f42b9baff3bf0cb4792f7",
      "79fd8175e3a541be910c6875d05e59f0",
      "b26729815cd648ad831bd7bf58da1e8c",
      "1127988100044776977fa911352c442d",
      "0f24621c245f43c185f56ac24a44a65a",
      "4802aa62a37d47229dba89efaca02638",
      "5975c2775cac471bb6bcfaaa4adb94d9",
      "d416278f9c9c453a898388be52b56a44",
      "aeb37262e0c1455dbb8bc37900541aa0",
      "016e98c924e84593af7c784c32faeb64",
      "e6d61367d6bf40d6b5ab67383151b895",
      "5f14182455624801b48845c4f66b1e9e",
      "5ced50d3cf6b4b719e7cbc0f9dc87c6a",
      "2b35004370324fb0bfc81c4715e41360",
      "a13b2f7c6b5e4a97ae4375418ad3f9aa",
      "abc586b241754424b21a78be6cbed7b9",
      "4995224d17ae4d039e9897d826626734",
      "b4a6f162351949ceaf30f757db3d3041",
      "8c7669e3b4d54e64a7d7c4927e9ae67d",
      "a060504d7d5f4562913647f17495367a",
      "d467f7567e6d48d399a9b3f0492b6cdd",
      "38f1068d77974cd1b4607c0ee83cdaa7",
      "a0acd66954e64e5cb8c57d255002c29e",
      "d49d79f98f784e34939d6a7cd97fcd40",
      "fb2dd7d6d0424021b5c33ed2a2a7dde0",
      "4cd58597d0634f618c8a815d6cf7dbaf",
      "1341924df3e2489695f41aea78462733",
      "2d87bfc24b1a4800b67446d1a56f4771",
      "48963a4232b3443d917e15781d026406",
      "c6a5b185b8fb43f8ae998c3579db4cb6",
      "75fe8fd6f1834c24ab9a16688eacb8db",
      "47bd551dc2d346f3b2811a9f2fd0eac1",
      "7175ab0e12c24a18b5ef0119ff52f426",
      "4ae36abe26ac4b10a83a871b578af4a5",
      "3ad1f43efc3a4f7da71563c7d41fa3b3",
      "8c6e4739a41b434ab4a2e986262ca73e",
      "dd3b8105c20548d7b20f95b0cf782a40",
      "960dd1acd7ce40f88a9283c444198e5f",
      "137fa36dc3404214bba2d8fde955e971",
      "d05d3bd89929492e8299a68e64926528",
      "e32435b20d9648b99cb4b1b561206cbf",
      "45c69c8f968f46d0baa264ebba0f3f5b",
      "92f92ab2209447229bdfde095a480eb8",
      "3b6507527d4f4107ade094d40613d165",
      "c04f9d6c07bf40a1925c1e9d3942279b",
      "e3a506f493d94c108a8273e92cead9fe",
      "99ffecd17e27401bb08a3f783a320ad0",
      "ab670c51e75942feae0581398f3f61bf",
      "e30e1bfc5dab400a89b97f40ca4eecbd",
      "19d5e7e3e28f4e0fa773b5e463a78251",
      "e4c445f7b1a74c1e9be4427fb45f67eb",
      "56ff16c4316d4593ab857cd59d471d51",
      "0ab86dd7e9854c01b777a2f26efe4b05",
      "c6f31800a6734bdb9dd9b08c277d546f",
      "8a4258410ccf45abb7ef5d2b9d7216e4",
      "50b309f8cc014b9aac334684cdb6a355",
      "7baba75f3beb4eae98fa47392206574d",
      "9db12607ae70488196d47b77da26f4c4",
      "294032e3946e45669644f4e67004f60f",
      "2a9f0d5365d247e3b92034d805f03a8c",
      "751fdc8e3c944cceb3626517a05661fc",
      "0bfc894c18174ce299ffd25cfc30fc16",
      "f73c14d98a5b4a51bbffab9eea5492aa",
      "9ae6d7dd643346a9bed3275fbf0dc87a",
      "40837c6b6e134b24b707c3c8c3f08f34",
      "59da0498c58e4d588b6b6fca820fb61a",
      "d4622c2cadc4468c9d94b9ef674ec389",
      "4e0ab789160949078c0aad0e78d1b9df",
      "e8a3cc9b6b0a40a3a85309264b3543ba",
      "367b9c5d407e4d129665d011d8cb6242",
      "a1d5c0765ccb4704938d50e14e353fb9",
      "853f3da2c2194d5992f37f8721da1fbd",
      "0cc0cbf842f34471ac0836e243caabf1",
      "bf19324637d44da391bbd667753207ee",
      "d22c4aca2885472ba93f09b476418f15",
      "126d1bd42b0e44548ae05ae8ebb78f57",
      "95da19ab88784c45a354982ce71a4826",
      "4b9415ca48074d6e85d70ec6d559baac",
      "7ae07c44b08346ceaa320f6c49f59831",
      "97c528e1aa8e4f54924ccdef3894e2a5",
      "fde857244b4b400bbf20cd6a4be41540",
      "053fe88a042446c1a6edd209215ce2a6",
      "d72001599a0a4eb1859816831c73197c",
      "9b0e6714a3d54863bf1d5cda782a89c0",
      "c04ddb0c4c814753bd86f9f20298866d",
      "a988e34b035b4b9181f4da4b141c8e6f",
      "d8f3faa9340a4fa68a138f3cff956876",
      "055a7dc1139b462a905728eb680619f3",
      "66dc5c37cd4447599b9b8fb8136a7036",
      "b4e24aabc2244fca81986a01c658420c",
      "5c85a7cfcd994899a96c9008c0e58dda",
      "0b3f88b1e9404c11bfeb73ed75c94b0a",
      "bb03f891a37a407bbaaf6e6737d655dc",
      "6004db06fc9946eeb80b38350e200249",
      "19c0569cb5fe42a8b3f8fa127acb221e",
      "d941c1813a1344ffba5901d4cfda0172",
      "364e62709221401f9f62108c68d5d3d9",
      "29f7a3414bfb48c890b35fccd630048a",
      "e95e8172212c458cb37408f64cbde19a",
      "363fe3d3deb342fb9708702dc977c106",
      "df90ed3403414b498ef037b58eeef63b",
      "519604010e4c4b4a92bf86fd3961fd4f",
      "66f77fdb5ada4d86a80166748ae223d7",
      "491a88614a0843f182c1fc36be6a0974",
      "5922a2fce6a8420eb0927d4b38c34319",
      "3e53818926284cfe94e31a0b7c3d5f5b",
      "b6c1d4bad8ec4f9bbdc4f3e992990a6d",
      "cfc9fc94f1424e9492ff2546c30cfab5",
      "f479abc8a9554bcaba01118f13f5fcc2",
      "40b0bd619eb74cb4b2b74acb16cf40d5",
      "6358ee35a5d64fafb8b6a2f0cf7fbde6",
      "b318d164221641e3a1b4b05f8b6096bd",
      "a05305add29c4eb78715e5e4b32580d0",
      "a478defb06ce4045a3d021327fcbc84f",
      "4f2164c6643444d19a4b628e2015161f",
      "32219137744f48b38e76f4119f274d9c",
      "37a101f47e8e46ad9a01dca3031de9b4",
      "bae040478b134daab01cc0d4e33bec8d",
      "f14814b77a794fa0a4e79eb593707ae1",
      "4c263b201658405ea66ee11dc190dfdb",
      "28a8b223cc9a43b9b844c05691487193",
      "47294f3815874e3f80d352b7f28b9e12",
      "f12c6158fe35416b89149d224eb209a4",
      "61dbd748ea02424d81ef37b3b265c41b",
      "31a564cebef04b66a26fb9b74de79480",
      "5e8df5b1362246d9b36866ff1b6f9439",
      "924a0e147f744e3b88d3142489b63c4c",
      "baf4a0ccf6ed4999b232ed52089e3d1d",
      "8368d7b15845411dafdf09c0ec6e866b",
      "2e4836a8fa8842648dec32351165caf9",
      "e88715a364f7489c92529b17c04b5f70",
      "a82ecadc2add4e62919e7ae958288747",
      "49d0482ea86f4f47b2d0b55217dfdfb2",
      "30df023849e74ddda7882934bb789ccf",
      "ee905ceda37e441fbcb67ee0c49e3295",
      "277f25a4d13246d4a8108745220452a9",
      "72a000f8e0d34f2991a88bfdae2b7a49",
      "5b9def8ed85e40bbb3c7e03fd1433d73",
      "235e9b3aa23c4d6e8f197738589638a1",
      "5c1bd8baa6e942f0bbde2e5c77bc08cb",
      "7e0a252f20db4c86b750f8253b7c83c0",
      "ecb531bbf999487089ce5cb489a22abb",
      "af15aec80c7943f492918a2b5e618edb",
      "5b000a51cbc940deab2514c2789a384e",
      "cc64c94067d54e3899cbdeb11184859d",
      "23e9c6688f7d41efae10307ca4484b1d",
      "7e4508e85dfe46219a55d4dd3ebfb9ef",
      "cc5afc2be90041ab9419ccb06c865caf",
      "be7dbc6ef5fe47f5a3d76915e882f38c",
      "90c7d0996a3c4db484139f063956e974",
      "7894f2f200954511925e5d17bcb14498",
      "c94c933f86cc43408da6c546b8bfdb9c",
      "601be82ceb31435ab4b8ab3861c8968a",
      "27839e27731c4d28b4e406df1c953977",
      "30924069036145e3be4dfbf789a7184d",
      "21616d368adf4efeb8dd1c8e5d7bd5fb",
      "802f722399d143edb6439297f977247e",
      "61e8785264624f9f9a651d2edc264e92",
      "7564cafc2af14d74ac15d4ccfd53e3ff",
      "b50fbe3cfa30422cae461dfbdc951d95",
      "61b6d14aac794f5e8221f3b0b16c6020",
      "1c876d2db5c24ab792ca5a80df41906b",
      "f1fd78733fc04c75826b8821864eda79",
      "1386b8729aea48dcb7eef5bb26f8c4cc",
      "e4b61326016b4c03be6dc234ff422a56",
      "31c6f97461464c2f93e04654f96873b9",
      "59c0ac63d32f4e26b7eb42fc90f9ee4a",
      "ba3a1c2fb3e34ba1a937fb3bfcef5904",
      "5b7704cd947a48e0bd2ab0c67a6edca2",
      "bf31e76f5d7543e792f20c52adf17dbd",
      "9995bb06e3d949d6b639d4e0ff77512b",
      "456dff899e734b189da0715b107daa8f",
      "1ea62825226342f6aaf8fe764f9731ae",
      "c8351fd6847f42aab1851854a55fd9f2",
      "1b286ce19ba44ea8b39366f36d67f3fc",
      "5763d50758354073b75d606946565096",
      "a692c00df5ef4597b891a745df7e231c",
      "fdc636b599a94e5aba2a8e0e38094498",
      "6200daa81f154cf3a1e2be7ef476fda1",
      "f51248321f8f4d0dbe6f409bf349043d",
      "5d9b29827214424cb690ea734e3000ec",
      "7f00e3cff35c4983b7f6cfde7a12ba87",
      "dac46a740853496a8ae15dd392ffda53",
      "75ba58f2677246578a991b483b0f0f16",
      "d3a3164d9e1b45d4b184c341bbd75723",
      "14de7cccb3ff4b57b33dde3dc97bf4c9",
      "3cfaf1002990422eb358cc837b79b748"
     ]
    },
    "id": "dSZg5GgYCAqA",
    "outputId": "ae875046-ad4e-47b1-8ce9-650f99c0b62c"
   },
   "outputs": [
    {
     "name": "stdout",
     "output_type": "stream",
     "text": [
      "Loading model: distilroberta-base\n"
     ]
    },
    {
     "data": {
      "application/vnd.jupyter.widget-view+json": {
       "model_id": "a274b3e7a9d24f128fc2d455c89b50aa",
       "version_major": 2,
       "version_minor": 0
      },
      "text/plain": [
       "Map:   0%|          | 0/35918 [00:00<?, ? examples/s]"
      ]
     },
     "metadata": {},
     "output_type": "display_data"
    },
    {
     "data": {
      "application/vnd.jupyter.widget-view+json": {
       "model_id": "ccee207c0818427abd349234f3436e8f",
       "version_major": 2,
       "version_minor": 0
      },
      "text/plain": [
       "Map:   0%|          | 0/4490 [00:00<?, ? examples/s]"
      ]
     },
     "metadata": {},
     "output_type": "display_data"
    },
    {
     "data": {
      "application/vnd.jupyter.widget-view+json": {
       "model_id": "168f215822074393b301cdafca0a0dcf",
       "version_major": 2,
       "version_minor": 0
      },
      "text/plain": [
       "Map:   0%|          | 0/4490 [00:00<?, ? examples/s]"
      ]
     },
     "metadata": {},
     "output_type": "display_data"
    },
    {
     "data": {
      "text/html": [
       "\n",
       "    <div>\n",
       "      \n",
       "      <progress value='4490' max='4490' style='width:300px; height:20px; vertical-align: middle;'></progress>\n",
       "      [4490/4490 13:01, Epoch 2/2]\n",
       "    </div>\n",
       "    <table border=\"1\" class=\"dataframe\">\n",
       "  <thead>\n",
       " <tr style=\"text-align: left;\">\n",
       "      <th>Epoch</th>\n",
       "      <th>Training Loss</th>\n",
       "      <th>Validation Loss</th>\n",
       "      <th>Accuracy</th>\n",
       "      <th>Pr Auc</th>\n",
       "      <th>Classification Report</th>\n",
       "    </tr>\n",
       "  </thead>\n",
       "  <tbody>\n",
       "    <tr>\n",
       "      <td>1</td>\n",
       "      <td>0.002400</td>\n",
       "      <td>0.002488</td>\n",
       "      <td>0.999777</td>\n",
       "      <td>0.999999</td>\n",
       "      <td>{'0': {'precision': 0.9995333644423705, 'recall': 1.0, 'f1-score': 0.9997666277712952, 'support': 2142.0}, '1': {'precision': 1.0, 'recall': 0.9995741056218058, 'f1-score': 0.999787007454739, 'support': 2348.0}, 'accuracy': 0.9997772828507795, 'macro avg': {'precision': 0.9997666822211853, 'recall': 0.999787052810903, 'f1-score': 0.9997768176130171, 'support': 4490.0}, 'weighted avg': {'precision': 0.9997773867785207, 'recall': 0.9997772828507795, 'f1-score': 0.9997772851202321, 'support': 4490.0}}</td>\n",
       "    </tr>\n",
       "    <tr>\n",
       "      <td>2</td>\n",
       "      <td>0.000000</td>\n",
       "      <td>0.002163</td>\n",
       "      <td>0.999777</td>\n",
       "      <td>1.000000</td>\n",
       "      <td>{'0': {'precision': 0.9995333644423705, 'recall': 1.0, 'f1-score': 0.9997666277712952, 'support': 2142.0}, '1': {'precision': 1.0, 'recall': 0.9995741056218058, 'f1-score': 0.999787007454739, 'support': 2348.0}, 'accuracy': 0.9997772828507795, 'macro avg': {'precision': 0.9997666822211853, 'recall': 0.999787052810903, 'f1-score': 0.9997768176130171, 'support': 4490.0}, 'weighted avg': {'precision': 0.9997773867785207, 'recall': 0.9997772828507795, 'f1-score': 0.9997772851202321, 'support': 4490.0}}</td>\n",
       "    </tr>\n",
       "  </tbody>\n",
       "</table><p>"
      ],
      "text/plain": [
       "<IPython.core.display.HTML object>"
      ]
     },
     "metadata": {},
     "output_type": "display_data"
    },
    {
     "data": {
      "text/html": [],
      "text/plain": [
       "<IPython.core.display.HTML object>"
      ]
     },
     "metadata": {},
     "output_type": "display_data"
    },
    {
     "data": {
      "text/html": [],
      "text/plain": [
       "<IPython.core.display.HTML object>"
      ]
     },
     "metadata": {},
     "output_type": "display_data"
    },
    {
     "data": {
      "text/html": [],
      "text/plain": [
       "<IPython.core.display.HTML object>"
      ]
     },
     "metadata": {},
     "output_type": "display_data"
    },
    {
     "name": "stdout",
     "output_type": "stream",
     "text": [
      "\n",
      "Final Classification Report for distilroberta-base:\n",
      "\n",
      "Training Classification Report:\n",
      "{'0': {'precision': 1.0, 'recall': 0.9999417588817705, 'f1-score': 0.9999708785928536, 'support': 17170.0}, '1': {'precision': 0.9999466638220705, 'recall': 1.0, 'f1-score': 0.9999733311998293, 'support': 18748.0}, 'accuracy': 0.9999721588061696, 'macro avg': {'precision': 0.9999733319110353, 'recall': 0.9999708794408853, 'f1-score': 0.9999721048963415, 'support': 35918.0}, 'weighted avg': {'precision': 0.9999721602911124, 'recall': 0.9999721588061696, 'f1-score': 0.9999721587720278, 'support': 35918.0}}\n",
      "Validation Classification Report:\n",
      "{'0': {'precision': 0.9995333644423705, 'recall': 1.0, 'f1-score': 0.9997666277712952, 'support': 2142.0}, '1': {'precision': 1.0, 'recall': 0.9995741056218058, 'f1-score': 0.999787007454739, 'support': 2348.0}, 'accuracy': 0.9997772828507795, 'macro avg': {'precision': 0.9997666822211853, 'recall': 0.999787052810903, 'f1-score': 0.9997768176130171, 'support': 4490.0}, 'weighted avg': {'precision': 0.9997773867785207, 'recall': 0.9997772828507795, 'f1-score': 0.9997772851202321, 'support': 4490.0}}\n",
      "Test Classification Report:\n",
      "{'0': {'precision': 0.9995249406175772, 'recall': 0.9995249406175772, 'f1-score': 0.9995249406175772, 'support': 2105.0}, '1': {'precision': 0.99958071278826, 'recall': 0.99958071278826, 'f1-score': 0.99958071278826, 'support': 2385.0}, 'accuracy': 0.999554565701559, 'macro avg': {'precision': 0.9995528267029186, 'recall': 0.9995528267029186, 'f1-score': 0.9995528267029186, 'support': 4490.0}, 'weighted avg': {'precision': 0.999554565701559, 'recall': 0.999554565701559, 'f1-score': 0.999554565701559, 'support': 4490.0}}\n",
      "Precision-Recall AUC Scores:\n",
      "Training PR AUC: 1.0000\n",
      "Validation PR AUC: 1.0000\n",
      "Test PR AUC: 1.0000\n",
      "==================================================\n",
      "Loading model: bert-base-uncased\n"
     ]
    },
    {
     "data": {
      "application/vnd.jupyter.widget-view+json": {
       "model_id": "9487e8c74f154fb8ae4bc4e7cd7710c5",
       "version_major": 2,
       "version_minor": 0
      },
      "text/plain": [
       "tokenizer_config.json:   0%|          | 0.00/48.0 [00:00<?, ?B/s]"
      ]
     },
     "metadata": {},
     "output_type": "display_data"
    },
    {
     "data": {
      "application/vnd.jupyter.widget-view+json": {
       "model_id": "1b4ed50528494faeb2916fd5f13c4eb4",
       "version_major": 2,
       "version_minor": 0
      },
      "text/plain": [
       "config.json:   0%|          | 0.00/570 [00:00<?, ?B/s]"
      ]
     },
     "metadata": {},
     "output_type": "display_data"
    },
    {
     "data": {
      "application/vnd.jupyter.widget-view+json": {
       "model_id": "3d39cef654c34e6b9274d333ebeb3922",
       "version_major": 2,
       "version_minor": 0
      },
      "text/plain": [
       "vocab.txt:   0%|          | 0.00/232k [00:00<?, ?B/s]"
      ]
     },
     "metadata": {},
     "output_type": "display_data"
    },
    {
     "data": {
      "application/vnd.jupyter.widget-view+json": {
       "model_id": "5caf03823dcc44b5a68654ac9cdb6edb",
       "version_major": 2,
       "version_minor": 0
      },
      "text/plain": [
       "tokenizer.json:   0%|          | 0.00/466k [00:00<?, ?B/s]"
      ]
     },
     "metadata": {},
     "output_type": "display_data"
    },
    {
     "data": {
      "application/vnd.jupyter.widget-view+json": {
       "model_id": "caa52cef2b964ca3b7907adcc9ba9df8",
       "version_major": 2,
       "version_minor": 0
      },
      "text/plain": [
       "model.safetensors:   0%|          | 0.00/440M [00:00<?, ?B/s]"
      ]
     },
     "metadata": {},
     "output_type": "display_data"
    },
    {
     "data": {
      "application/vnd.jupyter.widget-view+json": {
       "model_id": "24c6ca7f015f43d79c6b961774707fe4",
       "version_major": 2,
       "version_minor": 0
      },
      "text/plain": [
       "Map:   0%|          | 0/35918 [00:00<?, ? examples/s]"
      ]
     },
     "metadata": {},
     "output_type": "display_data"
    },
    {
     "data": {
      "application/vnd.jupyter.widget-view+json": {
       "model_id": "4d94346ec6054e7aa947b0b7c00a3dbb",
       "version_major": 2,
       "version_minor": 0
      },
      "text/plain": [
       "Map:   0%|          | 0/4490 [00:00<?, ? examples/s]"
      ]
     },
     "metadata": {},
     "output_type": "display_data"
    },
    {
     "data": {
      "application/vnd.jupyter.widget-view+json": {
       "model_id": "09651f547f20475fbc303c3fadb28024",
       "version_major": 2,
       "version_minor": 0
      },
      "text/plain": [
       "Map:   0%|          | 0/4490 [00:00<?, ? examples/s]"
      ]
     },
     "metadata": {},
     "output_type": "display_data"
    },
    {
     "data": {
      "text/html": [
       "\n",
       "    <div>\n",
       "      \n",
       "      <progress value='4490' max='4490' style='width:300px; height:20px; vertical-align: middle;'></progress>\n",
       "      [4490/4490 24:55, Epoch 2/2]\n",
       "    </div>\n",
       "    <table border=\"1\" class=\"dataframe\">\n",
       "  <thead>\n",
       " <tr style=\"text-align: left;\">\n",
       "      <th>Epoch</th>\n",
       "      <th>Training Loss</th>\n",
       "      <th>Validation Loss</th>\n",
       "      <th>Accuracy</th>\n",
       "      <th>Pr Auc</th>\n",
       "      <th>Classification Report</th>\n",
       "    </tr>\n",
       "  </thead>\n",
       "  <tbody>\n",
       "    <tr>\n",
       "      <td>1</td>\n",
       "      <td>0.006200</td>\n",
       "      <td>0.000051</td>\n",
       "      <td>1.000000</td>\n",
       "      <td>1.000000</td>\n",
       "      <td>{'0': {'precision': 1.0, 'recall': 1.0, 'f1-score': 1.0, 'support': 2142.0}, '1': {'precision': 1.0, 'recall': 1.0, 'f1-score': 1.0, 'support': 2348.0}, 'accuracy': 1.0, 'macro avg': {'precision': 1.0, 'recall': 1.0, 'f1-score': 1.0, 'support': 4490.0}, 'weighted avg': {'precision': 1.0, 'recall': 1.0, 'f1-score': 1.0, 'support': 4490.0}}</td>\n",
       "    </tr>\n",
       "    <tr>\n",
       "      <td>2</td>\n",
       "      <td>0.000000</td>\n",
       "      <td>0.001179</td>\n",
       "      <td>0.999777</td>\n",
       "      <td>1.000000</td>\n",
       "      <td>{'0': {'precision': 0.9995333644423705, 'recall': 1.0, 'f1-score': 0.9997666277712952, 'support': 2142.0}, '1': {'precision': 1.0, 'recall': 0.9995741056218058, 'f1-score': 0.999787007454739, 'support': 2348.0}, 'accuracy': 0.9997772828507795, 'macro avg': {'precision': 0.9997666822211853, 'recall': 0.999787052810903, 'f1-score': 0.9997768176130171, 'support': 4490.0}, 'weighted avg': {'precision': 0.9997773867785207, 'recall': 0.9997772828507795, 'f1-score': 0.9997772851202321, 'support': 4490.0}}</td>\n",
       "    </tr>\n",
       "  </tbody>\n",
       "</table><p>"
      ],
      "text/plain": [
       "<IPython.core.display.HTML object>"
      ]
     },
     "metadata": {},
     "output_type": "display_data"
    },
    {
     "data": {
      "text/html": [],
      "text/plain": [
       "<IPython.core.display.HTML object>"
      ]
     },
     "metadata": {},
     "output_type": "display_data"
    },
    {
     "data": {
      "text/html": [],
      "text/plain": [
       "<IPython.core.display.HTML object>"
      ]
     },
     "metadata": {},
     "output_type": "display_data"
    },
    {
     "data": {
      "text/html": [],
      "text/plain": [
       "<IPython.core.display.HTML object>"
      ]
     },
     "metadata": {},
     "output_type": "display_data"
    },
    {
     "name": "stdout",
     "output_type": "stream",
     "text": [
      "\n",
      "Final Classification Report for bert-base-uncased:\n",
      "\n",
      "Training Classification Report:\n",
      "{'0': {'precision': 1.0, 'recall': 0.999883517763541, 'f1-score': 0.9999417554895451, 'support': 17170.0}, '1': {'precision': 0.9998933333333333, 'recall': 1.0, 'f1-score': 0.9999466638220705, 'support': 18748.0}, 'accuracy': 0.9999443176123393, 'macro avg': {'precision': 0.9999466666666667, 'recall': 0.9999417588817705, 'f1-score': 0.9999442096558078, 'support': 35918.0}, 'weighted avg': {'precision': 0.9999443235517939, 'recall': 0.9999443176123393, 'f1-score': 0.9999443174756854, 'support': 35918.0}}\n",
      "Validation Classification Report:\n",
      "{'0': {'precision': 1.0, 'recall': 1.0, 'f1-score': 1.0, 'support': 2142.0}, '1': {'precision': 1.0, 'recall': 1.0, 'f1-score': 1.0, 'support': 2348.0}, 'accuracy': 1.0, 'macro avg': {'precision': 1.0, 'recall': 1.0, 'f1-score': 1.0, 'support': 4490.0}, 'weighted avg': {'precision': 1.0, 'recall': 1.0, 'f1-score': 1.0, 'support': 4490.0}}\n",
      "Test Classification Report:\n",
      "{'0': {'precision': 0.9995249406175772, 'recall': 0.9995249406175772, 'f1-score': 0.9995249406175772, 'support': 2105.0}, '1': {'precision': 0.99958071278826, 'recall': 0.99958071278826, 'f1-score': 0.99958071278826, 'support': 2385.0}, 'accuracy': 0.999554565701559, 'macro avg': {'precision': 0.9995528267029186, 'recall': 0.9995528267029186, 'f1-score': 0.9995528267029186, 'support': 4490.0}, 'weighted avg': {'precision': 0.999554565701559, 'recall': 0.999554565701559, 'f1-score': 0.999554565701559, 'support': 4490.0}}\n",
      "Precision-Recall AUC Scores:\n",
      "Training PR AUC: 1.0000\n",
      "Validation PR AUC: 1.0000\n",
      "Test PR AUC: 1.0000\n",
      "==================================================\n",
      "Loading model: FacebookAI/xlm-roberta-base\n"
     ]
    },
    {
     "data": {
      "application/vnd.jupyter.widget-view+json": {
       "model_id": "901453777c374d6ba40c9ed5427409f8",
       "version_major": 2,
       "version_minor": 0
      },
      "text/plain": [
       "tokenizer_config.json:   0%|          | 0.00/25.0 [00:00<?, ?B/s]"
      ]
     },
     "metadata": {},
     "output_type": "display_data"
    },
    {
     "data": {
      "application/vnd.jupyter.widget-view+json": {
       "model_id": "30e8cf0e933f42b9baff3bf0cb4792f7",
       "version_major": 2,
       "version_minor": 0
      },
      "text/plain": [
       "config.json:   0%|          | 0.00/615 [00:00<?, ?B/s]"
      ]
     },
     "metadata": {},
     "output_type": "display_data"
    },
    {
     "data": {
      "application/vnd.jupyter.widget-view+json": {
       "model_id": "5f14182455624801b48845c4f66b1e9e",
       "version_major": 2,
       "version_minor": 0
      },
      "text/plain": [
       "sentencepiece.bpe.model:   0%|          | 0.00/5.07M [00:00<?, ?B/s]"
      ]
     },
     "metadata": {},
     "output_type": "display_data"
    },
    {
     "data": {
      "application/vnd.jupyter.widget-view+json": {
       "model_id": "a0acd66954e64e5cb8c57d255002c29e",
       "version_major": 2,
       "version_minor": 0
      },
      "text/plain": [
       "tokenizer.json:   0%|          | 0.00/9.10M [00:00<?, ?B/s]"
      ]
     },
     "metadata": {},
     "output_type": "display_data"
    },
    {
     "data": {
      "application/vnd.jupyter.widget-view+json": {
       "model_id": "4ae36abe26ac4b10a83a871b578af4a5",
       "version_major": 2,
       "version_minor": 0
      },
      "text/plain": [
       "model.safetensors:   0%|          | 0.00/1.12G [00:00<?, ?B/s]"
      ]
     },
     "metadata": {},
     "output_type": "display_data"
    },
    {
     "data": {
      "application/vnd.jupyter.widget-view+json": {
       "model_id": "c04f9d6c07bf40a1925c1e9d3942279b",
       "version_major": 2,
       "version_minor": 0
      },
      "text/plain": [
       "Map:   0%|          | 0/35918 [00:00<?, ? examples/s]"
      ]
     },
     "metadata": {},
     "output_type": "display_data"
    },
    {
     "data": {
      "application/vnd.jupyter.widget-view+json": {
       "model_id": "50b309f8cc014b9aac334684cdb6a355",
       "version_major": 2,
       "version_minor": 0
      },
      "text/plain": [
       "Map:   0%|          | 0/4490 [00:00<?, ? examples/s]"
      ]
     },
     "metadata": {},
     "output_type": "display_data"
    },
    {
     "data": {
      "application/vnd.jupyter.widget-view+json": {
       "model_id": "d4622c2cadc4468c9d94b9ef674ec389",
       "version_major": 2,
       "version_minor": 0
      },
      "text/plain": [
       "Map:   0%|          | 0/4490 [00:00<?, ? examples/s]"
      ]
     },
     "metadata": {},
     "output_type": "display_data"
    },
    {
     "data": {
      "text/html": [
       "\n",
       "    <div>\n",
       "      \n",
       "      <progress value='4490' max='4490' style='width:300px; height:20px; vertical-align: middle;'></progress>\n",
       "      [4490/4490 25:57, Epoch 2/2]\n",
       "    </div>\n",
       "    <table border=\"1\" class=\"dataframe\">\n",
       "  <thead>\n",
       " <tr style=\"text-align: left;\">\n",
       "      <th>Epoch</th>\n",
       "      <th>Training Loss</th>\n",
       "      <th>Validation Loss</th>\n",
       "      <th>Accuracy</th>\n",
       "      <th>Pr Auc</th>\n",
       "      <th>Classification Report</th>\n",
       "    </tr>\n",
       "  </thead>\n",
       "  <tbody>\n",
       "    <tr>\n",
       "      <td>1</td>\n",
       "      <td>0.003000</td>\n",
       "      <td>0.002192</td>\n",
       "      <td>0.999777</td>\n",
       "      <td>0.999997</td>\n",
       "      <td>{'0': {'precision': 0.9995333644423705, 'recall': 1.0, 'f1-score': 0.9997666277712952, 'support': 2142.0}, '1': {'precision': 1.0, 'recall': 0.9995741056218058, 'f1-score': 0.999787007454739, 'support': 2348.0}, 'accuracy': 0.9997772828507795, 'macro avg': {'precision': 0.9997666822211853, 'recall': 0.999787052810903, 'f1-score': 0.9997768176130171, 'support': 4490.0}, 'weighted avg': {'precision': 0.9997773867785207, 'recall': 0.9997772828507795, 'f1-score': 0.9997772851202321, 'support': 4490.0}}</td>\n",
       "    </tr>\n",
       "    <tr>\n",
       "      <td>2</td>\n",
       "      <td>0.002000</td>\n",
       "      <td>0.001886</td>\n",
       "      <td>0.999777</td>\n",
       "      <td>0.999999</td>\n",
       "      <td>{'0': {'precision': 0.9995333644423705, 'recall': 1.0, 'f1-score': 0.9997666277712952, 'support': 2142.0}, '1': {'precision': 1.0, 'recall': 0.9995741056218058, 'f1-score': 0.999787007454739, 'support': 2348.0}, 'accuracy': 0.9997772828507795, 'macro avg': {'precision': 0.9997666822211853, 'recall': 0.999787052810903, 'f1-score': 0.9997768176130171, 'support': 4490.0}, 'weighted avg': {'precision': 0.9997773867785207, 'recall': 0.9997772828507795, 'f1-score': 0.9997772851202321, 'support': 4490.0}}</td>\n",
       "    </tr>\n",
       "  </tbody>\n",
       "</table><p>"
      ],
      "text/plain": [
       "<IPython.core.display.HTML object>"
      ]
     },
     "metadata": {},
     "output_type": "display_data"
    },
    {
     "data": {
      "text/html": [],
      "text/plain": [
       "<IPython.core.display.HTML object>"
      ]
     },
     "metadata": {},
     "output_type": "display_data"
    },
    {
     "data": {
      "text/html": [],
      "text/plain": [
       "<IPython.core.display.HTML object>"
      ]
     },
     "metadata": {},
     "output_type": "display_data"
    },
    {
     "data": {
      "text/html": [],
      "text/plain": [
       "<IPython.core.display.HTML object>"
      ]
     },
     "metadata": {},
     "output_type": "display_data"
    },
    {
     "name": "stdout",
     "output_type": "stream",
     "text": [
      "\n",
      "Final Classification Report for FacebookAI/xlm-roberta-base:\n",
      "\n",
      "Training Classification Report:\n",
      "{'0': {'precision': 0.9996506346803308, 'recall': 0.999883517763541, 'f1-score': 0.9997670626601444, 'support': 17170.0}, '1': {'precision': 0.9998932991890739, 'recall': 0.9996799658630254, 'f1-score': 0.9997866211458445, 'support': 18748.0}, 'accuracy': 0.9997772704493568, 'macro avg': {'precision': 0.9997719669347023, 'recall': 0.9997817418132833, 'f1-score': 0.9997768419029944, 'support': 35918.0}, 'weighted avg': {'precision': 0.9997772974736354, 'recall': 0.9997772704493568, 'f1-score': 0.9997772715384201, 'support': 35918.0}}\n",
      "Validation Classification Report:\n",
      "{'0': {'precision': 0.9995333644423705, 'recall': 1.0, 'f1-score': 0.9997666277712952, 'support': 2142.0}, '1': {'precision': 1.0, 'recall': 0.9995741056218058, 'f1-score': 0.999787007454739, 'support': 2348.0}, 'accuracy': 0.9997772828507795, 'macro avg': {'precision': 0.9997666822211853, 'recall': 0.999787052810903, 'f1-score': 0.9997768176130171, 'support': 4490.0}, 'weighted avg': {'precision': 0.9997773867785207, 'recall': 0.9997772828507795, 'f1-score': 0.9997772851202321, 'support': 4490.0}}\n",
      "Test Classification Report:\n",
      "{'0': {'precision': 0.9995251661918328, 'recall': 1.0, 'f1-score': 0.9997625267157445, 'support': 2105.0}, '1': {'precision': 1.0, 'recall': 0.99958071278826, 'f1-score': 0.9997903124344726, 'support': 2385.0}, 'accuracy': 0.9997772828507795, 'macro avg': {'precision': 0.9997625830959165, 'recall': 0.9997903563941299, 'f1-score': 0.9997764195751085, 'support': 4490.0}, 'weighted avg': {'precision': 0.9997773886044118, 'recall': 0.9997772828507795, 'f1-score': 0.9997772859449574, 'support': 4490.0}}\n",
      "Precision-Recall AUC Scores:\n",
      "Training PR AUC: 1.0000\n",
      "Validation PR AUC: 1.0000\n",
      "Test PR AUC: 1.0000\n",
      "==================================================\n",
      "Loading model: jy46604790/Fake-News-Bert-Detect\n"
     ]
    },
    {
     "data": {
      "application/vnd.jupyter.widget-view+json": {
       "model_id": "4b9415ca48074d6e85d70ec6d559baac",
       "version_major": 2,
       "version_minor": 0
      },
      "text/plain": [
       "tokenizer_config.json:   0%|          | 0.00/1.14k [00:00<?, ?B/s]"
      ]
     },
     "metadata": {},
     "output_type": "display_data"
    },
    {
     "data": {
      "application/vnd.jupyter.widget-view+json": {
       "model_id": "66dc5c37cd4447599b9b8fb8136a7036",
       "version_major": 2,
       "version_minor": 0
      },
      "text/plain": [
       "vocab.json:   0%|          | 0.00/899k [00:00<?, ?B/s]"
      ]
     },
     "metadata": {},
     "output_type": "display_data"
    },
    {
     "data": {
      "application/vnd.jupyter.widget-view+json": {
       "model_id": "363fe3d3deb342fb9708702dc977c106",
       "version_major": 2,
       "version_minor": 0
      },
      "text/plain": [
       "merges.txt:   0%|          | 0.00/456k [00:00<?, ?B/s]"
      ]
     },
     "metadata": {},
     "output_type": "display_data"
    },
    {
     "data": {
      "application/vnd.jupyter.widget-view+json": {
       "model_id": "6358ee35a5d64fafb8b6a2f0cf7fbde6",
       "version_major": 2,
       "version_minor": 0
      },
      "text/plain": [
       "special_tokens_map.json:   0%|          | 0.00/772 [00:00<?, ?B/s]"
      ]
     },
     "metadata": {},
     "output_type": "display_data"
    },
    {
     "data": {
      "application/vnd.jupyter.widget-view+json": {
       "model_id": "47294f3815874e3f80d352b7f28b9e12",
       "version_major": 2,
       "version_minor": 0
      },
      "text/plain": [
       "config.json:   0%|          | 0.00/735 [00:00<?, ?B/s]"
      ]
     },
     "metadata": {},
     "output_type": "display_data"
    },
    {
     "data": {
      "application/vnd.jupyter.widget-view+json": {
       "model_id": "49d0482ea86f4f47b2d0b55217dfdfb2",
       "version_major": 2,
       "version_minor": 0
      },
      "text/plain": [
       "pytorch_model.bin:   0%|          | 0.00/499M [00:00<?, ?B/s]"
      ]
     },
     "metadata": {},
     "output_type": "display_data"
    },
    {
     "data": {
      "application/vnd.jupyter.widget-view+json": {
       "model_id": "5b000a51cbc940deab2514c2789a384e",
       "version_major": 2,
       "version_minor": 0
      },
      "text/plain": [
       "Map:   0%|          | 0/35918 [00:00<?, ? examples/s]"
      ]
     },
     "metadata": {},
     "output_type": "display_data"
    },
    {
     "data": {
      "application/vnd.jupyter.widget-view+json": {
       "model_id": "30924069036145e3be4dfbf789a7184d",
       "version_major": 2,
       "version_minor": 0
      },
      "text/plain": [
       "model.safetensors:   0%|          | 0.00/499M [00:00<?, ?B/s]"
      ]
     },
     "metadata": {},
     "output_type": "display_data"
    },
    {
     "data": {
      "application/vnd.jupyter.widget-view+json": {
       "model_id": "31c6f97461464c2f93e04654f96873b9",
       "version_major": 2,
       "version_minor": 0
      },
      "text/plain": [
       "Map:   0%|          | 0/4490 [00:00<?, ? examples/s]"
      ]
     },
     "metadata": {},
     "output_type": "display_data"
    },
    {
     "data": {
      "application/vnd.jupyter.widget-view+json": {
       "model_id": "a692c00df5ef4597b891a745df7e231c",
       "version_major": 2,
       "version_minor": 0
      },
      "text/plain": [
       "Map:   0%|          | 0/4490 [00:00<?, ? examples/s]"
      ]
     },
     "metadata": {},
     "output_type": "display_data"
    },
    {
     "data": {
      "text/html": [
       "\n",
       "    <div>\n",
       "      \n",
       "      <progress value='4490' max='4490' style='width:300px; height:20px; vertical-align: middle;'></progress>\n",
       "      [4490/4490 24:50, Epoch 2/2]\n",
       "    </div>\n",
       "    <table border=\"1\" class=\"dataframe\">\n",
       "  <thead>\n",
       " <tr style=\"text-align: left;\">\n",
       "      <th>Epoch</th>\n",
       "      <th>Training Loss</th>\n",
       "      <th>Validation Loss</th>\n",
       "      <th>Accuracy</th>\n",
       "      <th>Pr Auc</th>\n",
       "      <th>Classification Report</th>\n",
       "    </tr>\n",
       "  </thead>\n",
       "  <tbody>\n",
       "    <tr>\n",
       "      <td>1</td>\n",
       "      <td>0.005400</td>\n",
       "      <td>0.002002</td>\n",
       "      <td>0.999777</td>\n",
       "      <td>1.000000</td>\n",
       "      <td>{'0': {'precision': 0.9995333644423705, 'recall': 1.0, 'f1-score': 0.9997666277712952, 'support': 2142.0}, '1': {'precision': 1.0, 'recall': 0.9995741056218058, 'f1-score': 0.999787007454739, 'support': 2348.0}, 'accuracy': 0.9997772828507795, 'macro avg': {'precision': 0.9997666822211853, 'recall': 0.999787052810903, 'f1-score': 0.9997768176130171, 'support': 4490.0}, 'weighted avg': {'precision': 0.9997773867785207, 'recall': 0.9997772828507795, 'f1-score': 0.9997772851202321, 'support': 4490.0}}</td>\n",
       "    </tr>\n",
       "    <tr>\n",
       "      <td>2</td>\n",
       "      <td>0.001900</td>\n",
       "      <td>0.002233</td>\n",
       "      <td>0.999555</td>\n",
       "      <td>0.999999</td>\n",
       "      <td>{'0': {'precision': 0.9995331465919701, 'recall': 0.9995331465919701, 'f1-score': 0.9995331465919701, 'support': 2142.0}, '1': {'precision': 0.9995741056218058, 'recall': 0.9995741056218058, 'f1-score': 0.9995741056218058, 'support': 2348.0}, 'accuracy': 0.999554565701559, 'macro avg': {'precision': 0.999553626106888, 'recall': 0.999553626106888, 'f1-score': 0.999553626106888, 'support': 4490.0}, 'weighted avg': {'precision': 0.999554565701559, 'recall': 0.999554565701559, 'f1-score': 0.999554565701559, 'support': 4490.0}}</td>\n",
       "    </tr>\n",
       "  </tbody>\n",
       "</table><p>"
      ],
      "text/plain": [
       "<IPython.core.display.HTML object>"
      ]
     },
     "metadata": {},
     "output_type": "display_data"
    },
    {
     "data": {
      "text/html": [],
      "text/plain": [
       "<IPython.core.display.HTML object>"
      ]
     },
     "metadata": {},
     "output_type": "display_data"
    },
    {
     "data": {
      "text/html": [],
      "text/plain": [
       "<IPython.core.display.HTML object>"
      ]
     },
     "metadata": {},
     "output_type": "display_data"
    },
    {
     "data": {
      "text/html": [],
      "text/plain": [
       "<IPython.core.display.HTML object>"
      ]
     },
     "metadata": {},
     "output_type": "display_data"
    },
    {
     "name": "stdout",
     "output_type": "stream",
     "text": [
      "\n",
      "Final Classification Report for jy46604790/Fake-News-Bert-Detect:\n",
      "\n",
      "Training Classification Report:\n",
      "{'0': {'precision': 0.9995339081799114, 'recall': 0.9991846243447874, 'f1-score': 0.9993592357429952, 'support': 17170.0}, '1': {'precision': 0.9992534925882478, 'recall': 0.9995732878173672, 'f1-score': 0.9994133646205535, 'support': 18748.0}, 'accuracy': 0.9993874937357314, 'macro avg': {'precision': 0.9993937003840796, 'recall': 0.9993789560810773, 'f1-score': 0.9993863001817744, 'support': 35918.0}, 'weighted avg': {'precision': 0.9993875405783603, 'recall': 0.9993874937357314, 'f1-score': 0.9993874892146934, 'support': 35918.0}}\n",
      "Validation Classification Report:\n",
      "{'0': {'precision': 0.9995333644423705, 'recall': 1.0, 'f1-score': 0.9997666277712952, 'support': 2142.0}, '1': {'precision': 1.0, 'recall': 0.9995741056218058, 'f1-score': 0.999787007454739, 'support': 2348.0}, 'accuracy': 0.9997772828507795, 'macro avg': {'precision': 0.9997666822211853, 'recall': 0.999787052810903, 'f1-score': 0.9997768176130171, 'support': 4490.0}, 'weighted avg': {'precision': 0.9997773867785207, 'recall': 0.9997772828507795, 'f1-score': 0.9997772851202321, 'support': 4490.0}}\n",
      "Test Classification Report:\n",
      "{'0': {'precision': 0.9990498812351544, 'recall': 0.9990498812351544, 'f1-score': 0.9990498812351544, 'support': 2105.0}, '1': {'precision': 0.9991614255765199, 'recall': 0.9991614255765199, 'f1-score': 0.9991614255765199, 'support': 2385.0}, 'accuracy': 0.9991091314031181, 'macro avg': {'precision': 0.9991056534058371, 'recall': 0.9991056534058371, 'f1-score': 0.9991056534058371, 'support': 4490.0}, 'weighted avg': {'precision': 0.9991091314031181, 'recall': 0.9991091314031181, 'f1-score': 0.9991091314031181, 'support': 4490.0}}\n",
      "Precision-Recall AUC Scores:\n",
      "Training PR AUC: 1.0000\n",
      "Validation PR AUC: 1.0000\n",
      "Test PR AUC: 1.0000\n",
      "==================================================\n",
      "distilroberta-base:\n",
      "Final Training Accuracy: 0.9998\n",
      "Final Validation Accuracy: 0.9998\n",
      "Final Precision-Recall AUC (Test): 1.0000\n",
      "Classification Report (Test):\n",
      "{'0': {'precision': 0.9995249406175772, 'recall': 0.9995249406175772, 'f1-score': 0.9995249406175772, 'support': 2105.0}, '1': {'precision': 0.99958071278826, 'recall': 0.99958071278826, 'f1-score': 0.99958071278826, 'support': 2385.0}, 'accuracy': 0.999554565701559, 'macro avg': {'precision': 0.9995528267029186, 'recall': 0.9995528267029186, 'f1-score': 0.9995528267029186, 'support': 4490.0}, 'weighted avg': {'precision': 0.999554565701559, 'recall': 0.999554565701559, 'f1-score': 0.999554565701559, 'support': 4490.0}}\n",
      "==================================================\n",
      "bert-base-uncased:\n",
      "Final Training Accuracy: 1.0000\n",
      "Final Validation Accuracy: 1.0000\n",
      "Final Precision-Recall AUC (Test): 1.0000\n",
      "Classification Report (Test):\n",
      "{'0': {'precision': 0.9995249406175772, 'recall': 0.9995249406175772, 'f1-score': 0.9995249406175772, 'support': 2105.0}, '1': {'precision': 0.99958071278826, 'recall': 0.99958071278826, 'f1-score': 0.99958071278826, 'support': 2385.0}, 'accuracy': 0.999554565701559, 'macro avg': {'precision': 0.9995528267029186, 'recall': 0.9995528267029186, 'f1-score': 0.9995528267029186, 'support': 4490.0}, 'weighted avg': {'precision': 0.999554565701559, 'recall': 0.999554565701559, 'f1-score': 0.999554565701559, 'support': 4490.0}}\n",
      "==================================================\n",
      "FacebookAI/xlm-roberta-base:\n",
      "Final Training Accuracy: 0.9998\n",
      "Final Validation Accuracy: 0.9998\n",
      "Final Precision-Recall AUC (Test): 1.0000\n",
      "Classification Report (Test):\n",
      "{'0': {'precision': 0.9995251661918328, 'recall': 1.0, 'f1-score': 0.9997625267157445, 'support': 2105.0}, '1': {'precision': 1.0, 'recall': 0.99958071278826, 'f1-score': 0.9997903124344726, 'support': 2385.0}, 'accuracy': 0.9997772828507795, 'macro avg': {'precision': 0.9997625830959165, 'recall': 0.9997903563941299, 'f1-score': 0.9997764195751085, 'support': 4490.0}, 'weighted avg': {'precision': 0.9997773886044118, 'recall': 0.9997772828507795, 'f1-score': 0.9997772859449574, 'support': 4490.0}}\n",
      "==================================================\n",
      "jy46604790/Fake-News-Bert-Detect:\n",
      "Final Training Accuracy: 0.9998\n",
      "Final Validation Accuracy: 0.9998\n",
      "Final Precision-Recall AUC (Test): 1.0000\n",
      "Classification Report (Test):\n",
      "{'0': {'precision': 0.9990498812351544, 'recall': 0.9990498812351544, 'f1-score': 0.9990498812351544, 'support': 2105.0}, '1': {'precision': 0.9991614255765199, 'recall': 0.9991614255765199, 'f1-score': 0.9991614255765199, 'support': 2385.0}, 'accuracy': 0.9991091314031181, 'macro avg': {'precision': 0.9991056534058371, 'recall': 0.9991056534058371, 'f1-score': 0.9991056534058371, 'support': 4490.0}, 'weighted avg': {'precision': 0.9991091314031181, 'recall': 0.9991091314031181, 'f1-score': 0.9991091314031181, 'support': 4490.0}}\n",
      "==================================================\n"
     ]
    }
   ],
   "source": [
    "from transformers import AutoTokenizer, AutoModelForSequenceClassification\n",
    "import transformers\n",
    "import os\n",
    "from functools import partial\n",
    "from sklearn.metrics import accuracy_score, precision_recall_curve, auc, classification_report\n",
    "import torch.nn.functional as F\n",
    "\n",
    "# Define label mappings\n",
    "id2label = {0: \"True News\", 1: \"Fake News\"}\n",
    "label2id = {\"True News\": 0, \"Fake News\": 1}\n",
    "\n",
    "# List of model names to loop through\n",
    "models = [\"distilroberta-base\", \"bert-base-uncased\", \"FacebookAI/xlm-roberta-base\", \"jy46604790/Fake-News-Bert-Detect\"]\n",
    "\n",
    "# Initialize a dictionary to store results\n",
    "results = {}\n",
    "\n",
    "# Function to prepare the dataset by tokenizing\n",
    "def prepare_dataset(examples, tokenizer):\n",
    "    return tokenizer(examples['text'], truncation=True)\n",
    "\n",
    "# Function to compute metrics\n",
    "def compute_metrics(p):\n",
    "    logits, labels = p\n",
    "    preds = logits.argmax(axis=-1)\n",
    "    accuracy = accuracy_score(labels, preds)\n",
    "\n",
    "    # Convert logits to probabilities (apply softmax to the logits)\n",
    "    probs = F.softmax(torch.tensor(logits), dim=-1).numpy()\n",
    "\n",
    "    # Compute Precision-Recall curve and AUC\n",
    "    precision, recall, _ = precision_recall_curve(labels, probs[:, 1])\n",
    "    pr_auc = auc(recall, precision)  # Ensure recall is on x-axis and precision on y-axis\n",
    "\n",
    "    class_report = classification_report(labels, preds, output_dict=True)\n",
    "\n",
    "    return {\n",
    "        'accuracy': accuracy,\n",
    "        'pr_auc': pr_auc,\n",
    "        'classification_report': class_report\n",
    "    }\n",
    "\n",
    "# Loop through each model\n",
    "for model_name in models:\n",
    "    print(f\"Loading model: {model_name}\")\n",
    "\n",
    "    # Load tokenizer and model for each model in the list\n",
    "    tokenizer = transformers.AutoTokenizer.from_pretrained(model_name)\n",
    "    model = transformers.AutoModelForSequenceClassification.from_pretrained(model_name,\n",
    "                                                                            num_labels=2,\n",
    "                                                                            id2label=id2label,\n",
    "                                                                            label2id=label2id)\n",
    "    # Move the model to the appropriate device (CPU or GPU)\n",
    "    model.to(device)\n",
    "\n",
    "    # Tokenize the dataset\n",
    "    tokenized_df = dataset.map(partial(prepare_dataset, tokenizer=tokenizer),\n",
    "                               batched=True)\n",
    "\n",
    "    # Define data collator (dynamic padding)\n",
    "    data_collator = transformers.DataCollatorWithPadding(tokenizer=tokenizer, return_tensors=\"pt\")\n",
    "\n",
    "    # Set up training arguments\n",
    "    training_args = transformers.TrainingArguments(\n",
    "        output_dir='./results',\n",
    "        learning_rate=2e-5,\n",
    "        per_device_train_batch_size=16,\n",
    "        per_device_eval_batch_size=16,\n",
    "        logging_steps=150,\n",
    "        num_train_epochs=2,\n",
    "        weight_decay=0.01,\n",
    "        eval_strategy=\"epoch\",\n",
    "        save_strategy=\"epoch\",\n",
    "        load_best_model_at_end=True,\n",
    "        report_to=\"none\"\n",
    "    )\n",
    "\n",
    "    # Define the trainer\n",
    "    trainer = transformers.Trainer(\n",
    "        model,\n",
    "        training_args,\n",
    "        train_dataset=tokenized_df[\"train\"],\n",
    "        eval_dataset=tokenized_df[\"val\"],\n",
    "        data_collator=data_collator,\n",
    "        compute_metrics=compute_metrics  # This will compute accuracy and PR AUC\n",
    "    )\n",
    "\n",
    "    # Start training\n",
    "    trainer.train()\n",
    "\n",
    "    # Explicitly evaluate the model after training\n",
    "    eval_metrics = trainer.evaluate(tokenized_df[\"val\"])\n",
    "\n",
    "    # Make predictions on the test dataset\n",
    "    predictions = trainer.predict(test_dataset=tokenized_df[\"test\"])\n",
    "\n",
    "    # Unpack the results\n",
    "    logits = predictions.predictions\n",
    "    labels = predictions.label_ids\n",
    "    metrics = predictions.metrics\n",
    "\n",
    "    # Make predictions on train and validation sets\n",
    "    preds_train = trainer.predict(tokenized_df[\"train\"]).predictions.argmax(axis=-1)\n",
    "    preds_val = trainer.predict(tokenized_df[\"val\"]).predictions.argmax(axis=-1)\n",
    "    preds_test = logits.argmax(axis=-1)\n",
    "\n",
    "    # Compute classification reports for train, val, and test datasets\n",
    "    class_report_train = classification_report(tokenized_df[\"train\"][\"label\"], preds_train, output_dict=True)\n",
    "    class_report_val = classification_report(tokenized_df[\"val\"][\"label\"], preds_val, output_dict=True)\n",
    "    class_report_test = classification_report(tokenized_df[\"test\"][\"label\"], preds_test, output_dict=True)\n",
    "\n",
    "    # Store results for this model\n",
    "    name = model_name  # Use model name as the identifier\n",
    "    results[name] = {\n",
    "        'train_loss': eval_metrics.get('eval_loss', 'N/A'),  # Use 'eval_loss' from evaluation phase if available\n",
    "        'val_loss': eval_metrics.get('eval_loss', 'N/A'),  # Same for validation loss\n",
    "        'accuracy_train': eval_metrics.get('eval_accuracy', 'N/A'),\n",
    "        'accuracy_val': eval_metrics.get('eval_accuracy', 'N/A'),\n",
    "        'pr_auc_train': eval_metrics.get('eval_pr_auc', 'N/A'),\n",
    "        'pr_auc_val': eval_metrics.get('eval_pr_auc', 'N/A'),\n",
    "        'pr_auc_test': eval_metrics.get('eval_pr_auc', 'N/A'),\n",
    "        'classification_report_train': class_report_train,\n",
    "        'classification_report_val': class_report_val,\n",
    "        'classification_report_test': class_report_test\n",
    "    }\n",
    "\n",
    "    # Print final classification report for the model after training\n",
    "    print(f\"\\nFinal Classification Report for {name}:\\n\")\n",
    "    print(f\"Training Classification Report:\\n{class_report_train}\")\n",
    "    print(f\"Validation Classification Report:\\n{class_report_val}\")\n",
    "    print(f\"Test Classification Report:\\n{class_report_test}\")\n",
    "\n",
    "    # Print final Precision-Recall AUC scores\n",
    "    print(f\"Precision-Recall AUC Scores:\")\n",
    "    print(f\"Training PR AUC: {eval_metrics.get('eval_pr_auc', 'N/A'):.4f}\")\n",
    "    print(f\"Validation PR AUC: {eval_metrics.get('eval_pr_auc', 'N/A'):.4f}\")\n",
    "    print(f\"Test PR AUC: {eval_metrics.get('eval_pr_auc', 'N/A'):.4f}\")\n",
    "    print(\"=\" * 50)\n",
    "\n",
    "# Print final evaluation metrics for each model\n",
    "for name, metrics in results.items():\n",
    "    print(f\"{name}:\")\n",
    "    print(f\"Final Training Accuracy: {metrics['accuracy_train']:.4f}\")\n",
    "    print(f\"Final Validation Accuracy: {metrics['accuracy_val']:.4f}\")\n",
    "    print(f\"Final Precision-Recall AUC (Test): {metrics['pr_auc_test']:.4f}\")\n",
    "    print(f\"Classification Report (Test):\\n{metrics['classification_report_test']}\")\n",
    "    print(\"=\" * 50)\n"
   ]
  },
  {
   "cell_type": "code",
   "execution_count": null,
   "metadata": {
    "colab": {
     "base_uri": "https://localhost:8080/",
     "height": 855
    },
    "id": "ck2h90I-wArJ",
    "outputId": "6ed935e5-1e3c-4820-a3e1-2df634ec9b15"
   },
   "outputs": [
    {
     "name": "stdout",
     "output_type": "stream",
     "text": [
      "                              Model  Accuracy_train  Accuracy_val  \\\n",
      "0                distilroberta-base        0.999972      0.999777   \n",
      "1                 bert-base-uncased        0.999944      1.000000   \n",
      "2       FacebookAI/xlm-roberta-base        0.999777      0.999777   \n",
      "3  jy46604790/Fake-News-Bert-Detect        0.999387      0.999777   \n",
      "\n",
      "   Accuracy_test  Weighted_F1_train  Weighted_F1_val  Weighted_F1_test  \\\n",
      "0       0.999555           0.999972         0.999777          0.999555   \n",
      "1       0.999555           0.999944         1.000000          0.999555   \n",
      "2       0.999777           0.999777         0.999777          0.999777   \n",
      "3       0.999109           0.999387         0.999777          0.999109   \n",
      "\n",
      "   PR_AUC_train  PR_AUC_val  PR_AUC_test  \n",
      "0      1.000000    1.000000     1.000000  \n",
      "1      1.000000    1.000000     1.000000  \n",
      "2      0.999999    0.999999     0.999999  \n",
      "3      1.000000    1.000000     1.000000  \n"
     ]
    },
    {
     "data": {
      "image/png": "[encoded data removed]",
      "text/plain": [
       "<Figure size 2000x600 with 3 Axes>"
      ]
     },
     "metadata": {},
     "output_type": "display_data"
    }
   ],
   "source": [
    "import matplotlib.pyplot as plt\n",
    "import numpy as np\n",
    "import seaborn as sns\n",
    "import pandas as pd\n",
    "import re\n",
    "from transformers import AutoTokenizer, AutoModelForSequenceClassification\n",
    "import transformers\n",
    "from functools import partial\n",
    "from sklearn.metrics import accuracy_score, precision_recall_curve, auc, classification_report\n",
    "import torch.nn.functional as F\n",
    "\n",
    "# Function to extract accuracy and weighted F1-score from classification report (modified for dict)\n",
    "def extract_metrics(report):\n",
    "    accuracy = report.get('accuracy', None)\n",
    "    weighted_f1 = report.get('weighted avg', {}).get('f1-score', None)\n",
    "\n",
    "    return accuracy, weighted_f1\n",
    "\n",
    "# Group models by feature representation (TF-IDF, Word2Vec, GloVe)\n",
    "def plot_performance_metrics(results):\n",
    "    # Use Seaborn color palette\n",
    "    sns_colors = sns.color_palette(\"deep\")  # Seaborn deep palette\n",
    "    colors = [sns_colors[0], sns_colors[2], sns_colors[3]]  # Pick 3 distinct colors\n",
    "\n",
    "    # Define a set of metrics to plot: accuracy, weighted F1-score, and PR AUC\n",
    "    metric_data = {\n",
    "        'Model': [],\n",
    "        'Accuracy_train': [],\n",
    "        'Accuracy_val': [],\n",
    "        'Accuracy_test': [],\n",
    "        'Weighted_F1_train': [],\n",
    "        'Weighted_F1_val': [],\n",
    "        'Weighted_F1_test': [],\n",
    "        'PR_AUC_train': [],\n",
    "        'PR_AUC_val': [],\n",
    "        'PR_AUC_test': [],\n",
    "    }\n",
    "\n",
    "    models = list(results.keys())\n",
    "\n",
    "    # Iterate over each model in the results dictionary\n",
    "    for model in models:\n",
    "        metrics = results[model]\n",
    "\n",
    "        # Extract accuracy and weighted F1 from classification reports\n",
    "        acc_train, f1_train = extract_metrics(metrics['classification_report_train'])\n",
    "        acc_val, f1_val = extract_metrics(metrics['classification_report_val'])\n",
    "        acc_test, f1_test = extract_metrics(metrics['classification_report_test'])\n",
    "\n",
    "        # Append the metrics to the plot data and DataFrame data\n",
    "        metric_data['Model'].append(model)\n",
    "        metric_data['Accuracy_train'].append(acc_train)\n",
    "        metric_data['Accuracy_val'].append(acc_val)\n",
    "        metric_data['Accuracy_test'].append(acc_test)\n",
    "\n",
    "        metric_data['Weighted_F1_train'].append(f1_train)\n",
    "        metric_data['Weighted_F1_val'].append(f1_val)\n",
    "        metric_data['Weighted_F1_test'].append(f1_test)\n",
    "\n",
    "        # Extract PR AUC\n",
    "        pr_auc_train = metrics['pr_auc_train']\n",
    "        pr_auc_val = metrics['pr_auc_val']\n",
    "        pr_auc_test = metrics['pr_auc_test']\n",
    "\n",
    "        metric_data['PR_AUC_train'].append(pr_auc_train)\n",
    "        metric_data['PR_AUC_val'].append(pr_auc_val)\n",
    "        metric_data['PR_AUC_test'].append(pr_auc_test)\n",
    "\n",
    "    # Create a DataFrame to print the metrics\n",
    "    df_metrics = pd.DataFrame(metric_data)\n",
    "    print(df_metrics)\n",
    "\n",
    "    # Plotting\n",
    "    fig, axes = plt.subplots(1, 3, figsize=(20, 6), sharey=False)  # Larger figure size\n",
    "    fig.suptitle(\"Model Performance Metrics\", fontsize=14, fontweight=\"bold\")\n",
    "\n",
    "    # Define the labels and data for plotting\n",
    "    titles = ['Accuracy', 'Weighted F1-score', 'PR AUC']\n",
    "    data = [\n",
    "        {'train': metric_data['Accuracy_train'], 'val': metric_data['Accuracy_val'], 'test': metric_data['Accuracy_test']},\n",
    "        {'train': metric_data['Weighted_F1_train'], 'val': metric_data['Weighted_F1_val'], 'test': metric_data['Weighted_F1_test']},\n",
    "        {'train': metric_data['PR_AUC_train'], 'val': metric_data['PR_AUC_val'], 'test': metric_data['PR_AUC_test']}\n",
    "    ]\n",
    "\n",
    "    # Plot each metric\n",
    "    for i, (title, metric) in enumerate(zip(titles, data)):\n",
    "        ax = axes[i]\n",
    "        x = np.arange(len(models))\n",
    "        width = 0.2  # Smaller width for spacing\n",
    "\n",
    "        bars1 = ax.bar(x - width, metric['train'], width, label=\"Train\", color=colors[0])\n",
    "        bars2 = ax.bar(x, metric['val'], width, label=\"Validation\", color=colors[1])\n",
    "        bars3 = ax.bar(x + width, metric['test'], width, label=\"Test\", color=colors[2])\n",
    "\n",
    "        # Add value labels on bars\n",
    "        for bars in [bars1, bars2, bars3]:\n",
    "            for bar in bars:\n",
    "                height = bar.get_height()\n",
    "                ax.annotate(f'{height:.2f}',\n",
    "                            xy=(bar.get_x() + bar.get_width() / 2, height),\n",
    "                            xytext=(0, 5),  # Offset for visibility\n",
    "                            textcoords=\"offset points\",\n",
    "                            ha='center', va='bottom', fontsize=8)  # Smaller font size for annotations\n",
    "\n",
    "        # Set labels and formatting\n",
    "        ax.set_xticks(x)\n",
    "        ax.set_xticklabels(models, rotation=60, ha=\"right\", fontsize=10)  # Smaller font size for x labels\n",
    "        ax.set_title(title, fontsize=14, fontweight=\"bold\")\n",
    "        ax.set_ylabel(\"Score\", fontsize=12)\n",
    "        ax.set_ylim(0, 1)  # Ensures consistent scaling\n",
    "        ax.grid(axis='y', linestyle='--', alpha=0.6)\n",
    "\n",
    "        # Adjust tick size\n",
    "        ax.tick_params(axis='both', which='major', labelsize=8)  # Smaller tick marks\n",
    "\n",
    "    # Add a single legend for the whole row\n",
    "    handles, labels = axes[0].get_legend_handles_labels()\n",
    "    fig.legend(handles, labels, loc=\"lower center\", ncol=3, fontsize=10, frameon=False)\n",
    "\n",
    "    plt.subplots_adjust(bottom=0.3, top=0.85)\n",
    "    plt.tight_layout()\n",
    "    plt.show()\n",
    "\n",
    "\n",
    "\n",
    "# Call the plotting function to visualize results\n",
    "plot_performance_metrics(results)\n"
   ]
  },
  {
   "cell_type": "markdown",
   "metadata": {
    "id": "T40he99k0tND"
   },
   "source": [
    "## Model Performance Results\n",
    "\n",
    "The following table presents the performance metrics for different models evaluated on training, validation, and test datasets. The metrics include Accuracy, Weighted F1-Score, and Precision-Recall AUC (PR AUC).\n",
    "\n",
    "| Model                          | Accuracy (Train) | Accuracy (Val) | Accuracy (Test) | Weighted F1 (Train) | Weighted F1 (Val) | Weighted F1 (Test) | PR AUC (Train) | PR AUC (Val) | PR AUC (Test) |\n",
    "|--------------------------------|------------------|----------------|-----------------|---------------------|-------------------|--------------------|----------------|--------------|---------------|\n",
    "| distilroberta-base             | 0.999972         | 0.999777       | 0.999555        | 0.999972            | 0.999777          | 0.999555           | 1.000000       | 1.000000     | 1.000000      |\n",
    "| bert-base-uncased              | 0.999944         | 1.000000       | 0.999555        | 0.999944            | 1.000000          | 0.999555           | 1.000000       | 1.000000     | 1.000000      |\n",
    "| FacebookAI/xlm-roberta-base    | 0.999777         | 0.999777       | 0.999777        | 0.999777            | 0.999777          | 0.999777           | 0.999999       | 0.999999     | 0.999999      |\n",
    "| jy46604790/Fake-News-Bert-Detect | 0.999387         | 0.999777       | 0.999109        | 0.999387            | 0.999777          | 0.999109           | 1.000000       | 1.000000     | 1.000000      |\n",
    "\n",
    "### Observations:\n",
    "- **Accuracy**: All models perform excellently across the datasets, with accuracy values consistently near 1. The `bert-base-uncased` model achieves perfect accuracy on the validation set.\n",
    "- **Weighted F1-Score**: The F1-scores are very high for all models, showing strong balance between precision and recall. The `bert-base-uncased` model stands out with a perfect F1-score on the validation set.\n",
    "- **PR AUC**: All models have perfect PR AUC values for training, validation, and test sets, indicating exceptional model performance in distinguishing between classes, with no false positives or false negatives across all datasets.\n",
    "\n",
    "### Conclusion:\n",
    "These models, particularly `bert-base-uncased` and `distilroberta-base`, demonstrate outstanding performance across all evaluated metrics. The results indicate excellent generalization to unseen data, especially on the validation and test sets.\n"
   ]
  },
  {
   "cell_type": "markdown",
   "metadata": {
    "id": "JE2i2gtZ8E4t"
   },
   "source": [
    "![image.png](data:image/png;base64,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)"
   ]
  },
  {
   "cell_type": "markdown",
   "metadata": {
    "id": "v-_9gavn4Kxz"
   },
   "source": [
    "![image.png](data:image/png;base64,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)"
   ]
  },
  {
   "cell_type": "markdown",
   "metadata": {
    "id": "poi2Q6j3bogi"
   },
   "source": [
    "# Exercise 2\n",
    "\n",
    "- Repeat Exercise 3 of Part 5 (POS tagger), by fine-tuning a pre-trained BERT model.\n",
    "\n",
    "- Tune\n",
    "the hyper-parameters on the development subset of your dataset.\n",
    "\n",
    "- Monitor the performance of\n",
    "your models on the development subset during training to decide how many epochs to use.\n",
    "\n",
    "- If the sentences of your experiments exceed BERT’s maximum length limit, you may want to\n",
    "truncate them at the maximum allowed length of BERT or use a BERT-like model that can\n",
    "handle longer texts (e.g., Longformer).\n",
    "\n",
    "- Include experimental results of a baseline that tags\n",
    "each word with the most frequent tag it had in the training data; for words that were not\n",
    "encountered in the training data, the baseline should return the most frequent tag (over all\n",
    "words) of the training data.\n",
    "\n",
    "- Also include experimental results of your best method from\n",
    "exercise 10 of Part 3, exercise 2 of Part 4, exercise 3 of Part 5, now treated as additional\n",
    "baselines.\n",
    "\n",
    "- Otherwise, the contents of your report should be as in exercise 3 of Part 5, but now\n",
    "with information and results for the experiments of this exercise.\n",
    "\n",
    "- You may optionally include\n",
    "(for extra bonus) indicative experimental results on a small subset of the test set (e.g., 10 test\n",
    "examples) obtained by prompting an LLM (e.g., Chat-GPT), using appropriate instructions\n",
    "and possibly including few-shot examples (demonstrators)."
   ]
  },
  {
   "cell_type": "markdown",
   "metadata": {
    "id": "-M2VTyM2u55q"
   },
   "source": [
    "## Imports and Pip Installs"
   ]
  },
  {
   "cell_type": "code",
   "execution_count": null,
   "metadata": {
    "colab": {
     "base_uri": "https://localhost:8080/"
    },
    "id": "Ft_TMnX5I8db",
    "outputId": "1cacd1d3-0a1d-460b-8cb6-12ff43bbf0b7"
   },
   "outputs": [
    {
     "name": "stdout",
     "output_type": "stream",
     "text": [
      "Mon Mar 10 18:29:38 2025       \n",
      "+-----------------------------------------------------------------------------------------+\n",
      "| NVIDIA-SMI 550.54.15              Driver Version: 550.54.15      CUDA Version: 12.4     |\n",
      "|-----------------------------------------+------------------------+----------------------+\n",
      "| GPU  Name                 Persistence-M | Bus-Id          Disp.A | Volatile Uncorr. ECC |\n",
      "| Fan  Temp   Perf          Pwr:Usage/Cap |           Memory-Usage | GPU-Util  Compute M. |\n",
      "|                                         |                        |               MIG M. |\n",
      "|=========================================+========================+======================|\n",
      "|   0  Tesla T4                       Off |   00000000:00:04.0 Off |                    0 |\n",
      "| N/A   54C    P8             10W /   70W |       0MiB /  15360MiB |      0%      Default |\n",
      "|                                         |                        |                  N/A |\n",
      "+-----------------------------------------+------------------------+----------------------+\n",
      "                                                                                         \n",
      "+-----------------------------------------------------------------------------------------+\n",
      "| Processes:                                                                              |\n",
      "|  GPU   GI   CI        PID   Type   Process name                              GPU Memory |\n",
      "|        ID   ID                                                               Usage      |\n",
      "|=========================================================================================|\n",
      "|  No running processes found                                                             |\n",
      "+-----------------------------------------------------------------------------------------+\n"
     ]
    }
   ],
   "source": [
    "!nvidia-smi"
   ]
  },
  {
   "cell_type": "code",
   "execution_count": null,
   "metadata": {
    "colab": {
     "base_uri": "https://localhost:8080/"
    },
    "id": "nngrldP1gnr8",
    "outputId": "b8928fb3-688c-4e3d-86ce-cda0d44e9fd6"
   },
   "outputs": [
    {
     "name": "stdout",
     "output_type": "stream",
     "text": [
      "Requirement already satisfied: transformers in /usr/local/lib/python3.11/dist-packages (4.49.0)\n",
      "Requirement already satisfied: datasets in /usr/local/lib/python3.11/dist-packages (3.3.2)\n",
      "Requirement already satisfied: conllu in /usr/local/lib/python3.11/dist-packages (6.0.0)\n",
      "Requirement already satisfied: evaluate in /usr/local/lib/python3.11/dist-packages (0.4.3)\n",
      "Requirement already satisfied: seqeval in /usr/local/lib/python3.11/dist-packages (1.2.2)\n",
      "Requirement already satisfied: filelock in /usr/local/lib/python3.11/dist-packages (from transformers) (3.17.0)\n",
      "Requirement already satisfied: huggingface-hub<1.0,>=0.26.0 in /usr/local/lib/python3.11/dist-packages (from transformers) (0.28.1)\n",
      "Requirement already satisfied: numpy>=1.17 in /usr/local/lib/python3.11/dist-packages (from transformers) (1.26.4)\n",
      "Requirement already satisfied: packaging>=20.0 in /usr/local/lib/python3.11/dist-packages (from transformers) (24.2)\n",
      "Requirement already satisfied: pyyaml>=5.1 in /usr/local/lib/python3.11/dist-packages (from transformers) (6.0.2)\n",
      "Requirement already satisfied: regex!=2019.12.17 in /usr/local/lib/python3.11/dist-packages (from transformers) (2024.11.6)\n",
      "Requirement already satisfied: requests in /usr/local/lib/python3.11/dist-packages (from transformers) (2.32.3)\n",
      "Requirement already satisfied: tokenizers<0.22,>=0.21 in /usr/local/lib/python3.11/dist-packages (from transformers) (0.21.0)\n",
      "Requirement already satisfied: safetensors>=0.4.1 in /usr/local/lib/python3.11/dist-packages (from transformers) (0.5.3)\n",
      "Requirement already satisfied: tqdm>=4.27 in /usr/local/lib/python3.11/dist-packages (from transformers) (4.67.1)\n",
      "Requirement already satisfied: pyarrow>=15.0.0 in /usr/local/lib/python3.11/dist-packages (from datasets) (18.1.0)\n",
      "Requirement already satisfied: dill<0.3.9,>=0.3.0 in /usr/local/lib/python3.11/dist-packages (from datasets) (0.3.8)\n",
      "Requirement already satisfied: pandas in /usr/local/lib/python3.11/dist-packages (from datasets) (2.2.2)\n",
      "Requirement already satisfied: xxhash in /usr/local/lib/python3.11/dist-packages (from datasets) (3.5.0)\n",
      "Requirement already satisfied: multiprocess<0.70.17 in /usr/local/lib/python3.11/dist-packages (from datasets) (0.70.16)\n",
      "Requirement already satisfied: fsspec<=2024.12.0,>=2023.1.0 in /usr/local/lib/python3.11/dist-packages (from fsspec[http]<=2024.12.0,>=2023.1.0->datasets) (2024.10.0)\n",
      "Requirement already satisfied: aiohttp in /usr/local/lib/python3.11/dist-packages (from datasets) (3.11.13)\n",
      "Requirement already satisfied: scikit-learn>=0.21.3 in /usr/local/lib/python3.11/dist-packages (from seqeval) (1.6.1)\n",
      "Requirement already satisfied: aiohappyeyeballs>=2.3.0 in /usr/local/lib/python3.11/dist-packages (from aiohttp->datasets) (2.5.0)\n",
      "Requirement already satisfied: aiosignal>=1.1.2 in /usr/local/lib/python3.11/dist-packages (from aiohttp->datasets) (1.3.2)\n",
      "Requirement already satisfied: attrs>=17.3.0 in /usr/local/lib/python3.11/dist-packages (from aiohttp->datasets) (25.1.0)\n",
      "Requirement already satisfied: frozenlist>=1.1.1 in /usr/local/lib/python3.11/dist-packages (from aiohttp->datasets) (1.5.0)\n",
      "Requirement already satisfied: multidict<7.0,>=4.5 in /usr/local/lib/python3.11/dist-packages (from aiohttp->datasets) (6.1.0)\n",
      "Requirement already satisfied: propcache>=0.2.0 in /usr/local/lib/python3.11/dist-packages (from aiohttp->datasets) (0.3.0)\n",
      "Requirement already satisfied: yarl<2.0,>=1.17.0 in /usr/local/lib/python3.11/dist-packages (from aiohttp->datasets) (1.18.3)\n",
      "Requirement already satisfied: typing-extensions>=3.7.4.3 in /usr/local/lib/python3.11/dist-packages (from huggingface-hub<1.0,>=0.26.0->transformers) (4.12.2)\n",
      "Requirement already satisfied: charset-normalizer<4,>=2 in /usr/local/lib/python3.11/dist-packages (from requests->transformers) (3.4.1)\n",
      "Requirement already satisfied: idna<4,>=2.5 in /usr/local/lib/python3.11/dist-packages (from requests->transformers) (3.10)\n",
      "Requirement already satisfied: urllib3<3,>=1.21.1 in /usr/local/lib/python3.11/dist-packages (from requests->transformers) (2.3.0)\n",
      "Requirement already satisfied: certifi>=2017.4.17 in /usr/local/lib/python3.11/dist-packages (from requests->transformers) (2025.1.31)\n",
      "Requirement already satisfied: scipy>=1.6.0 in /usr/local/lib/python3.11/dist-packages (from scikit-learn>=0.21.3->seqeval) (1.13.1)\n",
      "Requirement already satisfied: joblib>=1.2.0 in /usr/local/lib/python3.11/dist-packages (from scikit-learn>=0.21.3->seqeval) (1.4.2)\n",
      "Requirement already satisfied: threadpoolctl>=3.1.0 in /usr/local/lib/python3.11/dist-packages (from scikit-learn>=0.21.3->seqeval) (3.5.0)\n",
      "Requirement already satisfied: python-dateutil>=2.8.2 in /usr/local/lib/python3.11/dist-packages (from pandas->datasets) (2.8.2)\n",
      "Requirement already satisfied: pytz>=2020.1 in /usr/local/lib/python3.11/dist-packages (from pandas->datasets) (2025.1)\n",
      "Requirement already satisfied: tzdata>=2022.7 in /usr/local/lib/python3.11/dist-packages (from pandas->datasets) (2025.1)\n",
      "Requirement already satisfied: six>=1.5 in /usr/local/lib/python3.11/dist-packages (from python-dateutil>=2.8.2->pandas->datasets) (1.17.0)\n"
     ]
    }
   ],
   "source": [
    "!pip install -U transformers datasets conllu evaluate seqeval"
   ]
  },
  {
   "cell_type": "code",
   "execution_count": null,
   "metadata": {
    "id": "YCgznNMZSQOW"
   },
   "outputs": [],
   "source": [
    "import os\n",
    "import torch\n",
    "import conllu\n",
    "import requests\n",
    "import evaluate\n",
    "import numpy as np\n",
    "import pandas as pd\n",
    "from tqdm import tqdm\n",
    "from torch.optim import AdamW\n",
    "import matplotlib.pyplot as plt\n",
    "from datasets import load_dataset\n",
    "from torch.utils.data import DataLoader\n",
    "from datasets import DatasetDict, Dataset\n",
    "from sklearn.preprocessing import label_binarize\n",
    "from transformers import DataCollatorForTokenClassification\n",
    "from sklearn.metrics import classification_report, roc_auc_score\n",
    "from sklearn.metrics import accuracy_score, precision_recall_fscore_support, classification_report\n",
    "from transformers import AutoTokenizer, AutoModelForTokenClassification, TrainingArguments, Trainer"
   ]
  },
  {
   "cell_type": "markdown",
   "metadata": {
    "id": "DdfBJETBu8Lu"
   },
   "source": [
    "## Data Download"
   ]
  },
  {
   "cell_type": "code",
   "execution_count": null,
   "metadata": {
    "colab": {
     "base_uri": "https://localhost:8080/"
    },
    "id": "Aq1z9SV3oiqN",
    "outputId": "07bf2d90-08b7-4219-c926-38b0e98086d0"
   },
   "outputs": [
    {
     "name": "stdout",
     "output_type": "stream",
     "text": [
      "Downloading en_ewt-ud-train.conllu...\n",
      "Downloaded en_ewt-ud-train.conllu\n",
      "Downloading en_ewt-ud-dev.conllu...\n",
      "Downloaded en_ewt-ud-dev.conllu\n",
      "Downloading en_ewt-ud-test.conllu...\n",
      "Downloaded en_ewt-ud-test.conllu\n"
     ]
    }
   ],
   "source": [
    "# URLs for the train, dev, and test data\n",
    "urls = {\n",
    "    \"train\": \"https://raw.githubusercontent.com/UniversalDependencies/UD_English-EWT/master/en_ewt-ud-train.conllu\",\n",
    "    \"dev\": \"https://raw.githubusercontent.com/UniversalDependencies/UD_English-EWT/master/en_ewt-ud-dev.conllu\",\n",
    "    \"test\": \"https://raw.githubusercontent.com/UniversalDependencies/UD_English-EWT/master/en_ewt-ud-test.conllu\"\n",
    "}\n",
    "\n",
    "# Function to download data from URLs\n",
    "def download_data(url, filename):\n",
    "    if os.path.exists(filename):\n",
    "        print(f\"{filename} already exists, skipping download.\")\n",
    "        return\n",
    "\n",
    "    try:\n",
    "        print(f\"Downloading {filename}...\")\n",
    "        response = requests.get(url)\n",
    "        response.raise_for_status()  # Raise an error for bad status codes\n",
    "        with open(filename, 'w', encoding='utf-8') as file:\n",
    "            file.write(response.text)\n",
    "        print(f\"Downloaded {filename}\")\n",
    "    except requests.exceptions.RequestException as e:\n",
    "        print(f\"Error downloading {filename}: {e}\")\n",
    "\n",
    "# Download train, dev, and test data\n",
    "download_data(urls['train'], 'en_ewt-ud-train.conllu')\n",
    "download_data(urls['dev'], 'en_ewt-ud-dev.conllu')\n",
    "download_data(urls['test'], 'en_ewt-ud-test.conllu')\n"
   ]
  },
  {
   "cell_type": "markdown",
   "metadata": {
    "id": "VeYSWId8vEkL"
   },
   "source": [
    "## Data Parsing"
   ]
  },
  {
   "cell_type": "code",
   "execution_count": null,
   "metadata": {
    "id": "WcMxwNw1ZPtw"
   },
   "outputs": [],
   "source": [
    "def parse_conllu(filename):\n",
    "    sentences = []\n",
    "    current_sentence = []\n",
    "\n",
    "    try:\n",
    "        with open(filename, 'r', encoding='utf-8') as file:\n",
    "            for line in file:\n",
    "                # Skip empty lines (separators between sentences)\n",
    "                if not line.strip():\n",
    "                    if current_sentence:\n",
    "                        sentences.append(current_sentence)\n",
    "                        current_sentence = []\n",
    "                    continue\n",
    "\n",
    "                # Skip comment lines (lines starting with '#')\n",
    "                if line.startswith('#'):\n",
    "                    continue\n",
    "\n",
    "                # Split the line by tabs to get the columns\n",
    "                columns = line.strip().split('\\t')\n",
    "\n",
    "                if len(columns) > 1:\n",
    "                    word = columns[1]  # The word itself\n",
    "                    pos_tag = columns[3]  # The POS tag\n",
    "                    current_sentence.append((word, pos_tag))\n",
    "\n",
    "            # Add the last sentence if the file doesn't end with an empty line\n",
    "            if current_sentence:\n",
    "                sentences.append(current_sentence)\n",
    "\n",
    "        return sentences\n",
    "\n",
    "    except FileNotFoundError:\n",
    "        print(f\"Error: File '{filename}' not found.\")\n",
    "        return []\n",
    "    except Exception as e:\n",
    "        print(f\"Error parsing the file: {e}\")\n",
    "        return []\n",
    "\n",
    "train_sentences = parse_conllu('en_ewt-ud-train.conllu')\n",
    "dev_sentences = parse_conllu('en_ewt-ud-dev.conllu')\n",
    "test_sentences = parse_conllu('en_ewt-ud-test.conllu')\n"
   ]
  },
  {
   "cell_type": "code",
   "execution_count": null,
   "metadata": {
    "colab": {
     "base_uri": "https://localhost:8080/"
    },
    "id": "WGzA2XO1_9JH",
    "outputId": "ce6c5d93-c4e6-4c6f-89a3-a4728ecf2da1"
   },
   "outputs": [
    {
     "data": {
      "text/plain": [
       "[('This', 'PRON'),\n",
       " ('is', 'AUX'),\n",
       " ('not', 'PART'),\n",
       " ('a', 'DET'),\n",
       " ('post', 'NOUN'),\n",
       " ('about', 'ADP'),\n",
       " ('fault', 'NOUN'),\n",
       " ('-', 'PUNCT'),\n",
       " ('finding', 'NOUN'),\n",
       " ('or', 'CCONJ'),\n",
       " ('assigning', 'VERB'),\n",
       " ('blame', 'NOUN'),\n",
       " ('.', 'PUNCT')]"
      ]
     },
     "execution_count": 6,
     "metadata": {},
     "output_type": "execute_result"
    }
   ],
   "source": [
    "train_sentences[69]"
   ]
  },
  {
   "cell_type": "markdown",
   "metadata": {
    "id": "yYMATzfS2pFR"
   },
   "source": [
    "## Exploratory Data Analysis"
   ]
  },
  {
   "cell_type": "code",
   "execution_count": null,
   "metadata": {
    "colab": {
     "base_uri": "https://localhost:8080/"
    },
    "id": "3cB_Sbrb7Its",
    "outputId": "5fea4b9b-2d92-4b58-8902-18be49a9b6aa"
   },
   "outputs": [
    {
     "name": "stdout",
     "output_type": "stream",
     "text": [
      "Mean train sentence length:  16.520248724489797\n"
     ]
    }
   ],
   "source": [
    "# Calculate the length of each sentence (in terms of the number of words)\n",
    "sentence_lengths = [len(sentence) for sentence in train_sentences]\n",
    "\n",
    "print(\"Mean train sentence length: \", np.mean(sentence_lengths))"
   ]
  },
  {
   "cell_type": "code",
   "execution_count": null,
   "metadata": {
    "colab": {
     "base_uri": "https://localhost:8080/",
     "height": 564
    },
    "id": "1nvR-L9_AKaf",
    "outputId": "1f164f7a-05f3-485f-f7b9-4236fbf475dd"
   },
   "outputs": [
    {
     "data": {
      "image/png": "[encoded data removed]",
      "text/plain": [
       "<Figure size 800x600 with 1 Axes>"
      ]
     },
     "metadata": {},
     "output_type": "display_data"
    }
   ],
   "source": [
    "plt.figure(figsize=(8, 6))\n",
    "plt.hist(sentence_lengths, bins=range(1, max(sentence_lengths) + 2), edgecolor='black', alpha=0.7)\n",
    "plt.title(\"Histogram of Sentence Lengths in Training Set\")\n",
    "plt.xlabel(\"Sentence Length (number of words)\")\n",
    "plt.ylabel(\"Frequency\")\n",
    "plt.grid(True)\n",
    "plt.show()"
   ]
  },
  {
   "cell_type": "markdown",
   "metadata": {
    "id": "zG-qwTLGvcHb"
   },
   "source": [
    "### Downloading the equivalent dataset from Hugging Face"
   ]
  },
  {
   "cell_type": "code",
   "execution_count": null,
   "metadata": {
    "colab": {
     "base_uri": "https://localhost:8080/",
     "height": 640,
     "referenced_widgets": [
      "a3766d3b4ea845f995d7b5da76879730",
      "bec53fc9d9e242488e6ece93a6aaff38",
      "35e65569402e4ddeb899978c521597ab",
      "06e97c5cf2d545f6a5fd48eac971b39f",
      "58956d70466a4a6b823022181380ffac",
      "7700e5759e8a4a7f92ce98db4bef2979",
      "71be5641776a4945a9f12339482c5d0d",
      "6b37d7c3192447dfa0ffb38b94dc8b78",
      "8d2c6b8847434c779801a5f3038adb63",
      "0da5137b60f849f7b855d81469d41113",
      "bc6afea12f9b4f66963c9c279f64a696",
      "85b7e70b148349c5b05c1ad27680ddeb",
      "18b22d81b459406c9ea85cc613a73394",
      "c76d832e91224b08bd12ec61e24aabf3",
      "ccb5ff3a3ba84ff7bdc0cfd0adf0c32f",
      "a2f603f24ec64155904bc831dda742b6",
      "9d19c6cee6e54e2783a7978b9ab3b4c9",
      "d31060a2e65e4379b23fd5f526a81e00",
      "3bbf5c1a205e46e49161e8c4297a4261",
      "5f7dcf76d62045d2940b1f556d1e84d7",
      "6b3241fe7ff84e04bc61263cd9ff9134",
      "1b9261678eb041cea90d63db63ab1bad",
      "d7720e13e8c947ca81cadfb6e0605d8c",
      "88c9c14bfd3b4098aabcf44684148ad6",
      "62b66fcd711945a5b55269afa67d0bc3",
      "7df84392b1404018bc8e7020ef79db89",
      "3a634e9a03db426392a3d3ab79bd8a61",
      "48969bc10f1b464cb1bd49700c19aac6",
      "273c665c789740859d082ab804c4a512",
      "2b2a8bf5f7864b83b2f426bebb91e5a3",
      "745f0ff0daa34194881426176aebf775",
      "e66a2076eb3749588a9537f16177384f",
      "e8ab61d475dc4869b331a13946d2defa",
      "5f6a133a16ad4c4584208d1a9c8629ec",
      "1d5a2940bb8c4168a1045dd667f574ce",
      "8762e9ed2fe74233ad94fc97d95447c3",
      "48945f87c6014041b7be3d2ecef2215a",
      "414ef5941e6f4053b03cf8e53bd715fd",
      "9bba2949f27b480aa3fa47d935f7dd7c",
      "a7c0a4cc148842aa807422b6ed7f4857",
      "248822c3b6e349ba81d9d7b20fd5e81c",
      "55f53d39c476479dafb997da09a591b6",
      "9145cc457c324bf6924548b4ba2b6c91",
      "0a57996be5144e8ca4c5e7cac16d755c",
      "6c1e10703813400899e097b3123de217",
      "98cb4ba658a942b1adfc7cd371f8951c",
      "3a95a86fb87c46ee918a6c353c9c1232",
      "b08df77be1eb4c7180f7a8bd8c2217b3",
      "27caca1f57a941b6a53ff04a09f494ce",
      "a4ee8ca757ad4959a768b8e6ec0e50db",
      "804e9016c4fb41cd8b593426ceba8fec",
      "92429409cb114019a349519e4be4ab55",
      "e112f06163b643329a6baf39ec6c6d9a",
      "29924273cb0c4a4eaac67b6559930ecc",
      "6eea759be4064cec871649ecf0bf4f56",
      "c736340ca601432b91475f09ce4162a5",
      "0a404c2215e74580bfe11dc7231960ab",
      "52ed176f1e6d4a4886c5374be64f2e76",
      "ecd7e860fd554c4586a0feb5ac445ffb",
      "eade211d0854419bb618689ff186c289",
      "aef0d4cafdc64595a3a209e4533388cc",
      "3a392f3a07b84b4d8a14230c62b0c611",
      "a9d5b1ca59a04213b2c4570c0367cf8c",
      "8892a528f44848a9a9b234f1ef3cec6a",
      "fc2fe3ea647e4792b73d81a29b19b5fa",
      "7bc0a833ef094143985b57fd76d7d861",
      "9ee303b4c1dc4fb9a8bf45309a7cc60c",
      "5394887d18654ca2b696a1336fcd0c87",
      "70696937ae7f48ec98da88c7b4005c1a",
      "f016e6128dd44f178c12892f9b006be4",
      "ca09ceedc4274d7fac68ef0acbe6523c",
      "d14354c7948145ad9f82f236f1fe3e3b",
      "ea7af669d1cc487da8dde69e0a5b1601",
      "d98c67c4dd2b449bae78ecb9240ba960",
      "59e8ee44057b4b29949aa657fe880a63",
      "da4fedf8b52749c98d9a63f747fb643e",
      "376979f2efde46df8b15695deb4d0a0d",
      "422d119a313d4d94b32d12b464112f46",
      "0977bfb86bbf4f77b1cab016a5feb5a5",
      "b75ef74e6e664619b89e31d29e940bbe",
      "3e307837528b4ec6a191a31cf88f0346",
      "94286df52fa6460eb8739aeffa70ac67",
      "e25565286fe54b4e94f5fd9bfb680988",
      "dc15ca02aae5450d9ac893dc6f337cb2",
      "3444ed2c4e0d4a6f8501c129cca5f6fd",
      "86f9fc9755074ec181016760e44362a6",
      "4e07c30e158d42cf8b666ab60d8e2b33",
      "7f3d0d7bdfe14a6fb86a998cdca75c55"
     ]
    },
    "id": "nUdmpfi3fv49",
    "outputId": "27662fec-5c59-41fa-ac8c-485fef71c8ac"
   },
   "outputs": [
    {
     "data": {
      "application/vnd.jupyter.widget-view+json": {
       "model_id": "a3766d3b4ea845f995d7b5da76879730",
       "version_major": 2,
       "version_minor": 0
      },
      "text/plain": [
       "README.md:   0%|          | 0.00/191k [00:00<?, ?B/s]"
      ]
     },
     "metadata": {},
     "output_type": "display_data"
    },
    {
     "data": {
      "application/vnd.jupyter.widget-view+json": {
       "model_id": "85b7e70b148349c5b05c1ad27680ddeb",
       "version_major": 2,
       "version_minor": 0
      },
      "text/plain": [
       "universal_dependencies.py:   0%|          | 0.00/87.8k [00:00<?, ?B/s]"
      ]
     },
     "metadata": {},
     "output_type": "display_data"
    },
    {
     "data": {
      "application/vnd.jupyter.widget-view+json": {
       "model_id": "d7720e13e8c947ca81cadfb6e0605d8c",
       "version_major": 2,
       "version_minor": 0
      },
      "text/plain": [
       "Downloading data:   0%|          | 0.00/13.5M [00:00<?, ?B/s]"
      ]
     },
     "metadata": {},
     "output_type": "display_data"
    },
    {
     "data": {
      "application/vnd.jupyter.widget-view+json": {
       "model_id": "5f6a133a16ad4c4584208d1a9c8629ec",
       "version_major": 2,
       "version_minor": 0
      },
      "text/plain": [
       "Downloading data:   0%|          | 0.00/1.71M [00:00<?, ?B/s]"
      ]
     },
     "metadata": {},
     "output_type": "display_data"
    },
    {
     "data": {
      "application/vnd.jupyter.widget-view+json": {
       "model_id": "6c1e10703813400899e097b3123de217",
       "version_major": 2,
       "version_minor": 0
      },
      "text/plain": [
       "Downloading data:   0%|          | 0.00/1.71M [00:00<?, ?B/s]"
      ]
     },
     "metadata": {},
     "output_type": "display_data"
    },
    {
     "data": {
      "application/vnd.jupyter.widget-view+json": {
       "model_id": "c736340ca601432b91475f09ce4162a5",
       "version_major": 2,
       "version_minor": 0
      },
      "text/plain": [
       "Generating train split:   0%|          | 0/12543 [00:00<?, ? examples/s]"
      ]
     },
     "metadata": {},
     "output_type": "display_data"
    },
    {
     "data": {
      "application/vnd.jupyter.widget-view+json": {
       "model_id": "9ee303b4c1dc4fb9a8bf45309a7cc60c",
       "version_major": 2,
       "version_minor": 0
      },
      "text/plain": [
       "Generating validation split:   0%|          | 0/2002 [00:00<?, ? examples/s]"
      ]
     },
     "metadata": {},
     "output_type": "display_data"
    },
    {
     "data": {
      "application/vnd.jupyter.widget-view+json": {
       "model_id": "422d119a313d4d94b32d12b464112f46",
       "version_major": 2,
       "version_minor": 0
      },
      "text/plain": [
       "Generating test split:   0%|          | 0/2077 [00:00<?, ? examples/s]"
      ]
     },
     "metadata": {},
     "output_type": "display_data"
    },
    {
     "data": {
      "text/plain": [
       "DatasetDict({\n",
       "    train: Dataset({\n",
       "        features: ['idx', 'text', 'tokens', 'lemmas', 'upos', 'xpos', 'feats', 'head', 'deprel', 'deps', 'misc'],\n",
       "        num_rows: 12543\n",
       "    })\n",
       "    validation: Dataset({\n",
       "        features: ['idx', 'text', 'tokens', 'lemmas', 'upos', 'xpos', 'feats', 'head', 'deprel', 'deps', 'misc'],\n",
       "        num_rows: 2002\n",
       "    })\n",
       "    test: Dataset({\n",
       "        features: ['idx', 'text', 'tokens', 'lemmas', 'upos', 'xpos', 'feats', 'head', 'deprel', 'deps', 'misc'],\n",
       "        num_rows: 2077\n",
       "    })\n",
       "})"
      ]
     },
     "execution_count": 5,
     "metadata": {},
     "output_type": "execute_result"
    }
   ],
   "source": [
    "dataset = load_dataset('universal_dependencies', 'en_ewt', trust_remote_code=True)\n",
    "dataset"
   ]
  },
  {
   "cell_type": "code",
   "execution_count": null,
   "metadata": {
    "colab": {
     "base_uri": "https://localhost:8080/"
    },
    "id": "XWN7Vjg31mVv",
    "outputId": "926b70f0-f9fe-46af-e1e2-357e58c269e4"
   },
   "outputs": [
    {
     "data": {
      "text/plain": [
       "[('The', 'DET'),\n",
       " ('third', 'ADJ'),\n",
       " ('was', 'AUX'),\n",
       " ('being', 'AUX'),\n",
       " ('run', 'VERB'),\n",
       " ('by', 'ADP'),\n",
       " ('the', 'DET'),\n",
       " ('head', 'NOUN'),\n",
       " ('of', 'ADP'),\n",
       " ('an', 'DET'),\n",
       " ('investment', 'NOUN'),\n",
       " ('firm', 'NOUN'),\n",
       " ('.', 'PUNCT')]"
      ]
     },
     "execution_count": 6,
     "metadata": {},
     "output_type": "execute_result"
    }
   ],
   "source": [
    "train_sentences[5]"
   ]
  },
  {
   "cell_type": "code",
   "execution_count": null,
   "metadata": {
    "colab": {
     "base_uri": "https://localhost:8080/"
    },
    "id": "E4uk4a1RPS0M",
    "outputId": "d82cfe74-f9d2-45ab-b022-67b4a2e4c020"
   },
   "outputs": [
    {
     "data": {
      "text/plain": [
       "{'idx': 'weblog-juancole.com_juancole_20051126063000_ENG_20051126_063000-0006',\n",
       " 'text': 'The third was being run by the head of an investment firm.',\n",
       " 'tokens': ['The',\n",
       "  'third',\n",
       "  'was',\n",
       "  'being',\n",
       "  'run',\n",
       "  'by',\n",
       "  'the',\n",
       "  'head',\n",
       "  'of',\n",
       "  'an',\n",
       "  'investment',\n",
       "  'firm',\n",
       "  '.'],\n",
       " 'lemmas': ['the',\n",
       "  'third',\n",
       "  'be',\n",
       "  'be',\n",
       "  'run',\n",
       "  'by',\n",
       "  'the',\n",
       "  'head',\n",
       "  'of',\n",
       "  'a',\n",
       "  'investment',\n",
       "  'firm',\n",
       "  '.'],\n",
       " 'upos': [8, 6, 17, 17, 16, 2, 8, 0, 2, 8, 0, 0, 1],\n",
       " 'xpos': ['DT',\n",
       "  'JJ',\n",
       "  'VBD',\n",
       "  'VBG',\n",
       "  'VBN',\n",
       "  'IN',\n",
       "  'DT',\n",
       "  'NN',\n",
       "  'IN',\n",
       "  'DT',\n",
       "  'NN',\n",
       "  'NN',\n",
       "  '.'],\n",
       " 'feats': [\"{'Definite': 'Def', 'PronType': 'Art'}\",\n",
       "  \"{'Degree': 'Pos', 'NumType': 'Ord'}\",\n",
       "  \"{'Mood': 'Ind', 'Number': 'Sing', 'Person': '3', 'Tense': 'Past', 'VerbForm': 'Fin'}\",\n",
       "  \"{'VerbForm': 'Ger'}\",\n",
       "  \"{'Tense': 'Past', 'VerbForm': 'Part', 'Voice': 'Pass'}\",\n",
       "  'None',\n",
       "  \"{'Definite': 'Def', 'PronType': 'Art'}\",\n",
       "  \"{'Number': 'Sing'}\",\n",
       "  'None',\n",
       "  \"{'Definite': 'Ind', 'PronType': 'Art'}\",\n",
       "  \"{'Number': 'Sing'}\",\n",
       "  \"{'Number': 'Sing'}\",\n",
       "  'None'],\n",
       " 'head': ['2', '5', '5', '5', '0', '8', '8', '5', '12', '12', '12', '8', '5'],\n",
       " 'deprel': ['det',\n",
       "  'nsubj:pass',\n",
       "  'aux',\n",
       "  'aux:pass',\n",
       "  'root',\n",
       "  'case',\n",
       "  'det',\n",
       "  'obl',\n",
       "  'case',\n",
       "  'det',\n",
       "  'compound',\n",
       "  'nmod',\n",
       "  'punct'],\n",
       " 'deps': [\"[('det', 2)]\",\n",
       "  \"[('nsubj:pass', 5)]\",\n",
       "  \"[('aux', 5)]\",\n",
       "  \"[('aux:pass', 5)]\",\n",
       "  \"[('root', 0)]\",\n",
       "  \"[('case', 8)]\",\n",
       "  \"[('det', 8)]\",\n",
       "  \"[('obl:by', 5)]\",\n",
       "  \"[('case', 12)]\",\n",
       "  \"[('det', 12)]\",\n",
       "  \"[('compound', 12)]\",\n",
       "  \"[('nmod:of', 8)]\",\n",
       "  \"[('punct', 5)]\"],\n",
       " 'misc': ['None',\n",
       "  'None',\n",
       "  'None',\n",
       "  'None',\n",
       "  'None',\n",
       "  'None',\n",
       "  'None',\n",
       "  'None',\n",
       "  'None',\n",
       "  'None',\n",
       "  'None',\n",
       "  \"{'SpaceAfter': 'No'}\",\n",
       "  'None']}"
      ]
     },
     "execution_count": 7,
     "metadata": {},
     "output_type": "execute_result"
    }
   ],
   "source": [
    "dataset['train'][5]"
   ]
  },
  {
   "cell_type": "code",
   "execution_count": null,
   "metadata": {
    "colab": {
     "base_uri": "https://localhost:8080/"
    },
    "id": "LIIJKCRciTW4",
    "outputId": "ff10e5be-47ef-42d0-9641-fefd1dc89a25"
   },
   "outputs": [
    {
     "data": {
      "text/plain": [
       "[('The', 'DT', 8),\n",
       " ('third', 'JJ', 6),\n",
       " ('was', 'VBD', 17),\n",
       " ('being', 'VBG', 17),\n",
       " ('run', 'VBN', 16),\n",
       " ('by', 'IN', 2),\n",
       " ('the', 'DT', 8),\n",
       " ('head', 'NN', 0),\n",
       " ('of', 'IN', 2),\n",
       " ('an', 'DT', 8),\n",
       " ('investment', 'NN', 0),\n",
       " ('firm', 'NN', 0),\n",
       " ('.', '.', 1)]"
      ]
     },
     "execution_count": 49,
     "metadata": {},
     "output_type": "execute_result"
    }
   ],
   "source": [
    "list(zip(dataset['train'][5]['tokens'], dataset['train'][5]['xpos'], dataset['train'][5]['upos']))"
   ]
  },
  {
   "cell_type": "code",
   "execution_count": null,
   "metadata": {
    "colab": {
     "base_uri": "https://localhost:8080/"
    },
    "id": "-HnGDPJajuKD",
    "outputId": "ade0441c-b565-4a30-bafd-586da5ff820c"
   },
   "outputs": [
    {
     "name": "stdout",
     "output_type": "stream",
     "text": [
      "Xpos:  NNP  has the following upos:  {0, 10, 12, 6}\n",
      "Xpos:  HYPH  has the following upos:  {1}\n",
      "Xpos:  :  has the following upos:  {1}\n",
      "Xpos:  JJ  has the following upos:  {0, 6, 10, 14, 15}\n",
      "Xpos:  NNS  has the following upos:  {0, 16}\n",
      "Xpos:  VBD  has the following upos:  {16, 17}\n",
      "Xpos:  ,  has the following upos:  {1, 4}\n",
      "Xpos:  DT  has the following upos:  {8, 11, 6}\n",
      "Xpos:  NN  has the following upos:  {0, 3, 4, 6, 10, 11, 12, 14, 15}\n",
      "Xpos:  IN  has the following upos:  {2, 4, 5, 14}\n",
      "Xpos:  .  has the following upos:  {1}\n",
      "Xpos:  -LRB-  has the following upos:  {1}\n",
      "Xpos:  MD  has the following upos:  {17}\n",
      "Xpos:  VB  has the following upos:  {16, 17}\n",
      "Xpos:  VBG  has the following upos:  {16, 17, 0, 6}\n",
      "Xpos:  PRP  has the following upos:  {11}\n",
      "Xpos:  TO  has the following upos:  {2, 7}\n",
      "Xpos:  -RRB-  has the following upos:  {1}\n",
      "Xpos:  VBN  has the following upos:  {16, 17}\n",
      "Xpos:  RP  has the following upos:  {2, 14}\n",
      "Xpos:  CD  has the following upos:  {3}\n",
      "Xpos:  VBZ  has the following upos:  {16, 17}\n",
      "Xpos:  RB  has the following upos:  {2, 6, 14, 7}\n",
      "Xpos:  NNPS  has the following upos:  {10}\n",
      "Xpos:  VBP  has the following upos:  {16, 17}\n",
      "Xpos:  PRP$  has the following upos:  {11}\n",
      "Xpos:  CC  has the following upos:  {9, 2, 14}\n",
      "Xpos:  None  has the following upos:  {13}\n",
      "Xpos:  WP  has the following upos:  {11}\n",
      "Xpos:  EX  has the following upos:  {11}\n",
      "Xpos:  WDT  has the following upos:  {8, 11}\n",
      "Xpos:  RBR  has the following upos:  {14}\n",
      "Xpos:  PDT  has the following upos:  {8, 1}\n",
      "Xpos:  JJR  has the following upos:  {6}\n",
      "Xpos:  WRB  has the following upos:  {5, 14}\n",
      "Xpos:  JJS  has the following upos:  {6}\n",
      "Xpos:  ``  has the following upos:  {1}\n",
      "Xpos:  ''  has the following upos:  {1}\n",
      "Xpos:  POS  has the following upos:  {7}\n",
      "Xpos:  RBS  has the following upos:  {14}\n",
      "Xpos:  WP$  has the following upos:  {11}\n",
      "Xpos:  ADD  has the following upos:  {12}\n",
      "Xpos:  FW  has the following upos:  {12}\n",
      "Xpos:  LS  has the following upos:  {12}\n",
      "Xpos:  UH  has the following upos:  {0, 4, 15}\n",
      "Xpos:  AFX  has the following upos:  {12}\n",
      "Xpos:  $  has the following upos:  {4}\n",
      "Xpos:  NFP  has the following upos:  {1, 4}\n",
      "Xpos:  SYM  has the following upos:  {4}\n",
      "Xpos:  GW  has the following upos:  {0, 12, 5}\n",
      "Xpos:  XX  has the following upos:  {12}\n"
     ]
    }
   ],
   "source": [
    "xpos_upos_tags_dictionary = {}\n",
    "\n",
    "l = []\n",
    "for split in dataset:\n",
    "    for sentence in dataset[split]:\n",
    "        for i, xtag in enumerate(sentence['xpos']):\n",
    "            if xtag not in xpos_upos_tags_dictionary:\n",
    "                xpos_upos_tags_dictionary[xtag] = []\n",
    "            xpos_upos_tags_dictionary[xtag].append(sentence['upos'][i])\n",
    "\n",
    "for x, u_list in xpos_upos_tags_dictionary.items():\n",
    "  print(\"Xpos: \", x, \" has the following upos: \",set(u_list))"
   ]
  },
  {
   "cell_type": "markdown",
   "metadata": {
    "id": "OLuzyZDrrKvQ"
   },
   "source": [
    "### Xpos Appendix"
   ]
  },
  {
   "cell_type": "markdown",
   "metadata": {
    "id": "rYxQopgXqDLi"
   },
   "source": [
    "1. **NNP** - Proper noun, singular (e.g., \"John\")\n",
    "2. **HYPH** - Hyphen (used in hyphenated words)\n",
    "3. **:** - Punctuation mark (colon)\n",
    "4. **JJ** - Adjective (e.g., \"beautiful\")\n",
    "5. **NNS** - Noun, plural (e.g., \"dogs\")\n",
    "6. **VBD** - Verb, past tense (e.g., \"walked\")\n",
    "7. **,** - Comma\n",
    "8. **DT** - Determiner (e.g., \"the\", \"a\")\n",
    "9. **NN** - Noun, singular (e.g., \"dog\")\n",
    "10. **IN** - Preposition or subordinating conjunction (e.g., \"in\", \"on\", \"because\")\n",
    "11. **.** - Period (full stop)\n",
    "12. **-LRB-** - Left round bracket (open parenthesis)\n",
    "13. **MD** - Modal verb (e.g., \"can\", \"will\")\n",
    "14. **VB** - Verb, base form (e.g., \"run\")\n",
    "15. **VBG** - Verb, gerund or present participle (e.g., \"running\")\n",
    "16. **PRP** - Personal pronoun (e.g., \"I\", \"he\", \"she\")\n",
    "17. **TO** - To (used for the infinitive form of a verb, e.g., \"to run\")\n",
    "18. **-RRB-** - Right round bracket (close parenthesis)\n",
    "19. **VBN** - Verb, past participle (e.g., \"eaten\")\n",
    "20. **RP** - Particle (e.g., \"up\" in \"give up\")\n",
    "21. **CD** - Cardinal number (e.g., \"one\", \"two\", \"three\")\n",
    "22. **VBZ** - Verb, 3rd person singular present (e.g., \"runs\")\n",
    "23. **RB** - Adverb (e.g., \"quickly\")\n",
    "24. **NNPS** - Proper noun, plural (e.g., \"Americas\")\n",
    "25. **VBP** - Verb, non-3rd person singular present (e.g., \"run\")\n",
    "26. **PRP\\$** - Possessive pronoun (e.g., \"my\", \"his\")\n",
    "27. **CC** - Coordinating conjunction (e.g., \"and\", \"or\")\n",
    "28. **None** - Used for tokens without a specific UPOS tag\n",
    "29. **WP** - Wh-pronoun (e.g., \"who\", \"what\")\n",
    "30. **EX** - Existential there (e.g., \"there is\")\n",
    "31. **WDT** - Wh-determiner (e.g., \"which\")\n",
    "32. **RBR** - Adverb, comparative (e.g., \"better\")\n",
    "33. **PDT** - Predeterminer (e.g., \"all\", \"both\")\n",
    "34. **JJR** - Adjective, comparative (e.g., \"bigger\")\n",
    "35. **WRB** - Wh-adverb (e.g., \"where\", \"when\")\n",
    "36. **JJS** - Adjective, superlative (e.g., \"biggest\")\n",
    "37. **``** - Opening quotation mark (e.g., \"quote)\n",
    "38. **''** - Closing quotation mark (e.g., \"quote\")\n",
    "39. **POS** - Possessive ending (e.g., \"John's\")\n",
    "40. **RBS** - Adverb, superlative (e.g., \"best\")\n",
    "41. **WP$** - Possessive wh-pronoun (e.g., \"whose\")\n",
    "42. **ADD** - Additional word (usually for things like \"etc.\" or \"and so on\")\n",
    "43. **FW** - Foreign word (e.g., \"pizza\")\n",
    "44. **LS** - List item marker (e.g., \"1.\", \"a)\")\n",
    "45. **UH** - Interjection (e.g., \"wow\", \"ouch\")\n",
    "46. **AFX** - Affix (e.g., \"-ing\", \"-ly\")\n",
    "47. **\\$** - Dollar sign (e.g., \"\\$10\")\n",
    "48. **NFP** - Non-final punctuation (e.g., semicolons, ellipses)\n",
    "49. **SYM** - Symbol (e.g., \"%\", \"&\")\n",
    "50. **GW** - Discourse marker or \"general word\" (used for words like \"thing\" or \"stuff\")\n",
    "51. **XX** - Unknown word or symbol (e.g., non-lexical tokens)\n"
   ]
  },
  {
   "cell_type": "markdown",
   "metadata": {
    "id": "oEsLjnbPvs-f"
   },
   "source": [
    "We can see that the Hugging Face Universal Dependencies dataset contains a whole lot more of POS Tags than the one from the Github [repository](https://github.com/UniversalDependencies/UD_English-EWT)."
   ]
  },
  {
   "cell_type": "markdown",
   "metadata": {
    "id": "0Xi3gjas2ceI"
   },
   "source": [
    "## Data Preprocessing"
   ]
  },
  {
   "cell_type": "code",
   "execution_count": null,
   "metadata": {
    "id": "pQnz6Dfm1F8P"
   },
   "outputs": [],
   "source": [
    "def convert_to_dataset(sentences):\n",
    "\n",
    "    sentence_texts = []\n",
    "    pos_tags = []\n",
    "\n",
    "    for sentence in sentences:\n",
    "        words = [word for word, pos in sentence]\n",
    "        tags = [pos for word, pos in sentence]\n",
    "\n",
    "        sentence_texts.append(words)\n",
    "        pos_tags.append(tags)\n",
    "\n",
    "    data = {\n",
    "        'sentence': sentence_texts,\n",
    "        'pos_tags': pos_tags\n",
    "    }\n",
    "\n",
    "    # Convert to a Hugging Face Dataset\n",
    "    return Dataset.from_dict(data)\n",
    "\n",
    "train_dataset = convert_to_dataset(train_sentences)\n",
    "dev_dataset = convert_to_dataset(dev_sentences)\n",
    "test_dataset = convert_to_dataset(test_sentences)"
   ]
  },
  {
   "cell_type": "code",
   "execution_count": null,
   "metadata": {
    "colab": {
     "base_uri": "https://localhost:8080/"
    },
    "id": "wOQlDcS_Drbu",
    "outputId": "c5c8ab3d-7d3a-4c09-f4e7-61669afe8696"
   },
   "outputs": [
    {
     "data": {
      "text/plain": [
       "DatasetDict({\n",
       "    train: Dataset({\n",
       "        features: ['sentence', 'pos_tags'],\n",
       "        num_rows: 12544\n",
       "    })\n",
       "    dev: Dataset({\n",
       "        features: ['sentence', 'pos_tags'],\n",
       "        num_rows: 2001\n",
       "    })\n",
       "    test: Dataset({\n",
       "        features: ['sentence', 'pos_tags'],\n",
       "        num_rows: 2077\n",
       "    })\n",
       "})"
      ]
     },
     "execution_count": 7,
     "metadata": {},
     "output_type": "execute_result"
    }
   ],
   "source": [
    "Complete_dataset = DatasetDict({\n",
    "    \"train\": train_dataset.shuffle(),\n",
    "    \"dev\": dev_dataset,\n",
    "    \"test\": test_dataset\n",
    "})\n",
    "\n",
    "Complete_dataset"
   ]
  },
  {
   "cell_type": "code",
   "execution_count": null,
   "metadata": {
    "colab": {
     "base_uri": "https://localhost:8080/"
    },
    "id": "hS9L7Z4yc_y_",
    "outputId": "ff032e63-1198-49c8-bc92-a38f5c70e7b0"
   },
   "outputs": [
    {
     "name": "stdout",
     "output_type": "stream",
     "text": [
      "Unique tags: {'ADP', 'NUM', 'X', 'VERB', 'INTJ', 'PRON', 'PUNCT', 'PROPN', 'NOUN', 'SCONJ', '_', 'CCONJ', 'ADV', 'AUX', 'PART', 'ADJ', 'DET', 'SYM'}\n",
      "Label to ID mapping: {'ADJ': 0, 'ADP': 1, 'ADV': 2, 'AUX': 3, 'CCONJ': 4, 'DET': 5, 'INTJ': 6, 'NOUN': 7, 'NUM': 8, 'PART': 9, 'PRON': 10, 'PROPN': 11, 'PUNCT': 12, 'SCONJ': 13, 'SYM': 14, 'VERB': 15, 'X': 16, '_': 17}\n",
      "ID to Label mapping: {0: 'ADJ', 1: 'ADP', 2: 'ADV', 3: 'AUX', 4: 'CCONJ', 5: 'DET', 6: 'INTJ', 7: 'NOUN', 8: 'NUM', 9: 'PART', 10: 'PRON', 11: 'PROPN', 12: 'PUNCT', 13: 'SCONJ', 14: 'SYM', 15: 'VERB', 16: 'X', 17: '_'}\n"
     ]
    }
   ],
   "source": [
    "unique_tags = set(tag for split in Complete_dataset for tags in Complete_dataset[split]['pos_tags'] for tag in tags)\n",
    "label2id = {label: i for i, label in enumerate(sorted(unique_tags))}\n",
    "id2label = {i: label for label, i in label2id.items()}\n",
    "\n",
    "\n",
    "print(\"Unique tags:\", unique_tags)\n",
    "print(\"Label to ID mapping:\", label2id)\n",
    "print(\"ID to Label mapping:\", id2label)"
   ]
  },
  {
   "cell_type": "markdown",
   "metadata": {
    "id": "Zw0AHig2xAEV"
   },
   "source": [
    "Converting POS Tag to label numbers."
   ]
  },
  {
   "cell_type": "code",
   "execution_count": null,
   "metadata": {
    "colab": {
     "base_uri": "https://localhost:8080/",
     "height": 113,
     "referenced_widgets": [
      "259033f317f94407aa51877de77be4be",
      "7d33d7368afe44cf93c00a5bce1be879",
      "b7049681716243f196651a89032c56d6",
      "dc5e215a1f3e4359a16c326b6b3a1267",
      "c0173f3338754af0ba6dd5487abf23ba",
      "732021e4a12b4c8888058d96faa5f7b1",
      "2420216f912447d6aa5e3b262f849227",
      "01834e3d02e74645b78475a1fee8e56f",
      "4a2d79fbce184e57a0e6eafe27c26f2d",
      "6a3990e746944b65a9ed4c39c1660c63",
      "540bc760770c4559b65824ddc19dafcb",
      "c3e570fad4d343fb8e3c7e19b0b8e21f",
      "f73cc68222794661b6817a41114214e4",
      "f886927ea3d54f61a693b014a107b2cf",
      "55e70335a3954542b86f092153110c89",
      "4eeedf3b007d439992e8e264ba61f776",
      "36c4121d7c104f588eeccb708e519263",
      "5bddf29d60ed46029e6b8ab46c8281e0",
      "4fdfc76ad5af4734aba64742751983f8",
      "e8e48153733f4e58ada935f6109b0eb6",
      "1235c7a348144cb79407cfe865298375",
      "289aec3abb384ceeb3f2e61d873b0a7d",
      "9ff505d4d64f47489a7117e7ace0d09b",
      "c2c04a1bdef64934bcd231328c6b45c0",
      "8055518505f54f45bc7a443e71f9b466",
      "c56d6e5ac70c48ada792b7f822c5e0b6",
      "a98f60154b2c4311926a9b49f419de8e",
      "a40417ee3dae463e8e793b374734801a",
      "9d1d5ccb7d364da185c3d5ae85d8f4db",
      "8f22c13985ee48a38a649183b2498a73",
      "65eba6607d3f48e6a2585fe93901df06",
      "3678e3f06fb04a06b88bacfa72fa4428",
      "87e467c86aee40a1ac1f7a9b34970836"
     ]
    },
    "id": "RhXXJfwzjQOs",
    "outputId": "ec097c1f-3026-4a41-8b2d-5e104884c05d"
   },
   "outputs": [
    {
     "data": {
      "application/vnd.jupyter.widget-view+json": {
       "model_id": "259033f317f94407aa51877de77be4be",
       "version_major": 2,
       "version_minor": 0
      },
      "text/plain": [
       "Map:   0%|          | 0/12544 [00:00<?, ? examples/s]"
      ]
     },
     "metadata": {},
     "output_type": "display_data"
    },
    {
     "data": {
      "application/vnd.jupyter.widget-view+json": {
       "model_id": "c3e570fad4d343fb8e3c7e19b0b8e21f",
       "version_major": 2,
       "version_minor": 0
      },
      "text/plain": [
       "Map:   0%|          | 0/2001 [00:00<?, ? examples/s]"
      ]
     },
     "metadata": {},
     "output_type": "display_data"
    },
    {
     "data": {
      "application/vnd.jupyter.widget-view+json": {
       "model_id": "9ff505d4d64f47489a7117e7ace0d09b",
       "version_major": 2,
       "version_minor": 0
      },
      "text/plain": [
       "Map:   0%|          | 0/2077 [00:00<?, ? examples/s]"
      ]
     },
     "metadata": {},
     "output_type": "display_data"
    }
   ],
   "source": [
    "Complete_dataset = Complete_dataset.map(lambda example: {'pos_tags': [label2id[tag] for tag in example['pos_tags']]})"
   ]
  },
  {
   "cell_type": "code",
   "execution_count": null,
   "metadata": {
    "colab": {
     "base_uri": "https://localhost:8080/"
    },
    "id": "9rs7gP0Djb43",
    "outputId": "45527e21-efad-47c5-8642-71a55ec3e94c"
   },
   "outputs": [
    {
     "data": {
      "text/plain": [
       "{'sentence': ['A',\n",
       "  'key',\n",
       "  'question',\n",
       "  'is',\n",
       "  'how',\n",
       "  'they',\n",
       "  'acquired',\n",
       "  'the',\n",
       "  'anthrax',\n",
       "  'strain',\n",
       "  'first',\n",
       "  'isolated',\n",
       "  'by',\n",
       "  'the',\n",
       "  'Texas',\n",
       "  'Veterinary',\n",
       "  'Medical',\n",
       "  'Diagnostic',\n",
       "  'Lab',\n",
       "  'in',\n",
       "  '1980',\n",
       "  '.'],\n",
       " 'pos_tags': [5,\n",
       "  0,\n",
       "  7,\n",
       "  3,\n",
       "  2,\n",
       "  10,\n",
       "  15,\n",
       "  5,\n",
       "  7,\n",
       "  7,\n",
       "  2,\n",
       "  15,\n",
       "  1,\n",
       "  5,\n",
       "  11,\n",
       "  0,\n",
       "  0,\n",
       "  0,\n",
       "  11,\n",
       "  1,\n",
       "  8,\n",
       "  12]}"
      ]
     },
     "execution_count": 17,
     "metadata": {},
     "output_type": "execute_result"
    }
   ],
   "source": [
    "Complete_dataset['train'][0]"
   ]
  },
  {
   "cell_type": "markdown",
   "metadata": {
    "id": "LubSwsqJ8mDW"
   },
   "source": [
    "## Transformers Training and Evaluation"
   ]
  },
  {
   "cell_type": "code",
   "execution_count": null,
   "metadata": {
    "id": "fkqLGAUBdvwG"
   },
   "outputs": [],
   "source": [
    "def compute_metrics(p):\n",
    "    \"\"\"\n",
    "    p (tuple): A tuple containing the predictions and the true labels.\n",
    "               p[0] - logits (predictions from the model)\n",
    "               p[1] - labels (true labels)\n",
    "\n",
    "    \"\"\"\n",
    "\n",
    "\n",
    "    logits, labels = p\n",
    "    # Convert logits to predictions (we take the index of the highest logit)\n",
    "    predictions = torch.argmax(torch.tensor(logits), axis=-1)\n",
    "\n",
    "    # Flatten both predictions and labels for comparison\n",
    "    predictions = predictions.flatten()\n",
    "    labels = labels.flatten()\n",
    "\n",
    "    # Ignore padding tokens (usually labeled as -100)\n",
    "    mask = labels != -100\n",
    "\n",
    "    # Filter out the padding tokens from predictions and labels\n",
    "    predictions = predictions[mask]\n",
    "    labels = labels[mask]\n",
    "\n",
    "\n",
    "    precision, recall, f1, _ = precision_recall_fscore_support(labels, predictions, average='micro', zero_division=1)\n",
    "    accuracy = accuracy_score(labels, predictions)\n",
    "\n",
    "    return {\n",
    "        \"precision\": precision,\n",
    "        \"recall\": recall,\n",
    "        \"f1\": f1,\n",
    "        \"accuracy\": accuracy,\n",
    "    }"
   ]
  },
  {
   "cell_type": "code",
   "execution_count": null,
   "metadata": {
    "id": "Xp9MINJSOn4C"
   },
   "outputs": [],
   "source": [
    "def train_pos_tagger(model_name, output_dir='./results', logging_dir='./logs', logging_steps=150, learning_rate=2e-5, per_device_train_batch_size=16, per_device_eval_batch_size=16, num_train_epochs=1, weight_decay=0.01):\n",
    "\n",
    "\n",
    "    tokenizer = AutoTokenizer.from_pretrained(model_name)\n",
    "    model = AutoModelForTokenClassification.from_pretrained(model_name, label2id = label2id, id2label = id2label)\n",
    "\n",
    "\n",
    "    # Ensure model is sent to the appropriate device\n",
    "    device = torch.device(\"cuda\" if torch.cuda.is_available() else \"cpu\")\n",
    "    model.to(device)\n",
    "\n",
    "\n",
    "    # Tokenize the dataset\n",
    "    def tokenize_and_align_labels(examples):\n",
    "        tokenized_inputs = tokenizer(examples[\"sentence\"], padding=True,truncation=True, is_split_into_words=True)\n",
    "\n",
    "        labels = []\n",
    "        for i, label in enumerate(examples[\"pos_tags\"]):\n",
    "            word_ids = tokenized_inputs.word_ids(batch_index=i)  # Map tokens to their respective word.\n",
    "            previous_word_idx = None\n",
    "            label_ids = []\n",
    "            for word_idx in word_ids:  # Set the special tokens to -100. [CLS] etc\n",
    "                if word_idx is None:\n",
    "                    label_ids.append(-100)\n",
    "                elif word_idx != previous_word_idx:  # Only label the first token of a given word.\n",
    "                    label_ids.append(label[word_idx])\n",
    "                else:\n",
    "                    label_ids.append(-100)\n",
    "                previous_word_idx = word_idx\n",
    "            labels.append(label_ids)\n",
    "\n",
    "        tokenized_inputs[\"labels\"] = labels\n",
    "        return tokenized_inputs\n",
    "\n",
    "    tokenized_datasets = Complete_dataset.map(tokenize_and_align_labels, batched=True, remove_columns=Complete_dataset[\"train\"].column_names)\n",
    "\n",
    "\n",
    "    data_collator = DataCollatorForTokenClassification(tokenizer)\n",
    "\n",
    "#===========================================================================================================================================\n",
    "\n",
    "    training_args = TrainingArguments(\n",
    "        output_dir=output_dir,\n",
    "        logging_dir=logging_dir,\n",
    "        logging_steps=logging_steps,\n",
    "        learning_rate=learning_rate,\n",
    "        per_device_train_batch_size=per_device_train_batch_size,\n",
    "        per_device_eval_batch_size=per_device_eval_batch_size,\n",
    "        num_train_epochs=num_train_epochs,\n",
    "        weight_decay=weight_decay,\n",
    "        eval_strategy=\"epoch\",\n",
    "        save_strategy=\"epoch\",\n",
    "        load_best_model_at_end=True,\n",
    "        report_to='none'\n",
    "    )\n",
    "\n",
    "    trainer = Trainer(\n",
    "        model=model,\n",
    "        args=training_args,\n",
    "        train_dataset=tokenized_datasets[\"train\"],\n",
    "        eval_dataset=tokenized_datasets[\"dev\"],\n",
    "        data_collator=data_collator,\n",
    "        compute_metrics = compute_metrics,\n",
    "    )\n",
    "\n",
    "\n",
    "    trainer.train()\n",
    "\n",
    "#===========================================================================================================================================\n",
    "\n",
    "    predictions = trainer.predict(tokenized_datasets[\"test\"])\n",
    "\n",
    "    # Unpack the results (logits and labels)\n",
    "    logits = predictions.predictions\n",
    "    labels = predictions.label_ids\n",
    "\n",
    "    # Convert logits to probabilities (using softmax)\n",
    "    probs = torch.nn.functional.softmax(torch.tensor(logits), dim=-1).numpy()\n",
    "\n",
    "    auc_scores = {}\n",
    "\n",
    "    # Flatten the logits and labels, but only for valid tokens (not special tokens)\n",
    "    true_labels_flat = []\n",
    "    prob_flat = []\n",
    "\n",
    "    for i, label_sequence in enumerate(labels):\n",
    "        valid_token_indices = [j for j, l in enumerate(label_sequence) if l != -100]  # Get indices where label is not -100\n",
    "        true_labels_flat.extend([label_sequence[j] for j in valid_token_indices])  # Add valid true labels\n",
    "        prob_flat.extend([probs[i, j] for j in valid_token_indices])  # Add valid probabilities\n",
    "\n",
    "    true_labels_flat = np.array(true_labels_flat)\n",
    "    prob_flat = np.array(prob_flat)\n",
    "\n",
    "    # Calculate AUC score for each tag (class)\n",
    "    for tag_id in range(len(id2label)):\n",
    "\n",
    "        # Convert true labels for the current tag to binary format\n",
    "        true_labels_tag = (true_labels_flat == tag_id).astype(int)\n",
    "\n",
    "\n",
    "        auc = roc_auc_score(true_labels_tag, prob_flat[:, tag_id])\n",
    "        auc_scores[id2label[tag_id]] = auc\n",
    "\n",
    "\n",
    "    # Convert logits to predicted labels (argmax over logits)\n",
    "    pred_labels = torch.argmax(torch.tensor(logits), axis=-1).cpu().numpy()\n",
    "\n",
    "    # Flatten predictions and labels for classification report\n",
    "    pred_labels = pred_labels.flatten()\n",
    "    labels = labels.flatten()\n",
    "\n",
    "    # Mask out padding tokens (usually labeled as -100)\n",
    "    mask = labels != -100\n",
    "\n",
    "    # Filter out padding tokens from predictions and labels\n",
    "    filtered_pred_labels = pred_labels[mask]\n",
    "    filtered_labels = labels[mask]\n",
    "\n",
    "    report = classification_report(filtered_labels, filtered_pred_labels, target_names=list(id2label.values()), zero_division=1)\n",
    "\n",
    "\n",
    "\n",
    "    print(\"Classification Report\")\n",
    "    print(report)\n",
    "\n",
    "\n",
    "\n",
    "\n",
    "    print(\"AUC scores per tag (class):\")\n",
    "    for tag, auc in auc_scores.items():\n",
    "        print(f\"{tag}: {auc:.4f}\")\n",
    "\n",
    "#===========================================================================================================================================\n",
    "\n",
    "    return model, tokenizer, trainer"
   ]
  },
  {
   "cell_type": "code",
   "execution_count": null,
   "metadata": {
    "colab": {
     "base_uri": "https://localhost:8080/",
     "height": 1000,
     "referenced_widgets": [
      "ae0a4983b3604fe8a2a64ef1ae069a98",
      "28d26820f8ba49f0be72419c75b48ec8",
      "bd79ba1670d1448fac821edc062d85d1",
      "bf074b6686b240c4a9abf3f0d930e996",
      "85ca6123f461492fb9707344f3aafa18",
      "0c9c5fca884d48a6afcf89a1d7181653",
      "502d47da00e54456ade17f1dac79a14a",
      "a6616bc8896e47b68e3f1f13b5f22cdd",
      "b68641d4466649f5917e2436c3067e9d",
      "a21f14616e654dfab38b83a478e8c635",
      "0db1ac0efb0b4e6499f18a60d933ab22",
      "d9fa0f78aeef4ba9a2422aadc50932c9",
      "3178b867cb524119bb273f8eb7281755",
      "9559e53736ad420abef0d86e12fd73c8",
      "ed721ef4401045e0a3892a1e28985136",
      "d384502f587e4aeb857ecd9ab05e4055",
      "61cc0254263b491488f93a57ceee1999",
      "37bb8c328d904b04995461498b72cf0a",
      "99ae08e286d148499be3d1c196d210ee",
      "927a7765e2ee4da084d166cf30d00ed6",
      "dec43dfcc8e24bca8a9464d848e78516",
      "f75a31214e9340439e90e193b9d5cc66",
      "87943d588cbb4c1890f912c86c37e929",
      "f9834e1c60a440d58643598fad3e06f3",
      "d5bd9ee12b43485f8244576c457e4505",
      "5b03084603494b8f8495720ae5279353",
      "78ba3672a2d041168a1b4bc8673d4bdf",
      "9ff4b1bbb9bb4fbb8c7f5264bb2446dd",
      "805b8b49ab93490dad4f3a0e4d339440",
      "2920a4f7d0f64b249b1febce08d15b2e",
      "a9209daad79c4e32a293fdf088c7f199",
      "a1ed19fe9e4940e7be435399b444c447",
      "60f4322f904444d1ab74b3a30e3898bd"
     ]
    },
    "id": "witl3IjcIFwm",
    "outputId": "04a89ba8-7e3a-4df0-c262-a2f5ae9f51a2"
   },
   "outputs": [
    {
     "data": {
      "application/vnd.jupyter.widget-view+json": {
       "model_id": "ae0a4983b3604fe8a2a64ef1ae069a98",
       "version_major": 2,
       "version_minor": 0
      },
      "text/plain": [
       "Map:   0%|          | 0/12544 [00:00<?, ? examples/s]"
      ]
     },
     "metadata": {},
     "output_type": "display_data"
    },
    {
     "data": {
      "application/vnd.jupyter.widget-view+json": {
       "model_id": "d9fa0f78aeef4ba9a2422aadc50932c9",
       "version_major": 2,
       "version_minor": 0
      },
      "text/plain": [
       "Map:   0%|          | 0/2001 [00:00<?, ? examples/s]"
      ]
     },
     "metadata": {},
     "output_type": "display_data"
    },
    {
     "data": {
      "application/vnd.jupyter.widget-view+json": {
       "model_id": "87943d588cbb4c1890f912c86c37e929",
       "version_major": 2,
       "version_minor": 0
      },
      "text/plain": [
       "Map:   0%|          | 0/2077 [00:00<?, ? examples/s]"
      ]
     },
     "metadata": {},
     "output_type": "display_data"
    },
    {
     "data": {
      "text/html": [
       "\n",
       "    <div>\n",
       "      \n",
       "      <progress value='784' max='784' style='width:300px; height:20px; vertical-align: middle;'></progress>\n",
       "      [784/784 09:46, Epoch 1/1]\n",
       "    </div>\n",
       "    <table border=\"1\" class=\"dataframe\">\n",
       "  <thead>\n",
       " <tr style=\"text-align: left;\">\n",
       "      <th>Epoch</th>\n",
       "      <th>Training Loss</th>\n",
       "      <th>Validation Loss</th>\n",
       "      <th>Precision</th>\n",
       "      <th>Recall</th>\n",
       "      <th>F1</th>\n",
       "      <th>Accuracy</th>\n",
       "    </tr>\n",
       "  </thead>\n",
       "  <tbody>\n",
       "    <tr>\n",
       "      <td>1</td>\n",
       "      <td>0.110100</td>\n",
       "      <td>0.117467</td>\n",
       "      <td>0.968485</td>\n",
       "      <td>0.968485</td>\n",
       "      <td>0.968485</td>\n",
       "      <td>0.968485</td>\n",
       "    </tr>\n",
       "  </tbody>\n",
       "</table><p>"
      ],
      "text/plain": [
       "<IPython.core.display.HTML object>"
      ]
     },
     "metadata": {},
     "output_type": "display_data"
    },
    {
     "data": {
      "text/html": [],
      "text/plain": [
       "<IPython.core.display.HTML object>"
      ]
     },
     "metadata": {},
     "output_type": "display_data"
    },
    {
     "name": "stdout",
     "output_type": "stream",
     "text": [
      "Classification Report\n",
      "              precision    recall  f1-score   support\n",
      "\n",
      "         ADJ       0.94      0.95      0.95      1794\n",
      "         ADP       0.97      0.99      0.98      2030\n",
      "         ADV       0.94      0.95      0.94      1183\n",
      "         AUX       0.99      0.99      0.99      1543\n",
      "       CCONJ       1.00      0.99      0.99       736\n",
      "         DET       0.99      0.99      0.99      1896\n",
      "        INTJ       0.86      0.88      0.87       121\n",
      "        NOUN       0.96      0.95      0.96      4123\n",
      "         NUM       0.94      0.99      0.97       542\n",
      "        PART       1.00      1.00      1.00       649\n",
      "        PRON       0.99      0.99      0.99      2166\n",
      "       PROPN       0.92      0.92      0.92      2076\n",
      "       PUNCT       1.00      1.00      1.00      3096\n",
      "       SCONJ       0.97      0.94      0.96       384\n",
      "         SYM       0.84      0.86      0.85       109\n",
      "        VERB       0.98      0.98      0.98      2606\n",
      "           X       1.00      0.00      0.00        42\n",
      "           _       0.98      0.97      0.98       354\n",
      "\n",
      "    accuracy                           0.97     25450\n",
      "   macro avg       0.96      0.91      0.91     25450\n",
      "weighted avg       0.97      0.97      0.97     25450\n",
      "\n",
      "AUC scores per tag (class):\n",
      "ADJ: 0.9977\n",
      "ADP: 0.9995\n",
      "ADV: 0.9988\n",
      "AUX: 0.9997\n",
      "CCONJ: 0.9997\n",
      "DET: 0.9996\n",
      "INTJ: 0.9931\n",
      "NOUN: 0.9978\n",
      "NUM: 0.9998\n",
      "PART: 0.9995\n",
      "PRON: 0.9998\n",
      "PROPN: 0.9971\n",
      "PUNCT: 1.0000\n",
      "SCONJ: 0.9984\n",
      "SYM: 0.9991\n",
      "VERB: 0.9995\n",
      "X: 0.9292\n",
      "_: 0.9998\n"
     ]
    }
   ],
   "source": [
    "model, tokenizer, trainer = train_pos_tagger(\"xlm-roberta-base\")"
   ]
  },
  {
   "cell_type": "code",
   "execution_count": null,
   "metadata": {
    "colab": {
     "base_uri": "https://localhost:8080/",
     "height": 1000,
     "referenced_widgets": [
      "3db8c65a3cb74adb9dc2731929fd5b65",
      "0c63efc35cfd4c87be1e00eaefeda2dc",
      "5d3c00c1e88146b5b5f8001f4cd04132",
      "25ef99be1bb04376a14e6413272c2a46",
      "70ef3ede4a3341309a42646352382faf",
      "078a1eb8579a4111b438e2a3eb72d75e",
      "b5956ea4966f4656bd477d29860a9b1f",
      "dd4853d25d5e4e1b8b00f4f4c5fc9647",
      "b18b9ca83ff5448487db617a686e6b7d",
      "fd75464b2cc64a94b8e9dae79f8936d6",
      "15ba84f17e2846c1a66e359ff948a750",
      "31ff3996f9c54ad98a44e0775806bff9",
      "c7a1b192740c44dfb3a1f5e32d49347c",
      "ea08346117384a74ab37cd92e824ef3b",
      "15640bbe980241ef8c52ffab82c47b60",
      "aef074370d2f4b00996e9cc318f11bf2",
      "f4f88d899e864fb283cbcdcc37985204",
      "89bcd3705cea438a83885e0383a6dd4b",
      "2e07c907510c444193ba1be9615302c2",
      "b3da386bde91449d98ad79bee1265bf8",
      "e117dae3f472462f865b6c791fe2a8e0",
      "1f338d84c58a4feeb6c8876351c3acc6",
      "77884c0ca3d0443289492b5aa1d8248a",
      "570363f8bb574681874774b00145df0d",
      "a20d21b4b276456fb26b523c7e2cd2ee",
      "f536b1ba783e45fcb369f984ceab89ed",
      "adf09cc7022f49dbb48b98558418b817",
      "de62568cc36a473b9deb9f85dead9200",
      "7a1a6c3ab8d5437e8d31fee4453b5698",
      "e9b055e9e88d4cf496be6806a54ad88f",
      "419aad91d1cd4345bbb662dc725f1ef7",
      "d2a0bb4d12a14793bed3d8599f58323e",
      "4685a2dbd9534b088a4c325e4f508804",
      "15cb8f26fbef402db08ed38d577e80e0",
      "5c65cae4033240e0a4b250778a0af4b4",
      "3658dfb838af4f19909f01528d7f1de9",
      "3e32d78678a840638d6ba340f4e33c7a",
      "caffd9e3460848c3814d4e538530e092",
      "de12379a93f948bea79e786cdbc6aa29",
      "cd8a7684908d49bf8157a0b4d830a646",
      "a1581eb22a8042b2bf4097c4a80444b4",
      "f7235c19e6b049669c9cee623b1002f5",
      "86ae15abab234f6b86f071adb4cd746f",
      "631cc3114e6d4029996ad0e1692378f0",
      "0be12a88a3d34ed38aa580bc54bf3c55",
      "7b6dae3555a94095b986bb3ebdcf5d15",
      "61444ad71d654081bd58c494a4151431",
      "8bcd85cf33ad40e78901d29a19dedbb3",
      "10b627744f3f4bd98bf75098bcd9b3cd",
      "78e121172fbc446cbf32ed3b7ac9fdbc",
      "22e0c6626c1442c1b1378f77a28d383d",
      "c75c56fdb590429bbb4f23f444f02c80",
      "6da77c352f03462caba897074f62f934",
      "42d8c15e84024762b459c4a95bb40669",
      "bc04739c1d9b4d31ad413da3a5bb2e67",
      "858fab6f12e64377bd536075d5783ed7",
      "6dac86bd1f0a439da4274888d5414d3d",
      "0199d0e0136345e4b3a91b25ece8e577",
      "0e166e69402a437898cb8dfeb5a11a7f",
      "e493c9798b0a4269905f9940da9c8b3d",
      "3e8a7147c8e94548a90543f3fc27e96b",
      "b51ec8f6326844e3a7a63c85794c76e8",
      "6129eac6cdd4417ca14a3926e432b805",
      "3234f8fd327740a2b8a821032102042a",
      "22c96d19031c48a4ab9881184313510a",
      "ef9980a97b604d369f6a73b1f8415435",
      "a8116d8ed2764370b60c3a3f852ded9d",
      "e263c6e054d8489d9720999c1e32f3b4",
      "bd67a11ed229499a8070b3668bbf6113",
      "3ca2ce5283d743878763d6a4124adc96",
      "d682239c81c641a9898ae079fcda3def",
      "c5538a8870db47c3a9a3a73fca26729b",
      "6e89f0bdf6ff4a31a27ba6e3e604f5cc",
      "301ba83469e641d48e3f379630a82e1f",
      "cf61512884024f5095dac1f971cb3db2",
      "9ecf01c8dd8243848aaad06981ed1db1",
      "6f139cba5da646d7a6fddb7a96379ff2",
      "429c786e39104de189d28062d9242d82",
      "709582b4a7c64910891b8323216e0311",
      "0a342acbdc8e4a0aa62d963d24b8bad1",
      "bc2639fb24694867bb7bc8d4e16c21cf",
      "c26d9dcd67fc4c4d8f4e90ede3596b93",
      "6e6d54c8c8664778a93072655f2d05e2",
      "4ddc5bdc974f4063b41fa47143fa36f3",
      "416af120e7c24449a110391e612f959f",
      "05b914c06d4f4069858d504d654e724b",
      "45649b40e53e480d80e2c5797d8e37d2",
      "68135ae3290d4a1e9e15935130412562"
     ]
    },
    "id": "G6NvWVr0U-js",
    "outputId": "0839b242-f5c4-45e4-a2e6-d8e5f76a05ae"
   },
   "outputs": [
    {
     "data": {
      "application/vnd.jupyter.widget-view+json": {
       "model_id": "3db8c65a3cb74adb9dc2731929fd5b65",
       "version_major": 2,
       "version_minor": 0
      },
      "text/plain": [
       "tokenizer_config.json:   0%|          | 0.00/48.0 [00:00<?, ?B/s]"
      ]
     },
     "metadata": {},
     "output_type": "display_data"
    },
    {
     "data": {
      "application/vnd.jupyter.widget-view+json": {
       "model_id": "31ff3996f9c54ad98a44e0775806bff9",
       "version_major": 2,
       "version_minor": 0
      },
      "text/plain": [
       "config.json:   0%|          | 0.00/570 [00:00<?, ?B/s]"
      ]
     },
     "metadata": {},
     "output_type": "display_data"
    },
    {
     "data": {
      "application/vnd.jupyter.widget-view+json": {
       "model_id": "77884c0ca3d0443289492b5aa1d8248a",
       "version_major": 2,
       "version_minor": 0
      },
      "text/plain": [
       "vocab.txt:   0%|          | 0.00/232k [00:00<?, ?B/s]"
      ]
     },
     "metadata": {},
     "output_type": "display_data"
    },
    {
     "data": {
      "application/vnd.jupyter.widget-view+json": {
       "model_id": "15cb8f26fbef402db08ed38d577e80e0",
       "version_major": 2,
       "version_minor": 0
      },
      "text/plain": [
       "tokenizer.json:   0%|          | 0.00/466k [00:00<?, ?B/s]"
      ]
     },
     "metadata": {},
     "output_type": "display_data"
    },
    {
     "data": {
      "application/vnd.jupyter.widget-view+json": {
       "model_id": "0be12a88a3d34ed38aa580bc54bf3c55",
       "version_major": 2,
       "version_minor": 0
      },
      "text/plain": [
       "model.safetensors:   0%|          | 0.00/440M [00:00<?, ?B/s]"
      ]
     },
     "metadata": {},
     "output_type": "display_data"
    },
    {
     "data": {
      "application/vnd.jupyter.widget-view+json": {
       "model_id": "858fab6f12e64377bd536075d5783ed7",
       "version_major": 2,
       "version_minor": 0
      },
      "text/plain": [
       "Map:   0%|          | 0/12544 [00:00<?, ? examples/s]"
      ]
     },
     "metadata": {},
     "output_type": "display_data"
    },
    {
     "data": {
      "application/vnd.jupyter.widget-view+json": {
       "model_id": "a8116d8ed2764370b60c3a3f852ded9d",
       "version_major": 2,
       "version_minor": 0
      },
      "text/plain": [
       "Map:   0%|          | 0/2001 [00:00<?, ? examples/s]"
      ]
     },
     "metadata": {},
     "output_type": "display_data"
    },
    {
     "data": {
      "application/vnd.jupyter.widget-view+json": {
       "model_id": "429c786e39104de189d28062d9242d82",
       "version_major": 2,
       "version_minor": 0
      },
      "text/plain": [
       "Map:   0%|          | 0/2077 [00:00<?, ? examples/s]"
      ]
     },
     "metadata": {},
     "output_type": "display_data"
    },
    {
     "data": {
      "text/html": [
       "\n",
       "    <div>\n",
       "      \n",
       "      <progress value='784' max='784' style='width:300px; height:20px; vertical-align: middle;'></progress>\n",
       "      [784/784 07:05, Epoch 1/1]\n",
       "    </div>\n",
       "    <table border=\"1\" class=\"dataframe\">\n",
       "  <thead>\n",
       " <tr style=\"text-align: left;\">\n",
       "      <th>Epoch</th>\n",
       "      <th>Training Loss</th>\n",
       "      <th>Validation Loss</th>\n",
       "      <th>Precision</th>\n",
       "      <th>Recall</th>\n",
       "      <th>F1</th>\n",
       "      <th>Accuracy</th>\n",
       "    </tr>\n",
       "  </thead>\n",
       "  <tbody>\n",
       "    <tr>\n",
       "      <td>1</td>\n",
       "      <td>0.122100</td>\n",
       "      <td>0.135049</td>\n",
       "      <td>0.964526</td>\n",
       "      <td>0.964526</td>\n",
       "      <td>0.964526</td>\n",
       "      <td>0.964526</td>\n",
       "    </tr>\n",
       "  </tbody>\n",
       "</table><p>"
      ],
      "text/plain": [
       "<IPython.core.display.HTML object>"
      ]
     },
     "metadata": {},
     "output_type": "display_data"
    },
    {
     "data": {
      "text/html": [],
      "text/plain": [
       "<IPython.core.display.HTML object>"
      ]
     },
     "metadata": {},
     "output_type": "display_data"
    },
    {
     "name": "stdout",
     "output_type": "stream",
     "text": [
      "Classification Report\n",
      "              precision    recall  f1-score   support\n",
      "\n",
      "         ADJ       0.94      0.95      0.95      1794\n",
      "         ADP       0.98      0.98      0.98      2030\n",
      "         ADV       0.96      0.94      0.95      1183\n",
      "         AUX       0.99      0.99      0.99      1543\n",
      "       CCONJ       1.00      0.99      1.00       736\n",
      "         DET       0.99      0.99      0.99      1896\n",
      "        INTJ       0.94      0.84      0.89       121\n",
      "        NOUN       0.93      0.95      0.94      4123\n",
      "         NUM       0.94      0.98      0.96       542\n",
      "        PART       0.99      0.99      0.99       649\n",
      "        PRON       0.99      1.00      0.99      2166\n",
      "       PROPN       0.92      0.88      0.90      2076\n",
      "       PUNCT       0.99      0.99      0.99      3096\n",
      "       SCONJ       0.95      0.96      0.96       384\n",
      "         SYM       0.76      0.80      0.78       109\n",
      "        VERB       0.98      0.99      0.98      2606\n",
      "           X       1.00      0.00      0.00        42\n",
      "           _       0.97      0.95      0.96       354\n",
      "\n",
      "    accuracy                           0.97     25450\n",
      "   macro avg       0.96      0.90      0.90     25450\n",
      "weighted avg       0.97      0.97      0.96     25450\n",
      "\n",
      "AUC scores per tag (class):\n",
      "ADJ: 0.9976\n",
      "ADP: 0.9997\n",
      "ADV: 0.9985\n",
      "AUX: 0.9995\n",
      "CCONJ: 0.9999\n",
      "DET: 0.9999\n",
      "INTJ: 0.9948\n",
      "NOUN: 0.9970\n",
      "NUM: 0.9997\n",
      "PART: 0.9999\n",
      "PRON: 0.9996\n",
      "PROPN: 0.9949\n",
      "PUNCT: 0.9999\n",
      "SCONJ: 0.9984\n",
      "SYM: 0.9875\n",
      "VERB: 0.9998\n",
      "X: 0.8860\n",
      "_: 0.9985\n"
     ]
    }
   ],
   "source": [
    "model, tokenizer, trainer = train_pos_tagger(\"bert-base-uncased\")"
   ]
  },
  {
   "cell_type": "code",
   "execution_count": null,
   "metadata": {
    "colab": {
     "base_uri": "https://localhost:8080/",
     "height": 1000,
     "referenced_widgets": [
      "bf01290f353842d3a4fb0256a5972fe1",
      "49039ee4029d4fe1b1b2340c00a68119",
      "d305bcb2ec7d480ba30924ad29d2e717",
      "e58e5a9c5e9847d9a0385068f10f1721",
      "d421a66c5f414ac6817fc7d75ba0df95",
      "a8ba962ecc4e4070978d7148901440b9",
      "b485fb9fc6cc495c8b782508c7f54bbc",
      "bb0ed4f3608847ea9f80576a608011e7",
      "af8ed2dde2fa4241b01c1da6a04666d3",
      "e8852c19f8564d878693661a30892dfc",
      "b6d50574b73245158f2ea725a8bb518f",
      "b1042510b53c4eb09ff93e8eae7d7b9f",
      "b15b2c4d37e043ddb8917067a9f2a626",
      "7ba57338f62642188bc3dbe637272d62",
      "7320adbef1b0413f8ec7fd000b4bda76",
      "03852841898a4168883264706bea0268",
      "d0bfc6c5b3e3465c97e88fa2e433be7e",
      "1fc077885e4148138eddcec8e35f5f90",
      "51d0e284365b4d20ada778e651e47350",
      "5c973b570c3a4637bd663ccbd93362ee",
      "77dd307c236f43688ee06bfac761c268",
      "1e42ce72309244c0bfd37e228a21f06c",
      "93c4ad72e11c42d380bb2d9e7d73cdc2",
      "8b2738a0a5d74d0b815dbe6531bb5360",
      "a386a288b02d4db5ba696c12e6aa38a9",
      "0ca8e92924da4b78a600b58ec3fd842e",
      "a462bb1d34c34b3495af87624d778622",
      "dffc43c522e1419697d696245f93c210",
      "86d9617da4dd4e3bab1c19fafca2032b",
      "3e1c6c37ac584455bb1819ad13153d12",
      "a9d10c1b3a63486fa47787ed10e52b69",
      "92c4aa3d0ea545748122ab6036aca67e",
      "6b434699d7ce4b88802db874f05d067d",
      "3d0fb4aa825e4bc4b5253f162642fd93",
      "440be4a70f74453d9e4062f052e69988",
      "fbe8a9fb7c104afca0ac2732321aab68",
      "115adaf35fb740b6a02bf4a183913641",
      "53db1832168f4c19aaab66c2f8af3e42",
      "ecc49524924e4e5e8cfbe00e8038b054",
      "e6888b07e3244e85aba4f89926daf338",
      "b207b197e1634fa69e679c9d326df888",
      "345b7bc26ac54d42baa8b980e271d9be",
      "4a798213dcc34857ac928741b31cb950",
      "9710a3f7135a4257a4ff4876584e336a",
      "b7602f2875174fd18a16cc4a0cec6b3f",
      "621cbfdc455a4a44ac68cd6b68f50c6d",
      "6fbb024ae7ff4497a98798673603554f",
      "b5557ff8978d4c7a8613fba33ab7f9da",
      "f3f9c8522f4843628bcc37a34c255e96",
      "d6900de13a5040cc991977f0346a64d3",
      "72c1acf982a04874a7f6cbb723cc25b6",
      "b03d47440c93412b8be7ba6b111d435e",
      "0997e0dd358c441880e0e0a0aa19453a",
      "6566ceb018024ea9ad0ac6fc1c85e9e4",
      "f4bbc906fd834bc6aeefe650725f8c76",
      "7627440794cf481dacd8f290f0b19b09",
      "e94b6cf84ddc44b594f4a87178ff53af",
      "f05dbd38acfe458ca6b3481cf92c8707",
      "602965f45a22417ab2ace427ab38ddb4",
      "cb640e62d1ff4ccaa74e94f34d465d30",
      "1d95399890a045809640cdd1ae79675a",
      "d585c1ec9242418dbba14c2e68de3a50",
      "c60c1cb6722f48a3ad9402fa7db7feb1",
      "07ad5d970b254ad8bba84e0b8f46cced",
      "666e34d6fbef4df2bcbf10febc10b2c4",
      "096cfb18c9f24bb49167006fed2b243a",
      "ad7947ee17ce4d79b35e41724e8d4738",
      "3b71b5d3c9484737a543f3efa9167a01",
      "f7ceff8cba0a4225aa6482a7a213a362",
      "66f98ed15f3b49e3b8f6381b3e68d16a",
      "dfd30d06b1694fc584260f0aa1bee2e3",
      "14da157fa5b941e88f262af236d7961c",
      "71ac1578c6d64fa1b37ad8ca59806cbb",
      "eab43812226145deb09da77caaa0b027",
      "42ba10621c2946379207833b15153e15",
      "7297eaa132524fe7a7a62ec0735e8023",
      "71ddd208620a4f9a9e3bbb697fadad29"
     ]
    },
    "id": "cndrsq0kU-O3",
    "outputId": "43a5c1dd-7c49-45e4-9dcf-de65db59b183"
   },
   "outputs": [
    {
     "data": {
      "application/vnd.jupyter.widget-view+json": {
       "model_id": "bf01290f353842d3a4fb0256a5972fe1",
       "version_major": 2,
       "version_minor": 0
      },
      "text/plain": [
       "config.json:   0%|          | 0.00/1.21k [00:00<?, ?B/s]"
      ]
     },
     "metadata": {},
     "output_type": "display_data"
    },
    {
     "data": {
      "application/vnd.jupyter.widget-view+json": {
       "model_id": "b1042510b53c4eb09ff93e8eae7d7b9f",
       "version_major": 2,
       "version_minor": 0
      },
      "text/plain": [
       "spiece.model:   0%|          | 0.00/792k [00:00<?, ?B/s]"
      ]
     },
     "metadata": {},
     "output_type": "display_data"
    },
    {
     "data": {
      "application/vnd.jupyter.widget-view+json": {
       "model_id": "93c4ad72e11c42d380bb2d9e7d73cdc2",
       "version_major": 2,
       "version_minor": 0
      },
      "text/plain": [
       "tokenizer.json:   0%|          | 0.00/1.39M [00:00<?, ?B/s]"
      ]
     },
     "metadata": {},
     "output_type": "display_data"
    },
    {
     "data": {
      "application/vnd.jupyter.widget-view+json": {
       "model_id": "3d0fb4aa825e4bc4b5253f162642fd93",
       "version_major": 2,
       "version_minor": 0
      },
      "text/plain": [
       "model.safetensors:   0%|          | 0.00/892M [00:00<?, ?B/s]"
      ]
     },
     "metadata": {},
     "output_type": "display_data"
    },
    {
     "data": {
      "application/vnd.jupyter.widget-view+json": {
       "model_id": "b7602f2875174fd18a16cc4a0cec6b3f",
       "version_major": 2,
       "version_minor": 0
      },
      "text/plain": [
       "Map:   0%|          | 0/12544 [00:00<?, ? examples/s]"
      ]
     },
     "metadata": {},
     "output_type": "display_data"
    },
    {
     "data": {
      "application/vnd.jupyter.widget-view+json": {
       "model_id": "7627440794cf481dacd8f290f0b19b09",
       "version_major": 2,
       "version_minor": 0
      },
      "text/plain": [
       "Map:   0%|          | 0/2001 [00:00<?, ? examples/s]"
      ]
     },
     "metadata": {},
     "output_type": "display_data"
    },
    {
     "data": {
      "application/vnd.jupyter.widget-view+json": {
       "model_id": "ad7947ee17ce4d79b35e41724e8d4738",
       "version_major": 2,
       "version_minor": 0
      },
      "text/plain": [
       "Map:   0%|          | 0/2077 [00:00<?, ? examples/s]"
      ]
     },
     "metadata": {},
     "output_type": "display_data"
    },
    {
     "data": {
      "text/html": [
       "\n",
       "    <div>\n",
       "      \n",
       "      <progress value='784' max='784' style='width:300px; height:20px; vertical-align: middle;'></progress>\n",
       "      [784/784 08:39, Epoch 1/1]\n",
       "    </div>\n",
       "    <table border=\"1\" class=\"dataframe\">\n",
       "  <thead>\n",
       " <tr style=\"text-align: left;\">\n",
       "      <th>Epoch</th>\n",
       "      <th>Training Loss</th>\n",
       "      <th>Validation Loss</th>\n",
       "      <th>Precision</th>\n",
       "      <th>Recall</th>\n",
       "      <th>F1</th>\n",
       "      <th>Accuracy</th>\n",
       "    </tr>\n",
       "  </thead>\n",
       "  <tbody>\n",
       "    <tr>\n",
       "      <td>1</td>\n",
       "      <td>2.528200</td>\n",
       "      <td>2.050722</td>\n",
       "      <td>0.473307</td>\n",
       "      <td>0.473307</td>\n",
       "      <td>0.473307</td>\n",
       "      <td>0.473307</td>\n",
       "    </tr>\n",
       "  </tbody>\n",
       "</table><p>"
      ],
      "text/plain": [
       "<IPython.core.display.HTML object>"
      ]
     },
     "metadata": {},
     "output_type": "display_data"
    },
    {
     "data": {
      "text/html": [],
      "text/plain": [
       "<IPython.core.display.HTML object>"
      ]
     },
     "metadata": {},
     "output_type": "display_data"
    },
    {
     "name": "stdout",
     "output_type": "stream",
     "text": [
      "Classification Report\n",
      "              precision    recall  f1-score   support\n",
      "\n",
      "         ADJ       0.31      0.15      0.20      1794\n",
      "         ADP       0.21      0.90      0.34      2030\n",
      "         ADV       0.13      0.04      0.07      1183\n",
      "         AUX       0.09      0.01      0.02      1543\n",
      "       CCONJ       0.32      0.07      0.11       736\n",
      "         DET       0.64      0.35      0.45      1896\n",
      "        INTJ       0.00      0.00      0.00       121\n",
      "        NOUN       0.65      0.61      0.63      4123\n",
      "         NUM       0.69      0.25      0.37       542\n",
      "        PART       0.09      0.03      0.04       649\n",
      "        PRON       0.67      0.61      0.64      2166\n",
      "       PROPN       0.67      0.55      0.61      2076\n",
      "       PUNCT       0.87      0.91      0.89      3096\n",
      "       SCONJ       0.04      0.05      0.05       384\n",
      "         SYM       0.00      0.00      0.00       109\n",
      "        VERB       0.49      0.41      0.45      2606\n",
      "           X       0.00      0.00      0.00        42\n",
      "           _       0.00      0.00      0.00       354\n",
      "\n",
      "    accuracy                           0.47     25450\n",
      "   macro avg       0.33      0.28      0.27     25450\n",
      "weighted avg       0.50      0.47      0.45     25450\n",
      "\n",
      "AUC scores per tag (class):\n",
      "ADJ: 0.6848\n",
      "ADP: 0.8514\n",
      "ADV: 0.7361\n",
      "AUX: 0.7813\n",
      "CCONJ: 0.8856\n",
      "DET: 0.8716\n",
      "INTJ: 0.5090\n",
      "NOUN: 0.8751\n",
      "NUM: 0.8401\n",
      "PART: 0.8467\n",
      "PRON: 0.9086\n",
      "PROPN: 0.8904\n",
      "PUNCT: 0.9801\n",
      "SCONJ: 0.8377\n",
      "SYM: 0.4686\n",
      "VERB: 0.8477\n",
      "X: 0.3508\n",
      "_: 0.5602\n"
     ]
    }
   ],
   "source": [
    "model, tokenizer, trainer = train_pos_tagger(\"t5-base\")"
   ]
  },
  {
   "cell_type": "code",
   "execution_count": null,
   "metadata": {
    "colab": {
     "base_uri": "https://localhost:8080/",
     "height": 1000,
     "referenced_widgets": [
      "743130710f674e9d8f0bb50fb62986c3",
      "95aed4ab7bc04f54a3e881395081b994",
      "c86578d12e3a44d7be9673c604ac0b26",
      "6d1b07ff1e89418aadc8080501f66e54",
      "5aac8935dbe24541b46709b83919024e",
      "7b4f2fcf802a498e9f8c8209cba97071",
      "4fcc9673ca924361a7208012dcbacef0",
      "8966c8da99d64003819965588e2baf3e",
      "51bc2ba2e6744ae1aa6a6ef3fc717c3c",
      "af4cf3db922c4287ac72c6b426e6cdad",
      "9419f2a45b7b4b958bdec97c6f604bac",
      "527e517ae75f478186fb68bdb92b32dc",
      "675b167ddd6e42718946dae86db5e31b",
      "914bf585651245eeb0a86690585888f7",
      "e6b8e0530530449dae92dba8ad9e5415",
      "b0d47ad305b94cf599421b77a1307fb3",
      "25a1b84602024546a9507cdc39b890ac",
      "b6e1974a52eb4900aa7952597f1cbc6a",
      "af8992deee904344aa81d4e3814b014b",
      "14566fe2118d407b976be0d0cd20f88e",
      "b55c4eaae13548f3af7232301b78a2b0",
      "9b5873b1be0944b9906c8b2cf45bacca",
      "ec424fd32d7a4800bdbf62b8d0236d05",
      "905dfb75790545488ed30225550d4ccc",
      "f8a5683f07de4f73bfa13335e02c2ba0",
      "be0434a17a654c2985e738a049a9a63c",
      "1534ab6213024c84b249ef72a2c34349",
      "9f64025686c54817a6087bec77d31741",
      "2b5e124429e34ccf83551d9002691532",
      "d3b3b7ff71a045e1ab8f415aa761a76d",
      "6b8422bd440c4abc964d577ff333368f",
      "3a78c9fe2c954e98b34fe98eacb9a827",
      "aa3ffb6ce467449589f189c1df430862",
      "4739c470a41647c68891d17d2934564e",
      "69abc6f7df61497b85b9907454c2b128",
      "4af1c209e89b4c14ab04071d08f20a4c",
      "e1359bd7de054ee5bcb8b6e50e36468f",
      "03e1be36317846bc87cb952ef24f20fa",
      "a6b1ffe44f524efba72e3a2e4bc53f4f",
      "92cc4422879248be8742c18ae081ca30",
      "bb15e05ba9b84f909fd983f78cdeae81",
      "84c5c5c7197045daa2124bf1d5b80b1e",
      "a676df913a1d4cdd803aa6b4ebc59687",
      "b498d3eef49c49cca60ceabed8041877",
      "d64748b0aa4a4b1a97076681ef1df835",
      "529b5a4545f8456dbbe4fafe495bbc1b",
      "2932afb20a6043a2b7b4106871f3f4d4",
      "e7e4a050ff0849a6ae62e894c17371c3",
      "5f0b0443a73b4528b6551b91eb9b2a60",
      "d5a193b3365f4d35aa2da5f49d70e76c",
      "055fa96f5d904211a0026691bf1b1999",
      "ef3ea91c0f8540e4acbd352de251e621",
      "f1720c77c9564dfe8bb8195120ae12f8",
      "7fa6fe255e28418294a4e2102356452c",
      "ecdba370df84412b902610ec3508dcc8",
      "3f285bf13b5847eb80e8b2f8f91ab445",
      "49518f36fbf347229fe110c664d519cb",
      "4461d350b8304b759502caceaf0f3b5b",
      "84a026b72f9e4653b77a0bae3c9cf556",
      "7fd500b72abe4d289573d0c639e10869",
      "f46cfa01f8f84d728f8f3a21326a5ac7",
      "f18cb2b7bbc04d54b30dad12a715e162",
      "6c55a44cbc604c9e84c600680f38f6d2",
      "7aa2c2c77ffc4c90809268f8cd8eb6ac",
      "1f245563969f4e1fac10aefae9fa12e4",
      "2388251a645545a994496e14cff37148",
      "3514e85eb6a14804ba24b0439887cb64",
      "f14c443bc7f44c5db8273824f85e0941",
      "b255da4b6cd24cc5a128d7a585653cad",
      "6d3d9b772c4e4cebae4c659b90fb9600",
      "6cffdbafc62544ac8b54df9769be5b33",
      "3422529f48e24a0795cefdc63c55c2aa",
      "1c5e8f24e9b742dfbfe1bb961f79eab4",
      "474ca56f81934dd9997e323704b8fccd",
      "d9d8069258b2410f8672f659260785ac",
      "551e8a279f3c41829f85837b8830e548",
      "a8f455d902624ada98f2953fa38b1686",
      "6f783bc028be4fd3bf09b1cefa56b3bd",
      "f2dfb7f3fecd49738972c76f32276734",
      "110c36bb9cba48b68e2496ccef6d8b74",
      "6f585aab47c24932bb87732661399a89",
      "c9a055c7b36443d6becc1441ad6823d3",
      "36830ca1f617434d9905b81f8eba22f6",
      "9d7de46cff204843a7fd9445d6d0bf1c",
      "5d88496330b7459ca283390a00b71df9",
      "4e87458314414916a4817329755fe0c9",
      "10dbb55998124a0c8055eececb1973a2",
      "0ad8416a3c954ba5bf1df97058137424"
     ]
    },
    "id": "TVxlaLBDY2Nb",
    "outputId": "7fd0283a-0d17-4dbe-9336-93eb1f288b23"
   },
   "outputs": [
    {
     "data": {
      "application/vnd.jupyter.widget-view+json": {
       "model_id": "743130710f674e9d8f0bb50fb62986c3",
       "version_major": 2,
       "version_minor": 0
      },
      "text/plain": [
       "tokenizer_config.json:   0%|          | 0.00/48.0 [00:00<?, ?B/s]"
      ]
     },
     "metadata": {},
     "output_type": "display_data"
    },
    {
     "data": {
      "application/vnd.jupyter.widget-view+json": {
       "model_id": "527e517ae75f478186fb68bdb92b32dc",
       "version_major": 2,
       "version_minor": 0
      },
      "text/plain": [
       "config.json:   0%|          | 0.00/1.00k [00:00<?, ?B/s]"
      ]
     },
     "metadata": {},
     "output_type": "display_data"
    },
    {
     "data": {
      "application/vnd.jupyter.widget-view+json": {
       "model_id": "ec424fd32d7a4800bdbf62b8d0236d05",
       "version_major": 2,
       "version_minor": 0
      },
      "text/plain": [
       "vocab.txt:   0%|          | 0.00/232k [00:00<?, ?B/s]"
      ]
     },
     "metadata": {},
     "output_type": "display_data"
    },
    {
     "data": {
      "application/vnd.jupyter.widget-view+json": {
       "model_id": "4739c470a41647c68891d17d2934564e",
       "version_major": 2,
       "version_minor": 0
      },
      "text/plain": [
       "pytorch_model.bin:   0%|          | 0.00/440M [00:00<?, ?B/s]"
      ]
     },
     "metadata": {},
     "output_type": "display_data"
    },
    {
     "data": {
      "application/vnd.jupyter.widget-view+json": {
       "model_id": "d64748b0aa4a4b1a97076681ef1df835",
       "version_major": 2,
       "version_minor": 0
      },
      "text/plain": [
       "Map:   0%|          | 0/12544 [00:00<?, ? examples/s]"
      ]
     },
     "metadata": {},
     "output_type": "display_data"
    },
    {
     "data": {
      "application/vnd.jupyter.widget-view+json": {
       "model_id": "3f285bf13b5847eb80e8b2f8f91ab445",
       "version_major": 2,
       "version_minor": 0
      },
      "text/plain": [
       "model.safetensors:   0%|          | 0.00/440M [00:00<?, ?B/s]"
      ]
     },
     "metadata": {},
     "output_type": "display_data"
    },
    {
     "data": {
      "application/vnd.jupyter.widget-view+json": {
       "model_id": "3514e85eb6a14804ba24b0439887cb64",
       "version_major": 2,
       "version_minor": 0
      },
      "text/plain": [
       "Map:   0%|          | 0/2001 [00:00<?, ? examples/s]"
      ]
     },
     "metadata": {},
     "output_type": "display_data"
    },
    {
     "data": {
      "application/vnd.jupyter.widget-view+json": {
       "model_id": "6f783bc028be4fd3bf09b1cefa56b3bd",
       "version_major": 2,
       "version_minor": 0
      },
      "text/plain": [
       "Map:   0%|          | 0/2077 [00:00<?, ? examples/s]"
      ]
     },
     "metadata": {},
     "output_type": "display_data"
    },
    {
     "data": {
      "text/html": [
       "\n",
       "    <div>\n",
       "      \n",
       "      <progress value='784' max='784' style='width:300px; height:20px; vertical-align: middle;'></progress>\n",
       "      [784/784 06:48, Epoch 1/1]\n",
       "    </div>\n",
       "    <table border=\"1\" class=\"dataframe\">\n",
       "  <thead>\n",
       " <tr style=\"text-align: left;\">\n",
       "      <th>Epoch</th>\n",
       "      <th>Training Loss</th>\n",
       "      <th>Validation Loss</th>\n",
       "      <th>Precision</th>\n",
       "      <th>Recall</th>\n",
       "      <th>F1</th>\n",
       "      <th>Accuracy</th>\n",
       "    </tr>\n",
       "  </thead>\n",
       "  <tbody>\n",
       "    <tr>\n",
       "      <td>1</td>\n",
       "      <td>0.133500</td>\n",
       "      <td>0.153926</td>\n",
       "      <td>0.959235</td>\n",
       "      <td>0.959235</td>\n",
       "      <td>0.959235</td>\n",
       "      <td>0.959235</td>\n",
       "    </tr>\n",
       "  </tbody>\n",
       "</table><p>"
      ],
      "text/plain": [
       "<IPython.core.display.HTML object>"
      ]
     },
     "metadata": {},
     "output_type": "display_data"
    },
    {
     "data": {
      "text/html": [],
      "text/plain": [
       "<IPython.core.display.HTML object>"
      ]
     },
     "metadata": {},
     "output_type": "display_data"
    },
    {
     "name": "stdout",
     "output_type": "stream",
     "text": [
      "Classification Report\n",
      "              precision    recall  f1-score   support\n",
      "\n",
      "         ADJ       0.93      0.94      0.94      1794\n",
      "         ADP       0.97      0.98      0.97      2030\n",
      "         ADV       0.95      0.93      0.94      1183\n",
      "         AUX       0.99      0.99      0.99      1543\n",
      "       CCONJ       1.00      0.99      0.99       736\n",
      "         DET       0.99      1.00      0.99      1896\n",
      "        INTJ       0.93      0.83      0.87       121\n",
      "        NOUN       0.93      0.95      0.94      4123\n",
      "         NUM       0.92      0.98      0.95       542\n",
      "        PART       0.99      1.00      0.99       649\n",
      "        PRON       0.99      0.99      0.99      2166\n",
      "       PROPN       0.92      0.87      0.89      2076\n",
      "       PUNCT       0.99      1.00      0.99      3096\n",
      "       SCONJ       0.96      0.96      0.96       384\n",
      "         SYM       0.83      0.78      0.81       109\n",
      "        VERB       0.97      0.99      0.98      2606\n",
      "           X       1.00      0.00      0.00        42\n",
      "           _       0.98      0.94      0.96       354\n",
      "\n",
      "    accuracy                           0.96     25450\n",
      "   macro avg       0.96      0.89      0.90     25450\n",
      "weighted avg       0.96      0.96      0.96     25450\n",
      "\n",
      "AUC scores per tag (class):\n",
      "ADJ: 0.9971\n",
      "ADP: 0.9996\n",
      "ADV: 0.9981\n",
      "AUX: 0.9995\n",
      "CCONJ: 0.9998\n",
      "DET: 0.9999\n",
      "INTJ: 0.9962\n",
      "NOUN: 0.9959\n",
      "NUM: 0.9980\n",
      "PART: 0.9999\n",
      "PRON: 0.9994\n",
      "PROPN: 0.9934\n",
      "PUNCT: 1.0000\n",
      "SCONJ: 0.9989\n",
      "SYM: 0.9991\n",
      "VERB: 0.9993\n",
      "X: 0.9075\n",
      "_: 0.9985\n"
     ]
    }
   ],
   "source": [
    "model, tokenizer, trainer = train_pos_tagger(\"nlpaueb/bert-base-uncased-eurlex\")  # pre-trained on EU legislation"
   ]
  },
  {
   "cell_type": "code",
   "execution_count": null,
   "metadata": {
    "colab": {
     "base_uri": "https://localhost:8080/",
     "height": 1000,
     "referenced_widgets": [
      "9213d1cb8787455a85596d6b6e8e7ff8",
      "506887b6fdf84cac8ddb6c29174f6d58",
      "7c166e43dc8c43879c1e2d86873e95b5",
      "8762a7c9d43e483b9cd31437a6f8dca7",
      "d5c15ee328954dedbe89217e8f6a3568",
      "a5f154c0a3d84fe88264023cef14c937",
      "3f5431b1f3c3429c8caa6c815871e359",
      "97e9dd91b6a04e7fa6f16afc6198c331",
      "eaf5643280fc4fa884d87b86c42191e6",
      "8db08bf24e9446f5b9af08e7d508a76c",
      "5f09335e72b947829b2697a4d315d509",
      "0565fab17f014c93b831b7d23366c5d5",
      "8dd8ad19a1f547bca83d319cc76535c3",
      "855e97e204584043a1ac889fa68725a3",
      "2ae37488bb31413dbf78c3fd8ec3c2df",
      "17ae3e3feee64cae8462a0cb62e20a9a",
      "f587630c2a254a57b16f098092915316",
      "09616ad3c7774d42878bd9d357d3426f",
      "249d889895504f8dab6f41fda067974d",
      "11c6cb74751f4aeab18672c94b6a4f95",
      "512c9528fa1b41a5bce2ab2835387eb4",
      "39695bbb63f04aec8520ea8c614eefe2",
      "b0fdcaf41d424156a55e9f46434fd0e8",
      "9129158bc2864429ac0c95216155e776",
      "39215569c8ba41f3bc0ced28882d92b9",
      "028e3d602a954b63843f27b3004b0858",
      "41ee75a94f0c45b1995fafdba22baa4c",
      "a8cfa577f3414096afa54ba9f546c16e",
      "078ebd70b5c34bcc80d657ba6ea81f27",
      "984611c869a64453921128bdbcf29fb1",
      "424123a52e924673a5e20b0e905d7fe6",
      "8c6fedac5fc54dcfa2aef382a336e4de",
      "03244f7929d34a8ca879705f810ff6d7",
      "a72de74fdaba4df3be7b5a2d5e2b32dc",
      "c64384d864ee44fc84f0abc5cc4eea46",
      "83da869afb8f4cd784a4db28d0467183",
      "cb048ba4ec344d8294bba35fc6e00a76",
      "5152acf799974edf94b38127fe77b3d0",
      "44510f6ead2549deaa26d956d2a4b210",
      "f0c06f39ff954c1186c33af6c3f46f8b",
      "68fd7ad279fc42a3bb44c72622fdae2f",
      "c4d0628f939c41d58c5679b4c9f260dd",
      "9d66e4daf6694de7b2f8bdaef01b9e9a",
      "0f55cf44744f434795743f62cdccb1b9",
      "2f36639403eb45fc866a468e77374980",
      "7f73cbcee3044a2799faf88b8c3c1bbc",
      "9baa20ee94af4ed3b16abe6d4e58cbc5",
      "fad1f6041c114fc29c1ee1ef1b8216f1",
      "0dbd5281e72d417ab9db87f57b882f3d",
      "95f8528a20814bc688993564f665819e",
      "6688e7d4e13a45a0902bcd5a18cfc076",
      "2bf7b853c972461db35df45da4790c5c",
      "cc2d7e39d469458c857c6b9ba78bcddd",
      "988d70ea08184a28a9d709f7afb92019",
      "b0dbea67623b48d19783c967b8f48b44",
      "664d999a367649589a5b493466616d7b",
      "3dded766794045aca066ce379c901f5d",
      "2a37d396b2e24236822110549a0ee815",
      "dfcab3c93bcb4e82abe0518dcb3c83c8",
      "219a7d2f929441678c12de6be048a04a",
      "5713c1d8f52a4b62a26240be6392f718",
      "2d09b2e3a88a478eb7c71acb70246745",
      "c8401904b3f04f9791f39f5747bf4970",
      "5239b0695a754a2b826040dc8c80b3e8",
      "cacb33d57a7b4346b8f7906fcff5fcd7",
      "e734a6eb89b24f7193382de8041f7520",
      "39f46803d1d4491b99be7195b7a86743",
      "97b718235cb74fa3aef634135d9b4db9",
      "978c6c25d9134046b20f57dc14774e5b",
      "fa866f924499430eae677f896179aa07",
      "8de1a8d976a045dc8d2c249177af935a",
      "bbf73a3e30be4dcb8646db5b33da9ad4",
      "e94ae02a3a9346d38103a06474b8fa28",
      "5e317479be244dfbac1e1c08ce224036",
      "b847fb4b1e6f44df89ee0d881982ceac",
      "b3d6e22317dd4c5caa472a83765c0b98",
      "d9ae78c24c7b45c9a7889a89dd4cb2c1",
      "121604dc658f40e5a333f0562eb83086",
      "cb93826de805455d8b3dd0853ad33f0e",
      "78aa62fce262441f9dd9aebfd58e7011",
      "6149ded6e63b487b8a912a5ac93a155f",
      "275e421aad1240b98f85b295303ee730",
      "c3985f23a81e47dcb45980e0ceebbea9",
      "e4a02c4311c84a28ba4f832d1ca53dea",
      "1ef9a0ed27f54dda84cf7f25bd9314d2",
      "dad9154b8da94ac19753910cceb01779",
      "5f1b5b4f64234cc19882806bc6f44bbb",
      "80b01fbcbb454180aa8c397557372fa5",
      "0637ef351947400dbbc0762476eefce7",
      "1dfd0f963ceb445dbe8b3abdbbe37a32",
      "720b1a554f8c44dd97de2ae18efb7d2e",
      "2f1d6c5d3dc54fb49ab324f8b9cb2ea0",
      "d19fe9ebc5714222931866646ce2c3ac",
      "fdd1dd20f98d45239c1d795523216b73",
      "42abe1961bc74228b7f642513354a3ed",
      "917a7587f5ae41bdb809559d8cb9ab58",
      "4550426296404eba88da84fadf511819",
      "5f64e643a70e445390bf8cb5a360b90f",
      "92283a1bf02849f5a034ad9f7ac5619c"
     ]
    },
    "id": "Bn4V6joZc-Jy",
    "outputId": "ada06b20-5674-4634-c63e-a57464b9d956"
   },
   "outputs": [
    {
     "data": {
      "application/vnd.jupyter.widget-view+json": {
       "model_id": "9213d1cb8787455a85596d6b6e8e7ff8",
       "version_major": 2,
       "version_minor": 0
      },
      "text/plain": [
       "tokenizer_config.json:   0%|          | 0.00/263 [00:00<?, ?B/s]"
      ]
     },
     "metadata": {},
     "output_type": "display_data"
    },
    {
     "data": {
      "application/vnd.jupyter.widget-view+json": {
       "model_id": "0565fab17f014c93b831b7d23366c5d5",
       "version_major": 2,
       "version_minor": 0
      },
      "text/plain": [
       "config.json:   0%|          | 0.00/568 [00:00<?, ?B/s]"
      ]
     },
     "metadata": {},
     "output_type": "display_data"
    },
    {
     "data": {
      "application/vnd.jupyter.widget-view+json": {
       "model_id": "b0fdcaf41d424156a55e9f46434fd0e8",
       "version_major": 2,
       "version_minor": 0
      },
      "text/plain": [
       "vocab.txt:   0%|          | 0.00/221k [00:00<?, ?B/s]"
      ]
     },
     "metadata": {},
     "output_type": "display_data"
    },
    {
     "data": {
      "application/vnd.jupyter.widget-view+json": {
       "model_id": "a72de74fdaba4df3be7b5a2d5e2b32dc",
       "version_major": 2,
       "version_minor": 0
      },
      "text/plain": [
       "special_tokens_map.json:   0%|          | 0.00/112 [00:00<?, ?B/s]"
      ]
     },
     "metadata": {},
     "output_type": "display_data"
    },
    {
     "data": {
      "application/vnd.jupyter.widget-view+json": {
       "model_id": "2f36639403eb45fc866a468e77374980",
       "version_major": 2,
       "version_minor": 0
      },
      "text/plain": [
       "pytorch_model.bin:   0%|          | 0.00/439M [00:00<?, ?B/s]"
      ]
     },
     "metadata": {},
     "output_type": "display_data"
    },
    {
     "data": {
      "application/vnd.jupyter.widget-view+json": {
       "model_id": "664d999a367649589a5b493466616d7b",
       "version_major": 2,
       "version_minor": 0
      },
      "text/plain": [
       "Map:   0%|          | 0/12544 [00:00<?, ? examples/s]"
      ]
     },
     "metadata": {},
     "output_type": "display_data"
    },
    {
     "data": {
      "application/vnd.jupyter.widget-view+json": {
       "model_id": "39f46803d1d4491b99be7195b7a86743",
       "version_major": 2,
       "version_minor": 0
      },
      "text/plain": [
       "model.safetensors:   0%|          | 0.00/439M [00:00<?, ?B/s]"
      ]
     },
     "metadata": {},
     "output_type": "display_data"
    },
    {
     "data": {
      "application/vnd.jupyter.widget-view+json": {
       "model_id": "121604dc658f40e5a333f0562eb83086",
       "version_major": 2,
       "version_minor": 0
      },
      "text/plain": [
       "Map:   0%|          | 0/2001 [00:00<?, ? examples/s]"
      ]
     },
     "metadata": {},
     "output_type": "display_data"
    },
    {
     "data": {
      "application/vnd.jupyter.widget-view+json": {
       "model_id": "0637ef351947400dbbc0762476eefce7",
       "version_major": 2,
       "version_minor": 0
      },
      "text/plain": [
       "Map:   0%|          | 0/2077 [00:00<?, ? examples/s]"
      ]
     },
     "metadata": {},
     "output_type": "display_data"
    },
    {
     "data": {
      "text/html": [
       "\n",
       "    <div>\n",
       "      \n",
       "      <progress value='784' max='784' style='width:300px; height:20px; vertical-align: middle;'></progress>\n",
       "      [784/784 08:36, Epoch 1/1]\n",
       "    </div>\n",
       "    <table border=\"1\" class=\"dataframe\">\n",
       "  <thead>\n",
       " <tr style=\"text-align: left;\">\n",
       "      <th>Epoch</th>\n",
       "      <th>Training Loss</th>\n",
       "      <th>Validation Loss</th>\n",
       "      <th>Precision</th>\n",
       "      <th>Recall</th>\n",
       "      <th>F1</th>\n",
       "      <th>Accuracy</th>\n",
       "    </tr>\n",
       "  </thead>\n",
       "  <tbody>\n",
       "    <tr>\n",
       "      <td>1</td>\n",
       "      <td>0.148700</td>\n",
       "      <td>0.166297</td>\n",
       "      <td>0.954649</td>\n",
       "      <td>0.954649</td>\n",
       "      <td>0.954649</td>\n",
       "      <td>0.954649</td>\n",
       "    </tr>\n",
       "  </tbody>\n",
       "</table><p>"
      ],
      "text/plain": [
       "<IPython.core.display.HTML object>"
      ]
     },
     "metadata": {},
     "output_type": "display_data"
    },
    {
     "data": {
      "text/html": [],
      "text/plain": [
       "<IPython.core.display.HTML object>"
      ]
     },
     "metadata": {},
     "output_type": "display_data"
    },
    {
     "name": "stdout",
     "output_type": "stream",
     "text": [
      "Classification Report\n",
      "              precision    recall  f1-score   support\n",
      "\n",
      "         ADJ       0.91      0.92      0.92      1794\n",
      "         ADP       0.97      0.97      0.97      2030\n",
      "         ADV       0.93      0.91      0.92      1183\n",
      "         AUX       0.99      0.99      0.99      1543\n",
      "       CCONJ       1.00      0.99      1.00       736\n",
      "         DET       0.99      0.99      0.99      1896\n",
      "        INTJ       0.81      0.59      0.68       121\n",
      "        NOUN       0.93      0.94      0.93      4123\n",
      "         NUM       0.93      0.98      0.95       542\n",
      "        PART       0.98      0.99      0.98       649\n",
      "        PRON       0.99      0.99      0.99      2166\n",
      "       PROPN       0.88      0.87      0.87      2076\n",
      "       PUNCT       0.99      0.99      0.99      3096\n",
      "       SCONJ       0.94      0.94      0.94       384\n",
      "         SYM       0.80      0.83      0.81       109\n",
      "        VERB       0.96      0.97      0.97      2606\n",
      "           X       1.00      0.00      0.00        42\n",
      "           _       0.97      0.95      0.96       354\n",
      "\n",
      "    accuracy                           0.95     25450\n",
      "   macro avg       0.94      0.88      0.88     25450\n",
      "weighted avg       0.95      0.95      0.95     25450\n",
      "\n",
      "AUC scores per tag (class):\n",
      "ADJ: 0.9958\n",
      "ADP: 0.9993\n",
      "ADV: 0.9969\n",
      "AUX: 0.9992\n",
      "CCONJ: 0.9991\n",
      "DET: 0.9998\n",
      "INTJ: 0.9914\n",
      "NOUN: 0.9952\n",
      "NUM: 0.9994\n",
      "PART: 0.9999\n",
      "PRON: 0.9995\n",
      "PROPN: 0.9926\n",
      "PUNCT: 1.0000\n",
      "SCONJ: 0.9979\n",
      "SYM: 0.9992\n",
      "VERB: 0.9991\n",
      "X: 0.9203\n",
      "_: 0.9996\n"
     ]
    }
   ],
   "source": [
    "model, tokenizer, trainer = train_pos_tagger(\"nlpaueb/sec-bert-base\")   # pre-trained on 260,773 10-K filings from 1993-2019"
   ]
  },
  {
   "cell_type": "markdown",
   "metadata": {
    "id": "5pU89InlzRxw"
   },
   "source": [
    "## Comparison Board"
   ]
  },
  {
   "cell_type": "markdown",
   "metadata": {
    "id": "WcLZ46jUzUvx"
   },
   "source": [
    "| **Model**                | **Accuracy** | **Macro avg F1-score** | **Weighted avg F1-score** | **Strengths**                                                                                                                                     | **Weaknesses**                                                                                                             |\n",
    "|--------------------------|--------------|------------------------|---------------------------|--------------------------------------------------------------------------------------------------------------------------------------------------|---------------------------------------------------------------------------------------------------------------------------|\n",
    "| **ShallowPOS_MLP**        | 0.83         | 0.74                   | 0.83                      | High performance on **PRON (0.97 precision)**, **AUX (0.96 recall)**, and **VERB (0.91 f1-score)**.                                               | Struggles with **X (f1 = 0.00)** and **CCONJ (0.45 f1)**.                                                                |\n",
    "| **DeepPOS_MLP**          | 0.83         | 0.74                   | 0.83                      | Improved recall for **AUX (0.94)** and **PRON (0.97)**, maintains strong performance across categories.                                           | Struggles with rare categories like **X**.                                                                                 |\n",
    "| **VeryDeepPOS_MLP**      | 0.82         | 0.74                   | 0.82                      | Strong performance on **AUX** and **PRON**, but slightly lower overall performance compared to other MLP models.                                  | Some decrease in performance, especially in **CCONJ (0.43 f1)** and **NUM (0.56 f1)**.                                     |\n",
    "| **ShallowPOS_BiGRU**     | 0.84         | 0.75                   | 0.84                      | High performance on **PRON (0.97 precision)**, **AUX (0.97 recall)**, and **VERB (0.92 f1-score)**.                                               | Struggles with **X (f1 = 0.04)** and **CCONJ (0.45 f1)**.                                                                |\n",
    "| **DeepPOS_BiGRU**       | 0.84         | 0.75                   | 0.84                      | High performance on **AUX (0.97)** and **PRON (0.97)**.                                                                                          | Struggles with **X** and **CCONJ (0.45 f1)**.                                                                             |\n",
    "| **VeryDeepPOS_BiGRU**   | 0.84         | 0.76                   | 0.84                      | Strong performance on **AUX (0.97)**, **PRON (0.98)**, and **VERB (0.92)** with a good balance across categories.                                | Some degradation in performance for **CCONJ (0.46 f1)** and **NUM (0.57 f1)**, but more consistent than previous models.  |\n",
    "| **ShallowPOS_CNN**       | 0.83         | 0.74                   | 0.83                      | High performance on **AUX (0.96 recall)** and **PRON (0.97 precision)**, **PUNCT (0.99 recall)**.                                                 | Struggles with **X (f1 = 0.00)** and **CCONJ (0.43 f1)**.                                                                |\n",
    "| **DeepPOS_CNN**         | 0.84         | 0.75                   | 0.84                      | Good performance across most categories, especially **AUX (0.97)** and **VERB (0.92)**.                                                           | Struggles with **X (f1 = 0.00)** and **CCONJ (0.47 f1)**.                                                                |\n",
    "| **VeryDeepPOS_CNN**     | 0.82         | 0.73                   | 0.82                      | Strong performance on **AUX (0.96)** and **PRON (0.97)**.                                                                                       | Some struggles with **CCONJ (0.45 f1)** and **NUM (0.49 f1)**.                                                           |\n",
    "| **Baseline Tagger**      | 0.86         | 0.80                   | 0.86                      | High accuracy and strong performance on **CCONJ (0.99 precision)** and **PUNCT (0.99 precision)**.                                                | Struggles with **X (f1 = 0.00)** and **PROPN (0.66 f1)**.                                                                |\n",
    "| **XLM-RoBERTa Base**    | 0.97         | 0.91                   | 0.97                      | Outstanding performance across most categories, especially **AUX (0.99)**, **PUNCT (1.00)**, and **CCONJ (0.99)**. Very high accuracy and AUC scores. | Struggles with **X (f1 = 0.00)**.                                                                                         |\n",
    "| **BERT Base Uncased**   | 0.97         | 0.90                   | 0.96                      | Strong performance across most categories, particularly **AUX (0.99)**, **CCONJ (1.00)**, and **PUNCT (0.99)**. Excellent AUC scores.              | Struggles with **X (f1 = 0.00)**.                                                                                         |\n",
    "| **T5 Base**             | 0.47         | 0.27                   | 0.45                      | High precision for certain tags like **ADP (0.90 recall)** and **PUNCT (0.91 recall)**.                                                            | Struggles significantly with many categories, including **X (f1 = 0.00)**, **INTJ (f1 = 0.00)**, and **AUX (f1 = 0.02)**.  |\n",
    "| **NLPAueb BERT Base Uncased (EURLEX)** | 0.96         | 0.90                   | 0.96                      | Strong performance across most categories, especially **AUX (0.99)**, **PUNCT (1.00)**, and **CCONJ (0.99)**. High AUC scores.                     | Struggles with **X (f1 = 0.00)**.                                                                                         |\n",
    "| **NLPAueb SEC BERT Base** | 0.95         | 0.88                   | 0.95                      | Strong performance across most categories, particularly **AUX (0.99)**, **PUNCT (0.99)**, and **CCONJ (1.00)**. Very good AUC scores.              | Struggles with **X (f1 = 0.00)** and **INTJ (0.68 f1)**.                                                                  |"
   ]
  },
  {
   "cell_type": "markdown",
   "metadata": {
    "id": "RF0LzAkCUzFv"
   },
   "source": [
    "## Bonus Task"
   ]
  },
  {
   "cell_type": "markdown",
   "metadata": {
    "id": "1TA2yN-INfoG"
   },
   "source": [
    "![image.png](data:image/png;base64,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)"
   ]
  },
  {
   "cell_type": "code",
   "execution_count": null,
   "metadata": {
    "colab": {
     "base_uri": "https://localhost:8080/"
    },
    "id": "wU60_EG9Ocd9",
    "outputId": "a683fcad-a088-4ae9-cc6f-f0c62831219a"
   },
   "outputs": [
    {
     "data": {
      "text/plain": [
       "Dataset({\n",
       "    features: ['sentence', 'pos_tags'],\n",
       "    num_rows: 10\n",
       "})"
      ]
     },
     "execution_count": 8,
     "metadata": {},
     "output_type": "execute_result"
    }
   ],
   "source": [
    "sentences = [\n",
    "    [\"She\", \"loves\", \"playing\", \"soccer\", \".\"],\n",
    "    [\"The\", \"quick\", \"brown\", \"fox\", \"jumps\", \"over\", \"the\", \"lazy\", \"dog\", \".\"],\n",
    "    [\"I\", \"will\", \"visit\", \"the\", \"museum\", \"tomorrow\", \".\"],\n",
    "    [\"They\", \"have\", \"been\", \"studying\", \"all\", \"day\", \".\"],\n",
    "    [\"The\", \"cat\", \"sat\", \"on\", \"the\", \"mat\", \".\"],\n",
    "    [\"He\", \"is\", \"reading\", \"a\", \"book\", \"in\", \"the\", \"library\", \".\"],\n",
    "    [\"She\", \"quickly\", \"ran\", \"towards\", \"the\", \"exit\", \".\"],\n",
    "    [\"We\", \"are\", \"going\", \"to\", \"the\", \"park\", \"next\", \"week\", \".\"],\n",
    "    [\"John\", \"and\", \"Mary\", \"are\", \"friends\", \".\"],\n",
    "    [\"It\", \"is\", \"raining\", \"heavily\", \"outside\", \".\"]\n",
    "]\n",
    "\n",
    "pos_tags = [\n",
    "    [\"PRON\", \"VERB\", \"VERB\", \"NOUN\", \"PUNCT\"],\n",
    "    [\"DET\", \"ADJ\", \"ADJ\", \"NOUN\", \"VERB\", \"ADP\", \"DET\", \"ADJ\", \"NOUN\", \"PUNCT\"],\n",
    "    [\"PRON\", \"AUX\", \"VERB\", \"DET\", \"NOUN\", \"ADV\", \"PUNCT\"],\n",
    "    [\"PRON\", \"AUX\", \"AUX\", \"VERB\", \"DET\", \"NOUN\", \"PUNCT\"],\n",
    "    [\"DET\", \"NOUN\", \"VERB\", \"ADP\", \"DET\", \"NOUN\", \"PUNCT\"],\n",
    "    [\"PRON\", \"AUX\", \"VERB\", \"DET\", \"NOUN\", \"ADP\", \"DET\", \"NOUN\", \"PUNCT\"],\n",
    "    [\"PRON\", \"ADV\", \"VERB\", \"ADP\", \"DET\", \"NOUN\", \"PUNCT\"],\n",
    "    [\"PRON\", \"AUX\", \"VERB\", \"PART\", \"DET\", \"NOUN\", \"ADV\", \"NOUN\", \"PUNCT\"],\n",
    "    [\"PROPN\", \"CCONJ\", \"PROPN\", \"AUX\", \"NOUN\", \"PUNCT\"],\n",
    "    [\"PRON\", \"AUX\", \"VERB\", \"ADV\", \"ADV\", \"PUNCT\"]\n",
    "]\n",
    "\n",
    "data = [{\"sentence\": sentence, \"pos_tags\": pos_tag} for sentence, pos_tag in zip(sentences, pos_tags)]\n",
    "\n",
    "df = pd.DataFrame(data)\n",
    "\n",
    "prompt_dataset = Dataset.from_pandas(df)\n",
    "\n",
    "prompt_dataset"
   ]
  },
  {
   "cell_type": "code",
   "execution_count": null,
   "metadata": {
    "colab": {
     "base_uri": "https://localhost:8080/",
     "height": 49,
     "referenced_widgets": [
      "45433c611b394ddb8b1655413c880f37",
      "a67a6d3be28e4e748882e2a91b209ad7",
      "61648b2a55924ee6896db63791aa3dcf",
      "8e5e4e0d47f3461aa67c5dae9ff6563d",
      "8db243b312a6473291cf12e635bd94c3",
      "5a36c221717b42c79c504d7fa85bdc9e",
      "8a3fb651754446de835863b498e19bdb",
      "db93f9c425f7413f92c474e21b8c23ef",
      "9e536572c1aa48588e684e5fbf5fa91e",
      "2fda442d94054ab790a2cd23a2959f10",
      "89abe28cb6d64f77b186e551249b0362"
     ]
    },
    "id": "cGjrFBgldtqs",
    "outputId": "4c58f49b-f0a8-4112-9e15-122da9e7f49f"
   },
   "outputs": [
    {
     "data": {
      "application/vnd.jupyter.widget-view+json": {
       "model_id": "45433c611b394ddb8b1655413c880f37",
       "version_major": 2,
       "version_minor": 0
      },
      "text/plain": [
       "Map:   0%|          | 0/10 [00:00<?, ? examples/s]"
      ]
     },
     "metadata": {},
     "output_type": "display_data"
    }
   ],
   "source": [
    "prompt_dataset = prompt_dataset.map(lambda example: {'pos_tags': [label2id[tag] for tag in example['pos_tags']]})"
   ]
  },
  {
   "cell_type": "code",
   "execution_count": null,
   "metadata": {
    "colab": {
     "base_uri": "https://localhost:8080/",
     "height": 132,
     "referenced_widgets": [
      "74c8e3a3d043441283eae63881bae7b9",
      "ac417cffd04f4740bde4657e80c70f77",
      "45015033b8024c27920e39dbab4b7b01",
      "80a631754f354a8ca32fa516b86b9014",
      "30b87b87db224e5a93835b968edbc3b2",
      "9e981f6f53fd430ebfeaba03f9b4f67a",
      "313ec46345ad4f0dbfbb5a1555d2a1bb",
      "ae2de526821b4b18a48d1081533bc241",
      "484f64b7c32048e5aed406b46857510d",
      "28e9eaae6f854bccad7e7b22317fb9c7",
      "0b52554d95ab4731936e8e3290e7e39f"
     ]
    },
    "id": "Bxz7DXrxPQ5-",
    "outputId": "70867d5e-f080-4c86-995c-4c9b84b75158"
   },
   "outputs": [
    {
     "data": {
      "application/vnd.jupyter.widget-view+json": {
       "model_id": "74c8e3a3d043441283eae63881bae7b9",
       "version_major": 2,
       "version_minor": 0
      },
      "text/plain": [
       "Map:   0%|          | 0/10 [00:00<?, ? examples/s]"
      ]
     },
     "metadata": {},
     "output_type": "display_data"
    },
    {
     "data": {
      "text/html": [
       "\n",
       "    <div>\n",
       "      \n",
       "      <progress value='2' max='2' style='width:300px; height:20px; vertical-align: middle;'></progress>\n",
       "      [2/2 00:00]\n",
       "    </div>\n",
       "    "
      ],
      "text/plain": [
       "<IPython.core.display.HTML object>"
      ]
     },
     "metadata": {},
     "output_type": "display_data"
    },
    {
     "data": {
      "application/vnd.google.colaboratory.intrinsic+json": {
       "summary": "{\n  \"name\": \"pd\",\n  \"rows\": 1,\n  \"fields\": [\n    {\n      \"column\": \"eval_loss\",\n      \"properties\": {\n        \"dtype\": \"number\",\n        \"std\": null,\n        \"min\": 0.2564905285835266,\n        \"max\": 0.2564905285835266,\n        \"num_unique_values\": 1,\n        \"samples\": [\n          0.2564905285835266\n        ],\n        \"semantic_type\": \"\",\n        \"description\": \"\"\n      }\n    },\n    {\n      \"column\": \"eval_model_preparation_time\",\n      \"properties\": {\n        \"dtype\": \"number\",\n        \"std\": null,\n        \"min\": 0.0048,\n        \"max\": 0.0048,\n        \"num_unique_values\": 1,\n        \"samples\": [\n          0.0048\n        ],\n        \"semantic_type\": \"\",\n        \"description\": \"\"\n      }\n    },\n    {\n      \"column\": \"eval_precision\",\n      \"properties\": {\n        \"dtype\": \"number\",\n        \"std\": null,\n        \"min\": 0.9452054794520548,\n        \"max\": 0.9452054794520548,\n        \"num_unique_values\": 1,\n        \"samples\": [\n          0.9452054794520548\n        ],\n        \"semantic_type\": \"\",\n        \"description\": \"\"\n      }\n    },\n    {\n      \"column\": \"eval_recall\",\n      \"properties\": {\n        \"dtype\": \"number\",\n        \"std\": null,\n        \"min\": 0.9452054794520548,\n        \"max\": 0.9452054794520548,\n        \"num_unique_values\": 1,\n        \"samples\": [\n          0.9452054794520548\n        ],\n        \"semantic_type\": \"\",\n        \"description\": \"\"\n      }\n    },\n    {\n      \"column\": \"eval_f1\",\n      \"properties\": {\n        \"dtype\": \"number\",\n        \"std\": null,\n        \"min\": 0.9452054794520548,\n        \"max\": 0.9452054794520548,\n        \"num_unique_values\": 1,\n        \"samples\": [\n          0.9452054794520548\n        ],\n        \"semantic_type\": \"\",\n        \"description\": \"\"\n      }\n    },\n    {\n      \"column\": \"eval_accuracy\",\n      \"properties\": {\n        \"dtype\": \"number\",\n        \"std\": null,\n        \"min\": 0.9452054794520548,\n        \"max\": 0.9452054794520548,\n        \"num_unique_values\": 1,\n        \"samples\": [\n          0.9452054794520548\n        ],\n        \"semantic_type\": \"\",\n        \"description\": \"\"\n      }\n    },\n    {\n      \"column\": \"eval_runtime\",\n      \"properties\": {\n        \"dtype\": \"number\",\n        \"std\": null,\n        \"min\": 0.0543,\n        \"max\": 0.0543,\n        \"num_unique_values\": 1,\n        \"samples\": [\n          0.0543\n        ],\n        \"semantic_type\": \"\",\n        \"description\": \"\"\n      }\n    },\n    {\n      \"column\": \"eval_samples_per_second\",\n      \"properties\": {\n        \"dtype\": \"number\",\n        \"std\": null,\n        \"min\": 184.159,\n        \"max\": 184.159,\n        \"num_unique_values\": 1,\n        \"samples\": [\n          184.159\n        ],\n        \"semantic_type\": \"\",\n        \"description\": \"\"\n      }\n    },\n    {\n      \"column\": \"eval_steps_per_second\",\n      \"properties\": {\n        \"dtype\": \"number\",\n        \"std\": null,\n        \"min\": 36.832,\n        \"max\": 36.832,\n        \"num_unique_values\": 1,\n        \"samples\": [\n          36.832\n        ],\n        \"semantic_type\": \"\",\n        \"description\": \"\"\n      }\n    }\n  ]\n}",
       "type": "dataframe"
      },
      "text/html": [
       "\n",
       "  <div id=\"df-928e6f4f-8453-482d-b8ea-4bb68ef4f5cb\" class=\"colab-df-container\">\n",
       "    <div>\n",
       "<style scoped>\n",
       "    .dataframe tbody tr th:only-of-type {\n",
       "        vertical-align: middle;\n",
       "    }\n",
       "\n",
       "    .dataframe tbody tr th {\n",
       "        vertical-align: top;\n",
       "    }\n",
       "\n",
       "    .dataframe thead th {\n",
       "        text-align: right;\n",
       "    }\n",
       "</style>\n",
       "<table border=\"1\" class=\"dataframe\">\n",
       "  <thead>\n",
       "    <tr style=\"text-align: right;\">\n",
       "      <th></th>\n",
       "      <th>eval_loss</th>\n",
       "      <th>eval_model_preparation_time</th>\n",
       "      <th>eval_precision</th>\n",
       "      <th>eval_recall</th>\n",
       "      <th>eval_f1</th>\n",
       "      <th>eval_accuracy</th>\n",
       "      <th>eval_runtime</th>\n",
       "      <th>eval_samples_per_second</th>\n",
       "      <th>eval_steps_per_second</th>\n",
       "    </tr>\n",
       "  </thead>\n",
       "  <tbody>\n",
       "    <tr>\n",
       "      <th>0</th>\n",
       "      <td>0.256491</td>\n",
       "      <td>0.0048</td>\n",
       "      <td>0.945205</td>\n",
       "      <td>0.945205</td>\n",
       "      <td>0.945205</td>\n",
       "      <td>0.945205</td>\n",
       "      <td>0.0543</td>\n",
       "      <td>184.159</td>\n",
       "      <td>36.832</td>\n",
       "    </tr>\n",
       "  </tbody>\n",
       "</table>\n",
       "</div>\n",
       "    <div class=\"colab-df-buttons\">\n",
       "\n",
       "  <div class=\"colab-df-container\">\n",
       "    <button class=\"colab-df-convert\" onclick=\"convertToInteractive('df-928e6f4f-8453-482d-b8ea-4bb68ef4f5cb')\"\n",
       "            title=\"Convert this dataframe to an interactive table.\"\n",
       "            style=\"display:none;\">\n",
       "\n",
       "  <svg xmlns=\"http://www.w3.org/2000/svg\" height=\"24px\" viewBox=\"0 -960 960 960\">\n",
       "    <path d=\"M120-120v-720h720v720H120Zm60-500h600v-160H180v160Zm220 220h160v-160H400v160Zm0 220h160v-160H400v160ZM180-400h160v-160H180v160Zm440 0h160v-160H620v160ZM180-180h160v-160H180v160Zm440 0h160v-160H620v160Z\"/>\n",
       "  </svg>\n",
       "    </button>\n",
       "\n",
       "  <style>\n",
       "    .colab-df-container {\n",
       "      display:flex;\n",
       "      gap: 12px;\n",
       "    }\n",
       "\n",
       "    .colab-df-convert {\n",
       "      background-color: #E8F0FE;\n",
       "      border: none;\n",
       "      border-radius: 50%;\n",
       "      cursor: pointer;\n",
       "      display: none;\n",
       "      fill: #1967D2;\n",
       "      height: 32px;\n",
       "      padding: 0 0 0 0;\n",
       "      width: 32px;\n",
       "    }\n",
       "\n",
       "    .colab-df-convert:hover {\n",
       "      background-color: #E2EBFA;\n",
       "      box-shadow: 0px 1px 2px rgba(60, 64, 67, 0.3), 0px 1px 3px 1px rgba(60, 64, 67, 0.15);\n",
       "      fill: #174EA6;\n",
       "    }\n",
       "\n",
       "    .colab-df-buttons div {\n",
       "      margin-bottom: 4px;\n",
       "    }\n",
       "\n",
       "    [theme=dark] .colab-df-convert {\n",
       "      background-color: #3B4455;\n",
       "      fill: #D2E3FC;\n",
       "    }\n",
       "\n",
       "    [theme=dark] .colab-df-convert:hover {\n",
       "      background-color: #434B5C;\n",
       "      box-shadow: 0px 1px 3px 1px rgba(0, 0, 0, 0.15);\n",
       "      filter: drop-shadow(0px 1px 2px rgba(0, 0, 0, 0.3));\n",
       "      fill: #FFFFFF;\n",
       "    }\n",
       "  </style>\n",
       "\n",
       "    <script>\n",
       "      const buttonEl =\n",
       "        document.querySelector('#df-928e6f4f-8453-482d-b8ea-4bb68ef4f5cb button.colab-df-convert');\n",
       "      buttonEl.style.display =\n",
       "        google.colab.kernel.accessAllowed ? 'block' : 'none';\n",
       "\n",
       "      async function convertToInteractive(key) {\n",
       "        const element = document.querySelector('#df-928e6f4f-8453-482d-b8ea-4bb68ef4f5cb');\n",
       "        const dataTable =\n",
       "          await google.colab.kernel.invokeFunction('convertToInteractive',\n",
       "                                                    [key], {});\n",
       "        if (!dataTable) return;\n",
       "\n",
       "        const docLinkHtml = 'Like what you see? Visit the ' +\n",
       "          '<a target=\"_blank\" href=https://colab.research.google.com/notebooks/data_table.ipynb>data table notebook</a>'\n",
       "          + ' to learn more about interactive tables.';\n",
       "        element.innerHTML = '';\n",
       "        dataTable['output_type'] = 'display_data';\n",
       "        await google.colab.output.renderOutput(dataTable, element);\n",
       "        const docLink = document.createElement('div');\n",
       "        docLink.innerHTML = docLinkHtml;\n",
       "        element.appendChild(docLink);\n",
       "      }\n",
       "    </script>\n",
       "  </div>\n",
       "\n",
       "\n",
       "    </div>\n",
       "  </div>\n"
      ],
      "text/plain": [
       "   eval_loss  eval_model_preparation_time  eval_precision  eval_recall  \\\n",
       "0   0.256491                       0.0048        0.945205     0.945205   \n",
       "\n",
       "    eval_f1  eval_accuracy  eval_runtime  eval_samples_per_second  \\\n",
       "0  0.945205       0.945205        0.0543                  184.159   \n",
       "\n",
       "   eval_steps_per_second  \n",
       "0                 36.832  "
      ]
     },
     "execution_count": 59,
     "metadata": {},
     "output_type": "execute_result"
    }
   ],
   "source": [
    "# Tokenize the dataset\n",
    "def tokenize_and_align_labels(examples):\n",
    "    tokenized_inputs = tokenizer(examples[\"sentence\"], padding=True,truncation=True, is_split_into_words=True)\n",
    "\n",
    "    labels = []\n",
    "    for i, label in enumerate(examples[\"pos_tags\"]):\n",
    "        word_ids = tokenized_inputs.word_ids(batch_index=i)  # Map tokens to their respective word.\n",
    "        previous_word_idx = None\n",
    "        label_ids = []\n",
    "        for word_idx in word_ids:  # Set the special tokens to -100. [CLS] etc\n",
    "            if word_idx is None:\n",
    "                label_ids.append(-100)\n",
    "            elif word_idx != previous_word_idx:  # Only label the first token of a given word.\n",
    "                label_ids.append(label[word_idx])\n",
    "            else:\n",
    "                label_ids.append(-100)\n",
    "            previous_word_idx = word_idx\n",
    "        labels.append(label_ids)\n",
    "\n",
    "    tokenized_inputs[\"labels\"] = labels\n",
    "    return tokenized_inputs\n",
    "\n",
    "tokenized_prompt_dataset = prompt_dataset.map(tokenize_and_align_labels, batched=True,)\n",
    "\n",
    "training_args = TrainingArguments(\n",
    "    output_dir=\"./results\",  # Output directory\n",
    "    eval_strategy=\"epoch\",  # Evaluation strategy (e.g., after every epoch)\n",
    "    report_to='none',\n",
    ")\n",
    "\n",
    "trainer = Trainer(\n",
    "    model=model,\n",
    "    args=training_args,\n",
    "    train_dataset=tokenized_prompt_dataset,\n",
    "    eval_dataset=tokenized_prompt_dataset,  # Here using the same dataset for simplicity\n",
    "    compute_metrics = compute_metrics\n",
    ")\n",
    "\n",
    "# Evaluate the model\n",
    "results = trainer.evaluate()\n",
    "\n",
    "pd.DataFrame([results])"
   ]
  },
  {
   "cell_type": "code",
   "execution_count": null,
   "metadata": {
    "colab": {
     "base_uri": "https://localhost:8080/",
     "height": 902
    },
    "id": "EwcPvVhVPdQ1",
    "outputId": "230a3f8c-0f20-4550-9d91-84f12851d085"
   },
   "outputs": [
    {
     "data": {
      "text/html": [],
      "text/plain": [
       "<IPython.core.display.HTML object>"
      ]
     },
     "metadata": {},
     "output_type": "display_data"
    },
    {
     "name": "stdout",
     "output_type": "stream",
     "text": [
      "Classification Report\n",
      "              precision    recall  f1-score   support\n",
      "\n",
      "           0       0.75      1.00      0.86         3\n",
      "           1       0.80      1.00      0.89         4\n",
      "           2       1.00      0.60      0.75         5\n",
      "           3       1.00      1.00      1.00         7\n",
      "           4       1.00      1.00      1.00         1\n",
      "           5       1.00      1.00      1.00        10\n",
      "           7       0.92      0.92      0.92        13\n",
      "           9       1.00      0.00      0.00         1\n",
      "          10       1.00      1.00      1.00         7\n",
      "          11       0.67      1.00      0.80         2\n",
      "          12       1.00      1.00      1.00        10\n",
      "          15       1.00      1.00      1.00        10\n",
      "\n",
      "    accuracy                           0.95        73\n",
      "   macro avg       0.93      0.88      0.85        73\n",
      "weighted avg       0.96      0.95      0.94        73\n",
      "\n",
      "AUC scores per tag (class):\n",
      "ADJ: 0.9952\n",
      "ADP: 0.9928\n",
      "ADV: 0.9882\n",
      "AUX: 1.0000\n",
      "CCONJ: 1.0000\n",
      "DET: 1.0000\n",
      "INTJ: nan\n",
      "NOUN: 0.9974\n",
      "NUM: nan\n",
      "PART: 1.0000\n",
      "PRON: 1.0000\n",
      "PROPN: 1.0000\n",
      "PUNCT: 1.0000\n",
      "SCONJ: nan\n",
      "SYM: nan\n",
      "VERB: 1.0000\n",
      "X: nan\n",
      "_: nan\n"
     ]
    }
   ],
   "source": [
    "predictions = trainer.predict(tokenized_prompt_dataset)\n",
    "\n",
    "# Unpack the results (logits and labels)\n",
    "logits = predictions.predictions\n",
    "labels = predictions.label_ids\n",
    "\n",
    "# Convert logits to probabilities (using softmax)\n",
    "probs = torch.nn.functional.softmax(torch.tensor(logits), dim=-1).numpy()\n",
    "\n",
    "auc_scores = {}\n",
    "\n",
    "# Flatten the logits and labels, but only for valid tokens (not special tokens)\n",
    "true_labels_flat = []\n",
    "prob_flat = []\n",
    "\n",
    "for i, label_sequence in enumerate(labels):\n",
    "    valid_token_indices = [j for j, l in enumerate(label_sequence) if l != -100]  # Get indices where label is not -100\n",
    "    true_labels_flat.extend([label_sequence[j] for j in valid_token_indices])  # Add valid true labels\n",
    "    prob_flat.extend([probs[i, j] for j in valid_token_indices])  # Add valid probabilities\n",
    "\n",
    "true_labels_flat = np.array(true_labels_flat)\n",
    "prob_flat = np.array(prob_flat)\n",
    "\n",
    "# Calculate AUC score for each tag (class)\n",
    "for tag_id in range(len(id2label)):\n",
    "    # Convert true labels for the current tag to binary format\n",
    "    true_labels_tag = (true_labels_flat == tag_id).astype(int)\n",
    "\n",
    "    # Calculate AUC score\n",
    "    auc = roc_auc_score(true_labels_tag, prob_flat[:, tag_id])\n",
    "    auc_scores[id2label[tag_id]] = auc\n",
    "\n",
    "\n",
    "\n",
    "# Convert logits to predicted labels (argmax over logits)\n",
    "pred_labels = torch.argmax(torch.tensor(logits), axis=-1).cpu().numpy()\n",
    "\n",
    "# Flatten predictions and labels for classification report\n",
    "pred_labels = pred_labels.flatten()\n",
    "labels = labels.flatten()\n",
    "\n",
    "# Mask out padding tokens (usually labeled as -100)\n",
    "mask = labels != -100\n",
    "\n",
    "# Filter out padding tokens from predictions and labels\n",
    "filtered_pred_labels = pred_labels[mask]\n",
    "filtered_labels = labels[mask]\n",
    "\n",
    "report = classification_report(filtered_labels, filtered_pred_labels, zero_division=1)  # removed target_names as it causes errors due to the lack of representation of all POS Tags (classes)\n",
    "\n",
    "print(\"Classification Report\")\n",
    "print(report)\n",
    "\n",
    "\n",
    "print(\"AUC scores per tag (class):\")\n",
    "for tag, auc in auc_scores.items():\n",
    "    print(f\"{tag}: {auc:.4f}\")"
   ]
  },
  {
   "cell_type": "code",
   "execution_count": null,
   "metadata": {
    "colab": {
     "base_uri": "https://localhost:8080/",
     "height": 226,
     "referenced_widgets": [
      "b43d277780ae493e879aeb533ca8eae9",
      "2555352fbd194881a7ca36748a8f3f37",
      "20b26a82713641e3824d26d96e08929e",
      "8fac57482e5f44dd94e9ac3b27923bc9",
      "ee3237f1e6864cb1a05acefe3108d312",
      "b9e5c38993e94baebc5590248c1e27f6",
      "fb05a5fac89444538b4b7aea9dcaaae6",
      "a9426d906e964de7a7d1c704bcbf89c3",
      "cdcfc29d0c2345c0bd4e2c96317d1e3a",
      "7a5a5f81e9af4f91becfdbfdf5d05367",
      "4ceb10ab703448a0854fcdc37168421a",
      "cac2dc1c049d453fac88c728a048d87a",
      "fc699c73727443beb22cf9580c872784",
      "1e8e6f35771a4624aa97600a81c7b7cc",
      "0143b26606cd47989de456d91c523913",
      "0b2cccab040247b7ab4039eea5c8d4af",
      "2cf700a6ce6b4bb0aad66d9e137105f0",
      "75d8d9865b9e4d25903afae3bb2757b5",
      "17cd5f739cbe48fd9988fc077f0ceb65",
      "75d1fab492654b80af392c9708c0f5ae",
      "bf9f5faa2dcb44639836a9803bbe1d89",
      "6411ff43c287469ea198ecdb0655fa87",
      "6342ca83aefd40ad8e361b803108d00e",
      "730a16ae3be4450b999aada41b8d402b",
      "d25d7417ee9445b1951d267828411f18",
      "2eeb23620ba34704a8f92144a94f195a",
      "8e7ba3f300fa4c11ac4a613f79b616fe",
      "29fb9abf76404505abb50d0096cf6763",
      "04845d71374741578a9fffc9c7d4ee39",
      "3573ff85799d42bbba5a51fb9f00bb3c",
      "35157758985d4edaafef53f84f2599f0",
      "88da957d35ca436fbdb8b81211fcf657",
      "5f8de801b49f42f8865c9703cc2b6547",
      "9e97428e61054cd0b8f3e05e8d556326",
      "da23d7b6fd564410ac50a44d5f3ff09c",
      "a79b51f013e644debb6e51291015b184",
      "a4c270e4066040e4ba80ca270f53d57b",
      "10396b5208bb4d0ea4d5c802309c7024",
      "6c798cd30d504f8083777ad8969d5b58",
      "8de977a932c64a1ca92d8d1377f068f0",
      "16cd64ff357b4d2d87be4d622e323a21",
      "f2e032475aa14fef85b9053cda2009a6",
      "35d38c6b1eec481189feb62cd7df781f",
      "7cc7f465239d487ea0c284557e41bdea",
      "2956fc9cf24a48ab9df2480b8c4c13fc",
      "282e3b023a944b2c9ddbdd3082a029ad",
      "b1fdc45de2e4424193b1c589ff7d551f",
      "55abe732a17b4157abab3dfb8f7341dd",
      "68a78092987b421ea965c01cbfe4f93d",
      "5ccd928ef907403a9f04779e102346ac",
      "a731e26a2d8c4a78a31782d472667898",
      "fbdbb05d1ad94f6694654b11ed947684",
      "196e3bd5727041b9966a09207541fc24",
      "5b0de95d0ee24637b74524c6701a39af",
      "00f361bfad844187823cd8fb3aee6c84",
      "f5e6241b010e4fcd9422ed6a71b8e399",
      "4cc67217498849dda149f110c33ef094",
      "7750b3719e964c2fb01e60caf61b5788",
      "c4b45bfa4e2c40fdb1427e9bf89b6091",
      "75e65231f4d84d36b99b25abaf33e80d",
      "9418ba7b3cf540009a4574cdb84cc946",
      "013303f347ab41d986465bcca21078db",
      "f9db55405b7847df87966c63c8adf2bd",
      "2f7007b7e8ec4579a319bbf8ab58888d",
      "6ef1627cf213470daf5eed4cb3d9f85a",
      "a581672971ad4193896136f71c45ec33"
     ]
    },
    "id": "TVLJ0C7ojAtf",
    "outputId": "f6686a07-9b36-4320-8a6f-5498e03d7471"
   },
   "outputs": [
    {
     "data": {
      "application/vnd.jupyter.widget-view+json": {
       "model_id": "b43d277780ae493e879aeb533ca8eae9",
       "version_major": 2,
       "version_minor": 0
      },
      "text/plain": [
       "config.json:   0%|          | 0.00/1.81k [00:00<?, ?B/s]"
      ]
     },
     "metadata": {},
     "output_type": "display_data"
    },
    {
     "data": {
      "application/vnd.jupyter.widget-view+json": {
       "model_id": "cac2dc1c049d453fac88c728a048d87a",
       "version_major": 2,
       "version_minor": 0
      },
      "text/plain": [
       "model.safetensors:   0%|          | 0.00/431M [00:00<?, ?B/s]"
      ]
     },
     "metadata": {},
     "output_type": "display_data"
    },
    {
     "data": {
      "application/vnd.jupyter.widget-view+json": {
       "model_id": "6342ca83aefd40ad8e361b803108d00e",
       "version_major": 2,
       "version_minor": 0
      },
      "text/plain": [
       "tokenizer_config.json:   0%|          | 0.00/388 [00:00<?, ?B/s]"
      ]
     },
     "metadata": {},
     "output_type": "display_data"
    },
    {
     "data": {
      "application/vnd.jupyter.widget-view+json": {
       "model_id": "9e97428e61054cd0b8f3e05e8d556326",
       "version_major": 2,
       "version_minor": 0
      },
      "text/plain": [
       "vocab.txt:   0%|          | 0.00/213k [00:00<?, ?B/s]"
      ]
     },
     "metadata": {},
     "output_type": "display_data"
    },
    {
     "data": {
      "application/vnd.jupyter.widget-view+json": {
       "model_id": "2956fc9cf24a48ab9df2480b8c4c13fc",
       "version_major": 2,
       "version_minor": 0
      },
      "text/plain": [
       "tokenizer.json:   0%|          | 0.00/669k [00:00<?, ?B/s]"
      ]
     },
     "metadata": {},
     "output_type": "display_data"
    },
    {
     "data": {
      "application/vnd.jupyter.widget-view+json": {
       "model_id": "f5e6241b010e4fcd9422ed6a71b8e399",
       "version_major": 2,
       "version_minor": 0
      },
      "text/plain": [
       "special_tokens_map.json:   0%|          | 0.00/125 [00:00<?, ?B/s]"
      ]
     },
     "metadata": {},
     "output_type": "display_data"
    }
   ],
   "source": [
    "from transformers import pipeline\n",
    "\n",
    "pretrained_name = \"pucpr-br/postagger-bio-english\"\n",
    "\n",
    "nlp = pipeline(\n",
    "    \"token-classification\",\n",
    "    model=pretrained_name,\n",
    "    tokenizer=pretrained_name)"
   ]
  },
  {
   "cell_type": "code",
   "execution_count": null,
   "metadata": {
    "colab": {
     "base_uri": "https://localhost:8080/"
    },
    "id": "l26EqTbu3qdC",
    "outputId": "d0e45f51-8ddb-447a-a7b7-50c96e8816bc"
   },
   "outputs": [
    {
     "name": "stdout",
     "output_type": "stream",
     "text": [
      "Sentence:  She loves playing soccer .\n",
      "['PRP', 'VBZ', 'VBG', 'NN', 'PUNCT']\n",
      "['PRON', 'VERB', 'VERB', 'NOUN', 'PUNCT'] \n",
      "\n",
      "Sentence:  The quick brown fox jumps over the lazy dog .\n",
      "['DT', 'JJ', 'JJ', 'NN', 'VBZ', 'IN', 'DT', 'JJ', 'NN', 'PUNCT']\n",
      "['DET', 'ADJ', 'ADJ', 'NOUN', 'VERB', 'ADP', 'DET', 'ADJ', 'NOUN', 'PUNCT'] \n",
      "\n",
      "Sentence:  I will visit the museum tomorrow .\n",
      "['NN', 'MD', 'VB', 'DT', 'NN', 'RB', 'PUNCT']\n",
      "['PRON', 'AUX', 'VERB', 'DET', 'NOUN', 'ADV', 'PUNCT'] \n",
      "\n",
      "Sentence:  They have been studying all day .\n",
      "['PRP', 'VBP', 'VBN', 'VBG', 'DT', 'NN', 'PUNCT']\n",
      "['PRON', 'AUX', 'AUX', 'VERB', 'DET', 'NOUN', 'PUNCT'] \n",
      "\n",
      "Sentence:  The cat sat on the mat .\n",
      "['DT', 'NN', 'VBD', 'IN', 'DT', 'NN', 'PUNCT']\n",
      "['DET', 'NOUN', 'VERB', 'ADP', 'DET', 'NOUN', 'PUNCT'] \n",
      "\n",
      "Sentence:  He is reading a book in the library .\n",
      "['PRP', 'VBZ', 'VBG', 'DT', 'NN', 'IN', 'DT', 'NN', 'PUNCT']\n",
      "['PRON', 'AUX', 'VERB', 'DET', 'NOUN', 'ADP', 'DET', 'NOUN', 'PUNCT'] \n",
      "\n",
      "Sentence:  She quickly ran towards the exit .\n",
      "['PRP', 'RB', 'VBD', 'IN', 'DT', 'NN', 'PUNCT']\n",
      "['PRON', 'ADV', 'VERB', 'ADP', 'DET', 'NOUN', 'PUNCT'] \n",
      "\n",
      "Sentence:  We are going to the park next week .\n",
      "['PRP', 'VBP', 'VBG', 'TO', 'DT', 'NN', 'JJ', 'NN', 'PUNCT']\n",
      "['PRON', 'AUX', 'VERB', 'PART', 'DET', 'NOUN', 'ADV', 'NOUN', 'PUNCT'] \n",
      "\n",
      "Sentence:  John and Mary are friends .\n",
      "['NN', 'NN', 'NN', 'CC', 'NN', 'NN', 'VBP', 'NNS', 'PUNCT']\n",
      "['PROPN', 'CCONJ', 'PROPN', 'AUX', 'NOUN', 'PUNCT'] \n",
      "\n",
      "Sentence:  It is raining heavily outside .\n",
      "['PRP', 'VBZ', 'VBG', 'VBG', 'RB', 'RB', 'PUNCT']\n",
      "['PRON', 'AUX', 'VERB', 'ADV', 'ADV', 'PUNCT'] \n",
      "\n"
     ]
    }
   ],
   "source": [
    "for example in data:\n",
    "\n",
    "  sentence = ' '.join(example['sentence'])\n",
    "  print('Sentence: ', sentence)\n",
    "  print([result['entity'] for result in nlp(sentence)])\n",
    "  print(example['pos_tags'],'\\n')\n"
   ]
  },
  {
   "cell_type": "code",
   "execution_count": null,
   "metadata": {
    "id": "yCiYYqk04BRw"
   },
   "outputs": [],
   "source": []
  }
 ],
 "metadata": {
  "accelerator": "GPU",
  "colab": {
   "collapsed_sections": [
    "NsrfvyxuRE5b",
    "7FC-i7VoaJGH",
    "bONYe662ceUO",
    "WDG_KM4Ac173"
   ],
   "gpuType": "A100",
   "provenance": []
  },
  "kernelspec": {
   "display_name": "Python 3",
   "name": "python3"
  },
  "language_info": {
   "name": "python"
  }
 },
 "nbformat": 4,
 "nbformat_minor": 0
}
