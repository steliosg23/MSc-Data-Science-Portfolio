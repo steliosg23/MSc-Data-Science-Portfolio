{
 "cells": [
  {
   "cell_type": "markdown",
   "metadata": {
    "id": "RXdrOwsjGYwK"
   },
   "source": [
    "## **Text Embeddings Extraction**"
   ]
  },
  {
   "cell_type": "markdown",
   "metadata": {
    "id": "4diN2FghGYsr"
   },
   "source": [
    "This notebook contains all the code to extract embeddings using the product descriptions"
   ]
  },
  {
   "cell_type": "markdown",
   "metadata": {
    "id": "DP7AnOG2ipC-"
   },
   "source": [
    "Adapt the libraries"
   ]
  },
  {
   "cell_type": "code",
   "execution_count": null,
   "metadata": {
    "colab": {
     "base_uri": "https://localhost:8080/"
    },
    "id": "CpPzbwHVinyS",
    "outputId": "0baf8681-a54b-4bf2-deff-5a3ddbe52695"
   },
   "outputs": [
    {
     "name": "stdout",
     "output_type": "stream",
     "text": [
      "Found existing installation: numpy 1.24.4\n",
      "Uninstalling numpy-1.24.4:\n",
      "  Successfully uninstalled numpy-1.24.4\n",
      "Found existing installation: transformers 4.38.2\n",
      "Uninstalling transformers-4.38.2:\n",
      "  Successfully uninstalled transformers-4.38.2\n",
      "Found existing installation: datasets 2.18.0\n",
      "Uninstalling datasets-2.18.0:\n",
      "  Successfully uninstalled datasets-2.18.0\n",
      "Found existing installation: peft 0.7.1\n",
      "Uninstalling peft-0.7.1:\n",
      "  Successfully uninstalled peft-0.7.1\n",
      "Found existing installation: jax 0.4.38\n",
      "Uninstalling jax-0.4.38:\n",
      "  Successfully uninstalled jax-0.4.38\n",
      "Found existing installation: jaxlib 0.4.38\n",
      "Uninstalling jaxlib-0.4.38:\n",
      "  Successfully uninstalled jaxlib-0.4.38\n",
      "Found existing installation: accelerate 0.27.2\n",
      "Uninstalling accelerate-0.27.2:\n",
      "  Successfully uninstalled accelerate-0.27.2\n",
      "\u001b[31mERROR: pip's dependency resolver does not currently take into account all the packages that are installed. This behaviour is the source of the following dependency conflicts.\n",
      "torchtune 0.6.1 requires datasets, which is not installed.\n",
      "sentence-transformers 4.1.0 requires transformers<5.0.0,>=4.41.0, which is not installed.\n",
      "tensorflow 2.18.0 requires numpy<2.1.0,>=1.26.0, but you have numpy 1.24.4 which is incompatible.\n",
      "flax 0.10.6 requires jax>=0.5.1, but you have jax 0.4.38 which is incompatible.\n",
      "treescope 0.1.9 requires numpy>=1.25.2, but you have numpy 1.24.4 which is incompatible.\n",
      "blosc2 3.3.3 requires numpy>=1.26, but you have numpy 1.24.4 which is incompatible.\n",
      "pymc 5.22.0 requires numpy>=1.25.0, but you have numpy 1.24.4 which is incompatible.\n",
      "thinc 8.3.6 requires numpy<3.0.0,>=2.0.0, but you have numpy 1.24.4 which is incompatible.\n",
      "orbax-checkpoint 0.11.13 requires jax>=0.5.0, but you have jax 0.4.38 which is incompatible.\u001b[0m\u001b[31m\n",
      "\u001b[0m\u001b[31mERROR: pip's dependency resolver does not currently take into account all the packages that are installed. This behaviour is the source of the following dependency conflicts.\n",
      "sentence-transformers 4.1.0 requires transformers<5.0.0,>=4.41.0, but you have transformers 4.38.2 which is incompatible.\u001b[0m\u001b[31m\n",
      "\u001b[0m"
     ]
    }
   ],
   "source": [
    "# Uninstalling libraries\n",
    "!pip uninstall -y numpy transformers datasets peft jax jaxlib accelerate\n",
    "\n",
    "# Installing libraries\n",
    "!pip install numpy==1.24.4 jax jaxlib --quiet\n",
    "!pip install transformers==4.38.2 datasets==2.18.0 peft==0.7.1 --quiet\n",
    "!pip install accelerate==0.27.2 --quiet\n",
    "\n",
    "# Restarting the colab session\n",
    "import os\n",
    "os.kill(os.getpid(), 9)"
   ]
  },
  {
   "cell_type": "markdown",
   "metadata": {
    "id": "A2iT1B3DI1qE"
   },
   "source": [
    "Import libraries"
   ]
  },
  {
   "cell_type": "code",
   "execution_count": null,
   "metadata": {
    "colab": {
     "base_uri": "https://localhost:8080/"
    },
    "executionInfo": {
     "elapsed": 41136,
     "status": "ok",
     "timestamp": 1748683335919,
     "user": {
      "displayName": "Stelios Giagkos",
      "userId": "06441279652746263838"
     },
     "user_tz": -180
    },
    "id": "-bZ6eWKkGWy6",
    "outputId": "08797a4d-a685-44cf-b24a-2163422f0c5e"
   },
   "outputs": [
    {
     "name": "stdout",
     "output_type": "stream",
     "text": [
      "Mounted at /content/drive\n"
     ]
    }
   ],
   "source": [
    "# Importing\n",
    "import numpy as np\n",
    "import torch\n",
    "import torch.nn as nn\n",
    "import pandas as pd\n",
    "from sklearn.model_selection import train_test_split\n",
    "from peft import LoraConfig, get_peft_model\n",
    "from sklearn.utils.class_weight import compute_class_weight\n",
    "from sklearn.metrics import accuracy_score, precision_recall_fscore_support, classification_report\n",
    "from functools import partial\n",
    "from datasets import Dataset\n",
    "from transformers import (\n",
    "    AutoTokenizer,\n",
    "    AutoModelForSequenceClassification,\n",
    "    Trainer,\n",
    "    TrainingArguments,\n",
    "    EarlyStoppingCallback\n",
    ")\n",
    "from google.colab import drive, files\n",
    "from matplotlib import pyplot as plt\n",
    "from torch.utils.data import DataLoader, TensorDataset\n",
    "\n",
    "# Getting access to google drive\n",
    "drive.mount('/content/drive')"
   ]
  },
  {
   "cell_type": "markdown",
   "metadata": {
    "id": "Ov1rocttJFtR"
   },
   "source": [
    "Load the training dataset"
   ]
  },
  {
   "cell_type": "code",
   "execution_count": null,
   "metadata": {
    "colab": {
     "base_uri": "https://localhost:8080/"
    },
    "executionInfo": {
     "elapsed": 19364,
     "status": "ok",
     "timestamp": 1748683355311,
     "user": {
      "displayName": "Stelios Giagkos",
      "userId": "06441279652746263838"
     },
     "user_tz": -180
    },
    "id": "Y1GtfFRYJKX8",
    "outputId": "b4b53274-8873-4997-a5b0-10db9d8741b5"
   },
   "outputs": [
    {
     "name": "stdout",
     "output_type": "stream",
     "text": [
      "Print some rows:\n",
      "    product_id                                        description  label\n",
      "0           0  FSA Orbit 1.5ZS Zero Stack Internal Bicycle He...      5\n",
      "1           1  Columbia Bugaboo II 12-Foot-by-9-Foot 4-Pole 5...     10\n",
      "2           2     Men's New Gym Workout Short Gary Majdell Sport      0\n",
      "3           3  Vktech Cute Creative Girls Tibet Silver Petal ...      7\n",
      "4           4  Real Avid ZipWire Pistol Cleaning Kit Real Avi...      2\n"
     ]
    }
   ],
   "source": [
    "# Getting the available device\n",
    "device = \"cuda\" if torch.cuda.is_available() else \"cpu\"\n",
    "\n",
    "# Setting the path of the drive\n",
    "drive_path = \"/content/drive/MyDrive/Data Science Challenge/deliverable/data/\"\n",
    "\n",
    "# Loading the training dataset\n",
    "training_dataset = pd.read_excel(drive_path + \"training_dataset.xlsx\")\n",
    "\n",
    "print(f\"Print some rows:\\n {training_dataset.head(5)}\")"
   ]
  },
  {
   "cell_type": "markdown",
   "metadata": {
    "id": "xM-tVAr4JYaP"
   },
   "source": [
    "Split into training and validation datasets"
   ]
  },
  {
   "cell_type": "code",
   "execution_count": null,
   "metadata": {
    "colab": {
     "base_uri": "https://localhost:8080/"
    },
    "executionInfo": {
     "elapsed": 91,
     "status": "ok",
     "timestamp": 1748683355399,
     "user": {
      "displayName": "Stelios Giagkos",
      "userId": "06441279652746263838"
     },
     "user_tz": -180
    },
    "id": "nlCwuVJ7Je22",
    "outputId": "37fe3246-4d9e-4905-e117-d71dfbd41488"
   },
   "outputs": [
    {
     "name": "stdout",
     "output_type": "stream",
     "text": [
      "The number of samples in the training dataset is: 145604\n",
      "The number of samples in the validation dataset is: 36402\n"
     ]
    }
   ],
   "source": [
    "# Converting to lists\n",
    "descriptions = training_dataset[\"description\"].tolist()\n",
    "labels = training_dataset[\"label\"].tolist()\n",
    "\n",
    "# Splitting the dataset into training and validation datasets\n",
    "training_descriptions, validation_descriptions, training_labels, validation_labels = (\n",
    "    train_test_split(\n",
    "        descriptions,\n",
    "        labels,\n",
    "        test_size=0.2,\n",
    "        random_state=42,\n",
    "        stratify=labels,\n",
    "    )\n",
    ")\n",
    "\n",
    "print(\n",
    "    f\"The number of samples in the training dataset is: {len(training_descriptions)}\"\n",
    ")\n",
    "print(\n",
    "    f\"The number of samples in the validation dataset is: {len(validation_descriptions)}\"\n",
    ")"
   ]
  },
  {
   "cell_type": "markdown",
   "metadata": {
    "id": "IAgpX2xPKTJG"
   },
   "source": [
    "Convert the datasets to Hugging Face dataset format"
   ]
  },
  {
   "cell_type": "code",
   "execution_count": null,
   "metadata": {
    "id": "83X7fzDnKURp"
   },
   "outputs": [],
   "source": [
    "# Converting\n",
    "\n",
    "training_dataset = Dataset.from_dict(\n",
    "    {\"description\": training_descriptions, \"label\": training_labels}\n",
    ")\n",
    "validation_dataset = Dataset.from_dict(\n",
    "    {\"description\": validation_descriptions, \"label\": validation_labels}\n",
    ")"
   ]
  },
  {
   "cell_type": "markdown",
   "metadata": {
    "id": "ed2WcgsWKm4P"
   },
   "source": [
    "Define a function to tokenize the product descriptions using a BERT tokenizer"
   ]
  },
  {
   "cell_type": "code",
   "execution_count": null,
   "metadata": {
    "id": "9WiewA3uKk1w"
   },
   "outputs": [],
   "source": [
    "def tokenize_product_descriptions(dataset, bert_tokenizer):\n",
    "    \"\"\"\n",
    "    This function is used to tokenize product descriptions using a BERT tokenizer.\n",
    "\n",
    "    :param dataset: A Hugging Face dataset containing product descriptions\n",
    "    :param bert_tokenizer: A BERT tokenizer\n",
    "    :return: A dataset containing the tokenized descriptions\n",
    "    \"\"\"\n",
    "\n",
    "    # Tokenizing\n",
    "    tokenized_dataset = bert_tokenizer(\n",
    "        dataset[\"description\"],\n",
    "        padding=\"max_length\",\n",
    "        truncation=True,\n",
    "        max_length=128,\n",
    "    )\n",
    "\n",
    "    return tokenized_dataset"
   ]
  },
  {
   "cell_type": "markdown",
   "metadata": {
    "id": "peKzSnLVLFhV"
   },
   "source": [
    "Define a function for collecting the various losses across epochs after fine-tuning a BERT model"
   ]
  },
  {
   "cell_type": "code",
   "execution_count": null,
   "metadata": {
    "id": "zcnsLXeGLEZz"
   },
   "outputs": [],
   "source": [
    "def collect_losses(trainer):\n",
    "    \"\"\"\n",
    "    This function is used to collect the training and validation losses\n",
    "    from a Trainer object.\n",
    "\n",
    "    :param trainer: A Trainer object\n",
    "    :return: The training and validation losses\n",
    "    \"\"\"\n",
    "\n",
    "    # Setting two lists keeping the training and validation losses\n",
    "    training_losses, validation_losses = [], []\n",
    "\n",
    "    # Iterating over the logs\n",
    "    for log in trainer.state.log_history:\n",
    "\n",
    "        # Checking for training loss\n",
    "        if \"loss\" in log:\n",
    "\n",
    "            # Updating\n",
    "            training_losses.append(log[\"loss\"])\n",
    "\n",
    "        # Checking for validation loss\n",
    "        if \"eval_loss\" in log:\n",
    "\n",
    "            # Updating\n",
    "            validation_losses.append(log[\"eval_loss\"])\n",
    "\n",
    "    return training_losses, validation_losses"
   ]
  },
  {
   "cell_type": "markdown",
   "metadata": {
    "id": "oO-lY5mCLVK9"
   },
   "source": [
    "Define a function to compute classification metrics during the training"
   ]
  },
  {
   "cell_type": "code",
   "execution_count": null,
   "metadata": {
    "id": "AV5Zy7eOLXEa"
   },
   "outputs": [],
   "source": [
    "def compute_classification_metrics(validation_predictions):\n",
    "    \"\"\"\n",
    "    This functions is used to compute some classification metrics during\n",
    "    the training of a BERT model.\n",
    "\n",
    "    :param validation_predictions: The predictions of the model on the validation set\n",
    "    :return: A dictionary containing the computed metrics\n",
    "    \"\"\"\n",
    "\n",
    "    # Unpacking (logits and true labels)\n",
    "    logits, labels = validation_predictions\n",
    "\n",
    "    # Getting the predicted labels\n",
    "    predictions = np.argmax(logits, axis=1)\n",
    "\n",
    "    # Computing metrics\n",
    "    accuracy = accuracy_score(labels, predictions)\n",
    "    precision, recall, f1_score, _ = precision_recall_fscore_support(\n",
    "        labels, predictions, average=\"weighted\"\n",
    "    )\n",
    "\n",
    "    return {\n",
    "        \"accuracy\": accuracy,\n",
    "        \"precision\": precision,\n",
    "        \"recall\": recall,\n",
    "        \"f1\": f1_score,\n",
    "    }"
   ]
  },
  {
   "cell_type": "markdown",
   "metadata": {
    "id": "njK9DbdzU5li"
   },
   "source": [
    "Define a class that overrides the forward function of the BERT model to take into consideration the class weights"
   ]
  },
  {
   "cell_type": "code",
   "execution_count": null,
   "metadata": {
    "id": "buLxSJ5f_IS2"
   },
   "outputs": [],
   "source": [
    "class WeightedTrainer(nn.Module):\n",
    "\n",
    "    def __init__(self, model, class_weights):\n",
    "        \"\"\"\n",
    "        The constructor of the weighted trainer.\n",
    "\n",
    "        :param model: The model to be trained\n",
    "        :param class_weights: The class weights to be used\n",
    "        \"\"\"\n",
    "\n",
    "        # Calling the constructor of the super class\n",
    "        super().__init__()\n",
    "\n",
    "        # Setting the object variables\n",
    "        self.model = model\n",
    "        self.class_weights = class_weights\n",
    "\n",
    "    def forward(self, input_ids, attention_mask, labels, **kwargs):\n",
    "        \"\"\"\n",
    "        The forward function of the weighted trainer.\n",
    "\n",
    "        :param input_ids: The input tensor\n",
    "        :param attention_mask: The attention mask tensor\n",
    "        :param labels: The labels tensor\n",
    "        :return: The output tensor\n",
    "        \"\"\"\n",
    "\n",
    "        # Passing to the forward function of the model\n",
    "        model_outputs = self.model(\n",
    "            input_ids=input_ids, attention_mask=attention_mask, labels=None, **kwargs\n",
    "        )\n",
    "\n",
    "        # Getting the relevant logits\n",
    "        logits = model_outputs.logits\n",
    "\n",
    "        # Initializing the current loss\n",
    "        current_loss = None\n",
    "\n",
    "        # Checking for labels\n",
    "        if labels is not None:\n",
    "\n",
    "            # Setting the cross-entropy loss considering the class weights\n",
    "            cr_en_loss = nn.CrossEntropyLoss(\n",
    "                weight=self.class_weights.to(logits.device)\n",
    "            )\n",
    "\n",
    "            # Computing\n",
    "            current_loss = cr_en_loss(logits, labels)\n",
    "\n",
    "        # Checking and returning accordingly\n",
    "        if current_loss is not None:\n",
    "\n",
    "            return {\"loss\": current_loss, \"logits\": logits}\n",
    "\n",
    "        else:\n",
    "\n",
    "            return {\"logits\": logits}"
   ]
  },
  {
   "cell_type": "markdown",
   "metadata": {
    "id": "ft2eOTI9MY9D"
   },
   "source": [
    "Define a function for training a BERT model"
   ]
  },
  {
   "cell_type": "code",
   "execution_count": null,
   "metadata": {
    "id": "UwmK24SUMoTO"
   },
   "outputs": [],
   "source": [
    "def train_bert_model(bert_model, bert_model_name, training_dataset, validation_dataset):\n",
    "    \"\"\"\n",
    "    This function is used to train a BERT model for text classification.\n",
    "\n",
    "    :param bert_model: A BERT model\n",
    "    :param bert_model_name: The name of the BERT model\n",
    "    :param training_dataset: A Hugging Face dataset for training\n",
    "    :param validation_dataset: A Hugging Face dataset for validation\n",
    "    :return: A Trainer object\n",
    "    \"\"\"\n",
    "\n",
    "    # Defining the training arguments\n",
    "    training_arguments = TrainingArguments(\n",
    "        output_dir=f\"./{bert_model_name}_results\",\n",
    "        learning_rate=2e-4,\n",
    "        evaluation_strategy=\"epoch\",\n",
    "        save_strategy=\"epoch\",\n",
    "        weight_decay=0.01,\n",
    "        per_device_train_batch_size=32,\n",
    "        per_device_eval_batch_size=32,\n",
    "        logging_strategy=\"epoch\",\n",
    "        num_train_epochs=10,\n",
    "        load_best_model_at_end=True,\n",
    "        metric_for_best_model=\"loss\",\n",
    "        greater_is_better=False,\n",
    "        report_to=\"none\",\n",
    "    )\n",
    "\n",
    "    # Defining the Trainer\n",
    "    trainer = Trainer(\n",
    "        bert_model,\n",
    "        training_arguments,\n",
    "        train_dataset=training_dataset,\n",
    "        eval_dataset=validation_dataset,\n",
    "        compute_metrics=compute_classification_metrics,\n",
    "        callbacks=[EarlyStoppingCallback(early_stopping_patience=3)],\n",
    "    )\n",
    "\n",
    "    # Training the model\n",
    "    trainer.train()\n",
    "\n",
    "    return trainer"
   ]
  },
  {
   "cell_type": "markdown",
   "metadata": {
    "id": "lXQzjLIxNIjp"
   },
   "source": [
    "Tokenize the datasets"
   ]
  },
  {
   "cell_type": "code",
   "execution_count": null,
   "metadata": {
    "colab": {
     "base_uri": "https://localhost:8080/",
     "height": 368,
     "referenced_widgets": [
      "ee25ed233375434c9528c9156d92df6f",
      "5870ea4b65bf4aa4be6e0aa7435bc75f",
      "60367c48ca954e63a6c40ba29716561b",
      "aabff246584b477f95e70f4f02f56960",
      "fc40605b676d4f0fbb08de0adde7d4f9",
      "0d5df7e6062d4195af0269017d2d594e",
      "b4fb54f210ee488a93898bb74fd050d7",
      "fa937bd77f6a4c118f1ac6f80a08893b",
      "a5de046e86954c38ba19757de768d857",
      "62a37f9df5cf41efa3169f2f67fc1952",
      "8be008fe544f4b679f8b2f34836f3c16",
      "44d98b30c2ed4df89e88e8285d8bea4e",
      "a2e5532ea83f4b5dbf759b7778703ca4",
      "57a5654de1cc403f97df2e2e43355245",
      "a973784bb9a54eedb94a642ecac3f045",
      "4b9863897a4b4ef6b21427a1a00cdfa7",
      "b90deafe79014d7ea7cf9ca4be57e14c",
      "27204390e0db4dc59c29cfd3f1a044d0",
      "0683eb98b18444da9636224e324593cd",
      "cfe86a015f2f43cb9595144083e7866d",
      "8309e190d7a74f139e248f907da86bf5",
      "82b543d34cde43128871f9590ba70d85",
      "5e3e0eb55c474196aee3c9a36b8a39f0",
      "52bcc613692f40da8b528d4b4f46b46d",
      "285a2b23296d4d7a908803204e06f54e",
      "a4061b3b0d654b0599720b87a5a4f54a",
      "85f31204eb794163942d66ec8d406c1a",
      "c4c4e8bb4cbf4878bf5f66352f0f4758",
      "0d70613c27db43a2adfab8805fb3550e",
      "fad8eae29a474614bd2be0e211cb5a45",
      "e95a1af909384b529cad38a795de44a4",
      "8ba3b6116e3b48528cdd0116c7ef826b",
      "1792534329f24c778b8f6fb65b4a84c0",
      "78798212003b4168b706a8ccc9a51d8e",
      "72fc0fb4544343518ded16e321be25ce",
      "c0ca133b37e04d42aeed4d37eeedd632",
      "d7ced346e01a4edfbee9214f5da0ac92",
      "0651152fa66b4b6ea25845ef99654199",
      "25aca9021d5d4f34910b975ec3453d4d",
      "0135722a03f94cadb1da530adfcc2b59",
      "00ac378aaaa04495871973a47dab2348",
      "6bc9dbba4e19421999f59d234d5eff66",
      "e706116745c04177bbfe4e97d2955c80",
      "a8a9b0617f03468d9c0ffcae2fe81fb5",
      "caaee6c3198d45e994900a45fec2be7a",
      "c2d67721a31c422aaf886c7c7cc52070",
      "4fe66aa355c54d448dd670280e4ab70e",
      "6da77072a7aa47e08624c1fa2d622d98",
      "da4015cfa23449a48ecdcca750f89b12",
      "3d5086aa3caa406b84e47ab0314cafa6",
      "9f1d6c8e83ea4260be4d158fe30cb57b",
      "439af4c1f4894ab6afea37863c8212af",
      "d2518535a4d74a9cbee234542376de82",
      "0aef3ded78ba4afcad8df87a4a889423",
      "58b6c0939fda44609eb5ee059422aef9",
      "78b6b3d7e89346e3a696cedc28f63a0e",
      "dda42d1b3d3d42c09f4ced3679784ebf",
      "36bc0291d110465a873c6cfd272025d6",
      "4d4635e38e114ba4afd2fe8ff5ffe0cc",
      "81521c54c6f448ad9fba9f17bb9e3650",
      "a1a4c969d4e5433b8de108189d0113a3",
      "2704aaec097e4407b615efe0a5f59d46",
      "d160b49fa2814363ae56fd780920831c",
      "8bbe24929ae04dd8a221169aa3ce2bec",
      "05956fccc56946f082b1d03d31ed74bf",
      "5edf064399954e598a59ab592ff239fa"
     ]
    },
    "executionInfo": {
     "elapsed": 24726,
     "status": "ok",
     "timestamp": 1748683381225,
     "user": {
      "displayName": "Stelios Giagkos",
      "userId": "06441279652746263838"
     },
     "user_tz": -180
    },
    "id": "Eg-WFj_pNJsf",
    "outputId": "24931e44-c44c-44ec-cc99-05153df25e3d"
   },
   "outputs": [
    {
     "name": "stderr",
     "output_type": "stream",
     "text": [
      "/usr/local/lib/python3.11/dist-packages/huggingface_hub/file_download.py:943: FutureWarning: `resume_download` is deprecated and will be removed in version 1.0.0. Downloads always resume when possible. If you want to force a new download, use `force_download=True`.\n",
      "  warnings.warn(\n",
      "/usr/local/lib/python3.11/dist-packages/huggingface_hub/utils/_auth.py:94: UserWarning: \n",
      "The secret `HF_TOKEN` does not exist in your Colab secrets.\n",
      "To authenticate with the Hugging Face Hub, create a token in your settings tab (https://huggingface.co/settings/tokens), set it as secret in your Google Colab and restart your session.\n",
      "You will be able to reuse this secret in all of your notebooks.\n",
      "Please note that authentication is recommended but still optional to access public models or datasets.\n",
      "  warnings.warn(\n"
     ]
    },
    {
     "data": {
      "application/vnd.jupyter.widget-view+json": {
       "model_id": "ee25ed233375434c9528c9156d92df6f",
       "version_major": 2,
       "version_minor": 0
      },
      "text/plain": [
       "tokenizer_config.json:   0%|          | 0.00/48.0 [00:00<?, ?B/s]"
      ]
     },
     "metadata": {},
     "output_type": "display_data"
    },
    {
     "data": {
      "application/vnd.jupyter.widget-view+json": {
       "model_id": "44d98b30c2ed4df89e88e8285d8bea4e",
       "version_major": 2,
       "version_minor": 0
      },
      "text/plain": [
       "config.json:   0%|          | 0.00/483 [00:00<?, ?B/s]"
      ]
     },
     "metadata": {},
     "output_type": "display_data"
    },
    {
     "data": {
      "application/vnd.jupyter.widget-view+json": {
       "model_id": "5e3e0eb55c474196aee3c9a36b8a39f0",
       "version_major": 2,
       "version_minor": 0
      },
      "text/plain": [
       "vocab.txt:   0%|          | 0.00/232k [00:00<?, ?B/s]"
      ]
     },
     "metadata": {},
     "output_type": "display_data"
    },
    {
     "data": {
      "application/vnd.jupyter.widget-view+json": {
       "model_id": "78798212003b4168b706a8ccc9a51d8e",
       "version_major": 2,
       "version_minor": 0
      },
      "text/plain": [
       "tokenizer.json:   0%|          | 0.00/466k [00:00<?, ?B/s]"
      ]
     },
     "metadata": {},
     "output_type": "display_data"
    },
    {
     "data": {
      "application/vnd.jupyter.widget-view+json": {
       "model_id": "caaee6c3198d45e994900a45fec2be7a",
       "version_major": 2,
       "version_minor": 0
      },
      "text/plain": [
       "Map:   0%|          | 0/145604 [00:00<?, ? examples/s]"
      ]
     },
     "metadata": {},
     "output_type": "display_data"
    },
    {
     "data": {
      "application/vnd.jupyter.widget-view+json": {
       "model_id": "78b6b3d7e89346e3a696cedc28f63a0e",
       "version_major": 2,
       "version_minor": 0
      },
      "text/plain": [
       "Map:   0%|          | 0/36402 [00:00<?, ? examples/s]"
      ]
     },
     "metadata": {},
     "output_type": "display_data"
    }
   ],
   "source": [
    "# Setting the BERT model to use\n",
    "bert_model_name = \"distilbert-base-uncased\"\n",
    "\n",
    "# Loading the relevant BERT tokenizer\n",
    "bert_tokenizer = AutoTokenizer.from_pretrained(bert_model_name)\n",
    "\n",
    "# Creating a partial function to pass parameters to the 'tokenize' function\n",
    "pass_parameters = partial(tokenize_product_descriptions, bert_tokenizer=bert_tokenizer)\n",
    "\n",
    "# Tokenizing the descriptions\n",
    "tokenized_training_dataset = training_dataset.map(pass_parameters, batched=True)\n",
    "tokenized_validation_dataset = validation_dataset.map(pass_parameters, batched=True)\n",
    "\n",
    "# Converting the datasets to PyTorch tensors for efficient processing\n",
    "tokenized_training_dataset.set_format(\n",
    "    type=\"torch\", columns=[\"input_ids\", \"attention_mask\", \"label\"]\n",
    ")\n",
    "tokenized_validation_dataset.set_format(\n",
    "    type=\"torch\", columns=[\"input_ids\", \"attention_mask\", \"label\"]\n",
    ")"
   ]
  },
  {
   "cell_type": "markdown",
   "metadata": {
    "id": "sOJCU6YBNorE"
   },
   "source": [
    "Apply LoRA"
   ]
  },
  {
   "cell_type": "code",
   "execution_count": null,
   "metadata": {
    "colab": {
     "base_uri": "https://localhost:8080/",
     "height": 225,
     "referenced_widgets": [
      "46d329aa88aa4269bdd7354d0124dbc0",
      "f8d13b7a753749979c05ecc8f8e3d5b0",
      "65da1993d297487cbc681713ca6df06b",
      "ec945db3c4e64fa6ba3fa50df8d39f1e",
      "9cebe1bdb0bb4684b219027666abde30",
      "4fd7de964c0c4e279d5845e0393dba90",
      "780fa7bf4bc84fe5bfe51fb22936cc54",
      "fbce2a119164427d8d9c0542d66e41c3",
      "38e39d9ce44d4bcbbf87e541e5059e51",
      "10dba541a68c4f17984e913997ce668a",
      "71b2926880204c9db18ca096dbd3a262"
     ]
    },
    "executionInfo": {
     "elapsed": 1904,
     "status": "ok",
     "timestamp": 1748683383397,
     "user": {
      "displayName": "Stelios Giagkos",
      "userId": "06441279652746263838"
     },
     "user_tz": -180
    },
    "id": "jBlMY2YYNqVO",
    "outputId": "490dae31-570f-4a36-fd98-d556b7c04ce5"
   },
   "outputs": [
    {
     "name": "stderr",
     "output_type": "stream",
     "text": [
      "Xet Storage is enabled for this repo, but the 'hf_xet' package is not installed. Falling back to regular HTTP download. For better performance, install the package with: `pip install huggingface_hub[hf_xet]` or `pip install hf_xet`\n",
      "WARNING:huggingface_hub.file_download:Xet Storage is enabled for this repo, but the 'hf_xet' package is not installed. Falling back to regular HTTP download. For better performance, install the package with: `pip install huggingface_hub[hf_xet]` or `pip install hf_xet`\n"
     ]
    },
    {
     "data": {
      "application/vnd.jupyter.widget-view+json": {
       "model_id": "46d329aa88aa4269bdd7354d0124dbc0",
       "version_major": 2,
       "version_minor": 0
      },
      "text/plain": [
       "model.safetensors:   0%|          | 0.00/268M [00:00<?, ?B/s]"
      ]
     },
     "metadata": {},
     "output_type": "display_data"
    },
    {
     "name": "stderr",
     "output_type": "stream",
     "text": [
      "Some weights of DistilBertForSequenceClassification were not initialized from the model checkpoint at distilbert-base-uncased and are newly initialized: ['classifier.bias', 'classifier.weight', 'pre_classifier.bias', 'pre_classifier.weight']\n",
      "You should probably TRAIN this model on a down-stream task to be able to use it for predictions and inference.\n"
     ]
    },
    {
     "name": "stdout",
     "output_type": "stream",
     "text": [
      "\n",
      "The total parameters of the 'distilbert-base-uncased' model is: 66965776\n",
      "The trainable parameters of the 'distilbert-base-uncased' model is: 66965776\n",
      "\n",
      "trainable params: 750,352 || all params: 67,716,128 || trainable%: 1.1080846205500705\n"
     ]
    }
   ],
   "source": [
    "# Loading the pre-trained BERT model for classification task\n",
    "bert_model = AutoModelForSequenceClassification.from_pretrained(\n",
    "    bert_model_name, num_labels=16\n",
    ")\n",
    "\n",
    "# Counting the model's total parameters\n",
    "total_parameters = sum(parameter.numel() for parameter in bert_model.parameters())\n",
    "\n",
    "# Counting the model's trainable parameters\n",
    "total_trainable_parameters = sum(\n",
    "    parameter.numel()\n",
    "    for parameter in bert_model.parameters()\n",
    "    if parameter.requires_grad\n",
    ")\n",
    "\n",
    "print(\n",
    "    f\"\\nThe total parameters of the '{bert_model_name}' model is: {total_parameters}\"\n",
    ")\n",
    "print(\n",
    "    f\"The trainable parameters of the '{bert_model_name}' model is: {total_trainable_parameters}\\n\"\n",
    ")\n",
    "\n",
    "# Setting a LoRA configuration\n",
    "lora_configuration = LoraConfig(\n",
    "    r=8,\n",
    "    lora_alpha=32,\n",
    "    target_modules=[\"q_lin\", \"v_lin\"],\n",
    "    lora_dropout=0.05,\n",
    "    task_type=\"SEQ_CLS\",\n",
    ")\n",
    "\n",
    "# Appling LoRA to the BERT model\n",
    "bert_model = get_peft_model(bert_model, lora_configuration)\n",
    "\n",
    "# Printing the final trainable parameters after using LoRA\n",
    "bert_model.print_trainable_parameters()"
   ]
  },
  {
   "cell_type": "markdown",
   "metadata": {
    "id": "WPEE2OcQN8NV"
   },
   "source": [
    "Train the BERT model"
   ]
  },
  {
   "cell_type": "code",
   "execution_count": null,
   "metadata": {
    "colab": {
     "base_uri": "https://localhost:8080/",
     "height": 326
    },
    "executionInfo": {
     "elapsed": 2519497,
     "status": "ok",
     "timestamp": 1748685902899,
     "user": {
      "displayName": "Stelios Giagkos",
      "userId": "06441279652746263838"
     },
     "user_tz": -180
    },
    "id": "lENHbsyMOCu_",
    "outputId": "1029f61e-980f-4504-8068-4c6fd9c1b252"
   },
   "outputs": [
    {
     "data": {
      "text/html": [
       "\n",
       "    <div>\n",
       "      \n",
       "      <progress value='36408' max='45510' style='width:300px; height:20px; vertical-align: middle;'></progress>\n",
       "      [36408/45510 41:58 < 10:29, 14.46 it/s, Epoch 8/10]\n",
       "    </div>\n",
       "    <table border=\"1\" class=\"dataframe\">\n",
       "  <thead>\n",
       " <tr style=\"text-align: left;\">\n",
       "      <th>Epoch</th>\n",
       "      <th>Training Loss</th>\n",
       "      <th>Validation Loss</th>\n",
       "      <th>Accuracy</th>\n",
       "      <th>Precision</th>\n",
       "      <th>Recall</th>\n",
       "      <th>F1</th>\n",
       "    </tr>\n",
       "  </thead>\n",
       "  <tbody>\n",
       "    <tr>\n",
       "      <td>1</td>\n",
       "      <td>0.637600</td>\n",
       "      <td>0.427077</td>\n",
       "      <td>0.858799</td>\n",
       "      <td>0.867344</td>\n",
       "      <td>0.858799</td>\n",
       "      <td>0.860640</td>\n",
       "    </tr>\n",
       "    <tr>\n",
       "      <td>2</td>\n",
       "      <td>0.416700</td>\n",
       "      <td>0.360163</td>\n",
       "      <td>0.876820</td>\n",
       "      <td>0.885478</td>\n",
       "      <td>0.876820</td>\n",
       "      <td>0.878362</td>\n",
       "    </tr>\n",
       "    <tr>\n",
       "      <td>3</td>\n",
       "      <td>0.345900</td>\n",
       "      <td>0.347170</td>\n",
       "      <td>0.894731</td>\n",
       "      <td>0.896560</td>\n",
       "      <td>0.894731</td>\n",
       "      <td>0.894939</td>\n",
       "    </tr>\n",
       "    <tr>\n",
       "      <td>4</td>\n",
       "      <td>0.298000</td>\n",
       "      <td>0.325614</td>\n",
       "      <td>0.901434</td>\n",
       "      <td>0.904717</td>\n",
       "      <td>0.901434</td>\n",
       "      <td>0.902253</td>\n",
       "    </tr>\n",
       "    <tr>\n",
       "      <td>5</td>\n",
       "      <td>0.262400</td>\n",
       "      <td>0.313747</td>\n",
       "      <td>0.900692</td>\n",
       "      <td>0.904439</td>\n",
       "      <td>0.900692</td>\n",
       "      <td>0.901388</td>\n",
       "    </tr>\n",
       "    <tr>\n",
       "      <td>6</td>\n",
       "      <td>0.237900</td>\n",
       "      <td>0.322729</td>\n",
       "      <td>0.906461</td>\n",
       "      <td>0.909607</td>\n",
       "      <td>0.906461</td>\n",
       "      <td>0.907145</td>\n",
       "    </tr>\n",
       "    <tr>\n",
       "      <td>7</td>\n",
       "      <td>0.216000</td>\n",
       "      <td>0.314935</td>\n",
       "      <td>0.910747</td>\n",
       "      <td>0.913224</td>\n",
       "      <td>0.910747</td>\n",
       "      <td>0.911357</td>\n",
       "    </tr>\n",
       "    <tr>\n",
       "      <td>8</td>\n",
       "      <td>0.197100</td>\n",
       "      <td>0.316594</td>\n",
       "      <td>0.906379</td>\n",
       "      <td>0.910831</td>\n",
       "      <td>0.906379</td>\n",
       "      <td>0.907240</td>\n",
       "    </tr>\n",
       "  </tbody>\n",
       "</table><p>"
      ],
      "text/plain": [
       "<IPython.core.display.HTML object>"
      ]
     },
     "metadata": {},
     "output_type": "display_data"
    }
   ],
   "source": [
    "# Computing the class weights\n",
    "class_weights = compute_class_weight(\n",
    "    class_weight=\"balanced\", classes=np.unique(training_labels), y=training_labels\n",
    ")\n",
    "\n",
    "# Converting to tensor\n",
    "class_weights_tensor = torch.tensor(class_weights, dtype=torch.float)\n",
    "\n",
    "# Setting the weighted trainer\n",
    "model = WeightedTrainer(bert_model, class_weights_tensor)\n",
    "\n",
    "# Training\n",
    "trainer = train_bert_model(\n",
    "    model,\n",
    "    bert_model_name,\n",
    "    tokenized_training_dataset,\n",
    "    tokenized_validation_dataset,\n",
    ")\n",
    "\n",
    "# Collecting the losses\n",
    "training_losses, validation_losses = collect_losses(trainer)"
   ]
  },
  {
   "cell_type": "markdown",
   "metadata": {
    "id": "jherELUt5RIB"
   },
   "source": [
    "Show a classification report"
   ]
  },
  {
   "cell_type": "code",
   "execution_count": null,
   "metadata": {
    "colab": {
     "base_uri": "https://localhost:8080/",
     "height": 416
    },
    "executionInfo": {
     "elapsed": 32579,
     "status": "ok",
     "timestamp": 1748685935480,
     "user": {
      "displayName": "Stelios Giagkos",
      "userId": "06441279652746263838"
     },
     "user_tz": -180
    },
    "id": "LgUzxHrU5PRq",
    "outputId": "a9b557dd-0c50-42af-cb9a-67714b501d06"
   },
   "outputs": [
    {
     "data": {
      "text/html": [],
      "text/plain": [
       "<IPython.core.display.HTML object>"
      ]
     },
     "metadata": {},
     "output_type": "display_data"
    },
    {
     "name": "stdout",
     "output_type": "stream",
     "text": [
      "              precision    recall  f1-score   support\n",
      "\n",
      "           0     0.9636    0.9690    0.9663      3033\n",
      "           1     0.8564    0.8925    0.8741      2372\n",
      "           2     0.9414    0.8484    0.8925      8652\n",
      "           3     0.9250    0.9655    0.9448      1073\n",
      "           4     0.8868    0.9347    0.9101      3016\n",
      "           5     0.9323    0.9313    0.9318      3565\n",
      "           6     0.9007    0.9375    0.9187      1519\n",
      "           7     0.9562    0.9198    0.9376      3752\n",
      "           8     0.9263    0.9460    0.9361      1316\n",
      "           9     0.9181    0.9181    0.9181       903\n",
      "          10     0.8081    0.8426    0.8250      3589\n",
      "          11     0.8929    0.9011    0.8970      1425\n",
      "          12     0.6957    0.8794    0.7768      1318\n",
      "          13     0.7955    0.8793    0.8353       323\n",
      "          14     0.9008    0.9646    0.9316       226\n",
      "          15     0.8739    0.9313    0.9017       320\n",
      "\n",
      "    accuracy                         0.9007     36402\n",
      "   macro avg     0.8859    0.9163    0.8998     36402\n",
      "weighted avg     0.9044    0.9007    0.9014     36402\n",
      "\n"
     ]
    }
   ],
   "source": [
    "# Predicting on the validation dataset\n",
    "predictions = trainer.predict(tokenized_validation_dataset)\n",
    "\n",
    "# Extracting the logits\n",
    "logits = predictions.predictions\n",
    "\n",
    "# Getting the true labels\n",
    "true_labels = predictions.label_ids\n",
    "\n",
    "# Getting the predicted labels\n",
    "predicted_labels = logits.argmax(axis=1)\n",
    "\n",
    "print(classification_report(true_labels, predicted_labels, digits=4))"
   ]
  },
  {
   "cell_type": "markdown",
   "metadata": {
    "id": "ngtQasq5Omk1"
   },
   "source": [
    "Show loss in training and validation data at all epochs"
   ]
  },
  {
   "cell_type": "code",
   "execution_count": null,
   "metadata": {
    "colab": {
     "base_uri": "https://localhost:8080/",
     "height": 507
    },
    "executionInfo": {
     "elapsed": 473,
     "status": "ok",
     "timestamp": 1748685935955,
     "user": {
      "displayName": "Stelios Giagkos",
      "userId": "06441279652746263838"
     },
     "user_tz": -180
    },
    "id": "qOq0pU1yOnS6",
    "outputId": "6ffe01bd-df12-4160-d7fd-ad7ab9b8d99f"
   },
   "outputs": [
    {
     "data": {
      "image/png": "[encoded data removed]",
      "text/plain": [
       "<Figure size 800x500 with 1 Axes>"
      ]
     },
     "metadata": {},
     "output_type": "display_data"
    }
   ],
   "source": [
    "# Creating a figure\n",
    "plt.figure(figsize=(8, 5))\n",
    "\n",
    "# Plotting the curves\n",
    "plt.plot(training_losses, label=\"Training Loss\", linestyle=\"-\", color=\"blue\")\n",
    "plt.plot(validation_losses, label=\"Validation Loss\", linestyle=\"--\", color=\"grey\")\n",
    "\n",
    "# Setting some plot parameters\n",
    "plt.xlabel(\"Epochs\")\n",
    "plt.ylabel(\"Loss\")\n",
    "plt.title(\"Training vs Validation Loss\")\n",
    "plt.xticks(range(len(training_losses)))\n",
    "plt.legend()\n",
    "plt.grid(True, linestyle=\"--\", linewidth=0.8, alpha=0.4)\n",
    "\n",
    "# Showing\n",
    "plt.tight_layout()\n",
    "plt.show()"
   ]
  },
  {
   "cell_type": "markdown",
   "metadata": {
    "id": "yz60gM_ITY13"
   },
   "source": [
    "Load and process all the product descriptions"
   ]
  },
  {
   "cell_type": "code",
   "execution_count": null,
   "metadata": {
    "id": "0XPUtCFgTJp8"
   },
   "outputs": [],
   "source": [
    "# Loading\n",
    "product_descriptions = pd.read_excel(drive_path + \"product_descriptions.xlsx\")\n",
    "\n",
    "# Tokenizing the product descriptions\n",
    "tokenized_product_descriptions = bert_tokenizer(\n",
    "    product_descriptions[\"description\"].values.tolist(),\n",
    "    padding=\"max_length\",\n",
    "    truncation=True,\n",
    "    max_length=128,\n",
    "    return_tensors=\"pt\",\n",
    ")\n",
    "\n",
    "# Moving to the available device\n",
    "input_ids = tokenized_product_descriptions[\"input_ids\"].to(device)\n",
    "attention_mask = tokenized_product_descriptions[\"attention_mask\"].to(device)\n",
    "\n",
    "# Creating a tensor dataset\n",
    "dataset = TensorDataset(input_ids, attention_mask)\n",
    "\n",
    "# Creating a data loader\n",
    "dataloader = DataLoader(dataset, batch_size=32)"
   ]
  },
  {
   "cell_type": "markdown",
   "metadata": {
    "id": "n7kjH38gZOnf"
   },
   "source": [
    "Extract the text embeddings from the product descriptions"
   ]
  },
  {
   "cell_type": "code",
   "execution_count": null,
   "metadata": {
    "colab": {
     "base_uri": "https://localhost:8080/"
    },
    "executionInfo": {
     "elapsed": 249776,
     "status": "ok",
     "timestamp": 1748686232987,
     "user": {
      "displayName": "Stelios Giagkos",
      "userId": "06441279652746263838"
     },
     "user_tz": -180
    },
    "id": "rBKQuYIDX8SB",
    "outputId": "4b440259-21f2-4add-d7e3-4df5f504e2f8"
   },
   "outputs": [
    {
     "name": "stdout",
     "output_type": "stream",
     "text": [
      "The shape of the tensor is:\n",
      " torch.Size([276453, 768])\n",
      "Print some rows:\n",
      " tensor([[ 0.6034,  0.0463,  0.4637,  ...,  0.3687, -0.0919, -1.3693],\n",
      "        [ 0.8075,  0.7831, -0.7214,  ...,  0.5905,  0.9325,  0.3683],\n",
      "        [ 1.2080, -0.8222, -1.2737,  ...,  0.5577,  0.2600, -0.4325],\n",
      "        [ 1.0233,  0.7112,  0.5911,  ...,  0.5450, -0.0885, -0.1628],\n",
      "        [-0.0537,  1.6462, -0.2172,  ..., -0.7644, -0.3311, -0.3493]])\n"
     ]
    }
   ],
   "source": [
    "# Setting a list for all the text embeddings\n",
    "all_embeddings = []\n",
    "\n",
    "# Removing the classification head\n",
    "model = trainer.model.model.model.distilbert\n",
    "\n",
    "# Putting the model in evaludation mode\n",
    "model.eval()\n",
    "\n",
    "# Moving to the available device\n",
    "model.to(device)\n",
    "\n",
    "# Using without backpropagation\n",
    "with torch.no_grad():\n",
    "\n",
    "    # Iterating over the batches\n",
    "    for input_ids, attention_mask in dataloader:\n",
    "\n",
    "        # Getting the outputs of the model\n",
    "        model_outputs = model(input_ids=input_ids, attention_mask=attention_mask)\n",
    "\n",
    "        # Getting the CLS embeddings of the current batch\n",
    "        batch_embeddings = model_outputs.last_hidden_state[:, 0, :]\n",
    "\n",
    "        # Appending\n",
    "        all_embeddings.append(batch_embeddings.cpu())\n",
    "\n",
    "# Getting the final text embeddings\n",
    "text_embeddings = torch.cat(all_embeddings, dim=0)\n",
    "\n",
    "# Saving the text embeddings\n",
    "torch.save(text_embeddings, drive_path + \"text_embeddings.pt\")\n",
    "\n",
    "print(f\"The shape of the tensor is:\\n {text_embeddings.shape}\")\n",
    "print(f\"Print some rows:\\n {text_embeddings[:5]}\")"
   ]
  }
 ],
 "metadata": {
  "accelerator": "GPU",
  "colab": {
   "gpuType": "A100",
   "machine_shape": "hm",
   "provenance": []
  },
  "kernelspec": {
   "display_name": "Python 3",
   "name": "python3"
  },
  "language_info": {
   "name": "python"
  }
 },
 "nbformat": 4,
 "nbformat_minor": 0
}
