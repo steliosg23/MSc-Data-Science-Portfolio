{
 "cells": [
  {
   "cell_type": "code",
   "execution_count": 1,
   "id": "fcb59647-4e6b-488e-8ac9-f593f56a7284",
   "metadata": {},
   "outputs": [
    {
     "name": "stdout",
     "output_type": "stream",
     "text": [
      "Class Priors: P(w1) = 0.500, P(w2) = 0.500\n",
      "Means: mu1 = [0.14549472 0.11840199], mu2 = [ 2.07024339 -1.89136529]\n",
      "Covariances: sigma1 =\n",
      "[[3.63737014 1.74128017]\n",
      " [1.74128017 4.22056748]]\n",
      ", sigma2 =\n",
      "[[4.71777486 2.6006903 ]\n",
      " [2.6006903  4.37763924]]\n",
      "Classification Error Rate: 0.150\n"
     ]
    }
   ],
   "source": [
    "import numpy as np\n",
    "from scipy.stats import multivariate_normal\n",
    "from scipy.io import loadmat\n",
    "\n",
    "# Load data\n",
    "data = loadmat(\"HW8.mat\")\n",
    "train_x = data[\"train_x\"]\n",
    "train_y = data[\"train_y\"].flatten()\n",
    "test_x = data[\"test_x\"]\n",
    "test_y = data[\"test_y\"].flatten()\n",
    "\n",
    "# (i) Estimate parameters\n",
    "def estimate_parameters(train_x, train_y, class_label):\n",
    "    class_data = train_x[train_y == class_label]\n",
    "    n_class = len(class_data)\n",
    "    mu = np.mean(class_data, axis=0)\n",
    "    sigma = np.cov(class_data, rowvar=False)\n",
    "    return mu, sigma, n_class\n",
    "\n",
    "# Estimate for both classes\n",
    "mu1, sigma1, n1 = estimate_parameters(train_x, train_y, class_label=1)\n",
    "mu2, sigma2, n2 = estimate_parameters(train_x, train_y, class_label=2)\n",
    "\n",
    "# Priors\n",
    "P_w1 = n1 / len(train_y)\n",
    "P_w2 = n2 / len(train_y)\n",
    "\n",
    "# (ii) Classify test data\n",
    "Btest_y = []\n",
    "for x in test_x:\n",
    "    # Compute likelihoods\n",
    "    p_x_given_w1 = multivariate_normal.pdf(x, mean=mu1, cov=sigma1)\n",
    "    p_x_given_w2 = multivariate_normal.pdf(x, mean=mu2, cov=sigma2)\n",
    "    \n",
    "    # Compute posteriors\n",
    "    post_w1 = P_w1 * p_x_given_w1\n",
    "    post_w2 = P_w2 * p_x_given_w2\n",
    "    \n",
    "    # Assign to the class with the highest posterior\n",
    "    Btest_y.append(1 if post_w1 > post_w2 else 2)\n",
    "\n",
    "Btest_y = np.array(Btest_y)\n",
    "\n",
    "# (iii) Estimate error classification probability\n",
    "correct_predictions = np.sum(Btest_y == test_y)\n",
    "error_rate = 1 - (correct_predictions / len(test_y))\n",
    "\n",
    "# Print results\n",
    "print(f\"Class Priors: P(w1) = {P_w1:.3f}, P(w2) = {P_w2:.3f}\")\n",
    "print(f\"Means: mu1 = {mu1}, mu2 = {mu2}\")\n",
    "print(f\"Covariances: sigma1 =\\n{sigma1}\\n, sigma2 =\\n{sigma2}\")\n",
    "print(f\"Classification Error Rate: {error_rate:.3f}\")\n"
   ]
  }
 ],
 "metadata": {
  "kernelspec": {
   "display_name": "Python 3 (ipykernel)",
   "language": "python",
   "name": "python3"
  },
  "language_info": {
   "codemirror_mode": {
    "name": "ipython",
    "version": 3
   },
   "file_extension": ".py",
   "mimetype": "text/x-python",
   "name": "python",
   "nbconvert_exporter": "python",
   "pygments_lexer": "ipython3",
   "version": "3.12.7"
  }
 },
 "nbformat": 4,
 "nbformat_minor": 5
}
