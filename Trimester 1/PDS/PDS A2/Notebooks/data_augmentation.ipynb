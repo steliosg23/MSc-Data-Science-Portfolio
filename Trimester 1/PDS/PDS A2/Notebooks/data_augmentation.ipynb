{
 "cells": [
  {
   "cell_type": "markdown",
   "metadata": {
    "id": "view-in-github"
   },
   "source": [
    "<a href=\"https://colab.research.google.com/github/steliosg23/PDS-A2/blob/main/Incidents%20Augmentation%20using%20techniques.ipynb\" target=\"_parent\"><img src=\"https://colab.research.google.com/assets/colab-badge.svg\" alt=\"Open In Colab\"/></a>"
   ]
  },
  {
   "cell_type": "markdown",
   "metadata": {
    "id": "tAgEe9jLNvTJ"
   },
   "source": [
    "# Augmenting the Initial Imbalanced Train Set for Benchmark and Submission Models\n",
    "\n",
    "In this notebook, **\"Incidents Train Set Augmentation\"**, I will address the issue of class imbalance in the initial training dataset for the **Food Hazard Detection Challenge**. The augmentation process aims to create a more balanced and diverse dataset to improve the model's performance in detecting food safety-related incidents accurately. However, for practical reasons, the size of the dataset will be approximately tripled. While this improves class representation, some imbalance will still persist to maintain a manageable dataset size and training efficiency. This augmented dataset will be utilized in two critical notebooks, as outlined below:\n",
    "\n",
    "1. **Benchmark Models Finetuned PubMedBERT**:\n",
    "   - The augmented dataset will serve as the foundation for training and evaluating benchmark models in the notebook titled **\"AnB Benchmark PubMedBERT.ipynb\"**. These models will establish baseline performance metrics for each classification task, helping us understand the impact of data augmentation on model learning and generalization. This evaluation will include hazard-category, product-category, hazard, and product classifications.\n",
    "\n",
    "2. **Submission Model Finetuned PubMedBERT**:\n",
    "   - The augmented dataset will also be used in the notebook titled **AnB Submission PubMedBERT.ipynb\"** to train the final submission model. This model will be fine-tuned on the enhanced dataset to maximize its accuracy and effectiveness in making predictions for the competition. The submission model will represent the culmination of our efforts in preprocessing, augmentation, and fine-tuning to achieve optimal performance on the challenge leaderboard.\n",
    "\n",
    "By approximately doubling the dataset size and improving the representation of minority classes, this notebook sets the stage for robust training. While some class imbalance will still remain, this approach balances the trade-off between practical dataset size and improved model performance, trying to operate a more effective training for both benchmark and submission models.\n"
   ]
  },
  {
   "cell_type": "markdown",
   "metadata": {
    "id": "-sgoRH3J-tmP"
   },
   "source": [
    "# Mount Google Drive\n"
   ]
  },
  {
   "cell_type": "code",
   "execution_count": null,
   "metadata": {
    "colab": {
     "base_uri": "https://localhost:8080/"
    },
    "executionInfo": {
     "elapsed": 2053,
     "status": "ok",
     "timestamp": 1732376565509,
     "user": {
      "displayName": "Stelios Giagkos",
      "userId": "06441279652746263838"
     },
     "user_tz": -120
    },
    "id": "n2rzoW3m-uvi",
    "outputId": "15614795-7609-4db9-902c-03e26f6f6c54"
   },
   "outputs": [
    {
     "name": "stdout",
     "output_type": "stream",
     "text": [
      "Drive already mounted at /content/drive; to attempt to forcibly remount, call drive.mount(\"/content/drive\", force_remount=True).\n"
     ]
    }
   ],
   "source": [
    "from google.colab import drive\n",
    "drive.mount('/content/drive')\n"
   ]
  },
  {
   "cell_type": "markdown",
   "metadata": {
    "id": "Pa7iLTSb-9jB"
   },
   "source": [
    "# Import Required Libraries\n",
    "This cell imports the libraries necessary for the project:\n",
    "- `pandas`: For data manipulation and analysis.\n",
    "- `Counter` from `collections`: To count occurrences of hazard and product classes.\n",
    "- `MarianMTModel` and `MarianTokenizer` from `transformers`: For translation models used in back-translation.\n",
    "- `wordnet` from `nltk`: For obtaining synonyms of words.\n",
    "- `torch`: For GPU support and managing computations.\n",
    "- `random`: For random operations in augmentations.\n",
    "- `nltk`: For natural language processing tasks.\n"
   ]
  },
  {
   "cell_type": "code",
   "execution_count": null,
   "metadata": {
    "id": "bSqlc0P4_Bpb"
   },
   "outputs": [],
   "source": [
    "import pandas as pd\n",
    "from transformers import pipeline\n",
    "from torch.utils.data import DataLoader, Dataset\n",
    "from nltk.corpus import wordnet\n",
    "import torch\n",
    "import nltk\n",
    "from tqdm import tqdm"
   ]
  },
  {
   "cell_type": "markdown",
   "metadata": {
    "id": "v-vmU5xe_Esk"
   },
   "source": [
    "# Download NLTK WordNet\n",
    "The WordNet lexical database is required to find synonyms during text augmentation. This step ensures it's downloaded and ready for use.\n"
   ]
  },
  {
   "cell_type": "code",
   "execution_count": null,
   "metadata": {
    "colab": {
     "base_uri": "https://localhost:8080/"
    },
    "executionInfo": {
     "elapsed": 3,
     "status": "ok",
     "timestamp": 1732376572745,
     "user": {
      "displayName": "Stelios Giagkos",
      "userId": "06441279652746263838"
     },
     "user_tz": -120
    },
    "id": "BxNGiRUo_Fjt",
    "outputId": "8202a658-5e32-4c56-c928-817b35754756"
   },
   "outputs": [
    {
     "data": {
      "text/plain": [
       "True"
      ]
     },
     "execution_count": 3,
     "metadata": {},
     "output_type": "execute_result"
    }
   ],
   "source": [
    "nltk.download('wordnet')\n"
   ]
  },
  {
   "cell_type": "markdown",
   "metadata": {
    "id": "sY3fSAgF_IPr"
   },
   "source": [
    "# Check if GPU Support is Available\n",
    "This step checks whether a GPU is available and sets the device accordingly. If a GPU is available, it will be used for computations to speed up model processing.\n"
   ]
  },
  {
   "cell_type": "code",
   "execution_count": null,
   "metadata": {
    "id": "BbfRKhWp_JWr"
   },
   "outputs": [],
   "source": [
    "device = torch.device('cuda' if torch.cuda.is_available() else 'cpu')\n"
   ]
  },
  {
   "cell_type": "markdown",
   "metadata": {
    "id": "xLcHvYD3_Uz1"
   },
   "source": [
    "# Load the Dataset\n",
    "The dataset is loaded from your Google Drive into a Pandas DataFrame for analysis. The file path is specified, and the dataset is assumed to be in CSV format.\n"
   ]
  },
  {
   "cell_type": "code",
   "execution_count": null,
   "metadata": {
    "id": "Gu0tdQK5_WJ2"
   },
   "outputs": [],
   "source": [
    "file_path = '/content/drive/MyDrive/Data/incidents_train.csv'\n",
    "df = pd.read_csv(file_path)"
   ]
  },
  {
   "cell_type": "markdown",
   "metadata": {
    "id": "90e4qyWv_X3r"
   },
   "source": [
    "# Set a target threshold for balancing\n",
    "To ensure balanced datasets for classification tasks, a target threshold is defined. This threshold helps limit the number of examples per class for specific target columns to improve model performance and prevent class imbalance issues. The selected columns are:\n",
    "\n",
    "- `hazard`\n",
    "- `product`\n",
    "- `hazard-category`\n",
    "- `product-category`\n",
    "\n",
    "The threshold value is set to `100`, meaning that the number of examples per class in these columns will be capped at this value during preprocessing.\n"
   ]
  },
  {
   "cell_type": "code",
   "execution_count": null,
   "metadata": {
    "id": "o8l4o1Z4_awY"
   },
   "outputs": [],
   "source": [
    "# Set a target threshold for balancing\n",
    "TARGET_THRESHOLD = 30\n",
    "TARGET_COLUMNS = ['hazard', 'product']\n",
    "\n"
   ]
  },
  {
   "cell_type": "markdown",
   "metadata": {
    "id": "_y2ztBns_mUy"
   },
   "source": [
    "# Translation Pipeline and Dataset Class\n",
    "This section includes the implementation of a translation pipeline for English-French and French-English translations, utilizing the `Helsinki-NLP/opus-mt` models. The pipeline dynamically selects GPU or CPU based on availability to optimize performance.\n",
    "\n",
    "Additionally, a custom `Dataset` class is defined for batch processing of text data, which is essential for efficient translation and further processing of large datasets."
   ]
  },
  {
   "cell_type": "code",
   "execution_count": null,
   "metadata": {
    "colab": {
     "base_uri": "https://localhost:8080/"
    },
    "executionInfo": {
     "elapsed": 5171,
     "status": "ok",
     "timestamp": 1732376578395,
     "user": {
      "displayName": "Stelios Giagkos",
      "userId": "06441279652746263838"
     },
     "user_tz": -120
    },
    "id": "Dq_QWLNq_n2C",
    "outputId": "8528a117-2722-44f9-ffad-538b8350ed6d"
   },
   "outputs": [
    {
     "name": "stdout",
     "output_type": "stream",
     "text": [
      "Loading translation pipeline for en → fr...\n"
     ]
    },
    {
     "name": "stdout",
     "output_type": "stream",
     "text": [
      "Translation pipeline for en → fr loaded successfully.\n",
      "Loading translation pipeline for fr → en...\n",
      "Translation pipeline for fr → en loaded successfully.\n"
     ]
    }
   ],
   "source": [
    "# Load translation pipeline\n",
    "def load_translation_pipeline(source_lang=\"en\", target_lang=\"fr\"):\n",
    "    print(f\"Loading translation pipeline for {source_lang} → {target_lang}...\")\n",
    "    pipeline_instance = pipeline(\n",
    "        \"translation\",\n",
    "        model=f\"Helsinki-NLP/opus-mt-{source_lang}-{target_lang}\",\n",
    "        tokenizer=f\"Helsinki-NLP/opus-mt-{source_lang}-{target_lang}\",\n",
    "        device=0 if torch.cuda.is_available() else -1,\n",
    "    )\n",
    "    print(f\"Translation pipeline for {source_lang} → {target_lang} loaded successfully.\")\n",
    "    return pipeline_instance\n",
    "\n",
    "translate_en_to_fr = load_translation_pipeline(\"en\", \"fr\")\n",
    "translate_fr_to_en = load_translation_pipeline(\"fr\", \"en\")\n",
    "\n",
    "# Dataset class for batch processing\n",
    "class TextDataset(Dataset):\n",
    "    def __init__(self, texts):\n",
    "        self.texts = texts\n",
    "\n",
    "    def __len__(self):\n",
    "        return len(self.texts)\n",
    "\n",
    "    def __getitem__(self, idx):\n",
    "        return self.texts[idx]"
   ]
  },
  {
   "cell_type": "markdown",
   "metadata": {
    "id": "IvUTVfUU_qI_"
   },
   "source": [
    "# Back-Translation with Batch Processing\n",
    "To augment datasets and enhance model robustness, a back-translation function is implemented. This process translates input texts to a target language (French) and back to the source language (English). The function supports batch processing using PyTorch's `DataLoader` for efficient handling of large datasets.\n",
    "\n",
    "Key Features:\n",
    "- Batch size and maximum sequence length can be configured.\n",
    "- Long texts are truncated to the specified `max_length`.\n",
    "- Translations are performed using the pre-loaded pipelines for English-French and French-English translations."
   ]
  },
  {
   "cell_type": "code",
   "execution_count": null,
   "metadata": {
    "id": "dpxgFWmZ_q9v"
   },
   "outputs": [],
   "source": [
    "# Back-translation with batch processing\n",
    "def back_translate_batch(texts, batch_size=16, max_length=512):\n",
    "    print(f\"Starting back-translation for {len(texts)} texts...\")\n",
    "    dataset = TextDataset(texts)\n",
    "    dataloader = DataLoader(dataset, batch_size=batch_size)\n",
    "\n",
    "    back_translated_texts = []\n",
    "    for batch in tqdm(dataloader, desc=\"Back-translation\"):\n",
    "        inputs = translate_en_to_fr.tokenizer(batch, return_tensors=\"pt\", truncation=True, padding=True, max_length=max_length).to(device)\n",
    "        with torch.no_grad():\n",
    "            translated_tokens = translate_en_to_fr.model.generate(**inputs)\n",
    "        fr_texts = translate_en_to_fr.tokenizer.batch_decode(translated_tokens, skip_special_tokens=True)\n",
    "\n",
    "        back_inputs = translate_fr_to_en.tokenizer(fr_texts, return_tensors=\"pt\", truncation=True, padding=True, max_length=max_length).to(device)\n",
    "        with torch.no_grad():\n",
    "            back_translated_tokens = translate_fr_to_en.model.generate(**back_inputs)\n",
    "        en_texts = translate_fr_to_en.tokenizer.batch_decode(back_translated_tokens, skip_special_tokens=True)\n",
    "\n",
    "        back_translated_texts.extend(en_texts)\n",
    "\n",
    "    print(\"Back-translation completed.\")\n",
    "    return back_translated_texts\n"
   ]
  },
  {
   "cell_type": "markdown",
   "metadata": {
    "id": "vegeezZJ_uko"
   },
   "source": [
    "# Data Augmentation and Balancing for Target Classes\n",
    "\n",
    "To handle class imbalances in the dataset, two key techniques are applied:\n",
    "\n",
    "1. **Data Augmentation for Underrepresented Classes**  \n",
    "   Underrepresented classes are augmented to reach a specified target count using back-translation. This ensures diversity in the generated data while maintaining the original context.\n",
    "\n",
    "2. **Downsampling Overrepresented Classes**  \n",
    "   Overrepresented classes are downsampled to 60% of the initial size. This reduces the dominance of larger classes, ensuring balanced datasets.\n",
    "\n",
    "These processes are applied iteratively across all target columns to create a balanced dataset for classification tasks.\n"
   ]
  },
  {
   "cell_type": "code",
   "execution_count": null,
   "metadata": {
    "id": "-pm5V5xy_x-h"
   },
   "outputs": [],
   "source": [
    "# Augment underrepresented classes\n",
    "def augment_class(rows, target_count, batch_size=16):\n",
    "    augmented_rows = []\n",
    "    current_count = len(rows)\n",
    "    texts = rows['text'].tolist()\n",
    "    print(f\"Augmenting class with {current_count} rows to reach {target_count} rows...\")\n",
    "\n",
    "    while current_count < target_count:\n",
    "        new_texts = back_translate_batch(texts, batch_size=batch_size)\n",
    "        augmented_rows.extend([{**row, 'text': text} for row, text in zip(rows.to_dict('records'), new_texts)])\n",
    "        current_count += len(new_texts)\n",
    "        print(f\"Augmented rows: {current_count}/{target_count}\")\n",
    "\n",
    "    print(f\"Class augmentation completed. Total rows: {current_count}.\")\n",
    "    return augmented_rows\n",
    "\n",
    "# Downsample overrepresented classes\n",
    "def downsample_class(rows, target_count):\n",
    "    target_count = int(target_count)  # Convert to integer\n",
    "    print(f\"Downsampling class from {len(rows)} rows to {target_count} rows...\")\n",
    "    downsampled = rows.sample(n=target_count, random_state=42)\n",
    "    print(\"Downsampling completed.\")\n",
    "    return downsampled\n"
   ]
  },
  {
   "cell_type": "markdown",
   "metadata": {
    "id": "1FKgGla8_3vt"
   },
   "source": [
    "# Balancing Classes for Target Columns\n",
    "\n",
    "To address class imbalances for each target column, the following steps are performed:\n",
    "\n",
    "1. **Identify Underrepresented and Overrepresented Classes**  \n",
    "   Class distributions are analyzed to identify classes with counts below or above the specified `TARGET_THRESHOLD`.\n",
    "\n",
    "2. **Augment Underrepresented Classes**  \n",
    "   Rows from underrepresented classes are augmented using back-translation to reach the target threshold. This enriches the dataset with diverse examples for these classes.\n",
    "\n",
    "3. **Downsample Overrepresented Classes**  \n",
    "   Rows from overrepresented classes are downsampled to 60% to reduce their dominance and ensure class balance if the target threshold is met .\n",
    "\n",
    "This process is applied iteratively for all specified target columns, resulting in a balanced dataset that aims to improve the model's ability to handle class imbalances effectively.\n"
   ]
  },
  {
   "cell_type": "code",
   "execution_count": null,
   "metadata": {
    "colab": {
     "base_uri": "https://localhost:8080/"
    },
    "collapsed": true,
    "executionInfo": {
     "elapsed": 2433,
     "status": "ok",
     "timestamp": 1732376580825,
     "user": {
      "displayName": "Stelios Giagkos",
      "userId": "06441279652746263838"
     },
     "user_tz": -120
    },
    "id": "Yhsfl33he_pe",
    "outputId": "43fd95cc-40a8-42bf-fe83-6abfca53400d"
   },
   "outputs": [
    {
     "name": "stdout",
     "output_type": "stream",
     "text": [
      "Requirement already satisfied: papermill in /usr/local/lib/python3.10/dist-packages (2.6.0)\n",
      "Requirement already satisfied: click in /usr/local/lib/python3.10/dist-packages (from papermill) (8.1.7)\n",
      "Requirement already satisfied: pyyaml in /usr/local/lib/python3.10/dist-packages (from papermill) (6.0.2)\n",
      "Requirement already satisfied: nbformat>=5.2.0 in /usr/local/lib/python3.10/dist-packages (from papermill) (5.10.4)\n",
      "Requirement already satisfied: nbclient>=0.2.0 in /usr/local/lib/python3.10/dist-packages (from papermill) (0.10.0)\n",
      "Requirement already satisfied: tqdm>=4.32.2 in /usr/local/lib/python3.10/dist-packages (from papermill) (4.66.6)\n",
      "Requirement already satisfied: requests in /usr/local/lib/python3.10/dist-packages (from papermill) (2.32.3)\n",
      "Requirement already satisfied: entrypoints in /usr/local/lib/python3.10/dist-packages (from papermill) (0.4)\n",
      "Requirement already satisfied: tenacity>=5.0.2 in /usr/local/lib/python3.10/dist-packages (from papermill) (9.0.0)\n",
      "Requirement already satisfied: ansicolors in /usr/local/lib/python3.10/dist-packages (from papermill) (1.1.8)\n",
      "Requirement already satisfied: jupyter-client>=6.1.12 in /usr/local/lib/python3.10/dist-packages (from nbclient>=0.2.0->papermill) (6.1.12)\n",
      "Requirement already satisfied: jupyter-core!=5.0.*,>=4.12 in /usr/local/lib/python3.10/dist-packages (from nbclient>=0.2.0->papermill) (5.7.2)\n",
      "Requirement already satisfied: traitlets>=5.4 in /usr/local/lib/python3.10/dist-packages (from nbclient>=0.2.0->papermill) (5.7.1)\n",
      "Requirement already satisfied: fastjsonschema>=2.15 in /usr/local/lib/python3.10/dist-packages (from nbformat>=5.2.0->papermill) (2.20.0)\n",
      "Requirement already satisfied: jsonschema>=2.6 in /usr/local/lib/python3.10/dist-packages (from nbformat>=5.2.0->papermill) (4.23.0)\n",
      "Requirement already satisfied: charset-normalizer<4,>=2 in /usr/local/lib/python3.10/dist-packages (from requests->papermill) (3.4.0)\n",
      "Requirement already satisfied: idna<4,>=2.5 in /usr/local/lib/python3.10/dist-packages (from requests->papermill) (3.10)\n",
      "Requirement already satisfied: urllib3<3,>=1.21.1 in /usr/local/lib/python3.10/dist-packages (from requests->papermill) (2.2.3)\n",
      "Requirement already satisfied: certifi>=2017.4.17 in /usr/local/lib/python3.10/dist-packages (from requests->papermill) (2024.8.30)\n",
      "Requirement already satisfied: attrs>=22.2.0 in /usr/local/lib/python3.10/dist-packages (from jsonschema>=2.6->nbformat>=5.2.0->papermill) (24.2.0)\n",
      "Requirement already satisfied: jsonschema-specifications>=2023.03.6 in /usr/local/lib/python3.10/dist-packages (from jsonschema>=2.6->nbformat>=5.2.0->papermill) (2024.10.1)\n",
      "Requirement already satisfied: referencing>=0.28.4 in /usr/local/lib/python3.10/dist-packages (from jsonschema>=2.6->nbformat>=5.2.0->papermill) (0.35.1)\n",
      "Requirement already satisfied: rpds-py>=0.7.1 in /usr/local/lib/python3.10/dist-packages (from jsonschema>=2.6->nbformat>=5.2.0->papermill) (0.21.0)\n",
      "Requirement already satisfied: pyzmq>=13 in /usr/local/lib/python3.10/dist-packages (from jupyter-client>=6.1.12->nbclient>=0.2.0->papermill) (24.0.1)\n",
      "Requirement already satisfied: python-dateutil>=2.1 in /usr/local/lib/python3.10/dist-packages (from jupyter-client>=6.1.12->nbclient>=0.2.0->papermill) (2.8.2)\n",
      "Requirement already satisfied: tornado>=4.1 in /usr/local/lib/python3.10/dist-packages (from jupyter-client>=6.1.12->nbclient>=0.2.0->papermill) (6.3.3)\n",
      "Requirement already satisfied: platformdirs>=2.5 in /usr/local/lib/python3.10/dist-packages (from jupyter-core!=5.0.*,>=4.12->nbclient>=0.2.0->papermill) (4.3.6)\n",
      "Requirement already satisfied: six>=1.5 in /usr/local/lib/python3.10/dist-packages (from python-dateutil>=2.1->jupyter-client>=6.1.12->nbclient>=0.2.0->papermill) (1.16.0)\n",
      "nohup: appending output to 'nohup.out'\n"
     ]
    }
   ],
   "source": [
    "!pip install papermill\n",
    "!nohup papermill data_augmentation.ipynb output_augmented.ipynb &\n"
   ]
  },
  {
   "cell_type": "code",
   "execution_count": null,
   "metadata": {
    "colab": {
     "base_uri": "https://localhost:8080/",
     "height": 1000
    },
    "executionInfo": {
     "elapsed": 13983373,
     "status": "error",
     "timestamp": 1732390564195,
     "user": {
      "displayName": "Stelios Giagkos",
      "userId": "06441279652746263838"
     },
     "user_tz": -120
    },
    "id": "-tJHgUVx_1qe",
    "outputId": "ee72dd0b-b07c-48e8-eaf4-4ce77e7f2a76"
   },
   "outputs": [
    {
     "name": "stdout",
     "output_type": "stream",
     "text": [
      "Starting dataset balancing...\n",
      "Processing column: hazard\n"
     ]
    },
    {
     "name": "stdout",
     "output_type": "stream",
     "text": [
      "Augmenting class with 29 rows to reach 30 rows...\n",
      "Starting back-translation for 29 texts...\n"
     ]
    },
    {
     "name": "stdout",
     "output_type": "stream",
     "text": [
      "Back-translation completed.\n",
      "Augmented rows: 58/30\n",
      "Class augmentation completed. Total rows: 58.\n",
      "Augmenting class with 29 rows to reach 30 rows...\n",
      "Starting back-translation for 29 texts...\n"
     ]
    },
    {
     "name": "stdout",
     "output_type": "stream",
     "text": [
      "Back-translation completed.\n",
      "Augmented rows: 58/30\n",
      "Class augmentation completed. Total rows: 58.\n",
      "Augmenting class with 28 rows to reach 30 rows...\n",
      "Starting back-translation for 28 texts...\n"
     ]
    },
    {
     "name": "stdout",
     "output_type": "stream",
     "text": [
      "Back-translation completed.\n",
      "Augmented rows: 56/30\n",
      "Class augmentation completed. Total rows: 56.\n",
      "Augmenting class with 28 rows to reach 30 rows...\n",
      "Starting back-translation for 28 texts...\n"
     ]
    },
    {
     "name": "stdout",
     "output_type": "stream",
     "text": [
      "Back-translation completed.\n",
      "Augmented rows: 56/30\n",
      "Class augmentation completed. Total rows: 56.\n",
      "Augmenting class with 28 rows to reach 30 rows...\n",
      "Starting back-translation for 28 texts...\n"
     ]
    },
    {
     "name": "stdout",
     "output_type": "stream",
     "text": [
      "Back-translation completed.\n",
      "Augmented rows: 56/30\n",
      "Class augmentation completed. Total rows: 56.\n",
      "Augmenting class with 23 rows to reach 30 rows...\n",
      "Starting back-translation for 23 texts...\n"
     ]
    },
    {
     "name": "stdout",
     "output_type": "stream",
     "text": [
      "Back-translation completed.\n",
      "Augmented rows: 46/30\n",
      "Class augmentation completed. Total rows: 46.\n",
      "Augmenting class with 22 rows to reach 30 rows...\n",
      "Starting back-translation for 22 texts...\n"
     ]
    },
    {
     "name": "stdout",
     "output_type": "stream",
     "text": [
      "Back-translation completed.\n",
      "Augmented rows: 44/30\n",
      "Class augmentation completed. Total rows: 44.\n",
      "Augmenting class with 22 rows to reach 30 rows...\n",
      "Starting back-translation for 22 texts...\n"
     ]
    },
    {
     "name": "stdout",
     "output_type": "stream",
     "text": [
      "Back-translation completed.\n",
      "Augmented rows: 44/30\n",
      "Class augmentation completed. Total rows: 44.\n",
      "Augmenting class with 22 rows to reach 30 rows...\n",
      "Starting back-translation for 22 texts...\n"
     ]
    },
    {
     "name": "stdout",
     "output_type": "stream",
     "text": [
      "Back-translation completed.\n",
      "Augmented rows: 44/30\n",
      "Class augmentation completed. Total rows: 44.\n",
      "Augmenting class with 22 rows to reach 30 rows...\n",
      "Starting back-translation for 22 texts...\n"
     ]
    },
    {
     "name": "stdout",
     "output_type": "stream",
     "text": [
      "Back-translation completed.\n",
      "Augmented rows: 44/30\n",
      "Class augmentation completed. Total rows: 44.\n",
      "Augmenting class with 21 rows to reach 30 rows...\n",
      "Starting back-translation for 21 texts...\n"
     ]
    },
    {
     "name": "stdout",
     "output_type": "stream",
     "text": [
      "Back-translation completed.\n",
      "Augmented rows: 42/30\n",
      "Class augmentation completed. Total rows: 42.\n",
      "Augmenting class with 21 rows to reach 30 rows...\n",
      "Starting back-translation for 21 texts...\n"
     ]
    },
    {
     "name": "stdout",
     "output_type": "stream",
     "text": [
      "Back-translation completed.\n",
      "Augmented rows: 42/30\n",
      "Class augmentation completed. Total rows: 42.\n",
      "Augmenting class with 20 rows to reach 30 rows...\n",
      "Starting back-translation for 20 texts...\n"
     ]
    },
    {
     "name": "stdout",
     "output_type": "stream",
     "text": [
      "Back-translation completed.\n",
      "Augmented rows: 40/30\n",
      "Class augmentation completed. Total rows: 40.\n",
      "Augmenting class with 19 rows to reach 30 rows...\n",
      "Starting back-translation for 19 texts...\n"
     ]
    },
    {
     "name": "stdout",
     "output_type": "stream",
     "text": [
      "Back-translation completed.\n",
      "Augmented rows: 38/30\n",
      "Class augmentation completed. Total rows: 38.\n",
      "Augmenting class with 18 rows to reach 30 rows...\n",
      "Starting back-translation for 18 texts...\n"
     ]
    },
    {
     "name": "stdout",
     "output_type": "stream",
     "text": [
      "Back-translation completed.\n",
      "Augmented rows: 36/30\n",
      "Class augmentation completed. Total rows: 36.\n",
      "Augmenting class with 17 rows to reach 30 rows...\n",
      "Starting back-translation for 17 texts...\n"
     ]
    },
    {
     "name": "stdout",
     "output_type": "stream",
     "text": [
      "Back-translation completed.\n",
      "Augmented rows: 34/30\n",
      "Class augmentation completed. Total rows: 34.\n",
      "Augmenting class with 17 rows to reach 30 rows...\n",
      "Starting back-translation for 17 texts...\n"
     ]
    },
    {
     "name": "stdout",
     "output_type": "stream",
     "text": [
      "Back-translation completed.\n",
      "Augmented rows: 34/30\n",
      "Class augmentation completed. Total rows: 34.\n",
      "Augmenting class with 17 rows to reach 30 rows...\n",
      "Starting back-translation for 17 texts...\n"
     ]
    },
    {
     "name": "stdout",
     "output_type": "stream",
     "text": [
      "Back-translation completed.\n",
      "Augmented rows: 34/30\n",
      "Class augmentation completed. Total rows: 34.\n",
      "Augmenting class with 16 rows to reach 30 rows...\n",
      "Starting back-translation for 16 texts...\n"
     ]
    },
    {
     "name": "stdout",
     "output_type": "stream",
     "text": [
      "Back-translation completed.\n",
      "Augmented rows: 32/30\n",
      "Class augmentation completed. Total rows: 32.\n",
      "Augmenting class with 16 rows to reach 30 rows...\n",
      "Starting back-translation for 16 texts...\n"
     ]
    },
    {
     "name": "stdout",
     "output_type": "stream",
     "text": [
      "Back-translation completed.\n",
      "Augmented rows: 32/30\n",
      "Class augmentation completed. Total rows: 32.\n",
      "Augmenting class with 14 rows to reach 30 rows...\n",
      "Starting back-translation for 14 texts...\n"
     ]
    },
    {
     "name": "stdout",
     "output_type": "stream",
     "text": [
      "Back-translation completed.\n",
      "Augmented rows: 28/30\n",
      "Starting back-translation for 14 texts...\n"
     ]
    },
    {
     "name": "stdout",
     "output_type": "stream",
     "text": [
      "Back-translation completed.\n",
      "Augmented rows: 42/30\n",
      "Class augmentation completed. Total rows: 42.\n",
      "Augmenting class with 13 rows to reach 30 rows...\n",
      "Starting back-translation for 13 texts...\n"
     ]
    },
    {
     "name": "stdout",
     "output_type": "stream",
     "text": [
      "Back-translation completed.\n",
      "Augmented rows: 26/30\n",
      "Starting back-translation for 13 texts...\n"
     ]
    },
    {
     "name": "stdout",
     "output_type": "stream",
     "text": [
      "Back-translation completed.\n",
      "Augmented rows: 39/30\n",
      "Class augmentation completed. Total rows: 39.\n",
      "Augmenting class with 13 rows to reach 30 rows...\n",
      "Starting back-translation for 13 texts...\n"
     ]
    },
    {
     "name": "stdout",
     "output_type": "stream",
     "text": [
      "Back-translation completed.\n",
      "Augmented rows: 26/30\n",
      "Starting back-translation for 13 texts...\n"
     ]
    },
    {
     "name": "stdout",
     "output_type": "stream",
     "text": [
      "Back-translation completed.\n",
      "Augmented rows: 39/30\n",
      "Class augmentation completed. Total rows: 39.\n",
      "Augmenting class with 13 rows to reach 30 rows...\n",
      "Starting back-translation for 13 texts...\n"
     ]
    },
    {
     "name": "stdout",
     "output_type": "stream",
     "text": [
      "Back-translation completed.\n",
      "Augmented rows: 26/30\n",
      "Starting back-translation for 13 texts...\n"
     ]
    },
    {
     "name": "stdout",
     "output_type": "stream",
     "text": [
      "Back-translation completed.\n",
      "Augmented rows: 39/30\n",
      "Class augmentation completed. Total rows: 39.\n",
      "Augmenting class with 13 rows to reach 30 rows...\n",
      "Starting back-translation for 13 texts...\n"
     ]
    },
    {
     "name": "stdout",
     "output_type": "stream",
     "text": [
      "Back-translation completed.\n",
      "Augmented rows: 26/30\n",
      "Starting back-translation for 13 texts...\n"
     ]
    },
    {
     "name": "stdout",
     "output_type": "stream",
     "text": [
      "Back-translation completed.\n",
      "Augmented rows: 39/30\n",
      "Class augmentation completed. Total rows: 39.\n",
      "Augmenting class with 12 rows to reach 30 rows...\n",
      "Starting back-translation for 12 texts...\n"
     ]
    },
    {
     "name": "stdout",
     "output_type": "stream",
     "text": [
      "Back-translation completed.\n",
      "Augmented rows: 24/30\n",
      "Starting back-translation for 12 texts...\n"
     ]
    },
    {
     "name": "stdout",
     "output_type": "stream",
     "text": [
      "Back-translation completed.\n",
      "Augmented rows: 36/30\n",
      "Class augmentation completed. Total rows: 36.\n",
      "Augmenting class with 12 rows to reach 30 rows...\n",
      "Starting back-translation for 12 texts...\n"
     ]
    },
    {
     "name": "stdout",
     "output_type": "stream",
     "text": [
      "Back-translation completed.\n",
      "Augmented rows: 24/30\n",
      "Starting back-translation for 12 texts...\n"
     ]
    },
    {
     "name": "stdout",
     "output_type": "stream",
     "text": [
      "Back-translation completed.\n",
      "Augmented rows: 36/30\n",
      "Class augmentation completed. Total rows: 36.\n",
      "Augmenting class with 12 rows to reach 30 rows...\n",
      "Starting back-translation for 12 texts...\n"
     ]
    },
    {
     "name": "stdout",
     "output_type": "stream",
     "text": [
      "Back-translation completed.\n",
      "Augmented rows: 24/30\n",
      "Starting back-translation for 12 texts...\n"
     ]
    },
    {
     "name": "stdout",
     "output_type": "stream",
     "text": [
      "Back-translation completed.\n",
      "Augmented rows: 36/30\n",
      "Class augmentation completed. Total rows: 36.\n",
      "Augmenting class with 11 rows to reach 30 rows...\n",
      "Starting back-translation for 11 texts...\n"
     ]
    },
    {
     "name": "stdout",
     "output_type": "stream",
     "text": [
      "Back-translation completed.\n",
      "Augmented rows: 22/30\n",
      "Starting back-translation for 11 texts...\n"
     ]
    },
    {
     "name": "stdout",
     "output_type": "stream",
     "text": [
      "Back-translation completed.\n",
      "Augmented rows: 33/30\n",
      "Class augmentation completed. Total rows: 33.\n",
      "Augmenting class with 10 rows to reach 30 rows...\n",
      "Starting back-translation for 10 texts...\n"
     ]
    },
    {
     "name": "stdout",
     "output_type": "stream",
     "text": [
      "Back-translation completed.\n",
      "Augmented rows: 20/30\n",
      "Starting back-translation for 10 texts...\n"
     ]
    },
    {
     "name": "stdout",
     "output_type": "stream",
     "text": [
      "Back-translation completed.\n",
      "Augmented rows: 30/30\n",
      "Class augmentation completed. Total rows: 30.\n",
      "Augmenting class with 10 rows to reach 30 rows...\n",
      "Starting back-translation for 10 texts...\n"
     ]
    },
    {
     "name": "stdout",
     "output_type": "stream",
     "text": [
      "Back-translation completed.\n",
      "Augmented rows: 20/30\n",
      "Starting back-translation for 10 texts...\n"
     ]
    },
    {
     "name": "stdout",
     "output_type": "stream",
     "text": [
      "Back-translation completed.\n",
      "Augmented rows: 30/30\n",
      "Class augmentation completed. Total rows: 30.\n",
      "Augmenting class with 10 rows to reach 30 rows...\n",
      "Starting back-translation for 10 texts...\n"
     ]
    },
    {
     "name": "stdout",
     "output_type": "stream",
     "text": [
      "Back-translation completed.\n",
      "Augmented rows: 20/30\n",
      "Starting back-translation for 10 texts...\n"
     ]
    },
    {
     "name": "stdout",
     "output_type": "stream",
     "text": [
      "Back-translation completed.\n",
      "Augmented rows: 30/30\n",
      "Class augmentation completed. Total rows: 30.\n",
      "Augmenting class with 10 rows to reach 30 rows...\n",
      "Starting back-translation for 10 texts...\n"
     ]
    },
    {
     "name": "stdout",
     "output_type": "stream",
     "text": [
      "Back-translation completed.\n",
      "Augmented rows: 20/30\n",
      "Starting back-translation for 10 texts...\n"
     ]
    },
    {
     "name": "stdout",
     "output_type": "stream",
     "text": [
      "Back-translation completed.\n",
      "Augmented rows: 30/30\n",
      "Class augmentation completed. Total rows: 30.\n",
      "Augmenting class with 9 rows to reach 30 rows...\n",
      "Starting back-translation for 9 texts...\n"
     ]
    },
    {
     "name": "stdout",
     "output_type": "stream",
     "text": [
      "Back-translation completed.\n",
      "Augmented rows: 18/30\n",
      "Starting back-translation for 9 texts...\n"
     ]
    },
    {
     "name": "stdout",
     "output_type": "stream",
     "text": [
      "Back-translation completed.\n",
      "Augmented rows: 27/30\n",
      "Starting back-translation for 9 texts...\n"
     ]
    },
    {
     "name": "stdout",
     "output_type": "stream",
     "text": [
      "Back-translation completed.\n",
      "Augmented rows: 36/30\n",
      "Class augmentation completed. Total rows: 36.\n",
      "Augmenting class with 9 rows to reach 30 rows...\n",
      "Starting back-translation for 9 texts...\n"
     ]
    },
    {
     "name": "stdout",
     "output_type": "stream",
     "text": [
      "Back-translation completed.\n",
      "Augmented rows: 18/30\n",
      "Starting back-translation for 9 texts...\n"
     ]
    },
    {
     "name": "stdout",
     "output_type": "stream",
     "text": [
      "Back-translation completed.\n",
      "Augmented rows: 27/30\n",
      "Starting back-translation for 9 texts...\n"
     ]
    },
    {
     "name": "stdout",
     "output_type": "stream",
     "text": [
      "Back-translation completed.\n",
      "Augmented rows: 36/30\n",
      "Class augmentation completed. Total rows: 36.\n",
      "Augmenting class with 9 rows to reach 30 rows...\n",
      "Starting back-translation for 9 texts...\n"
     ]
    },
    {
     "name": "stdout",
     "output_type": "stream",
     "text": [
      "Back-translation completed.\n",
      "Augmented rows: 18/30\n",
      "Starting back-translation for 9 texts...\n"
     ]
    },
    {
     "name": "stdout",
     "output_type": "stream",
     "text": [
      "Back-translation completed.\n",
      "Augmented rows: 27/30\n",
      "Starting back-translation for 9 texts...\n"
     ]
    },
    {
     "name": "stdout",
     "output_type": "stream",
     "text": [
      "Back-translation completed.\n",
      "Augmented rows: 36/30\n",
      "Class augmentation completed. Total rows: 36.\n",
      "Augmenting class with 9 rows to reach 30 rows...\n",
      "Starting back-translation for 9 texts...\n"
     ]
    },
    {
     "name": "stdout",
     "output_type": "stream",
     "text": [
      "Back-translation completed.\n",
      "Augmented rows: 18/30\n",
      "Starting back-translation for 9 texts...\n"
     ]
    },
    {
     "name": "stdout",
     "output_type": "stream",
     "text": [
      "Back-translation completed.\n",
      "Augmented rows: 27/30\n",
      "Starting back-translation for 9 texts...\n"
     ]
    },
    {
     "name": "stdout",
     "output_type": "stream",
     "text": [
      "Back-translation completed.\n",
      "Augmented rows: 36/30\n",
      "Class augmentation completed. Total rows: 36.\n",
      "Augmenting class with 8 rows to reach 30 rows...\n",
      "Starting back-translation for 8 texts...\n"
     ]
    },
    {
     "name": "stdout",
     "output_type": "stream",
     "text": [
      "Back-translation completed.\n",
      "Augmented rows: 16/30\n",
      "Starting back-translation for 8 texts...\n"
     ]
    },
    {
     "name": "stdout",
     "output_type": "stream",
     "text": [
      "Back-translation completed.\n",
      "Augmented rows: 24/30\n",
      "Starting back-translation for 8 texts...\n"
     ]
    },
    {
     "name": "stdout",
     "output_type": "stream",
     "text": [
      "Back-translation completed.\n",
      "Augmented rows: 32/30\n",
      "Class augmentation completed. Total rows: 32.\n",
      "Augmenting class with 8 rows to reach 30 rows...\n",
      "Starting back-translation for 8 texts...\n"
     ]
    },
    {
     "name": "stdout",
     "output_type": "stream",
     "text": [
      "Back-translation completed.\n",
      "Augmented rows: 16/30\n",
      "Starting back-translation for 8 texts...\n"
     ]
    },
    {
     "name": "stdout",
     "output_type": "stream",
     "text": [
      "Back-translation completed.\n",
      "Augmented rows: 24/30\n",
      "Starting back-translation for 8 texts...\n"
     ]
    },
    {
     "name": "stdout",
     "output_type": "stream",
     "text": [
      "Back-translation completed.\n",
      "Augmented rows: 32/30\n",
      "Class augmentation completed. Total rows: 32.\n",
      "Augmenting class with 8 rows to reach 30 rows...\n",
      "Starting back-translation for 8 texts...\n"
     ]
    },
    {
     "name": "stdout",
     "output_type": "stream",
     "text": [
      "Back-translation completed.\n",
      "Augmented rows: 16/30\n",
      "Starting back-translation for 8 texts...\n"
     ]
    },
    {
     "name": "stdout",
     "output_type": "stream",
     "text": [
      "Back-translation completed.\n",
      "Augmented rows: 24/30\n",
      "Starting back-translation for 8 texts...\n"
     ]
    },
    {
     "name": "stdout",
     "output_type": "stream",
     "text": [
      "Back-translation completed.\n",
      "Augmented rows: 32/30\n",
      "Class augmentation completed. Total rows: 32.\n",
      "Augmenting class with 7 rows to reach 30 rows...\n",
      "Starting back-translation for 7 texts...\n"
     ]
    },
    {
     "name": "stdout",
     "output_type": "stream",
     "text": [
      "Back-translation completed.\n",
      "Augmented rows: 14/30\n",
      "Starting back-translation for 7 texts...\n"
     ]
    },
    {
     "name": "stdout",
     "output_type": "stream",
     "text": [
      "Back-translation completed.\n",
      "Augmented rows: 21/30\n",
      "Starting back-translation for 7 texts...\n"
     ]
    },
    {
     "name": "stdout",
     "output_type": "stream",
     "text": [
      "Back-translation completed.\n",
      "Augmented rows: 28/30\n",
      "Starting back-translation for 7 texts...\n"
     ]
    },
    {
     "name": "stdout",
     "output_type": "stream",
     "text": [
      "Back-translation completed.\n",
      "Augmented rows: 35/30\n",
      "Class augmentation completed. Total rows: 35.\n",
      "Augmenting class with 7 rows to reach 30 rows...\n",
      "Starting back-translation for 7 texts...\n"
     ]
    },
    {
     "name": "stdout",
     "output_type": "stream",
     "text": [
      "Back-translation completed.\n",
      "Augmented rows: 14/30\n",
      "Starting back-translation for 7 texts...\n"
     ]
    },
    {
     "name": "stdout",
     "output_type": "stream",
     "text": [
      "Back-translation completed.\n",
      "Augmented rows: 21/30\n",
      "Starting back-translation for 7 texts...\n"
     ]
    },
    {
     "name": "stdout",
     "output_type": "stream",
     "text": [
      "Back-translation completed.\n",
      "Augmented rows: 28/30\n",
      "Starting back-translation for 7 texts...\n"
     ]
    },
    {
     "name": "stdout",
     "output_type": "stream",
     "text": [
      "Back-translation completed.\n",
      "Augmented rows: 35/30\n",
      "Class augmentation completed. Total rows: 35.\n",
      "Augmenting class with 7 rows to reach 30 rows...\n",
      "Starting back-translation for 7 texts...\n"
     ]
    },
    {
     "name": "stdout",
     "output_type": "stream",
     "text": [
      "Back-translation completed.\n",
      "Augmented rows: 14/30\n",
      "Starting back-translation for 7 texts...\n"
     ]
    },
    {
     "name": "stdout",
     "output_type": "stream",
     "text": [
      "Back-translation completed.\n",
      "Augmented rows: 21/30\n",
      "Starting back-translation for 7 texts...\n"
     ]
    },
    {
     "name": "stdout",
     "output_type": "stream",
     "text": [
      "Back-translation completed.\n",
      "Augmented rows: 28/30\n",
      "Starting back-translation for 7 texts...\n"
     ]
    },
    {
     "name": "stdout",
     "output_type": "stream",
     "text": [
      "Back-translation completed.\n",
      "Augmented rows: 35/30\n",
      "Class augmentation completed. Total rows: 35.\n",
      "Augmenting class with 7 rows to reach 30 rows...\n",
      "Starting back-translation for 7 texts...\n"
     ]
    },
    {
     "name": "stdout",
     "output_type": "stream",
     "text": [
      "Back-translation completed.\n",
      "Augmented rows: 14/30\n",
      "Starting back-translation for 7 texts...\n"
     ]
    },
    {
     "name": "stdout",
     "output_type": "stream",
     "text": [
      "Back-translation completed.\n",
      "Augmented rows: 21/30\n",
      "Starting back-translation for 7 texts...\n"
     ]
    },
    {
     "name": "stdout",
     "output_type": "stream",
     "text": [
      "Back-translation completed.\n",
      "Augmented rows: 28/30\n",
      "Starting back-translation for 7 texts...\n"
     ]
    },
    {
     "name": "stdout",
     "output_type": "stream",
     "text": [
      "Back-translation completed.\n",
      "Augmented rows: 35/30\n",
      "Class augmentation completed. Total rows: 35.\n",
      "Augmenting class with 7 rows to reach 30 rows...\n",
      "Starting back-translation for 7 texts...\n"
     ]
    },
    {
     "name": "stdout",
     "output_type": "stream",
     "text": [
      "Back-translation completed.\n",
      "Augmented rows: 14/30\n",
      "Starting back-translation for 7 texts...\n"
     ]
    },
    {
     "name": "stdout",
     "output_type": "stream",
     "text": [
      "Back-translation completed.\n",
      "Augmented rows: 21/30\n",
      "Starting back-translation for 7 texts...\n"
     ]
    },
    {
     "name": "stdout",
     "output_type": "stream",
     "text": [
      "Back-translation completed.\n",
      "Augmented rows: 28/30\n",
      "Starting back-translation for 7 texts...\n"
     ]
    },
    {
     "name": "stdout",
     "output_type": "stream",
     "text": [
      "Back-translation completed.\n",
      "Augmented rows: 35/30\n",
      "Class augmentation completed. Total rows: 35.\n",
      "Augmenting class with 7 rows to reach 30 rows...\n",
      "Starting back-translation for 7 texts...\n"
     ]
    },
    {
     "name": "stdout",
     "output_type": "stream",
     "text": [
      "Back-translation completed.\n",
      "Augmented rows: 14/30\n",
      "Starting back-translation for 7 texts...\n"
     ]
    },
    {
     "name": "stdout",
     "output_type": "stream",
     "text": [
      "Back-translation completed.\n",
      "Augmented rows: 21/30\n",
      "Starting back-translation for 7 texts...\n"
     ]
    },
    {
     "name": "stdout",
     "output_type": "stream",
     "text": [
      "Back-translation completed.\n",
      "Augmented rows: 28/30\n",
      "Starting back-translation for 7 texts...\n"
     ]
    },
    {
     "name": "stdout",
     "output_type": "stream",
     "text": [
      "Back-translation completed.\n",
      "Augmented rows: 35/30\n",
      "Class augmentation completed. Total rows: 35.\n",
      "Augmenting class with 7 rows to reach 30 rows...\n",
      "Starting back-translation for 7 texts...\n"
     ]
    },
    {
     "name": "stdout",
     "output_type": "stream",
     "text": [
      "Back-translation completed.\n",
      "Augmented rows: 14/30\n",
      "Starting back-translation for 7 texts...\n"
     ]
    },
    {
     "name": "stdout",
     "output_type": "stream",
     "text": [
      "Back-translation completed.\n",
      "Augmented rows: 21/30\n",
      "Starting back-translation for 7 texts...\n"
     ]
    },
    {
     "name": "stdout",
     "output_type": "stream",
     "text": [
      "Back-translation completed.\n",
      "Augmented rows: 28/30\n",
      "Starting back-translation for 7 texts...\n"
     ]
    },
    {
     "name": "stdout",
     "output_type": "stream",
     "text": [
      "Back-translation completed.\n",
      "Augmented rows: 35/30\n",
      "Class augmentation completed. Total rows: 35.\n",
      "Augmenting class with 7 rows to reach 30 rows...\n",
      "Starting back-translation for 7 texts...\n"
     ]
    },
    {
     "name": "stdout",
     "output_type": "stream",
     "text": [
      "Back-translation completed.\n",
      "Augmented rows: 14/30\n",
      "Starting back-translation for 7 texts...\n"
     ]
    },
    {
     "name": "stdout",
     "output_type": "stream",
     "text": [
      "Back-translation completed.\n",
      "Augmented rows: 21/30\n",
      "Starting back-translation for 7 texts...\n"
     ]
    },
    {
     "name": "stdout",
     "output_type": "stream",
     "text": [
      "Back-translation completed.\n",
      "Augmented rows: 28/30\n",
      "Starting back-translation for 7 texts...\n"
     ]
    },
    {
     "name": "stdout",
     "output_type": "stream",
     "text": [
      "Back-translation completed.\n",
      "Augmented rows: 35/30\n",
      "Class augmentation completed. Total rows: 35.\n",
      "Augmenting class with 7 rows to reach 30 rows...\n",
      "Starting back-translation for 7 texts...\n"
     ]
    },
    {
     "name": "stdout",
     "output_type": "stream",
     "text": [
      "Back-translation completed.\n",
      "Augmented rows: 14/30\n",
      "Starting back-translation for 7 texts...\n"
     ]
    },
    {
     "name": "stdout",
     "output_type": "stream",
     "text": [
      "Back-translation completed.\n",
      "Augmented rows: 21/30\n",
      "Starting back-translation for 7 texts...\n"
     ]
    },
    {
     "name": "stdout",
     "output_type": "stream",
     "text": [
      "Back-translation completed.\n",
      "Augmented rows: 28/30\n",
      "Starting back-translation for 7 texts...\n"
     ]
    },
    {
     "name": "stdout",
     "output_type": "stream",
     "text": [
      "Back-translation completed.\n",
      "Augmented rows: 35/30\n",
      "Class augmentation completed. Total rows: 35.\n",
      "Augmenting class with 7 rows to reach 30 rows...\n",
      "Starting back-translation for 7 texts...\n"
     ]
    },
    {
     "name": "stdout",
     "output_type": "stream",
     "text": [
      "Back-translation completed.\n",
      "Augmented rows: 14/30\n",
      "Starting back-translation for 7 texts...\n"
     ]
    },
    {
     "name": "stdout",
     "output_type": "stream",
     "text": [
      "Back-translation completed.\n",
      "Augmented rows: 21/30\n",
      "Starting back-translation for 7 texts...\n"
     ]
    },
    {
     "name": "stdout",
     "output_type": "stream",
     "text": [
      "Back-translation completed.\n",
      "Augmented rows: 28/30\n",
      "Starting back-translation for 7 texts...\n"
     ]
    },
    {
     "name": "stdout",
     "output_type": "stream",
     "text": [
      "Back-translation completed.\n",
      "Augmented rows: 35/30\n",
      "Class augmentation completed. Total rows: 35.\n",
      "Augmenting class with 7 rows to reach 30 rows...\n",
      "Starting back-translation for 7 texts...\n"
     ]
    },
    {
     "name": "stdout",
     "output_type": "stream",
     "text": [
      "Back-translation completed.\n",
      "Augmented rows: 14/30\n",
      "Starting back-translation for 7 texts...\n"
     ]
    },
    {
     "name": "stdout",
     "output_type": "stream",
     "text": [
      "Back-translation completed.\n",
      "Augmented rows: 21/30\n",
      "Starting back-translation for 7 texts...\n"
     ]
    },
    {
     "name": "stdout",
     "output_type": "stream",
     "text": [
      "Back-translation completed.\n",
      "Augmented rows: 28/30\n",
      "Starting back-translation for 7 texts...\n"
     ]
    },
    {
     "name": "stdout",
     "output_type": "stream",
     "text": [
      "Back-translation completed.\n",
      "Augmented rows: 35/30\n",
      "Class augmentation completed. Total rows: 35.\n",
      "Augmenting class with 6 rows to reach 30 rows...\n",
      "Starting back-translation for 6 texts...\n"
     ]
    },
    {
     "name": "stdout",
     "output_type": "stream",
     "text": [
      "Back-translation completed.\n",
      "Augmented rows: 12/30\n",
      "Starting back-translation for 6 texts...\n"
     ]
    },
    {
     "name": "stdout",
     "output_type": "stream",
     "text": [
      "Back-translation completed.\n",
      "Augmented rows: 18/30\n",
      "Starting back-translation for 6 texts...\n"
     ]
    },
    {
     "name": "stdout",
     "output_type": "stream",
     "text": [
      "Back-translation completed.\n",
      "Augmented rows: 24/30\n",
      "Starting back-translation for 6 texts...\n"
     ]
    },
    {
     "name": "stdout",
     "output_type": "stream",
     "text": [
      "Back-translation completed.\n",
      "Augmented rows: 30/30\n",
      "Class augmentation completed. Total rows: 30.\n",
      "Augmenting class with 6 rows to reach 30 rows...\n",
      "Starting back-translation for 6 texts...\n"
     ]
    },
    {
     "name": "stdout",
     "output_type": "stream",
     "text": [
      "Back-translation completed.\n",
      "Augmented rows: 12/30\n",
      "Starting back-translation for 6 texts...\n"
     ]
    },
    {
     "name": "stdout",
     "output_type": "stream",
     "text": [
      "Back-translation completed.\n",
      "Augmented rows: 18/30\n",
      "Starting back-translation for 6 texts...\n"
     ]
    },
    {
     "name": "stdout",
     "output_type": "stream",
     "text": [
      "Back-translation completed.\n",
      "Augmented rows: 24/30\n",
      "Starting back-translation for 6 texts...\n"
     ]
    },
    {
     "name": "stdout",
     "output_type": "stream",
     "text": [
      "Back-translation completed.\n",
      "Augmented rows: 30/30\n",
      "Class augmentation completed. Total rows: 30.\n",
      "Augmenting class with 6 rows to reach 30 rows...\n",
      "Starting back-translation for 6 texts...\n"
     ]
    },
    {
     "name": "stdout",
     "output_type": "stream",
     "text": [
      "Back-translation completed.\n",
      "Augmented rows: 12/30\n",
      "Starting back-translation for 6 texts...\n"
     ]
    },
    {
     "name": "stdout",
     "output_type": "stream",
     "text": [
      "Back-translation completed.\n",
      "Augmented rows: 18/30\n",
      "Starting back-translation for 6 texts...\n"
     ]
    },
    {
     "name": "stdout",
     "output_type": "stream",
     "text": [
      "Back-translation completed.\n",
      "Augmented rows: 24/30\n",
      "Starting back-translation for 6 texts...\n"
     ]
    },
    {
     "name": "stdout",
     "output_type": "stream",
     "text": [
      "Back-translation completed.\n",
      "Augmented rows: 30/30\n",
      "Class augmentation completed. Total rows: 30.\n",
      "Augmenting class with 6 rows to reach 30 rows...\n",
      "Starting back-translation for 6 texts...\n"
     ]
    },
    {
     "name": "stdout",
     "output_type": "stream",
     "text": [
      "Back-translation completed.\n",
      "Augmented rows: 12/30\n",
      "Starting back-translation for 6 texts...\n"
     ]
    },
    {
     "name": "stdout",
     "output_type": "stream",
     "text": [
      "Back-translation completed.\n",
      "Augmented rows: 18/30\n",
      "Starting back-translation for 6 texts...\n"
     ]
    },
    {
     "name": "stdout",
     "output_type": "stream",
     "text": [
      "Back-translation completed.\n",
      "Augmented rows: 24/30\n",
      "Starting back-translation for 6 texts...\n"
     ]
    },
    {
     "name": "stdout",
     "output_type": "stream",
     "text": [
      "Back-translation completed.\n",
      "Augmented rows: 30/30\n",
      "Class augmentation completed. Total rows: 30.\n",
      "Augmenting class with 5 rows to reach 30 rows...\n",
      "Starting back-translation for 5 texts...\n"
     ]
    },
    {
     "name": "stdout",
     "output_type": "stream",
     "text": [
      "Back-translation completed.\n",
      "Augmented rows: 10/30\n",
      "Starting back-translation for 5 texts...\n"
     ]
    },
    {
     "name": "stdout",
     "output_type": "stream",
     "text": [
      "Back-translation completed.\n",
      "Augmented rows: 15/30\n",
      "Starting back-translation for 5 texts...\n"
     ]
    },
    {
     "name": "stdout",
     "output_type": "stream",
     "text": [
      "Back-translation completed.\n",
      "Augmented rows: 20/30\n",
      "Starting back-translation for 5 texts...\n"
     ]
    },
    {
     "name": "stdout",
     "output_type": "stream",
     "text": [
      "Back-translation completed.\n",
      "Augmented rows: 25/30\n",
      "Starting back-translation for 5 texts...\n"
     ]
    },
    {
     "name": "stdout",
     "output_type": "stream",
     "text": [
      "Back-translation completed.\n",
      "Augmented rows: 30/30\n",
      "Class augmentation completed. Total rows: 30.\n",
      "Augmenting class with 5 rows to reach 30 rows...\n",
      "Starting back-translation for 5 texts...\n"
     ]
    },
    {
     "name": "stdout",
     "output_type": "stream",
     "text": [
      "Back-translation completed.\n",
      "Augmented rows: 10/30\n",
      "Starting back-translation for 5 texts...\n"
     ]
    },
    {
     "name": "stdout",
     "output_type": "stream",
     "text": [
      "Back-translation completed.\n",
      "Augmented rows: 15/30\n",
      "Starting back-translation for 5 texts...\n"
     ]
    },
    {
     "name": "stdout",
     "output_type": "stream",
     "text": [
      "Back-translation completed.\n",
      "Augmented rows: 20/30\n",
      "Starting back-translation for 5 texts...\n"
     ]
    },
    {
     "name": "stdout",
     "output_type": "stream",
     "text": [
      "Back-translation completed.\n",
      "Augmented rows: 25/30\n",
      "Starting back-translation for 5 texts...\n"
     ]
    },
    {
     "name": "stdout",
     "output_type": "stream",
     "text": [
      "Back-translation completed.\n",
      "Augmented rows: 30/30\n",
      "Class augmentation completed. Total rows: 30.\n",
      "Augmenting class with 5 rows to reach 30 rows...\n",
      "Starting back-translation for 5 texts...\n"
     ]
    },
    {
     "name": "stdout",
     "output_type": "stream",
     "text": [
      "Back-translation completed.\n",
      "Augmented rows: 10/30\n",
      "Starting back-translation for 5 texts...\n"
     ]
    },
    {
     "name": "stdout",
     "output_type": "stream",
     "text": [
      "Back-translation completed.\n",
      "Augmented rows: 15/30\n",
      "Starting back-translation for 5 texts...\n"
     ]
    },
    {
     "name": "stdout",
     "output_type": "stream",
     "text": [
      "Back-translation completed.\n",
      "Augmented rows: 20/30\n",
      "Starting back-translation for 5 texts...\n"
     ]
    },
    {
     "name": "stdout",
     "output_type": "stream",
     "text": [
      "Back-translation completed.\n",
      "Augmented rows: 25/30\n",
      "Starting back-translation for 5 texts...\n"
     ]
    },
    {
     "name": "stdout",
     "output_type": "stream",
     "text": [
      "Back-translation completed.\n",
      "Augmented rows: 30/30\n",
      "Class augmentation completed. Total rows: 30.\n",
      "Augmenting class with 5 rows to reach 30 rows...\n",
      "Starting back-translation for 5 texts...\n"
     ]
    },
    {
     "name": "stdout",
     "output_type": "stream",
     "text": [
      "Back-translation completed.\n",
      "Augmented rows: 10/30\n",
      "Starting back-translation for 5 texts...\n"
     ]
    },
    {
     "name": "stdout",
     "output_type": "stream",
     "text": [
      "Back-translation completed.\n",
      "Augmented rows: 15/30\n",
      "Starting back-translation for 5 texts...\n"
     ]
    },
    {
     "name": "stdout",
     "output_type": "stream",
     "text": [
      "Back-translation completed.\n",
      "Augmented rows: 20/30\n",
      "Starting back-translation for 5 texts...\n"
     ]
    },
    {
     "name": "stdout",
     "output_type": "stream",
     "text": [
      "Back-translation completed.\n",
      "Augmented rows: 25/30\n",
      "Starting back-translation for 5 texts...\n"
     ]
    },
    {
     "name": "stdout",
     "output_type": "stream",
     "text": [
      "Back-translation completed.\n",
      "Augmented rows: 30/30\n",
      "Class augmentation completed. Total rows: 30.\n",
      "Augmenting class with 4 rows to reach 30 rows...\n",
      "Starting back-translation for 4 texts...\n"
     ]
    },
    {
     "name": "stdout",
     "output_type": "stream",
     "text": [
      "Back-translation completed.\n",
      "Augmented rows: 8/30\n",
      "Starting back-translation for 4 texts...\n"
     ]
    },
    {
     "name": "stdout",
     "output_type": "stream",
     "text": [
      "Back-translation completed.\n",
      "Augmented rows: 12/30\n",
      "Starting back-translation for 4 texts...\n"
     ]
    },
    {
     "name": "stdout",
     "output_type": "stream",
     "text": [
      "Back-translation completed.\n",
      "Augmented rows: 16/30\n",
      "Starting back-translation for 4 texts...\n"
     ]
    },
    {
     "name": "stdout",
     "output_type": "stream",
     "text": [
      "Back-translation completed.\n",
      "Augmented rows: 20/30\n",
      "Starting back-translation for 4 texts...\n"
     ]
    },
    {
     "name": "stdout",
     "output_type": "stream",
     "text": [
      "Back-translation completed.\n",
      "Augmented rows: 24/30\n",
      "Starting back-translation for 4 texts...\n"
     ]
    },
    {
     "name": "stdout",
     "output_type": "stream",
     "text": [
      "Back-translation completed.\n",
      "Augmented rows: 28/30\n",
      "Starting back-translation for 4 texts...\n"
     ]
    },
    {
     "name": "stdout",
     "output_type": "stream",
     "text": [
      "Back-translation completed.\n",
      "Augmented rows: 32/30\n",
      "Class augmentation completed. Total rows: 32.\n",
      "Augmenting class with 4 rows to reach 30 rows...\n",
      "Starting back-translation for 4 texts...\n"
     ]
    },
    {
     "name": "stdout",
     "output_type": "stream",
     "text": [
      "Back-translation completed.\n",
      "Augmented rows: 8/30\n",
      "Starting back-translation for 4 texts...\n"
     ]
    },
    {
     "name": "stdout",
     "output_type": "stream",
     "text": [
      "Back-translation completed.\n",
      "Augmented rows: 12/30\n",
      "Starting back-translation for 4 texts...\n"
     ]
    },
    {
     "name": "stdout",
     "output_type": "stream",
     "text": [
      "Back-translation completed.\n",
      "Augmented rows: 16/30\n",
      "Starting back-translation for 4 texts...\n"
     ]
    },
    {
     "name": "stdout",
     "output_type": "stream",
     "text": [
      "Back-translation completed.\n",
      "Augmented rows: 20/30\n",
      "Starting back-translation for 4 texts...\n"
     ]
    },
    {
     "name": "stdout",
     "output_type": "stream",
     "text": [
      "Back-translation completed.\n",
      "Augmented rows: 24/30\n",
      "Starting back-translation for 4 texts...\n"
     ]
    },
    {
     "name": "stdout",
     "output_type": "stream",
     "text": [
      "Back-translation completed.\n",
      "Augmented rows: 28/30\n",
      "Starting back-translation for 4 texts...\n"
     ]
    },
    {
     "name": "stdout",
     "output_type": "stream",
     "text": [
      "Back-translation completed.\n",
      "Augmented rows: 32/30\n",
      "Class augmentation completed. Total rows: 32.\n",
      "Augmenting class with 4 rows to reach 30 rows...\n",
      "Starting back-translation for 4 texts...\n"
     ]
    },
    {
     "name": "stdout",
     "output_type": "stream",
     "text": [
      "Back-translation completed.\n",
      "Augmented rows: 8/30\n",
      "Starting back-translation for 4 texts...\n"
     ]
    },
    {
     "name": "stdout",
     "output_type": "stream",
     "text": [
      "Back-translation completed.\n",
      "Augmented rows: 12/30\n",
      "Starting back-translation for 4 texts...\n"
     ]
    },
    {
     "name": "stdout",
     "output_type": "stream",
     "text": [
      "Back-translation completed.\n",
      "Augmented rows: 16/30\n",
      "Starting back-translation for 4 texts...\n"
     ]
    },
    {
     "name": "stdout",
     "output_type": "stream",
     "text": [
      "Back-translation completed.\n",
      "Augmented rows: 20/30\n",
      "Starting back-translation for 4 texts...\n"
     ]
    },
    {
     "name": "stdout",
     "output_type": "stream",
     "text": [
      "Back-translation completed.\n",
      "Augmented rows: 24/30\n",
      "Starting back-translation for 4 texts...\n"
     ]
    },
    {
     "name": "stdout",
     "output_type": "stream",
     "text": [
      "Back-translation completed.\n",
      "Augmented rows: 28/30\n",
      "Starting back-translation for 4 texts...\n"
     ]
    },
    {
     "name": "stdout",
     "output_type": "stream",
     "text": [
      "Back-translation completed.\n",
      "Augmented rows: 32/30\n",
      "Class augmentation completed. Total rows: 32.\n",
      "Augmenting class with 4 rows to reach 30 rows...\n",
      "Starting back-translation for 4 texts...\n"
     ]
    },
    {
     "name": "stdout",
     "output_type": "stream",
     "text": [
      "Back-translation completed.\n",
      "Augmented rows: 8/30\n",
      "Starting back-translation for 4 texts...\n"
     ]
    },
    {
     "name": "stdout",
     "output_type": "stream",
     "text": [
      "Back-translation completed.\n",
      "Augmented rows: 12/30\n",
      "Starting back-translation for 4 texts...\n"
     ]
    },
    {
     "name": "stdout",
     "output_type": "stream",
     "text": [
      "Back-translation completed.\n",
      "Augmented rows: 16/30\n",
      "Starting back-translation for 4 texts...\n"
     ]
    },
    {
     "name": "stdout",
     "output_type": "stream",
     "text": [
      "Back-translation completed.\n",
      "Augmented rows: 20/30\n",
      "Starting back-translation for 4 texts...\n"
     ]
    },
    {
     "name": "stdout",
     "output_type": "stream",
     "text": [
      "Back-translation completed.\n",
      "Augmented rows: 24/30\n",
      "Starting back-translation for 4 texts...\n"
     ]
    },
    {
     "name": "stdout",
     "output_type": "stream",
     "text": [
      "Back-translation completed.\n",
      "Augmented rows: 28/30\n",
      "Starting back-translation for 4 texts...\n"
     ]
    },
    {
     "name": "stdout",
     "output_type": "stream",
     "text": [
      "Back-translation completed.\n",
      "Augmented rows: 32/30\n",
      "Class augmentation completed. Total rows: 32.\n",
      "Augmenting class with 4 rows to reach 30 rows...\n",
      "Starting back-translation for 4 texts...\n"
     ]
    },
    {
     "name": "stdout",
     "output_type": "stream",
     "text": [
      "Back-translation completed.\n",
      "Augmented rows: 8/30\n",
      "Starting back-translation for 4 texts...\n"
     ]
    },
    {
     "name": "stdout",
     "output_type": "stream",
     "text": [
      "Back-translation completed.\n",
      "Augmented rows: 12/30\n",
      "Starting back-translation for 4 texts...\n"
     ]
    },
    {
     "name": "stdout",
     "output_type": "stream",
     "text": [
      "Back-translation completed.\n",
      "Augmented rows: 16/30\n",
      "Starting back-translation for 4 texts...\n"
     ]
    },
    {
     "name": "stdout",
     "output_type": "stream",
     "text": [
      "Back-translation completed.\n",
      "Augmented rows: 20/30\n",
      "Starting back-translation for 4 texts...\n"
     ]
    },
    {
     "name": "stdout",
     "output_type": "stream",
     "text": [
      "Back-translation completed.\n",
      "Augmented rows: 24/30\n",
      "Starting back-translation for 4 texts...\n"
     ]
    },
    {
     "name": "stdout",
     "output_type": "stream",
     "text": [
      "Back-translation completed.\n",
      "Augmented rows: 28/30\n",
      "Starting back-translation for 4 texts...\n"
     ]
    },
    {
     "name": "stdout",
     "output_type": "stream",
     "text": [
      "Back-translation completed.\n",
      "Augmented rows: 32/30\n",
      "Class augmentation completed. Total rows: 32.\n",
      "Augmenting class with 4 rows to reach 30 rows...\n",
      "Starting back-translation for 4 texts...\n"
     ]
    },
    {
     "name": "stdout",
     "output_type": "stream",
     "text": [
      "Back-translation completed.\n",
      "Augmented rows: 8/30\n",
      "Starting back-translation for 4 texts...\n"
     ]
    },
    {
     "name": "stdout",
     "output_type": "stream",
     "text": [
      "Back-translation completed.\n",
      "Augmented rows: 12/30\n",
      "Starting back-translation for 4 texts...\n"
     ]
    },
    {
     "name": "stdout",
     "output_type": "stream",
     "text": [
      "Back-translation completed.\n",
      "Augmented rows: 16/30\n",
      "Starting back-translation for 4 texts...\n"
     ]
    },
    {
     "name": "stdout",
     "output_type": "stream",
     "text": [
      "Back-translation completed.\n",
      "Augmented rows: 20/30\n",
      "Starting back-translation for 4 texts...\n"
     ]
    },
    {
     "name": "stdout",
     "output_type": "stream",
     "text": [
      "Back-translation completed.\n",
      "Augmented rows: 24/30\n",
      "Starting back-translation for 4 texts...\n"
     ]
    },
    {
     "name": "stdout",
     "output_type": "stream",
     "text": [
      "Back-translation completed.\n",
      "Augmented rows: 28/30\n",
      "Starting back-translation for 4 texts...\n"
     ]
    },
    {
     "name": "stdout",
     "output_type": "stream",
     "text": [
      "Back-translation completed.\n",
      "Augmented rows: 32/30\n",
      "Class augmentation completed. Total rows: 32.\n",
      "Augmenting class with 4 rows to reach 30 rows...\n",
      "Starting back-translation for 4 texts...\n"
     ]
    },
    {
     "name": "stdout",
     "output_type": "stream",
     "text": [
      "Back-translation completed.\n",
      "Augmented rows: 8/30\n",
      "Starting back-translation for 4 texts...\n"
     ]
    },
    {
     "name": "stdout",
     "output_type": "stream",
     "text": [
      "Back-translation completed.\n",
      "Augmented rows: 12/30\n",
      "Starting back-translation for 4 texts...\n"
     ]
    },
    {
     "name": "stdout",
     "output_type": "stream",
     "text": [
      "Back-translation completed.\n",
      "Augmented rows: 16/30\n",
      "Starting back-translation for 4 texts...\n"
     ]
    },
    {
     "name": "stdout",
     "output_type": "stream",
     "text": [
      "Back-translation completed.\n",
      "Augmented rows: 20/30\n",
      "Starting back-translation for 4 texts...\n"
     ]
    },
    {
     "name": "stdout",
     "output_type": "stream",
     "text": [
      "Back-translation completed.\n",
      "Augmented rows: 24/30\n",
      "Starting back-translation for 4 texts...\n"
     ]
    },
    {
     "name": "stdout",
     "output_type": "stream",
     "text": [
      "Back-translation completed.\n",
      "Augmented rows: 28/30\n",
      "Starting back-translation for 4 texts...\n"
     ]
    },
    {
     "name": "stdout",
     "output_type": "stream",
     "text": [
      "Back-translation completed.\n",
      "Augmented rows: 32/30\n",
      "Class augmentation completed. Total rows: 32.\n",
      "Augmenting class with 4 rows to reach 30 rows...\n",
      "Starting back-translation for 4 texts...\n"
     ]
    },
    {
     "name": "stdout",
     "output_type": "stream",
     "text": [
      "Back-translation completed.\n",
      "Augmented rows: 8/30\n",
      "Starting back-translation for 4 texts...\n"
     ]
    },
    {
     "name": "stdout",
     "output_type": "stream",
     "text": [
      "Back-translation completed.\n",
      "Augmented rows: 12/30\n",
      "Starting back-translation for 4 texts...\n"
     ]
    },
    {
     "name": "stdout",
     "output_type": "stream",
     "text": [
      "Back-translation completed.\n",
      "Augmented rows: 16/30\n",
      "Starting back-translation for 4 texts...\n"
     ]
    },
    {
     "name": "stdout",
     "output_type": "stream",
     "text": [
      "Back-translation completed.\n",
      "Augmented rows: 20/30\n",
      "Starting back-translation for 4 texts...\n"
     ]
    },
    {
     "name": "stdout",
     "output_type": "stream",
     "text": [
      "Back-translation completed.\n",
      "Augmented rows: 24/30\n",
      "Starting back-translation for 4 texts...\n"
     ]
    },
    {
     "name": "stdout",
     "output_type": "stream",
     "text": [
      "Back-translation completed.\n",
      "Augmented rows: 28/30\n",
      "Starting back-translation for 4 texts...\n"
     ]
    },
    {
     "name": "stdout",
     "output_type": "stream",
     "text": [
      "Back-translation completed.\n",
      "Augmented rows: 32/30\n",
      "Class augmentation completed. Total rows: 32.\n",
      "Augmenting class with 4 rows to reach 30 rows...\n",
      "Starting back-translation for 4 texts...\n"
     ]
    },
    {
     "name": "stdout",
     "output_type": "stream",
     "text": [
      "Back-translation completed.\n",
      "Augmented rows: 8/30\n",
      "Starting back-translation for 4 texts...\n"
     ]
    },
    {
     "name": "stdout",
     "output_type": "stream",
     "text": [
      "Back-translation completed.\n",
      "Augmented rows: 12/30\n",
      "Starting back-translation for 4 texts...\n"
     ]
    },
    {
     "name": "stdout",
     "output_type": "stream",
     "text": [
      "Back-translation completed.\n",
      "Augmented rows: 16/30\n",
      "Starting back-translation for 4 texts...\n"
     ]
    },
    {
     "name": "stdout",
     "output_type": "stream",
     "text": [
      "Back-translation completed.\n",
      "Augmented rows: 20/30\n",
      "Starting back-translation for 4 texts...\n"
     ]
    },
    {
     "name": "stdout",
     "output_type": "stream",
     "text": [
      "Back-translation completed.\n",
      "Augmented rows: 24/30\n",
      "Starting back-translation for 4 texts...\n"
     ]
    },
    {
     "name": "stdout",
     "output_type": "stream",
     "text": [
      "Back-translation completed.\n",
      "Augmented rows: 28/30\n",
      "Starting back-translation for 4 texts...\n"
     ]
    },
    {
     "name": "stdout",
     "output_type": "stream",
     "text": [
      "Back-translation completed.\n",
      "Augmented rows: 32/30\n",
      "Class augmentation completed. Total rows: 32.\n",
      "Augmenting class with 4 rows to reach 30 rows...\n",
      "Starting back-translation for 4 texts...\n"
     ]
    },
    {
     "name": "stdout",
     "output_type": "stream",
     "text": [
      "Back-translation completed.\n",
      "Augmented rows: 8/30\n",
      "Starting back-translation for 4 texts...\n"
     ]
    },
    {
     "name": "stdout",
     "output_type": "stream",
     "text": [
      "Back-translation completed.\n",
      "Augmented rows: 12/30\n",
      "Starting back-translation for 4 texts...\n"
     ]
    },
    {
     "name": "stdout",
     "output_type": "stream",
     "text": [
      "Back-translation completed.\n",
      "Augmented rows: 16/30\n",
      "Starting back-translation for 4 texts...\n"
     ]
    },
    {
     "name": "stdout",
     "output_type": "stream",
     "text": [
      "Back-translation completed.\n",
      "Augmented rows: 20/30\n",
      "Starting back-translation for 4 texts...\n"
     ]
    },
    {
     "name": "stdout",
     "output_type": "stream",
     "text": [
      "Back-translation completed.\n",
      "Augmented rows: 24/30\n",
      "Starting back-translation for 4 texts...\n"
     ]
    },
    {
     "name": "stdout",
     "output_type": "stream",
     "text": [
      "Back-translation completed.\n",
      "Augmented rows: 28/30\n",
      "Starting back-translation for 4 texts...\n"
     ]
    },
    {
     "name": "stdout",
     "output_type": "stream",
     "text": [
      "Back-translation completed.\n",
      "Augmented rows: 32/30\n",
      "Class augmentation completed. Total rows: 32.\n",
      "Augmenting class with 4 rows to reach 30 rows...\n",
      "Starting back-translation for 4 texts...\n"
     ]
    },
    {
     "name": "stdout",
     "output_type": "stream",
     "text": [
      "Back-translation completed.\n",
      "Augmented rows: 8/30\n",
      "Starting back-translation for 4 texts...\n"
     ]
    },
    {
     "name": "stdout",
     "output_type": "stream",
     "text": [
      "Back-translation completed.\n",
      "Augmented rows: 12/30\n",
      "Starting back-translation for 4 texts...\n"
     ]
    },
    {
     "name": "stdout",
     "output_type": "stream",
     "text": [
      "Back-translation completed.\n",
      "Augmented rows: 16/30\n",
      "Starting back-translation for 4 texts...\n"
     ]
    },
    {
     "name": "stdout",
     "output_type": "stream",
     "text": [
      "Back-translation completed.\n",
      "Augmented rows: 20/30\n",
      "Starting back-translation for 4 texts...\n"
     ]
    },
    {
     "name": "stdout",
     "output_type": "stream",
     "text": [
      "Back-translation completed.\n",
      "Augmented rows: 24/30\n",
      "Starting back-translation for 4 texts...\n"
     ]
    },
    {
     "name": "stdout",
     "output_type": "stream",
     "text": [
      "Back-translation completed.\n",
      "Augmented rows: 28/30\n",
      "Starting back-translation for 4 texts...\n"
     ]
    },
    {
     "name": "stdout",
     "output_type": "stream",
     "text": [
      "Back-translation completed.\n",
      "Augmented rows: 32/30\n",
      "Class augmentation completed. Total rows: 32.\n",
      "Augmenting class with 4 rows to reach 30 rows...\n",
      "Starting back-translation for 4 texts...\n"
     ]
    },
    {
     "name": "stdout",
     "output_type": "stream",
     "text": [
      "Back-translation completed.\n",
      "Augmented rows: 8/30\n",
      "Starting back-translation for 4 texts...\n"
     ]
    },
    {
     "name": "stdout",
     "output_type": "stream",
     "text": [
      "Back-translation completed.\n",
      "Augmented rows: 12/30\n",
      "Starting back-translation for 4 texts...\n"
     ]
    },
    {
     "name": "stdout",
     "output_type": "stream",
     "text": [
      "Back-translation completed.\n",
      "Augmented rows: 16/30\n",
      "Starting back-translation for 4 texts...\n"
     ]
    },
    {
     "name": "stdout",
     "output_type": "stream",
     "text": [
      "Back-translation completed.\n",
      "Augmented rows: 20/30\n",
      "Starting back-translation for 4 texts...\n"
     ]
    },
    {
     "name": "stdout",
     "output_type": "stream",
     "text": [
      "Back-translation completed.\n",
      "Augmented rows: 24/30\n",
      "Starting back-translation for 4 texts...\n"
     ]
    },
    {
     "name": "stdout",
     "output_type": "stream",
     "text": [
      "Back-translation completed.\n",
      "Augmented rows: 28/30\n",
      "Starting back-translation for 4 texts...\n"
     ]
    },
    {
     "name": "stdout",
     "output_type": "stream",
     "text": [
      "Back-translation completed.\n",
      "Augmented rows: 32/30\n",
      "Class augmentation completed. Total rows: 32.\n",
      "Augmenting class with 4 rows to reach 30 rows...\n",
      "Starting back-translation for 4 texts...\n"
     ]
    },
    {
     "name": "stdout",
     "output_type": "stream",
     "text": [
      "Back-translation completed.\n",
      "Augmented rows: 8/30\n",
      "Starting back-translation for 4 texts...\n"
     ]
    },
    {
     "name": "stdout",
     "output_type": "stream",
     "text": [
      "Back-translation completed.\n",
      "Augmented rows: 12/30\n",
      "Starting back-translation for 4 texts...\n"
     ]
    },
    {
     "name": "stdout",
     "output_type": "stream",
     "text": [
      "Back-translation completed.\n",
      "Augmented rows: 16/30\n",
      "Starting back-translation for 4 texts...\n"
     ]
    },
    {
     "name": "stdout",
     "output_type": "stream",
     "text": [
      "Back-translation completed.\n",
      "Augmented rows: 20/30\n",
      "Starting back-translation for 4 texts...\n"
     ]
    },
    {
     "name": "stdout",
     "output_type": "stream",
     "text": [
      "Back-translation completed.\n",
      "Augmented rows: 24/30\n",
      "Starting back-translation for 4 texts...\n"
     ]
    },
    {
     "name": "stdout",
     "output_type": "stream",
     "text": [
      "Back-translation completed.\n",
      "Augmented rows: 28/30\n",
      "Starting back-translation for 4 texts...\n"
     ]
    },
    {
     "name": "stdout",
     "output_type": "stream",
     "text": [
      "Back-translation completed.\n",
      "Augmented rows: 32/30\n",
      "Class augmentation completed. Total rows: 32.\n",
      "Augmenting class with 4 rows to reach 30 rows...\n",
      "Starting back-translation for 4 texts...\n"
     ]
    },
    {
     "name": "stdout",
     "output_type": "stream",
     "text": [
      "Back-translation completed.\n",
      "Augmented rows: 8/30\n",
      "Starting back-translation for 4 texts...\n"
     ]
    },
    {
     "name": "stdout",
     "output_type": "stream",
     "text": [
      "Back-translation completed.\n",
      "Augmented rows: 12/30\n",
      "Starting back-translation for 4 texts...\n"
     ]
    },
    {
     "name": "stdout",
     "output_type": "stream",
     "text": [
      "Back-translation completed.\n",
      "Augmented rows: 16/30\n",
      "Starting back-translation for 4 texts...\n"
     ]
    },
    {
     "name": "stdout",
     "output_type": "stream",
     "text": [
      "Back-translation completed.\n",
      "Augmented rows: 20/30\n",
      "Starting back-translation for 4 texts...\n"
     ]
    },
    {
     "name": "stdout",
     "output_type": "stream",
     "text": [
      "Back-translation completed.\n",
      "Augmented rows: 24/30\n",
      "Starting back-translation for 4 texts...\n"
     ]
    },
    {
     "name": "stdout",
     "output_type": "stream",
     "text": [
      "Back-translation completed.\n",
      "Augmented rows: 28/30\n",
      "Starting back-translation for 4 texts...\n"
     ]
    },
    {
     "name": "stdout",
     "output_type": "stream",
     "text": [
      "Back-translation completed.\n",
      "Augmented rows: 32/30\n",
      "Class augmentation completed. Total rows: 32.\n",
      "Augmenting class with 4 rows to reach 30 rows...\n",
      "Starting back-translation for 4 texts...\n"
     ]
    },
    {
     "name": "stdout",
     "output_type": "stream",
     "text": [
      "Back-translation completed.\n",
      "Augmented rows: 8/30\n",
      "Starting back-translation for 4 texts...\n"
     ]
    },
    {
     "name": "stdout",
     "output_type": "stream",
     "text": [
      "Back-translation completed.\n",
      "Augmented rows: 12/30\n",
      "Starting back-translation for 4 texts...\n"
     ]
    },
    {
     "name": "stdout",
     "output_type": "stream",
     "text": [
      "Back-translation completed.\n",
      "Augmented rows: 16/30\n",
      "Starting back-translation for 4 texts...\n"
     ]
    },
    {
     "name": "stdout",
     "output_type": "stream",
     "text": [
      "Back-translation completed.\n",
      "Augmented rows: 20/30\n",
      "Starting back-translation for 4 texts...\n"
     ]
    },
    {
     "name": "stdout",
     "output_type": "stream",
     "text": [
      "Back-translation completed.\n",
      "Augmented rows: 24/30\n",
      "Starting back-translation for 4 texts...\n"
     ]
    },
    {
     "name": "stdout",
     "output_type": "stream",
     "text": [
      "Back-translation completed.\n",
      "Augmented rows: 28/30\n",
      "Starting back-translation for 4 texts...\n"
     ]
    },
    {
     "name": "stdout",
     "output_type": "stream",
     "text": [
      "Back-translation completed.\n",
      "Augmented rows: 32/30\n",
      "Class augmentation completed. Total rows: 32.\n",
      "Augmenting class with 3 rows to reach 30 rows...\n",
      "Starting back-translation for 3 texts...\n"
     ]
    },
    {
     "name": "stdout",
     "output_type": "stream",
     "text": [
      "Back-translation completed.\n",
      "Augmented rows: 6/30\n",
      "Starting back-translation for 3 texts...\n"
     ]
    },
    {
     "name": "stdout",
     "output_type": "stream",
     "text": [
      "Back-translation completed.\n",
      "Augmented rows: 9/30\n",
      "Starting back-translation for 3 texts...\n"
     ]
    },
    {
     "name": "stdout",
     "output_type": "stream",
     "text": [
      "Back-translation completed.\n",
      "Augmented rows: 12/30\n",
      "Starting back-translation for 3 texts...\n"
     ]
    },
    {
     "name": "stdout",
     "output_type": "stream",
     "text": [
      "Back-translation completed.\n",
      "Augmented rows: 15/30\n",
      "Starting back-translation for 3 texts...\n"
     ]
    },
    {
     "name": "stdout",
     "output_type": "stream",
     "text": [
      "Back-translation completed.\n",
      "Augmented rows: 18/30\n",
      "Starting back-translation for 3 texts...\n"
     ]
    },
    {
     "name": "stdout",
     "output_type": "stream",
     "text": [
      "Back-translation completed.\n",
      "Augmented rows: 21/30\n",
      "Starting back-translation for 3 texts...\n"
     ]
    },
    {
     "name": "stdout",
     "output_type": "stream",
     "text": [
      "Back-translation completed.\n",
      "Augmented rows: 24/30\n",
      "Starting back-translation for 3 texts...\n"
     ]
    },
    {
     "name": "stdout",
     "output_type": "stream",
     "text": [
      "Back-translation completed.\n",
      "Augmented rows: 27/30\n",
      "Starting back-translation for 3 texts...\n"
     ]
    },
    {
     "name": "stdout",
     "output_type": "stream",
     "text": [
      "Back-translation completed.\n",
      "Augmented rows: 30/30\n",
      "Class augmentation completed. Total rows: 30.\n",
      "Augmenting class with 3 rows to reach 30 rows...\n",
      "Starting back-translation for 3 texts...\n"
     ]
    },
    {
     "name": "stdout",
     "output_type": "stream",
     "text": [
      "Back-translation completed.\n",
      "Augmented rows: 6/30\n",
      "Starting back-translation for 3 texts...\n"
     ]
    },
    {
     "name": "stdout",
     "output_type": "stream",
     "text": [
      "Back-translation completed.\n",
      "Augmented rows: 9/30\n",
      "Starting back-translation for 3 texts...\n"
     ]
    },
    {
     "name": "stdout",
     "output_type": "stream",
     "text": [
      "Back-translation completed.\n",
      "Augmented rows: 12/30\n",
      "Starting back-translation for 3 texts...\n"
     ]
    },
    {
     "name": "stdout",
     "output_type": "stream",
     "text": [
      "Back-translation completed.\n",
      "Augmented rows: 15/30\n",
      "Starting back-translation for 3 texts...\n"
     ]
    },
    {
     "name": "stdout",
     "output_type": "stream",
     "text": [
      "Back-translation completed.\n",
      "Augmented rows: 18/30\n",
      "Starting back-translation for 3 texts...\n"
     ]
    },
    {
     "name": "stdout",
     "output_type": "stream",
     "text": [
      "Back-translation completed.\n",
      "Augmented rows: 21/30\n",
      "Starting back-translation for 3 texts...\n"
     ]
    },
    {
     "name": "stdout",
     "output_type": "stream",
     "text": [
      "Back-translation completed.\n",
      "Augmented rows: 24/30\n",
      "Starting back-translation for 3 texts...\n"
     ]
    },
    {
     "name": "stdout",
     "output_type": "stream",
     "text": [
      "Back-translation completed.\n",
      "Augmented rows: 27/30\n",
      "Starting back-translation for 3 texts...\n"
     ]
    },
    {
     "name": "stdout",
     "output_type": "stream",
     "text": [
      "Back-translation completed.\n",
      "Augmented rows: 30/30\n",
      "Class augmentation completed. Total rows: 30.\n",
      "Augmenting class with 3 rows to reach 30 rows...\n",
      "Starting back-translation for 3 texts...\n"
     ]
    },
    {
     "name": "stdout",
     "output_type": "stream",
     "text": [
      "Back-translation completed.\n",
      "Augmented rows: 6/30\n",
      "Starting back-translation for 3 texts...\n"
     ]
    },
    {
     "name": "stdout",
     "output_type": "stream",
     "text": [
      "Back-translation completed.\n",
      "Augmented rows: 9/30\n",
      "Starting back-translation for 3 texts...\n"
     ]
    },
    {
     "name": "stdout",
     "output_type": "stream",
     "text": [
      "Back-translation completed.\n",
      "Augmented rows: 12/30\n",
      "Starting back-translation for 3 texts...\n"
     ]
    },
    {
     "name": "stdout",
     "output_type": "stream",
     "text": [
      "Back-translation completed.\n",
      "Augmented rows: 15/30\n",
      "Starting back-translation for 3 texts...\n"
     ]
    },
    {
     "name": "stdout",
     "output_type": "stream",
     "text": [
      "Back-translation completed.\n",
      "Augmented rows: 18/30\n",
      "Starting back-translation for 3 texts...\n"
     ]
    },
    {
     "name": "stdout",
     "output_type": "stream",
     "text": [
      "Back-translation completed.\n",
      "Augmented rows: 21/30\n",
      "Starting back-translation for 3 texts...\n"
     ]
    },
    {
     "name": "stdout",
     "output_type": "stream",
     "text": [
      "Back-translation completed.\n",
      "Augmented rows: 24/30\n",
      "Starting back-translation for 3 texts...\n"
     ]
    },
    {
     "name": "stdout",
     "output_type": "stream",
     "text": [
      "Back-translation completed.\n",
      "Augmented rows: 27/30\n",
      "Starting back-translation for 3 texts...\n"
     ]
    },
    {
     "name": "stdout",
     "output_type": "stream",
     "text": [
      "Back-translation completed.\n",
      "Augmented rows: 30/30\n",
      "Class augmentation completed. Total rows: 30.\n",
      "Augmenting class with 3 rows to reach 30 rows...\n",
      "Starting back-translation for 3 texts...\n"
     ]
    },
    {
     "name": "stdout",
     "output_type": "stream",
     "text": [
      "Back-translation completed.\n",
      "Augmented rows: 6/30\n",
      "Starting back-translation for 3 texts...\n"
     ]
    },
    {
     "name": "stdout",
     "output_type": "stream",
     "text": [
      "Back-translation completed.\n",
      "Augmented rows: 9/30\n",
      "Starting back-translation for 3 texts...\n"
     ]
    },
    {
     "name": "stdout",
     "output_type": "stream",
     "text": [
      "Back-translation completed.\n",
      "Augmented rows: 12/30\n",
      "Starting back-translation for 3 texts...\n"
     ]
    },
    {
     "name": "stdout",
     "output_type": "stream",
     "text": [
      "Back-translation completed.\n",
      "Augmented rows: 15/30\n",
      "Starting back-translation for 3 texts...\n"
     ]
    },
    {
     "name": "stdout",
     "output_type": "stream",
     "text": [
      "Back-translation completed.\n",
      "Augmented rows: 18/30\n",
      "Starting back-translation for 3 texts...\n"
     ]
    },
    {
     "name": "stdout",
     "output_type": "stream",
     "text": [
      "Back-translation completed.\n",
      "Augmented rows: 21/30\n",
      "Starting back-translation for 3 texts...\n"
     ]
    },
    {
     "name": "stdout",
     "output_type": "stream",
     "text": [
      "Back-translation completed.\n",
      "Augmented rows: 24/30\n",
      "Starting back-translation for 3 texts...\n"
     ]
    },
    {
     "name": "stdout",
     "output_type": "stream",
     "text": [
      "Back-translation completed.\n",
      "Augmented rows: 27/30\n",
      "Starting back-translation for 3 texts...\n"
     ]
    },
    {
     "name": "stdout",
     "output_type": "stream",
     "text": [
      "Back-translation completed.\n",
      "Augmented rows: 30/30\n",
      "Class augmentation completed. Total rows: 30.\n",
      "Augmenting class with 3 rows to reach 30 rows...\n",
      "Starting back-translation for 3 texts...\n"
     ]
    },
    {
     "name": "stdout",
     "output_type": "stream",
     "text": [
      "Back-translation completed.\n",
      "Augmented rows: 6/30\n",
      "Starting back-translation for 3 texts...\n"
     ]
    },
    {
     "name": "stdout",
     "output_type": "stream",
     "text": [
      "Back-translation completed.\n",
      "Augmented rows: 9/30\n",
      "Starting back-translation for 3 texts...\n"
     ]
    },
    {
     "name": "stdout",
     "output_type": "stream",
     "text": [
      "Back-translation completed.\n",
      "Augmented rows: 12/30\n",
      "Starting back-translation for 3 texts...\n"
     ]
    },
    {
     "name": "stdout",
     "output_type": "stream",
     "text": [
      "Back-translation completed.\n",
      "Augmented rows: 15/30\n",
      "Starting back-translation for 3 texts...\n"
     ]
    },
    {
     "name": "stdout",
     "output_type": "stream",
     "text": [
      "Back-translation completed.\n",
      "Augmented rows: 18/30\n",
      "Starting back-translation for 3 texts...\n"
     ]
    },
    {
     "name": "stdout",
     "output_type": "stream",
     "text": [
      "Back-translation completed.\n",
      "Augmented rows: 21/30\n",
      "Starting back-translation for 3 texts...\n"
     ]
    },
    {
     "name": "stdout",
     "output_type": "stream",
     "text": [
      "Back-translation completed.\n",
      "Augmented rows: 24/30\n",
      "Starting back-translation for 3 texts...\n"
     ]
    },
    {
     "name": "stdout",
     "output_type": "stream",
     "text": [
      "Back-translation completed.\n",
      "Augmented rows: 27/30\n",
      "Starting back-translation for 3 texts...\n"
     ]
    },
    {
     "name": "stdout",
     "output_type": "stream",
     "text": [
      "Back-translation completed.\n",
      "Augmented rows: 30/30\n",
      "Class augmentation completed. Total rows: 30.\n",
      "Augmenting class with 3 rows to reach 30 rows...\n",
      "Starting back-translation for 3 texts...\n"
     ]
    },
    {
     "name": "stdout",
     "output_type": "stream",
     "text": [
      "Back-translation completed.\n",
      "Augmented rows: 6/30\n",
      "Starting back-translation for 3 texts...\n"
     ]
    },
    {
     "name": "stdout",
     "output_type": "stream",
     "text": [
      "Back-translation completed.\n",
      "Augmented rows: 9/30\n",
      "Starting back-translation for 3 texts...\n"
     ]
    },
    {
     "name": "stdout",
     "output_type": "stream",
     "text": [
      "Back-translation completed.\n",
      "Augmented rows: 12/30\n",
      "Starting back-translation for 3 texts...\n"
     ]
    },
    {
     "name": "stdout",
     "output_type": "stream",
     "text": [
      "Back-translation completed.\n",
      "Augmented rows: 15/30\n",
      "Starting back-translation for 3 texts...\n"
     ]
    },
    {
     "name": "stdout",
     "output_type": "stream",
     "text": [
      "Back-translation completed.\n",
      "Augmented rows: 18/30\n",
      "Starting back-translation for 3 texts...\n"
     ]
    },
    {
     "name": "stdout",
     "output_type": "stream",
     "text": [
      "Back-translation completed.\n",
      "Augmented rows: 21/30\n",
      "Starting back-translation for 3 texts...\n"
     ]
    },
    {
     "name": "stdout",
     "output_type": "stream",
     "text": [
      "Back-translation completed.\n",
      "Augmented rows: 24/30\n",
      "Starting back-translation for 3 texts...\n"
     ]
    },
    {
     "name": "stdout",
     "output_type": "stream",
     "text": [
      "Back-translation completed.\n",
      "Augmented rows: 27/30\n",
      "Starting back-translation for 3 texts...\n"
     ]
    },
    {
     "name": "stdout",
     "output_type": "stream",
     "text": [
      "Back-translation completed.\n",
      "Augmented rows: 30/30\n",
      "Class augmentation completed. Total rows: 30.\n",
      "Augmenting class with 3 rows to reach 30 rows...\n",
      "Starting back-translation for 3 texts...\n"
     ]
    },
    {
     "name": "stdout",
     "output_type": "stream",
     "text": [
      "Back-translation completed.\n",
      "Augmented rows: 6/30\n",
      "Starting back-translation for 3 texts...\n"
     ]
    },
    {
     "name": "stdout",
     "output_type": "stream",
     "text": [
      "Back-translation completed.\n",
      "Augmented rows: 9/30\n",
      "Starting back-translation for 3 texts...\n"
     ]
    },
    {
     "name": "stdout",
     "output_type": "stream",
     "text": [
      "Back-translation completed.\n",
      "Augmented rows: 12/30\n",
      "Starting back-translation for 3 texts...\n"
     ]
    },
    {
     "name": "stdout",
     "output_type": "stream",
     "text": [
      "Back-translation completed.\n",
      "Augmented rows: 15/30\n",
      "Starting back-translation for 3 texts...\n"
     ]
    },
    {
     "name": "stdout",
     "output_type": "stream",
     "text": [
      "Back-translation completed.\n",
      "Augmented rows: 18/30\n",
      "Starting back-translation for 3 texts...\n"
     ]
    },
    {
     "name": "stdout",
     "output_type": "stream",
     "text": [
      "Back-translation completed.\n",
      "Augmented rows: 21/30\n",
      "Starting back-translation for 3 texts...\n"
     ]
    },
    {
     "name": "stdout",
     "output_type": "stream",
     "text": [
      "Back-translation completed.\n",
      "Augmented rows: 24/30\n",
      "Starting back-translation for 3 texts...\n"
     ]
    },
    {
     "name": "stdout",
     "output_type": "stream",
     "text": [
      "Back-translation completed.\n",
      "Augmented rows: 27/30\n",
      "Starting back-translation for 3 texts...\n"
     ]
    },
    {
     "name": "stdout",
     "output_type": "stream",
     "text": [
      "Back-translation completed.\n",
      "Augmented rows: 30/30\n",
      "Class augmentation completed. Total rows: 30.\n",
      "Augmenting class with 3 rows to reach 30 rows...\n",
      "Starting back-translation for 3 texts...\n"
     ]
    },
    {
     "name": "stdout",
     "output_type": "stream",
     "text": [
      "Back-translation completed.\n",
      "Augmented rows: 6/30\n",
      "Starting back-translation for 3 texts...\n"
     ]
    },
    {
     "name": "stdout",
     "output_type": "stream",
     "text": [
      "Back-translation completed.\n",
      "Augmented rows: 9/30\n",
      "Starting back-translation for 3 texts...\n"
     ]
    },
    {
     "name": "stdout",
     "output_type": "stream",
     "text": [
      "Back-translation completed.\n",
      "Augmented rows: 12/30\n",
      "Starting back-translation for 3 texts...\n"
     ]
    },
    {
     "name": "stdout",
     "output_type": "stream",
     "text": [
      "Back-translation completed.\n",
      "Augmented rows: 15/30\n",
      "Starting back-translation for 3 texts...\n"
     ]
    },
    {
     "name": "stdout",
     "output_type": "stream",
     "text": [
      "Back-translation completed.\n",
      "Augmented rows: 18/30\n",
      "Starting back-translation for 3 texts...\n"
     ]
    },
    {
     "name": "stdout",
     "output_type": "stream",
     "text": [
      "Back-translation completed.\n",
      "Augmented rows: 21/30\n",
      "Starting back-translation for 3 texts...\n"
     ]
    },
    {
     "name": "stdout",
     "output_type": "stream",
     "text": [
      "Back-translation completed.\n",
      "Augmented rows: 24/30\n",
      "Starting back-translation for 3 texts...\n"
     ]
    },
    {
     "name": "stdout",
     "output_type": "stream",
     "text": [
      "Back-translation completed.\n",
      "Augmented rows: 27/30\n",
      "Starting back-translation for 3 texts...\n"
     ]
    },
    {
     "name": "stdout",
     "output_type": "stream",
     "text": [
      "Back-translation completed.\n",
      "Augmented rows: 30/30\n",
      "Class augmentation completed. Total rows: 30.\n",
      "Augmenting class with 3 rows to reach 30 rows...\n",
      "Starting back-translation for 3 texts...\n"
     ]
    },
    {
     "name": "stdout",
     "output_type": "stream",
     "text": [
      "Back-translation completed.\n",
      "Augmented rows: 6/30\n",
      "Starting back-translation for 3 texts...\n"
     ]
    },
    {
     "name": "stdout",
     "output_type": "stream",
     "text": [
      "Back-translation completed.\n",
      "Augmented rows: 9/30\n",
      "Starting back-translation for 3 texts...\n"
     ]
    },
    {
     "name": "stdout",
     "output_type": "stream",
     "text": [
      "Back-translation completed.\n",
      "Augmented rows: 12/30\n",
      "Starting back-translation for 3 texts...\n"
     ]
    },
    {
     "name": "stdout",
     "output_type": "stream",
     "text": [
      "Back-translation completed.\n",
      "Augmented rows: 15/30\n",
      "Starting back-translation for 3 texts...\n"
     ]
    },
    {
     "name": "stdout",
     "output_type": "stream",
     "text": [
      "Back-translation completed.\n",
      "Augmented rows: 18/30\n",
      "Starting back-translation for 3 texts...\n"
     ]
    },
    {
     "name": "stdout",
     "output_type": "stream",
     "text": [
      "Back-translation completed.\n",
      "Augmented rows: 21/30\n",
      "Starting back-translation for 3 texts...\n"
     ]
    },
    {
     "name": "stdout",
     "output_type": "stream",
     "text": [
      "Back-translation completed.\n",
      "Augmented rows: 24/30\n",
      "Starting back-translation for 3 texts...\n"
     ]
    },
    {
     "name": "stdout",
     "output_type": "stream",
     "text": [
      "Back-translation completed.\n",
      "Augmented rows: 27/30\n",
      "Starting back-translation for 3 texts...\n"
     ]
    },
    {
     "name": "stdout",
     "output_type": "stream",
     "text": [
      "Back-translation completed.\n",
      "Augmented rows: 30/30\n",
      "Class augmentation completed. Total rows: 30.\n",
      "Augmenting class with 3 rows to reach 30 rows...\n",
      "Starting back-translation for 3 texts...\n"
     ]
    },
    {
     "name": "stdout",
     "output_type": "stream",
     "text": [
      "Back-translation completed.\n",
      "Augmented rows: 6/30\n",
      "Starting back-translation for 3 texts...\n"
     ]
    },
    {
     "name": "stdout",
     "output_type": "stream",
     "text": [
      "Back-translation completed.\n",
      "Augmented rows: 9/30\n",
      "Starting back-translation for 3 texts...\n"
     ]
    },
    {
     "name": "stdout",
     "output_type": "stream",
     "text": [
      "Back-translation completed.\n",
      "Augmented rows: 12/30\n",
      "Starting back-translation for 3 texts...\n"
     ]
    },
    {
     "name": "stdout",
     "output_type": "stream",
     "text": [
      "Back-translation completed.\n",
      "Augmented rows: 15/30\n",
      "Starting back-translation for 3 texts...\n"
     ]
    },
    {
     "name": "stdout",
     "output_type": "stream",
     "text": [
      "Back-translation completed.\n",
      "Augmented rows: 18/30\n",
      "Starting back-translation for 3 texts...\n"
     ]
    },
    {
     "name": "stdout",
     "output_type": "stream",
     "text": [
      "Back-translation completed.\n",
      "Augmented rows: 21/30\n",
      "Starting back-translation for 3 texts...\n"
     ]
    },
    {
     "name": "stdout",
     "output_type": "stream",
     "text": [
      "Back-translation completed.\n",
      "Augmented rows: 24/30\n",
      "Starting back-translation for 3 texts...\n"
     ]
    },
    {
     "name": "stdout",
     "output_type": "stream",
     "text": [
      "Back-translation completed.\n",
      "Augmented rows: 27/30\n",
      "Starting back-translation for 3 texts...\n"
     ]
    },
    {
     "name": "stdout",
     "output_type": "stream",
     "text": [
      "Back-translation completed.\n",
      "Augmented rows: 30/30\n",
      "Class augmentation completed. Total rows: 30.\n",
      "Augmenting class with 3 rows to reach 30 rows...\n",
      "Starting back-translation for 3 texts...\n"
     ]
    },
    {
     "name": "stdout",
     "output_type": "stream",
     "text": [
      "Back-translation completed.\n",
      "Augmented rows: 6/30\n",
      "Starting back-translation for 3 texts...\n"
     ]
    },
    {
     "name": "stdout",
     "output_type": "stream",
     "text": [
      "Back-translation completed.\n",
      "Augmented rows: 9/30\n",
      "Starting back-translation for 3 texts...\n"
     ]
    },
    {
     "name": "stdout",
     "output_type": "stream",
     "text": [
      "Back-translation completed.\n",
      "Augmented rows: 12/30\n",
      "Starting back-translation for 3 texts...\n"
     ]
    },
    {
     "name": "stdout",
     "output_type": "stream",
     "text": [
      "Back-translation completed.\n",
      "Augmented rows: 15/30\n",
      "Starting back-translation for 3 texts...\n"
     ]
    },
    {
     "name": "stdout",
     "output_type": "stream",
     "text": [
      "Back-translation completed.\n",
      "Augmented rows: 18/30\n",
      "Starting back-translation for 3 texts...\n"
     ]
    },
    {
     "name": "stdout",
     "output_type": "stream",
     "text": [
      "Back-translation completed.\n",
      "Augmented rows: 21/30\n",
      "Starting back-translation for 3 texts...\n"
     ]
    },
    {
     "name": "stdout",
     "output_type": "stream",
     "text": [
      "Back-translation completed.\n",
      "Augmented rows: 24/30\n",
      "Starting back-translation for 3 texts...\n"
     ]
    },
    {
     "name": "stdout",
     "output_type": "stream",
     "text": [
      "Back-translation completed.\n",
      "Augmented rows: 27/30\n",
      "Starting back-translation for 3 texts...\n"
     ]
    },
    {
     "name": "stdout",
     "output_type": "stream",
     "text": [
      "Back-translation completed.\n",
      "Augmented rows: 30/30\n",
      "Class augmentation completed. Total rows: 30.\n",
      "Augmenting class with 3 rows to reach 30 rows...\n",
      "Starting back-translation for 3 texts...\n"
     ]
    },
    {
     "name": "stdout",
     "output_type": "stream",
     "text": [
      "Back-translation completed.\n",
      "Augmented rows: 6/30\n",
      "Starting back-translation for 3 texts...\n"
     ]
    },
    {
     "name": "stdout",
     "output_type": "stream",
     "text": [
      "Back-translation completed.\n",
      "Augmented rows: 9/30\n",
      "Starting back-translation for 3 texts...\n"
     ]
    },
    {
     "name": "stdout",
     "output_type": "stream",
     "text": [
      "Back-translation completed.\n",
      "Augmented rows: 12/30\n",
      "Starting back-translation for 3 texts...\n"
     ]
    },
    {
     "name": "stdout",
     "output_type": "stream",
     "text": [
      "Back-translation completed.\n",
      "Augmented rows: 15/30\n",
      "Starting back-translation for 3 texts...\n"
     ]
    },
    {
     "name": "stdout",
     "output_type": "stream",
     "text": [
      "Back-translation completed.\n",
      "Augmented rows: 18/30\n",
      "Starting back-translation for 3 texts...\n"
     ]
    },
    {
     "name": "stdout",
     "output_type": "stream",
     "text": [
      "Back-translation completed.\n",
      "Augmented rows: 21/30\n",
      "Starting back-translation for 3 texts...\n"
     ]
    },
    {
     "name": "stdout",
     "output_type": "stream",
     "text": [
      "Back-translation completed.\n",
      "Augmented rows: 24/30\n",
      "Starting back-translation for 3 texts...\n"
     ]
    },
    {
     "name": "stdout",
     "output_type": "stream",
     "text": [
      "Back-translation completed.\n",
      "Augmented rows: 27/30\n",
      "Starting back-translation for 3 texts...\n"
     ]
    },
    {
     "name": "stdout",
     "output_type": "stream",
     "text": [
      "Back-translation completed.\n",
      "Augmented rows: 30/30\n",
      "Class augmentation completed. Total rows: 30.\n",
      "Augmenting class with 3 rows to reach 30 rows...\n",
      "Starting back-translation for 3 texts...\n"
     ]
    },
    {
     "name": "stdout",
     "output_type": "stream",
     "text": [
      "Back-translation completed.\n",
      "Augmented rows: 6/30\n",
      "Starting back-translation for 3 texts...\n"
     ]
    },
    {
     "name": "stdout",
     "output_type": "stream",
     "text": [
      "Back-translation completed.\n",
      "Augmented rows: 9/30\n",
      "Starting back-translation for 3 texts...\n"
     ]
    },
    {
     "name": "stdout",
     "output_type": "stream",
     "text": [
      "Back-translation completed.\n",
      "Augmented rows: 12/30\n",
      "Starting back-translation for 3 texts...\n"
     ]
    },
    {
     "name": "stdout",
     "output_type": "stream",
     "text": [
      "Back-translation completed.\n",
      "Augmented rows: 15/30\n",
      "Starting back-translation for 3 texts...\n"
     ]
    },
    {
     "name": "stdout",
     "output_type": "stream",
     "text": [
      "Back-translation completed.\n",
      "Augmented rows: 18/30\n",
      "Starting back-translation for 3 texts...\n"
     ]
    },
    {
     "name": "stdout",
     "output_type": "stream",
     "text": [
      "Back-translation completed.\n",
      "Augmented rows: 21/30\n",
      "Starting back-translation for 3 texts...\n"
     ]
    },
    {
     "name": "stdout",
     "output_type": "stream",
     "text": [
      "Back-translation completed.\n",
      "Augmented rows: 24/30\n",
      "Starting back-translation for 3 texts...\n"
     ]
    },
    {
     "name": "stdout",
     "output_type": "stream",
     "text": [
      "Back-translation completed.\n",
      "Augmented rows: 27/30\n",
      "Starting back-translation for 3 texts...\n"
     ]
    },
    {
     "name": "stdout",
     "output_type": "stream",
     "text": [
      "Back-translation completed.\n",
      "Augmented rows: 30/30\n",
      "Class augmentation completed. Total rows: 30.\n",
      "Augmenting class with 3 rows to reach 30 rows...\n",
      "Starting back-translation for 3 texts...\n"
     ]
    },
    {
     "name": "stdout",
     "output_type": "stream",
     "text": [
      "Back-translation completed.\n",
      "Augmented rows: 6/30\n",
      "Starting back-translation for 3 texts...\n"
     ]
    },
    {
     "name": "stdout",
     "output_type": "stream",
     "text": [
      "Back-translation completed.\n",
      "Augmented rows: 9/30\n",
      "Starting back-translation for 3 texts...\n"
     ]
    },
    {
     "name": "stdout",
     "output_type": "stream",
     "text": [
      "Back-translation completed.\n",
      "Augmented rows: 12/30\n",
      "Starting back-translation for 3 texts...\n"
     ]
    },
    {
     "name": "stdout",
     "output_type": "stream",
     "text": [
      "Back-translation completed.\n",
      "Augmented rows: 15/30\n",
      "Starting back-translation for 3 texts...\n"
     ]
    },
    {
     "name": "stdout",
     "output_type": "stream",
     "text": [
      "Back-translation completed.\n",
      "Augmented rows: 18/30\n",
      "Starting back-translation for 3 texts...\n"
     ]
    },
    {
     "name": "stdout",
     "output_type": "stream",
     "text": [
      "Back-translation completed.\n",
      "Augmented rows: 21/30\n",
      "Starting back-translation for 3 texts...\n"
     ]
    },
    {
     "name": "stdout",
     "output_type": "stream",
     "text": [
      "Back-translation completed.\n",
      "Augmented rows: 24/30\n",
      "Starting back-translation for 3 texts...\n"
     ]
    },
    {
     "name": "stdout",
     "output_type": "stream",
     "text": [
      "Back-translation completed.\n",
      "Augmented rows: 27/30\n",
      "Starting back-translation for 3 texts...\n"
     ]
    },
    {
     "name": "stdout",
     "output_type": "stream",
     "text": [
      "Back-translation completed.\n",
      "Augmented rows: 30/30\n",
      "Class augmentation completed. Total rows: 30.\n",
      "Augmenting class with 3 rows to reach 30 rows...\n",
      "Starting back-translation for 3 texts...\n"
     ]
    },
    {
     "name": "stdout",
     "output_type": "stream",
     "text": [
      "Back-translation completed.\n",
      "Augmented rows: 6/30\n",
      "Starting back-translation for 3 texts...\n"
     ]
    },
    {
     "name": "stdout",
     "output_type": "stream",
     "text": [
      "Back-translation completed.\n",
      "Augmented rows: 9/30\n",
      "Starting back-translation for 3 texts...\n"
     ]
    },
    {
     "name": "stdout",
     "output_type": "stream",
     "text": [
      "Back-translation completed.\n",
      "Augmented rows: 12/30\n",
      "Starting back-translation for 3 texts...\n"
     ]
    },
    {
     "name": "stdout",
     "output_type": "stream",
     "text": [
      "Back-translation completed.\n",
      "Augmented rows: 15/30\n",
      "Starting back-translation for 3 texts...\n"
     ]
    },
    {
     "name": "stdout",
     "output_type": "stream",
     "text": [
      "Back-translation completed.\n",
      "Augmented rows: 18/30\n",
      "Starting back-translation for 3 texts...\n"
     ]
    },
    {
     "name": "stdout",
     "output_type": "stream",
     "text": [
      "Back-translation completed.\n",
      "Augmented rows: 21/30\n",
      "Starting back-translation for 3 texts...\n"
     ]
    },
    {
     "name": "stdout",
     "output_type": "stream",
     "text": [
      "Back-translation completed.\n",
      "Augmented rows: 24/30\n",
      "Starting back-translation for 3 texts...\n"
     ]
    },
    {
     "name": "stdout",
     "output_type": "stream",
     "text": [
      "Back-translation completed.\n",
      "Augmented rows: 27/30\n",
      "Starting back-translation for 3 texts...\n"
     ]
    },
    {
     "name": "stdout",
     "output_type": "stream",
     "text": [
      "Back-translation completed.\n",
      "Augmented rows: 30/30\n",
      "Class augmentation completed. Total rows: 30.\n",
      "Augmenting class with 3 rows to reach 30 rows...\n",
      "Starting back-translation for 3 texts...\n"
     ]
    },
    {
     "name": "stdout",
     "output_type": "stream",
     "text": [
      "Back-translation completed.\n",
      "Augmented rows: 6/30\n",
      "Starting back-translation for 3 texts...\n"
     ]
    },
    {
     "name": "stdout",
     "output_type": "stream",
     "text": [
      "Back-translation completed.\n",
      "Augmented rows: 9/30\n",
      "Starting back-translation for 3 texts...\n"
     ]
    },
    {
     "name": "stdout",
     "output_type": "stream",
     "text": [
      "Back-translation completed.\n",
      "Augmented rows: 12/30\n",
      "Starting back-translation for 3 texts...\n"
     ]
    },
    {
     "name": "stdout",
     "output_type": "stream",
     "text": [
      "Back-translation completed.\n",
      "Augmented rows: 15/30\n",
      "Starting back-translation for 3 texts...\n"
     ]
    },
    {
     "name": "stdout",
     "output_type": "stream",
     "text": [
      "Back-translation completed.\n",
      "Augmented rows: 18/30\n",
      "Starting back-translation for 3 texts...\n"
     ]
    },
    {
     "name": "stdout",
     "output_type": "stream",
     "text": [
      "Back-translation completed.\n",
      "Augmented rows: 21/30\n",
      "Starting back-translation for 3 texts...\n"
     ]
    },
    {
     "name": "stdout",
     "output_type": "stream",
     "text": [
      "Back-translation completed.\n",
      "Augmented rows: 24/30\n",
      "Starting back-translation for 3 texts...\n"
     ]
    },
    {
     "name": "stdout",
     "output_type": "stream",
     "text": [
      "Back-translation completed.\n",
      "Augmented rows: 27/30\n",
      "Starting back-translation for 3 texts...\n"
     ]
    },
    {
     "name": "stdout",
     "output_type": "stream",
     "text": [
      "Back-translation completed.\n",
      "Augmented rows: 30/30\n",
      "Class augmentation completed. Total rows: 30.\n",
      "Augmenting class with 3 rows to reach 30 rows...\n",
      "Starting back-translation for 3 texts...\n"
     ]
    },
    {
     "name": "stdout",
     "output_type": "stream",
     "text": [
      "Back-translation completed.\n",
      "Augmented rows: 6/30\n",
      "Starting back-translation for 3 texts...\n"
     ]
    },
    {
     "name": "stdout",
     "output_type": "stream",
     "text": [
      "Back-translation completed.\n",
      "Augmented rows: 9/30\n",
      "Starting back-translation for 3 texts...\n"
     ]
    },
    {
     "name": "stdout",
     "output_type": "stream",
     "text": [
      "Back-translation completed.\n",
      "Augmented rows: 12/30\n",
      "Starting back-translation for 3 texts...\n"
     ]
    },
    {
     "name": "stdout",
     "output_type": "stream",
     "text": [
      "Back-translation completed.\n",
      "Augmented rows: 15/30\n",
      "Starting back-translation for 3 texts...\n"
     ]
    },
    {
     "name": "stdout",
     "output_type": "stream",
     "text": [
      "Back-translation completed.\n",
      "Augmented rows: 18/30\n",
      "Starting back-translation for 3 texts...\n"
     ]
    },
    {
     "name": "stdout",
     "output_type": "stream",
     "text": [
      "Back-translation completed.\n",
      "Augmented rows: 21/30\n",
      "Starting back-translation for 3 texts...\n"
     ]
    },
    {
     "name": "stdout",
     "output_type": "stream",
     "text": [
      "Back-translation completed.\n",
      "Augmented rows: 24/30\n",
      "Starting back-translation for 3 texts...\n"
     ]
    },
    {
     "name": "stdout",
     "output_type": "stream",
     "text": [
      "Back-translation completed.\n",
      "Augmented rows: 27/30\n",
      "Starting back-translation for 3 texts...\n"
     ]
    },
    {
     "name": "stdout",
     "output_type": "stream",
     "text": [
      "Back-translation completed.\n",
      "Augmented rows: 30/30\n",
      "Class augmentation completed. Total rows: 30.\n",
      "Augmenting class with 3 rows to reach 30 rows...\n",
      "Starting back-translation for 3 texts...\n"
     ]
    },
    {
     "name": "stdout",
     "output_type": "stream",
     "text": [
      "Back-translation completed.\n",
      "Augmented rows: 6/30\n",
      "Starting back-translation for 3 texts...\n"
     ]
    },
    {
     "name": "stdout",
     "output_type": "stream",
     "text": [
      "Back-translation completed.\n",
      "Augmented rows: 9/30\n",
      "Starting back-translation for 3 texts...\n"
     ]
    },
    {
     "name": "stdout",
     "output_type": "stream",
     "text": [
      "Back-translation completed.\n",
      "Augmented rows: 12/30\n",
      "Starting back-translation for 3 texts...\n"
     ]
    },
    {
     "name": "stdout",
     "output_type": "stream",
     "text": [
      "Back-translation completed.\n",
      "Augmented rows: 15/30\n",
      "Starting back-translation for 3 texts...\n"
     ]
    },
    {
     "name": "stdout",
     "output_type": "stream",
     "text": [
      "Back-translation completed.\n",
      "Augmented rows: 18/30\n",
      "Starting back-translation for 3 texts...\n"
     ]
    },
    {
     "name": "stdout",
     "output_type": "stream",
     "text": [
      "Back-translation completed.\n",
      "Augmented rows: 21/30\n",
      "Starting back-translation for 3 texts...\n"
     ]
    },
    {
     "name": "stdout",
     "output_type": "stream",
     "text": [
      "Back-translation completed.\n",
      "Augmented rows: 24/30\n",
      "Starting back-translation for 3 texts...\n"
     ]
    },
    {
     "name": "stdout",
     "output_type": "stream",
     "text": [
      "Back-translation completed.\n",
      "Augmented rows: 27/30\n",
      "Starting back-translation for 3 texts...\n"
     ]
    },
    {
     "name": "stdout",
     "output_type": "stream",
     "text": [
      "Back-translation completed.\n",
      "Augmented rows: 30/30\n",
      "Class augmentation completed. Total rows: 30.\n",
      "Augmenting class with 3 rows to reach 30 rows...\n",
      "Starting back-translation for 3 texts...\n"
     ]
    },
    {
     "name": "stdout",
     "output_type": "stream",
     "text": [
      "Back-translation completed.\n",
      "Augmented rows: 6/30\n",
      "Starting back-translation for 3 texts...\n"
     ]
    },
    {
     "name": "stdout",
     "output_type": "stream",
     "text": [
      "Back-translation completed.\n",
      "Augmented rows: 9/30\n",
      "Starting back-translation for 3 texts...\n"
     ]
    },
    {
     "name": "stdout",
     "output_type": "stream",
     "text": [
      "Back-translation completed.\n",
      "Augmented rows: 12/30\n",
      "Starting back-translation for 3 texts...\n"
     ]
    },
    {
     "name": "stdout",
     "output_type": "stream",
     "text": [
      "Back-translation completed.\n",
      "Augmented rows: 15/30\n",
      "Starting back-translation for 3 texts...\n"
     ]
    },
    {
     "name": "stdout",
     "output_type": "stream",
     "text": [
      "Back-translation completed.\n",
      "Augmented rows: 18/30\n",
      "Starting back-translation for 3 texts...\n"
     ]
    },
    {
     "name": "stdout",
     "output_type": "stream",
     "text": [
      "Back-translation completed.\n",
      "Augmented rows: 21/30\n",
      "Starting back-translation for 3 texts...\n"
     ]
    },
    {
     "name": "stdout",
     "output_type": "stream",
     "text": [
      "Back-translation completed.\n",
      "Augmented rows: 24/30\n",
      "Starting back-translation for 3 texts...\n"
     ]
    },
    {
     "name": "stdout",
     "output_type": "stream",
     "text": [
      "Back-translation completed.\n",
      "Augmented rows: 27/30\n",
      "Starting back-translation for 3 texts...\n"
     ]
    },
    {
     "name": "stdout",
     "output_type": "stream",
     "text": [
      "Back-translation completed.\n",
      "Augmented rows: 30/30\n",
      "Class augmentation completed. Total rows: 30.\n",
      "Augmenting class with 3 rows to reach 30 rows...\n",
      "Starting back-translation for 3 texts...\n"
     ]
    },
    {
     "name": "stdout",
     "output_type": "stream",
     "text": [
      "Back-translation completed.\n",
      "Augmented rows: 6/30\n",
      "Starting back-translation for 3 texts...\n"
     ]
    },
    {
     "name": "stdout",
     "output_type": "stream",
     "text": [
      "Back-translation completed.\n",
      "Augmented rows: 9/30\n",
      "Starting back-translation for 3 texts...\n"
     ]
    },
    {
     "name": "stdout",
     "output_type": "stream",
     "text": [
      "Back-translation completed.\n",
      "Augmented rows: 12/30\n",
      "Starting back-translation for 3 texts...\n"
     ]
    },
    {
     "name": "stdout",
     "output_type": "stream",
     "text": [
      "Back-translation completed.\n",
      "Augmented rows: 15/30\n",
      "Starting back-translation for 3 texts...\n"
     ]
    },
    {
     "name": "stdout",
     "output_type": "stream",
     "text": [
      "Back-translation completed.\n",
      "Augmented rows: 18/30\n",
      "Starting back-translation for 3 texts...\n"
     ]
    },
    {
     "name": "stdout",
     "output_type": "stream",
     "text": [
      "Back-translation completed.\n",
      "Augmented rows: 21/30\n",
      "Starting back-translation for 3 texts...\n"
     ]
    },
    {
     "name": "stdout",
     "output_type": "stream",
     "text": [
      "Back-translation completed.\n",
      "Augmented rows: 24/30\n",
      "Starting back-translation for 3 texts...\n"
     ]
    },
    {
     "name": "stdout",
     "output_type": "stream",
     "text": [
      "Back-translation completed.\n",
      "Augmented rows: 27/30\n",
      "Starting back-translation for 3 texts...\n"
     ]
    },
    {
     "name": "stdout",
     "output_type": "stream",
     "text": [
      "Back-translation completed.\n",
      "Augmented rows: 30/30\n",
      "Class augmentation completed. Total rows: 30.\n",
      "Augmenting class with 3 rows to reach 30 rows...\n",
      "Starting back-translation for 3 texts...\n"
     ]
    },
    {
     "name": "stdout",
     "output_type": "stream",
     "text": [
      "Back-translation completed.\n",
      "Augmented rows: 6/30\n",
      "Starting back-translation for 3 texts...\n"
     ]
    },
    {
     "name": "stdout",
     "output_type": "stream",
     "text": [
      "Back-translation completed.\n",
      "Augmented rows: 9/30\n",
      "Starting back-translation for 3 texts...\n"
     ]
    },
    {
     "name": "stdout",
     "output_type": "stream",
     "text": [
      "Back-translation completed.\n",
      "Augmented rows: 12/30\n",
      "Starting back-translation for 3 texts...\n"
     ]
    },
    {
     "name": "stdout",
     "output_type": "stream",
     "text": [
      "Back-translation completed.\n",
      "Augmented rows: 15/30\n",
      "Starting back-translation for 3 texts...\n"
     ]
    },
    {
     "name": "stdout",
     "output_type": "stream",
     "text": [
      "Back-translation completed.\n",
      "Augmented rows: 18/30\n",
      "Starting back-translation for 3 texts...\n"
     ]
    },
    {
     "name": "stdout",
     "output_type": "stream",
     "text": [
      "Back-translation completed.\n",
      "Augmented rows: 21/30\n",
      "Starting back-translation for 3 texts...\n"
     ]
    },
    {
     "name": "stdout",
     "output_type": "stream",
     "text": [
      "Back-translation completed.\n",
      "Augmented rows: 24/30\n",
      "Starting back-translation for 3 texts...\n"
     ]
    },
    {
     "name": "stdout",
     "output_type": "stream",
     "text": [
      "Back-translation completed.\n",
      "Augmented rows: 27/30\n",
      "Starting back-translation for 3 texts...\n"
     ]
    },
    {
     "name": "stdout",
     "output_type": "stream",
     "text": [
      "Back-translation completed.\n",
      "Augmented rows: 30/30\n",
      "Class augmentation completed. Total rows: 30.\n",
      "Augmenting class with 3 rows to reach 30 rows...\n",
      "Starting back-translation for 3 texts...\n"
     ]
    },
    {
     "name": "stdout",
     "output_type": "stream",
     "text": [
      "Back-translation completed.\n",
      "Augmented rows: 6/30\n",
      "Starting back-translation for 3 texts...\n"
     ]
    },
    {
     "name": "stdout",
     "output_type": "stream",
     "text": [
      "Back-translation completed.\n",
      "Augmented rows: 9/30\n",
      "Starting back-translation for 3 texts...\n"
     ]
    },
    {
     "name": "stdout",
     "output_type": "stream",
     "text": [
      "Back-translation completed.\n",
      "Augmented rows: 12/30\n",
      "Starting back-translation for 3 texts...\n"
     ]
    },
    {
     "name": "stdout",
     "output_type": "stream",
     "text": [
      "Back-translation completed.\n",
      "Augmented rows: 15/30\n",
      "Starting back-translation for 3 texts...\n"
     ]
    },
    {
     "name": "stdout",
     "output_type": "stream",
     "text": [
      "Back-translation completed.\n",
      "Augmented rows: 18/30\n",
      "Starting back-translation for 3 texts...\n"
     ]
    },
    {
     "name": "stdout",
     "output_type": "stream",
     "text": [
      "Back-translation completed.\n",
      "Augmented rows: 21/30\n",
      "Starting back-translation for 3 texts...\n"
     ]
    },
    {
     "name": "stdout",
     "output_type": "stream",
     "text": [
      "Back-translation completed.\n",
      "Augmented rows: 24/30\n",
      "Starting back-translation for 3 texts...\n"
     ]
    },
    {
     "name": "stdout",
     "output_type": "stream",
     "text": [
      "Back-translation completed.\n",
      "Augmented rows: 27/30\n",
      "Starting back-translation for 3 texts...\n"
     ]
    },
    {
     "name": "stdout",
     "output_type": "stream",
     "text": [
      "Back-translation completed.\n",
      "Augmented rows: 30/30\n",
      "Class augmentation completed. Total rows: 30.\n",
      "Augmenting class with 3 rows to reach 30 rows...\n",
      "Starting back-translation for 3 texts...\n"
     ]
    },
    {
     "name": "stdout",
     "output_type": "stream",
     "text": [
      "Back-translation completed.\n",
      "Augmented rows: 6/30\n",
      "Starting back-translation for 3 texts...\n"
     ]
    },
    {
     "name": "stdout",
     "output_type": "stream",
     "text": [
      "Back-translation completed.\n",
      "Augmented rows: 9/30\n",
      "Starting back-translation for 3 texts...\n"
     ]
    },
    {
     "name": "stdout",
     "output_type": "stream",
     "text": [
      "Back-translation completed.\n",
      "Augmented rows: 12/30\n",
      "Starting back-translation for 3 texts...\n"
     ]
    },
    {
     "name": "stdout",
     "output_type": "stream",
     "text": [
      "Back-translation completed.\n",
      "Augmented rows: 15/30\n",
      "Starting back-translation for 3 texts...\n"
     ]
    },
    {
     "name": "stdout",
     "output_type": "stream",
     "text": [
      "Back-translation completed.\n",
      "Augmented rows: 18/30\n",
      "Starting back-translation for 3 texts...\n"
     ]
    },
    {
     "name": "stdout",
     "output_type": "stream",
     "text": [
      "Back-translation completed.\n",
      "Augmented rows: 21/30\n",
      "Starting back-translation for 3 texts...\n"
     ]
    },
    {
     "name": "stdout",
     "output_type": "stream",
     "text": [
      "Back-translation completed.\n",
      "Augmented rows: 24/30\n",
      "Starting back-translation for 3 texts...\n"
     ]
    },
    {
     "name": "stdout",
     "output_type": "stream",
     "text": [
      "Back-translation completed.\n",
      "Augmented rows: 27/30\n",
      "Starting back-translation for 3 texts...\n"
     ]
    },
    {
     "name": "stdout",
     "output_type": "stream",
     "text": [
      "Back-translation completed.\n",
      "Augmented rows: 30/30\n",
      "Class augmentation completed. Total rows: 30.\n",
      "Augmenting class with 3 rows to reach 30 rows...\n",
      "Starting back-translation for 3 texts...\n"
     ]
    },
    {
     "name": "stdout",
     "output_type": "stream",
     "text": [
      "Back-translation completed.\n",
      "Augmented rows: 6/30\n",
      "Starting back-translation for 3 texts...\n"
     ]
    },
    {
     "name": "stdout",
     "output_type": "stream",
     "text": [
      "Back-translation completed.\n",
      "Augmented rows: 9/30\n",
      "Starting back-translation for 3 texts...\n"
     ]
    },
    {
     "name": "stdout",
     "output_type": "stream",
     "text": [
      "Back-translation completed.\n",
      "Augmented rows: 12/30\n",
      "Starting back-translation for 3 texts...\n"
     ]
    },
    {
     "name": "stdout",
     "output_type": "stream",
     "text": [
      "Back-translation completed.\n",
      "Augmented rows: 15/30\n",
      "Starting back-translation for 3 texts...\n"
     ]
    },
    {
     "name": "stdout",
     "output_type": "stream",
     "text": [
      "Back-translation completed.\n",
      "Augmented rows: 18/30\n",
      "Starting back-translation for 3 texts...\n"
     ]
    },
    {
     "name": "stdout",
     "output_type": "stream",
     "text": [
      "Back-translation completed.\n",
      "Augmented rows: 21/30\n",
      "Starting back-translation for 3 texts...\n"
     ]
    },
    {
     "name": "stdout",
     "output_type": "stream",
     "text": [
      "Back-translation completed.\n",
      "Augmented rows: 24/30\n",
      "Starting back-translation for 3 texts...\n"
     ]
    },
    {
     "name": "stdout",
     "output_type": "stream",
     "text": [
      "Back-translation completed.\n",
      "Augmented rows: 27/30\n",
      "Starting back-translation for 3 texts...\n"
     ]
    },
    {
     "name": "stdout",
     "output_type": "stream",
     "text": [
      "Back-translation completed.\n",
      "Augmented rows: 30/30\n",
      "Class augmentation completed. Total rows: 30.\n",
      "Augmenting class with 3 rows to reach 30 rows...\n",
      "Starting back-translation for 3 texts...\n"
     ]
    },
    {
     "name": "stdout",
     "output_type": "stream",
     "text": [
      "Back-translation completed.\n",
      "Augmented rows: 6/30\n",
      "Starting back-translation for 3 texts...\n"
     ]
    },
    {
     "name": "stdout",
     "output_type": "stream",
     "text": [
      "Back-translation completed.\n",
      "Augmented rows: 9/30\n",
      "Starting back-translation for 3 texts...\n"
     ]
    },
    {
     "name": "stdout",
     "output_type": "stream",
     "text": [
      "Back-translation completed.\n",
      "Augmented rows: 12/30\n",
      "Starting back-translation for 3 texts...\n"
     ]
    },
    {
     "name": "stdout",
     "output_type": "stream",
     "text": [
      "Back-translation completed.\n",
      "Augmented rows: 15/30\n",
      "Starting back-translation for 3 texts...\n"
     ]
    },
    {
     "name": "stdout",
     "output_type": "stream",
     "text": [
      "Back-translation completed.\n",
      "Augmented rows: 18/30\n",
      "Starting back-translation for 3 texts...\n"
     ]
    },
    {
     "name": "stdout",
     "output_type": "stream",
     "text": [
      "Back-translation completed.\n",
      "Augmented rows: 21/30\n",
      "Starting back-translation for 3 texts...\n"
     ]
    },
    {
     "name": "stdout",
     "output_type": "stream",
     "text": [
      "Back-translation completed.\n",
      "Augmented rows: 24/30\n",
      "Starting back-translation for 3 texts...\n"
     ]
    },
    {
     "name": "stdout",
     "output_type": "stream",
     "text": [
      "Back-translation completed.\n",
      "Augmented rows: 27/30\n",
      "Starting back-translation for 3 texts...\n"
     ]
    },
    {
     "name": "stdout",
     "output_type": "stream",
     "text": [
      "Back-translation completed.\n",
      "Augmented rows: 30/30\n",
      "Class augmentation completed. Total rows: 30.\n",
      "Augmenting class with 3 rows to reach 30 rows...\n",
      "Starting back-translation for 3 texts...\n"
     ]
    },
    {
     "name": "stdout",
     "output_type": "stream",
     "text": [
      "Back-translation completed.\n",
      "Augmented rows: 6/30\n",
      "Starting back-translation for 3 texts...\n"
     ]
    },
    {
     "name": "stdout",
     "output_type": "stream",
     "text": [
      "Back-translation completed.\n",
      "Augmented rows: 9/30\n",
      "Starting back-translation for 3 texts...\n"
     ]
    },
    {
     "name": "stdout",
     "output_type": "stream",
     "text": [
      "Back-translation completed.\n",
      "Augmented rows: 12/30\n",
      "Starting back-translation for 3 texts...\n"
     ]
    },
    {
     "name": "stdout",
     "output_type": "stream",
     "text": [
      "Back-translation completed.\n",
      "Augmented rows: 15/30\n",
      "Starting back-translation for 3 texts...\n"
     ]
    },
    {
     "name": "stdout",
     "output_type": "stream",
     "text": [
      "Back-translation completed.\n",
      "Augmented rows: 18/30\n",
      "Starting back-translation for 3 texts...\n"
     ]
    },
    {
     "name": "stdout",
     "output_type": "stream",
     "text": [
      "Back-translation completed.\n",
      "Augmented rows: 21/30\n",
      "Starting back-translation for 3 texts...\n"
     ]
    },
    {
     "name": "stdout",
     "output_type": "stream",
     "text": [
      "Back-translation completed.\n",
      "Augmented rows: 24/30\n",
      "Starting back-translation for 3 texts...\n"
     ]
    },
    {
     "name": "stdout",
     "output_type": "stream",
     "text": [
      "Back-translation completed.\n",
      "Augmented rows: 27/30\n",
      "Starting back-translation for 3 texts...\n"
     ]
    },
    {
     "name": "stdout",
     "output_type": "stream",
     "text": [
      "Back-translation completed.\n",
      "Augmented rows: 30/30\n",
      "Class augmentation completed. Total rows: 30.\n",
      "Augmenting class with 3 rows to reach 30 rows...\n",
      "Starting back-translation for 3 texts...\n"
     ]
    },
    {
     "name": "stdout",
     "output_type": "stream",
     "text": [
      "Back-translation completed.\n",
      "Augmented rows: 6/30\n",
      "Starting back-translation for 3 texts...\n"
     ]
    },
    {
     "name": "stdout",
     "output_type": "stream",
     "text": [
      "Back-translation completed.\n",
      "Augmented rows: 9/30\n",
      "Starting back-translation for 3 texts...\n"
     ]
    },
    {
     "name": "stdout",
     "output_type": "stream",
     "text": [
      "Back-translation completed.\n",
      "Augmented rows: 12/30\n",
      "Starting back-translation for 3 texts...\n"
     ]
    },
    {
     "name": "stdout",
     "output_type": "stream",
     "text": [
      "Back-translation completed.\n",
      "Augmented rows: 15/30\n",
      "Starting back-translation for 3 texts...\n"
     ]
    },
    {
     "name": "stdout",
     "output_type": "stream",
     "text": [
      "Back-translation completed.\n",
      "Augmented rows: 18/30\n",
      "Starting back-translation for 3 texts...\n"
     ]
    },
    {
     "name": "stdout",
     "output_type": "stream",
     "text": [
      "Back-translation completed.\n",
      "Augmented rows: 21/30\n",
      "Starting back-translation for 3 texts...\n"
     ]
    },
    {
     "name": "stdout",
     "output_type": "stream",
     "text": [
      "Back-translation completed.\n",
      "Augmented rows: 24/30\n",
      "Starting back-translation for 3 texts...\n"
     ]
    },
    {
     "name": "stdout",
     "output_type": "stream",
     "text": [
      "Back-translation completed.\n",
      "Augmented rows: 27/30\n",
      "Starting back-translation for 3 texts...\n"
     ]
    },
    {
     "name": "stdout",
     "output_type": "stream",
     "text": [
      "Back-translation completed.\n",
      "Augmented rows: 30/30\n",
      "Class augmentation completed. Total rows: 30.\n",
      "Processing column: product\n"
     ]
    },
    {
     "name": "stdout",
     "output_type": "stream",
     "text": [
      "Augmenting class with 29 rows to reach 30 rows...\n",
      "Starting back-translation for 29 texts...\n"
     ]
    },
    {
     "name": "stdout",
     "output_type": "stream",
     "text": [
      "Back-translation completed.\n",
      "Augmented rows: 58/30\n",
      "Class augmentation completed. Total rows: 58.\n",
      "Augmenting class with 27 rows to reach 30 rows...\n",
      "Starting back-translation for 27 texts...\n"
     ]
    },
    {
     "name": "stdout",
     "output_type": "stream",
     "text": [
      "Back-translation completed.\n",
      "Augmented rows: 54/30\n",
      "Class augmentation completed. Total rows: 54.\n",
      "Augmenting class with 27 rows to reach 30 rows...\n",
      "Starting back-translation for 27 texts...\n"
     ]
    },
    {
     "name": "stdout",
     "output_type": "stream",
     "text": [
      "Back-translation completed.\n",
      "Augmented rows: 54/30\n",
      "Class augmentation completed. Total rows: 54.\n",
      "Augmenting class with 27 rows to reach 30 rows...\n",
      "Starting back-translation for 27 texts...\n"
     ]
    },
    {
     "name": "stdout",
     "output_type": "stream",
     "text": [
      "Back-translation completed.\n",
      "Augmented rows: 54/30\n",
      "Class augmentation completed. Total rows: 54.\n",
      "Augmenting class with 27 rows to reach 30 rows...\n",
      "Starting back-translation for 27 texts...\n"
     ]
    },
    {
     "name": "stdout",
     "output_type": "stream",
     "text": [
      "Back-translation completed.\n",
      "Augmented rows: 54/30\n",
      "Class augmentation completed. Total rows: 54.\n",
      "Augmenting class with 26 rows to reach 30 rows...\n",
      "Starting back-translation for 26 texts...\n"
     ]
    },
    {
     "name": "stdout",
     "output_type": "stream",
     "text": [
      "Back-translation completed.\n",
      "Augmented rows: 52/30\n",
      "Class augmentation completed. Total rows: 52.\n",
      "Augmenting class with 26 rows to reach 30 rows...\n",
      "Starting back-translation for 26 texts...\n"
     ]
    },
    {
     "name": "stdout",
     "output_type": "stream",
     "text": [
      "Back-translation completed.\n",
      "Augmented rows: 52/30\n",
      "Class augmentation completed. Total rows: 52.\n",
      "Augmenting class with 25 rows to reach 30 rows...\n",
      "Starting back-translation for 25 texts...\n"
     ]
    },
    {
     "name": "stdout",
     "output_type": "stream",
     "text": [
      "Back-translation completed.\n",
      "Augmented rows: 50/30\n",
      "Class augmentation completed. Total rows: 50.\n",
      "Augmenting class with 25 rows to reach 30 rows...\n",
      "Starting back-translation for 25 texts...\n"
     ]
    },
    {
     "name": "stdout",
     "output_type": "stream",
     "text": [
      "Back-translation completed.\n",
      "Augmented rows: 50/30\n",
      "Class augmentation completed. Total rows: 50.\n",
      "Augmenting class with 25 rows to reach 30 rows...\n",
      "Starting back-translation for 25 texts...\n"
     ]
    },
    {
     "name": "stdout",
     "output_type": "stream",
     "text": [
      "Back-translation completed.\n",
      "Augmented rows: 50/30\n",
      "Class augmentation completed. Total rows: 50.\n",
      "Augmenting class with 25 rows to reach 30 rows...\n",
      "Starting back-translation for 25 texts...\n"
     ]
    },
    {
     "name": "stdout",
     "output_type": "stream",
     "text": [
      "Back-translation completed.\n",
      "Augmented rows: 50/30\n",
      "Class augmentation completed. Total rows: 50.\n",
      "Augmenting class with 25 rows to reach 30 rows...\n",
      "Starting back-translation for 25 texts...\n"
     ]
    },
    {
     "name": "stdout",
     "output_type": "stream",
     "text": [
      "Back-translation completed.\n",
      "Augmented rows: 50/30\n",
      "Class augmentation completed. Total rows: 50.\n",
      "Augmenting class with 25 rows to reach 30 rows...\n",
      "Starting back-translation for 25 texts...\n"
     ]
    },
    {
     "name": "stdout",
     "output_type": "stream",
     "text": [
      "Back-translation completed.\n",
      "Augmented rows: 50/30\n",
      "Class augmentation completed. Total rows: 50.\n",
      "Augmenting class with 25 rows to reach 30 rows...\n",
      "Starting back-translation for 25 texts...\n"
     ]
    },
    {
     "name": "stdout",
     "output_type": "stream",
     "text": [
      "Back-translation completed.\n",
      "Augmented rows: 50/30\n",
      "Class augmentation completed. Total rows: 50.\n",
      "Augmenting class with 24 rows to reach 30 rows...\n",
      "Starting back-translation for 24 texts...\n"
     ]
    },
    {
     "name": "stdout",
     "output_type": "stream",
     "text": [
      "Back-translation completed.\n",
      "Augmented rows: 48/30\n",
      "Class augmentation completed. Total rows: 48.\n",
      "Augmenting class with 24 rows to reach 30 rows...\n",
      "Starting back-translation for 24 texts...\n"
     ]
    },
    {
     "name": "stdout",
     "output_type": "stream",
     "text": [
      "Back-translation completed.\n",
      "Augmented rows: 48/30\n",
      "Class augmentation completed. Total rows: 48.\n",
      "Augmenting class with 24 rows to reach 30 rows...\n",
      "Starting back-translation for 24 texts...\n"
     ]
    },
    {
     "name": "stdout",
     "output_type": "stream",
     "text": [
      "Back-translation completed.\n",
      "Augmented rows: 48/30\n",
      "Class augmentation completed. Total rows: 48.\n",
      "Augmenting class with 23 rows to reach 30 rows...\n",
      "Starting back-translation for 23 texts...\n"
     ]
    },
    {
     "name": "stdout",
     "output_type": "stream",
     "text": [
      "Back-translation completed.\n",
      "Augmented rows: 46/30\n",
      "Class augmentation completed. Total rows: 46.\n",
      "Augmenting class with 23 rows to reach 30 rows...\n",
      "Starting back-translation for 23 texts...\n"
     ]
    },
    {
     "name": "stdout",
     "output_type": "stream",
     "text": [
      "Back-translation completed.\n",
      "Augmented rows: 46/30\n",
      "Class augmentation completed. Total rows: 46.\n",
      "Augmenting class with 23 rows to reach 30 rows...\n",
      "Starting back-translation for 23 texts...\n"
     ]
    },
    {
     "name": "stdout",
     "output_type": "stream",
     "text": [
      "Back-translation completed.\n",
      "Augmented rows: 46/30\n",
      "Class augmentation completed. Total rows: 46.\n",
      "Augmenting class with 23 rows to reach 30 rows...\n",
      "Starting back-translation for 23 texts...\n"
     ]
    },
    {
     "name": "stdout",
     "output_type": "stream",
     "text": [
      "Back-translation completed.\n",
      "Augmented rows: 46/30\n",
      "Class augmentation completed. Total rows: 46.\n",
      "Augmenting class with 23 rows to reach 30 rows...\n",
      "Starting back-translation for 23 texts...\n"
     ]
    },
    {
     "name": "stdout",
     "output_type": "stream",
     "text": [
      "Back-translation completed.\n",
      "Augmented rows: 46/30\n",
      "Class augmentation completed. Total rows: 46.\n",
      "Augmenting class with 23 rows to reach 30 rows...\n",
      "Starting back-translation for 23 texts...\n"
     ]
    },
    {
     "name": "stdout",
     "output_type": "stream",
     "text": [
      "Back-translation completed.\n",
      "Augmented rows: 46/30\n",
      "Class augmentation completed. Total rows: 46.\n",
      "Augmenting class with 23 rows to reach 30 rows...\n",
      "Starting back-translation for 23 texts...\n"
     ]
    },
    {
     "name": "stdout",
     "output_type": "stream",
     "text": [
      "Back-translation completed.\n",
      "Augmented rows: 46/30\n",
      "Class augmentation completed. Total rows: 46.\n",
      "Augmenting class with 22 rows to reach 30 rows...\n",
      "Starting back-translation for 22 texts...\n"
     ]
    },
    {
     "name": "stdout",
     "output_type": "stream",
     "text": [
      "Back-translation completed.\n",
      "Augmented rows: 44/30\n",
      "Class augmentation completed. Total rows: 44.\n",
      "Augmenting class with 21 rows to reach 30 rows...\n",
      "Starting back-translation for 21 texts...\n"
     ]
    },
    {
     "name": "stdout",
     "output_type": "stream",
     "text": [
      "Back-translation completed.\n",
      "Augmented rows: 42/30\n",
      "Class augmentation completed. Total rows: 42.\n",
      "Augmenting class with 20 rows to reach 30 rows...\n",
      "Starting back-translation for 20 texts...\n"
     ]
    },
    {
     "name": "stdout",
     "output_type": "stream",
     "text": [
      "Back-translation completed.\n",
      "Augmented rows: 40/30\n",
      "Class augmentation completed. Total rows: 40.\n",
      "Augmenting class with 20 rows to reach 30 rows...\n",
      "Starting back-translation for 20 texts...\n"
     ]
    },
    {
     "name": "stdout",
     "output_type": "stream",
     "text": [
      "Back-translation completed.\n",
      "Augmented rows: 40/30\n",
      "Class augmentation completed. Total rows: 40.\n",
      "Augmenting class with 20 rows to reach 30 rows...\n",
      "Starting back-translation for 20 texts...\n"
     ]
    },
    {
     "name": "stdout",
     "output_type": "stream",
     "text": [
      "Back-translation completed.\n",
      "Augmented rows: 40/30\n",
      "Class augmentation completed. Total rows: 40.\n",
      "Augmenting class with 20 rows to reach 30 rows...\n",
      "Starting back-translation for 20 texts...\n"
     ]
    },
    {
     "name": "stdout",
     "output_type": "stream",
     "text": [
      "Back-translation completed.\n",
      "Augmented rows: 40/30\n",
      "Class augmentation completed. Total rows: 40.\n",
      "Augmenting class with 20 rows to reach 30 rows...\n",
      "Starting back-translation for 20 texts...\n"
     ]
    },
    {
     "name": "stdout",
     "output_type": "stream",
     "text": [
      "Back-translation completed.\n",
      "Augmented rows: 40/30\n",
      "Class augmentation completed. Total rows: 40.\n",
      "Augmenting class with 19 rows to reach 30 rows...\n",
      "Starting back-translation for 19 texts...\n"
     ]
    },
    {
     "name": "stdout",
     "output_type": "stream",
     "text": [
      "Back-translation completed.\n",
      "Augmented rows: 38/30\n",
      "Class augmentation completed. Total rows: 38.\n",
      "Augmenting class with 19 rows to reach 30 rows...\n",
      "Starting back-translation for 19 texts...\n"
     ]
    },
    {
     "name": "stdout",
     "output_type": "stream",
     "text": [
      "Back-translation completed.\n",
      "Augmented rows: 38/30\n",
      "Class augmentation completed. Total rows: 38.\n",
      "Augmenting class with 18 rows to reach 30 rows...\n",
      "Starting back-translation for 18 texts...\n"
     ]
    },
    {
     "name": "stdout",
     "output_type": "stream",
     "text": [
      "Back-translation completed.\n",
      "Augmented rows: 36/30\n",
      "Class augmentation completed. Total rows: 36.\n",
      "Augmenting class with 18 rows to reach 30 rows...\n",
      "Starting back-translation for 18 texts...\n"
     ]
    },
    {
     "name": "stdout",
     "output_type": "stream",
     "text": [
      "Back-translation completed.\n",
      "Augmented rows: 36/30\n",
      "Class augmentation completed. Total rows: 36.\n",
      "Augmenting class with 18 rows to reach 30 rows...\n",
      "Starting back-translation for 18 texts...\n"
     ]
    },
    {
     "name": "stdout",
     "output_type": "stream",
     "text": [
      "Back-translation completed.\n",
      "Augmented rows: 36/30\n",
      "Class augmentation completed. Total rows: 36.\n",
      "Augmenting class with 17 rows to reach 30 rows...\n",
      "Starting back-translation for 17 texts...\n"
     ]
    },
    {
     "name": "stdout",
     "output_type": "stream",
     "text": [
      "Back-translation completed.\n",
      "Augmented rows: 34/30\n",
      "Class augmentation completed. Total rows: 34.\n",
      "Augmenting class with 17 rows to reach 30 rows...\n",
      "Starting back-translation for 17 texts...\n"
     ]
    },
    {
     "name": "stdout",
     "output_type": "stream",
     "text": [
      "Back-translation completed.\n",
      "Augmented rows: 34/30\n",
      "Class augmentation completed. Total rows: 34.\n",
      "Augmenting class with 17 rows to reach 30 rows...\n",
      "Starting back-translation for 17 texts...\n"
     ]
    },
    {
     "name": "stdout",
     "output_type": "stream",
     "text": [
      "Back-translation completed.\n",
      "Augmented rows: 34/30\n",
      "Class augmentation completed. Total rows: 34.\n",
      "Augmenting class with 17 rows to reach 30 rows...\n",
      "Starting back-translation for 17 texts...\n"
     ]
    },
    {
     "name": "stdout",
     "output_type": "stream",
     "text": [
      "Back-translation completed.\n",
      "Augmented rows: 34/30\n",
      "Class augmentation completed. Total rows: 34.\n",
      "Augmenting class with 17 rows to reach 30 rows...\n",
      "Starting back-translation for 17 texts...\n"
     ]
    },
    {
     "name": "stdout",
     "output_type": "stream",
     "text": [
      "Back-translation completed.\n",
      "Augmented rows: 34/30\n",
      "Class augmentation completed. Total rows: 34.\n",
      "Augmenting class with 16 rows to reach 30 rows...\n",
      "Starting back-translation for 16 texts...\n"
     ]
    },
    {
     "name": "stdout",
     "output_type": "stream",
     "text": [
      "Back-translation completed.\n",
      "Augmented rows: 32/30\n",
      "Class augmentation completed. Total rows: 32.\n",
      "Augmenting class with 16 rows to reach 30 rows...\n",
      "Starting back-translation for 16 texts...\n"
     ]
    },
    {
     "name": "stdout",
     "output_type": "stream",
     "text": [
      "Back-translation completed.\n",
      "Augmented rows: 32/30\n",
      "Class augmentation completed. Total rows: 32.\n",
      "Augmenting class with 16 rows to reach 30 rows...\n",
      "Starting back-translation for 16 texts...\n"
     ]
    },
    {
     "name": "stdout",
     "output_type": "stream",
     "text": [
      "Back-translation completed.\n",
      "Augmented rows: 32/30\n",
      "Class augmentation completed. Total rows: 32.\n",
      "Augmenting class with 16 rows to reach 30 rows...\n",
      "Starting back-translation for 16 texts...\n"
     ]
    },
    {
     "name": "stdout",
     "output_type": "stream",
     "text": [
      "Back-translation completed.\n",
      "Augmented rows: 32/30\n",
      "Class augmentation completed. Total rows: 32.\n",
      "Augmenting class with 15 rows to reach 30 rows...\n",
      "Starting back-translation for 15 texts...\n"
     ]
    },
    {
     "name": "stdout",
     "output_type": "stream",
     "text": [
      "Back-translation completed.\n",
      "Augmented rows: 30/30\n",
      "Class augmentation completed. Total rows: 30.\n",
      "Augmenting class with 15 rows to reach 30 rows...\n",
      "Starting back-translation for 15 texts...\n"
     ]
    },
    {
     "name": "stdout",
     "output_type": "stream",
     "text": [
      "Back-translation completed.\n",
      "Augmented rows: 30/30\n",
      "Class augmentation completed. Total rows: 30.\n",
      "Augmenting class with 15 rows to reach 30 rows...\n",
      "Starting back-translation for 15 texts...\n"
     ]
    },
    {
     "name": "stdout",
     "output_type": "stream",
     "text": [
      "Back-translation completed.\n",
      "Augmented rows: 30/30\n",
      "Class augmentation completed. Total rows: 30.\n",
      "Augmenting class with 15 rows to reach 30 rows...\n",
      "Starting back-translation for 15 texts...\n"
     ]
    },
    {
     "name": "stdout",
     "output_type": "stream",
     "text": [
      "Back-translation completed.\n",
      "Augmented rows: 30/30\n",
      "Class augmentation completed. Total rows: 30.\n",
      "Augmenting class with 14 rows to reach 30 rows...\n",
      "Starting back-translation for 14 texts...\n"
     ]
    },
    {
     "name": "stdout",
     "output_type": "stream",
     "text": [
      "Back-translation completed.\n",
      "Augmented rows: 28/30\n",
      "Starting back-translation for 14 texts...\n"
     ]
    },
    {
     "name": "stdout",
     "output_type": "stream",
     "text": [
      "Back-translation completed.\n",
      "Augmented rows: 42/30\n",
      "Class augmentation completed. Total rows: 42.\n",
      "Augmenting class with 14 rows to reach 30 rows...\n",
      "Starting back-translation for 14 texts...\n"
     ]
    },
    {
     "name": "stdout",
     "output_type": "stream",
     "text": [
      "Back-translation completed.\n",
      "Augmented rows: 28/30\n",
      "Starting back-translation for 14 texts...\n"
     ]
    },
    {
     "name": "stdout",
     "output_type": "stream",
     "text": [
      "Back-translation completed.\n",
      "Augmented rows: 42/30\n",
      "Class augmentation completed. Total rows: 42.\n",
      "Augmenting class with 14 rows to reach 30 rows...\n",
      "Starting back-translation for 14 texts...\n"
     ]
    },
    {
     "name": "stdout",
     "output_type": "stream",
     "text": [
      "Back-translation completed.\n",
      "Augmented rows: 28/30\n",
      "Starting back-translation for 14 texts...\n"
     ]
    },
    {
     "name": "stdout",
     "output_type": "stream",
     "text": [
      "Back-translation completed.\n",
      "Augmented rows: 42/30\n",
      "Class augmentation completed. Total rows: 42.\n",
      "Augmenting class with 14 rows to reach 30 rows...\n",
      "Starting back-translation for 14 texts...\n"
     ]
    },
    {
     "name": "stdout",
     "output_type": "stream",
     "text": [
      "Back-translation completed.\n",
      "Augmented rows: 28/30\n",
      "Starting back-translation for 14 texts...\n"
     ]
    },
    {
     "name": "stdout",
     "output_type": "stream",
     "text": [
      "Back-translation completed.\n",
      "Augmented rows: 42/30\n",
      "Class augmentation completed. Total rows: 42.\n",
      "Augmenting class with 13 rows to reach 30 rows...\n",
      "Starting back-translation for 13 texts...\n"
     ]
    },
    {
     "name": "stdout",
     "output_type": "stream",
     "text": [
      "Back-translation completed.\n",
      "Augmented rows: 26/30\n",
      "Starting back-translation for 13 texts...\n"
     ]
    },
    {
     "name": "stdout",
     "output_type": "stream",
     "text": [
      "Back-translation completed.\n",
      "Augmented rows: 39/30\n",
      "Class augmentation completed. Total rows: 39.\n",
      "Augmenting class with 13 rows to reach 30 rows...\n",
      "Starting back-translation for 13 texts...\n"
     ]
    },
    {
     "name": "stdout",
     "output_type": "stream",
     "text": [
      "Back-translation completed.\n",
      "Augmented rows: 26/30\n",
      "Starting back-translation for 13 texts...\n"
     ]
    },
    {
     "name": "stdout",
     "output_type": "stream",
     "text": [
      "Back-translation completed.\n",
      "Augmented rows: 39/30\n",
      "Class augmentation completed. Total rows: 39.\n",
      "Augmenting class with 13 rows to reach 30 rows...\n",
      "Starting back-translation for 13 texts...\n"
     ]
    },
    {
     "name": "stdout",
     "output_type": "stream",
     "text": [
      "Back-translation completed.\n",
      "Augmented rows: 26/30\n",
      "Starting back-translation for 13 texts...\n"
     ]
    },
    {
     "name": "stdout",
     "output_type": "stream",
     "text": [
      "Back-translation completed.\n",
      "Augmented rows: 39/30\n",
      "Class augmentation completed. Total rows: 39.\n",
      "Augmenting class with 13 rows to reach 30 rows...\n",
      "Starting back-translation for 13 texts...\n"
     ]
    },
    {
     "name": "stdout",
     "output_type": "stream",
     "text": [
      "Back-translation completed.\n",
      "Augmented rows: 26/30\n",
      "Starting back-translation for 13 texts...\n"
     ]
    },
    {
     "name": "stdout",
     "output_type": "stream",
     "text": [
      "Back-translation completed.\n",
      "Augmented rows: 39/30\n",
      "Class augmentation completed. Total rows: 39.\n",
      "Augmenting class with 13 rows to reach 30 rows...\n",
      "Starting back-translation for 13 texts...\n"
     ]
    },
    {
     "name": "stdout",
     "output_type": "stream",
     "text": [
      "Back-translation completed.\n",
      "Augmented rows: 26/30\n",
      "Starting back-translation for 13 texts...\n"
     ]
    },
    {
     "name": "stdout",
     "output_type": "stream",
     "text": [
      "Back-translation completed.\n",
      "Augmented rows: 39/30\n",
      "Class augmentation completed. Total rows: 39.\n",
      "Augmenting class with 13 rows to reach 30 rows...\n",
      "Starting back-translation for 13 texts...\n"
     ]
    },
    {
     "name": "stdout",
     "output_type": "stream",
     "text": [
      "Back-translation completed.\n",
      "Augmented rows: 26/30\n",
      "Starting back-translation for 13 texts...\n"
     ]
    },
    {
     "name": "stdout",
     "output_type": "stream",
     "text": [
      "Back-translation completed.\n",
      "Augmented rows: 39/30\n",
      "Class augmentation completed. Total rows: 39.\n",
      "Augmenting class with 12 rows to reach 30 rows...\n",
      "Starting back-translation for 12 texts...\n"
     ]
    },
    {
     "name": "stdout",
     "output_type": "stream",
     "text": [
      "Back-translation completed.\n",
      "Augmented rows: 24/30\n",
      "Starting back-translation for 12 texts...\n"
     ]
    },
    {
     "name": "stdout",
     "output_type": "stream",
     "text": [
      "Back-translation completed.\n",
      "Augmented rows: 36/30\n",
      "Class augmentation completed. Total rows: 36.\n",
      "Augmenting class with 12 rows to reach 30 rows...\n",
      "Starting back-translation for 12 texts...\n"
     ]
    },
    {
     "name": "stdout",
     "output_type": "stream",
     "text": [
      "Back-translation completed.\n",
      "Augmented rows: 24/30\n",
      "Starting back-translation for 12 texts...\n"
     ]
    },
    {
     "name": "stdout",
     "output_type": "stream",
     "text": [
      "Back-translation completed.\n",
      "Augmented rows: 36/30\n",
      "Class augmentation completed. Total rows: 36.\n",
      "Augmenting class with 12 rows to reach 30 rows...\n",
      "Starting back-translation for 12 texts...\n"
     ]
    },
    {
     "name": "stdout",
     "output_type": "stream",
     "text": [
      "Back-translation completed.\n",
      "Augmented rows: 24/30\n",
      "Starting back-translation for 12 texts...\n"
     ]
    },
    {
     "name": "stdout",
     "output_type": "stream",
     "text": [
      "Back-translation completed.\n",
      "Augmented rows: 36/30\n",
      "Class augmentation completed. Total rows: 36.\n",
      "Augmenting class with 12 rows to reach 30 rows...\n",
      "Starting back-translation for 12 texts...\n"
     ]
    },
    {
     "name": "stdout",
     "output_type": "stream",
     "text": [
      "Back-translation completed.\n",
      "Augmented rows: 24/30\n",
      "Starting back-translation for 12 texts...\n"
     ]
    },
    {
     "name": "stdout",
     "output_type": "stream",
     "text": [
      "Back-translation completed.\n",
      "Augmented rows: 36/30\n",
      "Class augmentation completed. Total rows: 36.\n",
      "Augmenting class with 12 rows to reach 30 rows...\n",
      "Starting back-translation for 12 texts...\n"
     ]
    },
    {
     "name": "stdout",
     "output_type": "stream",
     "text": [
      "Back-translation completed.\n",
      "Augmented rows: 24/30\n",
      "Starting back-translation for 12 texts...\n"
     ]
    },
    {
     "name": "stdout",
     "output_type": "stream",
     "text": [
      "Back-translation completed.\n",
      "Augmented rows: 36/30\n",
      "Class augmentation completed. Total rows: 36.\n",
      "Augmenting class with 12 rows to reach 30 rows...\n",
      "Starting back-translation for 12 texts...\n"
     ]
    },
    {
     "name": "stdout",
     "output_type": "stream",
     "text": [
      "Back-translation completed.\n",
      "Augmented rows: 24/30\n",
      "Starting back-translation for 12 texts...\n"
     ]
    },
    {
     "name": "stdout",
     "output_type": "stream",
     "text": [
      "Back-translation completed.\n",
      "Augmented rows: 36/30\n",
      "Class augmentation completed. Total rows: 36.\n",
      "Augmenting class with 12 rows to reach 30 rows...\n",
      "Starting back-translation for 12 texts...\n"
     ]
    },
    {
     "name": "stdout",
     "output_type": "stream",
     "text": [
      "Back-translation completed.\n",
      "Augmented rows: 24/30\n",
      "Starting back-translation for 12 texts...\n"
     ]
    },
    {
     "name": "stdout",
     "output_type": "stream",
     "text": [
      "Back-translation completed.\n",
      "Augmented rows: 36/30\n",
      "Class augmentation completed. Total rows: 36.\n",
      "Augmenting class with 12 rows to reach 30 rows...\n",
      "Starting back-translation for 12 texts...\n"
     ]
    },
    {
     "name": "stdout",
     "output_type": "stream",
     "text": [
      "Back-translation completed.\n",
      "Augmented rows: 24/30\n",
      "Starting back-translation for 12 texts...\n"
     ]
    },
    {
     "name": "stdout",
     "output_type": "stream",
     "text": [
      "Back-translation completed.\n",
      "Augmented rows: 36/30\n",
      "Class augmentation completed. Total rows: 36.\n",
      "Augmenting class with 12 rows to reach 30 rows...\n",
      "Starting back-translation for 12 texts...\n"
     ]
    },
    {
     "name": "stdout",
     "output_type": "stream",
     "text": [
      "Back-translation completed.\n",
      "Augmented rows: 24/30\n",
      "Starting back-translation for 12 texts...\n"
     ]
    },
    {
     "name": "stdout",
     "output_type": "stream",
     "text": [
      "Back-translation completed.\n",
      "Augmented rows: 36/30\n",
      "Class augmentation completed. Total rows: 36.\n",
      "Augmenting class with 11 rows to reach 30 rows...\n",
      "Starting back-translation for 11 texts...\n"
     ]
    },
    {
     "name": "stdout",
     "output_type": "stream",
     "text": [
      "Back-translation completed.\n",
      "Augmented rows: 22/30\n",
      "Starting back-translation for 11 texts...\n"
     ]
    },
    {
     "name": "stdout",
     "output_type": "stream",
     "text": [
      "Back-translation completed.\n",
      "Augmented rows: 33/30\n",
      "Class augmentation completed. Total rows: 33.\n",
      "Augmenting class with 11 rows to reach 30 rows...\n",
      "Starting back-translation for 11 texts...\n"
     ]
    },
    {
     "name": "stdout",
     "output_type": "stream",
     "text": [
      "Back-translation completed.\n",
      "Augmented rows: 22/30\n",
      "Starting back-translation for 11 texts...\n"
     ]
    },
    {
     "name": "stdout",
     "output_type": "stream",
     "text": [
      "Back-translation completed.\n",
      "Augmented rows: 33/30\n",
      "Class augmentation completed. Total rows: 33.\n",
      "Augmenting class with 11 rows to reach 30 rows...\n",
      "Starting back-translation for 11 texts...\n"
     ]
    },
    {
     "name": "stdout",
     "output_type": "stream",
     "text": [
      "Back-translation completed.\n",
      "Augmented rows: 22/30\n",
      "Starting back-translation for 11 texts...\n"
     ]
    },
    {
     "name": "stdout",
     "output_type": "stream",
     "text": [
      "Back-translation completed.\n",
      "Augmented rows: 33/30\n",
      "Class augmentation completed. Total rows: 33.\n",
      "Augmenting class with 11 rows to reach 30 rows...\n",
      "Starting back-translation for 11 texts...\n"
     ]
    },
    {
     "name": "stdout",
     "output_type": "stream",
     "text": [
      "Back-translation completed.\n",
      "Augmented rows: 22/30\n",
      "Starting back-translation for 11 texts...\n"
     ]
    },
    {
     "name": "stdout",
     "output_type": "stream",
     "text": [
      "Back-translation completed.\n",
      "Augmented rows: 33/30\n",
      "Class augmentation completed. Total rows: 33.\n",
      "Augmenting class with 11 rows to reach 30 rows...\n",
      "Starting back-translation for 11 texts...\n"
     ]
    },
    {
     "name": "stdout",
     "output_type": "stream",
     "text": [
      "Back-translation completed.\n",
      "Augmented rows: 22/30\n",
      "Starting back-translation for 11 texts...\n"
     ]
    },
    {
     "name": "stdout",
     "output_type": "stream",
     "text": [
      "Back-translation completed.\n",
      "Augmented rows: 33/30\n",
      "Class augmentation completed. Total rows: 33.\n",
      "Augmenting class with 11 rows to reach 30 rows...\n",
      "Starting back-translation for 11 texts...\n"
     ]
    },
    {
     "name": "stdout",
     "output_type": "stream",
     "text": [
      "Back-translation completed.\n",
      "Augmented rows: 22/30\n",
      "Starting back-translation for 11 texts...\n"
     ]
    },
    {
     "name": "stdout",
     "output_type": "stream",
     "text": [
      "Back-translation completed.\n",
      "Augmented rows: 33/30\n",
      "Class augmentation completed. Total rows: 33.\n",
      "Augmenting class with 11 rows to reach 30 rows...\n",
      "Starting back-translation for 11 texts...\n"
     ]
    },
    {
     "name": "stdout",
     "output_type": "stream",
     "text": [
      "Back-translation completed.\n",
      "Augmented rows: 22/30\n",
      "Starting back-translation for 11 texts...\n"
     ]
    },
    {
     "name": "stdout",
     "output_type": "stream",
     "text": [
      "Back-translation completed.\n",
      "Augmented rows: 33/30\n",
      "Class augmentation completed. Total rows: 33.\n",
      "Augmenting class with 11 rows to reach 30 rows...\n",
      "Starting back-translation for 11 texts...\n"
     ]
    },
    {
     "name": "stdout",
     "output_type": "stream",
     "text": [
      "Back-translation completed.\n",
      "Augmented rows: 22/30\n",
      "Starting back-translation for 11 texts...\n"
     ]
    },
    {
     "name": "stdout",
     "output_type": "stream",
     "text": [
      "Back-translation completed.\n",
      "Augmented rows: 33/30\n",
      "Class augmentation completed. Total rows: 33.\n",
      "Augmenting class with 11 rows to reach 30 rows...\n",
      "Starting back-translation for 11 texts...\n"
     ]
    },
    {
     "name": "stdout",
     "output_type": "stream",
     "text": [
      "Back-translation completed.\n",
      "Augmented rows: 22/30\n",
      "Starting back-translation for 11 texts...\n"
     ]
    },
    {
     "name": "stdout",
     "output_type": "stream",
     "text": [
      "Back-translation completed.\n",
      "Augmented rows: 33/30\n",
      "Class augmentation completed. Total rows: 33.\n",
      "Augmenting class with 11 rows to reach 30 rows...\n",
      "Starting back-translation for 11 texts...\n"
     ]
    },
    {
     "name": "stdout",
     "output_type": "stream",
     "text": [
      "Back-translation completed.\n",
      "Augmented rows: 22/30\n",
      "Starting back-translation for 11 texts...\n"
     ]
    },
    {
     "name": "stdout",
     "output_type": "stream",
     "text": [
      "Back-translation completed.\n",
      "Augmented rows: 33/30\n",
      "Class augmentation completed. Total rows: 33.\n",
      "Augmenting class with 11 rows to reach 30 rows...\n",
      "Starting back-translation for 11 texts...\n"
     ]
    },
    {
     "name": "stdout",
     "output_type": "stream",
     "text": [
      "Back-translation completed.\n",
      "Augmented rows: 22/30\n",
      "Starting back-translation for 11 texts...\n"
     ]
    },
    {
     "name": "stdout",
     "output_type": "stream",
     "text": [
      "Back-translation completed.\n",
      "Augmented rows: 33/30\n",
      "Class augmentation completed. Total rows: 33.\n",
      "Augmenting class with 11 rows to reach 30 rows...\n",
      "Starting back-translation for 11 texts...\n"
     ]
    },
    {
     "name": "stdout",
     "output_type": "stream",
     "text": [
      "Back-translation completed.\n",
      "Augmented rows: 22/30\n",
      "Starting back-translation for 11 texts...\n"
     ]
    },
    {
     "name": "stdout",
     "output_type": "stream",
     "text": [
      "Back-translation completed.\n",
      "Augmented rows: 33/30\n",
      "Class augmentation completed. Total rows: 33.\n",
      "Augmenting class with 11 rows to reach 30 rows...\n",
      "Starting back-translation for 11 texts...\n"
     ]
    },
    {
     "name": "stdout",
     "output_type": "stream",
     "text": [
      "Back-translation completed.\n",
      "Augmented rows: 22/30\n",
      "Starting back-translation for 11 texts...\n"
     ]
    },
    {
     "name": "stdout",
     "output_type": "stream",
     "text": [
      "Back-translation completed.\n",
      "Augmented rows: 33/30\n",
      "Class augmentation completed. Total rows: 33.\n",
      "Augmenting class with 10 rows to reach 30 rows...\n",
      "Starting back-translation for 10 texts...\n"
     ]
    },
    {
     "name": "stdout",
     "output_type": "stream",
     "text": [
      "Back-translation completed.\n",
      "Augmented rows: 20/30\n",
      "Starting back-translation for 10 texts...\n"
     ]
    },
    {
     "name": "stdout",
     "output_type": "stream",
     "text": [
      "Back-translation completed.\n",
      "Augmented rows: 30/30\n",
      "Class augmentation completed. Total rows: 30.\n",
      "Augmenting class with 10 rows to reach 30 rows...\n",
      "Starting back-translation for 10 texts...\n"
     ]
    },
    {
     "name": "stdout",
     "output_type": "stream",
     "text": [
      "Back-translation completed.\n",
      "Augmented rows: 20/30\n",
      "Starting back-translation for 10 texts...\n"
     ]
    },
    {
     "name": "stdout",
     "output_type": "stream",
     "text": [
      "Back-translation completed.\n",
      "Augmented rows: 30/30\n",
      "Class augmentation completed. Total rows: 30.\n",
      "Augmenting class with 10 rows to reach 30 rows...\n",
      "Starting back-translation for 10 texts...\n"
     ]
    },
    {
     "name": "stdout",
     "output_type": "stream",
     "text": [
      "Back-translation completed.\n",
      "Augmented rows: 20/30\n",
      "Starting back-translation for 10 texts...\n"
     ]
    },
    {
     "name": "stdout",
     "output_type": "stream",
     "text": [
      "Back-translation completed.\n",
      "Augmented rows: 30/30\n",
      "Class augmentation completed. Total rows: 30.\n",
      "Augmenting class with 10 rows to reach 30 rows...\n",
      "Starting back-translation for 10 texts...\n"
     ]
    },
    {
     "name": "stdout",
     "output_type": "stream",
     "text": [
      "Back-translation completed.\n",
      "Augmented rows: 20/30\n",
      "Starting back-translation for 10 texts...\n"
     ]
    },
    {
     "name": "stdout",
     "output_type": "stream",
     "text": [
      "Back-translation completed.\n",
      "Augmented rows: 30/30\n",
      "Class augmentation completed. Total rows: 30.\n",
      "Augmenting class with 10 rows to reach 30 rows...\n",
      "Starting back-translation for 10 texts...\n"
     ]
    },
    {
     "name": "stdout",
     "output_type": "stream",
     "text": [
      "Back-translation completed.\n",
      "Augmented rows: 20/30\n",
      "Starting back-translation for 10 texts...\n"
     ]
    },
    {
     "name": "stdout",
     "output_type": "stream",
     "text": [
      "Back-translation completed.\n",
      "Augmented rows: 30/30\n",
      "Class augmentation completed. Total rows: 30.\n",
      "Augmenting class with 10 rows to reach 30 rows...\n",
      "Starting back-translation for 10 texts...\n"
     ]
    },
    {
     "name": "stdout",
     "output_type": "stream",
     "text": [
      "Back-translation completed.\n",
      "Augmented rows: 20/30\n",
      "Starting back-translation for 10 texts...\n"
     ]
    },
    {
     "name": "stdout",
     "output_type": "stream",
     "text": [
      "Back-translation completed.\n",
      "Augmented rows: 30/30\n",
      "Class augmentation completed. Total rows: 30.\n",
      "Augmenting class with 10 rows to reach 30 rows...\n",
      "Starting back-translation for 10 texts...\n"
     ]
    },
    {
     "name": "stdout",
     "output_type": "stream",
     "text": [
      "Back-translation completed.\n",
      "Augmented rows: 20/30\n",
      "Starting back-translation for 10 texts...\n"
     ]
    },
    {
     "name": "stdout",
     "output_type": "stream",
     "text": [
      "Back-translation completed.\n",
      "Augmented rows: 30/30\n",
      "Class augmentation completed. Total rows: 30.\n",
      "Augmenting class with 10 rows to reach 30 rows...\n",
      "Starting back-translation for 10 texts...\n"
     ]
    },
    {
     "name": "stdout",
     "output_type": "stream",
     "text": [
      "Back-translation completed.\n",
      "Augmented rows: 20/30\n",
      "Starting back-translation for 10 texts...\n"
     ]
    },
    {
     "name": "stdout",
     "output_type": "stream",
     "text": [
      "Back-translation completed.\n",
      "Augmented rows: 30/30\n",
      "Class augmentation completed. Total rows: 30.\n",
      "Augmenting class with 10 rows to reach 30 rows...\n",
      "Starting back-translation for 10 texts...\n"
     ]
    },
    {
     "name": "stdout",
     "output_type": "stream",
     "text": [
      "Back-translation completed.\n",
      "Augmented rows: 20/30\n",
      "Starting back-translation for 10 texts...\n"
     ]
    },
    {
     "name": "stdout",
     "output_type": "stream",
     "text": [
      "Back-translation completed.\n",
      "Augmented rows: 30/30\n",
      "Class augmentation completed. Total rows: 30.\n",
      "Augmenting class with 10 rows to reach 30 rows...\n",
      "Starting back-translation for 10 texts...\n"
     ]
    },
    {
     "name": "stdout",
     "output_type": "stream",
     "text": [
      "Back-translation completed.\n",
      "Augmented rows: 20/30\n",
      "Starting back-translation for 10 texts...\n"
     ]
    },
    {
     "name": "stdout",
     "output_type": "stream",
     "text": [
      "Back-translation completed.\n",
      "Augmented rows: 30/30\n",
      "Class augmentation completed. Total rows: 30.\n",
      "Augmenting class with 10 rows to reach 30 rows...\n",
      "Starting back-translation for 10 texts...\n"
     ]
    },
    {
     "name": "stdout",
     "output_type": "stream",
     "text": [
      "Back-translation completed.\n",
      "Augmented rows: 20/30\n",
      "Starting back-translation for 10 texts...\n"
     ]
    },
    {
     "name": "stdout",
     "output_type": "stream",
     "text": [
      "Back-translation completed.\n",
      "Augmented rows: 30/30\n",
      "Class augmentation completed. Total rows: 30.\n",
      "Augmenting class with 9 rows to reach 30 rows...\n",
      "Starting back-translation for 9 texts...\n"
     ]
    },
    {
     "name": "stdout",
     "output_type": "stream",
     "text": [
      "Back-translation completed.\n",
      "Augmented rows: 18/30\n",
      "Starting back-translation for 9 texts...\n"
     ]
    },
    {
     "name": "stdout",
     "output_type": "stream",
     "text": [
      "Back-translation completed.\n",
      "Augmented rows: 27/30\n",
      "Starting back-translation for 9 texts...\n"
     ]
    },
    {
     "name": "stdout",
     "output_type": "stream",
     "text": [
      "Back-translation completed.\n",
      "Augmented rows: 36/30\n",
      "Class augmentation completed. Total rows: 36.\n",
      "Augmenting class with 9 rows to reach 30 rows...\n",
      "Starting back-translation for 9 texts...\n"
     ]
    },
    {
     "name": "stdout",
     "output_type": "stream",
     "text": [
      "Back-translation completed.\n",
      "Augmented rows: 18/30\n",
      "Starting back-translation for 9 texts...\n"
     ]
    },
    {
     "name": "stdout",
     "output_type": "stream",
     "text": [
      "Back-translation completed.\n",
      "Augmented rows: 27/30\n",
      "Starting back-translation for 9 texts...\n"
     ]
    },
    {
     "name": "stdout",
     "output_type": "stream",
     "text": [
      "Back-translation completed.\n",
      "Augmented rows: 36/30\n",
      "Class augmentation completed. Total rows: 36.\n",
      "Augmenting class with 9 rows to reach 30 rows...\n",
      "Starting back-translation for 9 texts...\n"
     ]
    },
    {
     "name": "stdout",
     "output_type": "stream",
     "text": [
      "Back-translation completed.\n",
      "Augmented rows: 18/30\n",
      "Starting back-translation for 9 texts...\n"
     ]
    },
    {
     "name": "stdout",
     "output_type": "stream",
     "text": [
      "Back-translation completed.\n",
      "Augmented rows: 27/30\n",
      "Starting back-translation for 9 texts...\n"
     ]
    },
    {
     "name": "stdout",
     "output_type": "stream",
     "text": [
      "Back-translation completed.\n",
      "Augmented rows: 36/30\n",
      "Class augmentation completed. Total rows: 36.\n",
      "Augmenting class with 9 rows to reach 30 rows...\n",
      "Starting back-translation for 9 texts...\n"
     ]
    },
    {
     "name": "stdout",
     "output_type": "stream",
     "text": [
      "Back-translation completed.\n",
      "Augmented rows: 18/30\n",
      "Starting back-translation for 9 texts...\n"
     ]
    },
    {
     "name": "stdout",
     "output_type": "stream",
     "text": [
      "Back-translation completed.\n",
      "Augmented rows: 27/30\n",
      "Starting back-translation for 9 texts...\n"
     ]
    },
    {
     "name": "stdout",
     "output_type": "stream",
     "text": [
      "Back-translation completed.\n",
      "Augmented rows: 36/30\n",
      "Class augmentation completed. Total rows: 36.\n",
      "Augmenting class with 9 rows to reach 30 rows...\n",
      "Starting back-translation for 9 texts...\n"
     ]
    },
    {
     "name": "stdout",
     "output_type": "stream",
     "text": [
      "Back-translation completed.\n",
      "Augmented rows: 18/30\n",
      "Starting back-translation for 9 texts...\n"
     ]
    },
    {
     "name": "stdout",
     "output_type": "stream",
     "text": [
      "Back-translation completed.\n",
      "Augmented rows: 27/30\n",
      "Starting back-translation for 9 texts...\n"
     ]
    },
    {
     "name": "stdout",
     "output_type": "stream",
     "text": [
      "Back-translation completed.\n",
      "Augmented rows: 36/30\n",
      "Class augmentation completed. Total rows: 36.\n",
      "Augmenting class with 9 rows to reach 30 rows...\n",
      "Starting back-translation for 9 texts...\n"
     ]
    },
    {
     "name": "stdout",
     "output_type": "stream",
     "text": [
      "Back-translation completed.\n",
      "Augmented rows: 18/30\n",
      "Starting back-translation for 9 texts...\n"
     ]
    },
    {
     "name": "stdout",
     "output_type": "stream",
     "text": [
      "Back-translation completed.\n",
      "Augmented rows: 27/30\n",
      "Starting back-translation for 9 texts...\n"
     ]
    },
    {
     "name": "stdout",
     "output_type": "stream",
     "text": [
      "Back-translation completed.\n",
      "Augmented rows: 36/30\n",
      "Class augmentation completed. Total rows: 36.\n",
      "Augmenting class with 9 rows to reach 30 rows...\n",
      "Starting back-translation for 9 texts...\n"
     ]
    },
    {
     "name": "stdout",
     "output_type": "stream",
     "text": [
      "Back-translation completed.\n",
      "Augmented rows: 18/30\n",
      "Starting back-translation for 9 texts...\n"
     ]
    },
    {
     "name": "stdout",
     "output_type": "stream",
     "text": [
      "Back-translation completed.\n",
      "Augmented rows: 27/30\n",
      "Starting back-translation for 9 texts...\n"
     ]
    },
    {
     "name": "stdout",
     "output_type": "stream",
     "text": [
      "Back-translation completed.\n",
      "Augmented rows: 36/30\n",
      "Class augmentation completed. Total rows: 36.\n",
      "Augmenting class with 9 rows to reach 30 rows...\n",
      "Starting back-translation for 9 texts...\n"
     ]
    },
    {
     "name": "stdout",
     "output_type": "stream",
     "text": [
      "Back-translation completed.\n",
      "Augmented rows: 18/30\n",
      "Starting back-translation for 9 texts...\n"
     ]
    },
    {
     "name": "stdout",
     "output_type": "stream",
     "text": [
      "Back-translation completed.\n",
      "Augmented rows: 27/30\n",
      "Starting back-translation for 9 texts...\n"
     ]
    },
    {
     "name": "stdout",
     "output_type": "stream",
     "text": [
      "Back-translation completed.\n",
      "Augmented rows: 36/30\n",
      "Class augmentation completed. Total rows: 36.\n",
      "Augmenting class with 9 rows to reach 30 rows...\n",
      "Starting back-translation for 9 texts...\n"
     ]
    },
    {
     "name": "stdout",
     "output_type": "stream",
     "text": [
      "Back-translation completed.\n",
      "Augmented rows: 18/30\n",
      "Starting back-translation for 9 texts...\n"
     ]
    },
    {
     "name": "stdout",
     "output_type": "stream",
     "text": [
      "Back-translation completed.\n",
      "Augmented rows: 27/30\n",
      "Starting back-translation for 9 texts...\n"
     ]
    },
    {
     "name": "stdout",
     "output_type": "stream",
     "text": [
      "Back-translation completed.\n",
      "Augmented rows: 36/30\n",
      "Class augmentation completed. Total rows: 36.\n",
      "Augmenting class with 9 rows to reach 30 rows...\n",
      "Starting back-translation for 9 texts...\n"
     ]
    },
    {
     "name": "stdout",
     "output_type": "stream",
     "text": [
      "Back-translation completed.\n",
      "Augmented rows: 18/30\n",
      "Starting back-translation for 9 texts...\n"
     ]
    },
    {
     "name": "stdout",
     "output_type": "stream",
     "text": [
      "Back-translation completed.\n",
      "Augmented rows: 27/30\n",
      "Starting back-translation for 9 texts...\n"
     ]
    },
    {
     "name": "stdout",
     "output_type": "stream",
     "text": [
      "Back-translation completed.\n",
      "Augmented rows: 36/30\n",
      "Class augmentation completed. Total rows: 36.\n",
      "Augmenting class with 9 rows to reach 30 rows...\n",
      "Starting back-translation for 9 texts...\n"
     ]
    },
    {
     "name": "stdout",
     "output_type": "stream",
     "text": [
      "Back-translation completed.\n",
      "Augmented rows: 18/30\n",
      "Starting back-translation for 9 texts...\n"
     ]
    },
    {
     "name": "stdout",
     "output_type": "stream",
     "text": [
      "Back-translation completed.\n",
      "Augmented rows: 27/30\n",
      "Starting back-translation for 9 texts...\n"
     ]
    },
    {
     "name": "stdout",
     "output_type": "stream",
     "text": [
      "Back-translation completed.\n",
      "Augmented rows: 36/30\n",
      "Class augmentation completed. Total rows: 36.\n",
      "Augmenting class with 9 rows to reach 30 rows...\n",
      "Starting back-translation for 9 texts...\n"
     ]
    },
    {
     "name": "stdout",
     "output_type": "stream",
     "text": [
      "Back-translation completed.\n",
      "Augmented rows: 18/30\n",
      "Starting back-translation for 9 texts...\n"
     ]
    },
    {
     "name": "stdout",
     "output_type": "stream",
     "text": [
      "Back-translation completed.\n",
      "Augmented rows: 27/30\n",
      "Starting back-translation for 9 texts...\n"
     ]
    },
    {
     "name": "stdout",
     "output_type": "stream",
     "text": [
      "Back-translation completed.\n",
      "Augmented rows: 36/30\n",
      "Class augmentation completed. Total rows: 36.\n",
      "Augmenting class with 9 rows to reach 30 rows...\n",
      "Starting back-translation for 9 texts...\n"
     ]
    },
    {
     "name": "stdout",
     "output_type": "stream",
     "text": [
      "Back-translation completed.\n",
      "Augmented rows: 18/30\n",
      "Starting back-translation for 9 texts...\n"
     ]
    },
    {
     "name": "stdout",
     "output_type": "stream",
     "text": [
      "Back-translation completed.\n",
      "Augmented rows: 27/30\n",
      "Starting back-translation for 9 texts...\n"
     ]
    },
    {
     "name": "stdout",
     "output_type": "stream",
     "text": [
      "Back-translation completed.\n",
      "Augmented rows: 36/30\n",
      "Class augmentation completed. Total rows: 36.\n",
      "Augmenting class with 9 rows to reach 30 rows...\n",
      "Starting back-translation for 9 texts...\n"
     ]
    },
    {
     "name": "stdout",
     "output_type": "stream",
     "text": [
      "Back-translation completed.\n",
      "Augmented rows: 18/30\n",
      "Starting back-translation for 9 texts...\n"
     ]
    },
    {
     "name": "stdout",
     "output_type": "stream",
     "text": [
      "Back-translation completed.\n",
      "Augmented rows: 27/30\n",
      "Starting back-translation for 9 texts...\n"
     ]
    },
    {
     "name": "stdout",
     "output_type": "stream",
     "text": [
      "Back-translation completed.\n",
      "Augmented rows: 36/30\n",
      "Class augmentation completed. Total rows: 36.\n",
      "Augmenting class with 9 rows to reach 30 rows...\n",
      "Starting back-translation for 9 texts...\n"
     ]
    },
    {
     "name": "stdout",
     "output_type": "stream",
     "text": [
      "Back-translation completed.\n",
      "Augmented rows: 18/30\n",
      "Starting back-translation for 9 texts...\n"
     ]
    },
    {
     "name": "stdout",
     "output_type": "stream",
     "text": [
      "Back-translation completed.\n",
      "Augmented rows: 27/30\n",
      "Starting back-translation for 9 texts...\n"
     ]
    },
    {
     "name": "stdout",
     "output_type": "stream",
     "text": [
      "Back-translation completed.\n",
      "Augmented rows: 36/30\n",
      "Class augmentation completed. Total rows: 36.\n",
      "Augmenting class with 9 rows to reach 30 rows...\n",
      "Starting back-translation for 9 texts...\n"
     ]
    },
    {
     "name": "stdout",
     "output_type": "stream",
     "text": [
      "Back-translation completed.\n",
      "Augmented rows: 18/30\n",
      "Starting back-translation for 9 texts...\n"
     ]
    },
    {
     "name": "stdout",
     "output_type": "stream",
     "text": [
      "Back-translation completed.\n",
      "Augmented rows: 27/30\n",
      "Starting back-translation for 9 texts...\n"
     ]
    },
    {
     "name": "stdout",
     "output_type": "stream",
     "text": [
      "Back-translation completed.\n",
      "Augmented rows: 36/30\n",
      "Class augmentation completed. Total rows: 36.\n",
      "Augmenting class with 9 rows to reach 30 rows...\n",
      "Starting back-translation for 9 texts...\n"
     ]
    },
    {
     "name": "stdout",
     "output_type": "stream",
     "text": [
      "Back-translation completed.\n",
      "Augmented rows: 18/30\n",
      "Starting back-translation for 9 texts...\n"
     ]
    },
    {
     "name": "stdout",
     "output_type": "stream",
     "text": [
      "Back-translation completed.\n",
      "Augmented rows: 27/30\n",
      "Starting back-translation for 9 texts...\n"
     ]
    },
    {
     "name": "stdout",
     "output_type": "stream",
     "text": [
      "Back-translation completed.\n",
      "Augmented rows: 36/30\n",
      "Class augmentation completed. Total rows: 36.\n",
      "Augmenting class with 9 rows to reach 30 rows...\n",
      "Starting back-translation for 9 texts...\n"
     ]
    },
    {
     "name": "stdout",
     "output_type": "stream",
     "text": [
      "Back-translation completed.\n",
      "Augmented rows: 18/30\n",
      "Starting back-translation for 9 texts...\n"
     ]
    },
    {
     "name": "stdout",
     "output_type": "stream",
     "text": [
      "Back-translation completed.\n",
      "Augmented rows: 27/30\n",
      "Starting back-translation for 9 texts...\n"
     ]
    },
    {
     "name": "stdout",
     "output_type": "stream",
     "text": [
      "Back-translation completed.\n",
      "Augmented rows: 36/30\n",
      "Class augmentation completed. Total rows: 36.\n",
      "Augmenting class with 8 rows to reach 30 rows...\n",
      "Starting back-translation for 8 texts...\n"
     ]
    },
    {
     "name": "stdout",
     "output_type": "stream",
     "text": [
      "Back-translation completed.\n",
      "Augmented rows: 16/30\n",
      "Starting back-translation for 8 texts...\n"
     ]
    },
    {
     "name": "stdout",
     "output_type": "stream",
     "text": [
      "Back-translation completed.\n",
      "Augmented rows: 24/30\n",
      "Starting back-translation for 8 texts...\n"
     ]
    },
    {
     "name": "stdout",
     "output_type": "stream",
     "text": [
      "Back-translation completed.\n",
      "Augmented rows: 32/30\n",
      "Class augmentation completed. Total rows: 32.\n",
      "Augmenting class with 8 rows to reach 30 rows...\n",
      "Starting back-translation for 8 texts...\n"
     ]
    },
    {
     "name": "stdout",
     "output_type": "stream",
     "text": [
      "Back-translation completed.\n",
      "Augmented rows: 16/30\n",
      "Starting back-translation for 8 texts...\n"
     ]
    },
    {
     "name": "stdout",
     "output_type": "stream",
     "text": [
      "Back-translation completed.\n",
      "Augmented rows: 24/30\n",
      "Starting back-translation for 8 texts...\n"
     ]
    },
    {
     "name": "stdout",
     "output_type": "stream",
     "text": [
      "Back-translation completed.\n",
      "Augmented rows: 32/30\n",
      "Class augmentation completed. Total rows: 32.\n",
      "Augmenting class with 8 rows to reach 30 rows...\n",
      "Starting back-translation for 8 texts...\n"
     ]
    },
    {
     "name": "stdout",
     "output_type": "stream",
     "text": [
      "Back-translation completed.\n",
      "Augmented rows: 16/30\n",
      "Starting back-translation for 8 texts...\n"
     ]
    },
    {
     "name": "stdout",
     "output_type": "stream",
     "text": [
      "Back-translation completed.\n",
      "Augmented rows: 24/30\n",
      "Starting back-translation for 8 texts...\n"
     ]
    },
    {
     "name": "stdout",
     "output_type": "stream",
     "text": [
      "Back-translation completed.\n",
      "Augmented rows: 32/30\n",
      "Class augmentation completed. Total rows: 32.\n",
      "Augmenting class with 8 rows to reach 30 rows...\n",
      "Starting back-translation for 8 texts...\n"
     ]
    },
    {
     "name": "stdout",
     "output_type": "stream",
     "text": [
      "Back-translation completed.\n",
      "Augmented rows: 16/30\n",
      "Starting back-translation for 8 texts...\n"
     ]
    },
    {
     "name": "stdout",
     "output_type": "stream",
     "text": [
      "Back-translation completed.\n",
      "Augmented rows: 24/30\n",
      "Starting back-translation for 8 texts...\n"
     ]
    },
    {
     "name": "stdout",
     "output_type": "stream",
     "text": [
      "Back-translation completed.\n",
      "Augmented rows: 32/30\n",
      "Class augmentation completed. Total rows: 32.\n",
      "Augmenting class with 8 rows to reach 30 rows...\n",
      "Starting back-translation for 8 texts...\n"
     ]
    },
    {
     "name": "stdout",
     "output_type": "stream",
     "text": [
      "Back-translation completed.\n",
      "Augmented rows: 16/30\n",
      "Starting back-translation for 8 texts...\n"
     ]
    },
    {
     "name": "stdout",
     "output_type": "stream",
     "text": [
      "Back-translation completed.\n",
      "Augmented rows: 24/30\n",
      "Starting back-translation for 8 texts...\n"
     ]
    },
    {
     "name": "stdout",
     "output_type": "stream",
     "text": [
      "Back-translation completed.\n",
      "Augmented rows: 32/30\n",
      "Class augmentation completed. Total rows: 32.\n",
      "Augmenting class with 8 rows to reach 30 rows...\n",
      "Starting back-translation for 8 texts...\n"
     ]
    },
    {
     "name": "stdout",
     "output_type": "stream",
     "text": [
      "Back-translation completed.\n",
      "Augmented rows: 16/30\n",
      "Starting back-translation for 8 texts...\n"
     ]
    },
    {
     "name": "stdout",
     "output_type": "stream",
     "text": [
      "Back-translation completed.\n",
      "Augmented rows: 24/30\n",
      "Starting back-translation for 8 texts...\n"
     ]
    },
    {
     "name": "stdout",
     "output_type": "stream",
     "text": [
      "Back-translation completed.\n",
      "Augmented rows: 32/30\n",
      "Class augmentation completed. Total rows: 32.\n",
      "Augmenting class with 8 rows to reach 30 rows...\n",
      "Starting back-translation for 8 texts...\n"
     ]
    },
    {
     "name": "stdout",
     "output_type": "stream",
     "text": [
      "Back-translation completed.\n",
      "Augmented rows: 16/30\n",
      "Starting back-translation for 8 texts...\n"
     ]
    },
    {
     "name": "stdout",
     "output_type": "stream",
     "text": [
      "Back-translation completed.\n",
      "Augmented rows: 24/30\n",
      "Starting back-translation for 8 texts...\n"
     ]
    },
    {
     "name": "stdout",
     "output_type": "stream",
     "text": [
      "Back-translation completed.\n",
      "Augmented rows: 32/30\n",
      "Class augmentation completed. Total rows: 32.\n",
      "Augmenting class with 8 rows to reach 30 rows...\n",
      "Starting back-translation for 8 texts...\n"
     ]
    },
    {
     "name": "stdout",
     "output_type": "stream",
     "text": [
      "Back-translation completed.\n",
      "Augmented rows: 16/30\n",
      "Starting back-translation for 8 texts...\n"
     ]
    },
    {
     "name": "stdout",
     "output_type": "stream",
     "text": [
      "Back-translation completed.\n",
      "Augmented rows: 24/30\n",
      "Starting back-translation for 8 texts...\n"
     ]
    },
    {
     "name": "stdout",
     "output_type": "stream",
     "text": [
      "Back-translation completed.\n",
      "Augmented rows: 32/30\n",
      "Class augmentation completed. Total rows: 32.\n",
      "Augmenting class with 8 rows to reach 30 rows...\n",
      "Starting back-translation for 8 texts...\n"
     ]
    },
    {
     "name": "stdout",
     "output_type": "stream",
     "text": [
      "Back-translation completed.\n",
      "Augmented rows: 16/30\n",
      "Starting back-translation for 8 texts...\n"
     ]
    },
    {
     "name": "stdout",
     "output_type": "stream",
     "text": [
      "Back-translation completed.\n",
      "Augmented rows: 24/30\n",
      "Starting back-translation for 8 texts...\n"
     ]
    },
    {
     "name": "stdout",
     "output_type": "stream",
     "text": [
      "Back-translation completed.\n",
      "Augmented rows: 32/30\n",
      "Class augmentation completed. Total rows: 32.\n",
      "Augmenting class with 8 rows to reach 30 rows...\n",
      "Starting back-translation for 8 texts...\n"
     ]
    },
    {
     "name": "stdout",
     "output_type": "stream",
     "text": [
      "Back-translation completed.\n",
      "Augmented rows: 16/30\n",
      "Starting back-translation for 8 texts...\n"
     ]
    },
    {
     "name": "stdout",
     "output_type": "stream",
     "text": [
      "Back-translation completed.\n",
      "Augmented rows: 24/30\n",
      "Starting back-translation for 8 texts...\n"
     ]
    },
    {
     "name": "stdout",
     "output_type": "stream",
     "text": [
      "Back-translation completed.\n",
      "Augmented rows: 32/30\n",
      "Class augmentation completed. Total rows: 32.\n",
      "Augmenting class with 8 rows to reach 30 rows...\n",
      "Starting back-translation for 8 texts...\n"
     ]
    },
    {
     "name": "stdout",
     "output_type": "stream",
     "text": [
      "Back-translation completed.\n",
      "Augmented rows: 16/30\n",
      "Starting back-translation for 8 texts...\n"
     ]
    },
    {
     "name": "stdout",
     "output_type": "stream",
     "text": [
      "Back-translation completed.\n",
      "Augmented rows: 24/30\n",
      "Starting back-translation for 8 texts...\n"
     ]
    },
    {
     "name": "stdout",
     "output_type": "stream",
     "text": [
      "Back-translation completed.\n",
      "Augmented rows: 32/30\n",
      "Class augmentation completed. Total rows: 32.\n",
      "Augmenting class with 8 rows to reach 30 rows...\n",
      "Starting back-translation for 8 texts...\n"
     ]
    },
    {
     "name": "stdout",
     "output_type": "stream",
     "text": [
      "Back-translation completed.\n",
      "Augmented rows: 16/30\n",
      "Starting back-translation for 8 texts...\n"
     ]
    },
    {
     "name": "stdout",
     "output_type": "stream",
     "text": [
      "Back-translation completed.\n",
      "Augmented rows: 24/30\n",
      "Starting back-translation for 8 texts...\n"
     ]
    },
    {
     "name": "stdout",
     "output_type": "stream",
     "text": [
      "Back-translation completed.\n",
      "Augmented rows: 32/30\n",
      "Class augmentation completed. Total rows: 32.\n",
      "Augmenting class with 8 rows to reach 30 rows...\n",
      "Starting back-translation for 8 texts...\n"
     ]
    },
    {
     "name": "stdout",
     "output_type": "stream",
     "text": [
      "Back-translation completed.\n",
      "Augmented rows: 16/30\n",
      "Starting back-translation for 8 texts...\n"
     ]
    },
    {
     "name": "stdout",
     "output_type": "stream",
     "text": [
      "Back-translation completed.\n",
      "Augmented rows: 24/30\n",
      "Starting back-translation for 8 texts...\n"
     ]
    },
    {
     "name": "stdout",
     "output_type": "stream",
     "text": [
      "Back-translation completed.\n",
      "Augmented rows: 32/30\n",
      "Class augmentation completed. Total rows: 32.\n",
      "Augmenting class with 8 rows to reach 30 rows...\n",
      "Starting back-translation for 8 texts...\n"
     ]
    },
    {
     "name": "stdout",
     "output_type": "stream",
     "text": [
      "Back-translation completed.\n",
      "Augmented rows: 16/30\n",
      "Starting back-translation for 8 texts...\n"
     ]
    },
    {
     "name": "stdout",
     "output_type": "stream",
     "text": [
      "Back-translation completed.\n",
      "Augmented rows: 24/30\n",
      "Starting back-translation for 8 texts...\n"
     ]
    },
    {
     "name": "stdout",
     "output_type": "stream",
     "text": [
      "Back-translation completed.\n",
      "Augmented rows: 32/30\n",
      "Class augmentation completed. Total rows: 32.\n",
      "Augmenting class with 8 rows to reach 30 rows...\n",
      "Starting back-translation for 8 texts...\n"
     ]
    },
    {
     "name": "stdout",
     "output_type": "stream",
     "text": [
      "Back-translation completed.\n",
      "Augmented rows: 16/30\n",
      "Starting back-translation for 8 texts...\n"
     ]
    },
    {
     "name": "stdout",
     "output_type": "stream",
     "text": [
      "Back-translation completed.\n",
      "Augmented rows: 24/30\n",
      "Starting back-translation for 8 texts...\n"
     ]
    },
    {
     "name": "stdout",
     "output_type": "stream",
     "text": [
      "Back-translation completed.\n",
      "Augmented rows: 32/30\n",
      "Class augmentation completed. Total rows: 32.\n",
      "Augmenting class with 7 rows to reach 30 rows...\n",
      "Starting back-translation for 7 texts...\n"
     ]
    },
    {
     "name": "stdout",
     "output_type": "stream",
     "text": [
      "Back-translation completed.\n",
      "Augmented rows: 14/30\n",
      "Starting back-translation for 7 texts...\n"
     ]
    },
    {
     "name": "stdout",
     "output_type": "stream",
     "text": [
      "Back-translation completed.\n",
      "Augmented rows: 21/30\n",
      "Starting back-translation for 7 texts...\n"
     ]
    },
    {
     "name": "stdout",
     "output_type": "stream",
     "text": [
      "Back-translation completed.\n",
      "Augmented rows: 28/30\n",
      "Starting back-translation for 7 texts...\n"
     ]
    },
    {
     "name": "stdout",
     "output_type": "stream",
     "text": [
      "Back-translation completed.\n",
      "Augmented rows: 35/30\n",
      "Class augmentation completed. Total rows: 35.\n",
      "Augmenting class with 7 rows to reach 30 rows...\n",
      "Starting back-translation for 7 texts...\n"
     ]
    },
    {
     "name": "stdout",
     "output_type": "stream",
     "text": [
      "Back-translation completed.\n",
      "Augmented rows: 14/30\n",
      "Starting back-translation for 7 texts...\n"
     ]
    },
    {
     "name": "stdout",
     "output_type": "stream",
     "text": [
      "Back-translation completed.\n",
      "Augmented rows: 21/30\n",
      "Starting back-translation for 7 texts...\n"
     ]
    },
    {
     "name": "stdout",
     "output_type": "stream",
     "text": [
      "Back-translation completed.\n",
      "Augmented rows: 28/30\n",
      "Starting back-translation for 7 texts...\n"
     ]
    },
    {
     "name": "stdout",
     "output_type": "stream",
     "text": [
      "Back-translation completed.\n",
      "Augmented rows: 35/30\n",
      "Class augmentation completed. Total rows: 35.\n",
      "Augmenting class with 7 rows to reach 30 rows...\n",
      "Starting back-translation for 7 texts...\n"
     ]
    },
    {
     "name": "stdout",
     "output_type": "stream",
     "text": [
      "Back-translation completed.\n",
      "Augmented rows: 14/30\n",
      "Starting back-translation for 7 texts...\n"
     ]
    },
    {
     "name": "stdout",
     "output_type": "stream",
     "text": [
      "Back-translation completed.\n",
      "Augmented rows: 21/30\n",
      "Starting back-translation for 7 texts...\n"
     ]
    },
    {
     "name": "stdout",
     "output_type": "stream",
     "text": [
      "Back-translation completed.\n",
      "Augmented rows: 28/30\n",
      "Starting back-translation for 7 texts...\n"
     ]
    },
    {
     "name": "stdout",
     "output_type": "stream",
     "text": [
      "Back-translation completed.\n",
      "Augmented rows: 35/30\n",
      "Class augmentation completed. Total rows: 35.\n",
      "Augmenting class with 7 rows to reach 30 rows...\n",
      "Starting back-translation for 7 texts...\n"
     ]
    },
    {
     "name": "stdout",
     "output_type": "stream",
     "text": [
      "Back-translation completed.\n",
      "Augmented rows: 14/30\n",
      "Starting back-translation for 7 texts...\n"
     ]
    },
    {
     "name": "stdout",
     "output_type": "stream",
     "text": [
      "Back-translation completed.\n",
      "Augmented rows: 21/30\n",
      "Starting back-translation for 7 texts...\n"
     ]
    },
    {
     "name": "stdout",
     "output_type": "stream",
     "text": [
      "Back-translation completed.\n",
      "Augmented rows: 28/30\n",
      "Starting back-translation for 7 texts...\n"
     ]
    },
    {
     "name": "stdout",
     "output_type": "stream",
     "text": [
      "Back-translation completed.\n",
      "Augmented rows: 35/30\n",
      "Class augmentation completed. Total rows: 35.\n",
      "Augmenting class with 7 rows to reach 30 rows...\n",
      "Starting back-translation for 7 texts...\n"
     ]
    },
    {
     "name": "stdout",
     "output_type": "stream",
     "text": [
      "Back-translation completed.\n",
      "Augmented rows: 14/30\n",
      "Starting back-translation for 7 texts...\n"
     ]
    },
    {
     "name": "stdout",
     "output_type": "stream",
     "text": [
      "Back-translation completed.\n",
      "Augmented rows: 21/30\n",
      "Starting back-translation for 7 texts...\n"
     ]
    },
    {
     "name": "stdout",
     "output_type": "stream",
     "text": [
      "Back-translation completed.\n",
      "Augmented rows: 28/30\n",
      "Starting back-translation for 7 texts...\n"
     ]
    },
    {
     "name": "stdout",
     "output_type": "stream",
     "text": [
      "Back-translation completed.\n",
      "Augmented rows: 35/30\n",
      "Class augmentation completed. Total rows: 35.\n",
      "Augmenting class with 7 rows to reach 30 rows...\n",
      "Starting back-translation for 7 texts...\n"
     ]
    },
    {
     "name": "stdout",
     "output_type": "stream",
     "text": [
      "Back-translation completed.\n",
      "Augmented rows: 14/30\n",
      "Starting back-translation for 7 texts...\n"
     ]
    },
    {
     "name": "stdout",
     "output_type": "stream",
     "text": [
      "Back-translation completed.\n",
      "Augmented rows: 21/30\n",
      "Starting back-translation for 7 texts...\n"
     ]
    },
    {
     "name": "stdout",
     "output_type": "stream",
     "text": [
      "Back-translation completed.\n",
      "Augmented rows: 28/30\n",
      "Starting back-translation for 7 texts...\n"
     ]
    },
    {
     "name": "stdout",
     "output_type": "stream",
     "text": [
      "Back-translation completed.\n",
      "Augmented rows: 35/30\n",
      "Class augmentation completed. Total rows: 35.\n",
      "Augmenting class with 7 rows to reach 30 rows...\n",
      "Starting back-translation for 7 texts...\n"
     ]
    },
    {
     "name": "stdout",
     "output_type": "stream",
     "text": [
      "Back-translation completed.\n",
      "Augmented rows: 14/30\n",
      "Starting back-translation for 7 texts...\n"
     ]
    },
    {
     "name": "stdout",
     "output_type": "stream",
     "text": [
      "Back-translation completed.\n",
      "Augmented rows: 21/30\n",
      "Starting back-translation for 7 texts...\n"
     ]
    },
    {
     "name": "stdout",
     "output_type": "stream",
     "text": [
      "Back-translation completed.\n",
      "Augmented rows: 28/30\n",
      "Starting back-translation for 7 texts...\n"
     ]
    },
    {
     "name": "stdout",
     "output_type": "stream",
     "text": [
      "Back-translation completed.\n",
      "Augmented rows: 35/30\n",
      "Class augmentation completed. Total rows: 35.\n",
      "Augmenting class with 7 rows to reach 30 rows...\n",
      "Starting back-translation for 7 texts...\n"
     ]
    },
    {
     "name": "stdout",
     "output_type": "stream",
     "text": [
      "Back-translation completed.\n",
      "Augmented rows: 14/30\n",
      "Starting back-translation for 7 texts...\n"
     ]
    },
    {
     "name": "stdout",
     "output_type": "stream",
     "text": [
      "Back-translation completed.\n",
      "Augmented rows: 21/30\n",
      "Starting back-translation for 7 texts...\n"
     ]
    },
    {
     "name": "stdout",
     "output_type": "stream",
     "text": [
      "Back-translation completed.\n",
      "Augmented rows: 28/30\n",
      "Starting back-translation for 7 texts...\n"
     ]
    },
    {
     "name": "stdout",
     "output_type": "stream",
     "text": [
      "Back-translation completed.\n",
      "Augmented rows: 35/30\n",
      "Class augmentation completed. Total rows: 35.\n",
      "Augmenting class with 7 rows to reach 30 rows...\n",
      "Starting back-translation for 7 texts...\n"
     ]
    },
    {
     "name": "stdout",
     "output_type": "stream",
     "text": [
      "Back-translation completed.\n",
      "Augmented rows: 14/30\n",
      "Starting back-translation for 7 texts...\n"
     ]
    },
    {
     "name": "stdout",
     "output_type": "stream",
     "text": [
      "Back-translation completed.\n",
      "Augmented rows: 21/30\n",
      "Starting back-translation for 7 texts...\n"
     ]
    },
    {
     "name": "stdout",
     "output_type": "stream",
     "text": [
      "Back-translation completed.\n",
      "Augmented rows: 28/30\n",
      "Starting back-translation for 7 texts...\n"
     ]
    },
    {
     "name": "stdout",
     "output_type": "stream",
     "text": [
      "Back-translation completed.\n",
      "Augmented rows: 35/30\n",
      "Class augmentation completed. Total rows: 35.\n",
      "Augmenting class with 7 rows to reach 30 rows...\n",
      "Starting back-translation for 7 texts...\n"
     ]
    },
    {
     "name": "stdout",
     "output_type": "stream",
     "text": [
      "Back-translation completed.\n",
      "Augmented rows: 14/30\n",
      "Starting back-translation for 7 texts...\n"
     ]
    },
    {
     "name": "stdout",
     "output_type": "stream",
     "text": [
      "Back-translation completed.\n",
      "Augmented rows: 21/30\n",
      "Starting back-translation for 7 texts...\n"
     ]
    },
    {
     "name": "stdout",
     "output_type": "stream",
     "text": [
      "Back-translation completed.\n",
      "Augmented rows: 28/30\n",
      "Starting back-translation for 7 texts...\n"
     ]
    },
    {
     "name": "stdout",
     "output_type": "stream",
     "text": [
      "Back-translation completed.\n",
      "Augmented rows: 35/30\n",
      "Class augmentation completed. Total rows: 35.\n",
      "Augmenting class with 7 rows to reach 30 rows...\n",
      "Starting back-translation for 7 texts...\n"
     ]
    },
    {
     "name": "stdout",
     "output_type": "stream",
     "text": [
      "Back-translation completed.\n",
      "Augmented rows: 14/30\n",
      "Starting back-translation for 7 texts...\n"
     ]
    },
    {
     "name": "stdout",
     "output_type": "stream",
     "text": [
      "Back-translation completed.\n",
      "Augmented rows: 21/30\n",
      "Starting back-translation for 7 texts...\n"
     ]
    },
    {
     "name": "stdout",
     "output_type": "stream",
     "text": [
      "Back-translation completed.\n",
      "Augmented rows: 28/30\n",
      "Starting back-translation for 7 texts...\n"
     ]
    },
    {
     "name": "stdout",
     "output_type": "stream",
     "text": [
      "Back-translation completed.\n",
      "Augmented rows: 35/30\n",
      "Class augmentation completed. Total rows: 35.\n",
      "Augmenting class with 7 rows to reach 30 rows...\n",
      "Starting back-translation for 7 texts...\n"
     ]
    },
    {
     "name": "stdout",
     "output_type": "stream",
     "text": [
      "Back-translation completed.\n",
      "Augmented rows: 14/30\n",
      "Starting back-translation for 7 texts...\n"
     ]
    },
    {
     "name": "stdout",
     "output_type": "stream",
     "text": [
      "Back-translation completed.\n",
      "Augmented rows: 21/30\n",
      "Starting back-translation for 7 texts...\n"
     ]
    },
    {
     "name": "stdout",
     "output_type": "stream",
     "text": [
      "Back-translation completed.\n",
      "Augmented rows: 28/30\n",
      "Starting back-translation for 7 texts...\n"
     ]
    },
    {
     "name": "stdout",
     "output_type": "stream",
     "text": [
      "Back-translation completed.\n",
      "Augmented rows: 35/30\n",
      "Class augmentation completed. Total rows: 35.\n",
      "Augmenting class with 7 rows to reach 30 rows...\n",
      "Starting back-translation for 7 texts...\n"
     ]
    },
    {
     "name": "stdout",
     "output_type": "stream",
     "text": [
      "Back-translation completed.\n",
      "Augmented rows: 14/30\n",
      "Starting back-translation for 7 texts...\n"
     ]
    },
    {
     "name": "stdout",
     "output_type": "stream",
     "text": [
      "Back-translation completed.\n",
      "Augmented rows: 21/30\n",
      "Starting back-translation for 7 texts...\n"
     ]
    },
    {
     "name": "stdout",
     "output_type": "stream",
     "text": [
      "Back-translation completed.\n",
      "Augmented rows: 28/30\n",
      "Starting back-translation for 7 texts...\n"
     ]
    },
    {
     "name": "stdout",
     "output_type": "stream",
     "text": [
      "Back-translation completed.\n",
      "Augmented rows: 35/30\n",
      "Class augmentation completed. Total rows: 35.\n",
      "Augmenting class with 7 rows to reach 30 rows...\n",
      "Starting back-translation for 7 texts...\n"
     ]
    },
    {
     "name": "stdout",
     "output_type": "stream",
     "text": [
      "Back-translation completed.\n",
      "Augmented rows: 14/30\n",
      "Starting back-translation for 7 texts...\n"
     ]
    },
    {
     "name": "stdout",
     "output_type": "stream",
     "text": [
      "Back-translation completed.\n",
      "Augmented rows: 21/30\n",
      "Starting back-translation for 7 texts...\n"
     ]
    },
    {
     "name": "stdout",
     "output_type": "stream",
     "text": [
      "Back-translation completed.\n",
      "Augmented rows: 28/30\n",
      "Starting back-translation for 7 texts...\n"
     ]
    },
    {
     "name": "stdout",
     "output_type": "stream",
     "text": [
      "Back-translation completed.\n",
      "Augmented rows: 35/30\n",
      "Class augmentation completed. Total rows: 35.\n",
      "Augmenting class with 7 rows to reach 30 rows...\n",
      "Starting back-translation for 7 texts...\n"
     ]
    },
    {
     "name": "stdout",
     "output_type": "stream",
     "text": [
      "Back-translation completed.\n",
      "Augmented rows: 14/30\n",
      "Starting back-translation for 7 texts...\n"
     ]
    },
    {
     "name": "stdout",
     "output_type": "stream",
     "text": [
      "Back-translation completed.\n",
      "Augmented rows: 21/30\n",
      "Starting back-translation for 7 texts...\n"
     ]
    },
    {
     "name": "stdout",
     "output_type": "stream",
     "text": [
      "Back-translation completed.\n",
      "Augmented rows: 28/30\n",
      "Starting back-translation for 7 texts...\n"
     ]
    },
    {
     "name": "stdout",
     "output_type": "stream",
     "text": [
      "Back-translation completed.\n",
      "Augmented rows: 35/30\n",
      "Class augmentation completed. Total rows: 35.\n",
      "Augmenting class with 7 rows to reach 30 rows...\n",
      "Starting back-translation for 7 texts...\n"
     ]
    },
    {
     "name": "stdout",
     "output_type": "stream",
     "text": [
      "Back-translation completed.\n",
      "Augmented rows: 14/30\n",
      "Starting back-translation for 7 texts...\n"
     ]
    },
    {
     "name": "stdout",
     "output_type": "stream",
     "text": [
      "Back-translation completed.\n",
      "Augmented rows: 21/30\n",
      "Starting back-translation for 7 texts...\n"
     ]
    },
    {
     "name": "stdout",
     "output_type": "stream",
     "text": [
      "Back-translation completed.\n",
      "Augmented rows: 28/30\n",
      "Starting back-translation for 7 texts...\n"
     ]
    },
    {
     "name": "stdout",
     "output_type": "stream",
     "text": [
      "Back-translation completed.\n",
      "Augmented rows: 35/30\n",
      "Class augmentation completed. Total rows: 35.\n",
      "Augmenting class with 7 rows to reach 30 rows...\n",
      "Starting back-translation for 7 texts...\n"
     ]
    },
    {
     "name": "stdout",
     "output_type": "stream",
     "text": [
      "Back-translation completed.\n",
      "Augmented rows: 14/30\n",
      "Starting back-translation for 7 texts...\n"
     ]
    },
    {
     "name": "stdout",
     "output_type": "stream",
     "text": [
      "Back-translation completed.\n",
      "Augmented rows: 21/30\n",
      "Starting back-translation for 7 texts...\n"
     ]
    },
    {
     "name": "stdout",
     "output_type": "stream",
     "text": [
      "Back-translation completed.\n",
      "Augmented rows: 28/30\n",
      "Starting back-translation for 7 texts...\n"
     ]
    },
    {
     "name": "stdout",
     "output_type": "stream",
     "text": [
      "Back-translation completed.\n",
      "Augmented rows: 35/30\n",
      "Class augmentation completed. Total rows: 35.\n",
      "Augmenting class with 7 rows to reach 30 rows...\n",
      "Starting back-translation for 7 texts...\n"
     ]
    },
    {
     "name": "stdout",
     "output_type": "stream",
     "text": [
      "Back-translation completed.\n",
      "Augmented rows: 14/30\n",
      "Starting back-translation for 7 texts...\n"
     ]
    },
    {
     "name": "stdout",
     "output_type": "stream",
     "text": [
      "Back-translation completed.\n",
      "Augmented rows: 21/30\n",
      "Starting back-translation for 7 texts...\n"
     ]
    },
    {
     "name": "stdout",
     "output_type": "stream",
     "text": [
      "Back-translation completed.\n",
      "Augmented rows: 28/30\n",
      "Starting back-translation for 7 texts...\n"
     ]
    },
    {
     "name": "stdout",
     "output_type": "stream",
     "text": [
      "Back-translation completed.\n",
      "Augmented rows: 35/30\n",
      "Class augmentation completed. Total rows: 35.\n",
      "Augmenting class with 7 rows to reach 30 rows...\n",
      "Starting back-translation for 7 texts...\n"
     ]
    },
    {
     "name": "stdout",
     "output_type": "stream",
     "text": [
      "Back-translation completed.\n",
      "Augmented rows: 14/30\n",
      "Starting back-translation for 7 texts...\n"
     ]
    },
    {
     "name": "stdout",
     "output_type": "stream",
     "text": [
      "Back-translation completed.\n",
      "Augmented rows: 21/30\n",
      "Starting back-translation for 7 texts...\n"
     ]
    },
    {
     "name": "stdout",
     "output_type": "stream",
     "text": [
      "Back-translation completed.\n",
      "Augmented rows: 28/30\n",
      "Starting back-translation for 7 texts...\n"
     ]
    },
    {
     "name": "stdout",
     "output_type": "stream",
     "text": [
      "Back-translation completed.\n",
      "Augmented rows: 35/30\n",
      "Class augmentation completed. Total rows: 35.\n",
      "Augmenting class with 7 rows to reach 30 rows...\n",
      "Starting back-translation for 7 texts...\n"
     ]
    },
    {
     "name": "stdout",
     "output_type": "stream",
     "text": [
      "Back-translation completed.\n",
      "Augmented rows: 14/30\n",
      "Starting back-translation for 7 texts...\n"
     ]
    },
    {
     "name": "stdout",
     "output_type": "stream",
     "text": [
      "Back-translation completed.\n",
      "Augmented rows: 21/30\n",
      "Starting back-translation for 7 texts...\n"
     ]
    },
    {
     "name": "stdout",
     "output_type": "stream",
     "text": [
      "Back-translation completed.\n",
      "Augmented rows: 28/30\n",
      "Starting back-translation for 7 texts...\n"
     ]
    },
    {
     "name": "stdout",
     "output_type": "stream",
     "text": [
      "Back-translation completed.\n",
      "Augmented rows: 35/30\n",
      "Class augmentation completed. Total rows: 35.\n",
      "Augmenting class with 7 rows to reach 30 rows...\n",
      "Starting back-translation for 7 texts...\n"
     ]
    },
    {
     "name": "stdout",
     "output_type": "stream",
     "text": [
      "Back-translation completed.\n",
      "Augmented rows: 14/30\n",
      "Starting back-translation for 7 texts...\n"
     ]
    },
    {
     "name": "stdout",
     "output_type": "stream",
     "text": [
      "Back-translation completed.\n",
      "Augmented rows: 21/30\n",
      "Starting back-translation for 7 texts...\n"
     ]
    },
    {
     "name": "stdout",
     "output_type": "stream",
     "text": [
      "Back-translation completed.\n",
      "Augmented rows: 28/30\n",
      "Starting back-translation for 7 texts...\n"
     ]
    },
    {
     "name": "stdout",
     "output_type": "stream",
     "text": [
      "Back-translation completed.\n",
      "Augmented rows: 35/30\n",
      "Class augmentation completed. Total rows: 35.\n",
      "Augmenting class with 6 rows to reach 30 rows...\n",
      "Starting back-translation for 6 texts...\n"
     ]
    },
    {
     "name": "stdout",
     "output_type": "stream",
     "text": [
      "Back-translation completed.\n",
      "Augmented rows: 12/30\n",
      "Starting back-translation for 6 texts...\n"
     ]
    },
    {
     "name": "stdout",
     "output_type": "stream",
     "text": [
      "Back-translation completed.\n",
      "Augmented rows: 18/30\n",
      "Starting back-translation for 6 texts...\n"
     ]
    },
    {
     "name": "stdout",
     "output_type": "stream",
     "text": [
      "Back-translation completed.\n",
      "Augmented rows: 24/30\n",
      "Starting back-translation for 6 texts...\n"
     ]
    },
    {
     "name": "stdout",
     "output_type": "stream",
     "text": [
      "Back-translation completed.\n",
      "Augmented rows: 30/30\n",
      "Class augmentation completed. Total rows: 30.\n",
      "Augmenting class with 6 rows to reach 30 rows...\n",
      "Starting back-translation for 6 texts...\n"
     ]
    },
    {
     "name": "stdout",
     "output_type": "stream",
     "text": [
      "Back-translation completed.\n",
      "Augmented rows: 12/30\n",
      "Starting back-translation for 6 texts...\n"
     ]
    },
    {
     "name": "stdout",
     "output_type": "stream",
     "text": [
      "Back-translation completed.\n",
      "Augmented rows: 18/30\n",
      "Starting back-translation for 6 texts...\n"
     ]
    },
    {
     "name": "stdout",
     "output_type": "stream",
     "text": [
      "Back-translation completed.\n",
      "Augmented rows: 24/30\n",
      "Starting back-translation for 6 texts...\n"
     ]
    },
    {
     "name": "stdout",
     "output_type": "stream",
     "text": [
      "Back-translation completed.\n",
      "Augmented rows: 30/30\n",
      "Class augmentation completed. Total rows: 30.\n",
      "Augmenting class with 6 rows to reach 30 rows...\n",
      "Starting back-translation for 6 texts...\n"
     ]
    },
    {
     "name": "stdout",
     "output_type": "stream",
     "text": [
      "Back-translation completed.\n",
      "Augmented rows: 12/30\n",
      "Starting back-translation for 6 texts...\n"
     ]
    },
    {
     "name": "stdout",
     "output_type": "stream",
     "text": [
      "Back-translation completed.\n",
      "Augmented rows: 18/30\n",
      "Starting back-translation for 6 texts...\n"
     ]
    },
    {
     "name": "stdout",
     "output_type": "stream",
     "text": [
      "Back-translation completed.\n",
      "Augmented rows: 24/30\n",
      "Starting back-translation for 6 texts...\n"
     ]
    },
    {
     "name": "stdout",
     "output_type": "stream",
     "text": [
      "Back-translation completed.\n",
      "Augmented rows: 30/30\n",
      "Class augmentation completed. Total rows: 30.\n",
      "Augmenting class with 6 rows to reach 30 rows...\n",
      "Starting back-translation for 6 texts...\n"
     ]
    },
    {
     "name": "stdout",
     "output_type": "stream",
     "text": [
      "Back-translation completed.\n",
      "Augmented rows: 12/30\n",
      "Starting back-translation for 6 texts...\n"
     ]
    },
    {
     "name": "stdout",
     "output_type": "stream",
     "text": [
      "Back-translation completed.\n",
      "Augmented rows: 18/30\n",
      "Starting back-translation for 6 texts...\n"
     ]
    },
    {
     "name": "stdout",
     "output_type": "stream",
     "text": [
      "Back-translation completed.\n",
      "Augmented rows: 24/30\n",
      "Starting back-translation for 6 texts...\n"
     ]
    },
    {
     "name": "stdout",
     "output_type": "stream",
     "text": [
      "Back-translation completed.\n",
      "Augmented rows: 30/30\n",
      "Class augmentation completed. Total rows: 30.\n",
      "Augmenting class with 6 rows to reach 30 rows...\n",
      "Starting back-translation for 6 texts...\n"
     ]
    },
    {
     "name": "stdout",
     "output_type": "stream",
     "text": [
      "Back-translation completed.\n",
      "Augmented rows: 12/30\n",
      "Starting back-translation for 6 texts...\n"
     ]
    },
    {
     "name": "stdout",
     "output_type": "stream",
     "text": [
      "Back-translation completed.\n",
      "Augmented rows: 18/30\n",
      "Starting back-translation for 6 texts...\n"
     ]
    },
    {
     "name": "stdout",
     "output_type": "stream",
     "text": [
      "Back-translation completed.\n",
      "Augmented rows: 24/30\n",
      "Starting back-translation for 6 texts...\n"
     ]
    },
    {
     "name": "stdout",
     "output_type": "stream",
     "text": [
      "Back-translation completed.\n",
      "Augmented rows: 30/30\n",
      "Class augmentation completed. Total rows: 30.\n",
      "Augmenting class with 6 rows to reach 30 rows...\n",
      "Starting back-translation for 6 texts...\n"
     ]
    },
    {
     "name": "stdout",
     "output_type": "stream",
     "text": [
      "Back-translation completed.\n",
      "Augmented rows: 12/30\n",
      "Starting back-translation for 6 texts...\n"
     ]
    },
    {
     "name": "stdout",
     "output_type": "stream",
     "text": [
      "Back-translation completed.\n",
      "Augmented rows: 18/30\n",
      "Starting back-translation for 6 texts...\n"
     ]
    },
    {
     "name": "stdout",
     "output_type": "stream",
     "text": [
      "Back-translation completed.\n",
      "Augmented rows: 24/30\n",
      "Starting back-translation for 6 texts...\n"
     ]
    },
    {
     "name": "stdout",
     "output_type": "stream",
     "text": [
      "Back-translation completed.\n",
      "Augmented rows: 30/30\n",
      "Class augmentation completed. Total rows: 30.\n",
      "Augmenting class with 6 rows to reach 30 rows...\n",
      "Starting back-translation for 6 texts...\n"
     ]
    },
    {
     "name": "stdout",
     "output_type": "stream",
     "text": [
      "Back-translation completed.\n",
      "Augmented rows: 12/30\n",
      "Starting back-translation for 6 texts...\n"
     ]
    },
    {
     "name": "stdout",
     "output_type": "stream",
     "text": [
      "Back-translation completed.\n",
      "Augmented rows: 18/30\n",
      "Starting back-translation for 6 texts...\n"
     ]
    },
    {
     "name": "stdout",
     "output_type": "stream",
     "text": [
      "Back-translation completed.\n",
      "Augmented rows: 24/30\n",
      "Starting back-translation for 6 texts...\n"
     ]
    },
    {
     "name": "stdout",
     "output_type": "stream",
     "text": [
      "Back-translation completed.\n",
      "Augmented rows: 30/30\n",
      "Class augmentation completed. Total rows: 30.\n",
      "Augmenting class with 6 rows to reach 30 rows...\n",
      "Starting back-translation for 6 texts...\n"
     ]
    },
    {
     "name": "stdout",
     "output_type": "stream",
     "text": [
      "Back-translation completed.\n",
      "Augmented rows: 12/30\n",
      "Starting back-translation for 6 texts...\n"
     ]
    },
    {
     "name": "stdout",
     "output_type": "stream",
     "text": [
      "Back-translation completed.\n",
      "Augmented rows: 18/30\n",
      "Starting back-translation for 6 texts...\n"
     ]
    },
    {
     "name": "stdout",
     "output_type": "stream",
     "text": [
      "Back-translation completed.\n",
      "Augmented rows: 24/30\n",
      "Starting back-translation for 6 texts...\n"
     ]
    },
    {
     "name": "stdout",
     "output_type": "stream",
     "text": [
      "Back-translation completed.\n",
      "Augmented rows: 30/30\n",
      "Class augmentation completed. Total rows: 30.\n",
      "Augmenting class with 6 rows to reach 30 rows...\n",
      "Starting back-translation for 6 texts...\n"
     ]
    },
    {
     "name": "stdout",
     "output_type": "stream",
     "text": [
      "Back-translation completed.\n",
      "Augmented rows: 12/30\n",
      "Starting back-translation for 6 texts...\n"
     ]
    },
    {
     "name": "stdout",
     "output_type": "stream",
     "text": [
      "Back-translation completed.\n",
      "Augmented rows: 18/30\n",
      "Starting back-translation for 6 texts...\n"
     ]
    },
    {
     "name": "stdout",
     "output_type": "stream",
     "text": [
      "Back-translation completed.\n",
      "Augmented rows: 24/30\n",
      "Starting back-translation for 6 texts...\n"
     ]
    },
    {
     "name": "stdout",
     "output_type": "stream",
     "text": [
      "Back-translation completed.\n",
      "Augmented rows: 30/30\n",
      "Class augmentation completed. Total rows: 30.\n",
      "Augmenting class with 6 rows to reach 30 rows...\n",
      "Starting back-translation for 6 texts...\n"
     ]
    },
    {
     "name": "stdout",
     "output_type": "stream",
     "text": [
      "Back-translation completed.\n",
      "Augmented rows: 12/30\n",
      "Starting back-translation for 6 texts...\n"
     ]
    },
    {
     "name": "stdout",
     "output_type": "stream",
     "text": [
      "Back-translation completed.\n",
      "Augmented rows: 18/30\n",
      "Starting back-translation for 6 texts...\n"
     ]
    },
    {
     "name": "stdout",
     "output_type": "stream",
     "text": [
      "Back-translation completed.\n",
      "Augmented rows: 24/30\n",
      "Starting back-translation for 6 texts...\n"
     ]
    },
    {
     "name": "stdout",
     "output_type": "stream",
     "text": [
      "Back-translation completed.\n",
      "Augmented rows: 30/30\n",
      "Class augmentation completed. Total rows: 30.\n",
      "Augmenting class with 6 rows to reach 30 rows...\n",
      "Starting back-translation for 6 texts...\n"
     ]
    },
    {
     "name": "stdout",
     "output_type": "stream",
     "text": [
      "Back-translation completed.\n",
      "Augmented rows: 12/30\n",
      "Starting back-translation for 6 texts...\n"
     ]
    },
    {
     "name": "stdout",
     "output_type": "stream",
     "text": [
      "Back-translation completed.\n",
      "Augmented rows: 18/30\n",
      "Starting back-translation for 6 texts...\n"
     ]
    },
    {
     "name": "stdout",
     "output_type": "stream",
     "text": [
      "Back-translation completed.\n",
      "Augmented rows: 24/30\n",
      "Starting back-translation for 6 texts...\n"
     ]
    },
    {
     "name": "stdout",
     "output_type": "stream",
     "text": [
      "Back-translation completed.\n",
      "Augmented rows: 30/30\n",
      "Class augmentation completed. Total rows: 30.\n",
      "Augmenting class with 6 rows to reach 30 rows...\n",
      "Starting back-translation for 6 texts...\n"
     ]
    },
    {
     "name": "stdout",
     "output_type": "stream",
     "text": [
      "Back-translation completed.\n",
      "Augmented rows: 12/30\n",
      "Starting back-translation for 6 texts...\n"
     ]
    },
    {
     "name": "stdout",
     "output_type": "stream",
     "text": [
      "Back-translation completed.\n",
      "Augmented rows: 18/30\n",
      "Starting back-translation for 6 texts...\n"
     ]
    },
    {
     "name": "stdout",
     "output_type": "stream",
     "text": [
      "Back-translation completed.\n",
      "Augmented rows: 24/30\n",
      "Starting back-translation for 6 texts...\n"
     ]
    },
    {
     "name": "stdout",
     "output_type": "stream",
     "text": [
      "Back-translation completed.\n",
      "Augmented rows: 30/30\n",
      "Class augmentation completed. Total rows: 30.\n",
      "Augmenting class with 6 rows to reach 30 rows...\n",
      "Starting back-translation for 6 texts...\n"
     ]
    },
    {
     "name": "stdout",
     "output_type": "stream",
     "text": [
      "Back-translation completed.\n",
      "Augmented rows: 12/30\n",
      "Starting back-translation for 6 texts...\n"
     ]
    },
    {
     "name": "stdout",
     "output_type": "stream",
     "text": [
      "Back-translation completed.\n",
      "Augmented rows: 18/30\n",
      "Starting back-translation for 6 texts...\n"
     ]
    },
    {
     "name": "stdout",
     "output_type": "stream",
     "text": [
      "Back-translation completed.\n",
      "Augmented rows: 24/30\n",
      "Starting back-translation for 6 texts...\n"
     ]
    },
    {
     "name": "stdout",
     "output_type": "stream",
     "text": [
      "Back-translation completed.\n",
      "Augmented rows: 30/30\n",
      "Class augmentation completed. Total rows: 30.\n",
      "Augmenting class with 6 rows to reach 30 rows...\n",
      "Starting back-translation for 6 texts...\n"
     ]
    },
    {
     "name": "stdout",
     "output_type": "stream",
     "text": [
      "Back-translation completed.\n",
      "Augmented rows: 12/30\n",
      "Starting back-translation for 6 texts...\n"
     ]
    },
    {
     "name": "stdout",
     "output_type": "stream",
     "text": [
      "Back-translation completed.\n",
      "Augmented rows: 18/30\n",
      "Starting back-translation for 6 texts...\n"
     ]
    },
    {
     "name": "stdout",
     "output_type": "stream",
     "text": [
      "Back-translation completed.\n",
      "Augmented rows: 24/30\n",
      "Starting back-translation for 6 texts...\n"
     ]
    },
    {
     "name": "stdout",
     "output_type": "stream",
     "text": [
      "Back-translation completed.\n",
      "Augmented rows: 30/30\n",
      "Class augmentation completed. Total rows: 30.\n",
      "Augmenting class with 6 rows to reach 30 rows...\n",
      "Starting back-translation for 6 texts...\n"
     ]
    },
    {
     "name": "stdout",
     "output_type": "stream",
     "text": [
      "Back-translation completed.\n",
      "Augmented rows: 12/30\n",
      "Starting back-translation for 6 texts...\n"
     ]
    },
    {
     "name": "stdout",
     "output_type": "stream",
     "text": [
      "Back-translation completed.\n",
      "Augmented rows: 18/30\n",
      "Starting back-translation for 6 texts...\n"
     ]
    },
    {
     "name": "stdout",
     "output_type": "stream",
     "text": [
      "Back-translation completed.\n",
      "Augmented rows: 24/30\n",
      "Starting back-translation for 6 texts...\n"
     ]
    },
    {
     "name": "stdout",
     "output_type": "stream",
     "text": [
      "Back-translation completed.\n",
      "Augmented rows: 30/30\n",
      "Class augmentation completed. Total rows: 30.\n",
      "Augmenting class with 6 rows to reach 30 rows...\n",
      "Starting back-translation for 6 texts...\n"
     ]
    },
    {
     "name": "stdout",
     "output_type": "stream",
     "text": [
      "Back-translation completed.\n",
      "Augmented rows: 12/30\n",
      "Starting back-translation for 6 texts...\n"
     ]
    },
    {
     "name": "stdout",
     "output_type": "stream",
     "text": [
      "Back-translation completed.\n",
      "Augmented rows: 18/30\n",
      "Starting back-translation for 6 texts...\n"
     ]
    },
    {
     "name": "stdout",
     "output_type": "stream",
     "text": [
      "Back-translation completed.\n",
      "Augmented rows: 24/30\n",
      "Starting back-translation for 6 texts...\n"
     ]
    },
    {
     "name": "stdout",
     "output_type": "stream",
     "text": [
      "Back-translation completed.\n",
      "Augmented rows: 30/30\n",
      "Class augmentation completed. Total rows: 30.\n",
      "Augmenting class with 6 rows to reach 30 rows...\n",
      "Starting back-translation for 6 texts...\n"
     ]
    },
    {
     "name": "stdout",
     "output_type": "stream",
     "text": [
      "Back-translation completed.\n",
      "Augmented rows: 12/30\n",
      "Starting back-translation for 6 texts...\n"
     ]
    },
    {
     "name": "stdout",
     "output_type": "stream",
     "text": [
      "Back-translation completed.\n",
      "Augmented rows: 18/30\n",
      "Starting back-translation for 6 texts...\n"
     ]
    },
    {
     "name": "stdout",
     "output_type": "stream",
     "text": [
      "Back-translation completed.\n",
      "Augmented rows: 24/30\n",
      "Starting back-translation for 6 texts...\n"
     ]
    },
    {
     "name": "stdout",
     "output_type": "stream",
     "text": [
      "Back-translation completed.\n",
      "Augmented rows: 30/30\n",
      "Class augmentation completed. Total rows: 30.\n",
      "Augmenting class with 6 rows to reach 30 rows...\n",
      "Starting back-translation for 6 texts...\n"
     ]
    },
    {
     "name": "stdout",
     "output_type": "stream",
     "text": [
      "Back-translation completed.\n",
      "Augmented rows: 12/30\n",
      "Starting back-translation for 6 texts...\n"
     ]
    },
    {
     "name": "stdout",
     "output_type": "stream",
     "text": [
      "Back-translation completed.\n",
      "Augmented rows: 18/30\n",
      "Starting back-translation for 6 texts...\n"
     ]
    },
    {
     "name": "stdout",
     "output_type": "stream",
     "text": [
      "Back-translation completed.\n",
      "Augmented rows: 24/30\n",
      "Starting back-translation for 6 texts...\n"
     ]
    },
    {
     "name": "stdout",
     "output_type": "stream",
     "text": [
      "Back-translation completed.\n",
      "Augmented rows: 30/30\n",
      "Class augmentation completed. Total rows: 30.\n",
      "Augmenting class with 6 rows to reach 30 rows...\n",
      "Starting back-translation for 6 texts...\n"
     ]
    },
    {
     "name": "stdout",
     "output_type": "stream",
     "text": [
      "Back-translation completed.\n",
      "Augmented rows: 12/30\n",
      "Starting back-translation for 6 texts...\n"
     ]
    },
    {
     "name": "stdout",
     "output_type": "stream",
     "text": [
      "Back-translation completed.\n",
      "Augmented rows: 18/30\n",
      "Starting back-translation for 6 texts...\n"
     ]
    },
    {
     "name": "stdout",
     "output_type": "stream",
     "text": [
      "Back-translation completed.\n",
      "Augmented rows: 24/30\n",
      "Starting back-translation for 6 texts...\n"
     ]
    },
    {
     "name": "stdout",
     "output_type": "stream",
     "text": [
      "Back-translation completed.\n",
      "Augmented rows: 30/30\n",
      "Class augmentation completed. Total rows: 30.\n",
      "Augmenting class with 6 rows to reach 30 rows...\n",
      "Starting back-translation for 6 texts...\n"
     ]
    },
    {
     "name": "stdout",
     "output_type": "stream",
     "text": [
      "Back-translation completed.\n",
      "Augmented rows: 12/30\n",
      "Starting back-translation for 6 texts...\n"
     ]
    },
    {
     "name": "stdout",
     "output_type": "stream",
     "text": [
      "Back-translation completed.\n",
      "Augmented rows: 18/30\n",
      "Starting back-translation for 6 texts...\n"
     ]
    },
    {
     "name": "stdout",
     "output_type": "stream",
     "text": [
      "Back-translation completed.\n",
      "Augmented rows: 24/30\n",
      "Starting back-translation for 6 texts...\n"
     ]
    },
    {
     "name": "stdout",
     "output_type": "stream",
     "text": [
      "Back-translation completed.\n",
      "Augmented rows: 30/30\n",
      "Class augmentation completed. Total rows: 30.\n",
      "Augmenting class with 6 rows to reach 30 rows...\n",
      "Starting back-translation for 6 texts...\n"
     ]
    },
    {
     "name": "stdout",
     "output_type": "stream",
     "text": [
      "Back-translation completed.\n",
      "Augmented rows: 12/30\n",
      "Starting back-translation for 6 texts...\n"
     ]
    },
    {
     "name": "stdout",
     "output_type": "stream",
     "text": [
      "Back-translation completed.\n",
      "Augmented rows: 18/30\n",
      "Starting back-translation for 6 texts...\n"
     ]
    },
    {
     "name": "stdout",
     "output_type": "stream",
     "text": [
      "Back-translation completed.\n",
      "Augmented rows: 24/30\n",
      "Starting back-translation for 6 texts...\n"
     ]
    },
    {
     "name": "stdout",
     "output_type": "stream",
     "text": [
      "Back-translation completed.\n",
      "Augmented rows: 30/30\n",
      "Class augmentation completed. Total rows: 30.\n",
      "Augmenting class with 6 rows to reach 30 rows...\n",
      "Starting back-translation for 6 texts...\n"
     ]
    },
    {
     "name": "stdout",
     "output_type": "stream",
     "text": [
      "Back-translation completed.\n",
      "Augmented rows: 12/30\n",
      "Starting back-translation for 6 texts...\n"
     ]
    },
    {
     "name": "stdout",
     "output_type": "stream",
     "text": [
      "Back-translation completed.\n",
      "Augmented rows: 18/30\n",
      "Starting back-translation for 6 texts...\n"
     ]
    },
    {
     "name": "stdout",
     "output_type": "stream",
     "text": [
      "Back-translation completed.\n",
      "Augmented rows: 24/30\n",
      "Starting back-translation for 6 texts...\n"
     ]
    },
    {
     "name": "stdout",
     "output_type": "stream",
     "text": [
      "Back-translation completed.\n",
      "Augmented rows: 30/30\n",
      "Class augmentation completed. Total rows: 30.\n",
      "Augmenting class with 6 rows to reach 30 rows...\n",
      "Starting back-translation for 6 texts...\n"
     ]
    },
    {
     "name": "stdout",
     "output_type": "stream",
     "text": [
      "Back-translation completed.\n",
      "Augmented rows: 12/30\n",
      "Starting back-translation for 6 texts...\n"
     ]
    },
    {
     "name": "stdout",
     "output_type": "stream",
     "text": [
      "Back-translation completed.\n",
      "Augmented rows: 18/30\n",
      "Starting back-translation for 6 texts...\n"
     ]
    },
    {
     "name": "stdout",
     "output_type": "stream",
     "text": [
      "Back-translation completed.\n",
      "Augmented rows: 24/30\n",
      "Starting back-translation for 6 texts...\n"
     ]
    },
    {
     "name": "stdout",
     "output_type": "stream",
     "text": [
      "Back-translation completed.\n",
      "Augmented rows: 30/30\n",
      "Class augmentation completed. Total rows: 30.\n",
      "Augmenting class with 6 rows to reach 30 rows...\n",
      "Starting back-translation for 6 texts...\n"
     ]
    },
    {
     "name": "stdout",
     "output_type": "stream",
     "text": [
      "Back-translation completed.\n",
      "Augmented rows: 12/30\n",
      "Starting back-translation for 6 texts...\n"
     ]
    },
    {
     "name": "stdout",
     "output_type": "stream",
     "text": [
      "Back-translation completed.\n",
      "Augmented rows: 18/30\n",
      "Starting back-translation for 6 texts...\n"
     ]
    },
    {
     "name": "stdout",
     "output_type": "stream",
     "text": [
      "Back-translation completed.\n",
      "Augmented rows: 24/30\n",
      "Starting back-translation for 6 texts...\n"
     ]
    },
    {
     "name": "stdout",
     "output_type": "stream",
     "text": [
      "Back-translation completed.\n",
      "Augmented rows: 30/30\n",
      "Class augmentation completed. Total rows: 30.\n",
      "Augmenting class with 6 rows to reach 30 rows...\n",
      "Starting back-translation for 6 texts...\n"
     ]
    },
    {
     "name": "stdout",
     "output_type": "stream",
     "text": [
      "Back-translation completed.\n",
      "Augmented rows: 12/30\n",
      "Starting back-translation for 6 texts...\n"
     ]
    },
    {
     "name": "stdout",
     "output_type": "stream",
     "text": [
      "Back-translation completed.\n",
      "Augmented rows: 18/30\n",
      "Starting back-translation for 6 texts...\n"
     ]
    },
    {
     "name": "stdout",
     "output_type": "stream",
     "text": [
      "Back-translation completed.\n",
      "Augmented rows: 24/30\n",
      "Starting back-translation for 6 texts...\n"
     ]
    },
    {
     "name": "stdout",
     "output_type": "stream",
     "text": [
      "Back-translation completed.\n",
      "Augmented rows: 30/30\n",
      "Class augmentation completed. Total rows: 30.\n",
      "Augmenting class with 6 rows to reach 30 rows...\n",
      "Starting back-translation for 6 texts...\n"
     ]
    },
    {
     "name": "stdout",
     "output_type": "stream",
     "text": [
      "Back-translation completed.\n",
      "Augmented rows: 12/30\n",
      "Starting back-translation for 6 texts...\n"
     ]
    },
    {
     "name": "stdout",
     "output_type": "stream",
     "text": [
      "Back-translation completed.\n",
      "Augmented rows: 18/30\n",
      "Starting back-translation for 6 texts...\n"
     ]
    },
    {
     "name": "stdout",
     "output_type": "stream",
     "text": [
      "Back-translation completed.\n",
      "Augmented rows: 24/30\n",
      "Starting back-translation for 6 texts...\n"
     ]
    },
    {
     "name": "stdout",
     "output_type": "stream",
     "text": [
      "Back-translation completed.\n",
      "Augmented rows: 30/30\n",
      "Class augmentation completed. Total rows: 30.\n",
      "Augmenting class with 6 rows to reach 30 rows...\n",
      "Starting back-translation for 6 texts...\n"
     ]
    },
    {
     "name": "stdout",
     "output_type": "stream",
     "text": [
      "Back-translation completed.\n",
      "Augmented rows: 12/30\n",
      "Starting back-translation for 6 texts...\n"
     ]
    },
    {
     "name": "stdout",
     "output_type": "stream",
     "text": [
      "Back-translation completed.\n",
      "Augmented rows: 18/30\n",
      "Starting back-translation for 6 texts...\n"
     ]
    },
    {
     "name": "stdout",
     "output_type": "stream",
     "text": [
      "Back-translation completed.\n",
      "Augmented rows: 24/30\n",
      "Starting back-translation for 6 texts...\n"
     ]
    },
    {
     "name": "stdout",
     "output_type": "stream",
     "text": [
      "Back-translation completed.\n",
      "Augmented rows: 30/30\n",
      "Class augmentation completed. Total rows: 30.\n",
      "Augmenting class with 6 rows to reach 30 rows...\n",
      "Starting back-translation for 6 texts...\n"
     ]
    },
    {
     "name": "stdout",
     "output_type": "stream",
     "text": [
      "Back-translation completed.\n",
      "Augmented rows: 12/30\n",
      "Starting back-translation for 6 texts...\n"
     ]
    },
    {
     "name": "stdout",
     "output_type": "stream",
     "text": [
      "Back-translation completed.\n",
      "Augmented rows: 18/30\n",
      "Starting back-translation for 6 texts...\n"
     ]
    },
    {
     "name": "stdout",
     "output_type": "stream",
     "text": [
      "Back-translation completed.\n",
      "Augmented rows: 24/30\n",
      "Starting back-translation for 6 texts...\n"
     ]
    },
    {
     "name": "stdout",
     "output_type": "stream",
     "text": [
      "Back-translation completed.\n",
      "Augmented rows: 30/30\n",
      "Class augmentation completed. Total rows: 30.\n",
      "Augmenting class with 6 rows to reach 30 rows...\n",
      "Starting back-translation for 6 texts...\n"
     ]
    },
    {
     "name": "stdout",
     "output_type": "stream",
     "text": [
      "Back-translation completed.\n",
      "Augmented rows: 12/30\n",
      "Starting back-translation for 6 texts...\n"
     ]
    },
    {
     "name": "stdout",
     "output_type": "stream",
     "text": [
      "Back-translation completed.\n",
      "Augmented rows: 18/30\n",
      "Starting back-translation for 6 texts...\n"
     ]
    },
    {
     "name": "stdout",
     "output_type": "stream",
     "text": [
      "Back-translation completed.\n",
      "Augmented rows: 24/30\n",
      "Starting back-translation for 6 texts...\n"
     ]
    },
    {
     "name": "stdout",
     "output_type": "stream",
     "text": [
      "Back-translation completed.\n",
      "Augmented rows: 30/30\n",
      "Class augmentation completed. Total rows: 30.\n",
      "Augmenting class with 6 rows to reach 30 rows...\n",
      "Starting back-translation for 6 texts...\n"
     ]
    },
    {
     "name": "stdout",
     "output_type": "stream",
     "text": [
      "Back-translation completed.\n",
      "Augmented rows: 12/30\n",
      "Starting back-translation for 6 texts...\n"
     ]
    },
    {
     "name": "stdout",
     "output_type": "stream",
     "text": [
      "Back-translation completed.\n",
      "Augmented rows: 18/30\n",
      "Starting back-translation for 6 texts...\n"
     ]
    },
    {
     "name": "stdout",
     "output_type": "stream",
     "text": [
      "Back-translation completed.\n",
      "Augmented rows: 24/30\n",
      "Starting back-translation for 6 texts...\n"
     ]
    },
    {
     "name": "stdout",
     "output_type": "stream",
     "text": [
      "Back-translation completed.\n",
      "Augmented rows: 30/30\n",
      "Class augmentation completed. Total rows: 30.\n",
      "Augmenting class with 6 rows to reach 30 rows...\n",
      "Starting back-translation for 6 texts...\n"
     ]
    },
    {
     "name": "stdout",
     "output_type": "stream",
     "text": [
      "Back-translation completed.\n",
      "Augmented rows: 12/30\n",
      "Starting back-translation for 6 texts...\n"
     ]
    },
    {
     "name": "stdout",
     "output_type": "stream",
     "text": [
      "Back-translation completed.\n",
      "Augmented rows: 18/30\n",
      "Starting back-translation for 6 texts...\n"
     ]
    },
    {
     "name": "stdout",
     "output_type": "stream",
     "text": [
      "Back-translation completed.\n",
      "Augmented rows: 24/30\n",
      "Starting back-translation for 6 texts...\n"
     ]
    },
    {
     "name": "stdout",
     "output_type": "stream",
     "text": [
      "Back-translation completed.\n",
      "Augmented rows: 30/30\n",
      "Class augmentation completed. Total rows: 30.\n",
      "Augmenting class with 6 rows to reach 30 rows...\n",
      "Starting back-translation for 6 texts...\n"
     ]
    },
    {
     "name": "stdout",
     "output_type": "stream",
     "text": [
      "Back-translation completed.\n",
      "Augmented rows: 12/30\n",
      "Starting back-translation for 6 texts...\n"
     ]
    },
    {
     "name": "stdout",
     "output_type": "stream",
     "text": [
      "Back-translation completed.\n",
      "Augmented rows: 18/30\n",
      "Starting back-translation for 6 texts...\n"
     ]
    },
    {
     "name": "stdout",
     "output_type": "stream",
     "text": [
      "Back-translation completed.\n",
      "Augmented rows: 24/30\n",
      "Starting back-translation for 6 texts...\n"
     ]
    },
    {
     "name": "stdout",
     "output_type": "stream",
     "text": [
      "Back-translation completed.\n",
      "Augmented rows: 30/30\n",
      "Class augmentation completed. Total rows: 30.\n",
      "Augmenting class with 6 rows to reach 30 rows...\n",
      "Starting back-translation for 6 texts...\n"
     ]
    },
    {
     "name": "stdout",
     "output_type": "stream",
     "text": [
      "Back-translation completed.\n",
      "Augmented rows: 12/30\n",
      "Starting back-translation for 6 texts...\n"
     ]
    },
    {
     "name": "stdout",
     "output_type": "stream",
     "text": [
      "Back-translation completed.\n",
      "Augmented rows: 18/30\n",
      "Starting back-translation for 6 texts...\n"
     ]
    },
    {
     "name": "stdout",
     "output_type": "stream",
     "text": [
      "Back-translation completed.\n",
      "Augmented rows: 24/30\n",
      "Starting back-translation for 6 texts...\n"
     ]
    },
    {
     "name": "stdout",
     "output_type": "stream",
     "text": [
      "Back-translation completed.\n",
      "Augmented rows: 30/30\n",
      "Class augmentation completed. Total rows: 30.\n",
      "Augmenting class with 6 rows to reach 30 rows...\n",
      "Starting back-translation for 6 texts...\n"
     ]
    },
    {
     "name": "stdout",
     "output_type": "stream",
     "text": [
      "Back-translation completed.\n",
      "Augmented rows: 12/30\n",
      "Starting back-translation for 6 texts...\n"
     ]
    },
    {
     "name": "stdout",
     "output_type": "stream",
     "text": [
      "Back-translation completed.\n",
      "Augmented rows: 18/30\n",
      "Starting back-translation for 6 texts...\n"
     ]
    },
    {
     "name": "stdout",
     "output_type": "stream",
     "text": [
      "Back-translation completed.\n",
      "Augmented rows: 24/30\n",
      "Starting back-translation for 6 texts...\n"
     ]
    },
    {
     "name": "stdout",
     "output_type": "stream",
     "text": [
      "Back-translation completed.\n",
      "Augmented rows: 30/30\n",
      "Class augmentation completed. Total rows: 30.\n",
      "Augmenting class with 6 rows to reach 30 rows...\n",
      "Starting back-translation for 6 texts...\n"
     ]
    },
    {
     "name": "stdout",
     "output_type": "stream",
     "text": [
      "Back-translation completed.\n",
      "Augmented rows: 12/30\n",
      "Starting back-translation for 6 texts...\n"
     ]
    },
    {
     "name": "stdout",
     "output_type": "stream",
     "text": [
      "Back-translation completed.\n",
      "Augmented rows: 18/30\n",
      "Starting back-translation for 6 texts...\n"
     ]
    },
    {
     "name": "stdout",
     "output_type": "stream",
     "text": [
      "Back-translation completed.\n",
      "Augmented rows: 24/30\n",
      "Starting back-translation for 6 texts...\n"
     ]
    },
    {
     "name": "stdout",
     "output_type": "stream",
     "text": [
      "Back-translation completed.\n",
      "Augmented rows: 30/30\n",
      "Class augmentation completed. Total rows: 30.\n",
      "Augmenting class with 6 rows to reach 30 rows...\n",
      "Starting back-translation for 6 texts...\n"
     ]
    },
    {
     "name": "stdout",
     "output_type": "stream",
     "text": [
      "Back-translation completed.\n",
      "Augmented rows: 12/30\n",
      "Starting back-translation for 6 texts...\n"
     ]
    },
    {
     "name": "stdout",
     "output_type": "stream",
     "text": [
      "Back-translation completed.\n",
      "Augmented rows: 18/30\n",
      "Starting back-translation for 6 texts...\n"
     ]
    },
    {
     "name": "stdout",
     "output_type": "stream",
     "text": [
      "Back-translation completed.\n",
      "Augmented rows: 24/30\n",
      "Starting back-translation for 6 texts...\n"
     ]
    },
    {
     "name": "stdout",
     "output_type": "stream",
     "text": [
      "Back-translation completed.\n",
      "Augmented rows: 30/30\n",
      "Class augmentation completed. Total rows: 30.\n",
      "Augmenting class with 6 rows to reach 30 rows...\n",
      "Starting back-translation for 6 texts...\n"
     ]
    },
    {
     "name": "stdout",
     "output_type": "stream",
     "text": [
      "Back-translation completed.\n",
      "Augmented rows: 12/30\n",
      "Starting back-translation for 6 texts...\n"
     ]
    },
    {
     "name": "stdout",
     "output_type": "stream",
     "text": [
      "Back-translation completed.\n",
      "Augmented rows: 18/30\n",
      "Starting back-translation for 6 texts...\n"
     ]
    },
    {
     "name": "stdout",
     "output_type": "stream",
     "text": [
      "Back-translation completed.\n",
      "Augmented rows: 24/30\n",
      "Starting back-translation for 6 texts...\n"
     ]
    },
    {
     "name": "stdout",
     "output_type": "stream",
     "text": [
      "Back-translation completed.\n",
      "Augmented rows: 30/30\n",
      "Class augmentation completed. Total rows: 30.\n",
      "Augmenting class with 6 rows to reach 30 rows...\n",
      "Starting back-translation for 6 texts...\n"
     ]
    },
    {
     "name": "stdout",
     "output_type": "stream",
     "text": [
      "Back-translation completed.\n",
      "Augmented rows: 12/30\n",
      "Starting back-translation for 6 texts...\n"
     ]
    },
    {
     "name": "stdout",
     "output_type": "stream",
     "text": [
      "Back-translation completed.\n",
      "Augmented rows: 18/30\n",
      "Starting back-translation for 6 texts...\n"
     ]
    },
    {
     "name": "stdout",
     "output_type": "stream",
     "text": [
      "Back-translation completed.\n",
      "Augmented rows: 24/30\n",
      "Starting back-translation for 6 texts...\n"
     ]
    },
    {
     "name": "stdout",
     "output_type": "stream",
     "text": [
      "Back-translation completed.\n",
      "Augmented rows: 30/30\n",
      "Class augmentation completed. Total rows: 30.\n",
      "Augmenting class with 5 rows to reach 30 rows...\n",
      "Starting back-translation for 5 texts...\n"
     ]
    },
    {
     "name": "stdout",
     "output_type": "stream",
     "text": [
      "Back-translation completed.\n",
      "Augmented rows: 10/30\n",
      "Starting back-translation for 5 texts...\n"
     ]
    },
    {
     "name": "stdout",
     "output_type": "stream",
     "text": [
      "Back-translation completed.\n",
      "Augmented rows: 15/30\n",
      "Starting back-translation for 5 texts...\n"
     ]
    },
    {
     "name": "stdout",
     "output_type": "stream",
     "text": [
      "Back-translation completed.\n",
      "Augmented rows: 20/30\n",
      "Starting back-translation for 5 texts...\n"
     ]
    },
    {
     "name": "stdout",
     "output_type": "stream",
     "text": [
      "Back-translation completed.\n",
      "Augmented rows: 25/30\n",
      "Starting back-translation for 5 texts...\n"
     ]
    },
    {
     "name": "stdout",
     "output_type": "stream",
     "text": [
      "Back-translation completed.\n",
      "Augmented rows: 30/30\n",
      "Class augmentation completed. Total rows: 30.\n",
      "Augmenting class with 5 rows to reach 30 rows...\n",
      "Starting back-translation for 5 texts...\n"
     ]
    },
    {
     "name": "stdout",
     "output_type": "stream",
     "text": [
      "Back-translation completed.\n",
      "Augmented rows: 10/30\n",
      "Starting back-translation for 5 texts...\n"
     ]
    },
    {
     "name": "stdout",
     "output_type": "stream",
     "text": [
      "Back-translation completed.\n",
      "Augmented rows: 15/30\n",
      "Starting back-translation for 5 texts...\n"
     ]
    },
    {
     "name": "stdout",
     "output_type": "stream",
     "text": [
      "Back-translation completed.\n",
      "Augmented rows: 20/30\n",
      "Starting back-translation for 5 texts...\n"
     ]
    },
    {
     "name": "stdout",
     "output_type": "stream",
     "text": [
      "Back-translation completed.\n",
      "Augmented rows: 25/30\n",
      "Starting back-translation for 5 texts...\n"
     ]
    },
    {
     "name": "stdout",
     "output_type": "stream",
     "text": [
      "Back-translation completed.\n",
      "Augmented rows: 30/30\n",
      "Class augmentation completed. Total rows: 30.\n",
      "Augmenting class with 5 rows to reach 30 rows...\n",
      "Starting back-translation for 5 texts...\n"
     ]
    },
    {
     "name": "stdout",
     "output_type": "stream",
     "text": [
      "Back-translation completed.\n",
      "Augmented rows: 10/30\n",
      "Starting back-translation for 5 texts...\n"
     ]
    },
    {
     "name": "stdout",
     "output_type": "stream",
     "text": [
      "Back-translation completed.\n",
      "Augmented rows: 15/30\n",
      "Starting back-translation for 5 texts...\n"
     ]
    },
    {
     "name": "stdout",
     "output_type": "stream",
     "text": [
      "Back-translation completed.\n",
      "Augmented rows: 20/30\n",
      "Starting back-translation for 5 texts...\n"
     ]
    },
    {
     "name": "stdout",
     "output_type": "stream",
     "text": [
      "Back-translation completed.\n",
      "Augmented rows: 25/30\n",
      "Starting back-translation for 5 texts...\n"
     ]
    },
    {
     "name": "stdout",
     "output_type": "stream",
     "text": [
      "Back-translation completed.\n",
      "Augmented rows: 30/30\n",
      "Class augmentation completed. Total rows: 30.\n",
      "Augmenting class with 5 rows to reach 30 rows...\n",
      "Starting back-translation for 5 texts...\n"
     ]
    },
    {
     "name": "stdout",
     "output_type": "stream",
     "text": [
      "Back-translation completed.\n",
      "Augmented rows: 10/30\n",
      "Starting back-translation for 5 texts...\n"
     ]
    },
    {
     "name": "stdout",
     "output_type": "stream",
     "text": [
      "Back-translation completed.\n",
      "Augmented rows: 15/30\n",
      "Starting back-translation for 5 texts...\n"
     ]
    },
    {
     "name": "stdout",
     "output_type": "stream",
     "text": [
      "Back-translation completed.\n",
      "Augmented rows: 20/30\n",
      "Starting back-translation for 5 texts...\n"
     ]
    },
    {
     "name": "stdout",
     "output_type": "stream",
     "text": [
      "Back-translation completed.\n",
      "Augmented rows: 25/30\n",
      "Starting back-translation for 5 texts...\n"
     ]
    },
    {
     "name": "stdout",
     "output_type": "stream",
     "text": [
      "Back-translation completed.\n",
      "Augmented rows: 30/30\n",
      "Class augmentation completed. Total rows: 30.\n",
      "Augmenting class with 5 rows to reach 30 rows...\n",
      "Starting back-translation for 5 texts...\n"
     ]
    },
    {
     "name": "stdout",
     "output_type": "stream",
     "text": [
      "Back-translation completed.\n",
      "Augmented rows: 10/30\n",
      "Starting back-translation for 5 texts...\n"
     ]
    },
    {
     "name": "stdout",
     "output_type": "stream",
     "text": [
      "Back-translation completed.\n",
      "Augmented rows: 15/30\n",
      "Starting back-translation for 5 texts...\n"
     ]
    },
    {
     "name": "stdout",
     "output_type": "stream",
     "text": [
      "Back-translation completed.\n",
      "Augmented rows: 20/30\n",
      "Starting back-translation for 5 texts...\n"
     ]
    },
    {
     "name": "stdout",
     "output_type": "stream",
     "text": [
      "Back-translation completed.\n",
      "Augmented rows: 25/30\n",
      "Starting back-translation for 5 texts...\n"
     ]
    },
    {
     "name": "stdout",
     "output_type": "stream",
     "text": [
      "Back-translation completed.\n",
      "Augmented rows: 30/30\n",
      "Class augmentation completed. Total rows: 30.\n",
      "Augmenting class with 5 rows to reach 30 rows...\n",
      "Starting back-translation for 5 texts...\n"
     ]
    },
    {
     "name": "stdout",
     "output_type": "stream",
     "text": [
      "Back-translation completed.\n",
      "Augmented rows: 10/30\n",
      "Starting back-translation for 5 texts...\n"
     ]
    },
    {
     "name": "stdout",
     "output_type": "stream",
     "text": [
      "Back-translation completed.\n",
      "Augmented rows: 15/30\n",
      "Starting back-translation for 5 texts...\n"
     ]
    },
    {
     "name": "stdout",
     "output_type": "stream",
     "text": [
      "Back-translation completed.\n",
      "Augmented rows: 20/30\n",
      "Starting back-translation for 5 texts...\n"
     ]
    },
    {
     "name": "stdout",
     "output_type": "stream",
     "text": [
      "Back-translation completed.\n",
      "Augmented rows: 25/30\n",
      "Starting back-translation for 5 texts...\n"
     ]
    },
    {
     "name": "stdout",
     "output_type": "stream",
     "text": [
      "Back-translation completed.\n",
      "Augmented rows: 30/30\n",
      "Class augmentation completed. Total rows: 30.\n",
      "Augmenting class with 5 rows to reach 30 rows...\n",
      "Starting back-translation for 5 texts...\n"
     ]
    },
    {
     "name": "stdout",
     "output_type": "stream",
     "text": [
      "Back-translation completed.\n",
      "Augmented rows: 10/30\n",
      "Starting back-translation for 5 texts...\n"
     ]
    },
    {
     "name": "stdout",
     "output_type": "stream",
     "text": [
      "Back-translation completed.\n",
      "Augmented rows: 15/30\n",
      "Starting back-translation for 5 texts...\n"
     ]
    },
    {
     "name": "stdout",
     "output_type": "stream",
     "text": [
      "Back-translation completed.\n",
      "Augmented rows: 20/30\n",
      "Starting back-translation for 5 texts...\n"
     ]
    },
    {
     "name": "stdout",
     "output_type": "stream",
     "text": [
      "Back-translation completed.\n",
      "Augmented rows: 25/30\n",
      "Starting back-translation for 5 texts...\n"
     ]
    },
    {
     "name": "stdout",
     "output_type": "stream",
     "text": [
      "Back-translation completed.\n",
      "Augmented rows: 30/30\n",
      "Class augmentation completed. Total rows: 30.\n",
      "Augmenting class with 5 rows to reach 30 rows...\n",
      "Starting back-translation for 5 texts...\n"
     ]
    },
    {
     "name": "stdout",
     "output_type": "stream",
     "text": [
      "Back-translation completed.\n",
      "Augmented rows: 10/30\n",
      "Starting back-translation for 5 texts...\n"
     ]
    },
    {
     "name": "stdout",
     "output_type": "stream",
     "text": [
      "Back-translation completed.\n",
      "Augmented rows: 15/30\n",
      "Starting back-translation for 5 texts...\n"
     ]
    },
    {
     "name": "stdout",
     "output_type": "stream",
     "text": [
      "Back-translation completed.\n",
      "Augmented rows: 20/30\n",
      "Starting back-translation for 5 texts...\n"
     ]
    },
    {
     "name": "stdout",
     "output_type": "stream",
     "text": [
      "Back-translation completed.\n",
      "Augmented rows: 25/30\n",
      "Starting back-translation for 5 texts...\n"
     ]
    },
    {
     "name": "stdout",
     "output_type": "stream",
     "text": [
      "Back-translation completed.\n",
      "Augmented rows: 30/30\n",
      "Class augmentation completed. Total rows: 30.\n",
      "Augmenting class with 5 rows to reach 30 rows...\n",
      "Starting back-translation for 5 texts...\n"
     ]
    },
    {
     "name": "stdout",
     "output_type": "stream",
     "text": [
      "Back-translation completed.\n",
      "Augmented rows: 10/30\n",
      "Starting back-translation for 5 texts...\n"
     ]
    },
    {
     "name": "stdout",
     "output_type": "stream",
     "text": [
      "Back-translation completed.\n",
      "Augmented rows: 15/30\n",
      "Starting back-translation for 5 texts...\n"
     ]
    },
    {
     "name": "stdout",
     "output_type": "stream",
     "text": [
      "Back-translation completed.\n",
      "Augmented rows: 20/30\n",
      "Starting back-translation for 5 texts...\n"
     ]
    },
    {
     "name": "stdout",
     "output_type": "stream",
     "text": [
      "Back-translation completed.\n",
      "Augmented rows: 25/30\n",
      "Starting back-translation for 5 texts...\n"
     ]
    },
    {
     "name": "stdout",
     "output_type": "stream",
     "text": [
      "Back-translation completed.\n",
      "Augmented rows: 30/30\n",
      "Class augmentation completed. Total rows: 30.\n",
      "Augmenting class with 5 rows to reach 30 rows...\n",
      "Starting back-translation for 5 texts...\n"
     ]
    },
    {
     "name": "stdout",
     "output_type": "stream",
     "text": [
      "Back-translation completed.\n",
      "Augmented rows: 10/30\n",
      "Starting back-translation for 5 texts...\n"
     ]
    },
    {
     "name": "stdout",
     "output_type": "stream",
     "text": [
      "Back-translation completed.\n",
      "Augmented rows: 15/30\n",
      "Starting back-translation for 5 texts...\n"
     ]
    },
    {
     "name": "stdout",
     "output_type": "stream",
     "text": [
      "Back-translation completed.\n",
      "Augmented rows: 20/30\n",
      "Starting back-translation for 5 texts...\n"
     ]
    },
    {
     "name": "stdout",
     "output_type": "stream",
     "text": [
      "Back-translation completed.\n",
      "Augmented rows: 25/30\n",
      "Starting back-translation for 5 texts...\n"
     ]
    },
    {
     "name": "stdout",
     "output_type": "stream",
     "text": [
      "Back-translation completed.\n",
      "Augmented rows: 30/30\n",
      "Class augmentation completed. Total rows: 30.\n",
      "Augmenting class with 5 rows to reach 30 rows...\n",
      "Starting back-translation for 5 texts...\n"
     ]
    },
    {
     "name": "stdout",
     "output_type": "stream",
     "text": [
      "Back-translation completed.\n",
      "Augmented rows: 10/30\n",
      "Starting back-translation for 5 texts...\n"
     ]
    },
    {
     "name": "stdout",
     "output_type": "stream",
     "text": [
      "Back-translation completed.\n",
      "Augmented rows: 15/30\n",
      "Starting back-translation for 5 texts...\n"
     ]
    },
    {
     "name": "stdout",
     "output_type": "stream",
     "text": [
      "Back-translation completed.\n",
      "Augmented rows: 20/30\n",
      "Starting back-translation for 5 texts...\n"
     ]
    },
    {
     "name": "stdout",
     "output_type": "stream",
     "text": [
      "Back-translation completed.\n",
      "Augmented rows: 25/30\n",
      "Starting back-translation for 5 texts...\n"
     ]
    },
    {
     "name": "stdout",
     "output_type": "stream",
     "text": [
      "Back-translation completed.\n",
      "Augmented rows: 30/30\n",
      "Class augmentation completed. Total rows: 30.\n",
      "Augmenting class with 5 rows to reach 30 rows...\n",
      "Starting back-translation for 5 texts...\n"
     ]
    },
    {
     "name": "stdout",
     "output_type": "stream",
     "text": [
      "Back-translation completed.\n",
      "Augmented rows: 10/30\n",
      "Starting back-translation for 5 texts...\n"
     ]
    },
    {
     "name": "stdout",
     "output_type": "stream",
     "text": [
      "Back-translation completed.\n",
      "Augmented rows: 15/30\n",
      "Starting back-translation for 5 texts...\n"
     ]
    },
    {
     "name": "stdout",
     "output_type": "stream",
     "text": [
      "Back-translation completed.\n",
      "Augmented rows: 20/30\n",
      "Starting back-translation for 5 texts...\n"
     ]
    },
    {
     "name": "stdout",
     "output_type": "stream",
     "text": [
      "Back-translation completed.\n",
      "Augmented rows: 25/30\n",
      "Starting back-translation for 5 texts...\n"
     ]
    },
    {
     "name": "stdout",
     "output_type": "stream",
     "text": [
      "Back-translation completed.\n",
      "Augmented rows: 30/30\n",
      "Class augmentation completed. Total rows: 30.\n",
      "Augmenting class with 5 rows to reach 30 rows...\n",
      "Starting back-translation for 5 texts...\n"
     ]
    },
    {
     "name": "stdout",
     "output_type": "stream",
     "text": [
      "Back-translation completed.\n",
      "Augmented rows: 10/30\n",
      "Starting back-translation for 5 texts...\n"
     ]
    },
    {
     "name": "stdout",
     "output_type": "stream",
     "text": [
      "Back-translation completed.\n",
      "Augmented rows: 15/30\n",
      "Starting back-translation for 5 texts...\n"
     ]
    },
    {
     "name": "stdout",
     "output_type": "stream",
     "text": [
      "Back-translation completed.\n",
      "Augmented rows: 20/30\n",
      "Starting back-translation for 5 texts...\n"
     ]
    },
    {
     "name": "stdout",
     "output_type": "stream",
     "text": [
      "Back-translation completed.\n",
      "Augmented rows: 25/30\n",
      "Starting back-translation for 5 texts...\n"
     ]
    },
    {
     "name": "stdout",
     "output_type": "stream",
     "text": [
      "Back-translation completed.\n",
      "Augmented rows: 30/30\n",
      "Class augmentation completed. Total rows: 30.\n",
      "Augmenting class with 5 rows to reach 30 rows...\n",
      "Starting back-translation for 5 texts...\n"
     ]
    },
    {
     "name": "stdout",
     "output_type": "stream",
     "text": [
      "Back-translation completed.\n",
      "Augmented rows: 10/30\n",
      "Starting back-translation for 5 texts...\n"
     ]
    },
    {
     "name": "stdout",
     "output_type": "stream",
     "text": [
      "Back-translation completed.\n",
      "Augmented rows: 15/30\n",
      "Starting back-translation for 5 texts...\n"
     ]
    },
    {
     "name": "stdout",
     "output_type": "stream",
     "text": [
      "Back-translation completed.\n",
      "Augmented rows: 20/30\n",
      "Starting back-translation for 5 texts...\n"
     ]
    },
    {
     "name": "stdout",
     "output_type": "stream",
     "text": [
      "Back-translation completed.\n",
      "Augmented rows: 25/30\n",
      "Starting back-translation for 5 texts...\n"
     ]
    },
    {
     "name": "stdout",
     "output_type": "stream",
     "text": [
      "Back-translation completed.\n",
      "Augmented rows: 30/30\n",
      "Class augmentation completed. Total rows: 30.\n",
      "Augmenting class with 5 rows to reach 30 rows...\n",
      "Starting back-translation for 5 texts...\n"
     ]
    },
    {
     "name": "stdout",
     "output_type": "stream",
     "text": [
      "Back-translation completed.\n",
      "Augmented rows: 10/30\n",
      "Starting back-translation for 5 texts...\n"
     ]
    },
    {
     "name": "stdout",
     "output_type": "stream",
     "text": [
      "Back-translation completed.\n",
      "Augmented rows: 15/30\n",
      "Starting back-translation for 5 texts...\n"
     ]
    },
    {
     "name": "stdout",
     "output_type": "stream",
     "text": [
      "Back-translation completed.\n",
      "Augmented rows: 20/30\n",
      "Starting back-translation for 5 texts...\n"
     ]
    },
    {
     "name": "stdout",
     "output_type": "stream",
     "text": [
      "Back-translation completed.\n",
      "Augmented rows: 25/30\n",
      "Starting back-translation for 5 texts...\n"
     ]
    },
    {
     "name": "stdout",
     "output_type": "stream",
     "text": [
      "Back-translation completed.\n",
      "Augmented rows: 30/30\n",
      "Class augmentation completed. Total rows: 30.\n",
      "Augmenting class with 5 rows to reach 30 rows...\n",
      "Starting back-translation for 5 texts...\n"
     ]
    },
    {
     "name": "stdout",
     "output_type": "stream",
     "text": [
      "Back-translation completed.\n",
      "Augmented rows: 10/30\n",
      "Starting back-translation for 5 texts...\n"
     ]
    },
    {
     "name": "stdout",
     "output_type": "stream",
     "text": [
      "Back-translation completed.\n",
      "Augmented rows: 15/30\n",
      "Starting back-translation for 5 texts...\n"
     ]
    },
    {
     "name": "stdout",
     "output_type": "stream",
     "text": [
      "Back-translation completed.\n",
      "Augmented rows: 20/30\n",
      "Starting back-translation for 5 texts...\n"
     ]
    },
    {
     "name": "stdout",
     "output_type": "stream",
     "text": [
      "Back-translation completed.\n",
      "Augmented rows: 25/30\n",
      "Starting back-translation for 5 texts...\n"
     ]
    },
    {
     "name": "stdout",
     "output_type": "stream",
     "text": [
      "Back-translation completed.\n",
      "Augmented rows: 30/30\n",
      "Class augmentation completed. Total rows: 30.\n",
      "Augmenting class with 5 rows to reach 30 rows...\n",
      "Starting back-translation for 5 texts...\n"
     ]
    },
    {
     "name": "stdout",
     "output_type": "stream",
     "text": [
      "Back-translation completed.\n",
      "Augmented rows: 10/30\n",
      "Starting back-translation for 5 texts...\n"
     ]
    },
    {
     "name": "stdout",
     "output_type": "stream",
     "text": [
      "Back-translation completed.\n",
      "Augmented rows: 15/30\n",
      "Starting back-translation for 5 texts...\n"
     ]
    },
    {
     "name": "stdout",
     "output_type": "stream",
     "text": [
      "Back-translation completed.\n",
      "Augmented rows: 20/30\n",
      "Starting back-translation for 5 texts...\n"
     ]
    },
    {
     "name": "stdout",
     "output_type": "stream",
     "text": [
      "Back-translation completed.\n",
      "Augmented rows: 25/30\n",
      "Starting back-translation for 5 texts...\n"
     ]
    },
    {
     "name": "stdout",
     "output_type": "stream",
     "text": [
      "Back-translation completed.\n",
      "Augmented rows: 30/30\n",
      "Class augmentation completed. Total rows: 30.\n",
      "Augmenting class with 5 rows to reach 30 rows...\n",
      "Starting back-translation for 5 texts...\n"
     ]
    },
    {
     "name": "stdout",
     "output_type": "stream",
     "text": [
      "Back-translation completed.\n",
      "Augmented rows: 10/30\n",
      "Starting back-translation for 5 texts...\n"
     ]
    },
    {
     "name": "stdout",
     "output_type": "stream",
     "text": [
      "Back-translation completed.\n",
      "Augmented rows: 15/30\n",
      "Starting back-translation for 5 texts...\n"
     ]
    },
    {
     "name": "stdout",
     "output_type": "stream",
     "text": [
      "Back-translation completed.\n",
      "Augmented rows: 20/30\n",
      "Starting back-translation for 5 texts...\n"
     ]
    },
    {
     "name": "stdout",
     "output_type": "stream",
     "text": [
      "Back-translation completed.\n",
      "Augmented rows: 25/30\n",
      "Starting back-translation for 5 texts...\n"
     ]
    },
    {
     "name": "stdout",
     "output_type": "stream",
     "text": [
      "Back-translation completed.\n",
      "Augmented rows: 30/30\n",
      "Class augmentation completed. Total rows: 30.\n",
      "Augmenting class with 5 rows to reach 30 rows...\n",
      "Starting back-translation for 5 texts...\n"
     ]
    },
    {
     "name": "stdout",
     "output_type": "stream",
     "text": [
      "Back-translation completed.\n",
      "Augmented rows: 10/30\n",
      "Starting back-translation for 5 texts...\n"
     ]
    },
    {
     "name": "stdout",
     "output_type": "stream",
     "text": [
      "Back-translation completed.\n",
      "Augmented rows: 15/30\n",
      "Starting back-translation for 5 texts...\n"
     ]
    },
    {
     "name": "stdout",
     "output_type": "stream",
     "text": [
      "Back-translation completed.\n",
      "Augmented rows: 20/30\n",
      "Starting back-translation for 5 texts...\n"
     ]
    },
    {
     "name": "stdout",
     "output_type": "stream",
     "text": [
      "Back-translation completed.\n",
      "Augmented rows: 25/30\n",
      "Starting back-translation for 5 texts...\n"
     ]
    },
    {
     "name": "stdout",
     "output_type": "stream",
     "text": [
      "Back-translation completed.\n",
      "Augmented rows: 30/30\n",
      "Class augmentation completed. Total rows: 30.\n",
      "Augmenting class with 5 rows to reach 30 rows...\n",
      "Starting back-translation for 5 texts...\n"
     ]
    },
    {
     "name": "stdout",
     "output_type": "stream",
     "text": [
      "Back-translation completed.\n",
      "Augmented rows: 10/30\n",
      "Starting back-translation for 5 texts...\n"
     ]
    },
    {
     "name": "stdout",
     "output_type": "stream",
     "text": [
      "Back-translation completed.\n",
      "Augmented rows: 15/30\n",
      "Starting back-translation for 5 texts...\n"
     ]
    },
    {
     "name": "stdout",
     "output_type": "stream",
     "text": [
      "Back-translation completed.\n",
      "Augmented rows: 20/30\n",
      "Starting back-translation for 5 texts...\n"
     ]
    },
    {
     "name": "stdout",
     "output_type": "stream",
     "text": [
      "Back-translation completed.\n",
      "Augmented rows: 25/30\n",
      "Starting back-translation for 5 texts...\n"
     ]
    },
    {
     "name": "stdout",
     "output_type": "stream",
     "text": [
      "Back-translation completed.\n",
      "Augmented rows: 30/30\n",
      "Class augmentation completed. Total rows: 30.\n",
      "Augmenting class with 5 rows to reach 30 rows...\n",
      "Starting back-translation for 5 texts...\n"
     ]
    },
    {
     "name": "stdout",
     "output_type": "stream",
     "text": [
      "Back-translation completed.\n",
      "Augmented rows: 10/30\n",
      "Starting back-translation for 5 texts...\n"
     ]
    },
    {
     "name": "stdout",
     "output_type": "stream",
     "text": [
      "Back-translation completed.\n",
      "Augmented rows: 15/30\n",
      "Starting back-translation for 5 texts...\n"
     ]
    },
    {
     "name": "stdout",
     "output_type": "stream",
     "text": [
      "Back-translation completed.\n",
      "Augmented rows: 20/30\n",
      "Starting back-translation for 5 texts...\n"
     ]
    },
    {
     "name": "stdout",
     "output_type": "stream",
     "text": [
      "Back-translation completed.\n",
      "Augmented rows: 25/30\n",
      "Starting back-translation for 5 texts...\n"
     ]
    },
    {
     "name": "stdout",
     "output_type": "stream",
     "text": [
      "Back-translation completed.\n",
      "Augmented rows: 30/30\n",
      "Class augmentation completed. Total rows: 30.\n",
      "Augmenting class with 5 rows to reach 30 rows...\n",
      "Starting back-translation for 5 texts...\n"
     ]
    },
    {
     "name": "stdout",
     "output_type": "stream",
     "text": [
      "Back-translation completed.\n",
      "Augmented rows: 10/30\n",
      "Starting back-translation for 5 texts...\n"
     ]
    },
    {
     "name": "stdout",
     "output_type": "stream",
     "text": [
      "Back-translation completed.\n",
      "Augmented rows: 15/30\n",
      "Starting back-translation for 5 texts...\n"
     ]
    },
    {
     "name": "stdout",
     "output_type": "stream",
     "text": [
      "Back-translation completed.\n",
      "Augmented rows: 20/30\n",
      "Starting back-translation for 5 texts...\n"
     ]
    },
    {
     "name": "stdout",
     "output_type": "stream",
     "text": [
      "Back-translation completed.\n",
      "Augmented rows: 25/30\n",
      "Starting back-translation for 5 texts...\n"
     ]
    },
    {
     "name": "stdout",
     "output_type": "stream",
     "text": [
      "Back-translation completed.\n",
      "Augmented rows: 30/30\n",
      "Class augmentation completed. Total rows: 30.\n",
      "Augmenting class with 5 rows to reach 30 rows...\n",
      "Starting back-translation for 5 texts...\n"
     ]
    },
    {
     "name": "stdout",
     "output_type": "stream",
     "text": [
      "Back-translation completed.\n",
      "Augmented rows: 10/30\n",
      "Starting back-translation for 5 texts...\n"
     ]
    },
    {
     "name": "stdout",
     "output_type": "stream",
     "text": [
      "Back-translation completed.\n",
      "Augmented rows: 15/30\n",
      "Starting back-translation for 5 texts...\n"
     ]
    },
    {
     "name": "stdout",
     "output_type": "stream",
     "text": [
      "Back-translation completed.\n",
      "Augmented rows: 20/30\n",
      "Starting back-translation for 5 texts...\n"
     ]
    },
    {
     "name": "stdout",
     "output_type": "stream",
     "text": [
      "Back-translation completed.\n",
      "Augmented rows: 25/30\n",
      "Starting back-translation for 5 texts...\n"
     ]
    },
    {
     "name": "stdout",
     "output_type": "stream",
     "text": [
      "Back-translation completed.\n",
      "Augmented rows: 30/30\n",
      "Class augmentation completed. Total rows: 30.\n",
      "Augmenting class with 5 rows to reach 30 rows...\n",
      "Starting back-translation for 5 texts...\n"
     ]
    },
    {
     "name": "stdout",
     "output_type": "stream",
     "text": [
      "Back-translation completed.\n",
      "Augmented rows: 10/30\n",
      "Starting back-translation for 5 texts...\n"
     ]
    },
    {
     "name": "stdout",
     "output_type": "stream",
     "text": [
      "Back-translation completed.\n",
      "Augmented rows: 15/30\n",
      "Starting back-translation for 5 texts...\n"
     ]
    },
    {
     "name": "stdout",
     "output_type": "stream",
     "text": [
      "Back-translation completed.\n",
      "Augmented rows: 20/30\n",
      "Starting back-translation for 5 texts...\n"
     ]
    },
    {
     "name": "stdout",
     "output_type": "stream",
     "text": [
      "Back-translation completed.\n",
      "Augmented rows: 25/30\n",
      "Starting back-translation for 5 texts...\n"
     ]
    },
    {
     "name": "stdout",
     "output_type": "stream",
     "text": [
      "Back-translation completed.\n",
      "Augmented rows: 30/30\n",
      "Class augmentation completed. Total rows: 30.\n",
      "Augmenting class with 5 rows to reach 30 rows...\n",
      "Starting back-translation for 5 texts...\n"
     ]
    },
    {
     "name": "stdout",
     "output_type": "stream",
     "text": [
      "Back-translation completed.\n",
      "Augmented rows: 10/30\n",
      "Starting back-translation for 5 texts...\n"
     ]
    },
    {
     "name": "stdout",
     "output_type": "stream",
     "text": [
      "Back-translation completed.\n",
      "Augmented rows: 15/30\n",
      "Starting back-translation for 5 texts...\n"
     ]
    },
    {
     "name": "stdout",
     "output_type": "stream",
     "text": [
      "Back-translation completed.\n",
      "Augmented rows: 20/30\n",
      "Starting back-translation for 5 texts...\n"
     ]
    },
    {
     "name": "stdout",
     "output_type": "stream",
     "text": [
      "Back-translation completed.\n",
      "Augmented rows: 25/30\n",
      "Starting back-translation for 5 texts...\n"
     ]
    },
    {
     "name": "stdout",
     "output_type": "stream",
     "text": [
      "Back-translation completed.\n",
      "Augmented rows: 30/30\n",
      "Class augmentation completed. Total rows: 30.\n",
      "Augmenting class with 5 rows to reach 30 rows...\n",
      "Starting back-translation for 5 texts...\n"
     ]
    },
    {
     "name": "stdout",
     "output_type": "stream",
     "text": [
      "Back-translation completed.\n",
      "Augmented rows: 10/30\n",
      "Starting back-translation for 5 texts...\n"
     ]
    },
    {
     "name": "stdout",
     "output_type": "stream",
     "text": [
      "Back-translation completed.\n",
      "Augmented rows: 15/30\n",
      "Starting back-translation for 5 texts...\n"
     ]
    },
    {
     "name": "stdout",
     "output_type": "stream",
     "text": [
      "Back-translation completed.\n",
      "Augmented rows: 20/30\n",
      "Starting back-translation for 5 texts...\n"
     ]
    },
    {
     "name": "stdout",
     "output_type": "stream",
     "text": [
      "Back-translation completed.\n",
      "Augmented rows: 25/30\n",
      "Starting back-translation for 5 texts...\n"
     ]
    },
    {
     "name": "stdout",
     "output_type": "stream",
     "text": [
      "Back-translation completed.\n",
      "Augmented rows: 30/30\n",
      "Class augmentation completed. Total rows: 30.\n",
      "Augmenting class with 5 rows to reach 30 rows...\n",
      "Starting back-translation for 5 texts...\n"
     ]
    },
    {
     "name": "stdout",
     "output_type": "stream",
     "text": [
      "Back-translation completed.\n",
      "Augmented rows: 10/30\n",
      "Starting back-translation for 5 texts...\n"
     ]
    },
    {
     "name": "stdout",
     "output_type": "stream",
     "text": [
      "Back-translation completed.\n",
      "Augmented rows: 15/30\n",
      "Starting back-translation for 5 texts...\n"
     ]
    },
    {
     "name": "stdout",
     "output_type": "stream",
     "text": [
      "Back-translation completed.\n",
      "Augmented rows: 20/30\n",
      "Starting back-translation for 5 texts...\n"
     ]
    },
    {
     "name": "stdout",
     "output_type": "stream",
     "text": [
      "Back-translation completed.\n",
      "Augmented rows: 25/30\n",
      "Starting back-translation for 5 texts...\n"
     ]
    },
    {
     "name": "stdout",
     "output_type": "stream",
     "text": [
      "Back-translation completed.\n",
      "Augmented rows: 30/30\n",
      "Class augmentation completed. Total rows: 30.\n",
      "Augmenting class with 5 rows to reach 30 rows...\n",
      "Starting back-translation for 5 texts...\n"
     ]
    },
    {
     "name": "stdout",
     "output_type": "stream",
     "text": [
      "Back-translation completed.\n",
      "Augmented rows: 10/30\n",
      "Starting back-translation for 5 texts...\n"
     ]
    },
    {
     "name": "stdout",
     "output_type": "stream",
     "text": [
      "Back-translation completed.\n",
      "Augmented rows: 15/30\n",
      "Starting back-translation for 5 texts...\n"
     ]
    },
    {
     "name": "stdout",
     "output_type": "stream",
     "text": [
      "Back-translation completed.\n",
      "Augmented rows: 20/30\n",
      "Starting back-translation for 5 texts...\n"
     ]
    },
    {
     "name": "stdout",
     "output_type": "stream",
     "text": [
      "Back-translation completed.\n",
      "Augmented rows: 25/30\n",
      "Starting back-translation for 5 texts...\n"
     ]
    },
    {
     "name": "stdout",
     "output_type": "stream",
     "text": [
      "Back-translation completed.\n",
      "Augmented rows: 30/30\n",
      "Class augmentation completed. Total rows: 30.\n",
      "Augmenting class with 5 rows to reach 30 rows...\n",
      "Starting back-translation for 5 texts...\n"
     ]
    },
    {
     "name": "stdout",
     "output_type": "stream",
     "text": [
      "Back-translation completed.\n",
      "Augmented rows: 10/30\n",
      "Starting back-translation for 5 texts...\n"
     ]
    },
    {
     "name": "stdout",
     "output_type": "stream",
     "text": [
      "Back-translation completed.\n",
      "Augmented rows: 15/30\n",
      "Starting back-translation for 5 texts...\n"
     ]
    },
    {
     "name": "stdout",
     "output_type": "stream",
     "text": [
      "Back-translation completed.\n",
      "Augmented rows: 20/30\n",
      "Starting back-translation for 5 texts...\n"
     ]
    },
    {
     "name": "stdout",
     "output_type": "stream",
     "text": [
      "Back-translation completed.\n",
      "Augmented rows: 25/30\n",
      "Starting back-translation for 5 texts...\n"
     ]
    },
    {
     "name": "stdout",
     "output_type": "stream",
     "text": [
      "Back-translation completed.\n",
      "Augmented rows: 30/30\n",
      "Class augmentation completed. Total rows: 30.\n",
      "Augmenting class with 5 rows to reach 30 rows...\n",
      "Starting back-translation for 5 texts...\n"
     ]
    },
    {
     "name": "stdout",
     "output_type": "stream",
     "text": [
      "Back-translation completed.\n",
      "Augmented rows: 10/30\n",
      "Starting back-translation for 5 texts...\n"
     ]
    },
    {
     "name": "stdout",
     "output_type": "stream",
     "text": [
      "Back-translation completed.\n",
      "Augmented rows: 15/30\n",
      "Starting back-translation for 5 texts...\n"
     ]
    },
    {
     "name": "stdout",
     "output_type": "stream",
     "text": [
      "Back-translation completed.\n",
      "Augmented rows: 20/30\n",
      "Starting back-translation for 5 texts...\n"
     ]
    },
    {
     "name": "stdout",
     "output_type": "stream",
     "text": [
      "Back-translation completed.\n",
      "Augmented rows: 25/30\n",
      "Starting back-translation for 5 texts...\n"
     ]
    },
    {
     "name": "stdout",
     "output_type": "stream",
     "text": [
      "Back-translation completed.\n",
      "Augmented rows: 30/30\n",
      "Class augmentation completed. Total rows: 30.\n",
      "Augmenting class with 5 rows to reach 30 rows...\n",
      "Starting back-translation for 5 texts...\n"
     ]
    },
    {
     "name": "stdout",
     "output_type": "stream",
     "text": [
      "Back-translation completed.\n",
      "Augmented rows: 10/30\n",
      "Starting back-translation for 5 texts...\n"
     ]
    },
    {
     "name": "stdout",
     "output_type": "stream",
     "text": [
      "Back-translation completed.\n",
      "Augmented rows: 15/30\n",
      "Starting back-translation for 5 texts...\n"
     ]
    },
    {
     "name": "stdout",
     "output_type": "stream",
     "text": [
      "Back-translation completed.\n",
      "Augmented rows: 20/30\n",
      "Starting back-translation for 5 texts...\n"
     ]
    },
    {
     "name": "stdout",
     "output_type": "stream",
     "text": [
      "Back-translation completed.\n",
      "Augmented rows: 25/30\n",
      "Starting back-translation for 5 texts...\n"
     ]
    },
    {
     "name": "stdout",
     "output_type": "stream",
     "text": [
      "Back-translation completed.\n",
      "Augmented rows: 30/30\n",
      "Class augmentation completed. Total rows: 30.\n",
      "Augmenting class with 5 rows to reach 30 rows...\n",
      "Starting back-translation for 5 texts...\n"
     ]
    },
    {
     "name": "stdout",
     "output_type": "stream",
     "text": [
      "Back-translation completed.\n",
      "Augmented rows: 10/30\n",
      "Starting back-translation for 5 texts...\n"
     ]
    },
    {
     "name": "stdout",
     "output_type": "stream",
     "text": [
      "Back-translation completed.\n",
      "Augmented rows: 15/30\n",
      "Starting back-translation for 5 texts...\n"
     ]
    },
    {
     "name": "stdout",
     "output_type": "stream",
     "text": [
      "Back-translation completed.\n",
      "Augmented rows: 20/30\n",
      "Starting back-translation for 5 texts...\n"
     ]
    },
    {
     "name": "stdout",
     "output_type": "stream",
     "text": [
      "Back-translation completed.\n",
      "Augmented rows: 25/30\n",
      "Starting back-translation for 5 texts...\n"
     ]
    },
    {
     "name": "stdout",
     "output_type": "stream",
     "text": [
      "Back-translation completed.\n",
      "Augmented rows: 30/30\n",
      "Class augmentation completed. Total rows: 30.\n",
      "Augmenting class with 5 rows to reach 30 rows...\n",
      "Starting back-translation for 5 texts...\n"
     ]
    },
    {
     "name": "stdout",
     "output_type": "stream",
     "text": [
      "Back-translation completed.\n",
      "Augmented rows: 10/30\n",
      "Starting back-translation for 5 texts...\n"
     ]
    },
    {
     "name": "stdout",
     "output_type": "stream",
     "text": [
      "Back-translation completed.\n",
      "Augmented rows: 15/30\n",
      "Starting back-translation for 5 texts...\n"
     ]
    },
    {
     "name": "stdout",
     "output_type": "stream",
     "text": [
      "Back-translation completed.\n",
      "Augmented rows: 20/30\n",
      "Starting back-translation for 5 texts...\n"
     ]
    },
    {
     "name": "stdout",
     "output_type": "stream",
     "text": [
      "Back-translation completed.\n",
      "Augmented rows: 25/30\n",
      "Starting back-translation for 5 texts...\n"
     ]
    },
    {
     "name": "stdout",
     "output_type": "stream",
     "text": [
      "Back-translation completed.\n",
      "Augmented rows: 30/30\n",
      "Class augmentation completed. Total rows: 30.\n",
      "Augmenting class with 5 rows to reach 30 rows...\n",
      "Starting back-translation for 5 texts...\n"
     ]
    },
    {
     "name": "stdout",
     "output_type": "stream",
     "text": [
      "Back-translation completed.\n",
      "Augmented rows: 10/30\n",
      "Starting back-translation for 5 texts...\n"
     ]
    },
    {
     "name": "stdout",
     "output_type": "stream",
     "text": [
      "Back-translation completed.\n",
      "Augmented rows: 15/30\n",
      "Starting back-translation for 5 texts...\n"
     ]
    },
    {
     "name": "stdout",
     "output_type": "stream",
     "text": [
      "Back-translation completed.\n",
      "Augmented rows: 20/30\n",
      "Starting back-translation for 5 texts...\n"
     ]
    },
    {
     "name": "stdout",
     "output_type": "stream",
     "text": [
      "Back-translation completed.\n",
      "Augmented rows: 25/30\n",
      "Starting back-translation for 5 texts...\n"
     ]
    },
    {
     "name": "stdout",
     "output_type": "stream",
     "text": [
      "Back-translation completed.\n",
      "Augmented rows: 30/30\n",
      "Class augmentation completed. Total rows: 30.\n",
      "Augmenting class with 5 rows to reach 30 rows...\n",
      "Starting back-translation for 5 texts...\n"
     ]
    },
    {
     "name": "stdout",
     "output_type": "stream",
     "text": [
      "Back-translation completed.\n",
      "Augmented rows: 10/30\n",
      "Starting back-translation for 5 texts...\n"
     ]
    },
    {
     "name": "stdout",
     "output_type": "stream",
     "text": [
      "Back-translation completed.\n",
      "Augmented rows: 15/30\n",
      "Starting back-translation for 5 texts...\n"
     ]
    },
    {
     "name": "stdout",
     "output_type": "stream",
     "text": [
      "Back-translation completed.\n",
      "Augmented rows: 20/30\n",
      "Starting back-translation for 5 texts...\n"
     ]
    },
    {
     "name": "stdout",
     "output_type": "stream",
     "text": [
      "Back-translation completed.\n",
      "Augmented rows: 25/30\n",
      "Starting back-translation for 5 texts...\n"
     ]
    },
    {
     "name": "stdout",
     "output_type": "stream",
     "text": [
      "Back-translation completed.\n",
      "Augmented rows: 30/30\n",
      "Class augmentation completed. Total rows: 30.\n",
      "Augmenting class with 5 rows to reach 30 rows...\n",
      "Starting back-translation for 5 texts...\n"
     ]
    },
    {
     "name": "stdout",
     "output_type": "stream",
     "text": [
      "Back-translation completed.\n",
      "Augmented rows: 10/30\n",
      "Starting back-translation for 5 texts...\n"
     ]
    },
    {
     "name": "stdout",
     "output_type": "stream",
     "text": [
      "Back-translation completed.\n",
      "Augmented rows: 15/30\n",
      "Starting back-translation for 5 texts...\n"
     ]
    },
    {
     "name": "stdout",
     "output_type": "stream",
     "text": [
      "Back-translation completed.\n",
      "Augmented rows: 20/30\n",
      "Starting back-translation for 5 texts...\n"
     ]
    },
    {
     "name": "stdout",
     "output_type": "stream",
     "text": [
      "Back-translation completed.\n",
      "Augmented rows: 25/30\n",
      "Starting back-translation for 5 texts...\n"
     ]
    },
    {
     "name": "stdout",
     "output_type": "stream",
     "text": [
      "Back-translation completed.\n",
      "Augmented rows: 30/30\n",
      "Class augmentation completed. Total rows: 30.\n",
      "Augmenting class with 4 rows to reach 30 rows...\n",
      "Starting back-translation for 4 texts...\n"
     ]
    },
    {
     "name": "stdout",
     "output_type": "stream",
     "text": [
      "Back-translation completed.\n",
      "Augmented rows: 8/30\n",
      "Starting back-translation for 4 texts...\n"
     ]
    },
    {
     "name": "stdout",
     "output_type": "stream",
     "text": [
      "Back-translation completed.\n",
      "Augmented rows: 12/30\n",
      "Starting back-translation for 4 texts...\n"
     ]
    },
    {
     "name": "stdout",
     "output_type": "stream",
     "text": [
      "Back-translation completed.\n",
      "Augmented rows: 16/30\n",
      "Starting back-translation for 4 texts...\n"
     ]
    },
    {
     "name": "stdout",
     "output_type": "stream",
     "text": [
      "Back-translation completed.\n",
      "Augmented rows: 20/30\n",
      "Starting back-translation for 4 texts...\n"
     ]
    },
    {
     "name": "stdout",
     "output_type": "stream",
     "text": [
      "Back-translation completed.\n",
      "Augmented rows: 24/30\n",
      "Starting back-translation for 4 texts...\n"
     ]
    },
    {
     "name": "stdout",
     "output_type": "stream",
     "text": [
      "Back-translation completed.\n",
      "Augmented rows: 28/30\n",
      "Starting back-translation for 4 texts...\n"
     ]
    },
    {
     "name": "stdout",
     "output_type": "stream",
     "text": [
      "Back-translation completed.\n",
      "Augmented rows: 32/30\n",
      "Class augmentation completed. Total rows: 32.\n",
      "Augmenting class with 4 rows to reach 30 rows...\n",
      "Starting back-translation for 4 texts...\n"
     ]
    },
    {
     "name": "stdout",
     "output_type": "stream",
     "text": [
      "Back-translation completed.\n",
      "Augmented rows: 8/30\n",
      "Starting back-translation for 4 texts...\n"
     ]
    },
    {
     "name": "stdout",
     "output_type": "stream",
     "text": [
      "Back-translation completed.\n",
      "Augmented rows: 12/30\n",
      "Starting back-translation for 4 texts...\n"
     ]
    },
    {
     "name": "stdout",
     "output_type": "stream",
     "text": [
      "Back-translation completed.\n",
      "Augmented rows: 16/30\n",
      "Starting back-translation for 4 texts...\n"
     ]
    },
    {
     "name": "stdout",
     "output_type": "stream",
     "text": [
      "Back-translation completed.\n",
      "Augmented rows: 20/30\n",
      "Starting back-translation for 4 texts...\n"
     ]
    },
    {
     "name": "stdout",
     "output_type": "stream",
     "text": [
      "Back-translation completed.\n",
      "Augmented rows: 24/30\n",
      "Starting back-translation for 4 texts...\n"
     ]
    },
    {
     "name": "stdout",
     "output_type": "stream",
     "text": [
      "Back-translation completed.\n",
      "Augmented rows: 28/30\n",
      "Starting back-translation for 4 texts...\n"
     ]
    },
    {
     "name": "stdout",
     "output_type": "stream",
     "text": [
      "Back-translation completed.\n",
      "Augmented rows: 32/30\n",
      "Class augmentation completed. Total rows: 32.\n",
      "Augmenting class with 4 rows to reach 30 rows...\n",
      "Starting back-translation for 4 texts...\n"
     ]
    },
    {
     "name": "stdout",
     "output_type": "stream",
     "text": [
      "Back-translation completed.\n",
      "Augmented rows: 8/30\n",
      "Starting back-translation for 4 texts...\n"
     ]
    },
    {
     "name": "stdout",
     "output_type": "stream",
     "text": [
      "Back-translation completed.\n",
      "Augmented rows: 12/30\n",
      "Starting back-translation for 4 texts...\n"
     ]
    },
    {
     "name": "stdout",
     "output_type": "stream",
     "text": [
      "Back-translation completed.\n",
      "Augmented rows: 16/30\n",
      "Starting back-translation for 4 texts...\n"
     ]
    },
    {
     "name": "stdout",
     "output_type": "stream",
     "text": [
      "Back-translation completed.\n",
      "Augmented rows: 20/30\n",
      "Starting back-translation for 4 texts...\n"
     ]
    },
    {
     "name": "stdout",
     "output_type": "stream",
     "text": [
      "Back-translation completed.\n",
      "Augmented rows: 24/30\n",
      "Starting back-translation for 4 texts...\n"
     ]
    },
    {
     "name": "stdout",
     "output_type": "stream",
     "text": [
      "Back-translation completed.\n",
      "Augmented rows: 28/30\n",
      "Starting back-translation for 4 texts...\n"
     ]
    },
    {
     "name": "stdout",
     "output_type": "stream",
     "text": [
      "Back-translation completed.\n",
      "Augmented rows: 32/30\n",
      "Class augmentation completed. Total rows: 32.\n",
      "Augmenting class with 4 rows to reach 30 rows...\n",
      "Starting back-translation for 4 texts...\n"
     ]
    },
    {
     "name": "stdout",
     "output_type": "stream",
     "text": [
      "Back-translation completed.\n",
      "Augmented rows: 8/30\n",
      "Starting back-translation for 4 texts...\n"
     ]
    },
    {
     "name": "stdout",
     "output_type": "stream",
     "text": [
      "Back-translation completed.\n",
      "Augmented rows: 12/30\n",
      "Starting back-translation for 4 texts...\n"
     ]
    },
    {
     "name": "stdout",
     "output_type": "stream",
     "text": [
      "Back-translation completed.\n",
      "Augmented rows: 16/30\n",
      "Starting back-translation for 4 texts...\n"
     ]
    },
    {
     "name": "stdout",
     "output_type": "stream",
     "text": [
      "Back-translation completed.\n",
      "Augmented rows: 20/30\n",
      "Starting back-translation for 4 texts...\n"
     ]
    },
    {
     "name": "stdout",
     "output_type": "stream",
     "text": [
      "Back-translation completed.\n",
      "Augmented rows: 24/30\n",
      "Starting back-translation for 4 texts...\n"
     ]
    },
    {
     "name": "stdout",
     "output_type": "stream",
     "text": [
      "Back-translation completed.\n",
      "Augmented rows: 28/30\n",
      "Starting back-translation for 4 texts...\n"
     ]
    },
    {
     "name": "stdout",
     "output_type": "stream",
     "text": [
      "Back-translation completed.\n",
      "Augmented rows: 32/30\n",
      "Class augmentation completed. Total rows: 32.\n",
      "Augmenting class with 4 rows to reach 30 rows...\n",
      "Starting back-translation for 4 texts...\n"
     ]
    },
    {
     "name": "stdout",
     "output_type": "stream",
     "text": [
      "Back-translation completed.\n",
      "Augmented rows: 8/30\n",
      "Starting back-translation for 4 texts...\n"
     ]
    },
    {
     "name": "stdout",
     "output_type": "stream",
     "text": [
      "Back-translation completed.\n",
      "Augmented rows: 12/30\n",
      "Starting back-translation for 4 texts...\n"
     ]
    },
    {
     "name": "stdout",
     "output_type": "stream",
     "text": [
      "Back-translation completed.\n",
      "Augmented rows: 16/30\n",
      "Starting back-translation for 4 texts...\n"
     ]
    },
    {
     "name": "stdout",
     "output_type": "stream",
     "text": [
      "Back-translation completed.\n",
      "Augmented rows: 20/30\n",
      "Starting back-translation for 4 texts...\n"
     ]
    },
    {
     "name": "stdout",
     "output_type": "stream",
     "text": [
      "Back-translation completed.\n",
      "Augmented rows: 24/30\n",
      "Starting back-translation for 4 texts...\n"
     ]
    },
    {
     "name": "stdout",
     "output_type": "stream",
     "text": [
      "Back-translation completed.\n",
      "Augmented rows: 28/30\n",
      "Starting back-translation for 4 texts...\n"
     ]
    },
    {
     "name": "stdout",
     "output_type": "stream",
     "text": [
      "Back-translation completed.\n",
      "Augmented rows: 32/30\n",
      "Class augmentation completed. Total rows: 32.\n",
      "Augmenting class with 4 rows to reach 30 rows...\n",
      "Starting back-translation for 4 texts...\n"
     ]
    },
    {
     "name": "stdout",
     "output_type": "stream",
     "text": [
      "Back-translation completed.\n",
      "Augmented rows: 8/30\n",
      "Starting back-translation for 4 texts...\n"
     ]
    },
    {
     "name": "stdout",
     "output_type": "stream",
     "text": [
      "Back-translation completed.\n",
      "Augmented rows: 12/30\n",
      "Starting back-translation for 4 texts...\n"
     ]
    },
    {
     "name": "stdout",
     "output_type": "stream",
     "text": [
      "Back-translation completed.\n",
      "Augmented rows: 16/30\n",
      "Starting back-translation for 4 texts...\n"
     ]
    },
    {
     "name": "stdout",
     "output_type": "stream",
     "text": [
      "Back-translation completed.\n",
      "Augmented rows: 20/30\n",
      "Starting back-translation for 4 texts...\n"
     ]
    },
    {
     "name": "stdout",
     "output_type": "stream",
     "text": [
      "Back-translation completed.\n",
      "Augmented rows: 24/30\n",
      "Starting back-translation for 4 texts...\n"
     ]
    },
    {
     "name": "stdout",
     "output_type": "stream",
     "text": [
      "Back-translation completed.\n",
      "Augmented rows: 28/30\n",
      "Starting back-translation for 4 texts...\n"
     ]
    },
    {
     "name": "stdout",
     "output_type": "stream",
     "text": [
      "Back-translation completed.\n",
      "Augmented rows: 32/30\n",
      "Class augmentation completed. Total rows: 32.\n",
      "Augmenting class with 4 rows to reach 30 rows...\n",
      "Starting back-translation for 4 texts...\n"
     ]
    },
    {
     "name": "stdout",
     "output_type": "stream",
     "text": [
      "Back-translation completed.\n",
      "Augmented rows: 8/30\n",
      "Starting back-translation for 4 texts...\n"
     ]
    },
    {
     "name": "stdout",
     "output_type": "stream",
     "text": [
      "Back-translation completed.\n",
      "Augmented rows: 12/30\n",
      "Starting back-translation for 4 texts...\n"
     ]
    },
    {
     "name": "stdout",
     "output_type": "stream",
     "text": [
      "Back-translation completed.\n",
      "Augmented rows: 16/30\n",
      "Starting back-translation for 4 texts...\n"
     ]
    },
    {
     "name": "stdout",
     "output_type": "stream",
     "text": [
      "Back-translation completed.\n",
      "Augmented rows: 20/30\n",
      "Starting back-translation for 4 texts...\n"
     ]
    },
    {
     "name": "stdout",
     "output_type": "stream",
     "text": [
      "Back-translation completed.\n",
      "Augmented rows: 24/30\n",
      "Starting back-translation for 4 texts...\n"
     ]
    },
    {
     "name": "stdout",
     "output_type": "stream",
     "text": [
      "Back-translation completed.\n",
      "Augmented rows: 28/30\n",
      "Starting back-translation for 4 texts...\n"
     ]
    },
    {
     "name": "stdout",
     "output_type": "stream",
     "text": [
      "Back-translation completed.\n",
      "Augmented rows: 32/30\n",
      "Class augmentation completed. Total rows: 32.\n",
      "Augmenting class with 4 rows to reach 30 rows...\n",
      "Starting back-translation for 4 texts...\n"
     ]
    },
    {
     "name": "stdout",
     "output_type": "stream",
     "text": [
      "Back-translation completed.\n",
      "Augmented rows: 8/30\n",
      "Starting back-translation for 4 texts...\n"
     ]
    },
    {
     "name": "stdout",
     "output_type": "stream",
     "text": [
      "Back-translation completed.\n",
      "Augmented rows: 12/30\n",
      "Starting back-translation for 4 texts...\n"
     ]
    },
    {
     "name": "stdout",
     "output_type": "stream",
     "text": [
      "Back-translation completed.\n",
      "Augmented rows: 16/30\n",
      "Starting back-translation for 4 texts...\n"
     ]
    },
    {
     "name": "stdout",
     "output_type": "stream",
     "text": [
      "Back-translation completed.\n",
      "Augmented rows: 20/30\n",
      "Starting back-translation for 4 texts...\n"
     ]
    },
    {
     "name": "stdout",
     "output_type": "stream",
     "text": [
      "Back-translation completed.\n",
      "Augmented rows: 24/30\n",
      "Starting back-translation for 4 texts...\n"
     ]
    },
    {
     "name": "stdout",
     "output_type": "stream",
     "text": [
      "Back-translation completed.\n",
      "Augmented rows: 28/30\n",
      "Starting back-translation for 4 texts...\n"
     ]
    },
    {
     "name": "stdout",
     "output_type": "stream",
     "text": [
      "Back-translation completed.\n",
      "Augmented rows: 32/30\n",
      "Class augmentation completed. Total rows: 32.\n",
      "Augmenting class with 4 rows to reach 30 rows...\n",
      "Starting back-translation for 4 texts...\n"
     ]
    },
    {
     "name": "stdout",
     "output_type": "stream",
     "text": [
      "Back-translation completed.\n",
      "Augmented rows: 8/30\n",
      "Starting back-translation for 4 texts...\n"
     ]
    },
    {
     "name": "stdout",
     "output_type": "stream",
     "text": [
      "Back-translation completed.\n",
      "Augmented rows: 12/30\n",
      "Starting back-translation for 4 texts...\n"
     ]
    },
    {
     "name": "stdout",
     "output_type": "stream",
     "text": [
      "Back-translation completed.\n",
      "Augmented rows: 16/30\n",
      "Starting back-translation for 4 texts...\n"
     ]
    },
    {
     "name": "stdout",
     "output_type": "stream",
     "text": [
      "Back-translation completed.\n",
      "Augmented rows: 20/30\n",
      "Starting back-translation for 4 texts...\n"
     ]
    },
    {
     "name": "stdout",
     "output_type": "stream",
     "text": [
      "Back-translation completed.\n",
      "Augmented rows: 24/30\n",
      "Starting back-translation for 4 texts...\n"
     ]
    },
    {
     "name": "stdout",
     "output_type": "stream",
     "text": [
      "Back-translation completed.\n",
      "Augmented rows: 28/30\n",
      "Starting back-translation for 4 texts...\n"
     ]
    },
    {
     "name": "stdout",
     "output_type": "stream",
     "text": [
      "Back-translation completed.\n",
      "Augmented rows: 32/30\n",
      "Class augmentation completed. Total rows: 32.\n",
      "Augmenting class with 4 rows to reach 30 rows...\n",
      "Starting back-translation for 4 texts...\n"
     ]
    },
    {
     "name": "stdout",
     "output_type": "stream",
     "text": [
      "Back-translation completed.\n",
      "Augmented rows: 8/30\n",
      "Starting back-translation for 4 texts...\n"
     ]
    },
    {
     "name": "stdout",
     "output_type": "stream",
     "text": [
      "Back-translation completed.\n",
      "Augmented rows: 12/30\n",
      "Starting back-translation for 4 texts...\n"
     ]
    },
    {
     "name": "stdout",
     "output_type": "stream",
     "text": [
      "Back-translation completed.\n",
      "Augmented rows: 16/30\n",
      "Starting back-translation for 4 texts...\n"
     ]
    },
    {
     "name": "stdout",
     "output_type": "stream",
     "text": [
      "Back-translation completed.\n",
      "Augmented rows: 20/30\n",
      "Starting back-translation for 4 texts...\n"
     ]
    },
    {
     "name": "stdout",
     "output_type": "stream",
     "text": [
      "Back-translation completed.\n",
      "Augmented rows: 24/30\n",
      "Starting back-translation for 4 texts...\n"
     ]
    },
    {
     "name": "stdout",
     "output_type": "stream",
     "text": [
      "Back-translation completed.\n",
      "Augmented rows: 28/30\n",
      "Starting back-translation for 4 texts...\n"
     ]
    },
    {
     "name": "stdout",
     "output_type": "stream",
     "text": [
      "Back-translation completed.\n",
      "Augmented rows: 32/30\n",
      "Class augmentation completed. Total rows: 32.\n",
      "Augmenting class with 4 rows to reach 30 rows...\n",
      "Starting back-translation for 4 texts...\n"
     ]
    },
    {
     "name": "stdout",
     "output_type": "stream",
     "text": [
      "Back-translation completed.\n",
      "Augmented rows: 8/30\n",
      "Starting back-translation for 4 texts...\n"
     ]
    },
    {
     "name": "stdout",
     "output_type": "stream",
     "text": [
      "Back-translation completed.\n",
      "Augmented rows: 12/30\n",
      "Starting back-translation for 4 texts...\n"
     ]
    },
    {
     "name": "stdout",
     "output_type": "stream",
     "text": [
      "Back-translation completed.\n",
      "Augmented rows: 16/30\n",
      "Starting back-translation for 4 texts...\n"
     ]
    },
    {
     "name": "stdout",
     "output_type": "stream",
     "text": [
      "Back-translation completed.\n",
      "Augmented rows: 20/30\n",
      "Starting back-translation for 4 texts...\n"
     ]
    },
    {
     "name": "stdout",
     "output_type": "stream",
     "text": [
      "Back-translation completed.\n",
      "Augmented rows: 24/30\n",
      "Starting back-translation for 4 texts...\n"
     ]
    },
    {
     "name": "stdout",
     "output_type": "stream",
     "text": [
      "Back-translation completed.\n",
      "Augmented rows: 28/30\n",
      "Starting back-translation for 4 texts...\n"
     ]
    },
    {
     "name": "stdout",
     "output_type": "stream",
     "text": [
      "Back-translation completed.\n",
      "Augmented rows: 32/30\n",
      "Class augmentation completed. Total rows: 32.\n",
      "Augmenting class with 4 rows to reach 30 rows...\n",
      "Starting back-translation for 4 texts...\n"
     ]
    },
    {
     "name": "stdout",
     "output_type": "stream",
     "text": [
      "Back-translation completed.\n",
      "Augmented rows: 8/30\n",
      "Starting back-translation for 4 texts...\n"
     ]
    },
    {
     "name": "stdout",
     "output_type": "stream",
     "text": [
      "Back-translation completed.\n",
      "Augmented rows: 12/30\n",
      "Starting back-translation for 4 texts...\n"
     ]
    },
    {
     "name": "stdout",
     "output_type": "stream",
     "text": [
      "Back-translation completed.\n",
      "Augmented rows: 16/30\n",
      "Starting back-translation for 4 texts...\n"
     ]
    },
    {
     "name": "stdout",
     "output_type": "stream",
     "text": [
      "Back-translation completed.\n",
      "Augmented rows: 20/30\n",
      "Starting back-translation for 4 texts...\n"
     ]
    },
    {
     "name": "stdout",
     "output_type": "stream",
     "text": [
      "Back-translation completed.\n",
      "Augmented rows: 24/30\n",
      "Starting back-translation for 4 texts...\n"
     ]
    },
    {
     "name": "stdout",
     "output_type": "stream",
     "text": [
      "Back-translation completed.\n",
      "Augmented rows: 28/30\n",
      "Starting back-translation for 4 texts...\n"
     ]
    },
    {
     "name": "stdout",
     "output_type": "stream",
     "text": [
      "Back-translation completed.\n",
      "Augmented rows: 32/30\n",
      "Class augmentation completed. Total rows: 32.\n",
      "Augmenting class with 4 rows to reach 30 rows...\n",
      "Starting back-translation for 4 texts...\n"
     ]
    },
    {
     "name": "stdout",
     "output_type": "stream",
     "text": [
      "Back-translation completed.\n",
      "Augmented rows: 8/30\n",
      "Starting back-translation for 4 texts...\n"
     ]
    },
    {
     "name": "stdout",
     "output_type": "stream",
     "text": [
      "Back-translation completed.\n",
      "Augmented rows: 12/30\n",
      "Starting back-translation for 4 texts...\n"
     ]
    },
    {
     "name": "stdout",
     "output_type": "stream",
     "text": [
      "Back-translation completed.\n",
      "Augmented rows: 16/30\n",
      "Starting back-translation for 4 texts...\n"
     ]
    },
    {
     "name": "stdout",
     "output_type": "stream",
     "text": [
      "Back-translation completed.\n",
      "Augmented rows: 20/30\n",
      "Starting back-translation for 4 texts...\n"
     ]
    },
    {
     "name": "stdout",
     "output_type": "stream",
     "text": [
      "Back-translation completed.\n",
      "Augmented rows: 24/30\n",
      "Starting back-translation for 4 texts...\n"
     ]
    },
    {
     "name": "stdout",
     "output_type": "stream",
     "text": [
      "Back-translation completed.\n",
      "Augmented rows: 28/30\n",
      "Starting back-translation for 4 texts...\n"
     ]
    },
    {
     "name": "stdout",
     "output_type": "stream",
     "text": [
      "Back-translation completed.\n",
      "Augmented rows: 32/30\n",
      "Class augmentation completed. Total rows: 32.\n",
      "Augmenting class with 4 rows to reach 30 rows...\n",
      "Starting back-translation for 4 texts...\n"
     ]
    },
    {
     "name": "stdout",
     "output_type": "stream",
     "text": [
      "Back-translation completed.\n",
      "Augmented rows: 8/30\n",
      "Starting back-translation for 4 texts...\n"
     ]
    },
    {
     "name": "stdout",
     "output_type": "stream",
     "text": [
      "Back-translation completed.\n",
      "Augmented rows: 12/30\n",
      "Starting back-translation for 4 texts...\n"
     ]
    },
    {
     "name": "stdout",
     "output_type": "stream",
     "text": [
      "Back-translation completed.\n",
      "Augmented rows: 16/30\n",
      "Starting back-translation for 4 texts...\n"
     ]
    },
    {
     "name": "stdout",
     "output_type": "stream",
     "text": [
      "Back-translation completed.\n",
      "Augmented rows: 20/30\n",
      "Starting back-translation for 4 texts...\n"
     ]
    },
    {
     "name": "stdout",
     "output_type": "stream",
     "text": [
      "Back-translation completed.\n",
      "Augmented rows: 24/30\n",
      "Starting back-translation for 4 texts...\n"
     ]
    },
    {
     "name": "stdout",
     "output_type": "stream",
     "text": [
      "Back-translation completed.\n",
      "Augmented rows: 28/30\n",
      "Starting back-translation for 4 texts...\n"
     ]
    },
    {
     "name": "stdout",
     "output_type": "stream",
     "text": [
      "Back-translation completed.\n",
      "Augmented rows: 32/30\n",
      "Class augmentation completed. Total rows: 32.\n",
      "Augmenting class with 4 rows to reach 30 rows...\n",
      "Starting back-translation for 4 texts...\n"
     ]
    },
    {
     "name": "stdout",
     "output_type": "stream",
     "text": [
      "Back-translation completed.\n",
      "Augmented rows: 8/30\n",
      "Starting back-translation for 4 texts...\n"
     ]
    },
    {
     "name": "stdout",
     "output_type": "stream",
     "text": [
      "Back-translation completed.\n",
      "Augmented rows: 12/30\n",
      "Starting back-translation for 4 texts...\n"
     ]
    },
    {
     "name": "stdout",
     "output_type": "stream",
     "text": [
      "Back-translation completed.\n",
      "Augmented rows: 16/30\n",
      "Starting back-translation for 4 texts...\n"
     ]
    },
    {
     "name": "stdout",
     "output_type": "stream",
     "text": [
      "Back-translation completed.\n",
      "Augmented rows: 20/30\n",
      "Starting back-translation for 4 texts...\n"
     ]
    },
    {
     "name": "stdout",
     "output_type": "stream",
     "text": [
      "Back-translation completed.\n",
      "Augmented rows: 24/30\n",
      "Starting back-translation for 4 texts...\n"
     ]
    },
    {
     "name": "stdout",
     "output_type": "stream",
     "text": [
      "Back-translation completed.\n",
      "Augmented rows: 28/30\n",
      "Starting back-translation for 4 texts...\n"
     ]
    },
    {
     "name": "stdout",
     "output_type": "stream",
     "text": [
      "Back-translation completed.\n",
      "Augmented rows: 32/30\n",
      "Class augmentation completed. Total rows: 32.\n",
      "Augmenting class with 4 rows to reach 30 rows...\n",
      "Starting back-translation for 4 texts...\n"
     ]
    },
    {
     "name": "stdout",
     "output_type": "stream",
     "text": [
      "Back-translation completed.\n",
      "Augmented rows: 8/30\n",
      "Starting back-translation for 4 texts...\n"
     ]
    },
    {
     "name": "stdout",
     "output_type": "stream",
     "text": [
      "Back-translation completed.\n",
      "Augmented rows: 12/30\n",
      "Starting back-translation for 4 texts...\n"
     ]
    },
    {
     "name": "stdout",
     "output_type": "stream",
     "text": [
      "Back-translation completed.\n",
      "Augmented rows: 16/30\n",
      "Starting back-translation for 4 texts...\n"
     ]
    },
    {
     "name": "stdout",
     "output_type": "stream",
     "text": [
      "Back-translation completed.\n",
      "Augmented rows: 20/30\n",
      "Starting back-translation for 4 texts...\n"
     ]
    },
    {
     "name": "stdout",
     "output_type": "stream",
     "text": [
      "Back-translation completed.\n",
      "Augmented rows: 24/30\n",
      "Starting back-translation for 4 texts...\n"
     ]
    },
    {
     "name": "stdout",
     "output_type": "stream",
     "text": [
      "Back-translation completed.\n",
      "Augmented rows: 28/30\n",
      "Starting back-translation for 4 texts...\n"
     ]
    },
    {
     "name": "stdout",
     "output_type": "stream",
     "text": [
      "Back-translation completed.\n",
      "Augmented rows: 32/30\n",
      "Class augmentation completed. Total rows: 32.\n",
      "Augmenting class with 4 rows to reach 30 rows...\n",
      "Starting back-translation for 4 texts...\n"
     ]
    },
    {
     "name": "stdout",
     "output_type": "stream",
     "text": [
      "Back-translation completed.\n",
      "Augmented rows: 8/30\n",
      "Starting back-translation for 4 texts...\n"
     ]
    },
    {
     "name": "stdout",
     "output_type": "stream",
     "text": [
      "Back-translation completed.\n",
      "Augmented rows: 12/30\n",
      "Starting back-translation for 4 texts...\n"
     ]
    },
    {
     "name": "stdout",
     "output_type": "stream",
     "text": [
      "Back-translation completed.\n",
      "Augmented rows: 16/30\n",
      "Starting back-translation for 4 texts...\n"
     ]
    },
    {
     "name": "stdout",
     "output_type": "stream",
     "text": [
      "Back-translation completed.\n",
      "Augmented rows: 20/30\n",
      "Starting back-translation for 4 texts...\n"
     ]
    },
    {
     "name": "stdout",
     "output_type": "stream",
     "text": [
      "Back-translation completed.\n",
      "Augmented rows: 24/30\n",
      "Starting back-translation for 4 texts...\n"
     ]
    },
    {
     "name": "stdout",
     "output_type": "stream",
     "text": [
      "Back-translation completed.\n",
      "Augmented rows: 28/30\n",
      "Starting back-translation for 4 texts...\n"
     ]
    },
    {
     "name": "stdout",
     "output_type": "stream",
     "text": [
      "Back-translation completed.\n",
      "Augmented rows: 32/30\n",
      "Class augmentation completed. Total rows: 32.\n",
      "Augmenting class with 4 rows to reach 30 rows...\n",
      "Starting back-translation for 4 texts...\n"
     ]
    },
    {
     "name": "stdout",
     "output_type": "stream",
     "text": [
      "Back-translation completed.\n",
      "Augmented rows: 8/30\n",
      "Starting back-translation for 4 texts...\n"
     ]
    },
    {
     "name": "stdout",
     "output_type": "stream",
     "text": [
      "Back-translation completed.\n",
      "Augmented rows: 12/30\n",
      "Starting back-translation for 4 texts...\n"
     ]
    },
    {
     "name": "stdout",
     "output_type": "stream",
     "text": [
      "Back-translation completed.\n",
      "Augmented rows: 16/30\n",
      "Starting back-translation for 4 texts...\n"
     ]
    },
    {
     "name": "stdout",
     "output_type": "stream",
     "text": [
      "Back-translation completed.\n",
      "Augmented rows: 20/30\n",
      "Starting back-translation for 4 texts...\n"
     ]
    },
    {
     "name": "stdout",
     "output_type": "stream",
     "text": [
      "Back-translation completed.\n",
      "Augmented rows: 24/30\n",
      "Starting back-translation for 4 texts...\n"
     ]
    },
    {
     "name": "stdout",
     "output_type": "stream",
     "text": [
      "Back-translation completed.\n",
      "Augmented rows: 28/30\n",
      "Starting back-translation for 4 texts...\n"
     ]
    },
    {
     "name": "stdout",
     "output_type": "stream",
     "text": [
      "Back-translation completed.\n",
      "Augmented rows: 32/30\n",
      "Class augmentation completed. Total rows: 32.\n",
      "Augmenting class with 4 rows to reach 30 rows...\n",
      "Starting back-translation for 4 texts...\n"
     ]
    },
    {
     "name": "stdout",
     "output_type": "stream",
     "text": [
      "Back-translation completed.\n",
      "Augmented rows: 8/30\n",
      "Starting back-translation for 4 texts...\n"
     ]
    },
    {
     "name": "stdout",
     "output_type": "stream",
     "text": [
      "Back-translation completed.\n",
      "Augmented rows: 12/30\n",
      "Starting back-translation for 4 texts...\n"
     ]
    },
    {
     "name": "stdout",
     "output_type": "stream",
     "text": [
      "Back-translation completed.\n",
      "Augmented rows: 16/30\n",
      "Starting back-translation for 4 texts...\n"
     ]
    },
    {
     "name": "stdout",
     "output_type": "stream",
     "text": [
      "Back-translation completed.\n",
      "Augmented rows: 20/30\n",
      "Starting back-translation for 4 texts...\n"
     ]
    },
    {
     "name": "stdout",
     "output_type": "stream",
     "text": [
      "Back-translation completed.\n",
      "Augmented rows: 24/30\n",
      "Starting back-translation for 4 texts...\n"
     ]
    },
    {
     "name": "stdout",
     "output_type": "stream",
     "text": [
      "Back-translation completed.\n",
      "Augmented rows: 28/30\n",
      "Starting back-translation for 4 texts...\n"
     ]
    },
    {
     "name": "stdout",
     "output_type": "stream",
     "text": [
      "Back-translation completed.\n",
      "Augmented rows: 32/30\n",
      "Class augmentation completed. Total rows: 32.\n",
      "Augmenting class with 4 rows to reach 30 rows...\n",
      "Starting back-translation for 4 texts...\n"
     ]
    },
    {
     "name": "stdout",
     "output_type": "stream",
     "text": [
      "Back-translation completed.\n",
      "Augmented rows: 8/30\n",
      "Starting back-translation for 4 texts...\n"
     ]
    },
    {
     "name": "stdout",
     "output_type": "stream",
     "text": [
      "Back-translation completed.\n",
      "Augmented rows: 12/30\n",
      "Starting back-translation for 4 texts...\n"
     ]
    },
    {
     "name": "stdout",
     "output_type": "stream",
     "text": [
      "Back-translation completed.\n",
      "Augmented rows: 16/30\n",
      "Starting back-translation for 4 texts...\n"
     ]
    },
    {
     "name": "stdout",
     "output_type": "stream",
     "text": [
      "Back-translation completed.\n",
      "Augmented rows: 20/30\n",
      "Starting back-translation for 4 texts...\n"
     ]
    },
    {
     "name": "stdout",
     "output_type": "stream",
     "text": [
      "Back-translation completed.\n",
      "Augmented rows: 24/30\n",
      "Starting back-translation for 4 texts...\n"
     ]
    },
    {
     "name": "stdout",
     "output_type": "stream",
     "text": [
      "Back-translation completed.\n",
      "Augmented rows: 28/30\n",
      "Starting back-translation for 4 texts...\n"
     ]
    },
    {
     "name": "stdout",
     "output_type": "stream",
     "text": [
      "Back-translation completed.\n",
      "Augmented rows: 32/30\n",
      "Class augmentation completed. Total rows: 32.\n",
      "Augmenting class with 4 rows to reach 30 rows...\n",
      "Starting back-translation for 4 texts...\n"
     ]
    },
    {
     "name": "stdout",
     "output_type": "stream",
     "text": [
      "Back-translation completed.\n",
      "Augmented rows: 8/30\n",
      "Starting back-translation for 4 texts...\n"
     ]
    },
    {
     "name": "stdout",
     "output_type": "stream",
     "text": [
      "Back-translation completed.\n",
      "Augmented rows: 12/30\n",
      "Starting back-translation for 4 texts...\n"
     ]
    },
    {
     "name": "stdout",
     "output_type": "stream",
     "text": [
      "Back-translation completed.\n",
      "Augmented rows: 16/30\n",
      "Starting back-translation for 4 texts...\n"
     ]
    },
    {
     "name": "stdout",
     "output_type": "stream",
     "text": [
      "Back-translation completed.\n",
      "Augmented rows: 20/30\n",
      "Starting back-translation for 4 texts...\n"
     ]
    },
    {
     "name": "stdout",
     "output_type": "stream",
     "text": [
      "Back-translation completed.\n",
      "Augmented rows: 24/30\n",
      "Starting back-translation for 4 texts...\n"
     ]
    },
    {
     "name": "stdout",
     "output_type": "stream",
     "text": [
      "Back-translation completed.\n",
      "Augmented rows: 28/30\n",
      "Starting back-translation for 4 texts...\n"
     ]
    },
    {
     "name": "stdout",
     "output_type": "stream",
     "text": [
      "Back-translation completed.\n",
      "Augmented rows: 32/30\n",
      "Class augmentation completed. Total rows: 32.\n",
      "Augmenting class with 4 rows to reach 30 rows...\n",
      "Starting back-translation for 4 texts...\n"
     ]
    },
    {
     "name": "stdout",
     "output_type": "stream",
     "text": [
      "Back-translation completed.\n",
      "Augmented rows: 8/30\n",
      "Starting back-translation for 4 texts...\n"
     ]
    },
    {
     "name": "stdout",
     "output_type": "stream",
     "text": [
      "Back-translation completed.\n",
      "Augmented rows: 12/30\n",
      "Starting back-translation for 4 texts...\n"
     ]
    },
    {
     "name": "stdout",
     "output_type": "stream",
     "text": [
      "Back-translation completed.\n",
      "Augmented rows: 16/30\n",
      "Starting back-translation for 4 texts...\n"
     ]
    },
    {
     "name": "stdout",
     "output_type": "stream",
     "text": [
      "Back-translation completed.\n",
      "Augmented rows: 20/30\n",
      "Starting back-translation for 4 texts...\n"
     ]
    },
    {
     "name": "stdout",
     "output_type": "stream",
     "text": [
      "Back-translation completed.\n",
      "Augmented rows: 24/30\n",
      "Starting back-translation for 4 texts...\n"
     ]
    },
    {
     "name": "stdout",
     "output_type": "stream",
     "text": [
      "Back-translation completed.\n",
      "Augmented rows: 28/30\n",
      "Starting back-translation for 4 texts...\n"
     ]
    },
    {
     "name": "stdout",
     "output_type": "stream",
     "text": [
      "Back-translation completed.\n",
      "Augmented rows: 32/30\n",
      "Class augmentation completed. Total rows: 32.\n",
      "Augmenting class with 4 rows to reach 30 rows...\n",
      "Starting back-translation for 4 texts...\n"
     ]
    },
    {
     "name": "stdout",
     "output_type": "stream",
     "text": [
      "Back-translation completed.\n",
      "Augmented rows: 8/30\n",
      "Starting back-translation for 4 texts...\n"
     ]
    },
    {
     "name": "stdout",
     "output_type": "stream",
     "text": [
      "Back-translation completed.\n",
      "Augmented rows: 12/30\n",
      "Starting back-translation for 4 texts...\n"
     ]
    },
    {
     "name": "stdout",
     "output_type": "stream",
     "text": [
      "Back-translation completed.\n",
      "Augmented rows: 16/30\n",
      "Starting back-translation for 4 texts...\n"
     ]
    },
    {
     "name": "stdout",
     "output_type": "stream",
     "text": [
      "Back-translation completed.\n",
      "Augmented rows: 20/30\n",
      "Starting back-translation for 4 texts...\n"
     ]
    },
    {
     "name": "stdout",
     "output_type": "stream",
     "text": [
      "Back-translation completed.\n",
      "Augmented rows: 24/30\n",
      "Starting back-translation for 4 texts...\n"
     ]
    },
    {
     "name": "stdout",
     "output_type": "stream",
     "text": [
      "Back-translation completed.\n",
      "Augmented rows: 28/30\n",
      "Starting back-translation for 4 texts...\n"
     ]
    },
    {
     "name": "stdout",
     "output_type": "stream",
     "text": [
      "Back-translation completed.\n",
      "Augmented rows: 32/30\n",
      "Class augmentation completed. Total rows: 32.\n",
      "Augmenting class with 4 rows to reach 30 rows...\n",
      "Starting back-translation for 4 texts...\n"
     ]
    },
    {
     "name": "stdout",
     "output_type": "stream",
     "text": [
      "Back-translation completed.\n",
      "Augmented rows: 8/30\n",
      "Starting back-translation for 4 texts...\n"
     ]
    },
    {
     "name": "stdout",
     "output_type": "stream",
     "text": [
      "Back-translation completed.\n",
      "Augmented rows: 12/30\n",
      "Starting back-translation for 4 texts...\n"
     ]
    },
    {
     "name": "stdout",
     "output_type": "stream",
     "text": [
      "Back-translation completed.\n",
      "Augmented rows: 16/30\n",
      "Starting back-translation for 4 texts...\n"
     ]
    },
    {
     "name": "stdout",
     "output_type": "stream",
     "text": [
      "Back-translation completed.\n",
      "Augmented rows: 20/30\n",
      "Starting back-translation for 4 texts...\n"
     ]
    },
    {
     "name": "stdout",
     "output_type": "stream",
     "text": [
      "Back-translation completed.\n",
      "Augmented rows: 24/30\n",
      "Starting back-translation for 4 texts...\n"
     ]
    },
    {
     "name": "stdout",
     "output_type": "stream",
     "text": [
      "Back-translation completed.\n",
      "Augmented rows: 28/30\n",
      "Starting back-translation for 4 texts...\n"
     ]
    },
    {
     "name": "stdout",
     "output_type": "stream",
     "text": [
      "Back-translation completed.\n",
      "Augmented rows: 32/30\n",
      "Class augmentation completed. Total rows: 32.\n",
      "Augmenting class with 4 rows to reach 30 rows...\n",
      "Starting back-translation for 4 texts...\n"
     ]
    },
    {
     "name": "stdout",
     "output_type": "stream",
     "text": [
      "Back-translation completed.\n",
      "Augmented rows: 8/30\n",
      "Starting back-translation for 4 texts...\n"
     ]
    },
    {
     "name": "stdout",
     "output_type": "stream",
     "text": [
      "Back-translation completed.\n",
      "Augmented rows: 12/30\n",
      "Starting back-translation for 4 texts...\n"
     ]
    },
    {
     "name": "stdout",
     "output_type": "stream",
     "text": [
      "Back-translation completed.\n",
      "Augmented rows: 16/30\n",
      "Starting back-translation for 4 texts...\n"
     ]
    },
    {
     "name": "stdout",
     "output_type": "stream",
     "text": [
      "Back-translation completed.\n",
      "Augmented rows: 20/30\n",
      "Starting back-translation for 4 texts...\n"
     ]
    },
    {
     "name": "stdout",
     "output_type": "stream",
     "text": [
      "Back-translation completed.\n",
      "Augmented rows: 24/30\n",
      "Starting back-translation for 4 texts...\n"
     ]
    },
    {
     "name": "stdout",
     "output_type": "stream",
     "text": [
      "Back-translation completed.\n",
      "Augmented rows: 28/30\n",
      "Starting back-translation for 4 texts...\n"
     ]
    },
    {
     "name": "stdout",
     "output_type": "stream",
     "text": [
      "Back-translation completed.\n",
      "Augmented rows: 32/30\n",
      "Class augmentation completed. Total rows: 32.\n",
      "Augmenting class with 4 rows to reach 30 rows...\n",
      "Starting back-translation for 4 texts...\n"
     ]
    },
    {
     "name": "stdout",
     "output_type": "stream",
     "text": [
      "Back-translation completed.\n",
      "Augmented rows: 8/30\n",
      "Starting back-translation for 4 texts...\n"
     ]
    },
    {
     "name": "stdout",
     "output_type": "stream",
     "text": [
      "Back-translation completed.\n",
      "Augmented rows: 12/30\n",
      "Starting back-translation for 4 texts...\n"
     ]
    },
    {
     "name": "stdout",
     "output_type": "stream",
     "text": [
      "Back-translation completed.\n",
      "Augmented rows: 16/30\n",
      "Starting back-translation for 4 texts...\n"
     ]
    },
    {
     "name": "stdout",
     "output_type": "stream",
     "text": [
      "Back-translation completed.\n",
      "Augmented rows: 20/30\n",
      "Starting back-translation for 4 texts...\n"
     ]
    },
    {
     "name": "stdout",
     "output_type": "stream",
     "text": [
      "Back-translation completed.\n",
      "Augmented rows: 24/30\n",
      "Starting back-translation for 4 texts...\n"
     ]
    },
    {
     "name": "stdout",
     "output_type": "stream",
     "text": [
      "Back-translation completed.\n",
      "Augmented rows: 28/30\n",
      "Starting back-translation for 4 texts...\n"
     ]
    },
    {
     "name": "stdout",
     "output_type": "stream",
     "text": [
      "Back-translation completed.\n",
      "Augmented rows: 32/30\n",
      "Class augmentation completed. Total rows: 32.\n",
      "Augmenting class with 4 rows to reach 30 rows...\n",
      "Starting back-translation for 4 texts...\n"
     ]
    },
    {
     "name": "stdout",
     "output_type": "stream",
     "text": [
      "Back-translation completed.\n",
      "Augmented rows: 8/30\n",
      "Starting back-translation for 4 texts...\n"
     ]
    },
    {
     "name": "stdout",
     "output_type": "stream",
     "text": [
      "Back-translation completed.\n",
      "Augmented rows: 12/30\n",
      "Starting back-translation for 4 texts...\n"
     ]
    },
    {
     "name": "stdout",
     "output_type": "stream",
     "text": [
      "Back-translation completed.\n",
      "Augmented rows: 16/30\n",
      "Starting back-translation for 4 texts...\n"
     ]
    },
    {
     "name": "stdout",
     "output_type": "stream",
     "text": [
      "Back-translation completed.\n",
      "Augmented rows: 20/30\n",
      "Starting back-translation for 4 texts...\n"
     ]
    },
    {
     "name": "stdout",
     "output_type": "stream",
     "text": [
      "Back-translation completed.\n",
      "Augmented rows: 24/30\n",
      "Starting back-translation for 4 texts...\n"
     ]
    },
    {
     "name": "stdout",
     "output_type": "stream",
     "text": [
      "Back-translation completed.\n",
      "Augmented rows: 28/30\n",
      "Starting back-translation for 4 texts...\n"
     ]
    },
    {
     "name": "stdout",
     "output_type": "stream",
     "text": [
      "Back-translation completed.\n",
      "Augmented rows: 32/30\n",
      "Class augmentation completed. Total rows: 32.\n",
      "Augmenting class with 4 rows to reach 30 rows...\n",
      "Starting back-translation for 4 texts...\n"
     ]
    },
    {
     "name": "stdout",
     "output_type": "stream",
     "text": [
      "Back-translation completed.\n",
      "Augmented rows: 8/30\n",
      "Starting back-translation for 4 texts...\n"
     ]
    },
    {
     "name": "stdout",
     "output_type": "stream",
     "text": [
      "Back-translation completed.\n",
      "Augmented rows: 12/30\n",
      "Starting back-translation for 4 texts...\n"
     ]
    },
    {
     "name": "stdout",
     "output_type": "stream",
     "text": [
      "Back-translation completed.\n",
      "Augmented rows: 16/30\n",
      "Starting back-translation for 4 texts...\n"
     ]
    },
    {
     "name": "stdout",
     "output_type": "stream",
     "text": [
      "Back-translation completed.\n",
      "Augmented rows: 20/30\n",
      "Starting back-translation for 4 texts...\n"
     ]
    },
    {
     "name": "stdout",
     "output_type": "stream",
     "text": [
      "Back-translation completed.\n",
      "Augmented rows: 24/30\n",
      "Starting back-translation for 4 texts...\n"
     ]
    },
    {
     "name": "stdout",
     "output_type": "stream",
     "text": [
      "Back-translation completed.\n",
      "Augmented rows: 28/30\n",
      "Starting back-translation for 4 texts...\n"
     ]
    },
    {
     "name": "stdout",
     "output_type": "stream",
     "text": [
      "Back-translation completed.\n",
      "Augmented rows: 32/30\n",
      "Class augmentation completed. Total rows: 32.\n",
      "Augmenting class with 4 rows to reach 30 rows...\n",
      "Starting back-translation for 4 texts...\n"
     ]
    },
    {
     "name": "stdout",
     "output_type": "stream",
     "text": [
      "Back-translation completed.\n",
      "Augmented rows: 8/30\n",
      "Starting back-translation for 4 texts...\n"
     ]
    },
    {
     "name": "stdout",
     "output_type": "stream",
     "text": [
      "Back-translation completed.\n",
      "Augmented rows: 12/30\n",
      "Starting back-translation for 4 texts...\n"
     ]
    },
    {
     "name": "stdout",
     "output_type": "stream",
     "text": [
      "Back-translation completed.\n",
      "Augmented rows: 16/30\n",
      "Starting back-translation for 4 texts...\n"
     ]
    },
    {
     "name": "stdout",
     "output_type": "stream",
     "text": [
      "Back-translation completed.\n",
      "Augmented rows: 20/30\n",
      "Starting back-translation for 4 texts...\n"
     ]
    },
    {
     "name": "stdout",
     "output_type": "stream",
     "text": [
      "Back-translation completed.\n",
      "Augmented rows: 24/30\n",
      "Starting back-translation for 4 texts...\n"
     ]
    },
    {
     "name": "stdout",
     "output_type": "stream",
     "text": [
      "Back-translation completed.\n",
      "Augmented rows: 28/30\n",
      "Starting back-translation for 4 texts...\n"
     ]
    },
    {
     "name": "stdout",
     "output_type": "stream",
     "text": [
      "Back-translation completed.\n",
      "Augmented rows: 32/30\n",
      "Class augmentation completed. Total rows: 32.\n",
      "Augmenting class with 4 rows to reach 30 rows...\n",
      "Starting back-translation for 4 texts...\n"
     ]
    },
    {
     "name": "stdout",
     "output_type": "stream",
     "text": [
      "Back-translation completed.\n",
      "Augmented rows: 8/30\n",
      "Starting back-translation for 4 texts...\n"
     ]
    },
    {
     "name": "stdout",
     "output_type": "stream",
     "text": [
      "Back-translation completed.\n",
      "Augmented rows: 12/30\n",
      "Starting back-translation for 4 texts...\n"
     ]
    },
    {
     "name": "stdout",
     "output_type": "stream",
     "text": [
      "Back-translation completed.\n",
      "Augmented rows: 16/30\n",
      "Starting back-translation for 4 texts...\n"
     ]
    },
    {
     "name": "stdout",
     "output_type": "stream",
     "text": [
      "Back-translation completed.\n",
      "Augmented rows: 20/30\n",
      "Starting back-translation for 4 texts...\n"
     ]
    },
    {
     "name": "stdout",
     "output_type": "stream",
     "text": [
      "Back-translation completed.\n",
      "Augmented rows: 24/30\n",
      "Starting back-translation for 4 texts...\n"
     ]
    },
    {
     "name": "stdout",
     "output_type": "stream",
     "text": [
      "Back-translation completed.\n",
      "Augmented rows: 28/30\n",
      "Starting back-translation for 4 texts...\n"
     ]
    },
    {
     "name": "stdout",
     "output_type": "stream",
     "text": [
      "Back-translation completed.\n",
      "Augmented rows: 32/30\n",
      "Class augmentation completed. Total rows: 32.\n",
      "Augmenting class with 4 rows to reach 30 rows...\n",
      "Starting back-translation for 4 texts...\n"
     ]
    },
    {
     "name": "stdout",
     "output_type": "stream",
     "text": [
      "Back-translation completed.\n",
      "Augmented rows: 8/30\n",
      "Starting back-translation for 4 texts...\n"
     ]
    },
    {
     "name": "stdout",
     "output_type": "stream",
     "text": [
      "Back-translation completed.\n",
      "Augmented rows: 12/30\n",
      "Starting back-translation for 4 texts...\n"
     ]
    },
    {
     "name": "stdout",
     "output_type": "stream",
     "text": [
      "Back-translation completed.\n",
      "Augmented rows: 16/30\n",
      "Starting back-translation for 4 texts...\n"
     ]
    },
    {
     "name": "stdout",
     "output_type": "stream",
     "text": [
      "Back-translation completed.\n",
      "Augmented rows: 20/30\n",
      "Starting back-translation for 4 texts...\n"
     ]
    },
    {
     "name": "stdout",
     "output_type": "stream",
     "text": [
      "Back-translation completed.\n",
      "Augmented rows: 24/30\n",
      "Starting back-translation for 4 texts...\n"
     ]
    },
    {
     "name": "stdout",
     "output_type": "stream",
     "text": [
      "Back-translation completed.\n",
      "Augmented rows: 28/30\n",
      "Starting back-translation for 4 texts...\n"
     ]
    },
    {
     "name": "stdout",
     "output_type": "stream",
     "text": [
      "Back-translation completed.\n",
      "Augmented rows: 32/30\n",
      "Class augmentation completed. Total rows: 32.\n",
      "Augmenting class with 4 rows to reach 30 rows...\n",
      "Starting back-translation for 4 texts...\n"
     ]
    },
    {
     "name": "stdout",
     "output_type": "stream",
     "text": [
      "Back-translation completed.\n",
      "Augmented rows: 8/30\n",
      "Starting back-translation for 4 texts...\n"
     ]
    },
    {
     "name": "stdout",
     "output_type": "stream",
     "text": [
      "Back-translation completed.\n",
      "Augmented rows: 12/30\n",
      "Starting back-translation for 4 texts...\n"
     ]
    },
    {
     "name": "stdout",
     "output_type": "stream",
     "text": [
      "Back-translation completed.\n",
      "Augmented rows: 16/30\n",
      "Starting back-translation for 4 texts...\n"
     ]
    },
    {
     "name": "stdout",
     "output_type": "stream",
     "text": [
      "Back-translation completed.\n",
      "Augmented rows: 20/30\n",
      "Starting back-translation for 4 texts...\n"
     ]
    },
    {
     "name": "stdout",
     "output_type": "stream",
     "text": [
      "Back-translation completed.\n",
      "Augmented rows: 24/30\n",
      "Starting back-translation for 4 texts...\n"
     ]
    },
    {
     "name": "stdout",
     "output_type": "stream",
     "text": [
      "Back-translation completed.\n",
      "Augmented rows: 28/30\n",
      "Starting back-translation for 4 texts...\n"
     ]
    },
    {
     "name": "stdout",
     "output_type": "stream",
     "text": [
      "Back-translation completed.\n",
      "Augmented rows: 32/30\n",
      "Class augmentation completed. Total rows: 32.\n",
      "Augmenting class with 4 rows to reach 30 rows...\n",
      "Starting back-translation for 4 texts...\n"
     ]
    },
    {
     "name": "stdout",
     "output_type": "stream",
     "text": [
      "Back-translation completed.\n",
      "Augmented rows: 8/30\n",
      "Starting back-translation for 4 texts...\n"
     ]
    },
    {
     "name": "stdout",
     "output_type": "stream",
     "text": [
      "Back-translation completed.\n",
      "Augmented rows: 12/30\n",
      "Starting back-translation for 4 texts...\n"
     ]
    },
    {
     "name": "stdout",
     "output_type": "stream",
     "text": [
      "Back-translation completed.\n",
      "Augmented rows: 16/30\n",
      "Starting back-translation for 4 texts...\n"
     ]
    },
    {
     "name": "stdout",
     "output_type": "stream",
     "text": [
      "Back-translation completed.\n",
      "Augmented rows: 20/30\n",
      "Starting back-translation for 4 texts...\n"
     ]
    },
    {
     "name": "stdout",
     "output_type": "stream",
     "text": [
      "Back-translation completed.\n",
      "Augmented rows: 24/30\n",
      "Starting back-translation for 4 texts...\n"
     ]
    },
    {
     "name": "stdout",
     "output_type": "stream",
     "text": [
      "Back-translation completed.\n",
      "Augmented rows: 28/30\n",
      "Starting back-translation for 4 texts...\n"
     ]
    },
    {
     "name": "stdout",
     "output_type": "stream",
     "text": [
      "Back-translation completed.\n",
      "Augmented rows: 32/30\n",
      "Class augmentation completed. Total rows: 32.\n",
      "Augmenting class with 4 rows to reach 30 rows...\n",
      "Starting back-translation for 4 texts...\n"
     ]
    },
    {
     "name": "stdout",
     "output_type": "stream",
     "text": [
      "Back-translation completed.\n",
      "Augmented rows: 8/30\n",
      "Starting back-translation for 4 texts...\n"
     ]
    },
    {
     "name": "stdout",
     "output_type": "stream",
     "text": [
      "Back-translation completed.\n",
      "Augmented rows: 12/30\n",
      "Starting back-translation for 4 texts...\n"
     ]
    },
    {
     "name": "stdout",
     "output_type": "stream",
     "text": [
      "Back-translation completed.\n",
      "Augmented rows: 16/30\n",
      "Starting back-translation for 4 texts...\n"
     ]
    },
    {
     "name": "stdout",
     "output_type": "stream",
     "text": [
      "Back-translation completed.\n",
      "Augmented rows: 20/30\n",
      "Starting back-translation for 4 texts...\n"
     ]
    },
    {
     "name": "stdout",
     "output_type": "stream",
     "text": [
      "Back-translation completed.\n",
      "Augmented rows: 24/30\n",
      "Starting back-translation for 4 texts...\n"
     ]
    },
    {
     "name": "stdout",
     "output_type": "stream",
     "text": [
      "Back-translation completed.\n",
      "Augmented rows: 28/30\n",
      "Starting back-translation for 4 texts...\n"
     ]
    },
    {
     "name": "stdout",
     "output_type": "stream",
     "text": [
      "Back-translation completed.\n",
      "Augmented rows: 32/30\n",
      "Class augmentation completed. Total rows: 32.\n",
      "Augmenting class with 4 rows to reach 30 rows...\n",
      "Starting back-translation for 4 texts...\n"
     ]
    },
    {
     "name": "stdout",
     "output_type": "stream",
     "text": [
      "Back-translation completed.\n",
      "Augmented rows: 8/30\n",
      "Starting back-translation for 4 texts...\n"
     ]
    },
    {
     "name": "stdout",
     "output_type": "stream",
     "text": [
      "Back-translation completed.\n",
      "Augmented rows: 12/30\n",
      "Starting back-translation for 4 texts...\n"
     ]
    },
    {
     "name": "stdout",
     "output_type": "stream",
     "text": [
      "Back-translation completed.\n",
      "Augmented rows: 16/30\n",
      "Starting back-translation for 4 texts...\n"
     ]
    },
    {
     "name": "stdout",
     "output_type": "stream",
     "text": [
      "Back-translation completed.\n",
      "Augmented rows: 20/30\n",
      "Starting back-translation for 4 texts...\n"
     ]
    },
    {
     "name": "stdout",
     "output_type": "stream",
     "text": [
      "Back-translation completed.\n",
      "Augmented rows: 24/30\n",
      "Starting back-translation for 4 texts...\n"
     ]
    },
    {
     "name": "stdout",
     "output_type": "stream",
     "text": [
      "Back-translation completed.\n",
      "Augmented rows: 28/30\n",
      "Starting back-translation for 4 texts...\n"
     ]
    },
    {
     "name": "stdout",
     "output_type": "stream",
     "text": [
      "Back-translation completed.\n",
      "Augmented rows: 32/30\n",
      "Class augmentation completed. Total rows: 32.\n",
      "Augmenting class with 4 rows to reach 30 rows...\n",
      "Starting back-translation for 4 texts...\n"
     ]
    },
    {
     "name": "stdout",
     "output_type": "stream",
     "text": [
      "Back-translation completed.\n",
      "Augmented rows: 8/30\n",
      "Starting back-translation for 4 texts...\n"
     ]
    },
    {
     "name": "stdout",
     "output_type": "stream",
     "text": [
      "Back-translation completed.\n",
      "Augmented rows: 12/30\n",
      "Starting back-translation for 4 texts...\n"
     ]
    },
    {
     "name": "stdout",
     "output_type": "stream",
     "text": [
      "Back-translation completed.\n",
      "Augmented rows: 16/30\n",
      "Starting back-translation for 4 texts...\n"
     ]
    },
    {
     "name": "stdout",
     "output_type": "stream",
     "text": [
      "Back-translation completed.\n",
      "Augmented rows: 20/30\n",
      "Starting back-translation for 4 texts...\n"
     ]
    },
    {
     "name": "stdout",
     "output_type": "stream",
     "text": [
      "Back-translation completed.\n",
      "Augmented rows: 24/30\n",
      "Starting back-translation for 4 texts...\n"
     ]
    },
    {
     "name": "stdout",
     "output_type": "stream",
     "text": [
      "Back-translation completed.\n",
      "Augmented rows: 28/30\n",
      "Starting back-translation for 4 texts...\n"
     ]
    },
    {
     "name": "stdout",
     "output_type": "stream",
     "text": [
      "Back-translation completed.\n",
      "Augmented rows: 32/30\n",
      "Class augmentation completed. Total rows: 32.\n",
      "Augmenting class with 4 rows to reach 30 rows...\n",
      "Starting back-translation for 4 texts...\n"
     ]
    },
    {
     "name": "stdout",
     "output_type": "stream",
     "text": [
      "Back-translation completed.\n",
      "Augmented rows: 8/30\n",
      "Starting back-translation for 4 texts...\n"
     ]
    },
    {
     "name": "stdout",
     "output_type": "stream",
     "text": [
      "Back-translation completed.\n",
      "Augmented rows: 12/30\n",
      "Starting back-translation for 4 texts...\n"
     ]
    },
    {
     "name": "stdout",
     "output_type": "stream",
     "text": [
      "Back-translation completed.\n",
      "Augmented rows: 16/30\n",
      "Starting back-translation for 4 texts...\n"
     ]
    },
    {
     "name": "stdout",
     "output_type": "stream",
     "text": [
      "Back-translation completed.\n",
      "Augmented rows: 20/30\n",
      "Starting back-translation for 4 texts...\n"
     ]
    },
    {
     "name": "stdout",
     "output_type": "stream",
     "text": [
      "Back-translation completed.\n",
      "Augmented rows: 24/30\n",
      "Starting back-translation for 4 texts...\n"
     ]
    },
    {
     "name": "stdout",
     "output_type": "stream",
     "text": [
      "Back-translation completed.\n",
      "Augmented rows: 28/30\n",
      "Starting back-translation for 4 texts...\n"
     ]
    },
    {
     "name": "stdout",
     "output_type": "stream",
     "text": [
      "Back-translation completed.\n",
      "Augmented rows: 32/30\n",
      "Class augmentation completed. Total rows: 32.\n",
      "Augmenting class with 4 rows to reach 30 rows...\n",
      "Starting back-translation for 4 texts...\n"
     ]
    },
    {
     "name": "stdout",
     "output_type": "stream",
     "text": [
      "Back-translation completed.\n",
      "Augmented rows: 8/30\n",
      "Starting back-translation for 4 texts...\n"
     ]
    },
    {
     "name": "stdout",
     "output_type": "stream",
     "text": [
      "Back-translation completed.\n",
      "Augmented rows: 12/30\n",
      "Starting back-translation for 4 texts...\n"
     ]
    },
    {
     "name": "stdout",
     "output_type": "stream",
     "text": [
      "Back-translation completed.\n",
      "Augmented rows: 16/30\n",
      "Starting back-translation for 4 texts...\n"
     ]
    },
    {
     "name": "stdout",
     "output_type": "stream",
     "text": [
      "Back-translation completed.\n",
      "Augmented rows: 20/30\n",
      "Starting back-translation for 4 texts...\n"
     ]
    },
    {
     "name": "stdout",
     "output_type": "stream",
     "text": [
      "Back-translation completed.\n",
      "Augmented rows: 24/30\n",
      "Starting back-translation for 4 texts...\n"
     ]
    },
    {
     "name": "stdout",
     "output_type": "stream",
     "text": [
      "Back-translation completed.\n",
      "Augmented rows: 28/30\n",
      "Starting back-translation for 4 texts...\n"
     ]
    },
    {
     "name": "stdout",
     "output_type": "stream",
     "text": [
      "Back-translation completed.\n",
      "Augmented rows: 32/30\n",
      "Class augmentation completed. Total rows: 32.\n",
      "Augmenting class with 4 rows to reach 30 rows...\n",
      "Starting back-translation for 4 texts...\n"
     ]
    },
    {
     "name": "stdout",
     "output_type": "stream",
     "text": [
      "Back-translation completed.\n",
      "Augmented rows: 8/30\n",
      "Starting back-translation for 4 texts...\n"
     ]
    },
    {
     "name": "stdout",
     "output_type": "stream",
     "text": [
      "Back-translation completed.\n",
      "Augmented rows: 12/30\n",
      "Starting back-translation for 4 texts...\n"
     ]
    },
    {
     "name": "stdout",
     "output_type": "stream",
     "text": [
      "Back-translation completed.\n",
      "Augmented rows: 16/30\n",
      "Starting back-translation for 4 texts...\n"
     ]
    },
    {
     "name": "stdout",
     "output_type": "stream",
     "text": [
      "Back-translation completed.\n",
      "Augmented rows: 20/30\n",
      "Starting back-translation for 4 texts...\n"
     ]
    },
    {
     "name": "stdout",
     "output_type": "stream",
     "text": [
      "Back-translation completed.\n",
      "Augmented rows: 24/30\n",
      "Starting back-translation for 4 texts...\n"
     ]
    },
    {
     "name": "stdout",
     "output_type": "stream",
     "text": [
      "Back-translation completed.\n",
      "Augmented rows: 28/30\n",
      "Starting back-translation for 4 texts...\n"
     ]
    },
    {
     "name": "stdout",
     "output_type": "stream",
     "text": [
      "Back-translation completed.\n",
      "Augmented rows: 32/30\n",
      "Class augmentation completed. Total rows: 32.\n",
      "Augmenting class with 4 rows to reach 30 rows...\n",
      "Starting back-translation for 4 texts...\n"
     ]
    },
    {
     "name": "stdout",
     "output_type": "stream",
     "text": [
      "Back-translation completed.\n",
      "Augmented rows: 8/30\n",
      "Starting back-translation for 4 texts...\n"
     ]
    },
    {
     "name": "stdout",
     "output_type": "stream",
     "text": [
      "Back-translation completed.\n",
      "Augmented rows: 12/30\n",
      "Starting back-translation for 4 texts...\n"
     ]
    },
    {
     "name": "stdout",
     "output_type": "stream",
     "text": [
      "Back-translation completed.\n",
      "Augmented rows: 16/30\n",
      "Starting back-translation for 4 texts...\n"
     ]
    },
    {
     "name": "stdout",
     "output_type": "stream",
     "text": [
      "Back-translation completed.\n",
      "Augmented rows: 20/30\n",
      "Starting back-translation for 4 texts...\n"
     ]
    },
    {
     "name": "stdout",
     "output_type": "stream",
     "text": [
      "Back-translation completed.\n",
      "Augmented rows: 24/30\n",
      "Starting back-translation for 4 texts...\n"
     ]
    },
    {
     "name": "stdout",
     "output_type": "stream",
     "text": [
      "Back-translation completed.\n",
      "Augmented rows: 28/30\n",
      "Starting back-translation for 4 texts...\n"
     ]
    },
    {
     "name": "stdout",
     "output_type": "stream",
     "text": [
      "Back-translation completed.\n",
      "Augmented rows: 32/30\n",
      "Class augmentation completed. Total rows: 32.\n",
      "Augmenting class with 4 rows to reach 30 rows...\n",
      "Starting back-translation for 4 texts...\n"
     ]
    },
    {
     "name": "stdout",
     "output_type": "stream",
     "text": [
      "Back-translation completed.\n",
      "Augmented rows: 8/30\n",
      "Starting back-translation for 4 texts...\n"
     ]
    },
    {
     "name": "stdout",
     "output_type": "stream",
     "text": [
      "Back-translation completed.\n",
      "Augmented rows: 12/30\n",
      "Starting back-translation for 4 texts...\n"
     ]
    },
    {
     "name": "stdout",
     "output_type": "stream",
     "text": [
      "Back-translation completed.\n",
      "Augmented rows: 16/30\n",
      "Starting back-translation for 4 texts...\n"
     ]
    },
    {
     "name": "stdout",
     "output_type": "stream",
     "text": [
      "Back-translation completed.\n",
      "Augmented rows: 20/30\n",
      "Starting back-translation for 4 texts...\n"
     ]
    },
    {
     "name": "stdout",
     "output_type": "stream",
     "text": [
      "Back-translation completed.\n",
      "Augmented rows: 24/30\n",
      "Starting back-translation for 4 texts...\n"
     ]
    },
    {
     "name": "stdout",
     "output_type": "stream",
     "text": [
      "Back-translation completed.\n",
      "Augmented rows: 28/30\n",
      "Starting back-translation for 4 texts...\n"
     ]
    },
    {
     "name": "stdout",
     "output_type": "stream",
     "text": [
      "Back-translation completed.\n",
      "Augmented rows: 32/30\n",
      "Class augmentation completed. Total rows: 32.\n",
      "Augmenting class with 4 rows to reach 30 rows...\n",
      "Starting back-translation for 4 texts...\n"
     ]
    },
    {
     "name": "stdout",
     "output_type": "stream",
     "text": [
      "Back-translation completed.\n",
      "Augmented rows: 8/30\n",
      "Starting back-translation for 4 texts...\n"
     ]
    },
    {
     "name": "stdout",
     "output_type": "stream",
     "text": [
      "Back-translation completed.\n",
      "Augmented rows: 12/30\n",
      "Starting back-translation for 4 texts...\n"
     ]
    },
    {
     "name": "stdout",
     "output_type": "stream",
     "text": [
      "Back-translation completed.\n",
      "Augmented rows: 16/30\n",
      "Starting back-translation for 4 texts...\n"
     ]
    },
    {
     "name": "stdout",
     "output_type": "stream",
     "text": [
      "Back-translation completed.\n",
      "Augmented rows: 20/30\n",
      "Starting back-translation for 4 texts...\n"
     ]
    },
    {
     "name": "stdout",
     "output_type": "stream",
     "text": [
      "Back-translation completed.\n",
      "Augmented rows: 24/30\n",
      "Starting back-translation for 4 texts...\n"
     ]
    },
    {
     "name": "stdout",
     "output_type": "stream",
     "text": [
      "Back-translation completed.\n",
      "Augmented rows: 28/30\n",
      "Starting back-translation for 4 texts...\n"
     ]
    },
    {
     "name": "stdout",
     "output_type": "stream",
     "text": [
      "Back-translation completed.\n",
      "Augmented rows: 32/30\n",
      "Class augmentation completed. Total rows: 32.\n",
      "Augmenting class with 4 rows to reach 30 rows...\n",
      "Starting back-translation for 4 texts...\n"
     ]
    },
    {
     "name": "stdout",
     "output_type": "stream",
     "text": [
      "Back-translation completed.\n",
      "Augmented rows: 8/30\n",
      "Starting back-translation for 4 texts...\n"
     ]
    },
    {
     "name": "stdout",
     "output_type": "stream",
     "text": [
      "Back-translation completed.\n",
      "Augmented rows: 12/30\n",
      "Starting back-translation for 4 texts...\n"
     ]
    },
    {
     "name": "stdout",
     "output_type": "stream",
     "text": [
      "Back-translation completed.\n",
      "Augmented rows: 16/30\n",
      "Starting back-translation for 4 texts...\n"
     ]
    },
    {
     "name": "stdout",
     "output_type": "stream",
     "text": [
      "Back-translation completed.\n",
      "Augmented rows: 20/30\n",
      "Starting back-translation for 4 texts...\n"
     ]
    },
    {
     "name": "stdout",
     "output_type": "stream",
     "text": [
      "Back-translation completed.\n",
      "Augmented rows: 24/30\n",
      "Starting back-translation for 4 texts...\n"
     ]
    },
    {
     "name": "stdout",
     "output_type": "stream",
     "text": [
      "Back-translation completed.\n",
      "Augmented rows: 28/30\n",
      "Starting back-translation for 4 texts...\n"
     ]
    },
    {
     "name": "stdout",
     "output_type": "stream",
     "text": [
      "Back-translation completed.\n",
      "Augmented rows: 32/30\n",
      "Class augmentation completed. Total rows: 32.\n",
      "Augmenting class with 4 rows to reach 30 rows...\n",
      "Starting back-translation for 4 texts...\n"
     ]
    },
    {
     "name": "stdout",
     "output_type": "stream",
     "text": [
      "Back-translation completed.\n",
      "Augmented rows: 8/30\n",
      "Starting back-translation for 4 texts...\n"
     ]
    },
    {
     "name": "stdout",
     "output_type": "stream",
     "text": [
      "Back-translation completed.\n",
      "Augmented rows: 12/30\n",
      "Starting back-translation for 4 texts...\n"
     ]
    },
    {
     "name": "stdout",
     "output_type": "stream",
     "text": [
      "Back-translation completed.\n",
      "Augmented rows: 16/30\n",
      "Starting back-translation for 4 texts...\n"
     ]
    },
    {
     "name": "stdout",
     "output_type": "stream",
     "text": [
      "Back-translation completed.\n",
      "Augmented rows: 20/30\n",
      "Starting back-translation for 4 texts...\n"
     ]
    },
    {
     "name": "stdout",
     "output_type": "stream",
     "text": [
      "Back-translation completed.\n",
      "Augmented rows: 24/30\n",
      "Starting back-translation for 4 texts...\n"
     ]
    },
    {
     "name": "stdout",
     "output_type": "stream",
     "text": [
      "Back-translation completed.\n",
      "Augmented rows: 28/30\n",
      "Starting back-translation for 4 texts...\n"
     ]
    },
    {
     "name": "stdout",
     "output_type": "stream",
     "text": [
      "Back-translation completed.\n",
      "Augmented rows: 32/30\n",
      "Class augmentation completed. Total rows: 32.\n",
      "Augmenting class with 4 rows to reach 30 rows...\n",
      "Starting back-translation for 4 texts...\n"
     ]
    },
    {
     "name": "stdout",
     "output_type": "stream",
     "text": [
      "Back-translation completed.\n",
      "Augmented rows: 8/30\n",
      "Starting back-translation for 4 texts...\n"
     ]
    },
    {
     "name": "stdout",
     "output_type": "stream",
     "text": [
      "Back-translation completed.\n",
      "Augmented rows: 12/30\n",
      "Starting back-translation for 4 texts...\n"
     ]
    },
    {
     "name": "stdout",
     "output_type": "stream",
     "text": [
      "Back-translation completed.\n",
      "Augmented rows: 16/30\n",
      "Starting back-translation for 4 texts...\n"
     ]
    },
    {
     "name": "stdout",
     "output_type": "stream",
     "text": [
      "Back-translation completed.\n",
      "Augmented rows: 20/30\n",
      "Starting back-translation for 4 texts...\n"
     ]
    },
    {
     "name": "stdout",
     "output_type": "stream",
     "text": [
      "Back-translation completed.\n",
      "Augmented rows: 24/30\n",
      "Starting back-translation for 4 texts...\n"
     ]
    },
    {
     "name": "stdout",
     "output_type": "stream",
     "text": [
      "Back-translation completed.\n",
      "Augmented rows: 28/30\n",
      "Starting back-translation for 4 texts...\n"
     ]
    },
    {
     "name": "stdout",
     "output_type": "stream",
     "text": [
      "Back-translation completed.\n",
      "Augmented rows: 32/30\n",
      "Class augmentation completed. Total rows: 32.\n",
      "Augmenting class with 4 rows to reach 30 rows...\n",
      "Starting back-translation for 4 texts...\n"
     ]
    },
    {
     "name": "stdout",
     "output_type": "stream",
     "text": [
      "Back-translation completed.\n",
      "Augmented rows: 8/30\n",
      "Starting back-translation for 4 texts...\n"
     ]
    },
    {
     "name": "stdout",
     "output_type": "stream",
     "text": [
      "Back-translation completed.\n",
      "Augmented rows: 12/30\n",
      "Starting back-translation for 4 texts...\n"
     ]
    },
    {
     "name": "stdout",
     "output_type": "stream",
     "text": [
      "Back-translation completed.\n",
      "Augmented rows: 16/30\n",
      "Starting back-translation for 4 texts...\n"
     ]
    },
    {
     "name": "stdout",
     "output_type": "stream",
     "text": [
      "Back-translation completed.\n",
      "Augmented rows: 20/30\n",
      "Starting back-translation for 4 texts...\n"
     ]
    },
    {
     "name": "stdout",
     "output_type": "stream",
     "text": [
      "Back-translation completed.\n",
      "Augmented rows: 24/30\n",
      "Starting back-translation for 4 texts...\n"
     ]
    },
    {
     "name": "stdout",
     "output_type": "stream",
     "text": [
      "Back-translation completed.\n",
      "Augmented rows: 28/30\n",
      "Starting back-translation for 4 texts...\n"
     ]
    },
    {
     "name": "stdout",
     "output_type": "stream",
     "text": [
      "Back-translation completed.\n",
      "Augmented rows: 32/30\n",
      "Class augmentation completed. Total rows: 32.\n",
      "Augmenting class with 4 rows to reach 30 rows...\n",
      "Starting back-translation for 4 texts...\n"
     ]
    },
    {
     "name": "stdout",
     "output_type": "stream",
     "text": [
      "Back-translation completed.\n",
      "Augmented rows: 8/30\n",
      "Starting back-translation for 4 texts...\n"
     ]
    },
    {
     "name": "stdout",
     "output_type": "stream",
     "text": [
      "Back-translation completed.\n",
      "Augmented rows: 12/30\n",
      "Starting back-translation for 4 texts...\n"
     ]
    },
    {
     "name": "stdout",
     "output_type": "stream",
     "text": [
      "Back-translation completed.\n",
      "Augmented rows: 16/30\n",
      "Starting back-translation for 4 texts...\n"
     ]
    },
    {
     "name": "stdout",
     "output_type": "stream",
     "text": [
      "Back-translation completed.\n",
      "Augmented rows: 20/30\n",
      "Starting back-translation for 4 texts...\n"
     ]
    },
    {
     "name": "stdout",
     "output_type": "stream",
     "text": [
      "Back-translation completed.\n",
      "Augmented rows: 24/30\n",
      "Starting back-translation for 4 texts...\n"
     ]
    },
    {
     "name": "stdout",
     "output_type": "stream",
     "text": [
      "Back-translation completed.\n",
      "Augmented rows: 28/30\n",
      "Starting back-translation for 4 texts...\n"
     ]
    },
    {
     "name": "stdout",
     "output_type": "stream",
     "text": [
      "Back-translation completed.\n",
      "Augmented rows: 32/30\n",
      "Class augmentation completed. Total rows: 32.\n",
      "Augmenting class with 4 rows to reach 30 rows...\n",
      "Starting back-translation for 4 texts...\n"
     ]
    },
    {
     "name": "stdout",
     "output_type": "stream",
     "text": [
      "Back-translation completed.\n",
      "Augmented rows: 8/30\n",
      "Starting back-translation for 4 texts...\n"
     ]
    },
    {
     "name": "stdout",
     "output_type": "stream",
     "text": [
      "Back-translation completed.\n",
      "Augmented rows: 12/30\n",
      "Starting back-translation for 4 texts...\n"
     ]
    },
    {
     "name": "stdout",
     "output_type": "stream",
     "text": [
      "Back-translation completed.\n",
      "Augmented rows: 16/30\n",
      "Starting back-translation for 4 texts...\n"
     ]
    },
    {
     "name": "stdout",
     "output_type": "stream",
     "text": [
      "Back-translation completed.\n",
      "Augmented rows: 20/30\n",
      "Starting back-translation for 4 texts...\n"
     ]
    },
    {
     "name": "stdout",
     "output_type": "stream",
     "text": [
      "Back-translation completed.\n",
      "Augmented rows: 24/30\n",
      "Starting back-translation for 4 texts...\n"
     ]
    },
    {
     "name": "stdout",
     "output_type": "stream",
     "text": [
      "Back-translation completed.\n",
      "Augmented rows: 28/30\n",
      "Starting back-translation for 4 texts...\n"
     ]
    },
    {
     "name": "stdout",
     "output_type": "stream",
     "text": [
      "Back-translation completed.\n",
      "Augmented rows: 32/30\n",
      "Class augmentation completed. Total rows: 32.\n",
      "Augmenting class with 4 rows to reach 30 rows...\n",
      "Starting back-translation for 4 texts...\n"
     ]
    },
    {
     "name": "stdout",
     "output_type": "stream",
     "text": [
      "Back-translation completed.\n",
      "Augmented rows: 8/30\n",
      "Starting back-translation for 4 texts...\n"
     ]
    },
    {
     "name": "stdout",
     "output_type": "stream",
     "text": [
      "Back-translation completed.\n",
      "Augmented rows: 12/30\n",
      "Starting back-translation for 4 texts...\n"
     ]
    },
    {
     "name": "stdout",
     "output_type": "stream",
     "text": [
      "Back-translation completed.\n",
      "Augmented rows: 16/30\n",
      "Starting back-translation for 4 texts...\n"
     ]
    },
    {
     "name": "stdout",
     "output_type": "stream",
     "text": [
      "Back-translation completed.\n",
      "Augmented rows: 20/30\n",
      "Starting back-translation for 4 texts...\n"
     ]
    },
    {
     "name": "stdout",
     "output_type": "stream",
     "text": [
      "Back-translation completed.\n",
      "Augmented rows: 24/30\n",
      "Starting back-translation for 4 texts...\n"
     ]
    },
    {
     "name": "stdout",
     "output_type": "stream",
     "text": [
      "Back-translation completed.\n",
      "Augmented rows: 28/30\n",
      "Starting back-translation for 4 texts...\n"
     ]
    },
    {
     "name": "stdout",
     "output_type": "stream",
     "text": [
      "Back-translation completed.\n",
      "Augmented rows: 32/30\n",
      "Class augmentation completed. Total rows: 32.\n",
      "Augmenting class with 4 rows to reach 30 rows...\n",
      "Starting back-translation for 4 texts...\n"
     ]
    },
    {
     "name": "stdout",
     "output_type": "stream",
     "text": [
      "Back-translation completed.\n",
      "Augmented rows: 8/30\n",
      "Starting back-translation for 4 texts...\n"
     ]
    },
    {
     "name": "stdout",
     "output_type": "stream",
     "text": [
      "Back-translation completed.\n",
      "Augmented rows: 12/30\n",
      "Starting back-translation for 4 texts...\n"
     ]
    },
    {
     "name": "stdout",
     "output_type": "stream",
     "text": [
      "Back-translation completed.\n",
      "Augmented rows: 16/30\n",
      "Starting back-translation for 4 texts...\n"
     ]
    },
    {
     "name": "stdout",
     "output_type": "stream",
     "text": [
      "Back-translation completed.\n",
      "Augmented rows: 20/30\n",
      "Starting back-translation for 4 texts...\n"
     ]
    },
    {
     "name": "stdout",
     "output_type": "stream",
     "text": [
      "Back-translation completed.\n",
      "Augmented rows: 24/30\n",
      "Starting back-translation for 4 texts...\n"
     ]
    },
    {
     "name": "stdout",
     "output_type": "stream",
     "text": [
      "Back-translation completed.\n",
      "Augmented rows: 28/30\n",
      "Starting back-translation for 4 texts...\n"
     ]
    },
    {
     "name": "stdout",
     "output_type": "stream",
     "text": [
      "Back-translation completed.\n",
      "Augmented rows: 32/30\n",
      "Class augmentation completed. Total rows: 32.\n",
      "Augmenting class with 4 rows to reach 30 rows...\n",
      "Starting back-translation for 4 texts...\n"
     ]
    },
    {
     "name": "stdout",
     "output_type": "stream",
     "text": [
      "Back-translation completed.\n",
      "Augmented rows: 8/30\n",
      "Starting back-translation for 4 texts...\n"
     ]
    },
    {
     "name": "stdout",
     "output_type": "stream",
     "text": [
      "Back-translation completed.\n",
      "Augmented rows: 12/30\n",
      "Starting back-translation for 4 texts...\n"
     ]
    },
    {
     "name": "stdout",
     "output_type": "stream",
     "text": [
      "Back-translation completed.\n",
      "Augmented rows: 16/30\n",
      "Starting back-translation for 4 texts...\n"
     ]
    },
    {
     "name": "stdout",
     "output_type": "stream",
     "text": [
      "Back-translation completed.\n",
      "Augmented rows: 20/30\n",
      "Starting back-translation for 4 texts...\n"
     ]
    },
    {
     "name": "stdout",
     "output_type": "stream",
     "text": [
      "Back-translation completed.\n",
      "Augmented rows: 24/30\n",
      "Starting back-translation for 4 texts...\n"
     ]
    },
    {
     "name": "stdout",
     "output_type": "stream",
     "text": [
      "Back-translation completed.\n",
      "Augmented rows: 28/30\n",
      "Starting back-translation for 4 texts...\n"
     ]
    },
    {
     "name": "stdout",
     "output_type": "stream",
     "text": [
      "Back-translation completed.\n",
      "Augmented rows: 32/30\n",
      "Class augmentation completed. Total rows: 32.\n",
      "Augmenting class with 4 rows to reach 30 rows...\n",
      "Starting back-translation for 4 texts...\n"
     ]
    },
    {
     "name": "stdout",
     "output_type": "stream",
     "text": [
      "Back-translation completed.\n",
      "Augmented rows: 8/30\n",
      "Starting back-translation for 4 texts...\n"
     ]
    },
    {
     "name": "stdout",
     "output_type": "stream",
     "text": [
      "Back-translation completed.\n",
      "Augmented rows: 12/30\n",
      "Starting back-translation for 4 texts...\n"
     ]
    },
    {
     "name": "stdout",
     "output_type": "stream",
     "text": [
      "Back-translation completed.\n",
      "Augmented rows: 16/30\n",
      "Starting back-translation for 4 texts...\n"
     ]
    },
    {
     "name": "stdout",
     "output_type": "stream",
     "text": [
      "Back-translation completed.\n",
      "Augmented rows: 20/30\n",
      "Starting back-translation for 4 texts...\n"
     ]
    },
    {
     "name": "stdout",
     "output_type": "stream",
     "text": [
      "Back-translation completed.\n",
      "Augmented rows: 24/30\n",
      "Starting back-translation for 4 texts...\n"
     ]
    },
    {
     "name": "stdout",
     "output_type": "stream",
     "text": [
      "Back-translation completed.\n",
      "Augmented rows: 28/30\n",
      "Starting back-translation for 4 texts...\n"
     ]
    },
    {
     "name": "stdout",
     "output_type": "stream",
     "text": [
      "Back-translation completed.\n",
      "Augmented rows: 32/30\n",
      "Class augmentation completed. Total rows: 32.\n",
      "Augmenting class with 4 rows to reach 30 rows...\n",
      "Starting back-translation for 4 texts...\n"
     ]
    },
    {
     "name": "stdout",
     "output_type": "stream",
     "text": [
      "Back-translation completed.\n",
      "Augmented rows: 8/30\n",
      "Starting back-translation for 4 texts...\n"
     ]
    },
    {
     "name": "stdout",
     "output_type": "stream",
     "text": [
      "Back-translation completed.\n",
      "Augmented rows: 12/30\n",
      "Starting back-translation for 4 texts...\n"
     ]
    },
    {
     "name": "stdout",
     "output_type": "stream",
     "text": [
      "Back-translation completed.\n",
      "Augmented rows: 16/30\n",
      "Starting back-translation for 4 texts...\n"
     ]
    },
    {
     "name": "stdout",
     "output_type": "stream",
     "text": [
      "Back-translation completed.\n",
      "Augmented rows: 20/30\n",
      "Starting back-translation for 4 texts...\n"
     ]
    },
    {
     "name": "stdout",
     "output_type": "stream",
     "text": [
      "Back-translation completed.\n",
      "Augmented rows: 24/30\n",
      "Starting back-translation for 4 texts...\n"
     ]
    },
    {
     "name": "stdout",
     "output_type": "stream",
     "text": [
      "Back-translation completed.\n",
      "Augmented rows: 28/30\n",
      "Starting back-translation for 4 texts...\n"
     ]
    },
    {
     "name": "stdout",
     "output_type": "stream",
     "text": [
      "Back-translation completed.\n",
      "Augmented rows: 32/30\n",
      "Class augmentation completed. Total rows: 32.\n",
      "Augmenting class with 4 rows to reach 30 rows...\n",
      "Starting back-translation for 4 texts...\n"
     ]
    },
    {
     "name": "stdout",
     "output_type": "stream",
     "text": [
      "Back-translation completed.\n",
      "Augmented rows: 8/30\n",
      "Starting back-translation for 4 texts...\n"
     ]
    },
    {
     "name": "stdout",
     "output_type": "stream",
     "text": [
      "Back-translation completed.\n",
      "Augmented rows: 12/30\n",
      "Starting back-translation for 4 texts...\n"
     ]
    },
    {
     "name": "stdout",
     "output_type": "stream",
     "text": [
      "Back-translation completed.\n",
      "Augmented rows: 16/30\n",
      "Starting back-translation for 4 texts...\n"
     ]
    },
    {
     "name": "stdout",
     "output_type": "stream",
     "text": [
      "Back-translation completed.\n",
      "Augmented rows: 20/30\n",
      "Starting back-translation for 4 texts...\n"
     ]
    },
    {
     "name": "stdout",
     "output_type": "stream",
     "text": [
      "Back-translation completed.\n",
      "Augmented rows: 24/30\n",
      "Starting back-translation for 4 texts...\n"
     ]
    },
    {
     "name": "stdout",
     "output_type": "stream",
     "text": [
      "Back-translation completed.\n",
      "Augmented rows: 28/30\n",
      "Starting back-translation for 4 texts...\n"
     ]
    },
    {
     "name": "stdout",
     "output_type": "stream",
     "text": [
      "Back-translation completed.\n",
      "Augmented rows: 32/30\n",
      "Class augmentation completed. Total rows: 32.\n",
      "Augmenting class with 4 rows to reach 30 rows...\n",
      "Starting back-translation for 4 texts...\n"
     ]
    },
    {
     "name": "stdout",
     "output_type": "stream",
     "text": [
      "Back-translation completed.\n",
      "Augmented rows: 8/30\n",
      "Starting back-translation for 4 texts...\n"
     ]
    },
    {
     "name": "stdout",
     "output_type": "stream",
     "text": [
      "Back-translation completed.\n",
      "Augmented rows: 12/30\n",
      "Starting back-translation for 4 texts...\n"
     ]
    },
    {
     "name": "stdout",
     "output_type": "stream",
     "text": [
      "Back-translation completed.\n",
      "Augmented rows: 16/30\n",
      "Starting back-translation for 4 texts...\n"
     ]
    },
    {
     "name": "stdout",
     "output_type": "stream",
     "text": [
      "Back-translation completed.\n",
      "Augmented rows: 20/30\n",
      "Starting back-translation for 4 texts...\n"
     ]
    },
    {
     "name": "stdout",
     "output_type": "stream",
     "text": [
      "Back-translation completed.\n",
      "Augmented rows: 24/30\n",
      "Starting back-translation for 4 texts...\n"
     ]
    },
    {
     "name": "stdout",
     "output_type": "stream",
     "text": [
      "Back-translation completed.\n",
      "Augmented rows: 28/30\n",
      "Starting back-translation for 4 texts...\n"
     ]
    },
    {
     "name": "stdout",
     "output_type": "stream",
     "text": [
      "Back-translation completed.\n",
      "Augmented rows: 32/30\n",
      "Class augmentation completed. Total rows: 32.\n",
      "Augmenting class with 4 rows to reach 30 rows...\n",
      "Starting back-translation for 4 texts...\n"
     ]
    },
    {
     "name": "stdout",
     "output_type": "stream",
     "text": [
      "Back-translation completed.\n",
      "Augmented rows: 8/30\n",
      "Starting back-translation for 4 texts...\n"
     ]
    },
    {
     "name": "stdout",
     "output_type": "stream",
     "text": [
      "Back-translation completed.\n",
      "Augmented rows: 12/30\n",
      "Starting back-translation for 4 texts...\n"
     ]
    },
    {
     "name": "stdout",
     "output_type": "stream",
     "text": [
      "Back-translation completed.\n",
      "Augmented rows: 16/30\n",
      "Starting back-translation for 4 texts...\n"
     ]
    },
    {
     "name": "stdout",
     "output_type": "stream",
     "text": [
      "Back-translation completed.\n",
      "Augmented rows: 20/30\n",
      "Starting back-translation for 4 texts...\n"
     ]
    },
    {
     "name": "stdout",
     "output_type": "stream",
     "text": [
      "Back-translation completed.\n",
      "Augmented rows: 24/30\n",
      "Starting back-translation for 4 texts...\n"
     ]
    },
    {
     "name": "stdout",
     "output_type": "stream",
     "text": [
      "Back-translation completed.\n",
      "Augmented rows: 28/30\n",
      "Starting back-translation for 4 texts...\n"
     ]
    },
    {
     "name": "stdout",
     "output_type": "stream",
     "text": [
      "Back-translation completed.\n",
      "Augmented rows: 32/30\n",
      "Class augmentation completed. Total rows: 32.\n",
      "Augmenting class with 4 rows to reach 30 rows...\n",
      "Starting back-translation for 4 texts...\n"
     ]
    },
    {
     "name": "stdout",
     "output_type": "stream",
     "text": [
      "Back-translation completed.\n",
      "Augmented rows: 8/30\n",
      "Starting back-translation for 4 texts...\n"
     ]
    },
    {
     "name": "stdout",
     "output_type": "stream",
     "text": [
      "Back-translation completed.\n",
      "Augmented rows: 12/30\n",
      "Starting back-translation for 4 texts...\n"
     ]
    },
    {
     "name": "stdout",
     "output_type": "stream",
     "text": [
      "Back-translation completed.\n",
      "Augmented rows: 16/30\n",
      "Starting back-translation for 4 texts...\n"
     ]
    },
    {
     "name": "stdout",
     "output_type": "stream",
     "text": [
      "Back-translation completed.\n",
      "Augmented rows: 20/30\n",
      "Starting back-translation for 4 texts...\n"
     ]
    },
    {
     "name": "stdout",
     "output_type": "stream",
     "text": [
      "Back-translation completed.\n",
      "Augmented rows: 24/30\n",
      "Starting back-translation for 4 texts...\n"
     ]
    },
    {
     "name": "stdout",
     "output_type": "stream",
     "text": [
      "Back-translation completed.\n",
      "Augmented rows: 28/30\n",
      "Starting back-translation for 4 texts...\n"
     ]
    },
    {
     "name": "stdout",
     "output_type": "stream",
     "text": [
      "Back-translation completed.\n",
      "Augmented rows: 32/30\n",
      "Class augmentation completed. Total rows: 32.\n",
      "Augmenting class with 4 rows to reach 30 rows...\n",
      "Starting back-translation for 4 texts...\n"
     ]
    },
    {
     "name": "stdout",
     "output_type": "stream",
     "text": [
      "Back-translation completed.\n",
      "Augmented rows: 8/30\n",
      "Starting back-translation for 4 texts...\n"
     ]
    },
    {
     "name": "stdout",
     "output_type": "stream",
     "text": [
      "Back-translation completed.\n",
      "Augmented rows: 12/30\n",
      "Starting back-translation for 4 texts...\n"
     ]
    },
    {
     "name": "stdout",
     "output_type": "stream",
     "text": [
      "Back-translation completed.\n",
      "Augmented rows: 16/30\n",
      "Starting back-translation for 4 texts...\n"
     ]
    },
    {
     "name": "stdout",
     "output_type": "stream",
     "text": [
      "Back-translation completed.\n",
      "Augmented rows: 20/30\n",
      "Starting back-translation for 4 texts...\n"
     ]
    },
    {
     "name": "stdout",
     "output_type": "stream",
     "text": [
      "Back-translation completed.\n",
      "Augmented rows: 24/30\n",
      "Starting back-translation for 4 texts...\n"
     ]
    },
    {
     "name": "stdout",
     "output_type": "stream",
     "text": [
      "Back-translation completed.\n",
      "Augmented rows: 28/30\n",
      "Starting back-translation for 4 texts...\n"
     ]
    },
    {
     "name": "stdout",
     "output_type": "stream",
     "text": [
      "Back-translation completed.\n",
      "Augmented rows: 32/30\n",
      "Class augmentation completed. Total rows: 32.\n",
      "Augmenting class with 4 rows to reach 30 rows...\n",
      "Starting back-translation for 4 texts...\n"
     ]
    },
    {
     "name": "stdout",
     "output_type": "stream",
     "text": [
      "Back-translation completed.\n",
      "Augmented rows: 8/30\n",
      "Starting back-translation for 4 texts...\n"
     ]
    },
    {
     "name": "stdout",
     "output_type": "stream",
     "text": [
      "Back-translation completed.\n",
      "Augmented rows: 12/30\n",
      "Starting back-translation for 4 texts...\n"
     ]
    },
    {
     "name": "stdout",
     "output_type": "stream",
     "text": [
      "Back-translation completed.\n",
      "Augmented rows: 16/30\n",
      "Starting back-translation for 4 texts...\n"
     ]
    },
    {
     "name": "stdout",
     "output_type": "stream",
     "text": [
      "Back-translation completed.\n",
      "Augmented rows: 20/30\n",
      "Starting back-translation for 4 texts...\n"
     ]
    },
    {
     "name": "stdout",
     "output_type": "stream",
     "text": [
      "Back-translation completed.\n",
      "Augmented rows: 24/30\n",
      "Starting back-translation for 4 texts...\n"
     ]
    },
    {
     "name": "stdout",
     "output_type": "stream",
     "text": [
      "Back-translation completed.\n",
      "Augmented rows: 28/30\n",
      "Starting back-translation for 4 texts...\n"
     ]
    },
    {
     "name": "stdout",
     "output_type": "stream",
     "text": [
      "Back-translation completed.\n",
      "Augmented rows: 32/30\n",
      "Class augmentation completed. Total rows: 32.\n",
      "Augmenting class with 4 rows to reach 30 rows...\n",
      "Starting back-translation for 4 texts...\n"
     ]
    },
    {
     "name": "stdout",
     "output_type": "stream",
     "text": [
      "Back-translation completed.\n",
      "Augmented rows: 8/30\n",
      "Starting back-translation for 4 texts...\n"
     ]
    },
    {
     "name": "stdout",
     "output_type": "stream",
     "text": [
      "Back-translation completed.\n",
      "Augmented rows: 12/30\n",
      "Starting back-translation for 4 texts...\n"
     ]
    },
    {
     "name": "stdout",
     "output_type": "stream",
     "text": [
      "Back-translation completed.\n",
      "Augmented rows: 16/30\n",
      "Starting back-translation for 4 texts...\n"
     ]
    },
    {
     "name": "stdout",
     "output_type": "stream",
     "text": [
      "Back-translation completed.\n",
      "Augmented rows: 20/30\n",
      "Starting back-translation for 4 texts...\n"
     ]
    },
    {
     "name": "stdout",
     "output_type": "stream",
     "text": [
      "Back-translation completed.\n",
      "Augmented rows: 24/30\n",
      "Starting back-translation for 4 texts...\n"
     ]
    },
    {
     "name": "stdout",
     "output_type": "stream",
     "text": [
      "Back-translation completed.\n",
      "Augmented rows: 28/30\n",
      "Starting back-translation for 4 texts...\n"
     ]
    },
    {
     "name": "stdout",
     "output_type": "stream",
     "text": [
      "Back-translation completed.\n",
      "Augmented rows: 32/30\n",
      "Class augmentation completed. Total rows: 32.\n",
      "Augmenting class with 4 rows to reach 30 rows...\n",
      "Starting back-translation for 4 texts...\n"
     ]
    },
    {
     "name": "stdout",
     "output_type": "stream",
     "text": [
      "Back-translation completed.\n",
      "Augmented rows: 8/30\n",
      "Starting back-translation for 4 texts...\n"
     ]
    },
    {
     "name": "stdout",
     "output_type": "stream",
     "text": [
      "Back-translation completed.\n",
      "Augmented rows: 12/30\n",
      "Starting back-translation for 4 texts...\n"
     ]
    },
    {
     "name": "stdout",
     "output_type": "stream",
     "text": [
      "Back-translation completed.\n",
      "Augmented rows: 16/30\n",
      "Starting back-translation for 4 texts...\n"
     ]
    },
    {
     "name": "stdout",
     "output_type": "stream",
     "text": [
      "Back-translation completed.\n",
      "Augmented rows: 20/30\n",
      "Starting back-translation for 4 texts...\n"
     ]
    },
    {
     "name": "stdout",
     "output_type": "stream",
     "text": [
      "Back-translation completed.\n",
      "Augmented rows: 24/30\n",
      "Starting back-translation for 4 texts...\n"
     ]
    },
    {
     "name": "stdout",
     "output_type": "stream",
     "text": [
      "Back-translation completed.\n",
      "Augmented rows: 28/30\n",
      "Starting back-translation for 4 texts...\n"
     ]
    },
    {
     "name": "stdout",
     "output_type": "stream",
     "text": [
      "Back-translation completed.\n",
      "Augmented rows: 32/30\n",
      "Class augmentation completed. Total rows: 32.\n",
      "Augmenting class with 4 rows to reach 30 rows...\n",
      "Starting back-translation for 4 texts...\n"
     ]
    },
    {
     "name": "stdout",
     "output_type": "stream",
     "text": [
      "Back-translation completed.\n",
      "Augmented rows: 8/30\n",
      "Starting back-translation for 4 texts...\n"
     ]
    },
    {
     "name": "stdout",
     "output_type": "stream",
     "text": [
      "Back-translation completed.\n",
      "Augmented rows: 12/30\n",
      "Starting back-translation for 4 texts...\n"
     ]
    },
    {
     "name": "stdout",
     "output_type": "stream",
     "text": [
      "Back-translation completed.\n",
      "Augmented rows: 16/30\n",
      "Starting back-translation for 4 texts...\n"
     ]
    },
    {
     "name": "stdout",
     "output_type": "stream",
     "text": [
      "Back-translation completed.\n",
      "Augmented rows: 20/30\n",
      "Starting back-translation for 4 texts...\n"
     ]
    },
    {
     "name": "stdout",
     "output_type": "stream",
     "text": [
      "Back-translation completed.\n",
      "Augmented rows: 24/30\n",
      "Starting back-translation for 4 texts...\n"
     ]
    },
    {
     "name": "stdout",
     "output_type": "stream",
     "text": [
      "Back-translation completed.\n",
      "Augmented rows: 28/30\n",
      "Starting back-translation for 4 texts...\n"
     ]
    },
    {
     "name": "stdout",
     "output_type": "stream",
     "text": [
      "Back-translation completed.\n",
      "Augmented rows: 32/30\n",
      "Class augmentation completed. Total rows: 32.\n",
      "Augmenting class with 3 rows to reach 30 rows...\n",
      "Starting back-translation for 3 texts...\n"
     ]
    },
    {
     "name": "stdout",
     "output_type": "stream",
     "text": [
      "Back-translation completed.\n",
      "Augmented rows: 6/30\n",
      "Starting back-translation for 3 texts...\n"
     ]
    },
    {
     "name": "stdout",
     "output_type": "stream",
     "text": [
      "Back-translation completed.\n",
      "Augmented rows: 9/30\n",
      "Starting back-translation for 3 texts...\n"
     ]
    },
    {
     "name": "stdout",
     "output_type": "stream",
     "text": [
      "Back-translation completed.\n",
      "Augmented rows: 12/30\n",
      "Starting back-translation for 3 texts...\n"
     ]
    },
    {
     "name": "stdout",
     "output_type": "stream",
     "text": [
      "Back-translation completed.\n",
      "Augmented rows: 15/30\n",
      "Starting back-translation for 3 texts...\n"
     ]
    },
    {
     "name": "stdout",
     "output_type": "stream",
     "text": [
      "Back-translation completed.\n",
      "Augmented rows: 18/30\n",
      "Starting back-translation for 3 texts...\n"
     ]
    },
    {
     "name": "stdout",
     "output_type": "stream",
     "text": [
      "Back-translation completed.\n",
      "Augmented rows: 21/30\n",
      "Starting back-translation for 3 texts...\n"
     ]
    },
    {
     "name": "stdout",
     "output_type": "stream",
     "text": [
      "Back-translation completed.\n",
      "Augmented rows: 24/30\n",
      "Starting back-translation for 3 texts...\n"
     ]
    },
    {
     "name": "stdout",
     "output_type": "stream",
     "text": [
      "Back-translation completed.\n",
      "Augmented rows: 27/30\n",
      "Starting back-translation for 3 texts...\n"
     ]
    },
    {
     "name": "stdout",
     "output_type": "stream",
     "text": [
      "Back-translation completed.\n",
      "Augmented rows: 30/30\n",
      "Class augmentation completed. Total rows: 30.\n",
      "Augmenting class with 3 rows to reach 30 rows...\n",
      "Starting back-translation for 3 texts...\n"
     ]
    },
    {
     "name": "stdout",
     "output_type": "stream",
     "text": [
      "Back-translation completed.\n",
      "Augmented rows: 6/30\n",
      "Starting back-translation for 3 texts...\n"
     ]
    },
    {
     "name": "stdout",
     "output_type": "stream",
     "text": [
      "Back-translation completed.\n",
      "Augmented rows: 9/30\n",
      "Starting back-translation for 3 texts...\n"
     ]
    },
    {
     "name": "stdout",
     "output_type": "stream",
     "text": [
      "Back-translation completed.\n",
      "Augmented rows: 12/30\n",
      "Starting back-translation for 3 texts...\n"
     ]
    },
    {
     "name": "stdout",
     "output_type": "stream",
     "text": [
      "Back-translation completed.\n",
      "Augmented rows: 15/30\n",
      "Starting back-translation for 3 texts...\n"
     ]
    },
    {
     "name": "stdout",
     "output_type": "stream",
     "text": [
      "Back-translation completed.\n",
      "Augmented rows: 18/30\n",
      "Starting back-translation for 3 texts...\n"
     ]
    },
    {
     "name": "stdout",
     "output_type": "stream",
     "text": [
      "Back-translation completed.\n",
      "Augmented rows: 21/30\n",
      "Starting back-translation for 3 texts...\n"
     ]
    },
    {
     "name": "stdout",
     "output_type": "stream",
     "text": [
      "Back-translation completed.\n",
      "Augmented rows: 24/30\n",
      "Starting back-translation for 3 texts...\n"
     ]
    },
    {
     "name": "stdout",
     "output_type": "stream",
     "text": [
      "Back-translation completed.\n",
      "Augmented rows: 27/30\n",
      "Starting back-translation for 3 texts...\n"
     ]
    },
    {
     "name": "stdout",
     "output_type": "stream",
     "text": [
      "Back-translation completed.\n",
      "Augmented rows: 30/30\n",
      "Class augmentation completed. Total rows: 30.\n",
      "Augmenting class with 3 rows to reach 30 rows...\n",
      "Starting back-translation for 3 texts...\n"
     ]
    },
    {
     "name": "stdout",
     "output_type": "stream",
     "text": [
      "Back-translation completed.\n",
      "Augmented rows: 6/30\n",
      "Starting back-translation for 3 texts...\n"
     ]
    },
    {
     "name": "stdout",
     "output_type": "stream",
     "text": [
      "Back-translation completed.\n",
      "Augmented rows: 9/30\n",
      "Starting back-translation for 3 texts...\n"
     ]
    },
    {
     "name": "stdout",
     "output_type": "stream",
     "text": [
      "Back-translation completed.\n",
      "Augmented rows: 12/30\n",
      "Starting back-translation for 3 texts...\n"
     ]
    },
    {
     "name": "stdout",
     "output_type": "stream",
     "text": [
      "Back-translation completed.\n",
      "Augmented rows: 15/30\n",
      "Starting back-translation for 3 texts...\n"
     ]
    },
    {
     "name": "stdout",
     "output_type": "stream",
     "text": [
      "Back-translation completed.\n",
      "Augmented rows: 18/30\n",
      "Starting back-translation for 3 texts...\n"
     ]
    },
    {
     "name": "stdout",
     "output_type": "stream",
     "text": [
      "Back-translation completed.\n",
      "Augmented rows: 21/30\n",
      "Starting back-translation for 3 texts...\n"
     ]
    },
    {
     "name": "stdout",
     "output_type": "stream",
     "text": [
      "Back-translation completed.\n",
      "Augmented rows: 24/30\n",
      "Starting back-translation for 3 texts...\n"
     ]
    },
    {
     "name": "stdout",
     "output_type": "stream",
     "text": [
      "Back-translation completed.\n",
      "Augmented rows: 27/30\n",
      "Starting back-translation for 3 texts...\n"
     ]
    },
    {
     "name": "stdout",
     "output_type": "stream",
     "text": [
      "Back-translation completed.\n",
      "Augmented rows: 30/30\n",
      "Class augmentation completed. Total rows: 30.\n",
      "Augmenting class with 3 rows to reach 30 rows...\n",
      "Starting back-translation for 3 texts...\n"
     ]
    },
    {
     "name": "stdout",
     "output_type": "stream",
     "text": [
      "Back-translation completed.\n",
      "Augmented rows: 6/30\n",
      "Starting back-translation for 3 texts...\n"
     ]
    },
    {
     "name": "stdout",
     "output_type": "stream",
     "text": [
      "Back-translation completed.\n",
      "Augmented rows: 9/30\n",
      "Starting back-translation for 3 texts...\n"
     ]
    },
    {
     "name": "stdout",
     "output_type": "stream",
     "text": [
      "Back-translation completed.\n",
      "Augmented rows: 12/30\n",
      "Starting back-translation for 3 texts...\n"
     ]
    },
    {
     "name": "stdout",
     "output_type": "stream",
     "text": [
      "Back-translation completed.\n",
      "Augmented rows: 15/30\n",
      "Starting back-translation for 3 texts...\n"
     ]
    },
    {
     "name": "stdout",
     "output_type": "stream",
     "text": [
      "Back-translation completed.\n",
      "Augmented rows: 18/30\n",
      "Starting back-translation for 3 texts...\n"
     ]
    },
    {
     "name": "stdout",
     "output_type": "stream",
     "text": [
      "Back-translation completed.\n",
      "Augmented rows: 21/30\n",
      "Starting back-translation for 3 texts...\n"
     ]
    },
    {
     "name": "stdout",
     "output_type": "stream",
     "text": [
      "Back-translation completed.\n",
      "Augmented rows: 24/30\n",
      "Starting back-translation for 3 texts...\n"
     ]
    },
    {
     "name": "stdout",
     "output_type": "stream",
     "text": [
      "Back-translation completed.\n",
      "Augmented rows: 27/30\n",
      "Starting back-translation for 3 texts...\n"
     ]
    },
    {
     "name": "stdout",
     "output_type": "stream",
     "text": [
      "Back-translation completed.\n",
      "Augmented rows: 30/30\n",
      "Class augmentation completed. Total rows: 30.\n",
      "Augmenting class with 3 rows to reach 30 rows...\n",
      "Starting back-translation for 3 texts...\n"
     ]
    },
    {
     "name": "stdout",
     "output_type": "stream",
     "text": [
      "Back-translation completed.\n",
      "Augmented rows: 6/30\n",
      "Starting back-translation for 3 texts...\n"
     ]
    },
    {
     "name": "stdout",
     "output_type": "stream",
     "text": [
      "Back-translation completed.\n",
      "Augmented rows: 9/30\n",
      "Starting back-translation for 3 texts...\n"
     ]
    },
    {
     "name": "stdout",
     "output_type": "stream",
     "text": [
      "Back-translation completed.\n",
      "Augmented rows: 12/30\n",
      "Starting back-translation for 3 texts...\n"
     ]
    },
    {
     "name": "stdout",
     "output_type": "stream",
     "text": [
      "Back-translation completed.\n",
      "Augmented rows: 15/30\n",
      "Starting back-translation for 3 texts...\n"
     ]
    },
    {
     "name": "stdout",
     "output_type": "stream",
     "text": [
      "Back-translation completed.\n",
      "Augmented rows: 18/30\n",
      "Starting back-translation for 3 texts...\n"
     ]
    },
    {
     "name": "stdout",
     "output_type": "stream",
     "text": [
      "Back-translation completed.\n",
      "Augmented rows: 21/30\n",
      "Starting back-translation for 3 texts...\n"
     ]
    },
    {
     "name": "stdout",
     "output_type": "stream",
     "text": [
      "Back-translation completed.\n",
      "Augmented rows: 24/30\n",
      "Starting back-translation for 3 texts...\n"
     ]
    },
    {
     "name": "stdout",
     "output_type": "stream",
     "text": [
      "Back-translation completed.\n",
      "Augmented rows: 27/30\n",
      "Starting back-translation for 3 texts...\n"
     ]
    },
    {
     "name": "stdout",
     "output_type": "stream",
     "text": [
      "Back-translation completed.\n",
      "Augmented rows: 30/30\n",
      "Class augmentation completed. Total rows: 30.\n",
      "Augmenting class with 3 rows to reach 30 rows...\n",
      "Starting back-translation for 3 texts...\n"
     ]
    },
    {
     "name": "stdout",
     "output_type": "stream",
     "text": [
      "Back-translation completed.\n",
      "Augmented rows: 6/30\n",
      "Starting back-translation for 3 texts...\n"
     ]
    },
    {
     "name": "stdout",
     "output_type": "stream",
     "text": [
      "Back-translation completed.\n",
      "Augmented rows: 9/30\n",
      "Starting back-translation for 3 texts...\n"
     ]
    },
    {
     "name": "stdout",
     "output_type": "stream",
     "text": [
      "Back-translation completed.\n",
      "Augmented rows: 12/30\n",
      "Starting back-translation for 3 texts...\n"
     ]
    },
    {
     "name": "stdout",
     "output_type": "stream",
     "text": [
      "Back-translation completed.\n",
      "Augmented rows: 15/30\n",
      "Starting back-translation for 3 texts...\n"
     ]
    },
    {
     "name": "stdout",
     "output_type": "stream",
     "text": [
      "Back-translation completed.\n",
      "Augmented rows: 18/30\n",
      "Starting back-translation for 3 texts...\n"
     ]
    },
    {
     "name": "stdout",
     "output_type": "stream",
     "text": [
      "Back-translation completed.\n",
      "Augmented rows: 21/30\n",
      "Starting back-translation for 3 texts...\n"
     ]
    },
    {
     "name": "stdout",
     "output_type": "stream",
     "text": [
      "Back-translation completed.\n",
      "Augmented rows: 24/30\n",
      "Starting back-translation for 3 texts...\n"
     ]
    },
    {
     "name": "stdout",
     "output_type": "stream",
     "text": [
      "Back-translation completed.\n",
      "Augmented rows: 27/30\n",
      "Starting back-translation for 3 texts...\n"
     ]
    },
    {
     "name": "stdout",
     "output_type": "stream",
     "text": [
      "Back-translation completed.\n",
      "Augmented rows: 30/30\n",
      "Class augmentation completed. Total rows: 30.\n",
      "Augmenting class with 3 rows to reach 30 rows...\n",
      "Starting back-translation for 3 texts...\n"
     ]
    },
    {
     "name": "stdout",
     "output_type": "stream",
     "text": [
      "Back-translation completed.\n",
      "Augmented rows: 6/30\n",
      "Starting back-translation for 3 texts...\n"
     ]
    },
    {
     "name": "stdout",
     "output_type": "stream",
     "text": [
      "Back-translation completed.\n",
      "Augmented rows: 9/30\n",
      "Starting back-translation for 3 texts...\n"
     ]
    },
    {
     "name": "stdout",
     "output_type": "stream",
     "text": [
      "Back-translation completed.\n",
      "Augmented rows: 12/30\n",
      "Starting back-translation for 3 texts...\n"
     ]
    },
    {
     "name": "stdout",
     "output_type": "stream",
     "text": [
      "Back-translation completed.\n",
      "Augmented rows: 15/30\n",
      "Starting back-translation for 3 texts...\n"
     ]
    },
    {
     "name": "stdout",
     "output_type": "stream",
     "text": [
      "Back-translation completed.\n",
      "Augmented rows: 18/30\n",
      "Starting back-translation for 3 texts...\n"
     ]
    },
    {
     "name": "stdout",
     "output_type": "stream",
     "text": [
      "Back-translation completed.\n",
      "Augmented rows: 21/30\n",
      "Starting back-translation for 3 texts...\n"
     ]
    },
    {
     "name": "stdout",
     "output_type": "stream",
     "text": [
      "Back-translation completed.\n",
      "Augmented rows: 24/30\n",
      "Starting back-translation for 3 texts...\n"
     ]
    },
    {
     "name": "stdout",
     "output_type": "stream",
     "text": [
      "Back-translation completed.\n",
      "Augmented rows: 27/30\n",
      "Starting back-translation for 3 texts...\n"
     ]
    },
    {
     "name": "stdout",
     "output_type": "stream",
     "text": [
      "Back-translation completed.\n",
      "Augmented rows: 30/30\n",
      "Class augmentation completed. Total rows: 30.\n",
      "Augmenting class with 3 rows to reach 30 rows...\n",
      "Starting back-translation for 3 texts...\n"
     ]
    },
    {
     "name": "stdout",
     "output_type": "stream",
     "text": [
      "Back-translation completed.\n",
      "Augmented rows: 6/30\n",
      "Starting back-translation for 3 texts...\n"
     ]
    },
    {
     "name": "stdout",
     "output_type": "stream",
     "text": [
      "Back-translation completed.\n",
      "Augmented rows: 9/30\n",
      "Starting back-translation for 3 texts...\n"
     ]
    },
    {
     "name": "stdout",
     "output_type": "stream",
     "text": [
      "Back-translation completed.\n",
      "Augmented rows: 12/30\n",
      "Starting back-translation for 3 texts...\n"
     ]
    },
    {
     "name": "stdout",
     "output_type": "stream",
     "text": [
      "Back-translation completed.\n",
      "Augmented rows: 15/30\n",
      "Starting back-translation for 3 texts...\n"
     ]
    },
    {
     "name": "stdout",
     "output_type": "stream",
     "text": [
      "Back-translation completed.\n",
      "Augmented rows: 18/30\n",
      "Starting back-translation for 3 texts...\n"
     ]
    },
    {
     "name": "stdout",
     "output_type": "stream",
     "text": [
      "Back-translation completed.\n",
      "Augmented rows: 21/30\n",
      "Starting back-translation for 3 texts...\n"
     ]
    },
    {
     "name": "stdout",
     "output_type": "stream",
     "text": [
      "Back-translation completed.\n",
      "Augmented rows: 24/30\n",
      "Starting back-translation for 3 texts...\n"
     ]
    },
    {
     "name": "stdout",
     "output_type": "stream",
     "text": [
      "Back-translation completed.\n",
      "Augmented rows: 27/30\n",
      "Starting back-translation for 3 texts...\n"
     ]
    },
    {
     "name": "stdout",
     "output_type": "stream",
     "text": [
      "Back-translation completed.\n",
      "Augmented rows: 30/30\n",
      "Class augmentation completed. Total rows: 30.\n",
      "Augmenting class with 3 rows to reach 30 rows...\n",
      "Starting back-translation for 3 texts...\n"
     ]
    },
    {
     "name": "stdout",
     "output_type": "stream",
     "text": [
      "Back-translation completed.\n",
      "Augmented rows: 6/30\n",
      "Starting back-translation for 3 texts...\n"
     ]
    },
    {
     "name": "stdout",
     "output_type": "stream",
     "text": [
      "Back-translation completed.\n",
      "Augmented rows: 9/30\n",
      "Starting back-translation for 3 texts...\n"
     ]
    },
    {
     "name": "stdout",
     "output_type": "stream",
     "text": [
      "Back-translation completed.\n",
      "Augmented rows: 12/30\n",
      "Starting back-translation for 3 texts...\n"
     ]
    },
    {
     "name": "stdout",
     "output_type": "stream",
     "text": [
      "Back-translation completed.\n",
      "Augmented rows: 15/30\n",
      "Starting back-translation for 3 texts...\n"
     ]
    },
    {
     "name": "stdout",
     "output_type": "stream",
     "text": [
      "Back-translation completed.\n",
      "Augmented rows: 18/30\n",
      "Starting back-translation for 3 texts...\n"
     ]
    },
    {
     "name": "stdout",
     "output_type": "stream",
     "text": [
      "Back-translation completed.\n",
      "Augmented rows: 21/30\n",
      "Starting back-translation for 3 texts...\n"
     ]
    },
    {
     "name": "stdout",
     "output_type": "stream",
     "text": [
      "Back-translation completed.\n",
      "Augmented rows: 24/30\n",
      "Starting back-translation for 3 texts...\n"
     ]
    },
    {
     "name": "stdout",
     "output_type": "stream",
     "text": [
      "Back-translation completed.\n",
      "Augmented rows: 27/30\n",
      "Starting back-translation for 3 texts...\n"
     ]
    },
    {
     "name": "stdout",
     "output_type": "stream",
     "text": [
      "Back-translation completed.\n",
      "Augmented rows: 30/30\n",
      "Class augmentation completed. Total rows: 30.\n",
      "Augmenting class with 3 rows to reach 30 rows...\n",
      "Starting back-translation for 3 texts...\n"
     ]
    },
    {
     "name": "stdout",
     "output_type": "stream",
     "text": [
      "Back-translation completed.\n",
      "Augmented rows: 6/30\n",
      "Starting back-translation for 3 texts...\n"
     ]
    },
    {
     "name": "stdout",
     "output_type": "stream",
     "text": [
      "Back-translation completed.\n",
      "Augmented rows: 9/30\n",
      "Starting back-translation for 3 texts...\n"
     ]
    },
    {
     "name": "stdout",
     "output_type": "stream",
     "text": [
      "Back-translation completed.\n",
      "Augmented rows: 12/30\n",
      "Starting back-translation for 3 texts...\n"
     ]
    },
    {
     "name": "stdout",
     "output_type": "stream",
     "text": [
      "Back-translation completed.\n",
      "Augmented rows: 15/30\n",
      "Starting back-translation for 3 texts...\n"
     ]
    },
    {
     "name": "stdout",
     "output_type": "stream",
     "text": [
      "Back-translation completed.\n",
      "Augmented rows: 18/30\n",
      "Starting back-translation for 3 texts...\n"
     ]
    },
    {
     "name": "stdout",
     "output_type": "stream",
     "text": [
      "Back-translation completed.\n",
      "Augmented rows: 21/30\n",
      "Starting back-translation for 3 texts...\n"
     ]
    },
    {
     "name": "stdout",
     "output_type": "stream",
     "text": [
      "Back-translation completed.\n",
      "Augmented rows: 24/30\n",
      "Starting back-translation for 3 texts...\n"
     ]
    },
    {
     "name": "stdout",
     "output_type": "stream",
     "text": [
      "Back-translation completed.\n",
      "Augmented rows: 27/30\n",
      "Starting back-translation for 3 texts...\n"
     ]
    },
    {
     "name": "stdout",
     "output_type": "stream",
     "text": [
      "Back-translation completed.\n",
      "Augmented rows: 30/30\n",
      "Class augmentation completed. Total rows: 30.\n",
      "Augmenting class with 3 rows to reach 30 rows...\n",
      "Starting back-translation for 3 texts...\n"
     ]
    },
    {
     "name": "stdout",
     "output_type": "stream",
     "text": [
      "Back-translation completed.\n",
      "Augmented rows: 6/30\n",
      "Starting back-translation for 3 texts...\n"
     ]
    },
    {
     "name": "stdout",
     "output_type": "stream",
     "text": [
      "Back-translation completed.\n",
      "Augmented rows: 9/30\n",
      "Starting back-translation for 3 texts...\n"
     ]
    },
    {
     "name": "stdout",
     "output_type": "stream",
     "text": [
      "Back-translation completed.\n",
      "Augmented rows: 12/30\n",
      "Starting back-translation for 3 texts...\n"
     ]
    },
    {
     "name": "stdout",
     "output_type": "stream",
     "text": [
      "Back-translation completed.\n",
      "Augmented rows: 15/30\n",
      "Starting back-translation for 3 texts...\n"
     ]
    },
    {
     "name": "stdout",
     "output_type": "stream",
     "text": [
      "Back-translation completed.\n",
      "Augmented rows: 18/30\n",
      "Starting back-translation for 3 texts...\n"
     ]
    },
    {
     "name": "stdout",
     "output_type": "stream",
     "text": [
      "Back-translation completed.\n",
      "Augmented rows: 21/30\n",
      "Starting back-translation for 3 texts...\n"
     ]
    },
    {
     "name": "stdout",
     "output_type": "stream",
     "text": [
      "Back-translation completed.\n",
      "Augmented rows: 24/30\n",
      "Starting back-translation for 3 texts...\n"
     ]
    },
    {
     "name": "stdout",
     "output_type": "stream",
     "text": [
      "Back-translation completed.\n",
      "Augmented rows: 27/30\n",
      "Starting back-translation for 3 texts...\n"
     ]
    },
    {
     "name": "stdout",
     "output_type": "stream",
     "text": [
      "Back-translation completed.\n",
      "Augmented rows: 30/30\n",
      "Class augmentation completed. Total rows: 30.\n",
      "Augmenting class with 3 rows to reach 30 rows...\n",
      "Starting back-translation for 3 texts...\n"
     ]
    },
    {
     "name": "stdout",
     "output_type": "stream",
     "text": [
      "Back-translation completed.\n",
      "Augmented rows: 6/30\n",
      "Starting back-translation for 3 texts...\n"
     ]
    },
    {
     "name": "stdout",
     "output_type": "stream",
     "text": [
      "Back-translation completed.\n",
      "Augmented rows: 9/30\n",
      "Starting back-translation for 3 texts...\n"
     ]
    },
    {
     "name": "stdout",
     "output_type": "stream",
     "text": [
      "Back-translation completed.\n",
      "Augmented rows: 12/30\n",
      "Starting back-translation for 3 texts...\n"
     ]
    },
    {
     "name": "stdout",
     "output_type": "stream",
     "text": [
      "Back-translation completed.\n",
      "Augmented rows: 15/30\n",
      "Starting back-translation for 3 texts...\n"
     ]
    },
    {
     "name": "stdout",
     "output_type": "stream",
     "text": [
      "Back-translation completed.\n",
      "Augmented rows: 18/30\n",
      "Starting back-translation for 3 texts...\n"
     ]
    },
    {
     "name": "stdout",
     "output_type": "stream",
     "text": [
      "Back-translation completed.\n",
      "Augmented rows: 21/30\n",
      "Starting back-translation for 3 texts...\n"
     ]
    },
    {
     "name": "stdout",
     "output_type": "stream",
     "text": [
      "Back-translation completed.\n",
      "Augmented rows: 24/30\n",
      "Starting back-translation for 3 texts...\n"
     ]
    },
    {
     "name": "stdout",
     "output_type": "stream",
     "text": [
      "Back-translation completed.\n",
      "Augmented rows: 27/30\n",
      "Starting back-translation for 3 texts...\n"
     ]
    },
    {
     "name": "stdout",
     "output_type": "stream",
     "text": [
      "Back-translation completed.\n",
      "Augmented rows: 30/30\n",
      "Class augmentation completed. Total rows: 30.\n",
      "Augmenting class with 3 rows to reach 30 rows...\n",
      "Starting back-translation for 3 texts...\n"
     ]
    },
    {
     "name": "stdout",
     "output_type": "stream",
     "text": [
      "Back-translation completed.\n",
      "Augmented rows: 6/30\n",
      "Starting back-translation for 3 texts...\n"
     ]
    },
    {
     "name": "stdout",
     "output_type": "stream",
     "text": [
      "Back-translation completed.\n",
      "Augmented rows: 9/30\n",
      "Starting back-translation for 3 texts...\n"
     ]
    },
    {
     "name": "stdout",
     "output_type": "stream",
     "text": [
      "Back-translation completed.\n",
      "Augmented rows: 12/30\n",
      "Starting back-translation for 3 texts...\n"
     ]
    },
    {
     "name": "stdout",
     "output_type": "stream",
     "text": [
      "Back-translation completed.\n",
      "Augmented rows: 15/30\n",
      "Starting back-translation for 3 texts...\n"
     ]
    },
    {
     "name": "stdout",
     "output_type": "stream",
     "text": [
      "Back-translation completed.\n",
      "Augmented rows: 18/30\n",
      "Starting back-translation for 3 texts...\n"
     ]
    },
    {
     "name": "stdout",
     "output_type": "stream",
     "text": [
      "Back-translation completed.\n",
      "Augmented rows: 21/30\n",
      "Starting back-translation for 3 texts...\n"
     ]
    },
    {
     "name": "stdout",
     "output_type": "stream",
     "text": [
      "Back-translation completed.\n",
      "Augmented rows: 24/30\n",
      "Starting back-translation for 3 texts...\n"
     ]
    },
    {
     "name": "stdout",
     "output_type": "stream",
     "text": [
      "Back-translation completed.\n",
      "Augmented rows: 27/30\n",
      "Starting back-translation for 3 texts...\n"
     ]
    },
    {
     "name": "stdout",
     "output_type": "stream",
     "text": [
      "Back-translation completed.\n",
      "Augmented rows: 30/30\n",
      "Class augmentation completed. Total rows: 30.\n",
      "Augmenting class with 3 rows to reach 30 rows...\n",
      "Starting back-translation for 3 texts...\n"
     ]
    },
    {
     "name": "stdout",
     "output_type": "stream",
     "text": [
      "Back-translation completed.\n",
      "Augmented rows: 6/30\n",
      "Starting back-translation for 3 texts...\n"
     ]
    },
    {
     "name": "stdout",
     "output_type": "stream",
     "text": [
      "Back-translation completed.\n",
      "Augmented rows: 9/30\n",
      "Starting back-translation for 3 texts...\n"
     ]
    },
    {
     "name": "stdout",
     "output_type": "stream",
     "text": [
      "Back-translation completed.\n",
      "Augmented rows: 12/30\n",
      "Starting back-translation for 3 texts...\n"
     ]
    },
    {
     "name": "stdout",
     "output_type": "stream",
     "text": [
      "Back-translation completed.\n",
      "Augmented rows: 15/30\n",
      "Starting back-translation for 3 texts...\n"
     ]
    },
    {
     "name": "stdout",
     "output_type": "stream",
     "text": [
      "Back-translation completed.\n",
      "Augmented rows: 18/30\n",
      "Starting back-translation for 3 texts...\n"
     ]
    },
    {
     "name": "stdout",
     "output_type": "stream",
     "text": [
      "Back-translation completed.\n",
      "Augmented rows: 21/30\n",
      "Starting back-translation for 3 texts...\n"
     ]
    },
    {
     "name": "stdout",
     "output_type": "stream",
     "text": [
      "Back-translation completed.\n",
      "Augmented rows: 24/30\n",
      "Starting back-translation for 3 texts...\n"
     ]
    },
    {
     "name": "stdout",
     "output_type": "stream",
     "text": [
      "Back-translation completed.\n",
      "Augmented rows: 27/30\n",
      "Starting back-translation for 3 texts...\n"
     ]
    },
    {
     "name": "stdout",
     "output_type": "stream",
     "text": [
      "Back-translation completed.\n",
      "Augmented rows: 30/30\n",
      "Class augmentation completed. Total rows: 30.\n",
      "Augmenting class with 3 rows to reach 30 rows...\n",
      "Starting back-translation for 3 texts...\n"
     ]
    },
    {
     "name": "stdout",
     "output_type": "stream",
     "text": [
      "Back-translation completed.\n",
      "Augmented rows: 6/30\n",
      "Starting back-translation for 3 texts...\n"
     ]
    },
    {
     "name": "stdout",
     "output_type": "stream",
     "text": [
      "Back-translation completed.\n",
      "Augmented rows: 9/30\n",
      "Starting back-translation for 3 texts...\n"
     ]
    },
    {
     "name": "stdout",
     "output_type": "stream",
     "text": [
      "Back-translation completed.\n",
      "Augmented rows: 12/30\n",
      "Starting back-translation for 3 texts...\n"
     ]
    },
    {
     "name": "stdout",
     "output_type": "stream",
     "text": [
      "Back-translation completed.\n",
      "Augmented rows: 15/30\n",
      "Starting back-translation for 3 texts...\n"
     ]
    },
    {
     "name": "stdout",
     "output_type": "stream",
     "text": [
      "Back-translation completed.\n",
      "Augmented rows: 18/30\n",
      "Starting back-translation for 3 texts...\n"
     ]
    },
    {
     "name": "stdout",
     "output_type": "stream",
     "text": [
      "Back-translation completed.\n",
      "Augmented rows: 21/30\n",
      "Starting back-translation for 3 texts...\n"
     ]
    },
    {
     "name": "stdout",
     "output_type": "stream",
     "text": [
      "Back-translation completed.\n",
      "Augmented rows: 24/30\n",
      "Starting back-translation for 3 texts...\n"
     ]
    },
    {
     "name": "stdout",
     "output_type": "stream",
     "text": [
      "Back-translation completed.\n",
      "Augmented rows: 27/30\n",
      "Starting back-translation for 3 texts...\n"
     ]
    },
    {
     "name": "stdout",
     "output_type": "stream",
     "text": [
      "Back-translation completed.\n",
      "Augmented rows: 30/30\n",
      "Class augmentation completed. Total rows: 30.\n",
      "Augmenting class with 3 rows to reach 30 rows...\n",
      "Starting back-translation for 3 texts...\n"
     ]
    },
    {
     "name": "stdout",
     "output_type": "stream",
     "text": [
      "Back-translation completed.\n",
      "Augmented rows: 6/30\n",
      "Starting back-translation for 3 texts...\n"
     ]
    },
    {
     "name": "stdout",
     "output_type": "stream",
     "text": [
      "Back-translation completed.\n",
      "Augmented rows: 9/30\n",
      "Starting back-translation for 3 texts...\n"
     ]
    },
    {
     "name": "stdout",
     "output_type": "stream",
     "text": [
      "Back-translation completed.\n",
      "Augmented rows: 12/30\n",
      "Starting back-translation for 3 texts...\n"
     ]
    },
    {
     "name": "stdout",
     "output_type": "stream",
     "text": [
      "Back-translation completed.\n",
      "Augmented rows: 15/30\n",
      "Starting back-translation for 3 texts...\n"
     ]
    },
    {
     "name": "stdout",
     "output_type": "stream",
     "text": [
      "Back-translation completed.\n",
      "Augmented rows: 18/30\n",
      "Starting back-translation for 3 texts...\n"
     ]
    },
    {
     "name": "stdout",
     "output_type": "stream",
     "text": [
      "Back-translation completed.\n",
      "Augmented rows: 21/30\n",
      "Starting back-translation for 3 texts...\n"
     ]
    },
    {
     "name": "stdout",
     "output_type": "stream",
     "text": [
      "Back-translation completed.\n",
      "Augmented rows: 24/30\n",
      "Starting back-translation for 3 texts...\n"
     ]
    },
    {
     "name": "stdout",
     "output_type": "stream",
     "text": [
      "Back-translation completed.\n",
      "Augmented rows: 27/30\n",
      "Starting back-translation for 3 texts...\n"
     ]
    },
    {
     "name": "stdout",
     "output_type": "stream",
     "text": [
      "Back-translation completed.\n",
      "Augmented rows: 30/30\n",
      "Class augmentation completed. Total rows: 30.\n",
      "Augmenting class with 3 rows to reach 30 rows...\n",
      "Starting back-translation for 3 texts...\n"
     ]
    },
    {
     "name": "stdout",
     "output_type": "stream",
     "text": [
      "Back-translation completed.\n",
      "Augmented rows: 6/30\n",
      "Starting back-translation for 3 texts...\n"
     ]
    },
    {
     "name": "stdout",
     "output_type": "stream",
     "text": [
      "Back-translation completed.\n",
      "Augmented rows: 9/30\n",
      "Starting back-translation for 3 texts...\n"
     ]
    },
    {
     "name": "stdout",
     "output_type": "stream",
     "text": [
      "Back-translation completed.\n",
      "Augmented rows: 12/30\n",
      "Starting back-translation for 3 texts...\n"
     ]
    },
    {
     "name": "stdout",
     "output_type": "stream",
     "text": [
      "Back-translation completed.\n",
      "Augmented rows: 15/30\n",
      "Starting back-translation for 3 texts...\n"
     ]
    },
    {
     "name": "stdout",
     "output_type": "stream",
     "text": [
      "Back-translation completed.\n",
      "Augmented rows: 18/30\n",
      "Starting back-translation for 3 texts...\n"
     ]
    },
    {
     "name": "stdout",
     "output_type": "stream",
     "text": [
      "Back-translation completed.\n",
      "Augmented rows: 21/30\n",
      "Starting back-translation for 3 texts...\n"
     ]
    },
    {
     "name": "stdout",
     "output_type": "stream",
     "text": [
      "Back-translation completed.\n",
      "Augmented rows: 24/30\n",
      "Starting back-translation for 3 texts...\n"
     ]
    },
    {
     "name": "stdout",
     "output_type": "stream",
     "text": [
      "Back-translation completed.\n",
      "Augmented rows: 27/30\n",
      "Starting back-translation for 3 texts...\n"
     ]
    },
    {
     "name": "stdout",
     "output_type": "stream",
     "text": [
      "Back-translation completed.\n",
      "Augmented rows: 30/30\n",
      "Class augmentation completed. Total rows: 30.\n",
      "Augmenting class with 3 rows to reach 30 rows...\n",
      "Starting back-translation for 3 texts...\n"
     ]
    },
    {
     "name": "stdout",
     "output_type": "stream",
     "text": [
      "Back-translation completed.\n",
      "Augmented rows: 6/30\n",
      "Starting back-translation for 3 texts...\n"
     ]
    },
    {
     "name": "stdout",
     "output_type": "stream",
     "text": [
      "Back-translation completed.\n",
      "Augmented rows: 9/30\n",
      "Starting back-translation for 3 texts...\n"
     ]
    },
    {
     "name": "stdout",
     "output_type": "stream",
     "text": [
      "Back-translation completed.\n",
      "Augmented rows: 12/30\n",
      "Starting back-translation for 3 texts...\n"
     ]
    },
    {
     "name": "stdout",
     "output_type": "stream",
     "text": [
      "Back-translation completed.\n",
      "Augmented rows: 15/30\n",
      "Starting back-translation for 3 texts...\n"
     ]
    },
    {
     "name": "stdout",
     "output_type": "stream",
     "text": [
      "Back-translation completed.\n",
      "Augmented rows: 18/30\n",
      "Starting back-translation for 3 texts...\n"
     ]
    },
    {
     "name": "stdout",
     "output_type": "stream",
     "text": [
      "Back-translation completed.\n",
      "Augmented rows: 21/30\n",
      "Starting back-translation for 3 texts...\n"
     ]
    },
    {
     "name": "stdout",
     "output_type": "stream",
     "text": [
      "Back-translation completed.\n",
      "Augmented rows: 24/30\n",
      "Starting back-translation for 3 texts...\n"
     ]
    },
    {
     "name": "stdout",
     "output_type": "stream",
     "text": [
      "Back-translation completed.\n",
      "Augmented rows: 27/30\n",
      "Starting back-translation for 3 texts...\n"
     ]
    },
    {
     "name": "stdout",
     "output_type": "stream",
     "text": [
      "Back-translation completed.\n",
      "Augmented rows: 30/30\n",
      "Class augmentation completed. Total rows: 30.\n",
      "Augmenting class with 3 rows to reach 30 rows...\n",
      "Starting back-translation for 3 texts...\n"
     ]
    },
    {
     "name": "stdout",
     "output_type": "stream",
     "text": [
      "Back-translation completed.\n",
      "Augmented rows: 6/30\n",
      "Starting back-translation for 3 texts...\n"
     ]
    },
    {
     "name": "stdout",
     "output_type": "stream",
     "text": [
      "Back-translation completed.\n",
      "Augmented rows: 9/30\n",
      "Starting back-translation for 3 texts...\n"
     ]
    },
    {
     "name": "stdout",
     "output_type": "stream",
     "text": [
      "Back-translation completed.\n",
      "Augmented rows: 12/30\n",
      "Starting back-translation for 3 texts...\n"
     ]
    },
    {
     "name": "stdout",
     "output_type": "stream",
     "text": [
      "Back-translation completed.\n",
      "Augmented rows: 15/30\n",
      "Starting back-translation for 3 texts...\n"
     ]
    },
    {
     "name": "stdout",
     "output_type": "stream",
     "text": [
      "Back-translation completed.\n",
      "Augmented rows: 18/30\n",
      "Starting back-translation for 3 texts...\n"
     ]
    },
    {
     "name": "stdout",
     "output_type": "stream",
     "text": [
      "Back-translation completed.\n",
      "Augmented rows: 21/30\n",
      "Starting back-translation for 3 texts...\n"
     ]
    },
    {
     "name": "stdout",
     "output_type": "stream",
     "text": [
      "Back-translation completed.\n",
      "Augmented rows: 24/30\n",
      "Starting back-translation for 3 texts...\n"
     ]
    },
    {
     "name": "stdout",
     "output_type": "stream",
     "text": [
      "Back-translation completed.\n",
      "Augmented rows: 27/30\n",
      "Starting back-translation for 3 texts...\n"
     ]
    },
    {
     "name": "stdout",
     "output_type": "stream",
     "text": [
      "Back-translation completed.\n",
      "Augmented rows: 30/30\n",
      "Class augmentation completed. Total rows: 30.\n",
      "Augmenting class with 3 rows to reach 30 rows...\n",
      "Starting back-translation for 3 texts...\n"
     ]
    },
    {
     "name": "stdout",
     "output_type": "stream",
     "text": [
      "Back-translation completed.\n",
      "Augmented rows: 6/30\n",
      "Starting back-translation for 3 texts...\n"
     ]
    },
    {
     "name": "stdout",
     "output_type": "stream",
     "text": [
      "Back-translation completed.\n",
      "Augmented rows: 9/30\n",
      "Starting back-translation for 3 texts...\n"
     ]
    },
    {
     "name": "stdout",
     "output_type": "stream",
     "text": [
      "Back-translation completed.\n",
      "Augmented rows: 12/30\n",
      "Starting back-translation for 3 texts...\n"
     ]
    },
    {
     "name": "stdout",
     "output_type": "stream",
     "text": [
      "Back-translation completed.\n",
      "Augmented rows: 15/30\n",
      "Starting back-translation for 3 texts...\n"
     ]
    },
    {
     "name": "stdout",
     "output_type": "stream",
     "text": [
      "Back-translation completed.\n",
      "Augmented rows: 18/30\n",
      "Starting back-translation for 3 texts...\n"
     ]
    },
    {
     "name": "stdout",
     "output_type": "stream",
     "text": [
      "Back-translation completed.\n",
      "Augmented rows: 21/30\n",
      "Starting back-translation for 3 texts...\n"
     ]
    },
    {
     "name": "stdout",
     "output_type": "stream",
     "text": [
      "Back-translation completed.\n",
      "Augmented rows: 24/30\n",
      "Starting back-translation for 3 texts...\n"
     ]
    },
    {
     "name": "stdout",
     "output_type": "stream",
     "text": [
      "Back-translation completed.\n",
      "Augmented rows: 27/30\n",
      "Starting back-translation for 3 texts...\n"
     ]
    },
    {
     "name": "stdout",
     "output_type": "stream",
     "text": [
      "Back-translation completed.\n",
      "Augmented rows: 30/30\n",
      "Class augmentation completed. Total rows: 30.\n",
      "Augmenting class with 3 rows to reach 30 rows...\n",
      "Starting back-translation for 3 texts...\n"
     ]
    },
    {
     "name": "stdout",
     "output_type": "stream",
     "text": [
      "Back-translation completed.\n",
      "Augmented rows: 6/30\n",
      "Starting back-translation for 3 texts...\n"
     ]
    },
    {
     "name": "stdout",
     "output_type": "stream",
     "text": [
      "Back-translation completed.\n",
      "Augmented rows: 9/30\n",
      "Starting back-translation for 3 texts...\n"
     ]
    },
    {
     "name": "stdout",
     "output_type": "stream",
     "text": [
      "Back-translation completed.\n",
      "Augmented rows: 12/30\n",
      "Starting back-translation for 3 texts...\n"
     ]
    },
    {
     "name": "stdout",
     "output_type": "stream",
     "text": [
      "Back-translation completed.\n",
      "Augmented rows: 15/30\n",
      "Starting back-translation for 3 texts...\n"
     ]
    },
    {
     "name": "stdout",
     "output_type": "stream",
     "text": [
      "Back-translation completed.\n",
      "Augmented rows: 18/30\n",
      "Starting back-translation for 3 texts...\n"
     ]
    },
    {
     "name": "stdout",
     "output_type": "stream",
     "text": [
      "Back-translation completed.\n",
      "Augmented rows: 21/30\n",
      "Starting back-translation for 3 texts...\n"
     ]
    },
    {
     "name": "stdout",
     "output_type": "stream",
     "text": [
      "Back-translation completed.\n",
      "Augmented rows: 24/30\n",
      "Starting back-translation for 3 texts...\n"
     ]
    },
    {
     "name": "stdout",
     "output_type": "stream",
     "text": [
      "Back-translation completed.\n",
      "Augmented rows: 27/30\n",
      "Starting back-translation for 3 texts...\n"
     ]
    },
    {
     "name": "stdout",
     "output_type": "stream",
     "text": [
      "Back-translation completed.\n",
      "Augmented rows: 30/30\n",
      "Class augmentation completed. Total rows: 30.\n",
      "Augmenting class with 3 rows to reach 30 rows...\n",
      "Starting back-translation for 3 texts...\n"
     ]
    },
    {
     "name": "stdout",
     "output_type": "stream",
     "text": [
      "Back-translation completed.\n",
      "Augmented rows: 6/30\n",
      "Starting back-translation for 3 texts...\n"
     ]
    },
    {
     "name": "stdout",
     "output_type": "stream",
     "text": [
      "Back-translation completed.\n",
      "Augmented rows: 9/30\n",
      "Starting back-translation for 3 texts...\n"
     ]
    },
    {
     "name": "stdout",
     "output_type": "stream",
     "text": [
      "Back-translation completed.\n",
      "Augmented rows: 12/30\n",
      "Starting back-translation for 3 texts...\n"
     ]
    },
    {
     "name": "stdout",
     "output_type": "stream",
     "text": [
      "Back-translation completed.\n",
      "Augmented rows: 15/30\n",
      "Starting back-translation for 3 texts...\n"
     ]
    },
    {
     "name": "stdout",
     "output_type": "stream",
     "text": [
      "Back-translation completed.\n",
      "Augmented rows: 18/30\n",
      "Starting back-translation for 3 texts...\n"
     ]
    },
    {
     "name": "stdout",
     "output_type": "stream",
     "text": [
      "Back-translation completed.\n",
      "Augmented rows: 21/30\n",
      "Starting back-translation for 3 texts...\n"
     ]
    },
    {
     "name": "stdout",
     "output_type": "stream",
     "text": [
      "Back-translation completed.\n",
      "Augmented rows: 24/30\n",
      "Starting back-translation for 3 texts...\n"
     ]
    },
    {
     "name": "stdout",
     "output_type": "stream",
     "text": [
      "Back-translation completed.\n",
      "Augmented rows: 27/30\n",
      "Starting back-translation for 3 texts...\n"
     ]
    },
    {
     "name": "stdout",
     "output_type": "stream",
     "text": [
      "Back-translation completed.\n",
      "Augmented rows: 30/30\n",
      "Class augmentation completed. Total rows: 30.\n",
      "Augmenting class with 3 rows to reach 30 rows...\n",
      "Starting back-translation for 3 texts...\n"
     ]
    },
    {
     "name": "stdout",
     "output_type": "stream",
     "text": [
      "Back-translation completed.\n",
      "Augmented rows: 6/30\n",
      "Starting back-translation for 3 texts...\n"
     ]
    },
    {
     "name": "stdout",
     "output_type": "stream",
     "text": [
      "Back-translation completed.\n",
      "Augmented rows: 9/30\n",
      "Starting back-translation for 3 texts...\n"
     ]
    },
    {
     "name": "stdout",
     "output_type": "stream",
     "text": [
      "Back-translation completed.\n",
      "Augmented rows: 12/30\n",
      "Starting back-translation for 3 texts...\n"
     ]
    },
    {
     "name": "stdout",
     "output_type": "stream",
     "text": [
      "Back-translation completed.\n",
      "Augmented rows: 15/30\n",
      "Starting back-translation for 3 texts...\n"
     ]
    },
    {
     "name": "stdout",
     "output_type": "stream",
     "text": [
      "Back-translation completed.\n",
      "Augmented rows: 18/30\n",
      "Starting back-translation for 3 texts...\n"
     ]
    },
    {
     "name": "stdout",
     "output_type": "stream",
     "text": [
      "Back-translation completed.\n",
      "Augmented rows: 21/30\n",
      "Starting back-translation for 3 texts...\n"
     ]
    },
    {
     "name": "stdout",
     "output_type": "stream",
     "text": [
      "Back-translation completed.\n",
      "Augmented rows: 24/30\n",
      "Starting back-translation for 3 texts...\n"
     ]
    },
    {
     "name": "stdout",
     "output_type": "stream",
     "text": [
      "Back-translation completed.\n",
      "Augmented rows: 27/30\n",
      "Starting back-translation for 3 texts...\n"
     ]
    },
    {
     "name": "stdout",
     "output_type": "stream",
     "text": [
      "Back-translation completed.\n",
      "Augmented rows: 30/30\n",
      "Class augmentation completed. Total rows: 30.\n",
      "Augmenting class with 3 rows to reach 30 rows...\n",
      "Starting back-translation for 3 texts...\n"
     ]
    },
    {
     "name": "stdout",
     "output_type": "stream",
     "text": [
      "Back-translation completed.\n",
      "Augmented rows: 6/30\n",
      "Starting back-translation for 3 texts...\n"
     ]
    },
    {
     "name": "stdout",
     "output_type": "stream",
     "text": [
      "Back-translation completed.\n",
      "Augmented rows: 9/30\n",
      "Starting back-translation for 3 texts...\n"
     ]
    },
    {
     "name": "stdout",
     "output_type": "stream",
     "text": [
      "Back-translation completed.\n",
      "Augmented rows: 12/30\n",
      "Starting back-translation for 3 texts...\n"
     ]
    },
    {
     "name": "stdout",
     "output_type": "stream",
     "text": [
      "Back-translation completed.\n",
      "Augmented rows: 15/30\n",
      "Starting back-translation for 3 texts...\n"
     ]
    },
    {
     "name": "stdout",
     "output_type": "stream",
     "text": [
      "Back-translation completed.\n",
      "Augmented rows: 18/30\n",
      "Starting back-translation for 3 texts...\n"
     ]
    },
    {
     "name": "stdout",
     "output_type": "stream",
     "text": [
      "Back-translation completed.\n",
      "Augmented rows: 21/30\n",
      "Starting back-translation for 3 texts...\n"
     ]
    },
    {
     "name": "stdout",
     "output_type": "stream",
     "text": [
      "Back-translation completed.\n",
      "Augmented rows: 24/30\n",
      "Starting back-translation for 3 texts...\n"
     ]
    },
    {
     "name": "stdout",
     "output_type": "stream",
     "text": [
      "Back-translation completed.\n",
      "Augmented rows: 27/30\n",
      "Starting back-translation for 3 texts...\n"
     ]
    },
    {
     "name": "stdout",
     "output_type": "stream",
     "text": [
      "Back-translation completed.\n",
      "Augmented rows: 30/30\n",
      "Class augmentation completed. Total rows: 30.\n",
      "Augmenting class with 3 rows to reach 30 rows...\n",
      "Starting back-translation for 3 texts...\n"
     ]
    },
    {
     "name": "stdout",
     "output_type": "stream",
     "text": [
      "Back-translation completed.\n",
      "Augmented rows: 6/30\n",
      "Starting back-translation for 3 texts...\n"
     ]
    },
    {
     "name": "stdout",
     "output_type": "stream",
     "text": [
      "Back-translation completed.\n",
      "Augmented rows: 9/30\n",
      "Starting back-translation for 3 texts...\n"
     ]
    },
    {
     "name": "stdout",
     "output_type": "stream",
     "text": [
      "Back-translation completed.\n",
      "Augmented rows: 12/30\n",
      "Starting back-translation for 3 texts...\n"
     ]
    },
    {
     "name": "stdout",
     "output_type": "stream",
     "text": [
      "Back-translation completed.\n",
      "Augmented rows: 15/30\n",
      "Starting back-translation for 3 texts...\n"
     ]
    },
    {
     "name": "stdout",
     "output_type": "stream",
     "text": [
      "Back-translation completed.\n",
      "Augmented rows: 18/30\n",
      "Starting back-translation for 3 texts...\n"
     ]
    },
    {
     "name": "stdout",
     "output_type": "stream",
     "text": [
      "Back-translation completed.\n",
      "Augmented rows: 21/30\n",
      "Starting back-translation for 3 texts...\n"
     ]
    },
    {
     "name": "stdout",
     "output_type": "stream",
     "text": [
      "Back-translation completed.\n",
      "Augmented rows: 24/30\n",
      "Starting back-translation for 3 texts...\n"
     ]
    },
    {
     "name": "stdout",
     "output_type": "stream",
     "text": [
      "Back-translation completed.\n",
      "Augmented rows: 27/30\n",
      "Starting back-translation for 3 texts...\n"
     ]
    },
    {
     "name": "stdout",
     "output_type": "stream",
     "text": [
      "Back-translation completed.\n",
      "Augmented rows: 30/30\n",
      "Class augmentation completed. Total rows: 30.\n",
      "Augmenting class with 3 rows to reach 30 rows...\n",
      "Starting back-translation for 3 texts...\n"
     ]
    },
    {
     "name": "stdout",
     "output_type": "stream",
     "text": [
      "Back-translation completed.\n",
      "Augmented rows: 6/30\n",
      "Starting back-translation for 3 texts...\n"
     ]
    },
    {
     "name": "stdout",
     "output_type": "stream",
     "text": [
      "Back-translation completed.\n",
      "Augmented rows: 9/30\n",
      "Starting back-translation for 3 texts...\n"
     ]
    },
    {
     "name": "stdout",
     "output_type": "stream",
     "text": [
      "Back-translation completed.\n",
      "Augmented rows: 12/30\n",
      "Starting back-translation for 3 texts...\n"
     ]
    },
    {
     "name": "stdout",
     "output_type": "stream",
     "text": [
      "Back-translation completed.\n",
      "Augmented rows: 15/30\n",
      "Starting back-translation for 3 texts...\n"
     ]
    },
    {
     "name": "stdout",
     "output_type": "stream",
     "text": [
      "Back-translation completed.\n",
      "Augmented rows: 18/30\n",
      "Starting back-translation for 3 texts...\n"
     ]
    },
    {
     "name": "stdout",
     "output_type": "stream",
     "text": [
      "Back-translation completed.\n",
      "Augmented rows: 21/30\n",
      "Starting back-translation for 3 texts...\n"
     ]
    },
    {
     "name": "stdout",
     "output_type": "stream",
     "text": [
      "Back-translation completed.\n",
      "Augmented rows: 24/30\n",
      "Starting back-translation for 3 texts...\n"
     ]
    },
    {
     "name": "stdout",
     "output_type": "stream",
     "text": [
      "Back-translation completed.\n",
      "Augmented rows: 27/30\n",
      "Starting back-translation for 3 texts...\n"
     ]
    },
    {
     "name": "stdout",
     "output_type": "stream",
     "text": [
      "Back-translation completed.\n",
      "Augmented rows: 30/30\n",
      "Class augmentation completed. Total rows: 30.\n",
      "Augmenting class with 3 rows to reach 30 rows...\n",
      "Starting back-translation for 3 texts...\n"
     ]
    },
    {
     "name": "stdout",
     "output_type": "stream",
     "text": [
      "Back-translation completed.\n",
      "Augmented rows: 6/30\n",
      "Starting back-translation for 3 texts...\n"
     ]
    },
    {
     "name": "stdout",
     "output_type": "stream",
     "text": [
      "Back-translation completed.\n",
      "Augmented rows: 9/30\n",
      "Starting back-translation for 3 texts...\n"
     ]
    },
    {
     "name": "stdout",
     "output_type": "stream",
     "text": [
      "Back-translation completed.\n",
      "Augmented rows: 12/30\n",
      "Starting back-translation for 3 texts...\n"
     ]
    },
    {
     "name": "stdout",
     "output_type": "stream",
     "text": [
      "Back-translation completed.\n",
      "Augmented rows: 15/30\n",
      "Starting back-translation for 3 texts...\n"
     ]
    },
    {
     "name": "stdout",
     "output_type": "stream",
     "text": [
      "Back-translation completed.\n",
      "Augmented rows: 18/30\n",
      "Starting back-translation for 3 texts...\n"
     ]
    },
    {
     "name": "stdout",
     "output_type": "stream",
     "text": [
      "Back-translation completed.\n",
      "Augmented rows: 21/30\n",
      "Starting back-translation for 3 texts...\n"
     ]
    },
    {
     "name": "stdout",
     "output_type": "stream",
     "text": [
      "Back-translation completed.\n",
      "Augmented rows: 24/30\n",
      "Starting back-translation for 3 texts...\n"
     ]
    },
    {
     "name": "stdout",
     "output_type": "stream",
     "text": [
      "Back-translation completed.\n",
      "Augmented rows: 27/30\n",
      "Starting back-translation for 3 texts...\n"
     ]
    },
    {
     "name": "stdout",
     "output_type": "stream",
     "text": [
      "Back-translation completed.\n",
      "Augmented rows: 30/30\n",
      "Class augmentation completed. Total rows: 30.\n",
      "Augmenting class with 3 rows to reach 30 rows...\n",
      "Starting back-translation for 3 texts...\n"
     ]
    },
    {
     "name": "stdout",
     "output_type": "stream",
     "text": [
      "Back-translation completed.\n",
      "Augmented rows: 6/30\n",
      "Starting back-translation for 3 texts...\n"
     ]
    },
    {
     "name": "stdout",
     "output_type": "stream",
     "text": [
      "Back-translation completed.\n",
      "Augmented rows: 9/30\n",
      "Starting back-translation for 3 texts...\n"
     ]
    },
    {
     "name": "stdout",
     "output_type": "stream",
     "text": [
      "Back-translation completed.\n",
      "Augmented rows: 12/30\n",
      "Starting back-translation for 3 texts...\n"
     ]
    },
    {
     "name": "stdout",
     "output_type": "stream",
     "text": [
      "Back-translation completed.\n",
      "Augmented rows: 15/30\n",
      "Starting back-translation for 3 texts...\n"
     ]
    },
    {
     "name": "stdout",
     "output_type": "stream",
     "text": [
      "Back-translation completed.\n",
      "Augmented rows: 18/30\n",
      "Starting back-translation for 3 texts...\n"
     ]
    },
    {
     "name": "stdout",
     "output_type": "stream",
     "text": [
      "Back-translation completed.\n",
      "Augmented rows: 21/30\n",
      "Starting back-translation for 3 texts...\n"
     ]
    },
    {
     "name": "stdout",
     "output_type": "stream",
     "text": [
      "Back-translation completed.\n",
      "Augmented rows: 24/30\n",
      "Starting back-translation for 3 texts...\n"
     ]
    },
    {
     "name": "stdout",
     "output_type": "stream",
     "text": [
      "Back-translation completed.\n",
      "Augmented rows: 27/30\n",
      "Starting back-translation for 3 texts...\n"
     ]
    },
    {
     "name": "stdout",
     "output_type": "stream",
     "text": [
      "Back-translation completed.\n",
      "Augmented rows: 30/30\n",
      "Class augmentation completed. Total rows: 30.\n",
      "Augmenting class with 3 rows to reach 30 rows...\n",
      "Starting back-translation for 3 texts...\n"
     ]
    },
    {
     "name": "stdout",
     "output_type": "stream",
     "text": [
      "Back-translation completed.\n",
      "Augmented rows: 6/30\n",
      "Starting back-translation for 3 texts...\n"
     ]
    },
    {
     "name": "stdout",
     "output_type": "stream",
     "text": [
      "Back-translation completed.\n",
      "Augmented rows: 9/30\n",
      "Starting back-translation for 3 texts...\n"
     ]
    },
    {
     "name": "stdout",
     "output_type": "stream",
     "text": [
      "Back-translation completed.\n",
      "Augmented rows: 12/30\n",
      "Starting back-translation for 3 texts...\n"
     ]
    },
    {
     "name": "stdout",
     "output_type": "stream",
     "text": [
      "Back-translation completed.\n",
      "Augmented rows: 15/30\n",
      "Starting back-translation for 3 texts...\n"
     ]
    },
    {
     "name": "stdout",
     "output_type": "stream",
     "text": [
      "Back-translation completed.\n",
      "Augmented rows: 18/30\n",
      "Starting back-translation for 3 texts...\n"
     ]
    },
    {
     "name": "stdout",
     "output_type": "stream",
     "text": [
      "Back-translation completed.\n",
      "Augmented rows: 21/30\n",
      "Starting back-translation for 3 texts...\n"
     ]
    },
    {
     "name": "stdout",
     "output_type": "stream",
     "text": [
      "Back-translation completed.\n",
      "Augmented rows: 24/30\n",
      "Starting back-translation for 3 texts...\n"
     ]
    },
    {
     "name": "stdout",
     "output_type": "stream",
     "text": [
      "Back-translation completed.\n",
      "Augmented rows: 27/30\n",
      "Starting back-translation for 3 texts...\n"
     ]
    },
    {
     "name": "stdout",
     "output_type": "stream",
     "text": [
      "Back-translation completed.\n",
      "Augmented rows: 30/30\n",
      "Class augmentation completed. Total rows: 30.\n",
      "Augmenting class with 3 rows to reach 30 rows...\n",
      "Starting back-translation for 3 texts...\n"
     ]
    },
    {
     "name": "stdout",
     "output_type": "stream",
     "text": [
      "Back-translation completed.\n",
      "Augmented rows: 6/30\n",
      "Starting back-translation for 3 texts...\n"
     ]
    },
    {
     "name": "stdout",
     "output_type": "stream",
     "text": [
      "Back-translation completed.\n",
      "Augmented rows: 9/30\n",
      "Starting back-translation for 3 texts...\n"
     ]
    },
    {
     "name": "stdout",
     "output_type": "stream",
     "text": [
      "Back-translation completed.\n",
      "Augmented rows: 12/30\n",
      "Starting back-translation for 3 texts...\n"
     ]
    },
    {
     "name": "stdout",
     "output_type": "stream",
     "text": [
      "Back-translation completed.\n",
      "Augmented rows: 15/30\n",
      "Starting back-translation for 3 texts...\n"
     ]
    },
    {
     "name": "stdout",
     "output_type": "stream",
     "text": [
      "Back-translation completed.\n",
      "Augmented rows: 18/30\n",
      "Starting back-translation for 3 texts...\n"
     ]
    },
    {
     "name": "stdout",
     "output_type": "stream",
     "text": [
      "Back-translation completed.\n",
      "Augmented rows: 21/30\n",
      "Starting back-translation for 3 texts...\n"
     ]
    },
    {
     "name": "stdout",
     "output_type": "stream",
     "text": [
      "Back-translation completed.\n",
      "Augmented rows: 24/30\n",
      "Starting back-translation for 3 texts...\n"
     ]
    },
    {
     "name": "stdout",
     "output_type": "stream",
     "text": [
      "Back-translation completed.\n",
      "Augmented rows: 27/30\n",
      "Starting back-translation for 3 texts...\n"
     ]
    },
    {
     "name": "stdout",
     "output_type": "stream",
     "text": [
      "Back-translation completed.\n",
      "Augmented rows: 30/30\n",
      "Class augmentation completed. Total rows: 30.\n",
      "Augmenting class with 3 rows to reach 30 rows...\n",
      "Starting back-translation for 3 texts...\n"
     ]
    },
    {
     "name": "stdout",
     "output_type": "stream",
     "text": [
      "Back-translation completed.\n",
      "Augmented rows: 6/30\n",
      "Starting back-translation for 3 texts...\n"
     ]
    },
    {
     "name": "stdout",
     "output_type": "stream",
     "text": [
      "Back-translation completed.\n",
      "Augmented rows: 9/30\n",
      "Starting back-translation for 3 texts...\n"
     ]
    },
    {
     "name": "stdout",
     "output_type": "stream",
     "text": [
      "Back-translation completed.\n",
      "Augmented rows: 12/30\n",
      "Starting back-translation for 3 texts...\n"
     ]
    },
    {
     "name": "stdout",
     "output_type": "stream",
     "text": [
      "Back-translation completed.\n",
      "Augmented rows: 15/30\n",
      "Starting back-translation for 3 texts...\n"
     ]
    },
    {
     "name": "stdout",
     "output_type": "stream",
     "text": [
      "Back-translation completed.\n",
      "Augmented rows: 18/30\n",
      "Starting back-translation for 3 texts...\n"
     ]
    },
    {
     "name": "stdout",
     "output_type": "stream",
     "text": [
      "Back-translation completed.\n",
      "Augmented rows: 21/30\n",
      "Starting back-translation for 3 texts...\n"
     ]
    },
    {
     "name": "stdout",
     "output_type": "stream",
     "text": [
      "Back-translation completed.\n",
      "Augmented rows: 24/30\n",
      "Starting back-translation for 3 texts...\n"
     ]
    },
    {
     "name": "stdout",
     "output_type": "stream",
     "text": [
      "Back-translation completed.\n",
      "Augmented rows: 27/30\n",
      "Starting back-translation for 3 texts...\n"
     ]
    },
    {
     "name": "stdout",
     "output_type": "stream",
     "text": [
      "Back-translation completed.\n",
      "Augmented rows: 30/30\n",
      "Class augmentation completed. Total rows: 30.\n",
      "Augmenting class with 3 rows to reach 30 rows...\n",
      "Starting back-translation for 3 texts...\n"
     ]
    },
    {
     "name": "stdout",
     "output_type": "stream",
     "text": [
      "Back-translation completed.\n",
      "Augmented rows: 6/30\n",
      "Starting back-translation for 3 texts...\n"
     ]
    },
    {
     "name": "stdout",
     "output_type": "stream",
     "text": [
      "Back-translation completed.\n",
      "Augmented rows: 9/30\n",
      "Starting back-translation for 3 texts...\n"
     ]
    },
    {
     "name": "stdout",
     "output_type": "stream",
     "text": [
      "Back-translation completed.\n",
      "Augmented rows: 12/30\n",
      "Starting back-translation for 3 texts...\n"
     ]
    },
    {
     "name": "stdout",
     "output_type": "stream",
     "text": [
      "Back-translation completed.\n",
      "Augmented rows: 15/30\n",
      "Starting back-translation for 3 texts...\n"
     ]
    },
    {
     "name": "stdout",
     "output_type": "stream",
     "text": [
      "Back-translation completed.\n",
      "Augmented rows: 18/30\n",
      "Starting back-translation for 3 texts...\n"
     ]
    },
    {
     "name": "stdout",
     "output_type": "stream",
     "text": [
      "Back-translation completed.\n",
      "Augmented rows: 21/30\n",
      "Starting back-translation for 3 texts...\n"
     ]
    },
    {
     "name": "stdout",
     "output_type": "stream",
     "text": [
      "Back-translation completed.\n",
      "Augmented rows: 24/30\n",
      "Starting back-translation for 3 texts...\n"
     ]
    },
    {
     "name": "stdout",
     "output_type": "stream",
     "text": [
      "Back-translation completed.\n",
      "Augmented rows: 27/30\n",
      "Starting back-translation for 3 texts...\n"
     ]
    },
    {
     "name": "stdout",
     "output_type": "stream",
     "text": [
      "Back-translation completed.\n",
      "Augmented rows: 30/30\n",
      "Class augmentation completed. Total rows: 30.\n",
      "Augmenting class with 3 rows to reach 30 rows...\n",
      "Starting back-translation for 3 texts...\n"
     ]
    },
    {
     "name": "stdout",
     "output_type": "stream",
     "text": [
      "Back-translation completed.\n",
      "Augmented rows: 6/30\n",
      "Starting back-translation for 3 texts...\n"
     ]
    },
    {
     "name": "stdout",
     "output_type": "stream",
     "text": [
      "Back-translation completed.\n",
      "Augmented rows: 9/30\n",
      "Starting back-translation for 3 texts...\n"
     ]
    },
    {
     "name": "stdout",
     "output_type": "stream",
     "text": [
      "Back-translation completed.\n",
      "Augmented rows: 12/30\n",
      "Starting back-translation for 3 texts...\n"
     ]
    },
    {
     "name": "stdout",
     "output_type": "stream",
     "text": [
      "Back-translation completed.\n",
      "Augmented rows: 15/30\n",
      "Starting back-translation for 3 texts...\n"
     ]
    },
    {
     "name": "stdout",
     "output_type": "stream",
     "text": [
      "Back-translation completed.\n",
      "Augmented rows: 18/30\n",
      "Starting back-translation for 3 texts...\n"
     ]
    },
    {
     "name": "stdout",
     "output_type": "stream",
     "text": [
      "Back-translation completed.\n",
      "Augmented rows: 21/30\n",
      "Starting back-translation for 3 texts...\n"
     ]
    },
    {
     "name": "stdout",
     "output_type": "stream",
     "text": [
      "Back-translation completed.\n",
      "Augmented rows: 24/30\n",
      "Starting back-translation for 3 texts...\n"
     ]
    },
    {
     "name": "stdout",
     "output_type": "stream",
     "text": [
      "Back-translation completed.\n",
      "Augmented rows: 27/30\n",
      "Starting back-translation for 3 texts...\n"
     ]
    },
    {
     "name": "stdout",
     "output_type": "stream",
     "text": [
      "Back-translation completed.\n",
      "Augmented rows: 30/30\n",
      "Class augmentation completed. Total rows: 30.\n",
      "Augmenting class with 3 rows to reach 30 rows...\n",
      "Starting back-translation for 3 texts...\n"
     ]
    },
    {
     "name": "stdout",
     "output_type": "stream",
     "text": [
      "Back-translation completed.\n",
      "Augmented rows: 6/30\n",
      "Starting back-translation for 3 texts...\n"
     ]
    },
    {
     "name": "stdout",
     "output_type": "stream",
     "text": [
      "Back-translation completed.\n",
      "Augmented rows: 9/30\n",
      "Starting back-translation for 3 texts...\n"
     ]
    },
    {
     "name": "stdout",
     "output_type": "stream",
     "text": [
      "Back-translation completed.\n",
      "Augmented rows: 12/30\n",
      "Starting back-translation for 3 texts...\n"
     ]
    },
    {
     "name": "stdout",
     "output_type": "stream",
     "text": [
      "Back-translation completed.\n",
      "Augmented rows: 15/30\n",
      "Starting back-translation for 3 texts...\n"
     ]
    },
    {
     "name": "stdout",
     "output_type": "stream",
     "text": [
      "Back-translation completed.\n",
      "Augmented rows: 18/30\n",
      "Starting back-translation for 3 texts...\n"
     ]
    },
    {
     "name": "stdout",
     "output_type": "stream",
     "text": [
      "Back-translation completed.\n",
      "Augmented rows: 21/30\n",
      "Starting back-translation for 3 texts...\n"
     ]
    },
    {
     "name": "stdout",
     "output_type": "stream",
     "text": [
      "Back-translation completed.\n",
      "Augmented rows: 24/30\n",
      "Starting back-translation for 3 texts...\n"
     ]
    },
    {
     "name": "stdout",
     "output_type": "stream",
     "text": [
      "Back-translation completed.\n",
      "Augmented rows: 27/30\n",
      "Starting back-translation for 3 texts...\n"
     ]
    },
    {
     "name": "stdout",
     "output_type": "stream",
     "text": [
      "Back-translation completed.\n",
      "Augmented rows: 30/30\n",
      "Class augmentation completed. Total rows: 30.\n",
      "Augmenting class with 3 rows to reach 30 rows...\n",
      "Starting back-translation for 3 texts...\n"
     ]
    },
    {
     "name": "stdout",
     "output_type": "stream",
     "text": [
      "Back-translation completed.\n",
      "Augmented rows: 6/30\n",
      "Starting back-translation for 3 texts...\n"
     ]
    },
    {
     "name": "stdout",
     "output_type": "stream",
     "text": [
      "Back-translation completed.\n",
      "Augmented rows: 9/30\n",
      "Starting back-translation for 3 texts...\n"
     ]
    },
    {
     "name": "stdout",
     "output_type": "stream",
     "text": [
      "Back-translation completed.\n",
      "Augmented rows: 12/30\n",
      "Starting back-translation for 3 texts...\n"
     ]
    },
    {
     "name": "stdout",
     "output_type": "stream",
     "text": [
      "Back-translation completed.\n",
      "Augmented rows: 15/30\n",
      "Starting back-translation for 3 texts...\n"
     ]
    },
    {
     "name": "stdout",
     "output_type": "stream",
     "text": [
      "Back-translation completed.\n",
      "Augmented rows: 18/30\n",
      "Starting back-translation for 3 texts...\n"
     ]
    },
    {
     "name": "stdout",
     "output_type": "stream",
     "text": [
      "Back-translation completed.\n",
      "Augmented rows: 21/30\n",
      "Starting back-translation for 3 texts...\n"
     ]
    },
    {
     "name": "stdout",
     "output_type": "stream",
     "text": [
      "Back-translation completed.\n",
      "Augmented rows: 24/30\n",
      "Starting back-translation for 3 texts...\n"
     ]
    },
    {
     "name": "stdout",
     "output_type": "stream",
     "text": [
      "Back-translation completed.\n",
      "Augmented rows: 27/30\n",
      "Starting back-translation for 3 texts...\n"
     ]
    },
    {
     "name": "stdout",
     "output_type": "stream",
     "text": [
      "Back-translation completed.\n",
      "Augmented rows: 30/30\n",
      "Class augmentation completed. Total rows: 30.\n",
      "Augmenting class with 3 rows to reach 30 rows...\n",
      "Starting back-translation for 3 texts...\n"
     ]
    },
    {
     "name": "stdout",
     "output_type": "stream",
     "text": [
      "Back-translation completed.\n",
      "Augmented rows: 6/30\n",
      "Starting back-translation for 3 texts...\n"
     ]
    },
    {
     "name": "stdout",
     "output_type": "stream",
     "text": [
      "Back-translation completed.\n",
      "Augmented rows: 9/30\n",
      "Starting back-translation for 3 texts...\n"
     ]
    },
    {
     "name": "stdout",
     "output_type": "stream",
     "text": [
      "Back-translation completed.\n",
      "Augmented rows: 12/30\n",
      "Starting back-translation for 3 texts...\n"
     ]
    },
    {
     "name": "stdout",
     "output_type": "stream",
     "text": [
      "Back-translation completed.\n",
      "Augmented rows: 15/30\n",
      "Starting back-translation for 3 texts...\n"
     ]
    },
    {
     "name": "stdout",
     "output_type": "stream",
     "text": [
      "Back-translation completed.\n",
      "Augmented rows: 18/30\n",
      "Starting back-translation for 3 texts...\n"
     ]
    },
    {
     "name": "stdout",
     "output_type": "stream",
     "text": [
      "Back-translation completed.\n",
      "Augmented rows: 21/30\n",
      "Starting back-translation for 3 texts...\n"
     ]
    },
    {
     "name": "stdout",
     "output_type": "stream",
     "text": [
      "Back-translation completed.\n",
      "Augmented rows: 24/30\n",
      "Starting back-translation for 3 texts...\n"
     ]
    },
    {
     "name": "stdout",
     "output_type": "stream",
     "text": [
      "Back-translation completed.\n",
      "Augmented rows: 27/30\n",
      "Starting back-translation for 3 texts...\n"
     ]
    },
    {
     "name": "stdout",
     "output_type": "stream",
     "text": [
      "Back-translation completed.\n",
      "Augmented rows: 30/30\n",
      "Class augmentation completed. Total rows: 30.\n",
      "Augmenting class with 3 rows to reach 30 rows...\n",
      "Starting back-translation for 3 texts...\n"
     ]
    },
    {
     "name": "stdout",
     "output_type": "stream",
     "text": [
      "Back-translation completed.\n",
      "Augmented rows: 6/30\n",
      "Starting back-translation for 3 texts...\n"
     ]
    },
    {
     "name": "stdout",
     "output_type": "stream",
     "text": [
      "Back-translation completed.\n",
      "Augmented rows: 9/30\n",
      "Starting back-translation for 3 texts...\n"
     ]
    },
    {
     "name": "stdout",
     "output_type": "stream",
     "text": [
      "Back-translation completed.\n",
      "Augmented rows: 12/30\n",
      "Starting back-translation for 3 texts...\n"
     ]
    },
    {
     "name": "stdout",
     "output_type": "stream",
     "text": [
      "Back-translation completed.\n",
      "Augmented rows: 15/30\n",
      "Starting back-translation for 3 texts...\n"
     ]
    },
    {
     "name": "stdout",
     "output_type": "stream",
     "text": [
      "Back-translation completed.\n",
      "Augmented rows: 18/30\n",
      "Starting back-translation for 3 texts...\n"
     ]
    },
    {
     "name": "stdout",
     "output_type": "stream",
     "text": [
      "Back-translation completed.\n",
      "Augmented rows: 21/30\n",
      "Starting back-translation for 3 texts...\n"
     ]
    },
    {
     "name": "stdout",
     "output_type": "stream",
     "text": [
      "Back-translation completed.\n",
      "Augmented rows: 24/30\n",
      "Starting back-translation for 3 texts...\n"
     ]
    },
    {
     "name": "stdout",
     "output_type": "stream",
     "text": [
      "Back-translation completed.\n",
      "Augmented rows: 27/30\n",
      "Starting back-translation for 3 texts...\n"
     ]
    },
    {
     "name": "stdout",
     "output_type": "stream",
     "text": [
      "Back-translation completed.\n",
      "Augmented rows: 30/30\n",
      "Class augmentation completed. Total rows: 30.\n",
      "Augmenting class with 3 rows to reach 30 rows...\n",
      "Starting back-translation for 3 texts...\n"
     ]
    },
    {
     "name": "stdout",
     "output_type": "stream",
     "text": [
      "Back-translation completed.\n",
      "Augmented rows: 6/30\n",
      "Starting back-translation for 3 texts...\n"
     ]
    },
    {
     "name": "stdout",
     "output_type": "stream",
     "text": [
      "Back-translation completed.\n",
      "Augmented rows: 9/30\n",
      "Starting back-translation for 3 texts...\n"
     ]
    },
    {
     "name": "stdout",
     "output_type": "stream",
     "text": [
      "Back-translation completed.\n",
      "Augmented rows: 12/30\n",
      "Starting back-translation for 3 texts...\n"
     ]
    },
    {
     "name": "stdout",
     "output_type": "stream",
     "text": [
      "Back-translation completed.\n",
      "Augmented rows: 15/30\n",
      "Starting back-translation for 3 texts...\n"
     ]
    },
    {
     "name": "stdout",
     "output_type": "stream",
     "text": [
      "Back-translation completed.\n",
      "Augmented rows: 18/30\n",
      "Starting back-translation for 3 texts...\n"
     ]
    },
    {
     "name": "stdout",
     "output_type": "stream",
     "text": [
      "Back-translation completed.\n",
      "Augmented rows: 21/30\n",
      "Starting back-translation for 3 texts...\n"
     ]
    },
    {
     "name": "stdout",
     "output_type": "stream",
     "text": [
      "Back-translation completed.\n",
      "Augmented rows: 24/30\n",
      "Starting back-translation for 3 texts...\n"
     ]
    },
    {
     "name": "stdout",
     "output_type": "stream",
     "text": [
      "Back-translation completed.\n",
      "Augmented rows: 27/30\n",
      "Starting back-translation for 3 texts...\n"
     ]
    },
    {
     "name": "stdout",
     "output_type": "stream",
     "text": [
      "Back-translation completed.\n",
      "Augmented rows: 30/30\n",
      "Class augmentation completed. Total rows: 30.\n",
      "Augmenting class with 3 rows to reach 30 rows...\n",
      "Starting back-translation for 3 texts...\n"
     ]
    },
    {
     "name": "stdout",
     "output_type": "stream",
     "text": [
      "Back-translation completed.\n",
      "Augmented rows: 6/30\n",
      "Starting back-translation for 3 texts...\n"
     ]
    },
    {
     "name": "stdout",
     "output_type": "stream",
     "text": [
      "Back-translation completed.\n",
      "Augmented rows: 9/30\n",
      "Starting back-translation for 3 texts...\n"
     ]
    },
    {
     "name": "stdout",
     "output_type": "stream",
     "text": [
      "Back-translation completed.\n",
      "Augmented rows: 12/30\n",
      "Starting back-translation for 3 texts...\n"
     ]
    },
    {
     "name": "stdout",
     "output_type": "stream",
     "text": [
      "Back-translation completed.\n",
      "Augmented rows: 15/30\n",
      "Starting back-translation for 3 texts...\n"
     ]
    },
    {
     "name": "stdout",
     "output_type": "stream",
     "text": [
      "Back-translation completed.\n",
      "Augmented rows: 18/30\n",
      "Starting back-translation for 3 texts...\n"
     ]
    },
    {
     "name": "stdout",
     "output_type": "stream",
     "text": [
      "Back-translation completed.\n",
      "Augmented rows: 21/30\n",
      "Starting back-translation for 3 texts...\n"
     ]
    },
    {
     "name": "stdout",
     "output_type": "stream",
     "text": [
      "Back-translation completed.\n",
      "Augmented rows: 24/30\n",
      "Starting back-translation for 3 texts...\n"
     ]
    },
    {
     "name": "stdout",
     "output_type": "stream",
     "text": [
      "Back-translation completed.\n",
      "Augmented rows: 27/30\n",
      "Starting back-translation for 3 texts...\n"
     ]
    },
    {
     "name": "stdout",
     "output_type": "stream",
     "text": [
      "Back-translation completed.\n",
      "Augmented rows: 30/30\n",
      "Class augmentation completed. Total rows: 30.\n",
      "Augmenting class with 3 rows to reach 30 rows...\n",
      "Starting back-translation for 3 texts...\n"
     ]
    },
    {
     "name": "stdout",
     "output_type": "stream",
     "text": [
      "Back-translation completed.\n",
      "Augmented rows: 6/30\n",
      "Starting back-translation for 3 texts...\n"
     ]
    },
    {
     "name": "stdout",
     "output_type": "stream",
     "text": [
      "Back-translation completed.\n",
      "Augmented rows: 9/30\n",
      "Starting back-translation for 3 texts...\n"
     ]
    },
    {
     "name": "stdout",
     "output_type": "stream",
     "text": [
      "Back-translation completed.\n",
      "Augmented rows: 12/30\n",
      "Starting back-translation for 3 texts...\n"
     ]
    },
    {
     "name": "stdout",
     "output_type": "stream",
     "text": [
      "Back-translation completed.\n",
      "Augmented rows: 15/30\n",
      "Starting back-translation for 3 texts...\n"
     ]
    },
    {
     "name": "stdout",
     "output_type": "stream",
     "text": [
      "Back-translation completed.\n",
      "Augmented rows: 18/30\n",
      "Starting back-translation for 3 texts...\n"
     ]
    },
    {
     "name": "stdout",
     "output_type": "stream",
     "text": [
      "Back-translation completed.\n",
      "Augmented rows: 21/30\n",
      "Starting back-translation for 3 texts...\n"
     ]
    },
    {
     "name": "stdout",
     "output_type": "stream",
     "text": [
      "Back-translation completed.\n",
      "Augmented rows: 24/30\n",
      "Starting back-translation for 3 texts...\n"
     ]
    },
    {
     "name": "stdout",
     "output_type": "stream",
     "text": [
      "Back-translation completed.\n",
      "Augmented rows: 27/30\n",
      "Starting back-translation for 3 texts...\n"
     ]
    },
    {
     "name": "stdout",
     "output_type": "stream",
     "text": [
      "Back-translation completed.\n",
      "Augmented rows: 30/30\n",
      "Class augmentation completed. Total rows: 30.\n",
      "Augmenting class with 3 rows to reach 30 rows...\n",
      "Starting back-translation for 3 texts...\n"
     ]
    },
    {
     "name": "stdout",
     "output_type": "stream",
     "text": [
      "Back-translation completed.\n",
      "Augmented rows: 6/30\n",
      "Starting back-translation for 3 texts...\n"
     ]
    },
    {
     "name": "stdout",
     "output_type": "stream",
     "text": [
      "Back-translation completed.\n",
      "Augmented rows: 9/30\n",
      "Starting back-translation for 3 texts...\n"
     ]
    },
    {
     "name": "stdout",
     "output_type": "stream",
     "text": [
      "Back-translation completed.\n",
      "Augmented rows: 12/30\n",
      "Starting back-translation for 3 texts...\n"
     ]
    },
    {
     "name": "stdout",
     "output_type": "stream",
     "text": [
      "Back-translation completed.\n",
      "Augmented rows: 15/30\n",
      "Starting back-translation for 3 texts...\n"
     ]
    },
    {
     "name": "stdout",
     "output_type": "stream",
     "text": [
      "Back-translation completed.\n",
      "Augmented rows: 18/30\n",
      "Starting back-translation for 3 texts...\n"
     ]
    },
    {
     "name": "stdout",
     "output_type": "stream",
     "text": [
      "Back-translation completed.\n",
      "Augmented rows: 21/30\n",
      "Starting back-translation for 3 texts...\n"
     ]
    },
    {
     "name": "stdout",
     "output_type": "stream",
     "text": [
      "Back-translation completed.\n",
      "Augmented rows: 24/30\n",
      "Starting back-translation for 3 texts...\n"
     ]
    },
    {
     "name": "stdout",
     "output_type": "stream",
     "text": [
      "Back-translation completed.\n",
      "Augmented rows: 27/30\n",
      "Starting back-translation for 3 texts...\n"
     ]
    },
    {
     "name": "stdout",
     "output_type": "stream",
     "text": [
      "Back-translation completed.\n",
      "Augmented rows: 30/30\n",
      "Class augmentation completed. Total rows: 30.\n",
      "Augmenting class with 3 rows to reach 30 rows...\n",
      "Starting back-translation for 3 texts...\n"
     ]
    },
    {
     "name": "stdout",
     "output_type": "stream",
     "text": [
      "Back-translation completed.\n",
      "Augmented rows: 6/30\n",
      "Starting back-translation for 3 texts...\n"
     ]
    },
    {
     "name": "stdout",
     "output_type": "stream",
     "text": [
      "Back-translation completed.\n",
      "Augmented rows: 9/30\n",
      "Starting back-translation for 3 texts...\n"
     ]
    },
    {
     "name": "stdout",
     "output_type": "stream",
     "text": [
      "Back-translation completed.\n",
      "Augmented rows: 12/30\n",
      "Starting back-translation for 3 texts...\n"
     ]
    },
    {
     "name": "stdout",
     "output_type": "stream",
     "text": [
      "Back-translation completed.\n",
      "Augmented rows: 15/30\n",
      "Starting back-translation for 3 texts...\n"
     ]
    },
    {
     "name": "stdout",
     "output_type": "stream",
     "text": [
      "Back-translation completed.\n",
      "Augmented rows: 18/30\n",
      "Starting back-translation for 3 texts...\n"
     ]
    },
    {
     "name": "stdout",
     "output_type": "stream",
     "text": [
      "Back-translation completed.\n",
      "Augmented rows: 21/30\n",
      "Starting back-translation for 3 texts...\n"
     ]
    },
    {
     "name": "stdout",
     "output_type": "stream",
     "text": [
      "Back-translation completed.\n",
      "Augmented rows: 24/30\n",
      "Starting back-translation for 3 texts...\n"
     ]
    },
    {
     "name": "stdout",
     "output_type": "stream",
     "text": [
      "Back-translation completed.\n",
      "Augmented rows: 27/30\n",
      "Starting back-translation for 3 texts...\n"
     ]
    },
    {
     "name": "stdout",
     "output_type": "stream",
     "text": [
      "Back-translation completed.\n",
      "Augmented rows: 30/30\n",
      "Class augmentation completed. Total rows: 30.\n",
      "Augmenting class with 3 rows to reach 30 rows...\n",
      "Starting back-translation for 3 texts...\n"
     ]
    },
    {
     "name": "stdout",
     "output_type": "stream",
     "text": [
      "Back-translation completed.\n",
      "Augmented rows: 6/30\n",
      "Starting back-translation for 3 texts...\n"
     ]
    },
    {
     "name": "stdout",
     "output_type": "stream",
     "text": [
      "Back-translation completed.\n",
      "Augmented rows: 9/30\n",
      "Starting back-translation for 3 texts...\n"
     ]
    },
    {
     "name": "stdout",
     "output_type": "stream",
     "text": [
      "Back-translation completed.\n",
      "Augmented rows: 12/30\n",
      "Starting back-translation for 3 texts...\n"
     ]
    },
    {
     "name": "stdout",
     "output_type": "stream",
     "text": [
      "Back-translation completed.\n",
      "Augmented rows: 15/30\n",
      "Starting back-translation for 3 texts...\n"
     ]
    },
    {
     "name": "stdout",
     "output_type": "stream",
     "text": [
      "Back-translation completed.\n",
      "Augmented rows: 18/30\n",
      "Starting back-translation for 3 texts...\n"
     ]
    },
    {
     "name": "stdout",
     "output_type": "stream",
     "text": [
      "Back-translation completed.\n",
      "Augmented rows: 21/30\n",
      "Starting back-translation for 3 texts...\n"
     ]
    },
    {
     "name": "stdout",
     "output_type": "stream",
     "text": [
      "Back-translation completed.\n",
      "Augmented rows: 24/30\n",
      "Starting back-translation for 3 texts...\n"
     ]
    },
    {
     "name": "stdout",
     "output_type": "stream",
     "text": [
      "Back-translation completed.\n",
      "Augmented rows: 27/30\n",
      "Starting back-translation for 3 texts...\n"
     ]
    },
    {
     "name": "stdout",
     "output_type": "stream",
     "text": [
      "Back-translation completed.\n",
      "Augmented rows: 30/30\n",
      "Class augmentation completed. Total rows: 30.\n",
      "Augmenting class with 3 rows to reach 30 rows...\n",
      "Starting back-translation for 3 texts...\n"
     ]
    },
    {
     "name": "stdout",
     "output_type": "stream",
     "text": [
      "Back-translation completed.\n",
      "Augmented rows: 6/30\n",
      "Starting back-translation for 3 texts...\n"
     ]
    },
    {
     "name": "stdout",
     "output_type": "stream",
     "text": [
      "Back-translation completed.\n",
      "Augmented rows: 9/30\n",
      "Starting back-translation for 3 texts...\n"
     ]
    },
    {
     "name": "stdout",
     "output_type": "stream",
     "text": [
      "Back-translation completed.\n",
      "Augmented rows: 12/30\n",
      "Starting back-translation for 3 texts...\n"
     ]
    },
    {
     "name": "stdout",
     "output_type": "stream",
     "text": [
      "Back-translation completed.\n",
      "Augmented rows: 15/30\n",
      "Starting back-translation for 3 texts...\n"
     ]
    },
    {
     "name": "stdout",
     "output_type": "stream",
     "text": [
      "Back-translation completed.\n",
      "Augmented rows: 18/30\n",
      "Starting back-translation for 3 texts...\n"
     ]
    },
    {
     "name": "stdout",
     "output_type": "stream",
     "text": [
      "Back-translation completed.\n",
      "Augmented rows: 21/30\n",
      "Starting back-translation for 3 texts...\n"
     ]
    },
    {
     "name": "stdout",
     "output_type": "stream",
     "text": [
      "Back-translation completed.\n",
      "Augmented rows: 24/30\n",
      "Starting back-translation for 3 texts...\n"
     ]
    },
    {
     "name": "stdout",
     "output_type": "stream",
     "text": [
      "Back-translation completed.\n",
      "Augmented rows: 27/30\n",
      "Starting back-translation for 3 texts...\n"
     ]
    },
    {
     "name": "stdout",
     "output_type": "stream",
     "text": [
      "Back-translation completed.\n",
      "Augmented rows: 30/30\n",
      "Class augmentation completed. Total rows: 30.\n",
      "Augmenting class with 3 rows to reach 30 rows...\n",
      "Starting back-translation for 3 texts...\n"
     ]
    },
    {
     "name": "stdout",
     "output_type": "stream",
     "text": [
      "Back-translation completed.\n",
      "Augmented rows: 6/30\n",
      "Starting back-translation for 3 texts...\n"
     ]
    },
    {
     "name": "stdout",
     "output_type": "stream",
     "text": [
      "Back-translation completed.\n",
      "Augmented rows: 9/30\n",
      "Starting back-translation for 3 texts...\n"
     ]
    },
    {
     "name": "stdout",
     "output_type": "stream",
     "text": [
      "Back-translation completed.\n",
      "Augmented rows: 12/30\n",
      "Starting back-translation for 3 texts...\n"
     ]
    },
    {
     "name": "stdout",
     "output_type": "stream",
     "text": [
      "Back-translation completed.\n",
      "Augmented rows: 15/30\n",
      "Starting back-translation for 3 texts...\n"
     ]
    },
    {
     "name": "stdout",
     "output_type": "stream",
     "text": [
      "Back-translation completed.\n",
      "Augmented rows: 18/30\n",
      "Starting back-translation for 3 texts...\n"
     ]
    },
    {
     "name": "stdout",
     "output_type": "stream",
     "text": [
      "Back-translation completed.\n",
      "Augmented rows: 21/30\n",
      "Starting back-translation for 3 texts...\n"
     ]
    },
    {
     "name": "stdout",
     "output_type": "stream",
     "text": [
      "Back-translation completed.\n",
      "Augmented rows: 24/30\n",
      "Starting back-translation for 3 texts...\n"
     ]
    },
    {
     "name": "stdout",
     "output_type": "stream",
     "text": [
      "Back-translation completed.\n",
      "Augmented rows: 27/30\n",
      "Starting back-translation for 3 texts...\n"
     ]
    },
    {
     "name": "stdout",
     "output_type": "stream",
     "text": [
      "Back-translation completed.\n",
      "Augmented rows: 30/30\n",
      "Class augmentation completed. Total rows: 30.\n",
      "Augmenting class with 3 rows to reach 30 rows...\n",
      "Starting back-translation for 3 texts...\n"
     ]
    },
    {
     "name": "stdout",
     "output_type": "stream",
     "text": [
      "Back-translation completed.\n",
      "Augmented rows: 6/30\n",
      "Starting back-translation for 3 texts...\n"
     ]
    },
    {
     "name": "stdout",
     "output_type": "stream",
     "text": [
      "Back-translation completed.\n",
      "Augmented rows: 9/30\n",
      "Starting back-translation for 3 texts...\n"
     ]
    },
    {
     "name": "stdout",
     "output_type": "stream",
     "text": [
      "Back-translation completed.\n",
      "Augmented rows: 12/30\n",
      "Starting back-translation for 3 texts...\n"
     ]
    },
    {
     "name": "stdout",
     "output_type": "stream",
     "text": [
      "Back-translation completed.\n",
      "Augmented rows: 15/30\n",
      "Starting back-translation for 3 texts...\n"
     ]
    },
    {
     "name": "stdout",
     "output_type": "stream",
     "text": [
      "Back-translation completed.\n",
      "Augmented rows: 18/30\n",
      "Starting back-translation for 3 texts...\n"
     ]
    },
    {
     "name": "stdout",
     "output_type": "stream",
     "text": [
      "Back-translation completed.\n",
      "Augmented rows: 21/30\n",
      "Starting back-translation for 3 texts...\n"
     ]
    },
    {
     "name": "stdout",
     "output_type": "stream",
     "text": [
      "Back-translation completed.\n",
      "Augmented rows: 24/30\n",
      "Starting back-translation for 3 texts...\n"
     ]
    },
    {
     "name": "stdout",
     "output_type": "stream",
     "text": [
      "Back-translation completed.\n",
      "Augmented rows: 27/30\n",
      "Starting back-translation for 3 texts...\n"
     ]
    },
    {
     "name": "stdout",
     "output_type": "stream",
     "text": [
      "Back-translation completed.\n",
      "Augmented rows: 30/30\n",
      "Class augmentation completed. Total rows: 30.\n",
      "Augmenting class with 3 rows to reach 30 rows...\n",
      "Starting back-translation for 3 texts...\n"
     ]
    },
    {
     "name": "stdout",
     "output_type": "stream",
     "text": [
      "Back-translation completed.\n",
      "Augmented rows: 6/30\n",
      "Starting back-translation for 3 texts...\n"
     ]
    },
    {
     "name": "stdout",
     "output_type": "stream",
     "text": [
      "Back-translation completed.\n",
      "Augmented rows: 9/30\n",
      "Starting back-translation for 3 texts...\n"
     ]
    },
    {
     "name": "stdout",
     "output_type": "stream",
     "text": [
      "Back-translation completed.\n",
      "Augmented rows: 12/30\n",
      "Starting back-translation for 3 texts...\n"
     ]
    },
    {
     "name": "stdout",
     "output_type": "stream",
     "text": [
      "Back-translation completed.\n",
      "Augmented rows: 15/30\n",
      "Starting back-translation for 3 texts...\n"
     ]
    },
    {
     "name": "stdout",
     "output_type": "stream",
     "text": [
      "Back-translation completed.\n",
      "Augmented rows: 18/30\n",
      "Starting back-translation for 3 texts...\n"
     ]
    },
    {
     "name": "stdout",
     "output_type": "stream",
     "text": [
      "Back-translation completed.\n",
      "Augmented rows: 21/30\n",
      "Starting back-translation for 3 texts...\n"
     ]
    },
    {
     "name": "stdout",
     "output_type": "stream",
     "text": [
      "Back-translation completed.\n",
      "Augmented rows: 24/30\n",
      "Starting back-translation for 3 texts...\n"
     ]
    },
    {
     "name": "stdout",
     "output_type": "stream",
     "text": [
      "Back-translation completed.\n",
      "Augmented rows: 27/30\n",
      "Starting back-translation for 3 texts...\n"
     ]
    },
    {
     "name": "stdout",
     "output_type": "stream",
     "text": [
      "Back-translation completed.\n",
      "Augmented rows: 30/30\n",
      "Class augmentation completed. Total rows: 30.\n",
      "Augmenting class with 3 rows to reach 30 rows...\n",
      "Starting back-translation for 3 texts...\n"
     ]
    },
    {
     "name": "stdout",
     "output_type": "stream",
     "text": [
      "Back-translation completed.\n",
      "Augmented rows: 6/30\n",
      "Starting back-translation for 3 texts...\n"
     ]
    },
    {
     "name": "stdout",
     "output_type": "stream",
     "text": [
      "Back-translation completed.\n",
      "Augmented rows: 9/30\n",
      "Starting back-translation for 3 texts...\n"
     ]
    },
    {
     "name": "stdout",
     "output_type": "stream",
     "text": [
      "Back-translation completed.\n",
      "Augmented rows: 12/30\n",
      "Starting back-translation for 3 texts...\n"
     ]
    },
    {
     "name": "stdout",
     "output_type": "stream",
     "text": [
      "Back-translation completed.\n",
      "Augmented rows: 15/30\n",
      "Starting back-translation for 3 texts...\n"
     ]
    },
    {
     "name": "stdout",
     "output_type": "stream",
     "text": [
      "Back-translation completed.\n",
      "Augmented rows: 18/30\n",
      "Starting back-translation for 3 texts...\n"
     ]
    },
    {
     "name": "stdout",
     "output_type": "stream",
     "text": [
      "Back-translation completed.\n",
      "Augmented rows: 21/30\n",
      "Starting back-translation for 3 texts...\n"
     ]
    },
    {
     "name": "stdout",
     "output_type": "stream",
     "text": [
      "Back-translation completed.\n",
      "Augmented rows: 24/30\n",
      "Starting back-translation for 3 texts...\n"
     ]
    },
    {
     "name": "stdout",
     "output_type": "stream",
     "text": [
      "Back-translation completed.\n",
      "Augmented rows: 27/30\n",
      "Starting back-translation for 3 texts...\n"
     ]
    },
    {
     "name": "stdout",
     "output_type": "stream",
     "text": [
      "Back-translation completed.\n",
      "Augmented rows: 30/30\n",
      "Class augmentation completed. Total rows: 30.\n",
      "Augmenting class with 3 rows to reach 30 rows...\n",
      "Starting back-translation for 3 texts...\n"
     ]
    },
    {
     "name": "stdout",
     "output_type": "stream",
     "text": [
      "Back-translation completed.\n",
      "Augmented rows: 6/30\n",
      "Starting back-translation for 3 texts...\n"
     ]
    },
    {
     "name": "stdout",
     "output_type": "stream",
     "text": [
      "Back-translation completed.\n",
      "Augmented rows: 9/30\n",
      "Starting back-translation for 3 texts...\n"
     ]
    },
    {
     "name": "stdout",
     "output_type": "stream",
     "text": [
      "Back-translation completed.\n",
      "Augmented rows: 12/30\n",
      "Starting back-translation for 3 texts...\n"
     ]
    },
    {
     "name": "stdout",
     "output_type": "stream",
     "text": [
      "Back-translation completed.\n",
      "Augmented rows: 15/30\n",
      "Starting back-translation for 3 texts...\n"
     ]
    },
    {
     "name": "stdout",
     "output_type": "stream",
     "text": [
      "Back-translation completed.\n",
      "Augmented rows: 18/30\n",
      "Starting back-translation for 3 texts...\n"
     ]
    },
    {
     "name": "stdout",
     "output_type": "stream",
     "text": [
      "Back-translation completed.\n",
      "Augmented rows: 21/30\n",
      "Starting back-translation for 3 texts...\n"
     ]
    },
    {
     "name": "stdout",
     "output_type": "stream",
     "text": [
      "Back-translation completed.\n",
      "Augmented rows: 24/30\n",
      "Starting back-translation for 3 texts...\n"
     ]
    },
    {
     "name": "stdout",
     "output_type": "stream",
     "text": [
      "Back-translation completed.\n",
      "Augmented rows: 27/30\n",
      "Starting back-translation for 3 texts...\n"
     ]
    },
    {
     "name": "stdout",
     "output_type": "stream",
     "text": [
      "Back-translation completed.\n",
      "Augmented rows: 30/30\n",
      "Class augmentation completed. Total rows: 30.\n",
      "Augmenting class with 3 rows to reach 30 rows...\n",
      "Starting back-translation for 3 texts...\n"
     ]
    },
    {
     "name": "stdout",
     "output_type": "stream",
     "text": [
      "Back-translation completed.\n",
      "Augmented rows: 6/30\n",
      "Starting back-translation for 3 texts...\n"
     ]
    },
    {
     "name": "stdout",
     "output_type": "stream",
     "text": [
      "Back-translation completed.\n",
      "Augmented rows: 9/30\n",
      "Starting back-translation for 3 texts...\n"
     ]
    },
    {
     "name": "stdout",
     "output_type": "stream",
     "text": [
      "Back-translation completed.\n",
      "Augmented rows: 12/30\n",
      "Starting back-translation for 3 texts...\n"
     ]
    },
    {
     "name": "stdout",
     "output_type": "stream",
     "text": [
      "Back-translation completed.\n",
      "Augmented rows: 15/30\n",
      "Starting back-translation for 3 texts...\n"
     ]
    },
    {
     "name": "stdout",
     "output_type": "stream",
     "text": [
      "Back-translation completed.\n",
      "Augmented rows: 18/30\n",
      "Starting back-translation for 3 texts...\n"
     ]
    },
    {
     "name": "stdout",
     "output_type": "stream",
     "text": [
      "Back-translation completed.\n",
      "Augmented rows: 21/30\n",
      "Starting back-translation for 3 texts...\n"
     ]
    },
    {
     "name": "stdout",
     "output_type": "stream",
     "text": [
      "Back-translation completed.\n",
      "Augmented rows: 24/30\n",
      "Starting back-translation for 3 texts...\n"
     ]
    },
    {
     "name": "stdout",
     "output_type": "stream",
     "text": [
      "Back-translation completed.\n",
      "Augmented rows: 27/30\n",
      "Starting back-translation for 3 texts...\n"
     ]
    },
    {
     "name": "stdout",
     "output_type": "stream",
     "text": [
      "Back-translation completed.\n",
      "Augmented rows: 30/30\n",
      "Class augmentation completed. Total rows: 30.\n",
      "Augmenting class with 3 rows to reach 30 rows...\n",
      "Starting back-translation for 3 texts...\n"
     ]
    },
    {
     "name": "stdout",
     "output_type": "stream",
     "text": [
      "Back-translation completed.\n",
      "Augmented rows: 6/30\n",
      "Starting back-translation for 3 texts...\n"
     ]
    },
    {
     "name": "stdout",
     "output_type": "stream",
     "text": [
      "Back-translation completed.\n",
      "Augmented rows: 9/30\n",
      "Starting back-translation for 3 texts...\n"
     ]
    },
    {
     "name": "stdout",
     "output_type": "stream",
     "text": [
      "Back-translation completed.\n",
      "Augmented rows: 12/30\n",
      "Starting back-translation for 3 texts...\n"
     ]
    },
    {
     "name": "stdout",
     "output_type": "stream",
     "text": [
      "Back-translation completed.\n",
      "Augmented rows: 15/30\n",
      "Starting back-translation for 3 texts...\n"
     ]
    },
    {
     "name": "stdout",
     "output_type": "stream",
     "text": [
      "Back-translation completed.\n",
      "Augmented rows: 18/30\n",
      "Starting back-translation for 3 texts...\n"
     ]
    },
    {
     "name": "stdout",
     "output_type": "stream",
     "text": [
      "Back-translation completed.\n",
      "Augmented rows: 21/30\n",
      "Starting back-translation for 3 texts...\n"
     ]
    },
    {
     "name": "stdout",
     "output_type": "stream",
     "text": [
      "Back-translation completed.\n",
      "Augmented rows: 24/30\n",
      "Starting back-translation for 3 texts...\n"
     ]
    },
    {
     "name": "stdout",
     "output_type": "stream",
     "text": [
      "Back-translation completed.\n",
      "Augmented rows: 27/30\n",
      "Starting back-translation for 3 texts...\n"
     ]
    },
    {
     "name": "stdout",
     "output_type": "stream",
     "text": [
      "Back-translation completed.\n",
      "Augmented rows: 30/30\n",
      "Class augmentation completed. Total rows: 30.\n",
      "Augmenting class with 3 rows to reach 30 rows...\n",
      "Starting back-translation for 3 texts...\n"
     ]
    },
    {
     "name": "stdout",
     "output_type": "stream",
     "text": [
      "Back-translation completed.\n",
      "Augmented rows: 6/30\n",
      "Starting back-translation for 3 texts...\n"
     ]
    },
    {
     "name": "stdout",
     "output_type": "stream",
     "text": [
      "Back-translation completed.\n",
      "Augmented rows: 9/30\n",
      "Starting back-translation for 3 texts...\n"
     ]
    },
    {
     "name": "stdout",
     "output_type": "stream",
     "text": [
      "Back-translation completed.\n",
      "Augmented rows: 12/30\n",
      "Starting back-translation for 3 texts...\n"
     ]
    },
    {
     "name": "stdout",
     "output_type": "stream",
     "text": [
      "Back-translation completed.\n",
      "Augmented rows: 15/30\n",
      "Starting back-translation for 3 texts...\n"
     ]
    },
    {
     "name": "stdout",
     "output_type": "stream",
     "text": [
      "Back-translation completed.\n",
      "Augmented rows: 18/30\n",
      "Starting back-translation for 3 texts...\n"
     ]
    },
    {
     "name": "stdout",
     "output_type": "stream",
     "text": [
      "Back-translation completed.\n",
      "Augmented rows: 21/30\n",
      "Starting back-translation for 3 texts...\n"
     ]
    },
    {
     "name": "stdout",
     "output_type": "stream",
     "text": [
      "Back-translation completed.\n",
      "Augmented rows: 24/30\n",
      "Starting back-translation for 3 texts...\n"
     ]
    },
    {
     "name": "stdout",
     "output_type": "stream",
     "text": [
      "Back-translation completed.\n",
      "Augmented rows: 27/30\n",
      "Starting back-translation for 3 texts...\n"
     ]
    },
    {
     "name": "stdout",
     "output_type": "stream",
     "text": [
      "Back-translation completed.\n",
      "Augmented rows: 30/30\n",
      "Class augmentation completed. Total rows: 30.\n",
      "Augmenting class with 3 rows to reach 30 rows...\n",
      "Starting back-translation for 3 texts...\n"
     ]
    },
    {
     "name": "stdout",
     "output_type": "stream",
     "text": [
      "Back-translation completed.\n",
      "Augmented rows: 6/30\n",
      "Starting back-translation for 3 texts...\n"
     ]
    },
    {
     "name": "stdout",
     "output_type": "stream",
     "text": [
      "Back-translation completed.\n",
      "Augmented rows: 9/30\n",
      "Starting back-translation for 3 texts...\n"
     ]
    },
    {
     "name": "stdout",
     "output_type": "stream",
     "text": [
      "Back-translation completed.\n",
      "Augmented rows: 12/30\n",
      "Starting back-translation for 3 texts...\n"
     ]
    },
    {
     "name": "stdout",
     "output_type": "stream",
     "text": [
      "Back-translation completed.\n",
      "Augmented rows: 15/30\n",
      "Starting back-translation for 3 texts...\n"
     ]
    },
    {
     "name": "stdout",
     "output_type": "stream",
     "text": [
      "Back-translation completed.\n",
      "Augmented rows: 18/30\n",
      "Starting back-translation for 3 texts...\n"
     ]
    },
    {
     "name": "stdout",
     "output_type": "stream",
     "text": [
      "Back-translation completed.\n",
      "Augmented rows: 21/30\n",
      "Starting back-translation for 3 texts...\n"
     ]
    },
    {
     "name": "stdout",
     "output_type": "stream",
     "text": [
      "Back-translation completed.\n",
      "Augmented rows: 24/30\n",
      "Starting back-translation for 3 texts...\n"
     ]
    },
    {
     "name": "stdout",
     "output_type": "stream",
     "text": [
      "Back-translation completed.\n",
      "Augmented rows: 27/30\n",
      "Starting back-translation for 3 texts...\n"
     ]
    },
    {
     "name": "stdout",
     "output_type": "stream",
     "text": [
      "Back-translation completed.\n",
      "Augmented rows: 30/30\n",
      "Class augmentation completed. Total rows: 30.\n",
      "Augmenting class with 3 rows to reach 30 rows...\n",
      "Starting back-translation for 3 texts...\n"
     ]
    },
    {
     "name": "stdout",
     "output_type": "stream",
     "text": [
      "Back-translation completed.\n",
      "Augmented rows: 6/30\n",
      "Starting back-translation for 3 texts...\n"
     ]
    },
    {
     "name": "stdout",
     "output_type": "stream",
     "text": [
      "Back-translation completed.\n",
      "Augmented rows: 9/30\n",
      "Starting back-translation for 3 texts...\n"
     ]
    },
    {
     "name": "stdout",
     "output_type": "stream",
     "text": [
      "Back-translation completed.\n",
      "Augmented rows: 12/30\n",
      "Starting back-translation for 3 texts...\n"
     ]
    },
    {
     "name": "stdout",
     "output_type": "stream",
     "text": [
      "Back-translation completed.\n",
      "Augmented rows: 15/30\n",
      "Starting back-translation for 3 texts...\n"
     ]
    },
    {
     "name": "stdout",
     "output_type": "stream",
     "text": [
      "Back-translation completed.\n",
      "Augmented rows: 18/30\n",
      "Starting back-translation for 3 texts...\n"
     ]
    },
    {
     "name": "stdout",
     "output_type": "stream",
     "text": [
      "Back-translation completed.\n",
      "Augmented rows: 21/30\n",
      "Starting back-translation for 3 texts...\n"
     ]
    },
    {
     "name": "stdout",
     "output_type": "stream",
     "text": [
      "Back-translation completed.\n",
      "Augmented rows: 24/30\n",
      "Starting back-translation for 3 texts...\n"
     ]
    },
    {
     "name": "stdout",
     "output_type": "stream",
     "text": [
      "Back-translation completed.\n",
      "Augmented rows: 27/30\n",
      "Starting back-translation for 3 texts...\n"
     ]
    },
    {
     "name": "stdout",
     "output_type": "stream",
     "text": [
      "Back-translation completed.\n",
      "Augmented rows: 30/30\n",
      "Class augmentation completed. Total rows: 30.\n",
      "Augmenting class with 3 rows to reach 30 rows...\n",
      "Starting back-translation for 3 texts...\n"
     ]
    }
   ],
   "source": [
    "balanced_data = []\n",
    "print(\"Starting dataset balancing...\")\n",
    "\n",
    "for column in TARGET_COLUMNS:\n",
    "    print(f\"Processing column: {column}\")\n",
    "    counts = df[column].value_counts()\n",
    "    underrepresented_classes = counts[counts < TARGET_THRESHOLD].index.tolist()\n",
    "    overrepresented_classes = counts[counts > TARGET_THRESHOLD].index.tolist()\n",
    "\n",
    "    # Process underrepresented classes\n",
    "    for cls in tqdm(underrepresented_classes, desc=f\"Augmenting classes in {column}\"):\n",
    "        class_rows = df[df[column] == cls]\n",
    "        augmented_data = augment_class(class_rows, TARGET_THRESHOLD)\n",
    "        balanced_data.extend(augmented_data)\n"
   ]
  },
  {
   "cell_type": "markdown",
   "metadata": {
    "id": "WUTwXqvhkk3z"
   },
   "source": [
    "**Due to RAM limitations the whole process of back translation and augmentation  was applied only for the 100% of hazard classes that were underbalanced (below 30 rows for each class) and 34% of the product classes that were also unbalanced the same way as hazard classes. Respectively, the downsampling (to 60% on initial size) was also applied as it follows for all classes that had over 30 rows for each class .**"
   ]
  },
  {
   "cell_type": "code",
   "execution_count": null,
   "metadata": {
    "colab": {
     "base_uri": "https://localhost:8080/"
    },
    "executionInfo": {
     "elapsed": 281,
     "status": "ok",
     "timestamp": 1732390569346,
     "user": {
      "displayName": "Stelios Giagkos",
      "userId": "06441279652746263838"
     },
     "user_tz": -120
    },
    "id": "G53OrMa0d2WA",
    "outputId": "30710749-6760-4e14-a206-0694156ec253"
   },
   "outputs": [
    {
     "name": "stdout",
     "output_type": "stream",
     "text": [
      "Downsampling class from 185 rows to 111 rows...\n",
      "Downsampling completed.\n",
      "Downsampling class from 138 rows to 82 rows...\n",
      "Downsampling completed.\n",
      "Downsampling class from 93 rows to 55 rows...\n",
      "Downsampling completed.\n",
      "Downsampling class from 79 rows to 47 rows...\n",
      "Downsampling completed.\n",
      "Downsampling class from 78 rows to 46 rows...\n",
      "Downsampling completed.\n",
      "Downsampling class from 74 rows to 44 rows...\n",
      "Downsampling completed.\n",
      "Downsampling class from 55 rows to 33 rows...\n",
      "Downsampling completed.\n",
      "Downsampling class from 52 rows to 31 rows...\n",
      "Downsampling completed.\n",
      "Downsampling class from 50 rows to 30 rows...\n",
      "Downsampling completed.\n",
      "Downsampling class from 50 rows to 30 rows...\n",
      "Downsampling completed.\n",
      "Downsampling class from 49 rows to 29 rows...\n",
      "Downsampling completed.\n",
      "Downsampling class from 45 rows to 27 rows...\n",
      "Downsampling completed.\n",
      "Downsampling class from 43 rows to 25 rows...\n",
      "Downsampling completed.\n",
      "Downsampling class from 42 rows to 25 rows...\n",
      "Downsampling completed.\n",
      "Downsampling class from 38 rows to 22 rows...\n",
      "Downsampling completed.\n",
      "Downsampling class from 36 rows to 21 rows...\n",
      "Downsampling completed.\n",
      "Downsampling class from 35 rows to 21 rows...\n",
      "Downsampling completed.\n",
      "Downsampling class from 34 rows to 20 rows...\n",
      "Downsampling completed.\n",
      "Downsampling class from 34 rows to 20 rows...\n",
      "Downsampling completed.\n",
      "Downsampling class from 33 rows to 19 rows...\n",
      "Downsampling completed.\n",
      "Downsampling class from 33 rows to 19 rows...\n",
      "Downsampling completed.\n",
      "Downsampling class from 32 rows to 19 rows...\n",
      "Downsampling completed.\n",
      "Downsampling class from 31 rows to 18 rows...\n",
      "Downsampling completed.\n"
     ]
    }
   ],
   "source": [
    "    # Process overrepresented classes\n",
    "    for cls in tqdm(overrepresented_classes, desc=f\"Downsampling classes in {column}\"):\n",
    "        class_rows = df[df[column] == cls]\n",
    "        downsampled_data = downsample_class(class_rows, int(len(class_rows) * 0.6))  # Ensure target count is an integer\n",
    "        balanced_data.extend(downsampled_data.to_dict('records'))\n"
   ]
  },
  {
   "cell_type": "code",
   "execution_count": null,
   "metadata": {
    "id": "7ZgRSdG4QQHt"
   },
   "outputs": [],
   "source": [
    "balanced_df = pd.DataFrame(balanced_data)"
   ]
  },
  {
   "cell_type": "markdown",
   "metadata": {
    "id": "AZN-Nxjs_-xu"
   },
   "source": [
    "# Saving and Validating the Balanced Dataset\n",
    "\n",
    "Once the data balancing process is complete, the final balanced dataset is saved and validated through the following steps:\n",
    "\n",
    "1. **Save the Balanced DataFrame**  \n",
    "   The processed and balanced dataset is saved to a specified location as a CSV file. This ensures the results are preserved and can be reused for further analysis or model training.\n",
    "\n",
    "2. **Preview the Balanced DataFrame**  \n",
    "   Displaying the first few rows of the balanced dataset provides a quick validation of the balancing process and the augmented content.\n",
    "\n",
    "3. **Verify Class Distributions**  \n",
    "   Final class counts for each target column are printed to confirm that all classes meet the specified target threshold, ensuring the dataset is balanced and ready for downstream tasks.\n"
   ]
  },
  {
   "cell_type": "code",
   "execution_count": null,
   "metadata": {
    "colab": {
     "base_uri": "https://localhost:8080/"
    },
    "executionInfo": {
     "elapsed": 558,
     "status": "ok",
     "timestamp": 1732392332454,
     "user": {
      "displayName": "Stelios Giagkos",
      "userId": "06441279652746263838"
     },
     "user_tz": -120
    },
    "id": "w5hp5qFa8JAV",
    "outputId": "9812d012-9fe8-454f-d9b0-dcd65c806f0e"
   },
   "outputs": [
    {
     "name": "stdout",
     "output_type": "stream",
     "text": [
      "Saving balanced dataset to /content/drive/MyDrive/Data/augmented_incidents_train.csv...\n",
      "Dataset saved successfully.\n",
      "Verifying final class counts:\n",
      "Final Counts for hazard:\n",
      " hazard\n",
      "listeria monocytogenes                        1118\n",
      "salmonella                                    1029\n",
      "milk and products thereof                     1027\n",
      "escherichia coli                               405\n",
      "eggs and products thereof                      392\n",
      "                                              ... \n",
      "dairy products                                  29\n",
      "organochlorine                                  29\n",
      "paralytic shellfish poisoning (psp) toxins      29\n",
      "product category/characteristics                29\n",
      "hazelnut                                        29\n",
      "Name: count, Length: 128, dtype: int64\n",
      "Final Counts for product:\n",
      " product\n",
      "ice cream                    151\n",
      "chicken based products       146\n",
      "cakes                         78\n",
      "ready to eat - cook meals     74\n",
      "beer                          69\n",
      "                            ... \n",
      "peppermint                     1\n",
      "gravy granules                 1\n",
      "cous cous                      1\n",
      "fresh pork leg                 1\n",
      "mix of nuts                    1\n",
      "Name: count, Length: 523, dtype: int64\n"
     ]
    }
   ],
   "source": [
    "# Save and verify the balanced dataset\n",
    "output_file = '/content/drive/MyDrive/Data/augmented_incidents_train.csv'\n",
    "print(f\"Saving balanced dataset to {output_file}...\")\n",
    "balanced_df.to_csv(output_file, index=False)\n",
    "print(\"Dataset saved successfully.\")\n",
    "\n",
    "print(\"Verifying final class counts:\")\n",
    "for column in TARGET_COLUMNS:\n",
    "    print(f\"Final Counts for {column}:\\n\", balanced_df[column].value_counts())"
   ]
  },
  {
   "cell_type": "code",
   "execution_count": null,
   "metadata": {
    "colab": {
     "base_uri": "https://localhost:8080/",
     "height": 545
    },
    "executionInfo": {
     "elapsed": 307,
     "status": "ok",
     "timestamp": 1732391230015,
     "user": {
      "displayName": "Stelios Giagkos",
      "userId": "06441279652746263838"
     },
     "user_tz": -120
    },
    "id": "YkGKCgbLQwwu",
    "outputId": "534d4219-6272-4772-9eb0-669187007334"
   },
   "outputs": [
    {
     "data": {
      "application/vnd.google.colaboratory.intrinsic+json": {
       "summary": "{\n  \"name\": \"balanced_df\",\n  \"rows\": 11839,\n  \"fields\": [\n    {\n      \"column\": \"Unnamed: 0\",\n      \"properties\": {\n        \"dtype\": \"number\",\n        \"std\": 1762,\n        \"min\": 0,\n        \"max\": 5983,\n        \"num_unique_values\": 3833,\n        \"samples\": [\n          3143,\n          4403,\n          28\n        ],\n        \"semantic_type\": \"\",\n        \"description\": \"\"\n      }\n    },\n    {\n      \"column\": \"year\",\n      \"properties\": {\n        \"dtype\": \"number\",\n        \"std\": 5,\n        \"min\": 1994,\n        \"max\": 2022,\n        \"num_unique_values\": 29,\n        \"samples\": [\n          1996,\n          2010,\n          2013\n        ],\n        \"semantic_type\": \"\",\n        \"description\": \"\"\n      }\n    },\n    {\n      \"column\": \"month\",\n      \"properties\": {\n        \"dtype\": \"number\",\n        \"std\": 3,\n        \"min\": 1,\n        \"max\": 12,\n        \"num_unique_values\": 12,\n        \"samples\": [\n          6,\n          5,\n          11\n        ],\n        \"semantic_type\": \"\",\n        \"description\": \"\"\n      }\n    },\n    {\n      \"column\": \"day\",\n      \"properties\": {\n        \"dtype\": \"number\",\n        \"std\": 8,\n        \"min\": 1,\n        \"max\": 31,\n        \"num_unique_values\": 31,\n        \"samples\": [\n          18,\n          3,\n          27\n        ],\n        \"semantic_type\": \"\",\n        \"description\": \"\"\n      }\n    },\n    {\n      \"column\": \"country\",\n      \"properties\": {\n        \"dtype\": \"category\",\n        \"num_unique_values\": 9,\n        \"samples\": [\n          \"scot\",\n          \"us\",\n          \"ie\"\n        ],\n        \"semantic_type\": \"\",\n        \"description\": \"\"\n      }\n    },\n    {\n      \"column\": \"title\",\n      \"properties\": {\n        \"dtype\": \"category\",\n        \"num_unique_values\": 3732,\n        \"samples\": [\n          \"Giant/Martin\\u2019s Alerts Customers to Voluntary Recall of Store Brand Frozen Whole Kernel Sweet Corn\",\n          \"Flowers Foods Issues Voluntary Recall on Certain Tastykake Multi-Pack Cupcakes Sold in Eight States Due to Possible Presence of Tiny Fragments of Metal Mesh Wire\",\n          \"2015 - Gilster - Mary Lee Corp. Issues an Allergen Alert for Undeclared Almonds in Market Pantry Honey & Oat Mixers Ready to Eat Cereal\"\n        ],\n        \"semantic_type\": \"\",\n        \"description\": \"\"\n      }\n    },\n    {\n      \"column\": \"text\",\n      \"properties\": {\n        \"dtype\": \"category\",\n        \"num_unique_values\": 3900,\n        \"samples\": [\n          \"The presence of a small battery makes this product dangerous to eat and poses a health risk. Product: Coop Hollow Milk Chocolate Bunny Package size: 120g Lot codes: All date codes No other Co-op products are known to be affected. The product below may contain a small battery that can be a choking risk and can cause burns in the event of ingestion. If you purchased the product do not eat it. Instead, return it to a Co-op store for a full refund, or contact their customer relationship team at 0800 0686 727. Co-op recalls the product above. Point-of-sale notices will be displayed in all retail stores that sell the product. These reviews explain to customers why the product is recalled and tell them what to do if they bought the product.\",\n          \"Product information is available on the website.Product information is available on the website.Product information is available on the website.Product information is available on the website.Product information is available on the website.Product information is available on the website.Product information is available on the website.Product information is available on the website.Product information is available on the website.Product information is available on the website.Product information is available on the website.Product information is available on the website.Product information is available on the website.Product information is available on the website.Product information is available on the website.Product information is available on the website.Product information is available on the website.Product information is available on the website.Product information is available on the website.Product information is available on the website.Product information is available on the website.Product information is available on the website.\",\n          \"The company Double Cola recalls about 200 cases of its product Cherry SKI because they are mislabeled. Only Cherry SKI products with the new design are recalled, which have been delivered south of Illinois, Evansville, IN and Winchester, OH markets. No other products from the company Double Cola are recalled. New Cherry SKI cans are recalled because the nutritional facts are incorrect. The cans show \\\"Red #4\\\" under ingredients, which is incorrect. The ingredients must include \\\"Red #40\\\" and \\\"Yellow #5.\\\" These dyes can cause a reaction to any allergic person. Double Cola company has reported that no medical illness or harmful effects have resulted from this product so far. The affected products are coded A8023EV10:25 to A8023EV11:40. \\\"We have taken immediate action once we have known the situation and recalled the product\\\" Gina Dhanani, vice-president of SKI.\"\n        ],\n        \"semantic_type\": \"\",\n        \"description\": \"\"\n      }\n    },\n    {\n      \"column\": \"hazard-category\",\n      \"properties\": {\n        \"dtype\": \"category\",\n        \"num_unique_values\": 10,\n        \"samples\": [\n          \"organoleptic aspects\",\n          \"foreign bodies\",\n          \"packaging defect\"\n        ],\n        \"semantic_type\": \"\",\n        \"description\": \"\"\n      }\n    },\n    {\n      \"column\": \"product-category\",\n      \"properties\": {\n        \"dtype\": \"category\",\n        \"num_unique_values\": 22,\n        \"samples\": [\n          \"herbs and spices\",\n          \"seafood\",\n          \"ices and desserts\"\n        ],\n        \"semantic_type\": \"\",\n        \"description\": \"\"\n      }\n    },\n    {\n      \"column\": \"hazard\",\n      \"properties\": {\n        \"dtype\": \"category\",\n        \"num_unique_values\": 128,\n        \"samples\": [\n          \"chemical\",\n          \"coliforms\",\n          \"hazelnut\"\n        ],\n        \"semantic_type\": \"\",\n        \"description\": \"\"\n      }\n    },\n    {\n      \"column\": \"product\",\n      \"properties\": {\n        \"dtype\": \"category\",\n        \"num_unique_values\": 523,\n        \"samples\": [\n          \"horseradish in jars\",\n          \"liquorice\",\n          \"bakery products\"\n        ],\n        \"semantic_type\": \"\",\n        \"description\": \"\"\n      }\n    }\n  ]\n}",
       "type": "dataframe",
       "variable_name": "balanced_df"
      },
      "text/html": [
       "\n",
       "  <div id=\"df-92bc691e-bdb6-466a-930a-4586fef02733\" class=\"colab-df-container\">\n",
       "    <div>\n",
       "<style scoped>\n",
       "    .dataframe tbody tr th:only-of-type {\n",
       "        vertical-align: middle;\n",
       "    }\n",
       "\n",
       "    .dataframe tbody tr th {\n",
       "        vertical-align: top;\n",
       "    }\n",
       "\n",
       "    .dataframe thead th {\n",
       "        text-align: right;\n",
       "    }\n",
       "</style>\n",
       "<table border=\"1\" class=\"dataframe\">\n",
       "  <thead>\n",
       "    <tr style=\"text-align: right;\">\n",
       "      <th></th>\n",
       "      <th>Unnamed: 0</th>\n",
       "      <th>year</th>\n",
       "      <th>month</th>\n",
       "      <th>day</th>\n",
       "      <th>country</th>\n",
       "      <th>title</th>\n",
       "      <th>text</th>\n",
       "      <th>hazard-category</th>\n",
       "      <th>product-category</th>\n",
       "      <th>hazard</th>\n",
       "      <th>product</th>\n",
       "    </tr>\n",
       "  </thead>\n",
       "  <tbody>\n",
       "    <tr>\n",
       "      <th>0</th>\n",
       "      <td>351</td>\n",
       "      <td>2008</td>\n",
       "      <td>11</td>\n",
       "      <td>7</td>\n",
       "      <td>au</td>\n",
       "      <td>Country Cuisine Pty Ltd—Malouf’s Spice Mezza</td>\n",
       "      <td>PRA No. 2008/10424 Date Published Nov 7, 2008 ...</td>\n",
       "      <td>allergens</td>\n",
       "      <td>herbs and spices</td>\n",
       "      <td>nuts</td>\n",
       "      <td>spice mix</td>\n",
       "    </tr>\n",
       "    <tr>\n",
       "      <th>1</th>\n",
       "      <td>555</td>\n",
       "      <td>2011</td>\n",
       "      <td>7</td>\n",
       "      <td>11</td>\n",
       "      <td>au</td>\n",
       "      <td>Haigh's Manufacturing Pty Ltd—Haigh’s Aprichoc...</td>\n",
       "      <td>PRA No. 2011/12730 Publication Date Jul 11, 20...</td>\n",
       "      <td>allergens</td>\n",
       "      <td>cocoa and cocoa preparations, coffee and tea</td>\n",
       "      <td>nuts</td>\n",
       "      <td>chocolate</td>\n",
       "    </tr>\n",
       "    <tr>\n",
       "      <th>2</th>\n",
       "      <td>611</td>\n",
       "      <td>2012</td>\n",
       "      <td>2</td>\n",
       "      <td>21</td>\n",
       "      <td>au</td>\n",
       "      <td>Coles Supermarkets Limited—Coles Deli 200g Spi...</td>\n",
       "      <td>PRA No. 2012/13032 Publication Date Feb 21, 20...</td>\n",
       "      <td>allergens</td>\n",
       "      <td>soups, broths, sauces and condiments</td>\n",
       "      <td>nuts</td>\n",
       "      <td>sauce</td>\n",
       "    </tr>\n",
       "    <tr>\n",
       "      <th>3</th>\n",
       "      <td>752</td>\n",
       "      <td>2012</td>\n",
       "      <td>12</td>\n",
       "      <td>4</td>\n",
       "      <td>us</td>\n",
       "      <td>2012 - Price Chopper Supermarkets Recalls Cent...</td>\n",
       "      <td>FOR IMMEDIATE RELEASE - October 21, 2012 - (Sc...</td>\n",
       "      <td>allergens</td>\n",
       "      <td>cereals and bakery products</td>\n",
       "      <td>nuts</td>\n",
       "      <td>cakes</td>\n",
       "    </tr>\n",
       "    <tr>\n",
       "      <th>4</th>\n",
       "      <td>1000</td>\n",
       "      <td>2014</td>\n",
       "      <td>4</td>\n",
       "      <td>10</td>\n",
       "      <td>au</td>\n",
       "      <td>Coles Easter Eggs</td>\n",
       "      <td>Coles Supermarkets Australia Pty Ltd recalled ...</td>\n",
       "      <td>allergens</td>\n",
       "      <td>cocoa and cocoa preparations, coffee and tea</td>\n",
       "      <td>nuts</td>\n",
       "      <td>chocolate eggs</td>\n",
       "    </tr>\n",
       "    <tr>\n",
       "      <th>...</th>\n",
       "      <td>...</td>\n",
       "      <td>...</td>\n",
       "      <td>...</td>\n",
       "      <td>...</td>\n",
       "      <td>...</td>\n",
       "      <td>...</td>\n",
       "      <td>...</td>\n",
       "      <td>...</td>\n",
       "      <td>...</td>\n",
       "      <td>...</td>\n",
       "      <td>...</td>\n",
       "    </tr>\n",
       "    <tr>\n",
       "      <th>11834</th>\n",
       "      <td>1902</td>\n",
       "      <td>2016</td>\n",
       "      <td>9</td>\n",
       "      <td>29</td>\n",
       "      <td>au</td>\n",
       "      <td>Quality Bakers Australia Pty Limited — Various...</td>\n",
       "      <td>PRA No. 2016/15657 Date published 29 Sep 2016 ...</td>\n",
       "      <td>foreign bodies</td>\n",
       "      <td>cereals and bakery products</td>\n",
       "      <td>metal fragment</td>\n",
       "      <td>bread</td>\n",
       "    </tr>\n",
       "    <tr>\n",
       "      <th>11835</th>\n",
       "      <td>1846</td>\n",
       "      <td>2016</td>\n",
       "      <td>8</td>\n",
       "      <td>18</td>\n",
       "      <td>au</td>\n",
       "      <td>Gluten Free Bakehouse Pty Ltd — Various Zehnde...</td>\n",
       "      <td>PRA No. 2016/15603 Date published 18 Aug 2016 ...</td>\n",
       "      <td>allergens</td>\n",
       "      <td>cereals and bakery products</td>\n",
       "      <td>soybeans and products thereof</td>\n",
       "      <td>bread</td>\n",
       "    </tr>\n",
       "    <tr>\n",
       "      <th>11836</th>\n",
       "      <td>3206</td>\n",
       "      <td>2018</td>\n",
       "      <td>11</td>\n",
       "      <td>30</td>\n",
       "      <td>us</td>\n",
       "      <td>Tres Hermanos Bakery Issues Allergy Alert on U...</td>\n",
       "      <td>Wyoming, MI - Tres Hermanos Bakery of Wyoming,...</td>\n",
       "      <td>allergens</td>\n",
       "      <td>cereals and bakery products</td>\n",
       "      <td>milk and products thereof</td>\n",
       "      <td>bread</td>\n",
       "    </tr>\n",
       "    <tr>\n",
       "      <th>11837</th>\n",
       "      <td>243</td>\n",
       "      <td>2005</td>\n",
       "      <td>9</td>\n",
       "      <td>27</td>\n",
       "      <td>au</td>\n",
       "      <td>Gold Coast Bakery Queensland Pty Ltd—Vogels—Fr...</td>\n",
       "      <td>PRA No. 2005/8073 Date published 27 Sep 2005 P...</td>\n",
       "      <td>foreign bodies</td>\n",
       "      <td>cereals and bakery products</td>\n",
       "      <td>plastic fragment</td>\n",
       "      <td>bread</td>\n",
       "    </tr>\n",
       "    <tr>\n",
       "      <th>11838</th>\n",
       "      <td>313</td>\n",
       "      <td>2007</td>\n",
       "      <td>11</td>\n",
       "      <td>1</td>\n",
       "      <td>au</td>\n",
       "      <td>Woolworths Limited—Home brand white sliced san...</td>\n",
       "      <td>PRA No. 2007/9622 Date published 1 Nov 2007 Pr...</td>\n",
       "      <td>foreign bodies</td>\n",
       "      <td>cereals and bakery products</td>\n",
       "      <td>glass fragment</td>\n",
       "      <td>bread</td>\n",
       "    </tr>\n",
       "  </tbody>\n",
       "</table>\n",
       "<p>11839 rows × 11 columns</p>\n",
       "</div>\n",
       "    <div class=\"colab-df-buttons\">\n",
       "\n",
       "  <div class=\"colab-df-container\">\n",
       "    <button class=\"colab-df-convert\" onclick=\"convertToInteractive('df-92bc691e-bdb6-466a-930a-4586fef02733')\"\n",
       "            title=\"Convert this dataframe to an interactive table.\"\n",
       "            style=\"display:none;\">\n",
       "\n",
       "  <svg xmlns=\"http://www.w3.org/2000/svg\" height=\"24px\" viewBox=\"0 -960 960 960\">\n",
       "    <path d=\"M120-120v-720h720v720H120Zm60-500h600v-160H180v160Zm220 220h160v-160H400v160Zm0 220h160v-160H400v160ZM180-400h160v-160H180v160Zm440 0h160v-160H620v160ZM180-180h160v-160H180v160Zm440 0h160v-160H620v160Z\"/>\n",
       "  </svg>\n",
       "    </button>\n",
       "\n",
       "  <style>\n",
       "    .colab-df-container {\n",
       "      display:flex;\n",
       "      gap: 12px;\n",
       "    }\n",
       "\n",
       "    .colab-df-convert {\n",
       "      background-color: #E8F0FE;\n",
       "      border: none;\n",
       "      border-radius: 50%;\n",
       "      cursor: pointer;\n",
       "      display: none;\n",
       "      fill: #1967D2;\n",
       "      height: 32px;\n",
       "      padding: 0 0 0 0;\n",
       "      width: 32px;\n",
       "    }\n",
       "\n",
       "    .colab-df-convert:hover {\n",
       "      background-color: #E2EBFA;\n",
       "      box-shadow: 0px 1px 2px rgba(60, 64, 67, 0.3), 0px 1px 3px 1px rgba(60, 64, 67, 0.15);\n",
       "      fill: #174EA6;\n",
       "    }\n",
       "\n",
       "    .colab-df-buttons div {\n",
       "      margin-bottom: 4px;\n",
       "    }\n",
       "\n",
       "    [theme=dark] .colab-df-convert {\n",
       "      background-color: #3B4455;\n",
       "      fill: #D2E3FC;\n",
       "    }\n",
       "\n",
       "    [theme=dark] .colab-df-convert:hover {\n",
       "      background-color: #434B5C;\n",
       "      box-shadow: 0px 1px 3px 1px rgba(0, 0, 0, 0.15);\n",
       "      filter: drop-shadow(0px 1px 2px rgba(0, 0, 0, 0.3));\n",
       "      fill: #FFFFFF;\n",
       "    }\n",
       "  </style>\n",
       "\n",
       "    <script>\n",
       "      const buttonEl =\n",
       "        document.querySelector('#df-92bc691e-bdb6-466a-930a-4586fef02733 button.colab-df-convert');\n",
       "      buttonEl.style.display =\n",
       "        google.colab.kernel.accessAllowed ? 'block' : 'none';\n",
       "\n",
       "      async function convertToInteractive(key) {\n",
       "        const element = document.querySelector('#df-92bc691e-bdb6-466a-930a-4586fef02733');\n",
       "        const dataTable =\n",
       "          await google.colab.kernel.invokeFunction('convertToInteractive',\n",
       "                                                    [key], {});\n",
       "        if (!dataTable) return;\n",
       "\n",
       "        const docLinkHtml = 'Like what you see? Visit the ' +\n",
       "          '<a target=\"_blank\" href=https://colab.research.google.com/notebooks/data_table.ipynb>data table notebook</a>'\n",
       "          + ' to learn more about interactive tables.';\n",
       "        element.innerHTML = '';\n",
       "        dataTable['output_type'] = 'display_data';\n",
       "        await google.colab.output.renderOutput(dataTable, element);\n",
       "        const docLink = document.createElement('div');\n",
       "        docLink.innerHTML = docLinkHtml;\n",
       "        element.appendChild(docLink);\n",
       "      }\n",
       "    </script>\n",
       "  </div>\n",
       "\n",
       "\n",
       "<div id=\"df-c1153d3f-04e1-44ea-88af-46f94baaa8ac\">\n",
       "  <button class=\"colab-df-quickchart\" onclick=\"quickchart('df-c1153d3f-04e1-44ea-88af-46f94baaa8ac')\"\n",
       "            title=\"Suggest charts\"\n",
       "            style=\"display:none;\">\n",
       "\n",
       "<svg xmlns=\"http://www.w3.org/2000/svg\" height=\"24px\"viewBox=\"0 0 24 24\"\n",
       "     width=\"24px\">\n",
       "    <g>\n",
       "        <path d=\"M19 3H5c-1.1 0-2 .9-2 2v14c0 1.1.9 2 2 2h14c1.1 0 2-.9 2-2V5c0-1.1-.9-2-2-2zM9 17H7v-7h2v7zm4 0h-2V7h2v10zm4 0h-2v-4h2v4z\"/>\n",
       "    </g>\n",
       "</svg>\n",
       "  </button>\n",
       "\n",
       "<style>\n",
       "  .colab-df-quickchart {\n",
       "      --bg-color: #E8F0FE;\n",
       "      --fill-color: #1967D2;\n",
       "      --hover-bg-color: #E2EBFA;\n",
       "      --hover-fill-color: #174EA6;\n",
       "      --disabled-fill-color: #AAA;\n",
       "      --disabled-bg-color: #DDD;\n",
       "  }\n",
       "\n",
       "  [theme=dark] .colab-df-quickchart {\n",
       "      --bg-color: #3B4455;\n",
       "      --fill-color: #D2E3FC;\n",
       "      --hover-bg-color: #434B5C;\n",
       "      --hover-fill-color: #FFFFFF;\n",
       "      --disabled-bg-color: #3B4455;\n",
       "      --disabled-fill-color: #666;\n",
       "  }\n",
       "\n",
       "  .colab-df-quickchart {\n",
       "    background-color: var(--bg-color);\n",
       "    border: none;\n",
       "    border-radius: 50%;\n",
       "    cursor: pointer;\n",
       "    display: none;\n",
       "    fill: var(--fill-color);\n",
       "    height: 32px;\n",
       "    padding: 0;\n",
       "    width: 32px;\n",
       "  }\n",
       "\n",
       "  .colab-df-quickchart:hover {\n",
       "    background-color: var(--hover-bg-color);\n",
       "    box-shadow: 0 1px 2px rgba(60, 64, 67, 0.3), 0 1px 3px 1px rgba(60, 64, 67, 0.15);\n",
       "    fill: var(--button-hover-fill-color);\n",
       "  }\n",
       "\n",
       "  .colab-df-quickchart-complete:disabled,\n",
       "  .colab-df-quickchart-complete:disabled:hover {\n",
       "    background-color: var(--disabled-bg-color);\n",
       "    fill: var(--disabled-fill-color);\n",
       "    box-shadow: none;\n",
       "  }\n",
       "\n",
       "  .colab-df-spinner {\n",
       "    border: 2px solid var(--fill-color);\n",
       "    border-color: transparent;\n",
       "    border-bottom-color: var(--fill-color);\n",
       "    animation:\n",
       "      spin 1s steps(1) infinite;\n",
       "  }\n",
       "\n",
       "  @keyframes spin {\n",
       "    0% {\n",
       "      border-color: transparent;\n",
       "      border-bottom-color: var(--fill-color);\n",
       "      border-left-color: var(--fill-color);\n",
       "    }\n",
       "    20% {\n",
       "      border-color: transparent;\n",
       "      border-left-color: var(--fill-color);\n",
       "      border-top-color: var(--fill-color);\n",
       "    }\n",
       "    30% {\n",
       "      border-color: transparent;\n",
       "      border-left-color: var(--fill-color);\n",
       "      border-top-color: var(--fill-color);\n",
       "      border-right-color: var(--fill-color);\n",
       "    }\n",
       "    40% {\n",
       "      border-color: transparent;\n",
       "      border-right-color: var(--fill-color);\n",
       "      border-top-color: var(--fill-color);\n",
       "    }\n",
       "    60% {\n",
       "      border-color: transparent;\n",
       "      border-right-color: var(--fill-color);\n",
       "    }\n",
       "    80% {\n",
       "      border-color: transparent;\n",
       "      border-right-color: var(--fill-color);\n",
       "      border-bottom-color: var(--fill-color);\n",
       "    }\n",
       "    90% {\n",
       "      border-color: transparent;\n",
       "      border-bottom-color: var(--fill-color);\n",
       "    }\n",
       "  }\n",
       "</style>\n",
       "\n",
       "  <script>\n",
       "    async function quickchart(key) {\n",
       "      const quickchartButtonEl =\n",
       "        document.querySelector('#' + key + ' button');\n",
       "      quickchartButtonEl.disabled = true;  // To prevent multiple clicks.\n",
       "      quickchartButtonEl.classList.add('colab-df-spinner');\n",
       "      try {\n",
       "        const charts = await google.colab.kernel.invokeFunction(\n",
       "            'suggestCharts', [key], {});\n",
       "      } catch (error) {\n",
       "        console.error('Error during call to suggestCharts:', error);\n",
       "      }\n",
       "      quickchartButtonEl.classList.remove('colab-df-spinner');\n",
       "      quickchartButtonEl.classList.add('colab-df-quickchart-complete');\n",
       "    }\n",
       "    (() => {\n",
       "      let quickchartButtonEl =\n",
       "        document.querySelector('#df-c1153d3f-04e1-44ea-88af-46f94baaa8ac button');\n",
       "      quickchartButtonEl.style.display =\n",
       "        google.colab.kernel.accessAllowed ? 'block' : 'none';\n",
       "    })();\n",
       "  </script>\n",
       "</div>\n",
       "\n",
       "  <div id=\"id_9d15fbcd-f22e-42d5-93a7-8227c924bb1d\">\n",
       "    <style>\n",
       "      .colab-df-generate {\n",
       "        background-color: #E8F0FE;\n",
       "        border: none;\n",
       "        border-radius: 50%;\n",
       "        cursor: pointer;\n",
       "        display: none;\n",
       "        fill: #1967D2;\n",
       "        height: 32px;\n",
       "        padding: 0 0 0 0;\n",
       "        width: 32px;\n",
       "      }\n",
       "\n",
       "      .colab-df-generate:hover {\n",
       "        background-color: #E2EBFA;\n",
       "        box-shadow: 0px 1px 2px rgba(60, 64, 67, 0.3), 0px 1px 3px 1px rgba(60, 64, 67, 0.15);\n",
       "        fill: #174EA6;\n",
       "      }\n",
       "\n",
       "      [theme=dark] .colab-df-generate {\n",
       "        background-color: #3B4455;\n",
       "        fill: #D2E3FC;\n",
       "      }\n",
       "\n",
       "      [theme=dark] .colab-df-generate:hover {\n",
       "        background-color: #434B5C;\n",
       "        box-shadow: 0px 1px 3px 1px rgba(0, 0, 0, 0.15);\n",
       "        filter: drop-shadow(0px 1px 2px rgba(0, 0, 0, 0.3));\n",
       "        fill: #FFFFFF;\n",
       "      }\n",
       "    </style>\n",
       "    <button class=\"colab-df-generate\" onclick=\"generateWithVariable('balanced_df')\"\n",
       "            title=\"Generate code using this dataframe.\"\n",
       "            style=\"display:none;\">\n",
       "\n",
       "  <svg xmlns=\"http://www.w3.org/2000/svg\" height=\"24px\"viewBox=\"0 0 24 24\"\n",
       "       width=\"24px\">\n",
       "    <path d=\"M7,19H8.4L18.45,9,17,7.55,7,17.6ZM5,21V16.75L18.45,3.32a2,2,0,0,1,2.83,0l1.4,1.43a1.91,1.91,0,0,1,.58,1.4,1.91,1.91,0,0,1-.58,1.4L9.25,21ZM18.45,9,17,7.55Zm-12,3A5.31,5.31,0,0,0,4.9,8.1,5.31,5.31,0,0,0,1,6.5,5.31,5.31,0,0,0,4.9,4.9,5.31,5.31,0,0,0,6.5,1,5.31,5.31,0,0,0,8.1,4.9,5.31,5.31,0,0,0,12,6.5,5.46,5.46,0,0,0,6.5,12Z\"/>\n",
       "  </svg>\n",
       "    </button>\n",
       "    <script>\n",
       "      (() => {\n",
       "      const buttonEl =\n",
       "        document.querySelector('#id_9d15fbcd-f22e-42d5-93a7-8227c924bb1d button.colab-df-generate');\n",
       "      buttonEl.style.display =\n",
       "        google.colab.kernel.accessAllowed ? 'block' : 'none';\n",
       "\n",
       "      buttonEl.onclick = () => {\n",
       "        google.colab.notebook.generateWithVariable('balanced_df');\n",
       "      }\n",
       "      })();\n",
       "    </script>\n",
       "  </div>\n",
       "\n",
       "    </div>\n",
       "  </div>\n"
      ],
      "text/plain": [
       "       Unnamed: 0  year  month  day country  \\\n",
       "0             351  2008     11    7      au   \n",
       "1             555  2011      7   11      au   \n",
       "2             611  2012      2   21      au   \n",
       "3             752  2012     12    4      us   \n",
       "4            1000  2014      4   10      au   \n",
       "...           ...   ...    ...  ...     ...   \n",
       "11834        1902  2016      9   29      au   \n",
       "11835        1846  2016      8   18      au   \n",
       "11836        3206  2018     11   30      us   \n",
       "11837         243  2005      9   27      au   \n",
       "11838         313  2007     11    1      au   \n",
       "\n",
       "                                                   title  \\\n",
       "0           Country Cuisine Pty Ltd—Malouf’s Spice Mezza   \n",
       "1      Haigh's Manufacturing Pty Ltd—Haigh’s Aprichoc...   \n",
       "2      Coles Supermarkets Limited—Coles Deli 200g Spi...   \n",
       "3      2012 - Price Chopper Supermarkets Recalls Cent...   \n",
       "4                                      Coles Easter Eggs   \n",
       "...                                                  ...   \n",
       "11834  Quality Bakers Australia Pty Limited — Various...   \n",
       "11835  Gluten Free Bakehouse Pty Ltd — Various Zehnde...   \n",
       "11836  Tres Hermanos Bakery Issues Allergy Alert on U...   \n",
       "11837  Gold Coast Bakery Queensland Pty Ltd—Vogels—Fr...   \n",
       "11838  Woolworths Limited—Home brand white sliced san...   \n",
       "\n",
       "                                                    text hazard-category  \\\n",
       "0      PRA No. 2008/10424 Date Published Nov 7, 2008 ...       allergens   \n",
       "1      PRA No. 2011/12730 Publication Date Jul 11, 20...       allergens   \n",
       "2      PRA No. 2012/13032 Publication Date Feb 21, 20...       allergens   \n",
       "3      FOR IMMEDIATE RELEASE - October 21, 2012 - (Sc...       allergens   \n",
       "4      Coles Supermarkets Australia Pty Ltd recalled ...       allergens   \n",
       "...                                                  ...             ...   \n",
       "11834  PRA No. 2016/15657 Date published 29 Sep 2016 ...  foreign bodies   \n",
       "11835  PRA No. 2016/15603 Date published 18 Aug 2016 ...       allergens   \n",
       "11836  Wyoming, MI - Tres Hermanos Bakery of Wyoming,...       allergens   \n",
       "11837  PRA No. 2005/8073 Date published 27 Sep 2005 P...  foreign bodies   \n",
       "11838  PRA No. 2007/9622 Date published 1 Nov 2007 Pr...  foreign bodies   \n",
       "\n",
       "                                   product-category  \\\n",
       "0                                  herbs and spices   \n",
       "1      cocoa and cocoa preparations, coffee and tea   \n",
       "2              soups, broths, sauces and condiments   \n",
       "3                       cereals and bakery products   \n",
       "4      cocoa and cocoa preparations, coffee and tea   \n",
       "...                                             ...   \n",
       "11834                   cereals and bakery products   \n",
       "11835                   cereals and bakery products   \n",
       "11836                   cereals and bakery products   \n",
       "11837                   cereals and bakery products   \n",
       "11838                   cereals and bakery products   \n",
       "\n",
       "                              hazard         product  \n",
       "0                               nuts       spice mix  \n",
       "1                               nuts       chocolate  \n",
       "2                               nuts           sauce  \n",
       "3                               nuts           cakes  \n",
       "4                               nuts  chocolate eggs  \n",
       "...                              ...             ...  \n",
       "11834                 metal fragment           bread  \n",
       "11835  soybeans and products thereof           bread  \n",
       "11836      milk and products thereof           bread  \n",
       "11837               plastic fragment           bread  \n",
       "11838                 glass fragment           bread  \n",
       "\n",
       "[11839 rows x 11 columns]"
      ]
     },
     "execution_count": 15,
     "metadata": {},
     "output_type": "execute_result"
    }
   ],
   "source": [
    "balanced_df\n"
   ]
  },
  {
   "cell_type": "code",
   "execution_count": null,
   "metadata": {
    "id": "_0BXnM8kkFeD"
   },
   "outputs": [],
   "source": []
  }
 ],
 "metadata": {
  "accelerator": "GPU",
  "colab": {
   "gpuType": "A100",
   "provenance": []
  },
  "kernelspec": {
   "display_name": "Python 3",
   "name": "python3"
  },
  "language_info": {
   "name": "python"
  }
 },
 "nbformat": 4,
 "nbformat_minor": 0
}
